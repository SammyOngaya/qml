{
 "cells": [
  {
   "cell_type": "markdown",
   "metadata": {},
   "source": [
    "# Customer Segmentation"
   ]
  },
  {
   "cell_type": "markdown",
   "metadata": {},
   "source": [
    "Customer segmentation is grouping of customers based on varius properties that the customers share in common within your product or service.\n",
    "We can use any transactional infrmation to segment customers to distinct classes.\n",
    "\n",
    "<h5>Customer Segmentation Models</h5>\n",
    "\n",
    "1. Recency, Frequency, Monetary (RFM).<br>\n",
    "2. High-Value Customers (HVCs) based on RFM<br>\n",
    "3. Customer Status (Active or Inactive).<br>\n",
    "4. Demographic (gender,age, religion e.t.c).<br>\n",
    "5. Behaviour (spending habits, purchasing habits, browsing, habits, product rating, brand loyalty e.t.c).<br>\n",
    "6. Psychographic (beliefs, lifestyles, hobbies, values e.t.c).<br>\n",
    "7. Geographic (country, region, city e.t.c).\n",
    "\n",
    "<h5>Benefits of Customer Segmentation</h5>\n",
    "\n",
    "1. Marketing strategy.<br>\n",
    "2. Promotion strategy.<br>\n",
    "3. Budget efficiency.<br>\n",
    "4. Product developemnt.<br>\n",
    "5. Customer demand relevance.<br>\n",
    "6. Customer retention.<br>\n",
    "7. Branding strategy.<br>\n",
    "\n",
    "<a href=\"https://looker.com/blog/creating-actionable-customer-segmentation-models\">more details</a>\n"
   ]
  },
  {
   "cell_type": "markdown",
   "metadata": {},
   "source": [
    "## Import Required Libraries"
   ]
  },
  {
   "cell_type": "code",
   "execution_count": null,
   "metadata": {},
   "outputs": [],
   "source": []
  }
 ],
 "metadata": {
  "kernelspec": {
   "display_name": "Python 3",
   "language": "python",
   "name": "python3"
  },
  "language_info": {
   "codemirror_mode": {
    "name": "ipython",
    "version": 3
   },
   "file_extension": ".py",
   "mimetype": "text/x-python",
   "name": "python",
   "nbconvert_exporter": "python",
   "pygments_lexer": "ipython3",
   "version": "3.6.5"
  }
 },
 "nbformat": 4,
 "nbformat_minor": 2
}
