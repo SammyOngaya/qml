{
 "cells": [
  {
   "cell_type": "markdown",
   "metadata": {},
   "source": [
    "## Import required libraries"
   ]
  },
  {
   "cell_type": "code",
   "execution_count": 116,
   "metadata": {},
   "outputs": [],
   "source": [
    "# Dash dependencies import\n",
    "import dash\n",
    "import dash_core_components as dcc\n",
    "import dash_html_components as html\n",
    "import plotly.express as px\n",
    "import plotly.graph_objects as go\n",
    "from plotly.subplots import make_subplots\n",
    "import plotly.figure_factory as ff\n",
    "import pandas as pd\n",
    "import numpy as np\n",
    "import matplotlib.pyplot as plt\n",
    "px.defaults.template = \"ggplot2\"\n",
    "# End Dash dependencies import\n",
    "\n",
    "# Data preprocessing \n",
    "from sklearn.preprocessing import MinMaxScaler\n",
    "from sklearn.model_selection import train_test_split\n",
    "from imblearn.over_sampling import SMOTE\n",
    "# ML Algorithm\n",
    "from sklearn.pipeline import Pipeline\n",
    "from sklearn.model_selection import GridSearchCV\n",
    "from sklearn.ensemble import RandomForestClassifier\n",
    "from sklearn.linear_model import LogisticRegression\n",
    "from sklearn.svm import SVC\n",
    "# Model evaluation\n",
    "from sklearn.metrics import accuracy_score, precision_score, recall_score,f1_score,confusion_matrix,roc_curve,roc_auc_score\n",
    "# Save model\n",
    "import os\n",
    "import joblib"
   ]
  },
  {
   "cell_type": "markdown",
   "metadata": {},
   "source": [
    "## Load data"
   ]
  },
  {
   "cell_type": "code",
   "execution_count": 117,
   "metadata": {},
   "outputs": [],
   "source": [
    "df=pd.read_csv(\"../datasets/telco-customer-churn.csv\")"
   ]
  },
  {
   "cell_type": "markdown",
   "metadata": {},
   "source": [
    "## Explore data"
   ]
  },
  {
   "cell_type": "markdown",
   "metadata": {},
   "source": [
    "Peak first 5 records"
   ]
  },
  {
   "cell_type": "code",
   "execution_count": 118,
   "metadata": {},
   "outputs": [
    {
     "data": {
      "text/html": [
       "<div>\n",
       "<style scoped>\n",
       "    .dataframe tbody tr th:only-of-type {\n",
       "        vertical-align: middle;\n",
       "    }\n",
       "\n",
       "    .dataframe tbody tr th {\n",
       "        vertical-align: top;\n",
       "    }\n",
       "\n",
       "    .dataframe thead th {\n",
       "        text-align: right;\n",
       "    }\n",
       "</style>\n",
       "<table border=\"1\" class=\"dataframe\">\n",
       "  <thead>\n",
       "    <tr style=\"text-align: right;\">\n",
       "      <th></th>\n",
       "      <th>customerID</th>\n",
       "      <th>gender</th>\n",
       "      <th>SeniorCitizen</th>\n",
       "      <th>Partner</th>\n",
       "      <th>Dependents</th>\n",
       "      <th>tenure</th>\n",
       "      <th>PhoneService</th>\n",
       "      <th>MultipleLines</th>\n",
       "      <th>InternetService</th>\n",
       "      <th>OnlineSecurity</th>\n",
       "      <th>...</th>\n",
       "      <th>DeviceProtection</th>\n",
       "      <th>TechSupport</th>\n",
       "      <th>StreamingTV</th>\n",
       "      <th>StreamingMovies</th>\n",
       "      <th>Contract</th>\n",
       "      <th>PaperlessBilling</th>\n",
       "      <th>PaymentMethod</th>\n",
       "      <th>MonthlyCharges</th>\n",
       "      <th>TotalCharges</th>\n",
       "      <th>Churn</th>\n",
       "    </tr>\n",
       "  </thead>\n",
       "  <tbody>\n",
       "    <tr>\n",
       "      <th>0</th>\n",
       "      <td>7590-VHVEG</td>\n",
       "      <td>Female</td>\n",
       "      <td>0.0</td>\n",
       "      <td>Yes</td>\n",
       "      <td>No</td>\n",
       "      <td>1.0</td>\n",
       "      <td>No</td>\n",
       "      <td>No phone service</td>\n",
       "      <td>DSL</td>\n",
       "      <td>No</td>\n",
       "      <td>...</td>\n",
       "      <td>No</td>\n",
       "      <td>No</td>\n",
       "      <td>No</td>\n",
       "      <td>No</td>\n",
       "      <td>Month-to-month</td>\n",
       "      <td>Yes</td>\n",
       "      <td>Electronic check</td>\n",
       "      <td>29.85</td>\n",
       "      <td>29.85</td>\n",
       "      <td>No</td>\n",
       "    </tr>\n",
       "    <tr>\n",
       "      <th>1</th>\n",
       "      <td>5575-GNVDE</td>\n",
       "      <td>Male</td>\n",
       "      <td>0.0</td>\n",
       "      <td>No</td>\n",
       "      <td>No</td>\n",
       "      <td>34.0</td>\n",
       "      <td>Yes</td>\n",
       "      <td>No</td>\n",
       "      <td>DSL</td>\n",
       "      <td>Yes</td>\n",
       "      <td>...</td>\n",
       "      <td>Yes</td>\n",
       "      <td>No</td>\n",
       "      <td>No</td>\n",
       "      <td>No</td>\n",
       "      <td>One year</td>\n",
       "      <td>No</td>\n",
       "      <td>Mailed check</td>\n",
       "      <td>56.95</td>\n",
       "      <td>1889.5</td>\n",
       "      <td>No</td>\n",
       "    </tr>\n",
       "    <tr>\n",
       "      <th>2</th>\n",
       "      <td>3668-QPYBK</td>\n",
       "      <td>Male</td>\n",
       "      <td>0.0</td>\n",
       "      <td>No</td>\n",
       "      <td>No</td>\n",
       "      <td>2.0</td>\n",
       "      <td>Yes</td>\n",
       "      <td>No</td>\n",
       "      <td>DSL</td>\n",
       "      <td>Yes</td>\n",
       "      <td>...</td>\n",
       "      <td>No</td>\n",
       "      <td>No</td>\n",
       "      <td>No</td>\n",
       "      <td>No</td>\n",
       "      <td>Month-to-month</td>\n",
       "      <td>Yes</td>\n",
       "      <td>Mailed check</td>\n",
       "      <td>53.85</td>\n",
       "      <td>108.15</td>\n",
       "      <td>Yes</td>\n",
       "    </tr>\n",
       "    <tr>\n",
       "      <th>3</th>\n",
       "      <td>7795-CFOCW</td>\n",
       "      <td>Male</td>\n",
       "      <td>0.0</td>\n",
       "      <td>No</td>\n",
       "      <td>No</td>\n",
       "      <td>45.0</td>\n",
       "      <td>No</td>\n",
       "      <td>No phone service</td>\n",
       "      <td>DSL</td>\n",
       "      <td>Yes</td>\n",
       "      <td>...</td>\n",
       "      <td>Yes</td>\n",
       "      <td>Yes</td>\n",
       "      <td>No</td>\n",
       "      <td>No</td>\n",
       "      <td>One year</td>\n",
       "      <td>No</td>\n",
       "      <td>Bank transfer (automatic)</td>\n",
       "      <td>42.30</td>\n",
       "      <td>1840.75</td>\n",
       "      <td>No</td>\n",
       "    </tr>\n",
       "    <tr>\n",
       "      <th>4</th>\n",
       "      <td>9237-HQITU</td>\n",
       "      <td>Female</td>\n",
       "      <td>0.0</td>\n",
       "      <td>No</td>\n",
       "      <td>No</td>\n",
       "      <td>2.0</td>\n",
       "      <td>Yes</td>\n",
       "      <td>No</td>\n",
       "      <td>Fiber optic</td>\n",
       "      <td>No</td>\n",
       "      <td>...</td>\n",
       "      <td>No</td>\n",
       "      <td>No</td>\n",
       "      <td>No</td>\n",
       "      <td>No</td>\n",
       "      <td>Month-to-month</td>\n",
       "      <td>Yes</td>\n",
       "      <td>Electronic check</td>\n",
       "      <td>70.70</td>\n",
       "      <td>151.65</td>\n",
       "      <td>Yes</td>\n",
       "    </tr>\n",
       "  </tbody>\n",
       "</table>\n",
       "<p>5 rows × 21 columns</p>\n",
       "</div>"
      ],
      "text/plain": [
       "   customerID  gender  SeniorCitizen Partner Dependents  tenure PhoneService  \\\n",
       "0  7590-VHVEG  Female            0.0     Yes         No     1.0           No   \n",
       "1  5575-GNVDE    Male            0.0      No         No    34.0          Yes   \n",
       "2  3668-QPYBK    Male            0.0      No         No     2.0          Yes   \n",
       "3  7795-CFOCW    Male            0.0      No         No    45.0           No   \n",
       "4  9237-HQITU  Female            0.0      No         No     2.0          Yes   \n",
       "\n",
       "      MultipleLines InternetService OnlineSecurity  ... DeviceProtection  \\\n",
       "0  No phone service             DSL             No  ...               No   \n",
       "1                No             DSL            Yes  ...              Yes   \n",
       "2                No             DSL            Yes  ...               No   \n",
       "3  No phone service             DSL            Yes  ...              Yes   \n",
       "4                No     Fiber optic             No  ...               No   \n",
       "\n",
       "  TechSupport StreamingTV StreamingMovies        Contract PaperlessBilling  \\\n",
       "0          No          No              No  Month-to-month              Yes   \n",
       "1          No          No              No        One year               No   \n",
       "2          No          No              No  Month-to-month              Yes   \n",
       "3         Yes          No              No        One year               No   \n",
       "4          No          No              No  Month-to-month              Yes   \n",
       "\n",
       "               PaymentMethod MonthlyCharges  TotalCharges Churn  \n",
       "0           Electronic check          29.85         29.85    No  \n",
       "1               Mailed check          56.95        1889.5    No  \n",
       "2               Mailed check          53.85        108.15   Yes  \n",
       "3  Bank transfer (automatic)          42.30       1840.75    No  \n",
       "4           Electronic check          70.70        151.65   Yes  \n",
       "\n",
       "[5 rows x 21 columns]"
      ]
     },
     "execution_count": 118,
     "metadata": {},
     "output_type": "execute_result"
    }
   ],
   "source": [
    "df.head()"
   ]
  },
  {
   "cell_type": "code",
   "execution_count": 119,
   "metadata": {},
   "outputs": [
    {
     "data": {
      "text/plain": [
       "Index(['customerID', 'gender', 'SeniorCitizen', 'Partner', 'Dependents',\n",
       "       'tenure', 'PhoneService', 'MultipleLines', 'InternetService',\n",
       "       'OnlineSecurity', 'OnlineBackup', 'DeviceProtection', 'TechSupport',\n",
       "       'StreamingTV', 'StreamingMovies', 'Contract', 'PaperlessBilling',\n",
       "       'PaymentMethod', 'MonthlyCharges', 'TotalCharges', 'Churn'],\n",
       "      dtype='object')"
      ]
     },
     "execution_count": 119,
     "metadata": {},
     "output_type": "execute_result"
    }
   ],
   "source": [
    "df.columns"
   ]
  },
  {
   "cell_type": "code",
   "execution_count": 120,
   "metadata": {},
   "outputs": [],
   "source": [
    "df.head(1).to_json('sample_data.json')"
   ]
  },
  {
   "cell_type": "markdown",
   "metadata": {},
   "source": [
    "Check records and features"
   ]
  },
  {
   "cell_type": "code",
   "execution_count": 121,
   "metadata": {},
   "outputs": [
    {
     "data": {
      "text/plain": [
       "(2244, 21)"
      ]
     },
     "execution_count": 121,
     "metadata": {},
     "output_type": "execute_result"
    }
   ],
   "source": [
    "df.shape"
   ]
  },
  {
   "cell_type": "markdown",
   "metadata": {},
   "source": [
    "Convert Data Types"
   ]
  },
  {
   "cell_type": "code",
   "execution_count": 122,
   "metadata": {},
   "outputs": [
    {
     "data": {
      "text/plain": [
       "customerID           object\n",
       "gender               object\n",
       "SeniorCitizen       float64\n",
       "Partner              object\n",
       "Dependents           object\n",
       "tenure              float64\n",
       "PhoneService         object\n",
       "MultipleLines        object\n",
       "InternetService      object\n",
       "OnlineSecurity       object\n",
       "OnlineBackup         object\n",
       "DeviceProtection     object\n",
       "TechSupport          object\n",
       "StreamingTV          object\n",
       "StreamingMovies      object\n",
       "Contract             object\n",
       "PaperlessBilling     object\n",
       "PaymentMethod        object\n",
       "MonthlyCharges      float64\n",
       "TotalCharges         object\n",
       "Churn                object\n",
       "dtype: object"
      ]
     },
     "execution_count": 122,
     "metadata": {},
     "output_type": "execute_result"
    }
   ],
   "source": [
    "df.dtypes"
   ]
  },
  {
   "cell_type": "code",
   "execution_count": 123,
   "metadata": {},
   "outputs": [],
   "source": [
    "df['TotalCharges']=pd.to_numeric(df['TotalCharges'], errors='coerce')"
   ]
  },
  {
   "cell_type": "code",
   "execution_count": 124,
   "metadata": {},
   "outputs": [
    {
     "data": {
      "text/plain": [
       "customerID           object\n",
       "gender               object\n",
       "SeniorCitizen       float64\n",
       "Partner              object\n",
       "Dependents           object\n",
       "tenure              float64\n",
       "PhoneService         object\n",
       "MultipleLines        object\n",
       "InternetService      object\n",
       "OnlineSecurity       object\n",
       "OnlineBackup         object\n",
       "DeviceProtection     object\n",
       "TechSupport          object\n",
       "StreamingTV          object\n",
       "StreamingMovies      object\n",
       "Contract             object\n",
       "PaperlessBilling     object\n",
       "PaymentMethod        object\n",
       "MonthlyCharges      float64\n",
       "TotalCharges        float64\n",
       "Churn                object\n",
       "dtype: object"
      ]
     },
     "execution_count": 124,
     "metadata": {},
     "output_type": "execute_result"
    }
   ],
   "source": [
    "df.dtypes"
   ]
  },
  {
   "cell_type": "markdown",
   "metadata": {},
   "source": [
    "Total Customers"
   ]
  },
  {
   "cell_type": "code",
   "execution_count": 125,
   "metadata": {},
   "outputs": [
    {
     "data": {
      "text/plain": [
       "2244"
      ]
     },
     "execution_count": 125,
     "metadata": {},
     "output_type": "execute_result"
    }
   ],
   "source": [
    "df.shape[0]"
   ]
  },
  {
   "cell_type": "markdown",
   "metadata": {},
   "source": [
    "Customers Churned"
   ]
  },
  {
   "cell_type": "code",
   "execution_count": 126,
   "metadata": {},
   "outputs": [
    {
     "data": {
      "text/plain": [
       "589"
      ]
     },
     "execution_count": 126,
     "metadata": {},
     "output_type": "execute_result"
    }
   ],
   "source": [
    "df[df['Churn']=='Yes']['customerID'].count()"
   ]
  },
  {
   "cell_type": "markdown",
   "metadata": {},
   "source": [
    "Remained Customers"
   ]
  },
  {
   "cell_type": "code",
   "execution_count": 127,
   "metadata": {},
   "outputs": [
    {
     "data": {
      "text/plain": [
       "1654"
      ]
     },
     "execution_count": 127,
     "metadata": {},
     "output_type": "execute_result"
    }
   ],
   "source": [
    "df[df['Churn']=='No']['customerID'].count()"
   ]
  },
  {
   "cell_type": "markdown",
   "metadata": {},
   "source": [
    "Churned Customer Revenue"
   ]
  },
  {
   "cell_type": "code",
   "execution_count": 128,
   "metadata": {},
   "outputs": [
    {
     "data": {
      "text/plain": [
       "897135.8"
      ]
     },
     "execution_count": 128,
     "metadata": {},
     "output_type": "execute_result"
    }
   ],
   "source": [
    "df[df['Churn']=='Yes']['TotalCharges'].sum()"
   ]
  },
  {
   "cell_type": "markdown",
   "metadata": {},
   "source": [
    "Remained Customer Revenue"
   ]
  },
  {
   "cell_type": "code",
   "execution_count": 129,
   "metadata": {},
   "outputs": [
    {
     "data": {
      "text/plain": [
       "4231231.65"
      ]
     },
     "execution_count": 129,
     "metadata": {},
     "output_type": "execute_result"
    }
   ],
   "source": [
    "df[df['Churn']=='No']['TotalCharges'].sum()"
   ]
  },
  {
   "cell_type": "markdown",
   "metadata": {},
   "source": [
    "Statistical Summary"
   ]
  },
  {
   "cell_type": "code",
   "execution_count": 130,
   "metadata": {},
   "outputs": [
    {
     "data": {
      "text/html": [
       "<div>\n",
       "<style scoped>\n",
       "    .dataframe tbody tr th:only-of-type {\n",
       "        vertical-align: middle;\n",
       "    }\n",
       "\n",
       "    .dataframe tbody tr th {\n",
       "        vertical-align: top;\n",
       "    }\n",
       "\n",
       "    .dataframe thead th {\n",
       "        text-align: right;\n",
       "    }\n",
       "</style>\n",
       "<table border=\"1\" class=\"dataframe\">\n",
       "  <thead>\n",
       "    <tr style=\"text-align: right;\">\n",
       "      <th></th>\n",
       "      <th>Metric</th>\n",
       "      <th>Tenure</th>\n",
       "      <th>MonthlyCharges</th>\n",
       "      <th>TotalCharges</th>\n",
       "    </tr>\n",
       "  </thead>\n",
       "  <tbody>\n",
       "    <tr>\n",
       "      <th>0</th>\n",
       "      <td>count</td>\n",
       "      <td>2243.000000</td>\n",
       "      <td>2243.000000</td>\n",
       "      <td>2238.000000</td>\n",
       "    </tr>\n",
       "    <tr>\n",
       "      <th>1</th>\n",
       "      <td>mean</td>\n",
       "      <td>32.398128</td>\n",
       "      <td>65.365916</td>\n",
       "      <td>2291.495733</td>\n",
       "    </tr>\n",
       "    <tr>\n",
       "      <th>2</th>\n",
       "      <td>std</td>\n",
       "      <td>24.584209</td>\n",
       "      <td>29.837483</td>\n",
       "      <td>2251.815762</td>\n",
       "    </tr>\n",
       "    <tr>\n",
       "      <th>3</th>\n",
       "      <td>min</td>\n",
       "      <td>0.000000</td>\n",
       "      <td>18.400000</td>\n",
       "      <td>18.800000</td>\n",
       "    </tr>\n",
       "    <tr>\n",
       "      <th>4</th>\n",
       "      <td>25%</td>\n",
       "      <td>9.000000</td>\n",
       "      <td>39.550000</td>\n",
       "      <td>413.525000</td>\n",
       "    </tr>\n",
       "    <tr>\n",
       "      <th>5</th>\n",
       "      <td>50%</td>\n",
       "      <td>29.000000</td>\n",
       "      <td>71.150000</td>\n",
       "      <td>1415.425000</td>\n",
       "    </tr>\n",
       "    <tr>\n",
       "      <th>6</th>\n",
       "      <td>75%</td>\n",
       "      <td>56.000000</td>\n",
       "      <td>89.850000</td>\n",
       "      <td>3870.287500</td>\n",
       "    </tr>\n",
       "    <tr>\n",
       "      <th>7</th>\n",
       "      <td>max</td>\n",
       "      <td>72.000000</td>\n",
       "      <td>118.650000</td>\n",
       "      <td>8564.750000</td>\n",
       "    </tr>\n",
       "  </tbody>\n",
       "</table>\n",
       "</div>"
      ],
      "text/plain": [
       "  Metric       Tenure  MonthlyCharges  TotalCharges\n",
       "0  count  2243.000000     2243.000000   2238.000000\n",
       "1   mean    32.398128       65.365916   2291.495733\n",
       "2    std    24.584209       29.837483   2251.815762\n",
       "3    min     0.000000       18.400000     18.800000\n",
       "4    25%     9.000000       39.550000    413.525000\n",
       "5    50%    29.000000       71.150000   1415.425000\n",
       "6    75%    56.000000       89.850000   3870.287500\n",
       "7    max    72.000000      118.650000   8564.750000"
      ]
     },
     "execution_count": 130,
     "metadata": {},
     "output_type": "execute_result"
    }
   ],
   "source": [
    "data_summary_df=pd.DataFrame(df.describe())\n",
    "data_summary_df.reset_index(level=0, inplace=True)\n",
    "data_summary_df=data_summary_df.drop(columns='SeniorCitizen')\n",
    "data_summary_df.columns=['Metric','Tenure','MonthlyCharges','TotalCharges']\n",
    "data_summary_df"
   ]
  },
  {
   "cell_type": "code",
   "execution_count": 131,
   "metadata": {},
   "outputs": [
    {
     "data": {
      "application/vnd.plotly.v1+json": {
       "config": {
        "plotlyServerURL": "https://plot.ly"
       },
       "data": [
        {
         "cells": {
          "align": "left",
          "fill": {
           "color": "lavender"
          },
          "values": [
           [
            "count",
            "mean",
            "std",
            "min",
            "25%",
            "50%",
            "75%",
            "max"
           ],
           [
            2243,
            32.39812750780205,
            24.58420937594474,
            0,
            9,
            29,
            56,
            72
           ],
           [
            2243,
            65.36591618368273,
            29.837483361996988,
            18.4,
            39.55,
            71.15,
            89.85,
            118.65
           ],
           [
            2238,
            2291.495732797139,
            2251.8157620703196,
            18.8,
            413.525,
            1415.425,
            3870.2875,
            8564.75
           ]
          ]
         },
         "header": {
          "align": "left",
          "fill": {
           "color": "paleturquoise"
          },
          "values": [
           "Metric",
           "Tenure",
           "MonthlyCharges",
           "TotalCharges"
          ]
         },
         "type": "table"
        }
       ],
       "layout": {
        "autosize": true,
        "height": 350,
        "margin": {
         "b": 0,
         "l": 0,
         "r": 0,
         "t": 0
        },
        "showlegend": false,
        "template": {
         "data": {
          "bar": [
           {
            "error_x": {
             "color": "#2a3f5f"
            },
            "error_y": {
             "color": "#2a3f5f"
            },
            "marker": {
             "line": {
              "color": "#E5ECF6",
              "width": 0.5
             }
            },
            "type": "bar"
           }
          ],
          "barpolar": [
           {
            "marker": {
             "line": {
              "color": "#E5ECF6",
              "width": 0.5
             }
            },
            "type": "barpolar"
           }
          ],
          "carpet": [
           {
            "aaxis": {
             "endlinecolor": "#2a3f5f",
             "gridcolor": "white",
             "linecolor": "white",
             "minorgridcolor": "white",
             "startlinecolor": "#2a3f5f"
            },
            "baxis": {
             "endlinecolor": "#2a3f5f",
             "gridcolor": "white",
             "linecolor": "white",
             "minorgridcolor": "white",
             "startlinecolor": "#2a3f5f"
            },
            "type": "carpet"
           }
          ],
          "choropleth": [
           {
            "colorbar": {
             "outlinewidth": 0,
             "ticks": ""
            },
            "type": "choropleth"
           }
          ],
          "contour": [
           {
            "colorbar": {
             "outlinewidth": 0,
             "ticks": ""
            },
            "colorscale": [
             [
              0,
              "#0d0887"
             ],
             [
              0.1111111111111111,
              "#46039f"
             ],
             [
              0.2222222222222222,
              "#7201a8"
             ],
             [
              0.3333333333333333,
              "#9c179e"
             ],
             [
              0.4444444444444444,
              "#bd3786"
             ],
             [
              0.5555555555555556,
              "#d8576b"
             ],
             [
              0.6666666666666666,
              "#ed7953"
             ],
             [
              0.7777777777777778,
              "#fb9f3a"
             ],
             [
              0.8888888888888888,
              "#fdca26"
             ],
             [
              1,
              "#f0f921"
             ]
            ],
            "type": "contour"
           }
          ],
          "contourcarpet": [
           {
            "colorbar": {
             "outlinewidth": 0,
             "ticks": ""
            },
            "type": "contourcarpet"
           }
          ],
          "heatmap": [
           {
            "colorbar": {
             "outlinewidth": 0,
             "ticks": ""
            },
            "colorscale": [
             [
              0,
              "#0d0887"
             ],
             [
              0.1111111111111111,
              "#46039f"
             ],
             [
              0.2222222222222222,
              "#7201a8"
             ],
             [
              0.3333333333333333,
              "#9c179e"
             ],
             [
              0.4444444444444444,
              "#bd3786"
             ],
             [
              0.5555555555555556,
              "#d8576b"
             ],
             [
              0.6666666666666666,
              "#ed7953"
             ],
             [
              0.7777777777777778,
              "#fb9f3a"
             ],
             [
              0.8888888888888888,
              "#fdca26"
             ],
             [
              1,
              "#f0f921"
             ]
            ],
            "type": "heatmap"
           }
          ],
          "heatmapgl": [
           {
            "colorbar": {
             "outlinewidth": 0,
             "ticks": ""
            },
            "colorscale": [
             [
              0,
              "#0d0887"
             ],
             [
              0.1111111111111111,
              "#46039f"
             ],
             [
              0.2222222222222222,
              "#7201a8"
             ],
             [
              0.3333333333333333,
              "#9c179e"
             ],
             [
              0.4444444444444444,
              "#bd3786"
             ],
             [
              0.5555555555555556,
              "#d8576b"
             ],
             [
              0.6666666666666666,
              "#ed7953"
             ],
             [
              0.7777777777777778,
              "#fb9f3a"
             ],
             [
              0.8888888888888888,
              "#fdca26"
             ],
             [
              1,
              "#f0f921"
             ]
            ],
            "type": "heatmapgl"
           }
          ],
          "histogram": [
           {
            "marker": {
             "colorbar": {
              "outlinewidth": 0,
              "ticks": ""
             }
            },
            "type": "histogram"
           }
          ],
          "histogram2d": [
           {
            "colorbar": {
             "outlinewidth": 0,
             "ticks": ""
            },
            "colorscale": [
             [
              0,
              "#0d0887"
             ],
             [
              0.1111111111111111,
              "#46039f"
             ],
             [
              0.2222222222222222,
              "#7201a8"
             ],
             [
              0.3333333333333333,
              "#9c179e"
             ],
             [
              0.4444444444444444,
              "#bd3786"
             ],
             [
              0.5555555555555556,
              "#d8576b"
             ],
             [
              0.6666666666666666,
              "#ed7953"
             ],
             [
              0.7777777777777778,
              "#fb9f3a"
             ],
             [
              0.8888888888888888,
              "#fdca26"
             ],
             [
              1,
              "#f0f921"
             ]
            ],
            "type": "histogram2d"
           }
          ],
          "histogram2dcontour": [
           {
            "colorbar": {
             "outlinewidth": 0,
             "ticks": ""
            },
            "colorscale": [
             [
              0,
              "#0d0887"
             ],
             [
              0.1111111111111111,
              "#46039f"
             ],
             [
              0.2222222222222222,
              "#7201a8"
             ],
             [
              0.3333333333333333,
              "#9c179e"
             ],
             [
              0.4444444444444444,
              "#bd3786"
             ],
             [
              0.5555555555555556,
              "#d8576b"
             ],
             [
              0.6666666666666666,
              "#ed7953"
             ],
             [
              0.7777777777777778,
              "#fb9f3a"
             ],
             [
              0.8888888888888888,
              "#fdca26"
             ],
             [
              1,
              "#f0f921"
             ]
            ],
            "type": "histogram2dcontour"
           }
          ],
          "mesh3d": [
           {
            "colorbar": {
             "outlinewidth": 0,
             "ticks": ""
            },
            "type": "mesh3d"
           }
          ],
          "parcoords": [
           {
            "line": {
             "colorbar": {
              "outlinewidth": 0,
              "ticks": ""
             }
            },
            "type": "parcoords"
           }
          ],
          "pie": [
           {
            "automargin": true,
            "type": "pie"
           }
          ],
          "scatter": [
           {
            "marker": {
             "colorbar": {
              "outlinewidth": 0,
              "ticks": ""
             }
            },
            "type": "scatter"
           }
          ],
          "scatter3d": [
           {
            "line": {
             "colorbar": {
              "outlinewidth": 0,
              "ticks": ""
             }
            },
            "marker": {
             "colorbar": {
              "outlinewidth": 0,
              "ticks": ""
             }
            },
            "type": "scatter3d"
           }
          ],
          "scattercarpet": [
           {
            "marker": {
             "colorbar": {
              "outlinewidth": 0,
              "ticks": ""
             }
            },
            "type": "scattercarpet"
           }
          ],
          "scattergeo": [
           {
            "marker": {
             "colorbar": {
              "outlinewidth": 0,
              "ticks": ""
             }
            },
            "type": "scattergeo"
           }
          ],
          "scattergl": [
           {
            "marker": {
             "colorbar": {
              "outlinewidth": 0,
              "ticks": ""
             }
            },
            "type": "scattergl"
           }
          ],
          "scattermapbox": [
           {
            "marker": {
             "colorbar": {
              "outlinewidth": 0,
              "ticks": ""
             }
            },
            "type": "scattermapbox"
           }
          ],
          "scatterpolar": [
           {
            "marker": {
             "colorbar": {
              "outlinewidth": 0,
              "ticks": ""
             }
            },
            "type": "scatterpolar"
           }
          ],
          "scatterpolargl": [
           {
            "marker": {
             "colorbar": {
              "outlinewidth": 0,
              "ticks": ""
             }
            },
            "type": "scatterpolargl"
           }
          ],
          "scatterternary": [
           {
            "marker": {
             "colorbar": {
              "outlinewidth": 0,
              "ticks": ""
             }
            },
            "type": "scatterternary"
           }
          ],
          "surface": [
           {
            "colorbar": {
             "outlinewidth": 0,
             "ticks": ""
            },
            "colorscale": [
             [
              0,
              "#0d0887"
             ],
             [
              0.1111111111111111,
              "#46039f"
             ],
             [
              0.2222222222222222,
              "#7201a8"
             ],
             [
              0.3333333333333333,
              "#9c179e"
             ],
             [
              0.4444444444444444,
              "#bd3786"
             ],
             [
              0.5555555555555556,
              "#d8576b"
             ],
             [
              0.6666666666666666,
              "#ed7953"
             ],
             [
              0.7777777777777778,
              "#fb9f3a"
             ],
             [
              0.8888888888888888,
              "#fdca26"
             ],
             [
              1,
              "#f0f921"
             ]
            ],
            "type": "surface"
           }
          ],
          "table": [
           {
            "cells": {
             "fill": {
              "color": "#EBF0F8"
             },
             "line": {
              "color": "white"
             }
            },
            "header": {
             "fill": {
              "color": "#C8D4E3"
             },
             "line": {
              "color": "white"
             }
            },
            "type": "table"
           }
          ]
         },
         "layout": {
          "annotationdefaults": {
           "arrowcolor": "#2a3f5f",
           "arrowhead": 0,
           "arrowwidth": 1
          },
          "autotypenumbers": "strict",
          "coloraxis": {
           "colorbar": {
            "outlinewidth": 0,
            "ticks": ""
           }
          },
          "colorscale": {
           "diverging": [
            [
             0,
             "#8e0152"
            ],
            [
             0.1,
             "#c51b7d"
            ],
            [
             0.2,
             "#de77ae"
            ],
            [
             0.3,
             "#f1b6da"
            ],
            [
             0.4,
             "#fde0ef"
            ],
            [
             0.5,
             "#f7f7f7"
            ],
            [
             0.6,
             "#e6f5d0"
            ],
            [
             0.7,
             "#b8e186"
            ],
            [
             0.8,
             "#7fbc41"
            ],
            [
             0.9,
             "#4d9221"
            ],
            [
             1,
             "#276419"
            ]
           ],
           "sequential": [
            [
             0,
             "#0d0887"
            ],
            [
             0.1111111111111111,
             "#46039f"
            ],
            [
             0.2222222222222222,
             "#7201a8"
            ],
            [
             0.3333333333333333,
             "#9c179e"
            ],
            [
             0.4444444444444444,
             "#bd3786"
            ],
            [
             0.5555555555555556,
             "#d8576b"
            ],
            [
             0.6666666666666666,
             "#ed7953"
            ],
            [
             0.7777777777777778,
             "#fb9f3a"
            ],
            [
             0.8888888888888888,
             "#fdca26"
            ],
            [
             1,
             "#f0f921"
            ]
           ],
           "sequentialminus": [
            [
             0,
             "#0d0887"
            ],
            [
             0.1111111111111111,
             "#46039f"
            ],
            [
             0.2222222222222222,
             "#7201a8"
            ],
            [
             0.3333333333333333,
             "#9c179e"
            ],
            [
             0.4444444444444444,
             "#bd3786"
            ],
            [
             0.5555555555555556,
             "#d8576b"
            ],
            [
             0.6666666666666666,
             "#ed7953"
            ],
            [
             0.7777777777777778,
             "#fb9f3a"
            ],
            [
             0.8888888888888888,
             "#fdca26"
            ],
            [
             1,
             "#f0f921"
            ]
           ]
          },
          "colorway": [
           "#636efa",
           "#EF553B",
           "#00cc96",
           "#ab63fa",
           "#FFA15A",
           "#19d3f3",
           "#FF6692",
           "#B6E880",
           "#FF97FF",
           "#FECB52"
          ],
          "font": {
           "color": "#2a3f5f"
          },
          "geo": {
           "bgcolor": "white",
           "lakecolor": "white",
           "landcolor": "#E5ECF6",
           "showlakes": true,
           "showland": true,
           "subunitcolor": "white"
          },
          "hoverlabel": {
           "align": "left"
          },
          "hovermode": "closest",
          "mapbox": {
           "style": "light"
          },
          "paper_bgcolor": "white",
          "plot_bgcolor": "#E5ECF6",
          "polar": {
           "angularaxis": {
            "gridcolor": "white",
            "linecolor": "white",
            "ticks": ""
           },
           "bgcolor": "#E5ECF6",
           "radialaxis": {
            "gridcolor": "white",
            "linecolor": "white",
            "ticks": ""
           }
          },
          "scene": {
           "xaxis": {
            "backgroundcolor": "#E5ECF6",
            "gridcolor": "white",
            "gridwidth": 2,
            "linecolor": "white",
            "showbackground": true,
            "ticks": "",
            "zerolinecolor": "white"
           },
           "yaxis": {
            "backgroundcolor": "#E5ECF6",
            "gridcolor": "white",
            "gridwidth": 2,
            "linecolor": "white",
            "showbackground": true,
            "ticks": "",
            "zerolinecolor": "white"
           },
           "zaxis": {
            "backgroundcolor": "#E5ECF6",
            "gridcolor": "white",
            "gridwidth": 2,
            "linecolor": "white",
            "showbackground": true,
            "ticks": "",
            "zerolinecolor": "white"
           }
          },
          "shapedefaults": {
           "line": {
            "color": "#2a3f5f"
           }
          },
          "ternary": {
           "aaxis": {
            "gridcolor": "white",
            "linecolor": "white",
            "ticks": ""
           },
           "baxis": {
            "gridcolor": "white",
            "linecolor": "white",
            "ticks": ""
           },
           "bgcolor": "#E5ECF6",
           "caxis": {
            "gridcolor": "white",
            "linecolor": "white",
            "ticks": ""
           }
          },
          "title": {
           "x": 0.05
          },
          "xaxis": {
           "automargin": true,
           "gridcolor": "white",
           "linecolor": "white",
           "ticks": "",
           "title": {
            "standoff": 15
           },
           "zerolinecolor": "white",
           "zerolinewidth": 2
          },
          "yaxis": {
           "automargin": true,
           "gridcolor": "white",
           "linecolor": "white",
           "ticks": "",
           "title": {
            "standoff": 15
           },
           "zerolinecolor": "white",
           "zerolinewidth": 2
          }
         }
        }
       }
      },
      "text/html": [
       "<div>                            <div id=\"a6519c8e-9fcb-45ae-a4ae-48f84b4ed0cf\" class=\"plotly-graph-div\" style=\"height:350px; width:100%;\"></div>            <script type=\"text/javascript\">                require([\"plotly\"], function(Plotly) {                    window.PLOTLYENV=window.PLOTLYENV || {};                                    if (document.getElementById(\"a6519c8e-9fcb-45ae-a4ae-48f84b4ed0cf\")) {                    Plotly.newPlot(                        \"a6519c8e-9fcb-45ae-a4ae-48f84b4ed0cf\",                        [{\"cells\": {\"align\": \"left\", \"fill\": {\"color\": \"lavender\"}, \"values\": [[\"count\", \"mean\", \"std\", \"min\", \"25%\", \"50%\", \"75%\", \"max\"], [2243.0, 32.39812750780205, 24.58420937594474, 0.0, 9.0, 29.0, 56.0, 72.0], [2243.0, 65.36591618368273, 29.837483361996988, 18.4, 39.55, 71.15, 89.85, 118.65], [2238.0, 2291.495732797139, 2251.8157620703196, 18.8, 413.525, 1415.425, 3870.2875, 8564.75]]}, \"header\": {\"align\": \"left\", \"fill\": {\"color\": \"paleturquoise\"}, \"values\": [\"Metric\", \"Tenure\", \"MonthlyCharges\", \"TotalCharges\"]}, \"type\": \"table\"}],                        {\"autosize\": true, \"height\": 350, \"margin\": {\"b\": 0, \"l\": 0, \"r\": 0, \"t\": 0}, \"showlegend\": false, \"template\": {\"data\": {\"bar\": [{\"error_x\": {\"color\": \"#2a3f5f\"}, \"error_y\": {\"color\": \"#2a3f5f\"}, \"marker\": {\"line\": {\"color\": \"#E5ECF6\", \"width\": 0.5}}, \"type\": \"bar\"}], \"barpolar\": [{\"marker\": {\"line\": {\"color\": \"#E5ECF6\", \"width\": 0.5}}, \"type\": \"barpolar\"}], \"carpet\": [{\"aaxis\": {\"endlinecolor\": \"#2a3f5f\", \"gridcolor\": \"white\", \"linecolor\": \"white\", \"minorgridcolor\": \"white\", \"startlinecolor\": \"#2a3f5f\"}, \"baxis\": {\"endlinecolor\": \"#2a3f5f\", \"gridcolor\": \"white\", \"linecolor\": \"white\", \"minorgridcolor\": \"white\", \"startlinecolor\": \"#2a3f5f\"}, \"type\": \"carpet\"}], \"choropleth\": [{\"colorbar\": {\"outlinewidth\": 0, \"ticks\": \"\"}, \"type\": \"choropleth\"}], \"contour\": [{\"colorbar\": {\"outlinewidth\": 0, \"ticks\": \"\"}, \"colorscale\": [[0.0, \"#0d0887\"], [0.1111111111111111, \"#46039f\"], [0.2222222222222222, \"#7201a8\"], [0.3333333333333333, \"#9c179e\"], [0.4444444444444444, \"#bd3786\"], [0.5555555555555556, \"#d8576b\"], [0.6666666666666666, \"#ed7953\"], [0.7777777777777778, \"#fb9f3a\"], [0.8888888888888888, \"#fdca26\"], [1.0, \"#f0f921\"]], \"type\": \"contour\"}], \"contourcarpet\": [{\"colorbar\": {\"outlinewidth\": 0, \"ticks\": \"\"}, \"type\": \"contourcarpet\"}], \"heatmap\": [{\"colorbar\": {\"outlinewidth\": 0, \"ticks\": \"\"}, \"colorscale\": [[0.0, \"#0d0887\"], [0.1111111111111111, \"#46039f\"], [0.2222222222222222, \"#7201a8\"], [0.3333333333333333, \"#9c179e\"], [0.4444444444444444, \"#bd3786\"], [0.5555555555555556, \"#d8576b\"], [0.6666666666666666, \"#ed7953\"], [0.7777777777777778, \"#fb9f3a\"], [0.8888888888888888, \"#fdca26\"], [1.0, \"#f0f921\"]], \"type\": \"heatmap\"}], \"heatmapgl\": [{\"colorbar\": {\"outlinewidth\": 0, \"ticks\": \"\"}, \"colorscale\": [[0.0, \"#0d0887\"], [0.1111111111111111, \"#46039f\"], [0.2222222222222222, \"#7201a8\"], [0.3333333333333333, \"#9c179e\"], [0.4444444444444444, \"#bd3786\"], [0.5555555555555556, \"#d8576b\"], [0.6666666666666666, \"#ed7953\"], [0.7777777777777778, \"#fb9f3a\"], [0.8888888888888888, \"#fdca26\"], [1.0, \"#f0f921\"]], \"type\": \"heatmapgl\"}], \"histogram\": [{\"marker\": {\"colorbar\": {\"outlinewidth\": 0, \"ticks\": \"\"}}, \"type\": \"histogram\"}], \"histogram2d\": [{\"colorbar\": {\"outlinewidth\": 0, \"ticks\": \"\"}, \"colorscale\": [[0.0, \"#0d0887\"], [0.1111111111111111, \"#46039f\"], [0.2222222222222222, \"#7201a8\"], [0.3333333333333333, \"#9c179e\"], [0.4444444444444444, \"#bd3786\"], [0.5555555555555556, \"#d8576b\"], [0.6666666666666666, \"#ed7953\"], [0.7777777777777778, \"#fb9f3a\"], [0.8888888888888888, \"#fdca26\"], [1.0, \"#f0f921\"]], \"type\": \"histogram2d\"}], \"histogram2dcontour\": [{\"colorbar\": {\"outlinewidth\": 0, \"ticks\": \"\"}, \"colorscale\": [[0.0, \"#0d0887\"], [0.1111111111111111, \"#46039f\"], [0.2222222222222222, \"#7201a8\"], [0.3333333333333333, \"#9c179e\"], [0.4444444444444444, \"#bd3786\"], [0.5555555555555556, \"#d8576b\"], [0.6666666666666666, \"#ed7953\"], [0.7777777777777778, \"#fb9f3a\"], [0.8888888888888888, \"#fdca26\"], [1.0, \"#f0f921\"]], \"type\": \"histogram2dcontour\"}], \"mesh3d\": [{\"colorbar\": {\"outlinewidth\": 0, \"ticks\": \"\"}, \"type\": \"mesh3d\"}], \"parcoords\": [{\"line\": {\"colorbar\": {\"outlinewidth\": 0, \"ticks\": \"\"}}, \"type\": \"parcoords\"}], \"pie\": [{\"automargin\": true, \"type\": \"pie\"}], \"scatter\": [{\"marker\": {\"colorbar\": {\"outlinewidth\": 0, \"ticks\": \"\"}}, \"type\": \"scatter\"}], \"scatter3d\": [{\"line\": {\"colorbar\": {\"outlinewidth\": 0, \"ticks\": \"\"}}, \"marker\": {\"colorbar\": {\"outlinewidth\": 0, \"ticks\": \"\"}}, \"type\": \"scatter3d\"}], \"scattercarpet\": [{\"marker\": {\"colorbar\": {\"outlinewidth\": 0, \"ticks\": \"\"}}, \"type\": \"scattercarpet\"}], \"scattergeo\": [{\"marker\": {\"colorbar\": {\"outlinewidth\": 0, \"ticks\": \"\"}}, \"type\": \"scattergeo\"}], \"scattergl\": [{\"marker\": {\"colorbar\": {\"outlinewidth\": 0, \"ticks\": \"\"}}, \"type\": \"scattergl\"}], \"scattermapbox\": [{\"marker\": {\"colorbar\": {\"outlinewidth\": 0, \"ticks\": \"\"}}, \"type\": \"scattermapbox\"}], \"scatterpolar\": [{\"marker\": {\"colorbar\": {\"outlinewidth\": 0, \"ticks\": \"\"}}, \"type\": \"scatterpolar\"}], \"scatterpolargl\": [{\"marker\": {\"colorbar\": {\"outlinewidth\": 0, \"ticks\": \"\"}}, \"type\": \"scatterpolargl\"}], \"scatterternary\": [{\"marker\": {\"colorbar\": {\"outlinewidth\": 0, \"ticks\": \"\"}}, \"type\": \"scatterternary\"}], \"surface\": [{\"colorbar\": {\"outlinewidth\": 0, \"ticks\": \"\"}, \"colorscale\": [[0.0, \"#0d0887\"], [0.1111111111111111, \"#46039f\"], [0.2222222222222222, \"#7201a8\"], [0.3333333333333333, \"#9c179e\"], [0.4444444444444444, \"#bd3786\"], [0.5555555555555556, \"#d8576b\"], [0.6666666666666666, \"#ed7953\"], [0.7777777777777778, \"#fb9f3a\"], [0.8888888888888888, \"#fdca26\"], [1.0, \"#f0f921\"]], \"type\": \"surface\"}], \"table\": [{\"cells\": {\"fill\": {\"color\": \"#EBF0F8\"}, \"line\": {\"color\": \"white\"}}, \"header\": {\"fill\": {\"color\": \"#C8D4E3\"}, \"line\": {\"color\": \"white\"}}, \"type\": \"table\"}]}, \"layout\": {\"annotationdefaults\": {\"arrowcolor\": \"#2a3f5f\", \"arrowhead\": 0, \"arrowwidth\": 1}, \"autotypenumbers\": \"strict\", \"coloraxis\": {\"colorbar\": {\"outlinewidth\": 0, \"ticks\": \"\"}}, \"colorscale\": {\"diverging\": [[0, \"#8e0152\"], [0.1, \"#c51b7d\"], [0.2, \"#de77ae\"], [0.3, \"#f1b6da\"], [0.4, \"#fde0ef\"], [0.5, \"#f7f7f7\"], [0.6, \"#e6f5d0\"], [0.7, \"#b8e186\"], [0.8, \"#7fbc41\"], [0.9, \"#4d9221\"], [1, \"#276419\"]], \"sequential\": [[0.0, \"#0d0887\"], [0.1111111111111111, \"#46039f\"], [0.2222222222222222, \"#7201a8\"], [0.3333333333333333, \"#9c179e\"], [0.4444444444444444, \"#bd3786\"], [0.5555555555555556, \"#d8576b\"], [0.6666666666666666, \"#ed7953\"], [0.7777777777777778, \"#fb9f3a\"], [0.8888888888888888, \"#fdca26\"], [1.0, \"#f0f921\"]], \"sequentialminus\": [[0.0, \"#0d0887\"], [0.1111111111111111, \"#46039f\"], [0.2222222222222222, \"#7201a8\"], [0.3333333333333333, \"#9c179e\"], [0.4444444444444444, \"#bd3786\"], [0.5555555555555556, \"#d8576b\"], [0.6666666666666666, \"#ed7953\"], [0.7777777777777778, \"#fb9f3a\"], [0.8888888888888888, \"#fdca26\"], [1.0, \"#f0f921\"]]}, \"colorway\": [\"#636efa\", \"#EF553B\", \"#00cc96\", \"#ab63fa\", \"#FFA15A\", \"#19d3f3\", \"#FF6692\", \"#B6E880\", \"#FF97FF\", \"#FECB52\"], \"font\": {\"color\": \"#2a3f5f\"}, \"geo\": {\"bgcolor\": \"white\", \"lakecolor\": \"white\", \"landcolor\": \"#E5ECF6\", \"showlakes\": true, \"showland\": true, \"subunitcolor\": \"white\"}, \"hoverlabel\": {\"align\": \"left\"}, \"hovermode\": \"closest\", \"mapbox\": {\"style\": \"light\"}, \"paper_bgcolor\": \"white\", \"plot_bgcolor\": \"#E5ECF6\", \"polar\": {\"angularaxis\": {\"gridcolor\": \"white\", \"linecolor\": \"white\", \"ticks\": \"\"}, \"bgcolor\": \"#E5ECF6\", \"radialaxis\": {\"gridcolor\": \"white\", \"linecolor\": \"white\", \"ticks\": \"\"}}, \"scene\": {\"xaxis\": {\"backgroundcolor\": \"#E5ECF6\", \"gridcolor\": \"white\", \"gridwidth\": 2, \"linecolor\": \"white\", \"showbackground\": true, \"ticks\": \"\", \"zerolinecolor\": \"white\"}, \"yaxis\": {\"backgroundcolor\": \"#E5ECF6\", \"gridcolor\": \"white\", \"gridwidth\": 2, \"linecolor\": \"white\", \"showbackground\": true, \"ticks\": \"\", \"zerolinecolor\": \"white\"}, \"zaxis\": {\"backgroundcolor\": \"#E5ECF6\", \"gridcolor\": \"white\", \"gridwidth\": 2, \"linecolor\": \"white\", \"showbackground\": true, \"ticks\": \"\", \"zerolinecolor\": \"white\"}}, \"shapedefaults\": {\"line\": {\"color\": \"#2a3f5f\"}}, \"ternary\": {\"aaxis\": {\"gridcolor\": \"white\", \"linecolor\": \"white\", \"ticks\": \"\"}, \"baxis\": {\"gridcolor\": \"white\", \"linecolor\": \"white\", \"ticks\": \"\"}, \"bgcolor\": \"#E5ECF6\", \"caxis\": {\"gridcolor\": \"white\", \"linecolor\": \"white\", \"ticks\": \"\"}}, \"title\": {\"x\": 0.05}, \"xaxis\": {\"automargin\": true, \"gridcolor\": \"white\", \"linecolor\": \"white\", \"ticks\": \"\", \"title\": {\"standoff\": 15}, \"zerolinecolor\": \"white\", \"zerolinewidth\": 2}, \"yaxis\": {\"automargin\": true, \"gridcolor\": \"white\", \"linecolor\": \"white\", \"ticks\": \"\", \"title\": {\"standoff\": 15}, \"zerolinecolor\": \"white\", \"zerolinewidth\": 2}}}},                        {\"responsive\": true}                    ).then(function(){\n",
       "                            \n",
       "var gd = document.getElementById('a6519c8e-9fcb-45ae-a4ae-48f84b4ed0cf');\n",
       "var x = new MutationObserver(function (mutations, observer) {{\n",
       "        var display = window.getComputedStyle(gd).display;\n",
       "        if (!display || display === 'none') {{\n",
       "            console.log([gd, 'removed!']);\n",
       "            Plotly.purge(gd);\n",
       "            observer.disconnect();\n",
       "        }}\n",
       "}});\n",
       "\n",
       "// Listen for the removal of the full notebook cells\n",
       "var notebookContainer = gd.closest('#notebook-container');\n",
       "if (notebookContainer) {{\n",
       "    x.observe(notebookContainer, {childList: true});\n",
       "}}\n",
       "\n",
       "// Listen for the clearing of the current output cell\n",
       "var outputEl = gd.closest('.output');\n",
       "if (outputEl) {{\n",
       "    x.observe(outputEl, {childList: true});\n",
       "}}\n",
       "\n",
       "                        })                };                });            </script>        </div>"
      ]
     },
     "metadata": {},
     "output_type": "display_data"
    }
   ],
   "source": [
    "data_summary = go.Figure(data=[go.Table(header=dict(values=list(data_summary_df.columns),fill_color='paleturquoise',\n",
    "                align='left'),cells=dict(values=[data_summary_df.Metric, data_summary_df.Tenure, data_summary_df.MonthlyCharges, data_summary_df.TotalCharges],\n",
    "               fill_color='lavender',align='left'))])\n",
    "data_summary.update_layout(showlegend=False,autosize=True,margin=dict(t=0,b=0,l=0,r=0),height=350)"
   ]
  },
  {
   "cell_type": "markdown",
   "metadata": {},
   "source": [
    "Correlation"
   ]
  },
  {
   "cell_type": "code",
   "execution_count": 132,
   "metadata": {},
   "outputs": [
    {
     "data": {
      "text/html": [
       "<div>\n",
       "<style scoped>\n",
       "    .dataframe tbody tr th:only-of-type {\n",
       "        vertical-align: middle;\n",
       "    }\n",
       "\n",
       "    .dataframe tbody tr th {\n",
       "        vertical-align: top;\n",
       "    }\n",
       "\n",
       "    .dataframe thead th {\n",
       "        text-align: right;\n",
       "    }\n",
       "</style>\n",
       "<table border=\"1\" class=\"dataframe\">\n",
       "  <thead>\n",
       "    <tr style=\"text-align: right;\">\n",
       "      <th></th>\n",
       "      <th>tenure</th>\n",
       "      <th>MonthlyCharges</th>\n",
       "      <th>TotalCharges</th>\n",
       "    </tr>\n",
       "  </thead>\n",
       "  <tbody>\n",
       "    <tr>\n",
       "      <th>tenure</th>\n",
       "      <td>1.000000</td>\n",
       "      <td>0.229158</td>\n",
       "      <td>0.825123</td>\n",
       "    </tr>\n",
       "    <tr>\n",
       "      <th>MonthlyCharges</th>\n",
       "      <td>0.229158</td>\n",
       "      <td>1.000000</td>\n",
       "      <td>0.638747</td>\n",
       "    </tr>\n",
       "    <tr>\n",
       "      <th>TotalCharges</th>\n",
       "      <td>0.825123</td>\n",
       "      <td>0.638747</td>\n",
       "      <td>1.000000</td>\n",
       "    </tr>\n",
       "  </tbody>\n",
       "</table>\n",
       "</div>"
      ],
      "text/plain": [
       "                  tenure  MonthlyCharges  TotalCharges\n",
       "tenure          1.000000        0.229158      0.825123\n",
       "MonthlyCharges  0.229158        1.000000      0.638747\n",
       "TotalCharges    0.825123        0.638747      1.000000"
      ]
     },
     "execution_count": 132,
     "metadata": {},
     "output_type": "execute_result"
    }
   ],
   "source": [
    "df_correlation=df[['tenure','MonthlyCharges','TotalCharges']].corr()\n",
    "df_correlation"
   ]
  },
  {
   "cell_type": "code",
   "execution_count": 133,
   "metadata": {},
   "outputs": [
    {
     "data": {
      "application/vnd.plotly.v1+json": {
       "config": {
        "plotlyServerURL": "https://plot.ly"
       },
       "data": [
        {
         "coloraxis": "coloraxis",
         "hovertemplate": "x: %{x}<br>y: %{y}<br>color: %{z}<extra></extra>",
         "name": "0",
         "type": "heatmap",
         "x": [
          "tenure",
          "MonthlyCharges",
          "TotalCharges"
         ],
         "xaxis": "x",
         "y": [
          "tenure",
          "MonthlyCharges",
          "TotalCharges"
         ],
         "yaxis": "y",
         "z": [
          [
           1,
           0.22915812558989104,
           0.8251232851940081
          ],
          [
           0.22915812558989104,
           1,
           0.6387472487572594
          ],
          [
           0.8251232851940081,
           0.6387472487572594,
           1
          ]
         ]
        }
       ],
       "layout": {
        "autosize": true,
        "coloraxis": {
         "colorscale": [
          [
           0,
           "rgb(20,44,66)"
          ],
          [
           1,
           "rgb(90,179,244)"
          ]
         ]
        },
        "legend": {
         "x": 0.4,
         "xanchor": "left",
         "y": 0.95,
         "yanchor": "top"
        },
        "margin": {
         "b": 0,
         "l": 0,
         "r": 0,
         "t": 30
        },
        "template": {
         "data": {
          "bar": [
           {
            "error_x": {
             "color": "rgb(51,51,51)"
            },
            "error_y": {
             "color": "rgb(51,51,51)"
            },
            "marker": {
             "line": {
              "color": "rgb(237,237,237)",
              "width": 0.5
             }
            },
            "type": "bar"
           }
          ],
          "barpolar": [
           {
            "marker": {
             "line": {
              "color": "rgb(237,237,237)",
              "width": 0.5
             }
            },
            "type": "barpolar"
           }
          ],
          "carpet": [
           {
            "aaxis": {
             "endlinecolor": "rgb(51,51,51)",
             "gridcolor": "white",
             "linecolor": "white",
             "minorgridcolor": "white",
             "startlinecolor": "rgb(51,51,51)"
            },
            "baxis": {
             "endlinecolor": "rgb(51,51,51)",
             "gridcolor": "white",
             "linecolor": "white",
             "minorgridcolor": "white",
             "startlinecolor": "rgb(51,51,51)"
            },
            "type": "carpet"
           }
          ],
          "choropleth": [
           {
            "colorbar": {
             "outlinewidth": 0,
             "tickcolor": "rgb(237,237,237)",
             "ticklen": 6,
             "ticks": "inside"
            },
            "type": "choropleth"
           }
          ],
          "contour": [
           {
            "colorbar": {
             "outlinewidth": 0,
             "tickcolor": "rgb(237,237,237)",
             "ticklen": 6,
             "ticks": "inside"
            },
            "colorscale": [
             [
              0,
              "rgb(20,44,66)"
             ],
             [
              1,
              "rgb(90,179,244)"
             ]
            ],
            "type": "contour"
           }
          ],
          "contourcarpet": [
           {
            "colorbar": {
             "outlinewidth": 0,
             "tickcolor": "rgb(237,237,237)",
             "ticklen": 6,
             "ticks": "inside"
            },
            "type": "contourcarpet"
           }
          ],
          "heatmap": [
           {
            "colorbar": {
             "outlinewidth": 0,
             "tickcolor": "rgb(237,237,237)",
             "ticklen": 6,
             "ticks": "inside"
            },
            "colorscale": [
             [
              0,
              "rgb(20,44,66)"
             ],
             [
              1,
              "rgb(90,179,244)"
             ]
            ],
            "type": "heatmap"
           }
          ],
          "heatmapgl": [
           {
            "colorbar": {
             "outlinewidth": 0,
             "tickcolor": "rgb(237,237,237)",
             "ticklen": 6,
             "ticks": "inside"
            },
            "colorscale": [
             [
              0,
              "rgb(20,44,66)"
             ],
             [
              1,
              "rgb(90,179,244)"
             ]
            ],
            "type": "heatmapgl"
           }
          ],
          "histogram": [
           {
            "marker": {
             "colorbar": {
              "outlinewidth": 0,
              "tickcolor": "rgb(237,237,237)",
              "ticklen": 6,
              "ticks": "inside"
             }
            },
            "type": "histogram"
           }
          ],
          "histogram2d": [
           {
            "colorbar": {
             "outlinewidth": 0,
             "tickcolor": "rgb(237,237,237)",
             "ticklen": 6,
             "ticks": "inside"
            },
            "colorscale": [
             [
              0,
              "rgb(20,44,66)"
             ],
             [
              1,
              "rgb(90,179,244)"
             ]
            ],
            "type": "histogram2d"
           }
          ],
          "histogram2dcontour": [
           {
            "colorbar": {
             "outlinewidth": 0,
             "tickcolor": "rgb(237,237,237)",
             "ticklen": 6,
             "ticks": "inside"
            },
            "colorscale": [
             [
              0,
              "rgb(20,44,66)"
             ],
             [
              1,
              "rgb(90,179,244)"
             ]
            ],
            "type": "histogram2dcontour"
           }
          ],
          "mesh3d": [
           {
            "colorbar": {
             "outlinewidth": 0,
             "tickcolor": "rgb(237,237,237)",
             "ticklen": 6,
             "ticks": "inside"
            },
            "type": "mesh3d"
           }
          ],
          "parcoords": [
           {
            "line": {
             "colorbar": {
              "outlinewidth": 0,
              "tickcolor": "rgb(237,237,237)",
              "ticklen": 6,
              "ticks": "inside"
             }
            },
            "type": "parcoords"
           }
          ],
          "pie": [
           {
            "automargin": true,
            "type": "pie"
           }
          ],
          "scatter": [
           {
            "marker": {
             "colorbar": {
              "outlinewidth": 0,
              "tickcolor": "rgb(237,237,237)",
              "ticklen": 6,
              "ticks": "inside"
             }
            },
            "type": "scatter"
           }
          ],
          "scatter3d": [
           {
            "line": {
             "colorbar": {
              "outlinewidth": 0,
              "tickcolor": "rgb(237,237,237)",
              "ticklen": 6,
              "ticks": "inside"
             }
            },
            "marker": {
             "colorbar": {
              "outlinewidth": 0,
              "tickcolor": "rgb(237,237,237)",
              "ticklen": 6,
              "ticks": "inside"
             }
            },
            "type": "scatter3d"
           }
          ],
          "scattercarpet": [
           {
            "marker": {
             "colorbar": {
              "outlinewidth": 0,
              "tickcolor": "rgb(237,237,237)",
              "ticklen": 6,
              "ticks": "inside"
             }
            },
            "type": "scattercarpet"
           }
          ],
          "scattergeo": [
           {
            "marker": {
             "colorbar": {
              "outlinewidth": 0,
              "tickcolor": "rgb(237,237,237)",
              "ticklen": 6,
              "ticks": "inside"
             }
            },
            "type": "scattergeo"
           }
          ],
          "scattergl": [
           {
            "marker": {
             "colorbar": {
              "outlinewidth": 0,
              "tickcolor": "rgb(237,237,237)",
              "ticklen": 6,
              "ticks": "inside"
             }
            },
            "type": "scattergl"
           }
          ],
          "scattermapbox": [
           {
            "marker": {
             "colorbar": {
              "outlinewidth": 0,
              "tickcolor": "rgb(237,237,237)",
              "ticklen": 6,
              "ticks": "inside"
             }
            },
            "type": "scattermapbox"
           }
          ],
          "scatterpolar": [
           {
            "marker": {
             "colorbar": {
              "outlinewidth": 0,
              "tickcolor": "rgb(237,237,237)",
              "ticklen": 6,
              "ticks": "inside"
             }
            },
            "type": "scatterpolar"
           }
          ],
          "scatterpolargl": [
           {
            "marker": {
             "colorbar": {
              "outlinewidth": 0,
              "tickcolor": "rgb(237,237,237)",
              "ticklen": 6,
              "ticks": "inside"
             }
            },
            "type": "scatterpolargl"
           }
          ],
          "scatterternary": [
           {
            "marker": {
             "colorbar": {
              "outlinewidth": 0,
              "tickcolor": "rgb(237,237,237)",
              "ticklen": 6,
              "ticks": "inside"
             }
            },
            "type": "scatterternary"
           }
          ],
          "surface": [
           {
            "colorbar": {
             "outlinewidth": 0,
             "tickcolor": "rgb(237,237,237)",
             "ticklen": 6,
             "ticks": "inside"
            },
            "colorscale": [
             [
              0,
              "rgb(20,44,66)"
             ],
             [
              1,
              "rgb(90,179,244)"
             ]
            ],
            "type": "surface"
           }
          ],
          "table": [
           {
            "cells": {
             "fill": {
              "color": "rgb(237,237,237)"
             },
             "line": {
              "color": "white"
             }
            },
            "header": {
             "fill": {
              "color": "rgb(217,217,217)"
             },
             "line": {
              "color": "white"
             }
            },
            "type": "table"
           }
          ]
         },
         "layout": {
          "annotationdefaults": {
           "arrowhead": 0,
           "arrowwidth": 1
          },
          "autotypenumbers": "strict",
          "coloraxis": {
           "colorbar": {
            "outlinewidth": 0,
            "tickcolor": "rgb(237,237,237)",
            "ticklen": 6,
            "ticks": "inside"
           }
          },
          "colorscale": {
           "sequential": [
            [
             0,
             "rgb(20,44,66)"
            ],
            [
             1,
             "rgb(90,179,244)"
            ]
           ],
           "sequentialminus": [
            [
             0,
             "rgb(20,44,66)"
            ],
            [
             1,
             "rgb(90,179,244)"
            ]
           ]
          },
          "colorway": [
           "#F8766D",
           "#A3A500",
           "#00BF7D",
           "#00B0F6",
           "#E76BF3"
          ],
          "font": {
           "color": "rgb(51,51,51)"
          },
          "geo": {
           "bgcolor": "white",
           "lakecolor": "white",
           "landcolor": "rgb(237,237,237)",
           "showlakes": true,
           "showland": true,
           "subunitcolor": "white"
          },
          "hoverlabel": {
           "align": "left"
          },
          "hovermode": "closest",
          "paper_bgcolor": "white",
          "plot_bgcolor": "rgb(237,237,237)",
          "polar": {
           "angularaxis": {
            "gridcolor": "white",
            "linecolor": "white",
            "showgrid": true,
            "tickcolor": "rgb(51,51,51)",
            "ticks": "outside"
           },
           "bgcolor": "rgb(237,237,237)",
           "radialaxis": {
            "gridcolor": "white",
            "linecolor": "white",
            "showgrid": true,
            "tickcolor": "rgb(51,51,51)",
            "ticks": "outside"
           }
          },
          "scene": {
           "xaxis": {
            "backgroundcolor": "rgb(237,237,237)",
            "gridcolor": "white",
            "gridwidth": 2,
            "linecolor": "white",
            "showbackground": true,
            "showgrid": true,
            "tickcolor": "rgb(51,51,51)",
            "ticks": "outside",
            "zerolinecolor": "white"
           },
           "yaxis": {
            "backgroundcolor": "rgb(237,237,237)",
            "gridcolor": "white",
            "gridwidth": 2,
            "linecolor": "white",
            "showbackground": true,
            "showgrid": true,
            "tickcolor": "rgb(51,51,51)",
            "ticks": "outside",
            "zerolinecolor": "white"
           },
           "zaxis": {
            "backgroundcolor": "rgb(237,237,237)",
            "gridcolor": "white",
            "gridwidth": 2,
            "linecolor": "white",
            "showbackground": true,
            "showgrid": true,
            "tickcolor": "rgb(51,51,51)",
            "ticks": "outside",
            "zerolinecolor": "white"
           }
          },
          "shapedefaults": {
           "fillcolor": "black",
           "line": {
            "width": 0
           },
           "opacity": 0.3
          },
          "ternary": {
           "aaxis": {
            "gridcolor": "white",
            "linecolor": "white",
            "showgrid": true,
            "tickcolor": "rgb(51,51,51)",
            "ticks": "outside"
           },
           "baxis": {
            "gridcolor": "white",
            "linecolor": "white",
            "showgrid": true,
            "tickcolor": "rgb(51,51,51)",
            "ticks": "outside"
           },
           "bgcolor": "rgb(237,237,237)",
           "caxis": {
            "gridcolor": "white",
            "linecolor": "white",
            "showgrid": true,
            "tickcolor": "rgb(51,51,51)",
            "ticks": "outside"
           }
          },
          "xaxis": {
           "automargin": true,
           "gridcolor": "white",
           "linecolor": "white",
           "showgrid": true,
           "tickcolor": "rgb(51,51,51)",
           "ticks": "outside",
           "title": {
            "standoff": 15
           },
           "zerolinecolor": "white"
          },
          "yaxis": {
           "automargin": true,
           "gridcolor": "white",
           "linecolor": "white",
           "showgrid": true,
           "tickcolor": "rgb(51,51,51)",
           "ticks": "outside",
           "title": {
            "standoff": 15
           },
           "zerolinecolor": "white"
          }
         }
        },
        "title": {
         "text": "Tenure, Monthly and Total Charges Correlation"
        },
        "xaxis": {
         "anchor": "y",
         "constrain": "domain",
         "domain": [
          0,
          1
         ],
         "scaleanchor": "y"
        },
        "yaxis": {
         "anchor": "x",
         "autorange": "reversed",
         "constrain": "domain",
         "domain": [
          0,
          1
         ]
        }
       }
      },
      "text/html": [
       "<div>                            <div id=\"f1277192-fe10-4a8a-bbe3-94df07e8381c\" class=\"plotly-graph-div\" style=\"height:525px; width:100%;\"></div>            <script type=\"text/javascript\">                require([\"plotly\"], function(Plotly) {                    window.PLOTLYENV=window.PLOTLYENV || {};                                    if (document.getElementById(\"f1277192-fe10-4a8a-bbe3-94df07e8381c\")) {                    Plotly.newPlot(                        \"f1277192-fe10-4a8a-bbe3-94df07e8381c\",                        [{\"coloraxis\": \"coloraxis\", \"hovertemplate\": \"x: %{x}<br>y: %{y}<br>color: %{z}<extra></extra>\", \"name\": \"0\", \"type\": \"heatmap\", \"x\": [\"tenure\", \"MonthlyCharges\", \"TotalCharges\"], \"xaxis\": \"x\", \"y\": [\"tenure\", \"MonthlyCharges\", \"TotalCharges\"], \"yaxis\": \"y\", \"z\": [[1.0, 0.22915812558989104, 0.8251232851940081], [0.22915812558989104, 1.0, 0.6387472487572594], [0.8251232851940081, 0.6387472487572594, 1.0]]}],                        {\"autosize\": true, \"coloraxis\": {\"colorscale\": [[0.0, \"rgb(20,44,66)\"], [1.0, \"rgb(90,179,244)\"]]}, \"legend\": {\"x\": 0.4, \"xanchor\": \"left\", \"y\": 0.95, \"yanchor\": \"top\"}, \"margin\": {\"b\": 0, \"l\": 0, \"r\": 0, \"t\": 30}, \"template\": {\"data\": {\"bar\": [{\"error_x\": {\"color\": \"rgb(51,51,51)\"}, \"error_y\": {\"color\": \"rgb(51,51,51)\"}, \"marker\": {\"line\": {\"color\": \"rgb(237,237,237)\", \"width\": 0.5}}, \"type\": \"bar\"}], \"barpolar\": [{\"marker\": {\"line\": {\"color\": \"rgb(237,237,237)\", \"width\": 0.5}}, \"type\": \"barpolar\"}], \"carpet\": [{\"aaxis\": {\"endlinecolor\": \"rgb(51,51,51)\", \"gridcolor\": \"white\", \"linecolor\": \"white\", \"minorgridcolor\": \"white\", \"startlinecolor\": \"rgb(51,51,51)\"}, \"baxis\": {\"endlinecolor\": \"rgb(51,51,51)\", \"gridcolor\": \"white\", \"linecolor\": \"white\", \"minorgridcolor\": \"white\", \"startlinecolor\": \"rgb(51,51,51)\"}, \"type\": \"carpet\"}], \"choropleth\": [{\"colorbar\": {\"outlinewidth\": 0, \"tickcolor\": \"rgb(237,237,237)\", \"ticklen\": 6, \"ticks\": \"inside\"}, \"type\": \"choropleth\"}], \"contour\": [{\"colorbar\": {\"outlinewidth\": 0, \"tickcolor\": \"rgb(237,237,237)\", \"ticklen\": 6, \"ticks\": \"inside\"}, \"colorscale\": [[0, \"rgb(20,44,66)\"], [1, \"rgb(90,179,244)\"]], \"type\": \"contour\"}], \"contourcarpet\": [{\"colorbar\": {\"outlinewidth\": 0, \"tickcolor\": \"rgb(237,237,237)\", \"ticklen\": 6, \"ticks\": \"inside\"}, \"type\": \"contourcarpet\"}], \"heatmap\": [{\"colorbar\": {\"outlinewidth\": 0, \"tickcolor\": \"rgb(237,237,237)\", \"ticklen\": 6, \"ticks\": \"inside\"}, \"colorscale\": [[0, \"rgb(20,44,66)\"], [1, \"rgb(90,179,244)\"]], \"type\": \"heatmap\"}], \"heatmapgl\": [{\"colorbar\": {\"outlinewidth\": 0, \"tickcolor\": \"rgb(237,237,237)\", \"ticklen\": 6, \"ticks\": \"inside\"}, \"colorscale\": [[0, \"rgb(20,44,66)\"], [1, \"rgb(90,179,244)\"]], \"type\": \"heatmapgl\"}], \"histogram\": [{\"marker\": {\"colorbar\": {\"outlinewidth\": 0, \"tickcolor\": \"rgb(237,237,237)\", \"ticklen\": 6, \"ticks\": \"inside\"}}, \"type\": \"histogram\"}], \"histogram2d\": [{\"colorbar\": {\"outlinewidth\": 0, \"tickcolor\": \"rgb(237,237,237)\", \"ticklen\": 6, \"ticks\": \"inside\"}, \"colorscale\": [[0, \"rgb(20,44,66)\"], [1, \"rgb(90,179,244)\"]], \"type\": \"histogram2d\"}], \"histogram2dcontour\": [{\"colorbar\": {\"outlinewidth\": 0, \"tickcolor\": \"rgb(237,237,237)\", \"ticklen\": 6, \"ticks\": \"inside\"}, \"colorscale\": [[0, \"rgb(20,44,66)\"], [1, \"rgb(90,179,244)\"]], \"type\": \"histogram2dcontour\"}], \"mesh3d\": [{\"colorbar\": {\"outlinewidth\": 0, \"tickcolor\": \"rgb(237,237,237)\", \"ticklen\": 6, \"ticks\": \"inside\"}, \"type\": \"mesh3d\"}], \"parcoords\": [{\"line\": {\"colorbar\": {\"outlinewidth\": 0, \"tickcolor\": \"rgb(237,237,237)\", \"ticklen\": 6, \"ticks\": \"inside\"}}, \"type\": \"parcoords\"}], \"pie\": [{\"automargin\": true, \"type\": \"pie\"}], \"scatter\": [{\"marker\": {\"colorbar\": {\"outlinewidth\": 0, \"tickcolor\": \"rgb(237,237,237)\", \"ticklen\": 6, \"ticks\": \"inside\"}}, \"type\": \"scatter\"}], \"scatter3d\": [{\"line\": {\"colorbar\": {\"outlinewidth\": 0, \"tickcolor\": \"rgb(237,237,237)\", \"ticklen\": 6, \"ticks\": \"inside\"}}, \"marker\": {\"colorbar\": {\"outlinewidth\": 0, \"tickcolor\": \"rgb(237,237,237)\", \"ticklen\": 6, \"ticks\": \"inside\"}}, \"type\": \"scatter3d\"}], \"scattercarpet\": [{\"marker\": {\"colorbar\": {\"outlinewidth\": 0, \"tickcolor\": \"rgb(237,237,237)\", \"ticklen\": 6, \"ticks\": \"inside\"}}, \"type\": \"scattercarpet\"}], \"scattergeo\": [{\"marker\": {\"colorbar\": {\"outlinewidth\": 0, \"tickcolor\": \"rgb(237,237,237)\", \"ticklen\": 6, \"ticks\": \"inside\"}}, \"type\": \"scattergeo\"}], \"scattergl\": [{\"marker\": {\"colorbar\": {\"outlinewidth\": 0, \"tickcolor\": \"rgb(237,237,237)\", \"ticklen\": 6, \"ticks\": \"inside\"}}, \"type\": \"scattergl\"}], \"scattermapbox\": [{\"marker\": {\"colorbar\": {\"outlinewidth\": 0, \"tickcolor\": \"rgb(237,237,237)\", \"ticklen\": 6, \"ticks\": \"inside\"}}, \"type\": \"scattermapbox\"}], \"scatterpolar\": [{\"marker\": {\"colorbar\": {\"outlinewidth\": 0, \"tickcolor\": \"rgb(237,237,237)\", \"ticklen\": 6, \"ticks\": \"inside\"}}, \"type\": \"scatterpolar\"}], \"scatterpolargl\": [{\"marker\": {\"colorbar\": {\"outlinewidth\": 0, \"tickcolor\": \"rgb(237,237,237)\", \"ticklen\": 6, \"ticks\": \"inside\"}}, \"type\": \"scatterpolargl\"}], \"scatterternary\": [{\"marker\": {\"colorbar\": {\"outlinewidth\": 0, \"tickcolor\": \"rgb(237,237,237)\", \"ticklen\": 6, \"ticks\": \"inside\"}}, \"type\": \"scatterternary\"}], \"surface\": [{\"colorbar\": {\"outlinewidth\": 0, \"tickcolor\": \"rgb(237,237,237)\", \"ticklen\": 6, \"ticks\": \"inside\"}, \"colorscale\": [[0, \"rgb(20,44,66)\"], [1, \"rgb(90,179,244)\"]], \"type\": \"surface\"}], \"table\": [{\"cells\": {\"fill\": {\"color\": \"rgb(237,237,237)\"}, \"line\": {\"color\": \"white\"}}, \"header\": {\"fill\": {\"color\": \"rgb(217,217,217)\"}, \"line\": {\"color\": \"white\"}}, \"type\": \"table\"}]}, \"layout\": {\"annotationdefaults\": {\"arrowhead\": 0, \"arrowwidth\": 1}, \"autotypenumbers\": \"strict\", \"coloraxis\": {\"colorbar\": {\"outlinewidth\": 0, \"tickcolor\": \"rgb(237,237,237)\", \"ticklen\": 6, \"ticks\": \"inside\"}}, \"colorscale\": {\"sequential\": [[0, \"rgb(20,44,66)\"], [1, \"rgb(90,179,244)\"]], \"sequentialminus\": [[0, \"rgb(20,44,66)\"], [1, \"rgb(90,179,244)\"]]}, \"colorway\": [\"#F8766D\", \"#A3A500\", \"#00BF7D\", \"#00B0F6\", \"#E76BF3\"], \"font\": {\"color\": \"rgb(51,51,51)\"}, \"geo\": {\"bgcolor\": \"white\", \"lakecolor\": \"white\", \"landcolor\": \"rgb(237,237,237)\", \"showlakes\": true, \"showland\": true, \"subunitcolor\": \"white\"}, \"hoverlabel\": {\"align\": \"left\"}, \"hovermode\": \"closest\", \"paper_bgcolor\": \"white\", \"plot_bgcolor\": \"rgb(237,237,237)\", \"polar\": {\"angularaxis\": {\"gridcolor\": \"white\", \"linecolor\": \"white\", \"showgrid\": true, \"tickcolor\": \"rgb(51,51,51)\", \"ticks\": \"outside\"}, \"bgcolor\": \"rgb(237,237,237)\", \"radialaxis\": {\"gridcolor\": \"white\", \"linecolor\": \"white\", \"showgrid\": true, \"tickcolor\": \"rgb(51,51,51)\", \"ticks\": \"outside\"}}, \"scene\": {\"xaxis\": {\"backgroundcolor\": \"rgb(237,237,237)\", \"gridcolor\": \"white\", \"gridwidth\": 2, \"linecolor\": \"white\", \"showbackground\": true, \"showgrid\": true, \"tickcolor\": \"rgb(51,51,51)\", \"ticks\": \"outside\", \"zerolinecolor\": \"white\"}, \"yaxis\": {\"backgroundcolor\": \"rgb(237,237,237)\", \"gridcolor\": \"white\", \"gridwidth\": 2, \"linecolor\": \"white\", \"showbackground\": true, \"showgrid\": true, \"tickcolor\": \"rgb(51,51,51)\", \"ticks\": \"outside\", \"zerolinecolor\": \"white\"}, \"zaxis\": {\"backgroundcolor\": \"rgb(237,237,237)\", \"gridcolor\": \"white\", \"gridwidth\": 2, \"linecolor\": \"white\", \"showbackground\": true, \"showgrid\": true, \"tickcolor\": \"rgb(51,51,51)\", \"ticks\": \"outside\", \"zerolinecolor\": \"white\"}}, \"shapedefaults\": {\"fillcolor\": \"black\", \"line\": {\"width\": 0}, \"opacity\": 0.3}, \"ternary\": {\"aaxis\": {\"gridcolor\": \"white\", \"linecolor\": \"white\", \"showgrid\": true, \"tickcolor\": \"rgb(51,51,51)\", \"ticks\": \"outside\"}, \"baxis\": {\"gridcolor\": \"white\", \"linecolor\": \"white\", \"showgrid\": true, \"tickcolor\": \"rgb(51,51,51)\", \"ticks\": \"outside\"}, \"bgcolor\": \"rgb(237,237,237)\", \"caxis\": {\"gridcolor\": \"white\", \"linecolor\": \"white\", \"showgrid\": true, \"tickcolor\": \"rgb(51,51,51)\", \"ticks\": \"outside\"}}, \"xaxis\": {\"automargin\": true, \"gridcolor\": \"white\", \"linecolor\": \"white\", \"showgrid\": true, \"tickcolor\": \"rgb(51,51,51)\", \"ticks\": \"outside\", \"title\": {\"standoff\": 15}, \"zerolinecolor\": \"white\"}, \"yaxis\": {\"automargin\": true, \"gridcolor\": \"white\", \"linecolor\": \"white\", \"showgrid\": true, \"tickcolor\": \"rgb(51,51,51)\", \"ticks\": \"outside\", \"title\": {\"standoff\": 15}, \"zerolinecolor\": \"white\"}}}, \"title\": {\"text\": \"Tenure, Monthly and Total Charges Correlation\"}, \"xaxis\": {\"anchor\": \"y\", \"constrain\": \"domain\", \"domain\": [0.0, 1.0], \"scaleanchor\": \"y\"}, \"yaxis\": {\"anchor\": \"x\", \"autorange\": \"reversed\", \"constrain\": \"domain\", \"domain\": [0.0, 1.0]}},                        {\"responsive\": true}                    ).then(function(){\n",
       "                            \n",
       "var gd = document.getElementById('f1277192-fe10-4a8a-bbe3-94df07e8381c');\n",
       "var x = new MutationObserver(function (mutations, observer) {{\n",
       "        var display = window.getComputedStyle(gd).display;\n",
       "        if (!display || display === 'none') {{\n",
       "            console.log([gd, 'removed!']);\n",
       "            Plotly.purge(gd);\n",
       "            observer.disconnect();\n",
       "        }}\n",
       "}});\n",
       "\n",
       "// Listen for the removal of the full notebook cells\n",
       "var notebookContainer = gd.closest('#notebook-container');\n",
       "if (notebookContainer) {{\n",
       "    x.observe(notebookContainer, {childList: true});\n",
       "}}\n",
       "\n",
       "// Listen for the clearing of the current output cell\n",
       "var outputEl = gd.closest('.output');\n",
       "if (outputEl) {{\n",
       "    x.observe(outputEl, {childList: true});\n",
       "}}\n",
       "\n",
       "                        })                };                });            </script>        </div>"
      ]
     },
     "metadata": {},
     "output_type": "display_data"
    }
   ],
   "source": [
    "churn_correlation_df=px.imshow(df_correlation,title='Tenure, Monthly and Total Charges Correlation')\n",
    "churn_correlation_df.update_layout(legend=dict(yanchor=\"top\",y=0.95,xanchor=\"left\",x=0.40),autosize=True,margin=dict(t=30,b=0,l=0,r=0))"
   ]
  },
  {
   "cell_type": "markdown",
   "metadata": {},
   "source": [
    "Attrition"
   ]
  },
  {
   "cell_type": "code",
   "execution_count": 134,
   "metadata": {},
   "outputs": [],
   "source": [
    "attrition_df=df.groupby( [ \"Churn\"], as_index=False )[\"customerID\"].count()"
   ]
  },
  {
   "cell_type": "code",
   "execution_count": 135,
   "metadata": {},
   "outputs": [
    {
     "data": {
      "text/html": [
       "<div>\n",
       "<style scoped>\n",
       "    .dataframe tbody tr th:only-of-type {\n",
       "        vertical-align: middle;\n",
       "    }\n",
       "\n",
       "    .dataframe tbody tr th {\n",
       "        vertical-align: top;\n",
       "    }\n",
       "\n",
       "    .dataframe thead th {\n",
       "        text-align: right;\n",
       "    }\n",
       "</style>\n",
       "<table border=\"1\" class=\"dataframe\">\n",
       "  <thead>\n",
       "    <tr style=\"text-align: right;\">\n",
       "      <th></th>\n",
       "      <th>Churn</th>\n",
       "      <th>customerID</th>\n",
       "    </tr>\n",
       "  </thead>\n",
       "  <tbody>\n",
       "    <tr>\n",
       "      <th>0</th>\n",
       "      <td>No</td>\n",
       "      <td>1654</td>\n",
       "    </tr>\n",
       "    <tr>\n",
       "      <th>1</th>\n",
       "      <td>Yes</td>\n",
       "      <td>589</td>\n",
       "    </tr>\n",
       "  </tbody>\n",
       "</table>\n",
       "</div>"
      ],
      "text/plain": [
       "  Churn  customerID\n",
       "0    No        1654\n",
       "1   Yes         589"
      ]
     },
     "execution_count": 135,
     "metadata": {},
     "output_type": "execute_result"
    }
   ],
   "source": [
    "attrition_df.head()"
   ]
  },
  {
   "cell_type": "code",
   "execution_count": 136,
   "metadata": {},
   "outputs": [
    {
     "data": {
      "application/vnd.plotly.v1+json": {
       "config": {
        "plotlyServerURL": "https://plot.ly"
       },
       "data": [
        {
         "hole": 0.3,
         "labels": [
          "No",
          "Yes"
         ],
         "type": "pie",
         "values": [
          1654,
          589
         ]
        }
       ],
       "layout": {
        "annotations": [
         {
          "font": {
           "size": 20
          },
          "showarrow": false,
          "text": "Attrition"
         }
        ],
        "autosize": true,
        "colorway": [
         "skyblue",
         "crimson"
        ],
        "height": 350,
        "margin": {
         "b": 0,
         "l": 0,
         "r": 0,
         "t": 50
        },
        "showlegend": false,
        "template": {
         "data": {
          "bar": [
           {
            "error_x": {
             "color": "#2a3f5f"
            },
            "error_y": {
             "color": "#2a3f5f"
            },
            "marker": {
             "line": {
              "color": "#E5ECF6",
              "width": 0.5
             }
            },
            "type": "bar"
           }
          ],
          "barpolar": [
           {
            "marker": {
             "line": {
              "color": "#E5ECF6",
              "width": 0.5
             }
            },
            "type": "barpolar"
           }
          ],
          "carpet": [
           {
            "aaxis": {
             "endlinecolor": "#2a3f5f",
             "gridcolor": "white",
             "linecolor": "white",
             "minorgridcolor": "white",
             "startlinecolor": "#2a3f5f"
            },
            "baxis": {
             "endlinecolor": "#2a3f5f",
             "gridcolor": "white",
             "linecolor": "white",
             "minorgridcolor": "white",
             "startlinecolor": "#2a3f5f"
            },
            "type": "carpet"
           }
          ],
          "choropleth": [
           {
            "colorbar": {
             "outlinewidth": 0,
             "ticks": ""
            },
            "type": "choropleth"
           }
          ],
          "contour": [
           {
            "colorbar": {
             "outlinewidth": 0,
             "ticks": ""
            },
            "colorscale": [
             [
              0,
              "#0d0887"
             ],
             [
              0.1111111111111111,
              "#46039f"
             ],
             [
              0.2222222222222222,
              "#7201a8"
             ],
             [
              0.3333333333333333,
              "#9c179e"
             ],
             [
              0.4444444444444444,
              "#bd3786"
             ],
             [
              0.5555555555555556,
              "#d8576b"
             ],
             [
              0.6666666666666666,
              "#ed7953"
             ],
             [
              0.7777777777777778,
              "#fb9f3a"
             ],
             [
              0.8888888888888888,
              "#fdca26"
             ],
             [
              1,
              "#f0f921"
             ]
            ],
            "type": "contour"
           }
          ],
          "contourcarpet": [
           {
            "colorbar": {
             "outlinewidth": 0,
             "ticks": ""
            },
            "type": "contourcarpet"
           }
          ],
          "heatmap": [
           {
            "colorbar": {
             "outlinewidth": 0,
             "ticks": ""
            },
            "colorscale": [
             [
              0,
              "#0d0887"
             ],
             [
              0.1111111111111111,
              "#46039f"
             ],
             [
              0.2222222222222222,
              "#7201a8"
             ],
             [
              0.3333333333333333,
              "#9c179e"
             ],
             [
              0.4444444444444444,
              "#bd3786"
             ],
             [
              0.5555555555555556,
              "#d8576b"
             ],
             [
              0.6666666666666666,
              "#ed7953"
             ],
             [
              0.7777777777777778,
              "#fb9f3a"
             ],
             [
              0.8888888888888888,
              "#fdca26"
             ],
             [
              1,
              "#f0f921"
             ]
            ],
            "type": "heatmap"
           }
          ],
          "heatmapgl": [
           {
            "colorbar": {
             "outlinewidth": 0,
             "ticks": ""
            },
            "colorscale": [
             [
              0,
              "#0d0887"
             ],
             [
              0.1111111111111111,
              "#46039f"
             ],
             [
              0.2222222222222222,
              "#7201a8"
             ],
             [
              0.3333333333333333,
              "#9c179e"
             ],
             [
              0.4444444444444444,
              "#bd3786"
             ],
             [
              0.5555555555555556,
              "#d8576b"
             ],
             [
              0.6666666666666666,
              "#ed7953"
             ],
             [
              0.7777777777777778,
              "#fb9f3a"
             ],
             [
              0.8888888888888888,
              "#fdca26"
             ],
             [
              1,
              "#f0f921"
             ]
            ],
            "type": "heatmapgl"
           }
          ],
          "histogram": [
           {
            "marker": {
             "colorbar": {
              "outlinewidth": 0,
              "ticks": ""
             }
            },
            "type": "histogram"
           }
          ],
          "histogram2d": [
           {
            "colorbar": {
             "outlinewidth": 0,
             "ticks": ""
            },
            "colorscale": [
             [
              0,
              "#0d0887"
             ],
             [
              0.1111111111111111,
              "#46039f"
             ],
             [
              0.2222222222222222,
              "#7201a8"
             ],
             [
              0.3333333333333333,
              "#9c179e"
             ],
             [
              0.4444444444444444,
              "#bd3786"
             ],
             [
              0.5555555555555556,
              "#d8576b"
             ],
             [
              0.6666666666666666,
              "#ed7953"
             ],
             [
              0.7777777777777778,
              "#fb9f3a"
             ],
             [
              0.8888888888888888,
              "#fdca26"
             ],
             [
              1,
              "#f0f921"
             ]
            ],
            "type": "histogram2d"
           }
          ],
          "histogram2dcontour": [
           {
            "colorbar": {
             "outlinewidth": 0,
             "ticks": ""
            },
            "colorscale": [
             [
              0,
              "#0d0887"
             ],
             [
              0.1111111111111111,
              "#46039f"
             ],
             [
              0.2222222222222222,
              "#7201a8"
             ],
             [
              0.3333333333333333,
              "#9c179e"
             ],
             [
              0.4444444444444444,
              "#bd3786"
             ],
             [
              0.5555555555555556,
              "#d8576b"
             ],
             [
              0.6666666666666666,
              "#ed7953"
             ],
             [
              0.7777777777777778,
              "#fb9f3a"
             ],
             [
              0.8888888888888888,
              "#fdca26"
             ],
             [
              1,
              "#f0f921"
             ]
            ],
            "type": "histogram2dcontour"
           }
          ],
          "mesh3d": [
           {
            "colorbar": {
             "outlinewidth": 0,
             "ticks": ""
            },
            "type": "mesh3d"
           }
          ],
          "parcoords": [
           {
            "line": {
             "colorbar": {
              "outlinewidth": 0,
              "ticks": ""
             }
            },
            "type": "parcoords"
           }
          ],
          "pie": [
           {
            "automargin": true,
            "type": "pie"
           }
          ],
          "scatter": [
           {
            "marker": {
             "colorbar": {
              "outlinewidth": 0,
              "ticks": ""
             }
            },
            "type": "scatter"
           }
          ],
          "scatter3d": [
           {
            "line": {
             "colorbar": {
              "outlinewidth": 0,
              "ticks": ""
             }
            },
            "marker": {
             "colorbar": {
              "outlinewidth": 0,
              "ticks": ""
             }
            },
            "type": "scatter3d"
           }
          ],
          "scattercarpet": [
           {
            "marker": {
             "colorbar": {
              "outlinewidth": 0,
              "ticks": ""
             }
            },
            "type": "scattercarpet"
           }
          ],
          "scattergeo": [
           {
            "marker": {
             "colorbar": {
              "outlinewidth": 0,
              "ticks": ""
             }
            },
            "type": "scattergeo"
           }
          ],
          "scattergl": [
           {
            "marker": {
             "colorbar": {
              "outlinewidth": 0,
              "ticks": ""
             }
            },
            "type": "scattergl"
           }
          ],
          "scattermapbox": [
           {
            "marker": {
             "colorbar": {
              "outlinewidth": 0,
              "ticks": ""
             }
            },
            "type": "scattermapbox"
           }
          ],
          "scatterpolar": [
           {
            "marker": {
             "colorbar": {
              "outlinewidth": 0,
              "ticks": ""
             }
            },
            "type": "scatterpolar"
           }
          ],
          "scatterpolargl": [
           {
            "marker": {
             "colorbar": {
              "outlinewidth": 0,
              "ticks": ""
             }
            },
            "type": "scatterpolargl"
           }
          ],
          "scatterternary": [
           {
            "marker": {
             "colorbar": {
              "outlinewidth": 0,
              "ticks": ""
             }
            },
            "type": "scatterternary"
           }
          ],
          "surface": [
           {
            "colorbar": {
             "outlinewidth": 0,
             "ticks": ""
            },
            "colorscale": [
             [
              0,
              "#0d0887"
             ],
             [
              0.1111111111111111,
              "#46039f"
             ],
             [
              0.2222222222222222,
              "#7201a8"
             ],
             [
              0.3333333333333333,
              "#9c179e"
             ],
             [
              0.4444444444444444,
              "#bd3786"
             ],
             [
              0.5555555555555556,
              "#d8576b"
             ],
             [
              0.6666666666666666,
              "#ed7953"
             ],
             [
              0.7777777777777778,
              "#fb9f3a"
             ],
             [
              0.8888888888888888,
              "#fdca26"
             ],
             [
              1,
              "#f0f921"
             ]
            ],
            "type": "surface"
           }
          ],
          "table": [
           {
            "cells": {
             "fill": {
              "color": "#EBF0F8"
             },
             "line": {
              "color": "white"
             }
            },
            "header": {
             "fill": {
              "color": "#C8D4E3"
             },
             "line": {
              "color": "white"
             }
            },
            "type": "table"
           }
          ]
         },
         "layout": {
          "annotationdefaults": {
           "arrowcolor": "#2a3f5f",
           "arrowhead": 0,
           "arrowwidth": 1
          },
          "autotypenumbers": "strict",
          "coloraxis": {
           "colorbar": {
            "outlinewidth": 0,
            "ticks": ""
           }
          },
          "colorscale": {
           "diverging": [
            [
             0,
             "#8e0152"
            ],
            [
             0.1,
             "#c51b7d"
            ],
            [
             0.2,
             "#de77ae"
            ],
            [
             0.3,
             "#f1b6da"
            ],
            [
             0.4,
             "#fde0ef"
            ],
            [
             0.5,
             "#f7f7f7"
            ],
            [
             0.6,
             "#e6f5d0"
            ],
            [
             0.7,
             "#b8e186"
            ],
            [
             0.8,
             "#7fbc41"
            ],
            [
             0.9,
             "#4d9221"
            ],
            [
             1,
             "#276419"
            ]
           ],
           "sequential": [
            [
             0,
             "#0d0887"
            ],
            [
             0.1111111111111111,
             "#46039f"
            ],
            [
             0.2222222222222222,
             "#7201a8"
            ],
            [
             0.3333333333333333,
             "#9c179e"
            ],
            [
             0.4444444444444444,
             "#bd3786"
            ],
            [
             0.5555555555555556,
             "#d8576b"
            ],
            [
             0.6666666666666666,
             "#ed7953"
            ],
            [
             0.7777777777777778,
             "#fb9f3a"
            ],
            [
             0.8888888888888888,
             "#fdca26"
            ],
            [
             1,
             "#f0f921"
            ]
           ],
           "sequentialminus": [
            [
             0,
             "#0d0887"
            ],
            [
             0.1111111111111111,
             "#46039f"
            ],
            [
             0.2222222222222222,
             "#7201a8"
            ],
            [
             0.3333333333333333,
             "#9c179e"
            ],
            [
             0.4444444444444444,
             "#bd3786"
            ],
            [
             0.5555555555555556,
             "#d8576b"
            ],
            [
             0.6666666666666666,
             "#ed7953"
            ],
            [
             0.7777777777777778,
             "#fb9f3a"
            ],
            [
             0.8888888888888888,
             "#fdca26"
            ],
            [
             1,
             "#f0f921"
            ]
           ]
          },
          "colorway": [
           "#636efa",
           "#EF553B",
           "#00cc96",
           "#ab63fa",
           "#FFA15A",
           "#19d3f3",
           "#FF6692",
           "#B6E880",
           "#FF97FF",
           "#FECB52"
          ],
          "font": {
           "color": "#2a3f5f"
          },
          "geo": {
           "bgcolor": "white",
           "lakecolor": "white",
           "landcolor": "#E5ECF6",
           "showlakes": true,
           "showland": true,
           "subunitcolor": "white"
          },
          "hoverlabel": {
           "align": "left"
          },
          "hovermode": "closest",
          "mapbox": {
           "style": "light"
          },
          "paper_bgcolor": "white",
          "plot_bgcolor": "#E5ECF6",
          "polar": {
           "angularaxis": {
            "gridcolor": "white",
            "linecolor": "white",
            "ticks": ""
           },
           "bgcolor": "#E5ECF6",
           "radialaxis": {
            "gridcolor": "white",
            "linecolor": "white",
            "ticks": ""
           }
          },
          "scene": {
           "xaxis": {
            "backgroundcolor": "#E5ECF6",
            "gridcolor": "white",
            "gridwidth": 2,
            "linecolor": "white",
            "showbackground": true,
            "ticks": "",
            "zerolinecolor": "white"
           },
           "yaxis": {
            "backgroundcolor": "#E5ECF6",
            "gridcolor": "white",
            "gridwidth": 2,
            "linecolor": "white",
            "showbackground": true,
            "ticks": "",
            "zerolinecolor": "white"
           },
           "zaxis": {
            "backgroundcolor": "#E5ECF6",
            "gridcolor": "white",
            "gridwidth": 2,
            "linecolor": "white",
            "showbackground": true,
            "ticks": "",
            "zerolinecolor": "white"
           }
          },
          "shapedefaults": {
           "line": {
            "color": "#2a3f5f"
           }
          },
          "ternary": {
           "aaxis": {
            "gridcolor": "white",
            "linecolor": "white",
            "ticks": ""
           },
           "baxis": {
            "gridcolor": "white",
            "linecolor": "white",
            "ticks": ""
           },
           "bgcolor": "#E5ECF6",
           "caxis": {
            "gridcolor": "white",
            "linecolor": "white",
            "ticks": ""
           }
          },
          "title": {
           "x": 0.05
          },
          "xaxis": {
           "automargin": true,
           "gridcolor": "white",
           "linecolor": "white",
           "ticks": "",
           "title": {
            "standoff": 15
           },
           "zerolinecolor": "white",
           "zerolinewidth": 2
          },
          "yaxis": {
           "automargin": true,
           "gridcolor": "white",
           "linecolor": "white",
           "ticks": "",
           "title": {
            "standoff": 15
           },
           "zerolinecolor": "white",
           "zerolinewidth": 2
          }
         }
        },
        "title": {
         "text": "Customer Churn Distribution",
         "x": 0.5,
         "xanchor": "center",
         "y": 0.9,
         "yanchor": "top"
        }
       }
      },
      "text/html": [
       "<div>                            <div id=\"150c0608-9cf0-4b30-af89-e21c6ec7d4d7\" class=\"plotly-graph-div\" style=\"height:350px; width:100%;\"></div>            <script type=\"text/javascript\">                require([\"plotly\"], function(Plotly) {                    window.PLOTLYENV=window.PLOTLYENV || {};                                    if (document.getElementById(\"150c0608-9cf0-4b30-af89-e21c6ec7d4d7\")) {                    Plotly.newPlot(                        \"150c0608-9cf0-4b30-af89-e21c6ec7d4d7\",                        [{\"hole\": 0.3, \"labels\": [\"No\", \"Yes\"], \"type\": \"pie\", \"values\": [1654, 589]}],                        {\"annotations\": [{\"font\": {\"size\": 20}, \"showarrow\": false, \"text\": \"Attrition\"}], \"autosize\": true, \"colorway\": [\"skyblue\", \"crimson\"], \"height\": 350, \"margin\": {\"b\": 0, \"l\": 0, \"r\": 0, \"t\": 50}, \"showlegend\": false, \"template\": {\"data\": {\"bar\": [{\"error_x\": {\"color\": \"#2a3f5f\"}, \"error_y\": {\"color\": \"#2a3f5f\"}, \"marker\": {\"line\": {\"color\": \"#E5ECF6\", \"width\": 0.5}}, \"type\": \"bar\"}], \"barpolar\": [{\"marker\": {\"line\": {\"color\": \"#E5ECF6\", \"width\": 0.5}}, \"type\": \"barpolar\"}], \"carpet\": [{\"aaxis\": {\"endlinecolor\": \"#2a3f5f\", \"gridcolor\": \"white\", \"linecolor\": \"white\", \"minorgridcolor\": \"white\", \"startlinecolor\": \"#2a3f5f\"}, \"baxis\": {\"endlinecolor\": \"#2a3f5f\", \"gridcolor\": \"white\", \"linecolor\": \"white\", \"minorgridcolor\": \"white\", \"startlinecolor\": \"#2a3f5f\"}, \"type\": \"carpet\"}], \"choropleth\": [{\"colorbar\": {\"outlinewidth\": 0, \"ticks\": \"\"}, \"type\": \"choropleth\"}], \"contour\": [{\"colorbar\": {\"outlinewidth\": 0, \"ticks\": \"\"}, \"colorscale\": [[0.0, \"#0d0887\"], [0.1111111111111111, \"#46039f\"], [0.2222222222222222, \"#7201a8\"], [0.3333333333333333, \"#9c179e\"], [0.4444444444444444, \"#bd3786\"], [0.5555555555555556, \"#d8576b\"], [0.6666666666666666, \"#ed7953\"], [0.7777777777777778, \"#fb9f3a\"], [0.8888888888888888, \"#fdca26\"], [1.0, \"#f0f921\"]], \"type\": \"contour\"}], \"contourcarpet\": [{\"colorbar\": {\"outlinewidth\": 0, \"ticks\": \"\"}, \"type\": \"contourcarpet\"}], \"heatmap\": [{\"colorbar\": {\"outlinewidth\": 0, \"ticks\": \"\"}, \"colorscale\": [[0.0, \"#0d0887\"], [0.1111111111111111, \"#46039f\"], [0.2222222222222222, \"#7201a8\"], [0.3333333333333333, \"#9c179e\"], [0.4444444444444444, \"#bd3786\"], [0.5555555555555556, \"#d8576b\"], [0.6666666666666666, \"#ed7953\"], [0.7777777777777778, \"#fb9f3a\"], [0.8888888888888888, \"#fdca26\"], [1.0, \"#f0f921\"]], \"type\": \"heatmap\"}], \"heatmapgl\": [{\"colorbar\": {\"outlinewidth\": 0, \"ticks\": \"\"}, \"colorscale\": [[0.0, \"#0d0887\"], [0.1111111111111111, \"#46039f\"], [0.2222222222222222, \"#7201a8\"], [0.3333333333333333, \"#9c179e\"], [0.4444444444444444, \"#bd3786\"], [0.5555555555555556, \"#d8576b\"], [0.6666666666666666, \"#ed7953\"], [0.7777777777777778, \"#fb9f3a\"], [0.8888888888888888, \"#fdca26\"], [1.0, \"#f0f921\"]], \"type\": \"heatmapgl\"}], \"histogram\": [{\"marker\": {\"colorbar\": {\"outlinewidth\": 0, \"ticks\": \"\"}}, \"type\": \"histogram\"}], \"histogram2d\": [{\"colorbar\": {\"outlinewidth\": 0, \"ticks\": \"\"}, \"colorscale\": [[0.0, \"#0d0887\"], [0.1111111111111111, \"#46039f\"], [0.2222222222222222, \"#7201a8\"], [0.3333333333333333, \"#9c179e\"], [0.4444444444444444, \"#bd3786\"], [0.5555555555555556, \"#d8576b\"], [0.6666666666666666, \"#ed7953\"], [0.7777777777777778, \"#fb9f3a\"], [0.8888888888888888, \"#fdca26\"], [1.0, \"#f0f921\"]], \"type\": \"histogram2d\"}], \"histogram2dcontour\": [{\"colorbar\": {\"outlinewidth\": 0, \"ticks\": \"\"}, \"colorscale\": [[0.0, \"#0d0887\"], [0.1111111111111111, \"#46039f\"], [0.2222222222222222, \"#7201a8\"], [0.3333333333333333, \"#9c179e\"], [0.4444444444444444, \"#bd3786\"], [0.5555555555555556, \"#d8576b\"], [0.6666666666666666, \"#ed7953\"], [0.7777777777777778, \"#fb9f3a\"], [0.8888888888888888, \"#fdca26\"], [1.0, \"#f0f921\"]], \"type\": \"histogram2dcontour\"}], \"mesh3d\": [{\"colorbar\": {\"outlinewidth\": 0, \"ticks\": \"\"}, \"type\": \"mesh3d\"}], \"parcoords\": [{\"line\": {\"colorbar\": {\"outlinewidth\": 0, \"ticks\": \"\"}}, \"type\": \"parcoords\"}], \"pie\": [{\"automargin\": true, \"type\": \"pie\"}], \"scatter\": [{\"marker\": {\"colorbar\": {\"outlinewidth\": 0, \"ticks\": \"\"}}, \"type\": \"scatter\"}], \"scatter3d\": [{\"line\": {\"colorbar\": {\"outlinewidth\": 0, \"ticks\": \"\"}}, \"marker\": {\"colorbar\": {\"outlinewidth\": 0, \"ticks\": \"\"}}, \"type\": \"scatter3d\"}], \"scattercarpet\": [{\"marker\": {\"colorbar\": {\"outlinewidth\": 0, \"ticks\": \"\"}}, \"type\": \"scattercarpet\"}], \"scattergeo\": [{\"marker\": {\"colorbar\": {\"outlinewidth\": 0, \"ticks\": \"\"}}, \"type\": \"scattergeo\"}], \"scattergl\": [{\"marker\": {\"colorbar\": {\"outlinewidth\": 0, \"ticks\": \"\"}}, \"type\": \"scattergl\"}], \"scattermapbox\": [{\"marker\": {\"colorbar\": {\"outlinewidth\": 0, \"ticks\": \"\"}}, \"type\": \"scattermapbox\"}], \"scatterpolar\": [{\"marker\": {\"colorbar\": {\"outlinewidth\": 0, \"ticks\": \"\"}}, \"type\": \"scatterpolar\"}], \"scatterpolargl\": [{\"marker\": {\"colorbar\": {\"outlinewidth\": 0, \"ticks\": \"\"}}, \"type\": \"scatterpolargl\"}], \"scatterternary\": [{\"marker\": {\"colorbar\": {\"outlinewidth\": 0, \"ticks\": \"\"}}, \"type\": \"scatterternary\"}], \"surface\": [{\"colorbar\": {\"outlinewidth\": 0, \"ticks\": \"\"}, \"colorscale\": [[0.0, \"#0d0887\"], [0.1111111111111111, \"#46039f\"], [0.2222222222222222, \"#7201a8\"], [0.3333333333333333, \"#9c179e\"], [0.4444444444444444, \"#bd3786\"], [0.5555555555555556, \"#d8576b\"], [0.6666666666666666, \"#ed7953\"], [0.7777777777777778, \"#fb9f3a\"], [0.8888888888888888, \"#fdca26\"], [1.0, \"#f0f921\"]], \"type\": \"surface\"}], \"table\": [{\"cells\": {\"fill\": {\"color\": \"#EBF0F8\"}, \"line\": {\"color\": \"white\"}}, \"header\": {\"fill\": {\"color\": \"#C8D4E3\"}, \"line\": {\"color\": \"white\"}}, \"type\": \"table\"}]}, \"layout\": {\"annotationdefaults\": {\"arrowcolor\": \"#2a3f5f\", \"arrowhead\": 0, \"arrowwidth\": 1}, \"autotypenumbers\": \"strict\", \"coloraxis\": {\"colorbar\": {\"outlinewidth\": 0, \"ticks\": \"\"}}, \"colorscale\": {\"diverging\": [[0, \"#8e0152\"], [0.1, \"#c51b7d\"], [0.2, \"#de77ae\"], [0.3, \"#f1b6da\"], [0.4, \"#fde0ef\"], [0.5, \"#f7f7f7\"], [0.6, \"#e6f5d0\"], [0.7, \"#b8e186\"], [0.8, \"#7fbc41\"], [0.9, \"#4d9221\"], [1, \"#276419\"]], \"sequential\": [[0.0, \"#0d0887\"], [0.1111111111111111, \"#46039f\"], [0.2222222222222222, \"#7201a8\"], [0.3333333333333333, \"#9c179e\"], [0.4444444444444444, \"#bd3786\"], [0.5555555555555556, \"#d8576b\"], [0.6666666666666666, \"#ed7953\"], [0.7777777777777778, \"#fb9f3a\"], [0.8888888888888888, \"#fdca26\"], [1.0, \"#f0f921\"]], \"sequentialminus\": [[0.0, \"#0d0887\"], [0.1111111111111111, \"#46039f\"], [0.2222222222222222, \"#7201a8\"], [0.3333333333333333, \"#9c179e\"], [0.4444444444444444, \"#bd3786\"], [0.5555555555555556, \"#d8576b\"], [0.6666666666666666, \"#ed7953\"], [0.7777777777777778, \"#fb9f3a\"], [0.8888888888888888, \"#fdca26\"], [1.0, \"#f0f921\"]]}, \"colorway\": [\"#636efa\", \"#EF553B\", \"#00cc96\", \"#ab63fa\", \"#FFA15A\", \"#19d3f3\", \"#FF6692\", \"#B6E880\", \"#FF97FF\", \"#FECB52\"], \"font\": {\"color\": \"#2a3f5f\"}, \"geo\": {\"bgcolor\": \"white\", \"lakecolor\": \"white\", \"landcolor\": \"#E5ECF6\", \"showlakes\": true, \"showland\": true, \"subunitcolor\": \"white\"}, \"hoverlabel\": {\"align\": \"left\"}, \"hovermode\": \"closest\", \"mapbox\": {\"style\": \"light\"}, \"paper_bgcolor\": \"white\", \"plot_bgcolor\": \"#E5ECF6\", \"polar\": {\"angularaxis\": {\"gridcolor\": \"white\", \"linecolor\": \"white\", \"ticks\": \"\"}, \"bgcolor\": \"#E5ECF6\", \"radialaxis\": {\"gridcolor\": \"white\", \"linecolor\": \"white\", \"ticks\": \"\"}}, \"scene\": {\"xaxis\": {\"backgroundcolor\": \"#E5ECF6\", \"gridcolor\": \"white\", \"gridwidth\": 2, \"linecolor\": \"white\", \"showbackground\": true, \"ticks\": \"\", \"zerolinecolor\": \"white\"}, \"yaxis\": {\"backgroundcolor\": \"#E5ECF6\", \"gridcolor\": \"white\", \"gridwidth\": 2, \"linecolor\": \"white\", \"showbackground\": true, \"ticks\": \"\", \"zerolinecolor\": \"white\"}, \"zaxis\": {\"backgroundcolor\": \"#E5ECF6\", \"gridcolor\": \"white\", \"gridwidth\": 2, \"linecolor\": \"white\", \"showbackground\": true, \"ticks\": \"\", \"zerolinecolor\": \"white\"}}, \"shapedefaults\": {\"line\": {\"color\": \"#2a3f5f\"}}, \"ternary\": {\"aaxis\": {\"gridcolor\": \"white\", \"linecolor\": \"white\", \"ticks\": \"\"}, \"baxis\": {\"gridcolor\": \"white\", \"linecolor\": \"white\", \"ticks\": \"\"}, \"bgcolor\": \"#E5ECF6\", \"caxis\": {\"gridcolor\": \"white\", \"linecolor\": \"white\", \"ticks\": \"\"}}, \"title\": {\"x\": 0.05}, \"xaxis\": {\"automargin\": true, \"gridcolor\": \"white\", \"linecolor\": \"white\", \"ticks\": \"\", \"title\": {\"standoff\": 15}, \"zerolinecolor\": \"white\", \"zerolinewidth\": 2}, \"yaxis\": {\"automargin\": true, \"gridcolor\": \"white\", \"linecolor\": \"white\", \"ticks\": \"\", \"title\": {\"standoff\": 15}, \"zerolinecolor\": \"white\", \"zerolinewidth\": 2}}}, \"title\": {\"text\": \"Customer Churn Distribution\", \"x\": 0.5, \"xanchor\": \"center\", \"y\": 0.9, \"yanchor\": \"top\"}},                        {\"responsive\": true}                    ).then(function(){\n",
       "                            \n",
       "var gd = document.getElementById('150c0608-9cf0-4b30-af89-e21c6ec7d4d7');\n",
       "var x = new MutationObserver(function (mutations, observer) {{\n",
       "        var display = window.getComputedStyle(gd).display;\n",
       "        if (!display || display === 'none') {{\n",
       "            console.log([gd, 'removed!']);\n",
       "            Plotly.purge(gd);\n",
       "            observer.disconnect();\n",
       "        }}\n",
       "}});\n",
       "\n",
       "// Listen for the removal of the full notebook cells\n",
       "var notebookContainer = gd.closest('#notebook-container');\n",
       "if (notebookContainer) {{\n",
       "    x.observe(notebookContainer, {childList: true});\n",
       "}}\n",
       "\n",
       "// Listen for the clearing of the current output cell\n",
       "var outputEl = gd.closest('.output');\n",
       "if (outputEl) {{\n",
       "    x.observe(outputEl, {childList: true});\n",
       "}}\n",
       "\n",
       "                        })                };                });            </script>        </div>"
      ]
     },
     "metadata": {},
     "output_type": "display_data"
    }
   ],
   "source": [
    "colors = ['skyblue','crimson']\n",
    "doughnut_attrition = go.Figure(data=[go.Pie(labels=attrition_df['Churn'].tolist(), values=attrition_df['customerID'].tolist(), hole=.3)])\n",
    "doughnut_attrition.update_layout(title={'text': 'Customer Churn Distribution','y':0.9,'x':0.5, 'xanchor': 'center','yanchor': 'top'},\n",
    "showlegend=False,autosize=True,annotations=[dict(text='Attrition',  font_size=20, showarrow=False)],margin=dict(t=50,b=0,l=0,r=0),height=350,colorway=colors)"
   ]
  },
  {
   "cell_type": "markdown",
   "metadata": {},
   "source": [
    "Attrition by Revenue"
   ]
  },
  {
   "cell_type": "code",
   "execution_count": 137,
   "metadata": {},
   "outputs": [
    {
     "data": {
      "text/html": [
       "<div>\n",
       "<style scoped>\n",
       "    .dataframe tbody tr th:only-of-type {\n",
       "        vertical-align: middle;\n",
       "    }\n",
       "\n",
       "    .dataframe tbody tr th {\n",
       "        vertical-align: top;\n",
       "    }\n",
       "\n",
       "    .dataframe thead th {\n",
       "        text-align: right;\n",
       "    }\n",
       "</style>\n",
       "<table border=\"1\" class=\"dataframe\">\n",
       "  <thead>\n",
       "    <tr style=\"text-align: right;\">\n",
       "      <th></th>\n",
       "      <th>Churn</th>\n",
       "      <th>Revenue</th>\n",
       "    </tr>\n",
       "  </thead>\n",
       "  <tbody>\n",
       "    <tr>\n",
       "      <th>1</th>\n",
       "      <td>Yes</td>\n",
       "      <td>897135.80</td>\n",
       "    </tr>\n",
       "    <tr>\n",
       "      <th>0</th>\n",
       "      <td>No</td>\n",
       "      <td>4231231.65</td>\n",
       "    </tr>\n",
       "  </tbody>\n",
       "</table>\n",
       "</div>"
      ],
      "text/plain": [
       "  Churn     Revenue\n",
       "1   Yes   897135.80\n",
       "0    No  4231231.65"
      ]
     },
     "execution_count": 137,
     "metadata": {},
     "output_type": "execute_result"
    }
   ],
   "source": [
    "totalcharges_attrition_df=df.groupby( [\"Churn\"], as_index=False )[\"TotalCharges\"].sum()\n",
    "totalcharges_attrition_df=totalcharges_attrition_df.sort_values(by=['TotalCharges'],ascending=True)\n",
    "totalcharges_attrition_df.columns=['Churn','Revenue']\n",
    "totalcharges_attrition_df"
   ]
  },
  {
   "cell_type": "code",
   "execution_count": 138,
   "metadata": {},
   "outputs": [
    {
     "data": {
      "application/vnd.plotly.v1+json": {
       "config": {
        "plotlyServerURL": "https://plot.ly"
       },
       "data": [
        {
         "alignmentgroup": "True",
         "hovertemplate": "Churn=%{x}<br>Revenue=%{text}<extra></extra>",
         "legendgroup": "Yes",
         "marker": {
          "color": "crimson"
         },
         "name": "Yes",
         "offsetgroup": "Yes",
         "orientation": "v",
         "showlegend": true,
         "text": [
          897135.7999999998
         ],
         "textposition": "auto",
         "type": "bar",
         "x": [
          "Yes"
         ],
         "xaxis": "x",
         "y": [
          897135.7999999998
         ],
         "yaxis": "y"
        },
        {
         "alignmentgroup": "True",
         "hovertemplate": "Churn=%{x}<br>Revenue=%{text}<extra></extra>",
         "legendgroup": "No",
         "marker": {
          "color": "skyblue"
         },
         "name": "No",
         "offsetgroup": "No",
         "orientation": "v",
         "showlegend": true,
         "text": [
          4231231.6499999985
         ],
         "textposition": "auto",
         "type": "bar",
         "x": [
          "No"
         ],
         "xaxis": "x",
         "y": [
          4231231.6499999985
         ],
         "yaxis": "y"
        }
       ],
       "layout": {
        "autosize": true,
        "barmode": "relative",
        "legend": {
         "title": {
          "text": "Churn"
         },
         "tracegroupgap": 0,
         "x": 0.4,
         "xanchor": "left",
         "y": 0.95,
         "yanchor": "top"
        },
        "margin": {
         "b": 0,
         "l": 0,
         "r": 0,
         "t": 30
        },
        "template": {
         "data": {
          "bar": [
           {
            "error_x": {
             "color": "rgb(51,51,51)"
            },
            "error_y": {
             "color": "rgb(51,51,51)"
            },
            "marker": {
             "line": {
              "color": "rgb(237,237,237)",
              "width": 0.5
             }
            },
            "type": "bar"
           }
          ],
          "barpolar": [
           {
            "marker": {
             "line": {
              "color": "rgb(237,237,237)",
              "width": 0.5
             }
            },
            "type": "barpolar"
           }
          ],
          "carpet": [
           {
            "aaxis": {
             "endlinecolor": "rgb(51,51,51)",
             "gridcolor": "white",
             "linecolor": "white",
             "minorgridcolor": "white",
             "startlinecolor": "rgb(51,51,51)"
            },
            "baxis": {
             "endlinecolor": "rgb(51,51,51)",
             "gridcolor": "white",
             "linecolor": "white",
             "minorgridcolor": "white",
             "startlinecolor": "rgb(51,51,51)"
            },
            "type": "carpet"
           }
          ],
          "choropleth": [
           {
            "colorbar": {
             "outlinewidth": 0,
             "tickcolor": "rgb(237,237,237)",
             "ticklen": 6,
             "ticks": "inside"
            },
            "type": "choropleth"
           }
          ],
          "contour": [
           {
            "colorbar": {
             "outlinewidth": 0,
             "tickcolor": "rgb(237,237,237)",
             "ticklen": 6,
             "ticks": "inside"
            },
            "colorscale": [
             [
              0,
              "rgb(20,44,66)"
             ],
             [
              1,
              "rgb(90,179,244)"
             ]
            ],
            "type": "contour"
           }
          ],
          "contourcarpet": [
           {
            "colorbar": {
             "outlinewidth": 0,
             "tickcolor": "rgb(237,237,237)",
             "ticklen": 6,
             "ticks": "inside"
            },
            "type": "contourcarpet"
           }
          ],
          "heatmap": [
           {
            "colorbar": {
             "outlinewidth": 0,
             "tickcolor": "rgb(237,237,237)",
             "ticklen": 6,
             "ticks": "inside"
            },
            "colorscale": [
             [
              0,
              "rgb(20,44,66)"
             ],
             [
              1,
              "rgb(90,179,244)"
             ]
            ],
            "type": "heatmap"
           }
          ],
          "heatmapgl": [
           {
            "colorbar": {
             "outlinewidth": 0,
             "tickcolor": "rgb(237,237,237)",
             "ticklen": 6,
             "ticks": "inside"
            },
            "colorscale": [
             [
              0,
              "rgb(20,44,66)"
             ],
             [
              1,
              "rgb(90,179,244)"
             ]
            ],
            "type": "heatmapgl"
           }
          ],
          "histogram": [
           {
            "marker": {
             "colorbar": {
              "outlinewidth": 0,
              "tickcolor": "rgb(237,237,237)",
              "ticklen": 6,
              "ticks": "inside"
             }
            },
            "type": "histogram"
           }
          ],
          "histogram2d": [
           {
            "colorbar": {
             "outlinewidth": 0,
             "tickcolor": "rgb(237,237,237)",
             "ticklen": 6,
             "ticks": "inside"
            },
            "colorscale": [
             [
              0,
              "rgb(20,44,66)"
             ],
             [
              1,
              "rgb(90,179,244)"
             ]
            ],
            "type": "histogram2d"
           }
          ],
          "histogram2dcontour": [
           {
            "colorbar": {
             "outlinewidth": 0,
             "tickcolor": "rgb(237,237,237)",
             "ticklen": 6,
             "ticks": "inside"
            },
            "colorscale": [
             [
              0,
              "rgb(20,44,66)"
             ],
             [
              1,
              "rgb(90,179,244)"
             ]
            ],
            "type": "histogram2dcontour"
           }
          ],
          "mesh3d": [
           {
            "colorbar": {
             "outlinewidth": 0,
             "tickcolor": "rgb(237,237,237)",
             "ticklen": 6,
             "ticks": "inside"
            },
            "type": "mesh3d"
           }
          ],
          "parcoords": [
           {
            "line": {
             "colorbar": {
              "outlinewidth": 0,
              "tickcolor": "rgb(237,237,237)",
              "ticklen": 6,
              "ticks": "inside"
             }
            },
            "type": "parcoords"
           }
          ],
          "pie": [
           {
            "automargin": true,
            "type": "pie"
           }
          ],
          "scatter": [
           {
            "marker": {
             "colorbar": {
              "outlinewidth": 0,
              "tickcolor": "rgb(237,237,237)",
              "ticklen": 6,
              "ticks": "inside"
             }
            },
            "type": "scatter"
           }
          ],
          "scatter3d": [
           {
            "line": {
             "colorbar": {
              "outlinewidth": 0,
              "tickcolor": "rgb(237,237,237)",
              "ticklen": 6,
              "ticks": "inside"
             }
            },
            "marker": {
             "colorbar": {
              "outlinewidth": 0,
              "tickcolor": "rgb(237,237,237)",
              "ticklen": 6,
              "ticks": "inside"
             }
            },
            "type": "scatter3d"
           }
          ],
          "scattercarpet": [
           {
            "marker": {
             "colorbar": {
              "outlinewidth": 0,
              "tickcolor": "rgb(237,237,237)",
              "ticklen": 6,
              "ticks": "inside"
             }
            },
            "type": "scattercarpet"
           }
          ],
          "scattergeo": [
           {
            "marker": {
             "colorbar": {
              "outlinewidth": 0,
              "tickcolor": "rgb(237,237,237)",
              "ticklen": 6,
              "ticks": "inside"
             }
            },
            "type": "scattergeo"
           }
          ],
          "scattergl": [
           {
            "marker": {
             "colorbar": {
              "outlinewidth": 0,
              "tickcolor": "rgb(237,237,237)",
              "ticklen": 6,
              "ticks": "inside"
             }
            },
            "type": "scattergl"
           }
          ],
          "scattermapbox": [
           {
            "marker": {
             "colorbar": {
              "outlinewidth": 0,
              "tickcolor": "rgb(237,237,237)",
              "ticklen": 6,
              "ticks": "inside"
             }
            },
            "type": "scattermapbox"
           }
          ],
          "scatterpolar": [
           {
            "marker": {
             "colorbar": {
              "outlinewidth": 0,
              "tickcolor": "rgb(237,237,237)",
              "ticklen": 6,
              "ticks": "inside"
             }
            },
            "type": "scatterpolar"
           }
          ],
          "scatterpolargl": [
           {
            "marker": {
             "colorbar": {
              "outlinewidth": 0,
              "tickcolor": "rgb(237,237,237)",
              "ticklen": 6,
              "ticks": "inside"
             }
            },
            "type": "scatterpolargl"
           }
          ],
          "scatterternary": [
           {
            "marker": {
             "colorbar": {
              "outlinewidth": 0,
              "tickcolor": "rgb(237,237,237)",
              "ticklen": 6,
              "ticks": "inside"
             }
            },
            "type": "scatterternary"
           }
          ],
          "surface": [
           {
            "colorbar": {
             "outlinewidth": 0,
             "tickcolor": "rgb(237,237,237)",
             "ticklen": 6,
             "ticks": "inside"
            },
            "colorscale": [
             [
              0,
              "rgb(20,44,66)"
             ],
             [
              1,
              "rgb(90,179,244)"
             ]
            ],
            "type": "surface"
           }
          ],
          "table": [
           {
            "cells": {
             "fill": {
              "color": "rgb(237,237,237)"
             },
             "line": {
              "color": "white"
             }
            },
            "header": {
             "fill": {
              "color": "rgb(217,217,217)"
             },
             "line": {
              "color": "white"
             }
            },
            "type": "table"
           }
          ]
         },
         "layout": {
          "annotationdefaults": {
           "arrowhead": 0,
           "arrowwidth": 1
          },
          "autotypenumbers": "strict",
          "coloraxis": {
           "colorbar": {
            "outlinewidth": 0,
            "tickcolor": "rgb(237,237,237)",
            "ticklen": 6,
            "ticks": "inside"
           }
          },
          "colorscale": {
           "sequential": [
            [
             0,
             "rgb(20,44,66)"
            ],
            [
             1,
             "rgb(90,179,244)"
            ]
           ],
           "sequentialminus": [
            [
             0,
             "rgb(20,44,66)"
            ],
            [
             1,
             "rgb(90,179,244)"
            ]
           ]
          },
          "colorway": [
           "#F8766D",
           "#A3A500",
           "#00BF7D",
           "#00B0F6",
           "#E76BF3"
          ],
          "font": {
           "color": "rgb(51,51,51)"
          },
          "geo": {
           "bgcolor": "white",
           "lakecolor": "white",
           "landcolor": "rgb(237,237,237)",
           "showlakes": true,
           "showland": true,
           "subunitcolor": "white"
          },
          "hoverlabel": {
           "align": "left"
          },
          "hovermode": "closest",
          "paper_bgcolor": "white",
          "plot_bgcolor": "rgb(237,237,237)",
          "polar": {
           "angularaxis": {
            "gridcolor": "white",
            "linecolor": "white",
            "showgrid": true,
            "tickcolor": "rgb(51,51,51)",
            "ticks": "outside"
           },
           "bgcolor": "rgb(237,237,237)",
           "radialaxis": {
            "gridcolor": "white",
            "linecolor": "white",
            "showgrid": true,
            "tickcolor": "rgb(51,51,51)",
            "ticks": "outside"
           }
          },
          "scene": {
           "xaxis": {
            "backgroundcolor": "rgb(237,237,237)",
            "gridcolor": "white",
            "gridwidth": 2,
            "linecolor": "white",
            "showbackground": true,
            "showgrid": true,
            "tickcolor": "rgb(51,51,51)",
            "ticks": "outside",
            "zerolinecolor": "white"
           },
           "yaxis": {
            "backgroundcolor": "rgb(237,237,237)",
            "gridcolor": "white",
            "gridwidth": 2,
            "linecolor": "white",
            "showbackground": true,
            "showgrid": true,
            "tickcolor": "rgb(51,51,51)",
            "ticks": "outside",
            "zerolinecolor": "white"
           },
           "zaxis": {
            "backgroundcolor": "rgb(237,237,237)",
            "gridcolor": "white",
            "gridwidth": 2,
            "linecolor": "white",
            "showbackground": true,
            "showgrid": true,
            "tickcolor": "rgb(51,51,51)",
            "ticks": "outside",
            "zerolinecolor": "white"
           }
          },
          "shapedefaults": {
           "fillcolor": "black",
           "line": {
            "width": 0
           },
           "opacity": 0.3
          },
          "ternary": {
           "aaxis": {
            "gridcolor": "white",
            "linecolor": "white",
            "showgrid": true,
            "tickcolor": "rgb(51,51,51)",
            "ticks": "outside"
           },
           "baxis": {
            "gridcolor": "white",
            "linecolor": "white",
            "showgrid": true,
            "tickcolor": "rgb(51,51,51)",
            "ticks": "outside"
           },
           "bgcolor": "rgb(237,237,237)",
           "caxis": {
            "gridcolor": "white",
            "linecolor": "white",
            "showgrid": true,
            "tickcolor": "rgb(51,51,51)",
            "ticks": "outside"
           }
          },
          "xaxis": {
           "automargin": true,
           "gridcolor": "white",
           "linecolor": "white",
           "showgrid": true,
           "tickcolor": "rgb(51,51,51)",
           "ticks": "outside",
           "title": {
            "standoff": 15
           },
           "zerolinecolor": "white"
          },
          "yaxis": {
           "automargin": true,
           "gridcolor": "white",
           "linecolor": "white",
           "showgrid": true,
           "tickcolor": "rgb(51,51,51)",
           "ticks": "outside",
           "title": {
            "standoff": 15
           },
           "zerolinecolor": "white"
          }
         }
        },
        "title": {
         "text": "Churn by Revenue"
        },
        "xaxis": {
         "anchor": "y",
         "categoryarray": [
          "Yes",
          "No"
         ],
         "categoryorder": "array",
         "domain": [
          0,
          1
         ],
         "title": {
          "text": "Churn"
         }
        },
        "yaxis": {
         "anchor": "x",
         "domain": [
          0,
          1
         ],
         "title": {
          "text": "Revenue"
         }
        }
       }
      },
      "text/html": [
       "<div>                            <div id=\"cd082f48-8f8a-4b1f-8784-477067fad688\" class=\"plotly-graph-div\" style=\"height:525px; width:100%;\"></div>            <script type=\"text/javascript\">                require([\"plotly\"], function(Plotly) {                    window.PLOTLYENV=window.PLOTLYENV || {};                                    if (document.getElementById(\"cd082f48-8f8a-4b1f-8784-477067fad688\")) {                    Plotly.newPlot(                        \"cd082f48-8f8a-4b1f-8784-477067fad688\",                        [{\"alignmentgroup\": \"True\", \"hovertemplate\": \"Churn=%{x}<br>Revenue=%{text}<extra></extra>\", \"legendgroup\": \"Yes\", \"marker\": {\"color\": \"crimson\"}, \"name\": \"Yes\", \"offsetgroup\": \"Yes\", \"orientation\": \"v\", \"showlegend\": true, \"text\": [897135.7999999998], \"textposition\": \"auto\", \"type\": \"bar\", \"x\": [\"Yes\"], \"xaxis\": \"x\", \"y\": [897135.7999999998], \"yaxis\": \"y\"}, {\"alignmentgroup\": \"True\", \"hovertemplate\": \"Churn=%{x}<br>Revenue=%{text}<extra></extra>\", \"legendgroup\": \"No\", \"marker\": {\"color\": \"skyblue\"}, \"name\": \"No\", \"offsetgroup\": \"No\", \"orientation\": \"v\", \"showlegend\": true, \"text\": [4231231.6499999985], \"textposition\": \"auto\", \"type\": \"bar\", \"x\": [\"No\"], \"xaxis\": \"x\", \"y\": [4231231.6499999985], \"yaxis\": \"y\"}],                        {\"autosize\": true, \"barmode\": \"relative\", \"legend\": {\"title\": {\"text\": \"Churn\"}, \"tracegroupgap\": 0, \"x\": 0.4, \"xanchor\": \"left\", \"y\": 0.95, \"yanchor\": \"top\"}, \"margin\": {\"b\": 0, \"l\": 0, \"r\": 0, \"t\": 30}, \"template\": {\"data\": {\"bar\": [{\"error_x\": {\"color\": \"rgb(51,51,51)\"}, \"error_y\": {\"color\": \"rgb(51,51,51)\"}, \"marker\": {\"line\": {\"color\": \"rgb(237,237,237)\", \"width\": 0.5}}, \"type\": \"bar\"}], \"barpolar\": [{\"marker\": {\"line\": {\"color\": \"rgb(237,237,237)\", \"width\": 0.5}}, \"type\": \"barpolar\"}], \"carpet\": [{\"aaxis\": {\"endlinecolor\": \"rgb(51,51,51)\", \"gridcolor\": \"white\", \"linecolor\": \"white\", \"minorgridcolor\": \"white\", \"startlinecolor\": \"rgb(51,51,51)\"}, \"baxis\": {\"endlinecolor\": \"rgb(51,51,51)\", \"gridcolor\": \"white\", \"linecolor\": \"white\", \"minorgridcolor\": \"white\", \"startlinecolor\": \"rgb(51,51,51)\"}, \"type\": \"carpet\"}], \"choropleth\": [{\"colorbar\": {\"outlinewidth\": 0, \"tickcolor\": \"rgb(237,237,237)\", \"ticklen\": 6, \"ticks\": \"inside\"}, \"type\": \"choropleth\"}], \"contour\": [{\"colorbar\": {\"outlinewidth\": 0, \"tickcolor\": \"rgb(237,237,237)\", \"ticklen\": 6, \"ticks\": \"inside\"}, \"colorscale\": [[0, \"rgb(20,44,66)\"], [1, \"rgb(90,179,244)\"]], \"type\": \"contour\"}], \"contourcarpet\": [{\"colorbar\": {\"outlinewidth\": 0, \"tickcolor\": \"rgb(237,237,237)\", \"ticklen\": 6, \"ticks\": \"inside\"}, \"type\": \"contourcarpet\"}], \"heatmap\": [{\"colorbar\": {\"outlinewidth\": 0, \"tickcolor\": \"rgb(237,237,237)\", \"ticklen\": 6, \"ticks\": \"inside\"}, \"colorscale\": [[0, \"rgb(20,44,66)\"], [1, \"rgb(90,179,244)\"]], \"type\": \"heatmap\"}], \"heatmapgl\": [{\"colorbar\": {\"outlinewidth\": 0, \"tickcolor\": \"rgb(237,237,237)\", \"ticklen\": 6, \"ticks\": \"inside\"}, \"colorscale\": [[0, \"rgb(20,44,66)\"], [1, \"rgb(90,179,244)\"]], \"type\": \"heatmapgl\"}], \"histogram\": [{\"marker\": {\"colorbar\": {\"outlinewidth\": 0, \"tickcolor\": \"rgb(237,237,237)\", \"ticklen\": 6, \"ticks\": \"inside\"}}, \"type\": \"histogram\"}], \"histogram2d\": [{\"colorbar\": {\"outlinewidth\": 0, \"tickcolor\": \"rgb(237,237,237)\", \"ticklen\": 6, \"ticks\": \"inside\"}, \"colorscale\": [[0, \"rgb(20,44,66)\"], [1, \"rgb(90,179,244)\"]], \"type\": \"histogram2d\"}], \"histogram2dcontour\": [{\"colorbar\": {\"outlinewidth\": 0, \"tickcolor\": \"rgb(237,237,237)\", \"ticklen\": 6, \"ticks\": \"inside\"}, \"colorscale\": [[0, \"rgb(20,44,66)\"], [1, \"rgb(90,179,244)\"]], \"type\": \"histogram2dcontour\"}], \"mesh3d\": [{\"colorbar\": {\"outlinewidth\": 0, \"tickcolor\": \"rgb(237,237,237)\", \"ticklen\": 6, \"ticks\": \"inside\"}, \"type\": \"mesh3d\"}], \"parcoords\": [{\"line\": {\"colorbar\": {\"outlinewidth\": 0, \"tickcolor\": \"rgb(237,237,237)\", \"ticklen\": 6, \"ticks\": \"inside\"}}, \"type\": \"parcoords\"}], \"pie\": [{\"automargin\": true, \"type\": \"pie\"}], \"scatter\": [{\"marker\": {\"colorbar\": {\"outlinewidth\": 0, \"tickcolor\": \"rgb(237,237,237)\", \"ticklen\": 6, \"ticks\": \"inside\"}}, \"type\": \"scatter\"}], \"scatter3d\": [{\"line\": {\"colorbar\": {\"outlinewidth\": 0, \"tickcolor\": \"rgb(237,237,237)\", \"ticklen\": 6, \"ticks\": \"inside\"}}, \"marker\": {\"colorbar\": {\"outlinewidth\": 0, \"tickcolor\": \"rgb(237,237,237)\", \"ticklen\": 6, \"ticks\": \"inside\"}}, \"type\": \"scatter3d\"}], \"scattercarpet\": [{\"marker\": {\"colorbar\": {\"outlinewidth\": 0, \"tickcolor\": \"rgb(237,237,237)\", \"ticklen\": 6, \"ticks\": \"inside\"}}, \"type\": \"scattercarpet\"}], \"scattergeo\": [{\"marker\": {\"colorbar\": {\"outlinewidth\": 0, \"tickcolor\": \"rgb(237,237,237)\", \"ticklen\": 6, \"ticks\": \"inside\"}}, \"type\": \"scattergeo\"}], \"scattergl\": [{\"marker\": {\"colorbar\": {\"outlinewidth\": 0, \"tickcolor\": \"rgb(237,237,237)\", \"ticklen\": 6, \"ticks\": \"inside\"}}, \"type\": \"scattergl\"}], \"scattermapbox\": [{\"marker\": {\"colorbar\": {\"outlinewidth\": 0, \"tickcolor\": \"rgb(237,237,237)\", \"ticklen\": 6, \"ticks\": \"inside\"}}, \"type\": \"scattermapbox\"}], \"scatterpolar\": [{\"marker\": {\"colorbar\": {\"outlinewidth\": 0, \"tickcolor\": \"rgb(237,237,237)\", \"ticklen\": 6, \"ticks\": \"inside\"}}, \"type\": \"scatterpolar\"}], \"scatterpolargl\": [{\"marker\": {\"colorbar\": {\"outlinewidth\": 0, \"tickcolor\": \"rgb(237,237,237)\", \"ticklen\": 6, \"ticks\": \"inside\"}}, \"type\": \"scatterpolargl\"}], \"scatterternary\": [{\"marker\": {\"colorbar\": {\"outlinewidth\": 0, \"tickcolor\": \"rgb(237,237,237)\", \"ticklen\": 6, \"ticks\": \"inside\"}}, \"type\": \"scatterternary\"}], \"surface\": [{\"colorbar\": {\"outlinewidth\": 0, \"tickcolor\": \"rgb(237,237,237)\", \"ticklen\": 6, \"ticks\": \"inside\"}, \"colorscale\": [[0, \"rgb(20,44,66)\"], [1, \"rgb(90,179,244)\"]], \"type\": \"surface\"}], \"table\": [{\"cells\": {\"fill\": {\"color\": \"rgb(237,237,237)\"}, \"line\": {\"color\": \"white\"}}, \"header\": {\"fill\": {\"color\": \"rgb(217,217,217)\"}, \"line\": {\"color\": \"white\"}}, \"type\": \"table\"}]}, \"layout\": {\"annotationdefaults\": {\"arrowhead\": 0, \"arrowwidth\": 1}, \"autotypenumbers\": \"strict\", \"coloraxis\": {\"colorbar\": {\"outlinewidth\": 0, \"tickcolor\": \"rgb(237,237,237)\", \"ticklen\": 6, \"ticks\": \"inside\"}}, \"colorscale\": {\"sequential\": [[0, \"rgb(20,44,66)\"], [1, \"rgb(90,179,244)\"]], \"sequentialminus\": [[0, \"rgb(20,44,66)\"], [1, \"rgb(90,179,244)\"]]}, \"colorway\": [\"#F8766D\", \"#A3A500\", \"#00BF7D\", \"#00B0F6\", \"#E76BF3\"], \"font\": {\"color\": \"rgb(51,51,51)\"}, \"geo\": {\"bgcolor\": \"white\", \"lakecolor\": \"white\", \"landcolor\": \"rgb(237,237,237)\", \"showlakes\": true, \"showland\": true, \"subunitcolor\": \"white\"}, \"hoverlabel\": {\"align\": \"left\"}, \"hovermode\": \"closest\", \"paper_bgcolor\": \"white\", \"plot_bgcolor\": \"rgb(237,237,237)\", \"polar\": {\"angularaxis\": {\"gridcolor\": \"white\", \"linecolor\": \"white\", \"showgrid\": true, \"tickcolor\": \"rgb(51,51,51)\", \"ticks\": \"outside\"}, \"bgcolor\": \"rgb(237,237,237)\", \"radialaxis\": {\"gridcolor\": \"white\", \"linecolor\": \"white\", \"showgrid\": true, \"tickcolor\": \"rgb(51,51,51)\", \"ticks\": \"outside\"}}, \"scene\": {\"xaxis\": {\"backgroundcolor\": \"rgb(237,237,237)\", \"gridcolor\": \"white\", \"gridwidth\": 2, \"linecolor\": \"white\", \"showbackground\": true, \"showgrid\": true, \"tickcolor\": \"rgb(51,51,51)\", \"ticks\": \"outside\", \"zerolinecolor\": \"white\"}, \"yaxis\": {\"backgroundcolor\": \"rgb(237,237,237)\", \"gridcolor\": \"white\", \"gridwidth\": 2, \"linecolor\": \"white\", \"showbackground\": true, \"showgrid\": true, \"tickcolor\": \"rgb(51,51,51)\", \"ticks\": \"outside\", \"zerolinecolor\": \"white\"}, \"zaxis\": {\"backgroundcolor\": \"rgb(237,237,237)\", \"gridcolor\": \"white\", \"gridwidth\": 2, \"linecolor\": \"white\", \"showbackground\": true, \"showgrid\": true, \"tickcolor\": \"rgb(51,51,51)\", \"ticks\": \"outside\", \"zerolinecolor\": \"white\"}}, \"shapedefaults\": {\"fillcolor\": \"black\", \"line\": {\"width\": 0}, \"opacity\": 0.3}, \"ternary\": {\"aaxis\": {\"gridcolor\": \"white\", \"linecolor\": \"white\", \"showgrid\": true, \"tickcolor\": \"rgb(51,51,51)\", \"ticks\": \"outside\"}, \"baxis\": {\"gridcolor\": \"white\", \"linecolor\": \"white\", \"showgrid\": true, \"tickcolor\": \"rgb(51,51,51)\", \"ticks\": \"outside\"}, \"bgcolor\": \"rgb(237,237,237)\", \"caxis\": {\"gridcolor\": \"white\", \"linecolor\": \"white\", \"showgrid\": true, \"tickcolor\": \"rgb(51,51,51)\", \"ticks\": \"outside\"}}, \"xaxis\": {\"automargin\": true, \"gridcolor\": \"white\", \"linecolor\": \"white\", \"showgrid\": true, \"tickcolor\": \"rgb(51,51,51)\", \"ticks\": \"outside\", \"title\": {\"standoff\": 15}, \"zerolinecolor\": \"white\"}, \"yaxis\": {\"automargin\": true, \"gridcolor\": \"white\", \"linecolor\": \"white\", \"showgrid\": true, \"tickcolor\": \"rgb(51,51,51)\", \"ticks\": \"outside\", \"title\": {\"standoff\": 15}, \"zerolinecolor\": \"white\"}}}, \"title\": {\"text\": \"Churn by Revenue\"}, \"xaxis\": {\"anchor\": \"y\", \"categoryarray\": [\"Yes\", \"No\"], \"categoryorder\": \"array\", \"domain\": [0.0, 1.0], \"title\": {\"text\": \"Churn\"}}, \"yaxis\": {\"anchor\": \"x\", \"domain\": [0.0, 1.0], \"title\": {\"text\": \"Revenue\"}}},                        {\"responsive\": true}                    ).then(function(){\n",
       "                            \n",
       "var gd = document.getElementById('cd082f48-8f8a-4b1f-8784-477067fad688');\n",
       "var x = new MutationObserver(function (mutations, observer) {{\n",
       "        var display = window.getComputedStyle(gd).display;\n",
       "        if (!display || display === 'none') {{\n",
       "            console.log([gd, 'removed!']);\n",
       "            Plotly.purge(gd);\n",
       "            observer.disconnect();\n",
       "        }}\n",
       "}});\n",
       "\n",
       "// Listen for the removal of the full notebook cells\n",
       "var notebookContainer = gd.closest('#notebook-container');\n",
       "if (notebookContainer) {{\n",
       "    x.observe(notebookContainer, {childList: true});\n",
       "}}\n",
       "\n",
       "// Listen for the clearing of the current output cell\n",
       "var outputEl = gd.closest('.output');\n",
       "if (outputEl) {{\n",
       "    x.observe(outputEl, {childList: true});\n",
       "}}\n",
       "\n",
       "                        })                };                });            </script>        </div>"
      ]
     },
     "metadata": {},
     "output_type": "display_data"
    }
   ],
   "source": [
    "colors = ['crimson','skyblue']\n",
    "contract_barchart=px.bar(totalcharges_attrition_df,x='Churn',y='Revenue',color='Churn',text='Revenue',color_discrete_sequence=colors,\n",
    "                        title='Churn by Revenue')\n",
    "contract_barchart.update_layout(legend=dict(yanchor=\"top\",y=0.95,xanchor=\"left\",x=0.40),autosize=True,margin=dict(t=30,b=0,l=0,r=0))"
   ]
  },
  {
   "cell_type": "markdown",
   "metadata": {},
   "source": [
    "Churn by PaymentMethod"
   ]
  },
  {
   "cell_type": "code",
   "execution_count": 139,
   "metadata": {},
   "outputs": [
    {
     "data": {
      "text/html": [
       "<div>\n",
       "<style scoped>\n",
       "    .dataframe tbody tr th:only-of-type {\n",
       "        vertical-align: middle;\n",
       "    }\n",
       "\n",
       "    .dataframe tbody tr th {\n",
       "        vertical-align: top;\n",
       "    }\n",
       "\n",
       "    .dataframe thead th {\n",
       "        text-align: right;\n",
       "    }\n",
       "</style>\n",
       "<table border=\"1\" class=\"dataframe\">\n",
       "  <thead>\n",
       "    <tr style=\"text-align: right;\">\n",
       "      <th></th>\n",
       "      <th>Churn</th>\n",
       "      <th>PaymentMethod</th>\n",
       "      <th>customerID</th>\n",
       "    </tr>\n",
       "  </thead>\n",
       "  <tbody>\n",
       "    <tr>\n",
       "      <th>0</th>\n",
       "      <td>No</td>\n",
       "      <td>Bank transfer (automatic)</td>\n",
       "      <td>428</td>\n",
       "    </tr>\n",
       "    <tr>\n",
       "      <th>1</th>\n",
       "      <td>No</td>\n",
       "      <td>Credit card (automatic)</td>\n",
       "      <td>427</td>\n",
       "    </tr>\n",
       "    <tr>\n",
       "      <th>2</th>\n",
       "      <td>No</td>\n",
       "      <td>Electronic check</td>\n",
       "      <td>404</td>\n",
       "    </tr>\n",
       "    <tr>\n",
       "      <th>3</th>\n",
       "      <td>No</td>\n",
       "      <td>Mailed check</td>\n",
       "      <td>395</td>\n",
       "    </tr>\n",
       "    <tr>\n",
       "      <th>4</th>\n",
       "      <td>Yes</td>\n",
       "      <td>Bank transfer (automatic)</td>\n",
       "      <td>94</td>\n",
       "    </tr>\n",
       "    <tr>\n",
       "      <th>5</th>\n",
       "      <td>Yes</td>\n",
       "      <td>Credit card (automatic)</td>\n",
       "      <td>64</td>\n",
       "    </tr>\n",
       "    <tr>\n",
       "      <th>6</th>\n",
       "      <td>Yes</td>\n",
       "      <td>Electronic check</td>\n",
       "      <td>349</td>\n",
       "    </tr>\n",
       "    <tr>\n",
       "      <th>7</th>\n",
       "      <td>Yes</td>\n",
       "      <td>Mailed check</td>\n",
       "      <td>82</td>\n",
       "    </tr>\n",
       "  </tbody>\n",
       "</table>\n",
       "</div>"
      ],
      "text/plain": [
       "  Churn              PaymentMethod  customerID\n",
       "0    No  Bank transfer (automatic)         428\n",
       "1    No    Credit card (automatic)         427\n",
       "2    No           Electronic check         404\n",
       "3    No               Mailed check         395\n",
       "4   Yes  Bank transfer (automatic)          94\n",
       "5   Yes    Credit card (automatic)          64\n",
       "6   Yes           Electronic check         349\n",
       "7   Yes               Mailed check          82"
      ]
     },
     "execution_count": 139,
     "metadata": {},
     "output_type": "execute_result"
    }
   ],
   "source": [
    "PaymentMethod_attrition_df=df.groupby( [ \"Churn\",\"PaymentMethod\"], as_index=False )[\"customerID\"].count()\n",
    "PaymentMethod_attrition_df"
   ]
  },
  {
   "cell_type": "code",
   "execution_count": 140,
   "metadata": {},
   "outputs": [
    {
     "data": {
      "text/html": [
       "<div>\n",
       "<style scoped>\n",
       "    .dataframe tbody tr th:only-of-type {\n",
       "        vertical-align: middle;\n",
       "    }\n",
       "\n",
       "    .dataframe tbody tr th {\n",
       "        vertical-align: top;\n",
       "    }\n",
       "\n",
       "    .dataframe thead th {\n",
       "        text-align: right;\n",
       "    }\n",
       "</style>\n",
       "<table border=\"1\" class=\"dataframe\">\n",
       "  <thead>\n",
       "    <tr style=\"text-align: right;\">\n",
       "      <th></th>\n",
       "      <th>PaymentMethod</th>\n",
       "      <th>customerID</th>\n",
       "      <th>Churn</th>\n",
       "    </tr>\n",
       "  </thead>\n",
       "  <tbody>\n",
       "    <tr>\n",
       "      <th>0</th>\n",
       "      <td>Bank transfer (automatic)</td>\n",
       "      <td>522</td>\n",
       "      <td>Customer Base</td>\n",
       "    </tr>\n",
       "    <tr>\n",
       "      <th>1</th>\n",
       "      <td>Credit card (automatic)</td>\n",
       "      <td>491</td>\n",
       "      <td>Customer Base</td>\n",
       "    </tr>\n",
       "    <tr>\n",
       "      <th>2</th>\n",
       "      <td>Electronic check</td>\n",
       "      <td>753</td>\n",
       "      <td>Customer Base</td>\n",
       "    </tr>\n",
       "    <tr>\n",
       "      <th>3</th>\n",
       "      <td>Mailed check</td>\n",
       "      <td>477</td>\n",
       "      <td>Customer Base</td>\n",
       "    </tr>\n",
       "  </tbody>\n",
       "</table>\n",
       "</div>"
      ],
      "text/plain": [
       "               PaymentMethod  customerID          Churn\n",
       "0  Bank transfer (automatic)         522  Customer Base\n",
       "1    Credit card (automatic)         491  Customer Base\n",
       "2           Electronic check         753  Customer Base\n",
       "3               Mailed check         477  Customer Base"
      ]
     },
     "execution_count": 140,
     "metadata": {},
     "output_type": "execute_result"
    }
   ],
   "source": [
    "PaymentMethod_base_df=df.groupby([\"PaymentMethod\"], as_index=False )[\"customerID\"].count()\n",
    "PaymentMethod_base_df['Churn']='Customer Base'\n",
    "PaymentMethod_base_df"
   ]
  },
  {
   "cell_type": "code",
   "execution_count": 141,
   "metadata": {},
   "outputs": [
    {
     "data": {
      "text/html": [
       "<div>\n",
       "<style scoped>\n",
       "    .dataframe tbody tr th:only-of-type {\n",
       "        vertical-align: middle;\n",
       "    }\n",
       "\n",
       "    .dataframe tbody tr th {\n",
       "        vertical-align: top;\n",
       "    }\n",
       "\n",
       "    .dataframe thead th {\n",
       "        text-align: right;\n",
       "    }\n",
       "</style>\n",
       "<table border=\"1\" class=\"dataframe\">\n",
       "  <thead>\n",
       "    <tr style=\"text-align: right;\">\n",
       "      <th></th>\n",
       "      <th>Churn</th>\n",
       "      <th>PaymentMethod</th>\n",
       "      <th>Customers</th>\n",
       "    </tr>\n",
       "  </thead>\n",
       "  <tbody>\n",
       "    <tr>\n",
       "      <th>4</th>\n",
       "      <td>Yes</td>\n",
       "      <td>Bank transfer (automatic)</td>\n",
       "      <td>94</td>\n",
       "    </tr>\n",
       "    <tr>\n",
       "      <th>0</th>\n",
       "      <td>No</td>\n",
       "      <td>Bank transfer (automatic)</td>\n",
       "      <td>428</td>\n",
       "    </tr>\n",
       "    <tr>\n",
       "      <th>8</th>\n",
       "      <td>Customer Base</td>\n",
       "      <td>Bank transfer (automatic)</td>\n",
       "      <td>522</td>\n",
       "    </tr>\n",
       "    <tr>\n",
       "      <th>5</th>\n",
       "      <td>Yes</td>\n",
       "      <td>Credit card (automatic)</td>\n",
       "      <td>64</td>\n",
       "    </tr>\n",
       "    <tr>\n",
       "      <th>1</th>\n",
       "      <td>No</td>\n",
       "      <td>Credit card (automatic)</td>\n",
       "      <td>427</td>\n",
       "    </tr>\n",
       "    <tr>\n",
       "      <th>9</th>\n",
       "      <td>Customer Base</td>\n",
       "      <td>Credit card (automatic)</td>\n",
       "      <td>491</td>\n",
       "    </tr>\n",
       "    <tr>\n",
       "      <th>6</th>\n",
       "      <td>Yes</td>\n",
       "      <td>Electronic check</td>\n",
       "      <td>349</td>\n",
       "    </tr>\n",
       "    <tr>\n",
       "      <th>2</th>\n",
       "      <td>No</td>\n",
       "      <td>Electronic check</td>\n",
       "      <td>404</td>\n",
       "    </tr>\n",
       "    <tr>\n",
       "      <th>10</th>\n",
       "      <td>Customer Base</td>\n",
       "      <td>Electronic check</td>\n",
       "      <td>753</td>\n",
       "    </tr>\n",
       "    <tr>\n",
       "      <th>7</th>\n",
       "      <td>Yes</td>\n",
       "      <td>Mailed check</td>\n",
       "      <td>82</td>\n",
       "    </tr>\n",
       "    <tr>\n",
       "      <th>3</th>\n",
       "      <td>No</td>\n",
       "      <td>Mailed check</td>\n",
       "      <td>395</td>\n",
       "    </tr>\n",
       "    <tr>\n",
       "      <th>11</th>\n",
       "      <td>Customer Base</td>\n",
       "      <td>Mailed check</td>\n",
       "      <td>477</td>\n",
       "    </tr>\n",
       "  </tbody>\n",
       "</table>\n",
       "</div>"
      ],
      "text/plain": [
       "            Churn              PaymentMethod  Customers\n",
       "4             Yes  Bank transfer (automatic)         94\n",
       "0              No  Bank transfer (automatic)        428\n",
       "8   Customer Base  Bank transfer (automatic)        522\n",
       "5             Yes    Credit card (automatic)         64\n",
       "1              No    Credit card (automatic)        427\n",
       "9   Customer Base    Credit card (automatic)        491\n",
       "6             Yes           Electronic check        349\n",
       "2              No           Electronic check        404\n",
       "10  Customer Base           Electronic check        753\n",
       "7             Yes               Mailed check         82\n",
       "3              No               Mailed check        395\n",
       "11  Customer Base               Mailed check        477"
      ]
     },
     "execution_count": 141,
     "metadata": {},
     "output_type": "execute_result"
    }
   ],
   "source": [
    "PaymentMethod_attrition_df=PaymentMethod_attrition_df.append(PaymentMethod_base_df, ignore_index = True) \n",
    "PaymentMethod_attrition_df.columns=['Churn','PaymentMethod','Customers']\n",
    "PaymentMethod_attrition_df=PaymentMethod_attrition_df.sort_values(by=['PaymentMethod', 'Customers'],ascending=True)\n",
    "PaymentMethod_attrition_df"
   ]
  },
  {
   "cell_type": "code",
   "execution_count": 171,
   "metadata": {},
   "outputs": [
    {
     "data": {
      "application/vnd.plotly.v1+json": {
       "config": {
        "plotlyServerURL": "https://plot.ly"
       },
       "data": [
        {
         "alignmentgroup": "True",
         "hovertemplate": "Churn=Yes<br>PaymentMethod=%{x}<br>Customers=%{text}<extra></extra>",
         "legendgroup": "Yes",
         "marker": {
          "color": "crimson"
         },
         "name": "Yes",
         "offsetgroup": "Yes",
         "orientation": "v",
         "showlegend": true,
         "text": [
          94,
          64,
          349,
          82
         ],
         "textposition": "auto",
         "type": "bar",
         "x": [
          "Bank transfer (automatic)",
          "Credit card (automatic)",
          "Electronic check",
          "Mailed check"
         ],
         "xaxis": "x",
         "y": [
          94,
          64,
          349,
          82
         ],
         "yaxis": "y"
        },
        {
         "alignmentgroup": "True",
         "hovertemplate": "Churn=No<br>PaymentMethod=%{x}<br>Customers=%{text}<extra></extra>",
         "legendgroup": "No",
         "marker": {
          "color": "skyblue"
         },
         "name": "No",
         "offsetgroup": "No",
         "orientation": "v",
         "showlegend": true,
         "text": [
          428,
          427,
          404,
          395
         ],
         "textposition": "auto",
         "type": "bar",
         "x": [
          "Bank transfer (automatic)",
          "Credit card (automatic)",
          "Electronic check",
          "Mailed check"
         ],
         "xaxis": "x",
         "y": [
          428,
          427,
          404,
          395
         ],
         "yaxis": "y"
        },
        {
         "alignmentgroup": "True",
         "hovertemplate": "Churn=Customer Base<br>PaymentMethod=%{x}<br>Customers=%{text}<extra></extra>",
         "legendgroup": "Customer Base",
         "marker": {
          "color": "teal"
         },
         "name": "Customer Base",
         "offsetgroup": "Customer Base",
         "orientation": "v",
         "showlegend": true,
         "text": [
          522,
          491,
          753,
          477
         ],
         "textposition": "auto",
         "type": "bar",
         "x": [
          "Bank transfer (automatic)",
          "Credit card (automatic)",
          "Electronic check",
          "Mailed check"
         ],
         "xaxis": "x",
         "y": [
          522,
          491,
          753,
          477
         ],
         "yaxis": "y"
        }
       ],
       "layout": {
        "autosize": true,
        "barmode": "group",
        "legend": {
         "title": {
          "text": "Churn"
         },
         "tracegroupgap": 0,
         "x": 0.4,
         "xanchor": "left",
         "y": 0.95,
         "yanchor": "top"
        },
        "margin": {
         "b": 0,
         "l": 0,
         "r": 0,
         "t": 30
        },
        "template": {
         "data": {
          "bar": [
           {
            "error_x": {
             "color": "rgb(51,51,51)"
            },
            "error_y": {
             "color": "rgb(51,51,51)"
            },
            "marker": {
             "line": {
              "color": "rgb(237,237,237)",
              "width": 0.5
             }
            },
            "type": "bar"
           }
          ],
          "barpolar": [
           {
            "marker": {
             "line": {
              "color": "rgb(237,237,237)",
              "width": 0.5
             }
            },
            "type": "barpolar"
           }
          ],
          "carpet": [
           {
            "aaxis": {
             "endlinecolor": "rgb(51,51,51)",
             "gridcolor": "white",
             "linecolor": "white",
             "minorgridcolor": "white",
             "startlinecolor": "rgb(51,51,51)"
            },
            "baxis": {
             "endlinecolor": "rgb(51,51,51)",
             "gridcolor": "white",
             "linecolor": "white",
             "minorgridcolor": "white",
             "startlinecolor": "rgb(51,51,51)"
            },
            "type": "carpet"
           }
          ],
          "choropleth": [
           {
            "colorbar": {
             "outlinewidth": 0,
             "tickcolor": "rgb(237,237,237)",
             "ticklen": 6,
             "ticks": "inside"
            },
            "type": "choropleth"
           }
          ],
          "contour": [
           {
            "colorbar": {
             "outlinewidth": 0,
             "tickcolor": "rgb(237,237,237)",
             "ticklen": 6,
             "ticks": "inside"
            },
            "colorscale": [
             [
              0,
              "rgb(20,44,66)"
             ],
             [
              1,
              "rgb(90,179,244)"
             ]
            ],
            "type": "contour"
           }
          ],
          "contourcarpet": [
           {
            "colorbar": {
             "outlinewidth": 0,
             "tickcolor": "rgb(237,237,237)",
             "ticklen": 6,
             "ticks": "inside"
            },
            "type": "contourcarpet"
           }
          ],
          "heatmap": [
           {
            "colorbar": {
             "outlinewidth": 0,
             "tickcolor": "rgb(237,237,237)",
             "ticklen": 6,
             "ticks": "inside"
            },
            "colorscale": [
             [
              0,
              "rgb(20,44,66)"
             ],
             [
              1,
              "rgb(90,179,244)"
             ]
            ],
            "type": "heatmap"
           }
          ],
          "heatmapgl": [
           {
            "colorbar": {
             "outlinewidth": 0,
             "tickcolor": "rgb(237,237,237)",
             "ticklen": 6,
             "ticks": "inside"
            },
            "colorscale": [
             [
              0,
              "rgb(20,44,66)"
             ],
             [
              1,
              "rgb(90,179,244)"
             ]
            ],
            "type": "heatmapgl"
           }
          ],
          "histogram": [
           {
            "marker": {
             "colorbar": {
              "outlinewidth": 0,
              "tickcolor": "rgb(237,237,237)",
              "ticklen": 6,
              "ticks": "inside"
             }
            },
            "type": "histogram"
           }
          ],
          "histogram2d": [
           {
            "colorbar": {
             "outlinewidth": 0,
             "tickcolor": "rgb(237,237,237)",
             "ticklen": 6,
             "ticks": "inside"
            },
            "colorscale": [
             [
              0,
              "rgb(20,44,66)"
             ],
             [
              1,
              "rgb(90,179,244)"
             ]
            ],
            "type": "histogram2d"
           }
          ],
          "histogram2dcontour": [
           {
            "colorbar": {
             "outlinewidth": 0,
             "tickcolor": "rgb(237,237,237)",
             "ticklen": 6,
             "ticks": "inside"
            },
            "colorscale": [
             [
              0,
              "rgb(20,44,66)"
             ],
             [
              1,
              "rgb(90,179,244)"
             ]
            ],
            "type": "histogram2dcontour"
           }
          ],
          "mesh3d": [
           {
            "colorbar": {
             "outlinewidth": 0,
             "tickcolor": "rgb(237,237,237)",
             "ticklen": 6,
             "ticks": "inside"
            },
            "type": "mesh3d"
           }
          ],
          "parcoords": [
           {
            "line": {
             "colorbar": {
              "outlinewidth": 0,
              "tickcolor": "rgb(237,237,237)",
              "ticklen": 6,
              "ticks": "inside"
             }
            },
            "type": "parcoords"
           }
          ],
          "pie": [
           {
            "automargin": true,
            "type": "pie"
           }
          ],
          "scatter": [
           {
            "marker": {
             "colorbar": {
              "outlinewidth": 0,
              "tickcolor": "rgb(237,237,237)",
              "ticklen": 6,
              "ticks": "inside"
             }
            },
            "type": "scatter"
           }
          ],
          "scatter3d": [
           {
            "line": {
             "colorbar": {
              "outlinewidth": 0,
              "tickcolor": "rgb(237,237,237)",
              "ticklen": 6,
              "ticks": "inside"
             }
            },
            "marker": {
             "colorbar": {
              "outlinewidth": 0,
              "tickcolor": "rgb(237,237,237)",
              "ticklen": 6,
              "ticks": "inside"
             }
            },
            "type": "scatter3d"
           }
          ],
          "scattercarpet": [
           {
            "marker": {
             "colorbar": {
              "outlinewidth": 0,
              "tickcolor": "rgb(237,237,237)",
              "ticklen": 6,
              "ticks": "inside"
             }
            },
            "type": "scattercarpet"
           }
          ],
          "scattergeo": [
           {
            "marker": {
             "colorbar": {
              "outlinewidth": 0,
              "tickcolor": "rgb(237,237,237)",
              "ticklen": 6,
              "ticks": "inside"
             }
            },
            "type": "scattergeo"
           }
          ],
          "scattergl": [
           {
            "marker": {
             "colorbar": {
              "outlinewidth": 0,
              "tickcolor": "rgb(237,237,237)",
              "ticklen": 6,
              "ticks": "inside"
             }
            },
            "type": "scattergl"
           }
          ],
          "scattermapbox": [
           {
            "marker": {
             "colorbar": {
              "outlinewidth": 0,
              "tickcolor": "rgb(237,237,237)",
              "ticklen": 6,
              "ticks": "inside"
             }
            },
            "type": "scattermapbox"
           }
          ],
          "scatterpolar": [
           {
            "marker": {
             "colorbar": {
              "outlinewidth": 0,
              "tickcolor": "rgb(237,237,237)",
              "ticklen": 6,
              "ticks": "inside"
             }
            },
            "type": "scatterpolar"
           }
          ],
          "scatterpolargl": [
           {
            "marker": {
             "colorbar": {
              "outlinewidth": 0,
              "tickcolor": "rgb(237,237,237)",
              "ticklen": 6,
              "ticks": "inside"
             }
            },
            "type": "scatterpolargl"
           }
          ],
          "scatterternary": [
           {
            "marker": {
             "colorbar": {
              "outlinewidth": 0,
              "tickcolor": "rgb(237,237,237)",
              "ticklen": 6,
              "ticks": "inside"
             }
            },
            "type": "scatterternary"
           }
          ],
          "surface": [
           {
            "colorbar": {
             "outlinewidth": 0,
             "tickcolor": "rgb(237,237,237)",
             "ticklen": 6,
             "ticks": "inside"
            },
            "colorscale": [
             [
              0,
              "rgb(20,44,66)"
             ],
             [
              1,
              "rgb(90,179,244)"
             ]
            ],
            "type": "surface"
           }
          ],
          "table": [
           {
            "cells": {
             "fill": {
              "color": "rgb(237,237,237)"
             },
             "line": {
              "color": "white"
             }
            },
            "header": {
             "fill": {
              "color": "rgb(217,217,217)"
             },
             "line": {
              "color": "white"
             }
            },
            "type": "table"
           }
          ]
         },
         "layout": {
          "annotationdefaults": {
           "arrowhead": 0,
           "arrowwidth": 1
          },
          "autotypenumbers": "strict",
          "coloraxis": {
           "colorbar": {
            "outlinewidth": 0,
            "tickcolor": "rgb(237,237,237)",
            "ticklen": 6,
            "ticks": "inside"
           }
          },
          "colorscale": {
           "sequential": [
            [
             0,
             "rgb(20,44,66)"
            ],
            [
             1,
             "rgb(90,179,244)"
            ]
           ],
           "sequentialminus": [
            [
             0,
             "rgb(20,44,66)"
            ],
            [
             1,
             "rgb(90,179,244)"
            ]
           ]
          },
          "colorway": [
           "#F8766D",
           "#A3A500",
           "#00BF7D",
           "#00B0F6",
           "#E76BF3"
          ],
          "font": {
           "color": "rgb(51,51,51)"
          },
          "geo": {
           "bgcolor": "white",
           "lakecolor": "white",
           "landcolor": "rgb(237,237,237)",
           "showlakes": true,
           "showland": true,
           "subunitcolor": "white"
          },
          "hoverlabel": {
           "align": "left"
          },
          "hovermode": "closest",
          "paper_bgcolor": "white",
          "plot_bgcolor": "rgb(237,237,237)",
          "polar": {
           "angularaxis": {
            "gridcolor": "white",
            "linecolor": "white",
            "showgrid": true,
            "tickcolor": "rgb(51,51,51)",
            "ticks": "outside"
           },
           "bgcolor": "rgb(237,237,237)",
           "radialaxis": {
            "gridcolor": "white",
            "linecolor": "white",
            "showgrid": true,
            "tickcolor": "rgb(51,51,51)",
            "ticks": "outside"
           }
          },
          "scene": {
           "xaxis": {
            "backgroundcolor": "rgb(237,237,237)",
            "gridcolor": "white",
            "gridwidth": 2,
            "linecolor": "white",
            "showbackground": true,
            "showgrid": true,
            "tickcolor": "rgb(51,51,51)",
            "ticks": "outside",
            "zerolinecolor": "white"
           },
           "yaxis": {
            "backgroundcolor": "rgb(237,237,237)",
            "gridcolor": "white",
            "gridwidth": 2,
            "linecolor": "white",
            "showbackground": true,
            "showgrid": true,
            "tickcolor": "rgb(51,51,51)",
            "ticks": "outside",
            "zerolinecolor": "white"
           },
           "zaxis": {
            "backgroundcolor": "rgb(237,237,237)",
            "gridcolor": "white",
            "gridwidth": 2,
            "linecolor": "white",
            "showbackground": true,
            "showgrid": true,
            "tickcolor": "rgb(51,51,51)",
            "ticks": "outside",
            "zerolinecolor": "white"
           }
          },
          "shapedefaults": {
           "fillcolor": "black",
           "line": {
            "width": 0
           },
           "opacity": 0.3
          },
          "ternary": {
           "aaxis": {
            "gridcolor": "white",
            "linecolor": "white",
            "showgrid": true,
            "tickcolor": "rgb(51,51,51)",
            "ticks": "outside"
           },
           "baxis": {
            "gridcolor": "white",
            "linecolor": "white",
            "showgrid": true,
            "tickcolor": "rgb(51,51,51)",
            "ticks": "outside"
           },
           "bgcolor": "rgb(237,237,237)",
           "caxis": {
            "gridcolor": "white",
            "linecolor": "white",
            "showgrid": true,
            "tickcolor": "rgb(51,51,51)",
            "ticks": "outside"
           }
          },
          "xaxis": {
           "automargin": true,
           "gridcolor": "white",
           "linecolor": "white",
           "showgrid": true,
           "tickcolor": "rgb(51,51,51)",
           "ticks": "outside",
           "title": {
            "standoff": 15
           },
           "zerolinecolor": "white"
          },
          "yaxis": {
           "automargin": true,
           "gridcolor": "white",
           "linecolor": "white",
           "showgrid": true,
           "tickcolor": "rgb(51,51,51)",
           "ticks": "outside",
           "title": {
            "standoff": 15
           },
           "zerolinecolor": "white"
          }
         }
        },
        "title": {
         "text": "Churn by Payment Method"
        },
        "xaxis": {
         "anchor": "y",
         "domain": [
          0,
          1
         ],
         "title": {
          "text": "PaymentMethod"
         }
        },
        "yaxis": {
         "anchor": "x",
         "domain": [
          0,
          1
         ],
         "title": {
          "text": "Customers"
         }
        }
       }
      },
      "text/html": [
       "<div>                            <div id=\"4c7a9c47-ae67-4b34-bca2-d3f6084df16d\" class=\"plotly-graph-div\" style=\"height:525px; width:100%;\"></div>            <script type=\"text/javascript\">                require([\"plotly\"], function(Plotly) {                    window.PLOTLYENV=window.PLOTLYENV || {};                                    if (document.getElementById(\"4c7a9c47-ae67-4b34-bca2-d3f6084df16d\")) {                    Plotly.newPlot(                        \"4c7a9c47-ae67-4b34-bca2-d3f6084df16d\",                        [{\"alignmentgroup\": \"True\", \"hovertemplate\": \"Churn=Yes<br>PaymentMethod=%{x}<br>Customers=%{text}<extra></extra>\", \"legendgroup\": \"Yes\", \"marker\": {\"color\": \"crimson\"}, \"name\": \"Yes\", \"offsetgroup\": \"Yes\", \"orientation\": \"v\", \"showlegend\": true, \"text\": [94.0, 64.0, 349.0, 82.0], \"textposition\": \"auto\", \"type\": \"bar\", \"x\": [\"Bank transfer (automatic)\", \"Credit card (automatic)\", \"Electronic check\", \"Mailed check\"], \"xaxis\": \"x\", \"y\": [94, 64, 349, 82], \"yaxis\": \"y\"}, {\"alignmentgroup\": \"True\", \"hovertemplate\": \"Churn=No<br>PaymentMethod=%{x}<br>Customers=%{text}<extra></extra>\", \"legendgroup\": \"No\", \"marker\": {\"color\": \"skyblue\"}, \"name\": \"No\", \"offsetgroup\": \"No\", \"orientation\": \"v\", \"showlegend\": true, \"text\": [428.0, 427.0, 404.0, 395.0], \"textposition\": \"auto\", \"type\": \"bar\", \"x\": [\"Bank transfer (automatic)\", \"Credit card (automatic)\", \"Electronic check\", \"Mailed check\"], \"xaxis\": \"x\", \"y\": [428, 427, 404, 395], \"yaxis\": \"y\"}, {\"alignmentgroup\": \"True\", \"hovertemplate\": \"Churn=Customer Base<br>PaymentMethod=%{x}<br>Customers=%{text}<extra></extra>\", \"legendgroup\": \"Customer Base\", \"marker\": {\"color\": \"teal\"}, \"name\": \"Customer Base\", \"offsetgroup\": \"Customer Base\", \"orientation\": \"v\", \"showlegend\": true, \"text\": [522.0, 491.0, 753.0, 477.0], \"textposition\": \"auto\", \"type\": \"bar\", \"x\": [\"Bank transfer (automatic)\", \"Credit card (automatic)\", \"Electronic check\", \"Mailed check\"], \"xaxis\": \"x\", \"y\": [522, 491, 753, 477], \"yaxis\": \"y\"}],                        {\"autosize\": true, \"barmode\": \"group\", \"legend\": {\"title\": {\"text\": \"Churn\"}, \"tracegroupgap\": 0, \"x\": 0.4, \"xanchor\": \"left\", \"y\": 0.95, \"yanchor\": \"top\"}, \"margin\": {\"b\": 0, \"l\": 0, \"r\": 0, \"t\": 30}, \"template\": {\"data\": {\"bar\": [{\"error_x\": {\"color\": \"rgb(51,51,51)\"}, \"error_y\": {\"color\": \"rgb(51,51,51)\"}, \"marker\": {\"line\": {\"color\": \"rgb(237,237,237)\", \"width\": 0.5}}, \"type\": \"bar\"}], \"barpolar\": [{\"marker\": {\"line\": {\"color\": \"rgb(237,237,237)\", \"width\": 0.5}}, \"type\": \"barpolar\"}], \"carpet\": [{\"aaxis\": {\"endlinecolor\": \"rgb(51,51,51)\", \"gridcolor\": \"white\", \"linecolor\": \"white\", \"minorgridcolor\": \"white\", \"startlinecolor\": \"rgb(51,51,51)\"}, \"baxis\": {\"endlinecolor\": \"rgb(51,51,51)\", \"gridcolor\": \"white\", \"linecolor\": \"white\", \"minorgridcolor\": \"white\", \"startlinecolor\": \"rgb(51,51,51)\"}, \"type\": \"carpet\"}], \"choropleth\": [{\"colorbar\": {\"outlinewidth\": 0, \"tickcolor\": \"rgb(237,237,237)\", \"ticklen\": 6, \"ticks\": \"inside\"}, \"type\": \"choropleth\"}], \"contour\": [{\"colorbar\": {\"outlinewidth\": 0, \"tickcolor\": \"rgb(237,237,237)\", \"ticklen\": 6, \"ticks\": \"inside\"}, \"colorscale\": [[0, \"rgb(20,44,66)\"], [1, \"rgb(90,179,244)\"]], \"type\": \"contour\"}], \"contourcarpet\": [{\"colorbar\": {\"outlinewidth\": 0, \"tickcolor\": \"rgb(237,237,237)\", \"ticklen\": 6, \"ticks\": \"inside\"}, \"type\": \"contourcarpet\"}], \"heatmap\": [{\"colorbar\": {\"outlinewidth\": 0, \"tickcolor\": \"rgb(237,237,237)\", \"ticklen\": 6, \"ticks\": \"inside\"}, \"colorscale\": [[0, \"rgb(20,44,66)\"], [1, \"rgb(90,179,244)\"]], \"type\": \"heatmap\"}], \"heatmapgl\": [{\"colorbar\": {\"outlinewidth\": 0, \"tickcolor\": \"rgb(237,237,237)\", \"ticklen\": 6, \"ticks\": \"inside\"}, \"colorscale\": [[0, \"rgb(20,44,66)\"], [1, \"rgb(90,179,244)\"]], \"type\": \"heatmapgl\"}], \"histogram\": [{\"marker\": {\"colorbar\": {\"outlinewidth\": 0, \"tickcolor\": \"rgb(237,237,237)\", \"ticklen\": 6, \"ticks\": \"inside\"}}, \"type\": \"histogram\"}], \"histogram2d\": [{\"colorbar\": {\"outlinewidth\": 0, \"tickcolor\": \"rgb(237,237,237)\", \"ticklen\": 6, \"ticks\": \"inside\"}, \"colorscale\": [[0, \"rgb(20,44,66)\"], [1, \"rgb(90,179,244)\"]], \"type\": \"histogram2d\"}], \"histogram2dcontour\": [{\"colorbar\": {\"outlinewidth\": 0, \"tickcolor\": \"rgb(237,237,237)\", \"ticklen\": 6, \"ticks\": \"inside\"}, \"colorscale\": [[0, \"rgb(20,44,66)\"], [1, \"rgb(90,179,244)\"]], \"type\": \"histogram2dcontour\"}], \"mesh3d\": [{\"colorbar\": {\"outlinewidth\": 0, \"tickcolor\": \"rgb(237,237,237)\", \"ticklen\": 6, \"ticks\": \"inside\"}, \"type\": \"mesh3d\"}], \"parcoords\": [{\"line\": {\"colorbar\": {\"outlinewidth\": 0, \"tickcolor\": \"rgb(237,237,237)\", \"ticklen\": 6, \"ticks\": \"inside\"}}, \"type\": \"parcoords\"}], \"pie\": [{\"automargin\": true, \"type\": \"pie\"}], \"scatter\": [{\"marker\": {\"colorbar\": {\"outlinewidth\": 0, \"tickcolor\": \"rgb(237,237,237)\", \"ticklen\": 6, \"ticks\": \"inside\"}}, \"type\": \"scatter\"}], \"scatter3d\": [{\"line\": {\"colorbar\": {\"outlinewidth\": 0, \"tickcolor\": \"rgb(237,237,237)\", \"ticklen\": 6, \"ticks\": \"inside\"}}, \"marker\": {\"colorbar\": {\"outlinewidth\": 0, \"tickcolor\": \"rgb(237,237,237)\", \"ticklen\": 6, \"ticks\": \"inside\"}}, \"type\": \"scatter3d\"}], \"scattercarpet\": [{\"marker\": {\"colorbar\": {\"outlinewidth\": 0, \"tickcolor\": \"rgb(237,237,237)\", \"ticklen\": 6, \"ticks\": \"inside\"}}, \"type\": \"scattercarpet\"}], \"scattergeo\": [{\"marker\": {\"colorbar\": {\"outlinewidth\": 0, \"tickcolor\": \"rgb(237,237,237)\", \"ticklen\": 6, \"ticks\": \"inside\"}}, \"type\": \"scattergeo\"}], \"scattergl\": [{\"marker\": {\"colorbar\": {\"outlinewidth\": 0, \"tickcolor\": \"rgb(237,237,237)\", \"ticklen\": 6, \"ticks\": \"inside\"}}, \"type\": \"scattergl\"}], \"scattermapbox\": [{\"marker\": {\"colorbar\": {\"outlinewidth\": 0, \"tickcolor\": \"rgb(237,237,237)\", \"ticklen\": 6, \"ticks\": \"inside\"}}, \"type\": \"scattermapbox\"}], \"scatterpolar\": [{\"marker\": {\"colorbar\": {\"outlinewidth\": 0, \"tickcolor\": \"rgb(237,237,237)\", \"ticklen\": 6, \"ticks\": \"inside\"}}, \"type\": \"scatterpolar\"}], \"scatterpolargl\": [{\"marker\": {\"colorbar\": {\"outlinewidth\": 0, \"tickcolor\": \"rgb(237,237,237)\", \"ticklen\": 6, \"ticks\": \"inside\"}}, \"type\": \"scatterpolargl\"}], \"scatterternary\": [{\"marker\": {\"colorbar\": {\"outlinewidth\": 0, \"tickcolor\": \"rgb(237,237,237)\", \"ticklen\": 6, \"ticks\": \"inside\"}}, \"type\": \"scatterternary\"}], \"surface\": [{\"colorbar\": {\"outlinewidth\": 0, \"tickcolor\": \"rgb(237,237,237)\", \"ticklen\": 6, \"ticks\": \"inside\"}, \"colorscale\": [[0, \"rgb(20,44,66)\"], [1, \"rgb(90,179,244)\"]], \"type\": \"surface\"}], \"table\": [{\"cells\": {\"fill\": {\"color\": \"rgb(237,237,237)\"}, \"line\": {\"color\": \"white\"}}, \"header\": {\"fill\": {\"color\": \"rgb(217,217,217)\"}, \"line\": {\"color\": \"white\"}}, \"type\": \"table\"}]}, \"layout\": {\"annotationdefaults\": {\"arrowhead\": 0, \"arrowwidth\": 1}, \"autotypenumbers\": \"strict\", \"coloraxis\": {\"colorbar\": {\"outlinewidth\": 0, \"tickcolor\": \"rgb(237,237,237)\", \"ticklen\": 6, \"ticks\": \"inside\"}}, \"colorscale\": {\"sequential\": [[0, \"rgb(20,44,66)\"], [1, \"rgb(90,179,244)\"]], \"sequentialminus\": [[0, \"rgb(20,44,66)\"], [1, \"rgb(90,179,244)\"]]}, \"colorway\": [\"#F8766D\", \"#A3A500\", \"#00BF7D\", \"#00B0F6\", \"#E76BF3\"], \"font\": {\"color\": \"rgb(51,51,51)\"}, \"geo\": {\"bgcolor\": \"white\", \"lakecolor\": \"white\", \"landcolor\": \"rgb(237,237,237)\", \"showlakes\": true, \"showland\": true, \"subunitcolor\": \"white\"}, \"hoverlabel\": {\"align\": \"left\"}, \"hovermode\": \"closest\", \"paper_bgcolor\": \"white\", \"plot_bgcolor\": \"rgb(237,237,237)\", \"polar\": {\"angularaxis\": {\"gridcolor\": \"white\", \"linecolor\": \"white\", \"showgrid\": true, \"tickcolor\": \"rgb(51,51,51)\", \"ticks\": \"outside\"}, \"bgcolor\": \"rgb(237,237,237)\", \"radialaxis\": {\"gridcolor\": \"white\", \"linecolor\": \"white\", \"showgrid\": true, \"tickcolor\": \"rgb(51,51,51)\", \"ticks\": \"outside\"}}, \"scene\": {\"xaxis\": {\"backgroundcolor\": \"rgb(237,237,237)\", \"gridcolor\": \"white\", \"gridwidth\": 2, \"linecolor\": \"white\", \"showbackground\": true, \"showgrid\": true, \"tickcolor\": \"rgb(51,51,51)\", \"ticks\": \"outside\", \"zerolinecolor\": \"white\"}, \"yaxis\": {\"backgroundcolor\": \"rgb(237,237,237)\", \"gridcolor\": \"white\", \"gridwidth\": 2, \"linecolor\": \"white\", \"showbackground\": true, \"showgrid\": true, \"tickcolor\": \"rgb(51,51,51)\", \"ticks\": \"outside\", \"zerolinecolor\": \"white\"}, \"zaxis\": {\"backgroundcolor\": \"rgb(237,237,237)\", \"gridcolor\": \"white\", \"gridwidth\": 2, \"linecolor\": \"white\", \"showbackground\": true, \"showgrid\": true, \"tickcolor\": \"rgb(51,51,51)\", \"ticks\": \"outside\", \"zerolinecolor\": \"white\"}}, \"shapedefaults\": {\"fillcolor\": \"black\", \"line\": {\"width\": 0}, \"opacity\": 0.3}, \"ternary\": {\"aaxis\": {\"gridcolor\": \"white\", \"linecolor\": \"white\", \"showgrid\": true, \"tickcolor\": \"rgb(51,51,51)\", \"ticks\": \"outside\"}, \"baxis\": {\"gridcolor\": \"white\", \"linecolor\": \"white\", \"showgrid\": true, \"tickcolor\": \"rgb(51,51,51)\", \"ticks\": \"outside\"}, \"bgcolor\": \"rgb(237,237,237)\", \"caxis\": {\"gridcolor\": \"white\", \"linecolor\": \"white\", \"showgrid\": true, \"tickcolor\": \"rgb(51,51,51)\", \"ticks\": \"outside\"}}, \"xaxis\": {\"automargin\": true, \"gridcolor\": \"white\", \"linecolor\": \"white\", \"showgrid\": true, \"tickcolor\": \"rgb(51,51,51)\", \"ticks\": \"outside\", \"title\": {\"standoff\": 15}, \"zerolinecolor\": \"white\"}, \"yaxis\": {\"automargin\": true, \"gridcolor\": \"white\", \"linecolor\": \"white\", \"showgrid\": true, \"tickcolor\": \"rgb(51,51,51)\", \"ticks\": \"outside\", \"title\": {\"standoff\": 15}, \"zerolinecolor\": \"white\"}}}, \"title\": {\"text\": \"Churn by Payment Method\"}, \"xaxis\": {\"anchor\": \"y\", \"domain\": [0.0, 1.0], \"title\": {\"text\": \"PaymentMethod\"}}, \"yaxis\": {\"anchor\": \"x\", \"domain\": [0.0, 1.0], \"title\": {\"text\": \"Customers\"}}},                        {\"responsive\": true}                    ).then(function(){\n",
       "                            \n",
       "var gd = document.getElementById('4c7a9c47-ae67-4b34-bca2-d3f6084df16d');\n",
       "var x = new MutationObserver(function (mutations, observer) {{\n",
       "        var display = window.getComputedStyle(gd).display;\n",
       "        if (!display || display === 'none') {{\n",
       "            console.log([gd, 'removed!']);\n",
       "            Plotly.purge(gd);\n",
       "            observer.disconnect();\n",
       "        }}\n",
       "}});\n",
       "\n",
       "// Listen for the removal of the full notebook cells\n",
       "var notebookContainer = gd.closest('#notebook-container');\n",
       "if (notebookContainer) {{\n",
       "    x.observe(notebookContainer, {childList: true});\n",
       "}}\n",
       "\n",
       "// Listen for the clearing of the current output cell\n",
       "var outputEl = gd.closest('.output');\n",
       "if (outputEl) {{\n",
       "    x.observe(outputEl, {childList: true});\n",
       "}}\n",
       "\n",
       "                        })                };                });            </script>        </div>"
      ]
     },
     "metadata": {},
     "output_type": "display_data"
    }
   ],
   "source": [
    "colors = ['crimson','skyblue','teal']\n",
    "techsupport_barchart=px.bar(PaymentMethod_attrition_df,x='PaymentMethod',y='Customers',color='Churn',text='Customers',color_discrete_sequence=colors,barmode=\"group\", \n",
    "                           title='Churn by Payment Method')\n",
    "techsupport_barchart.update_layout(legend=dict(yanchor=\"top\",y=0.95,xanchor=\"left\",x=0.40),autosize=True,margin=dict(t=30,b=0,l=0,r=0)) #use barmode='stack' when stacking,"
   ]
  },
  {
   "cell_type": "markdown",
   "metadata": {},
   "source": [
    "Attrition by Gender"
   ]
  },
  {
   "cell_type": "code",
   "execution_count": 143,
   "metadata": {},
   "outputs": [
    {
     "data": {
      "text/html": [
       "<div>\n",
       "<style scoped>\n",
       "    .dataframe tbody tr th:only-of-type {\n",
       "        vertical-align: middle;\n",
       "    }\n",
       "\n",
       "    .dataframe tbody tr th {\n",
       "        vertical-align: top;\n",
       "    }\n",
       "\n",
       "    .dataframe thead th {\n",
       "        text-align: right;\n",
       "    }\n",
       "</style>\n",
       "<table border=\"1\" class=\"dataframe\">\n",
       "  <thead>\n",
       "    <tr style=\"text-align: right;\">\n",
       "      <th></th>\n",
       "      <th>Churn</th>\n",
       "      <th>Gender</th>\n",
       "      <th>Customers</th>\n",
       "    </tr>\n",
       "  </thead>\n",
       "  <tbody>\n",
       "    <tr>\n",
       "      <th>0</th>\n",
       "      <td>No</td>\n",
       "      <td>Female</td>\n",
       "      <td>792</td>\n",
       "    </tr>\n",
       "    <tr>\n",
       "      <th>1</th>\n",
       "      <td>No</td>\n",
       "      <td>Male</td>\n",
       "      <td>862</td>\n",
       "    </tr>\n",
       "    <tr>\n",
       "      <th>2</th>\n",
       "      <td>Yes</td>\n",
       "      <td>Female</td>\n",
       "      <td>300</td>\n",
       "    </tr>\n",
       "    <tr>\n",
       "      <th>3</th>\n",
       "      <td>Yes</td>\n",
       "      <td>Male</td>\n",
       "      <td>289</td>\n",
       "    </tr>\n",
       "  </tbody>\n",
       "</table>\n",
       "</div>"
      ],
      "text/plain": [
       "  Churn  Gender  Customers\n",
       "0    No  Female        792\n",
       "1    No    Male        862\n",
       "2   Yes  Female        300\n",
       "3   Yes    Male        289"
      ]
     },
     "execution_count": 143,
     "metadata": {},
     "output_type": "execute_result"
    }
   ],
   "source": [
    "gender_attrition_df=df.groupby( [ \"Churn\",\"gender\"], as_index=False )[\"customerID\"].count()\n",
    "gender_attrition_df.columns=['Churn','Gender','Customers']\n",
    "gender_attrition_df"
   ]
  },
  {
   "cell_type": "code",
   "execution_count": 172,
   "metadata": {},
   "outputs": [
    {
     "data": {
      "application/vnd.plotly.v1+json": {
       "config": {
        "plotlyServerURL": "https://plot.ly"
       },
       "data": [
        {
         "alignmentgroup": "True",
         "hovertemplate": "Churn=No<br>Gender=%{x}<br>Customers=%{text}<extra></extra>",
         "legendgroup": "No",
         "marker": {
          "color": "skyblue"
         },
         "name": "No",
         "offsetgroup": "No",
         "orientation": "v",
         "showlegend": true,
         "text": [
          792,
          862
         ],
         "textposition": "auto",
         "type": "bar",
         "x": [
          "Female",
          "Male"
         ],
         "xaxis": "x",
         "y": [
          792,
          862
         ],
         "yaxis": "y"
        },
        {
         "alignmentgroup": "True",
         "hovertemplate": "Churn=Yes<br>Gender=%{x}<br>Customers=%{text}<extra></extra>",
         "legendgroup": "Yes",
         "marker": {
          "color": "crimson"
         },
         "name": "Yes",
         "offsetgroup": "Yes",
         "orientation": "v",
         "showlegend": true,
         "text": [
          300,
          289
         ],
         "textposition": "auto",
         "type": "bar",
         "x": [
          "Female",
          "Male"
         ],
         "xaxis": "x",
         "y": [
          300,
          289
         ],
         "yaxis": "y"
        }
       ],
       "layout": {
        "autosize": true,
        "barmode": "relative",
        "legend": {
         "title": {
          "text": "Churn"
         },
         "tracegroupgap": 0,
         "x": 0.46,
         "xanchor": "left",
         "y": 0.95,
         "yanchor": "top"
        },
        "margin": {
         "b": 0,
         "l": 0,
         "r": 0,
         "t": 30
        },
        "template": {
         "data": {
          "bar": [
           {
            "error_x": {
             "color": "rgb(51,51,51)"
            },
            "error_y": {
             "color": "rgb(51,51,51)"
            },
            "marker": {
             "line": {
              "color": "rgb(237,237,237)",
              "width": 0.5
             }
            },
            "type": "bar"
           }
          ],
          "barpolar": [
           {
            "marker": {
             "line": {
              "color": "rgb(237,237,237)",
              "width": 0.5
             }
            },
            "type": "barpolar"
           }
          ],
          "carpet": [
           {
            "aaxis": {
             "endlinecolor": "rgb(51,51,51)",
             "gridcolor": "white",
             "linecolor": "white",
             "minorgridcolor": "white",
             "startlinecolor": "rgb(51,51,51)"
            },
            "baxis": {
             "endlinecolor": "rgb(51,51,51)",
             "gridcolor": "white",
             "linecolor": "white",
             "minorgridcolor": "white",
             "startlinecolor": "rgb(51,51,51)"
            },
            "type": "carpet"
           }
          ],
          "choropleth": [
           {
            "colorbar": {
             "outlinewidth": 0,
             "tickcolor": "rgb(237,237,237)",
             "ticklen": 6,
             "ticks": "inside"
            },
            "type": "choropleth"
           }
          ],
          "contour": [
           {
            "colorbar": {
             "outlinewidth": 0,
             "tickcolor": "rgb(237,237,237)",
             "ticklen": 6,
             "ticks": "inside"
            },
            "colorscale": [
             [
              0,
              "rgb(20,44,66)"
             ],
             [
              1,
              "rgb(90,179,244)"
             ]
            ],
            "type": "contour"
           }
          ],
          "contourcarpet": [
           {
            "colorbar": {
             "outlinewidth": 0,
             "tickcolor": "rgb(237,237,237)",
             "ticklen": 6,
             "ticks": "inside"
            },
            "type": "contourcarpet"
           }
          ],
          "heatmap": [
           {
            "colorbar": {
             "outlinewidth": 0,
             "tickcolor": "rgb(237,237,237)",
             "ticklen": 6,
             "ticks": "inside"
            },
            "colorscale": [
             [
              0,
              "rgb(20,44,66)"
             ],
             [
              1,
              "rgb(90,179,244)"
             ]
            ],
            "type": "heatmap"
           }
          ],
          "heatmapgl": [
           {
            "colorbar": {
             "outlinewidth": 0,
             "tickcolor": "rgb(237,237,237)",
             "ticklen": 6,
             "ticks": "inside"
            },
            "colorscale": [
             [
              0,
              "rgb(20,44,66)"
             ],
             [
              1,
              "rgb(90,179,244)"
             ]
            ],
            "type": "heatmapgl"
           }
          ],
          "histogram": [
           {
            "marker": {
             "colorbar": {
              "outlinewidth": 0,
              "tickcolor": "rgb(237,237,237)",
              "ticklen": 6,
              "ticks": "inside"
             }
            },
            "type": "histogram"
           }
          ],
          "histogram2d": [
           {
            "colorbar": {
             "outlinewidth": 0,
             "tickcolor": "rgb(237,237,237)",
             "ticklen": 6,
             "ticks": "inside"
            },
            "colorscale": [
             [
              0,
              "rgb(20,44,66)"
             ],
             [
              1,
              "rgb(90,179,244)"
             ]
            ],
            "type": "histogram2d"
           }
          ],
          "histogram2dcontour": [
           {
            "colorbar": {
             "outlinewidth": 0,
             "tickcolor": "rgb(237,237,237)",
             "ticklen": 6,
             "ticks": "inside"
            },
            "colorscale": [
             [
              0,
              "rgb(20,44,66)"
             ],
             [
              1,
              "rgb(90,179,244)"
             ]
            ],
            "type": "histogram2dcontour"
           }
          ],
          "mesh3d": [
           {
            "colorbar": {
             "outlinewidth": 0,
             "tickcolor": "rgb(237,237,237)",
             "ticklen": 6,
             "ticks": "inside"
            },
            "type": "mesh3d"
           }
          ],
          "parcoords": [
           {
            "line": {
             "colorbar": {
              "outlinewidth": 0,
              "tickcolor": "rgb(237,237,237)",
              "ticklen": 6,
              "ticks": "inside"
             }
            },
            "type": "parcoords"
           }
          ],
          "pie": [
           {
            "automargin": true,
            "type": "pie"
           }
          ],
          "scatter": [
           {
            "marker": {
             "colorbar": {
              "outlinewidth": 0,
              "tickcolor": "rgb(237,237,237)",
              "ticklen": 6,
              "ticks": "inside"
             }
            },
            "type": "scatter"
           }
          ],
          "scatter3d": [
           {
            "line": {
             "colorbar": {
              "outlinewidth": 0,
              "tickcolor": "rgb(237,237,237)",
              "ticklen": 6,
              "ticks": "inside"
             }
            },
            "marker": {
             "colorbar": {
              "outlinewidth": 0,
              "tickcolor": "rgb(237,237,237)",
              "ticklen": 6,
              "ticks": "inside"
             }
            },
            "type": "scatter3d"
           }
          ],
          "scattercarpet": [
           {
            "marker": {
             "colorbar": {
              "outlinewidth": 0,
              "tickcolor": "rgb(237,237,237)",
              "ticklen": 6,
              "ticks": "inside"
             }
            },
            "type": "scattercarpet"
           }
          ],
          "scattergeo": [
           {
            "marker": {
             "colorbar": {
              "outlinewidth": 0,
              "tickcolor": "rgb(237,237,237)",
              "ticklen": 6,
              "ticks": "inside"
             }
            },
            "type": "scattergeo"
           }
          ],
          "scattergl": [
           {
            "marker": {
             "colorbar": {
              "outlinewidth": 0,
              "tickcolor": "rgb(237,237,237)",
              "ticklen": 6,
              "ticks": "inside"
             }
            },
            "type": "scattergl"
           }
          ],
          "scattermapbox": [
           {
            "marker": {
             "colorbar": {
              "outlinewidth": 0,
              "tickcolor": "rgb(237,237,237)",
              "ticklen": 6,
              "ticks": "inside"
             }
            },
            "type": "scattermapbox"
           }
          ],
          "scatterpolar": [
           {
            "marker": {
             "colorbar": {
              "outlinewidth": 0,
              "tickcolor": "rgb(237,237,237)",
              "ticklen": 6,
              "ticks": "inside"
             }
            },
            "type": "scatterpolar"
           }
          ],
          "scatterpolargl": [
           {
            "marker": {
             "colorbar": {
              "outlinewidth": 0,
              "tickcolor": "rgb(237,237,237)",
              "ticklen": 6,
              "ticks": "inside"
             }
            },
            "type": "scatterpolargl"
           }
          ],
          "scatterternary": [
           {
            "marker": {
             "colorbar": {
              "outlinewidth": 0,
              "tickcolor": "rgb(237,237,237)",
              "ticklen": 6,
              "ticks": "inside"
             }
            },
            "type": "scatterternary"
           }
          ],
          "surface": [
           {
            "colorbar": {
             "outlinewidth": 0,
             "tickcolor": "rgb(237,237,237)",
             "ticklen": 6,
             "ticks": "inside"
            },
            "colorscale": [
             [
              0,
              "rgb(20,44,66)"
             ],
             [
              1,
              "rgb(90,179,244)"
             ]
            ],
            "type": "surface"
           }
          ],
          "table": [
           {
            "cells": {
             "fill": {
              "color": "rgb(237,237,237)"
             },
             "line": {
              "color": "white"
             }
            },
            "header": {
             "fill": {
              "color": "rgb(217,217,217)"
             },
             "line": {
              "color": "white"
             }
            },
            "type": "table"
           }
          ]
         },
         "layout": {
          "annotationdefaults": {
           "arrowhead": 0,
           "arrowwidth": 1
          },
          "autotypenumbers": "strict",
          "coloraxis": {
           "colorbar": {
            "outlinewidth": 0,
            "tickcolor": "rgb(237,237,237)",
            "ticklen": 6,
            "ticks": "inside"
           }
          },
          "colorscale": {
           "sequential": [
            [
             0,
             "rgb(20,44,66)"
            ],
            [
             1,
             "rgb(90,179,244)"
            ]
           ],
           "sequentialminus": [
            [
             0,
             "rgb(20,44,66)"
            ],
            [
             1,
             "rgb(90,179,244)"
            ]
           ]
          },
          "colorway": [
           "#F8766D",
           "#A3A500",
           "#00BF7D",
           "#00B0F6",
           "#E76BF3"
          ],
          "font": {
           "color": "rgb(51,51,51)"
          },
          "geo": {
           "bgcolor": "white",
           "lakecolor": "white",
           "landcolor": "rgb(237,237,237)",
           "showlakes": true,
           "showland": true,
           "subunitcolor": "white"
          },
          "hoverlabel": {
           "align": "left"
          },
          "hovermode": "closest",
          "paper_bgcolor": "white",
          "plot_bgcolor": "rgb(237,237,237)",
          "polar": {
           "angularaxis": {
            "gridcolor": "white",
            "linecolor": "white",
            "showgrid": true,
            "tickcolor": "rgb(51,51,51)",
            "ticks": "outside"
           },
           "bgcolor": "rgb(237,237,237)",
           "radialaxis": {
            "gridcolor": "white",
            "linecolor": "white",
            "showgrid": true,
            "tickcolor": "rgb(51,51,51)",
            "ticks": "outside"
           }
          },
          "scene": {
           "xaxis": {
            "backgroundcolor": "rgb(237,237,237)",
            "gridcolor": "white",
            "gridwidth": 2,
            "linecolor": "white",
            "showbackground": true,
            "showgrid": true,
            "tickcolor": "rgb(51,51,51)",
            "ticks": "outside",
            "zerolinecolor": "white"
           },
           "yaxis": {
            "backgroundcolor": "rgb(237,237,237)",
            "gridcolor": "white",
            "gridwidth": 2,
            "linecolor": "white",
            "showbackground": true,
            "showgrid": true,
            "tickcolor": "rgb(51,51,51)",
            "ticks": "outside",
            "zerolinecolor": "white"
           },
           "zaxis": {
            "backgroundcolor": "rgb(237,237,237)",
            "gridcolor": "white",
            "gridwidth": 2,
            "linecolor": "white",
            "showbackground": true,
            "showgrid": true,
            "tickcolor": "rgb(51,51,51)",
            "ticks": "outside",
            "zerolinecolor": "white"
           }
          },
          "shapedefaults": {
           "fillcolor": "black",
           "line": {
            "width": 0
           },
           "opacity": 0.3
          },
          "ternary": {
           "aaxis": {
            "gridcolor": "white",
            "linecolor": "white",
            "showgrid": true,
            "tickcolor": "rgb(51,51,51)",
            "ticks": "outside"
           },
           "baxis": {
            "gridcolor": "white",
            "linecolor": "white",
            "showgrid": true,
            "tickcolor": "rgb(51,51,51)",
            "ticks": "outside"
           },
           "bgcolor": "rgb(237,237,237)",
           "caxis": {
            "gridcolor": "white",
            "linecolor": "white",
            "showgrid": true,
            "tickcolor": "rgb(51,51,51)",
            "ticks": "outside"
           }
          },
          "xaxis": {
           "automargin": true,
           "gridcolor": "white",
           "linecolor": "white",
           "showgrid": true,
           "tickcolor": "rgb(51,51,51)",
           "ticks": "outside",
           "title": {
            "standoff": 15
           },
           "zerolinecolor": "white"
          },
          "yaxis": {
           "automargin": true,
           "gridcolor": "white",
           "linecolor": "white",
           "showgrid": true,
           "tickcolor": "rgb(51,51,51)",
           "ticks": "outside",
           "title": {
            "standoff": 15
           },
           "zerolinecolor": "white"
          }
         }
        },
        "title": {
         "text": "Churn by Gender"
        },
        "xaxis": {
         "anchor": "y",
         "domain": [
          0,
          1
         ],
         "title": {
          "text": "Gender"
         }
        },
        "yaxis": {
         "anchor": "x",
         "domain": [
          0,
          1
         ],
         "title": {
          "text": "Customers"
         }
        }
       }
      },
      "text/html": [
       "<div>                            <div id=\"d15b9947-fee5-4277-9964-ac5c5f73ee24\" class=\"plotly-graph-div\" style=\"height:525px; width:100%;\"></div>            <script type=\"text/javascript\">                require([\"plotly\"], function(Plotly) {                    window.PLOTLYENV=window.PLOTLYENV || {};                                    if (document.getElementById(\"d15b9947-fee5-4277-9964-ac5c5f73ee24\")) {                    Plotly.newPlot(                        \"d15b9947-fee5-4277-9964-ac5c5f73ee24\",                        [{\"alignmentgroup\": \"True\", \"hovertemplate\": \"Churn=No<br>Gender=%{x}<br>Customers=%{text}<extra></extra>\", \"legendgroup\": \"No\", \"marker\": {\"color\": \"skyblue\"}, \"name\": \"No\", \"offsetgroup\": \"No\", \"orientation\": \"v\", \"showlegend\": true, \"text\": [792.0, 862.0], \"textposition\": \"auto\", \"type\": \"bar\", \"x\": [\"Female\", \"Male\"], \"xaxis\": \"x\", \"y\": [792, 862], \"yaxis\": \"y\"}, {\"alignmentgroup\": \"True\", \"hovertemplate\": \"Churn=Yes<br>Gender=%{x}<br>Customers=%{text}<extra></extra>\", \"legendgroup\": \"Yes\", \"marker\": {\"color\": \"crimson\"}, \"name\": \"Yes\", \"offsetgroup\": \"Yes\", \"orientation\": \"v\", \"showlegend\": true, \"text\": [300.0, 289.0], \"textposition\": \"auto\", \"type\": \"bar\", \"x\": [\"Female\", \"Male\"], \"xaxis\": \"x\", \"y\": [300, 289], \"yaxis\": \"y\"}],                        {\"autosize\": true, \"barmode\": \"relative\", \"legend\": {\"title\": {\"text\": \"Churn\"}, \"tracegroupgap\": 0, \"x\": 0.46, \"xanchor\": \"left\", \"y\": 0.95, \"yanchor\": \"top\"}, \"margin\": {\"b\": 0, \"l\": 0, \"r\": 0, \"t\": 30}, \"template\": {\"data\": {\"bar\": [{\"error_x\": {\"color\": \"rgb(51,51,51)\"}, \"error_y\": {\"color\": \"rgb(51,51,51)\"}, \"marker\": {\"line\": {\"color\": \"rgb(237,237,237)\", \"width\": 0.5}}, \"type\": \"bar\"}], \"barpolar\": [{\"marker\": {\"line\": {\"color\": \"rgb(237,237,237)\", \"width\": 0.5}}, \"type\": \"barpolar\"}], \"carpet\": [{\"aaxis\": {\"endlinecolor\": \"rgb(51,51,51)\", \"gridcolor\": \"white\", \"linecolor\": \"white\", \"minorgridcolor\": \"white\", \"startlinecolor\": \"rgb(51,51,51)\"}, \"baxis\": {\"endlinecolor\": \"rgb(51,51,51)\", \"gridcolor\": \"white\", \"linecolor\": \"white\", \"minorgridcolor\": \"white\", \"startlinecolor\": \"rgb(51,51,51)\"}, \"type\": \"carpet\"}], \"choropleth\": [{\"colorbar\": {\"outlinewidth\": 0, \"tickcolor\": \"rgb(237,237,237)\", \"ticklen\": 6, \"ticks\": \"inside\"}, \"type\": \"choropleth\"}], \"contour\": [{\"colorbar\": {\"outlinewidth\": 0, \"tickcolor\": \"rgb(237,237,237)\", \"ticklen\": 6, \"ticks\": \"inside\"}, \"colorscale\": [[0, \"rgb(20,44,66)\"], [1, \"rgb(90,179,244)\"]], \"type\": \"contour\"}], \"contourcarpet\": [{\"colorbar\": {\"outlinewidth\": 0, \"tickcolor\": \"rgb(237,237,237)\", \"ticklen\": 6, \"ticks\": \"inside\"}, \"type\": \"contourcarpet\"}], \"heatmap\": [{\"colorbar\": {\"outlinewidth\": 0, \"tickcolor\": \"rgb(237,237,237)\", \"ticklen\": 6, \"ticks\": \"inside\"}, \"colorscale\": [[0, \"rgb(20,44,66)\"], [1, \"rgb(90,179,244)\"]], \"type\": \"heatmap\"}], \"heatmapgl\": [{\"colorbar\": {\"outlinewidth\": 0, \"tickcolor\": \"rgb(237,237,237)\", \"ticklen\": 6, \"ticks\": \"inside\"}, \"colorscale\": [[0, \"rgb(20,44,66)\"], [1, \"rgb(90,179,244)\"]], \"type\": \"heatmapgl\"}], \"histogram\": [{\"marker\": {\"colorbar\": {\"outlinewidth\": 0, \"tickcolor\": \"rgb(237,237,237)\", \"ticklen\": 6, \"ticks\": \"inside\"}}, \"type\": \"histogram\"}], \"histogram2d\": [{\"colorbar\": {\"outlinewidth\": 0, \"tickcolor\": \"rgb(237,237,237)\", \"ticklen\": 6, \"ticks\": \"inside\"}, \"colorscale\": [[0, \"rgb(20,44,66)\"], [1, \"rgb(90,179,244)\"]], \"type\": \"histogram2d\"}], \"histogram2dcontour\": [{\"colorbar\": {\"outlinewidth\": 0, \"tickcolor\": \"rgb(237,237,237)\", \"ticklen\": 6, \"ticks\": \"inside\"}, \"colorscale\": [[0, \"rgb(20,44,66)\"], [1, \"rgb(90,179,244)\"]], \"type\": \"histogram2dcontour\"}], \"mesh3d\": [{\"colorbar\": {\"outlinewidth\": 0, \"tickcolor\": \"rgb(237,237,237)\", \"ticklen\": 6, \"ticks\": \"inside\"}, \"type\": \"mesh3d\"}], \"parcoords\": [{\"line\": {\"colorbar\": {\"outlinewidth\": 0, \"tickcolor\": \"rgb(237,237,237)\", \"ticklen\": 6, \"ticks\": \"inside\"}}, \"type\": \"parcoords\"}], \"pie\": [{\"automargin\": true, \"type\": \"pie\"}], \"scatter\": [{\"marker\": {\"colorbar\": {\"outlinewidth\": 0, \"tickcolor\": \"rgb(237,237,237)\", \"ticklen\": 6, \"ticks\": \"inside\"}}, \"type\": \"scatter\"}], \"scatter3d\": [{\"line\": {\"colorbar\": {\"outlinewidth\": 0, \"tickcolor\": \"rgb(237,237,237)\", \"ticklen\": 6, \"ticks\": \"inside\"}}, \"marker\": {\"colorbar\": {\"outlinewidth\": 0, \"tickcolor\": \"rgb(237,237,237)\", \"ticklen\": 6, \"ticks\": \"inside\"}}, \"type\": \"scatter3d\"}], \"scattercarpet\": [{\"marker\": {\"colorbar\": {\"outlinewidth\": 0, \"tickcolor\": \"rgb(237,237,237)\", \"ticklen\": 6, \"ticks\": \"inside\"}}, \"type\": \"scattercarpet\"}], \"scattergeo\": [{\"marker\": {\"colorbar\": {\"outlinewidth\": 0, \"tickcolor\": \"rgb(237,237,237)\", \"ticklen\": 6, \"ticks\": \"inside\"}}, \"type\": \"scattergeo\"}], \"scattergl\": [{\"marker\": {\"colorbar\": {\"outlinewidth\": 0, \"tickcolor\": \"rgb(237,237,237)\", \"ticklen\": 6, \"ticks\": \"inside\"}}, \"type\": \"scattergl\"}], \"scattermapbox\": [{\"marker\": {\"colorbar\": {\"outlinewidth\": 0, \"tickcolor\": \"rgb(237,237,237)\", \"ticklen\": 6, \"ticks\": \"inside\"}}, \"type\": \"scattermapbox\"}], \"scatterpolar\": [{\"marker\": {\"colorbar\": {\"outlinewidth\": 0, \"tickcolor\": \"rgb(237,237,237)\", \"ticklen\": 6, \"ticks\": \"inside\"}}, \"type\": \"scatterpolar\"}], \"scatterpolargl\": [{\"marker\": {\"colorbar\": {\"outlinewidth\": 0, \"tickcolor\": \"rgb(237,237,237)\", \"ticklen\": 6, \"ticks\": \"inside\"}}, \"type\": \"scatterpolargl\"}], \"scatterternary\": [{\"marker\": {\"colorbar\": {\"outlinewidth\": 0, \"tickcolor\": \"rgb(237,237,237)\", \"ticklen\": 6, \"ticks\": \"inside\"}}, \"type\": \"scatterternary\"}], \"surface\": [{\"colorbar\": {\"outlinewidth\": 0, \"tickcolor\": \"rgb(237,237,237)\", \"ticklen\": 6, \"ticks\": \"inside\"}, \"colorscale\": [[0, \"rgb(20,44,66)\"], [1, \"rgb(90,179,244)\"]], \"type\": \"surface\"}], \"table\": [{\"cells\": {\"fill\": {\"color\": \"rgb(237,237,237)\"}, \"line\": {\"color\": \"white\"}}, \"header\": {\"fill\": {\"color\": \"rgb(217,217,217)\"}, \"line\": {\"color\": \"white\"}}, \"type\": \"table\"}]}, \"layout\": {\"annotationdefaults\": {\"arrowhead\": 0, \"arrowwidth\": 1}, \"autotypenumbers\": \"strict\", \"coloraxis\": {\"colorbar\": {\"outlinewidth\": 0, \"tickcolor\": \"rgb(237,237,237)\", \"ticklen\": 6, \"ticks\": \"inside\"}}, \"colorscale\": {\"sequential\": [[0, \"rgb(20,44,66)\"], [1, \"rgb(90,179,244)\"]], \"sequentialminus\": [[0, \"rgb(20,44,66)\"], [1, \"rgb(90,179,244)\"]]}, \"colorway\": [\"#F8766D\", \"#A3A500\", \"#00BF7D\", \"#00B0F6\", \"#E76BF3\"], \"font\": {\"color\": \"rgb(51,51,51)\"}, \"geo\": {\"bgcolor\": \"white\", \"lakecolor\": \"white\", \"landcolor\": \"rgb(237,237,237)\", \"showlakes\": true, \"showland\": true, \"subunitcolor\": \"white\"}, \"hoverlabel\": {\"align\": \"left\"}, \"hovermode\": \"closest\", \"paper_bgcolor\": \"white\", \"plot_bgcolor\": \"rgb(237,237,237)\", \"polar\": {\"angularaxis\": {\"gridcolor\": \"white\", \"linecolor\": \"white\", \"showgrid\": true, \"tickcolor\": \"rgb(51,51,51)\", \"ticks\": \"outside\"}, \"bgcolor\": \"rgb(237,237,237)\", \"radialaxis\": {\"gridcolor\": \"white\", \"linecolor\": \"white\", \"showgrid\": true, \"tickcolor\": \"rgb(51,51,51)\", \"ticks\": \"outside\"}}, \"scene\": {\"xaxis\": {\"backgroundcolor\": \"rgb(237,237,237)\", \"gridcolor\": \"white\", \"gridwidth\": 2, \"linecolor\": \"white\", \"showbackground\": true, \"showgrid\": true, \"tickcolor\": \"rgb(51,51,51)\", \"ticks\": \"outside\", \"zerolinecolor\": \"white\"}, \"yaxis\": {\"backgroundcolor\": \"rgb(237,237,237)\", \"gridcolor\": \"white\", \"gridwidth\": 2, \"linecolor\": \"white\", \"showbackground\": true, \"showgrid\": true, \"tickcolor\": \"rgb(51,51,51)\", \"ticks\": \"outside\", \"zerolinecolor\": \"white\"}, \"zaxis\": {\"backgroundcolor\": \"rgb(237,237,237)\", \"gridcolor\": \"white\", \"gridwidth\": 2, \"linecolor\": \"white\", \"showbackground\": true, \"showgrid\": true, \"tickcolor\": \"rgb(51,51,51)\", \"ticks\": \"outside\", \"zerolinecolor\": \"white\"}}, \"shapedefaults\": {\"fillcolor\": \"black\", \"line\": {\"width\": 0}, \"opacity\": 0.3}, \"ternary\": {\"aaxis\": {\"gridcolor\": \"white\", \"linecolor\": \"white\", \"showgrid\": true, \"tickcolor\": \"rgb(51,51,51)\", \"ticks\": \"outside\"}, \"baxis\": {\"gridcolor\": \"white\", \"linecolor\": \"white\", \"showgrid\": true, \"tickcolor\": \"rgb(51,51,51)\", \"ticks\": \"outside\"}, \"bgcolor\": \"rgb(237,237,237)\", \"caxis\": {\"gridcolor\": \"white\", \"linecolor\": \"white\", \"showgrid\": true, \"tickcolor\": \"rgb(51,51,51)\", \"ticks\": \"outside\"}}, \"xaxis\": {\"automargin\": true, \"gridcolor\": \"white\", \"linecolor\": \"white\", \"showgrid\": true, \"tickcolor\": \"rgb(51,51,51)\", \"ticks\": \"outside\", \"title\": {\"standoff\": 15}, \"zerolinecolor\": \"white\"}, \"yaxis\": {\"automargin\": true, \"gridcolor\": \"white\", \"linecolor\": \"white\", \"showgrid\": true, \"tickcolor\": \"rgb(51,51,51)\", \"ticks\": \"outside\", \"title\": {\"standoff\": 15}, \"zerolinecolor\": \"white\"}}}, \"title\": {\"text\": \"Churn by Gender\"}, \"xaxis\": {\"anchor\": \"y\", \"domain\": [0.0, 1.0], \"title\": {\"text\": \"Gender\"}}, \"yaxis\": {\"anchor\": \"x\", \"domain\": [0.0, 1.0], \"title\": {\"text\": \"Customers\"}}},                        {\"responsive\": true}                    ).then(function(){\n",
       "                            \n",
       "var gd = document.getElementById('d15b9947-fee5-4277-9964-ac5c5f73ee24');\n",
       "var x = new MutationObserver(function (mutations, observer) {{\n",
       "        var display = window.getComputedStyle(gd).display;\n",
       "        if (!display || display === 'none') {{\n",
       "            console.log([gd, 'removed!']);\n",
       "            Plotly.purge(gd);\n",
       "            observer.disconnect();\n",
       "        }}\n",
       "}});\n",
       "\n",
       "// Listen for the removal of the full notebook cells\n",
       "var notebookContainer = gd.closest('#notebook-container');\n",
       "if (notebookContainer) {{\n",
       "    x.observe(notebookContainer, {childList: true});\n",
       "}}\n",
       "\n",
       "// Listen for the clearing of the current output cell\n",
       "var outputEl = gd.closest('.output');\n",
       "if (outputEl) {{\n",
       "    x.observe(outputEl, {childList: true});\n",
       "}}\n",
       "\n",
       "                        })                };                });            </script>        </div>"
      ]
     },
     "metadata": {},
     "output_type": "display_data"
    }
   ],
   "source": [
    "colors = ['skyblue','crimson']\n",
    "grouped_barchart=px.bar(gender_attrition_df,x='Gender',y='Customers',color='Churn',text='Customers',color_discrete_sequence=colors,title='Churn by Gender')\n",
    "grouped_barchart.update_layout(legend=dict(yanchor=\"top\",y=0.95,xanchor=\"left\",x=0.46),autosize=True,margin=dict(t=30,b=0,l=0,r=0)) #use barmode='stack' when stacking,"
   ]
  },
  {
   "cell_type": "markdown",
   "metadata": {},
   "source": [
    "Churn by Tech Support"
   ]
  },
  {
   "cell_type": "code",
   "execution_count": 145,
   "metadata": {},
   "outputs": [
    {
     "data": {
      "text/html": [
       "<div>\n",
       "<style scoped>\n",
       "    .dataframe tbody tr th:only-of-type {\n",
       "        vertical-align: middle;\n",
       "    }\n",
       "\n",
       "    .dataframe tbody tr th {\n",
       "        vertical-align: top;\n",
       "    }\n",
       "\n",
       "    .dataframe thead th {\n",
       "        text-align: right;\n",
       "    }\n",
       "</style>\n",
       "<table border=\"1\" class=\"dataframe\">\n",
       "  <thead>\n",
       "    <tr style=\"text-align: right;\">\n",
       "      <th></th>\n",
       "      <th>Churn</th>\n",
       "      <th>TechSupport</th>\n",
       "      <th>customerID</th>\n",
       "    </tr>\n",
       "  </thead>\n",
       "  <tbody>\n",
       "    <tr>\n",
       "      <th>0</th>\n",
       "      <td>No</td>\n",
       "      <td>No</td>\n",
       "      <td>647</td>\n",
       "    </tr>\n",
       "    <tr>\n",
       "      <th>1</th>\n",
       "      <td>No</td>\n",
       "      <td>No internet service</td>\n",
       "      <td>448</td>\n",
       "    </tr>\n",
       "    <tr>\n",
       "      <th>2</th>\n",
       "      <td>No</td>\n",
       "      <td>Yes</td>\n",
       "      <td>559</td>\n",
       "    </tr>\n",
       "    <tr>\n",
       "      <th>3</th>\n",
       "      <td>Yes</td>\n",
       "      <td>No</td>\n",
       "      <td>480</td>\n",
       "    </tr>\n",
       "    <tr>\n",
       "      <th>4</th>\n",
       "      <td>Yes</td>\n",
       "      <td>No internet service</td>\n",
       "      <td>32</td>\n",
       "    </tr>\n",
       "    <tr>\n",
       "      <th>5</th>\n",
       "      <td>Yes</td>\n",
       "      <td>Yes</td>\n",
       "      <td>77</td>\n",
       "    </tr>\n",
       "  </tbody>\n",
       "</table>\n",
       "</div>"
      ],
      "text/plain": [
       "  Churn          TechSupport  customerID\n",
       "0    No                   No         647\n",
       "1    No  No internet service         448\n",
       "2    No                  Yes         559\n",
       "3   Yes                   No         480\n",
       "4   Yes  No internet service          32\n",
       "5   Yes                  Yes          77"
      ]
     },
     "execution_count": 145,
     "metadata": {},
     "output_type": "execute_result"
    }
   ],
   "source": [
    "techsupport_attrition_df=df.groupby( [ \"Churn\",\"TechSupport\"], as_index=False )[\"customerID\"].count()\n",
    "techsupport_attrition_df"
   ]
  },
  {
   "cell_type": "code",
   "execution_count": 146,
   "metadata": {},
   "outputs": [
    {
     "data": {
      "text/html": [
       "<div>\n",
       "<style scoped>\n",
       "    .dataframe tbody tr th:only-of-type {\n",
       "        vertical-align: middle;\n",
       "    }\n",
       "\n",
       "    .dataframe tbody tr th {\n",
       "        vertical-align: top;\n",
       "    }\n",
       "\n",
       "    .dataframe thead th {\n",
       "        text-align: right;\n",
       "    }\n",
       "</style>\n",
       "<table border=\"1\" class=\"dataframe\">\n",
       "  <thead>\n",
       "    <tr style=\"text-align: right;\">\n",
       "      <th></th>\n",
       "      <th>TechSupport</th>\n",
       "      <th>customerID</th>\n",
       "      <th>Churn</th>\n",
       "    </tr>\n",
       "  </thead>\n",
       "  <tbody>\n",
       "    <tr>\n",
       "      <th>0</th>\n",
       "      <td>No</td>\n",
       "      <td>1127</td>\n",
       "      <td>Customer Base</td>\n",
       "    </tr>\n",
       "    <tr>\n",
       "      <th>1</th>\n",
       "      <td>No internet service</td>\n",
       "      <td>480</td>\n",
       "      <td>Customer Base</td>\n",
       "    </tr>\n",
       "    <tr>\n",
       "      <th>2</th>\n",
       "      <td>Yes</td>\n",
       "      <td>636</td>\n",
       "      <td>Customer Base</td>\n",
       "    </tr>\n",
       "  </tbody>\n",
       "</table>\n",
       "</div>"
      ],
      "text/plain": [
       "           TechSupport  customerID          Churn\n",
       "0                   No        1127  Customer Base\n",
       "1  No internet service         480  Customer Base\n",
       "2                  Yes         636  Customer Base"
      ]
     },
     "execution_count": 146,
     "metadata": {},
     "output_type": "execute_result"
    }
   ],
   "source": [
    "techsupport_base_df=df.groupby([\"TechSupport\"], as_index=False )[\"customerID\"].count()\n",
    "techsupport_base_df['Churn']='Customer Base'\n",
    "techsupport_base_df"
   ]
  },
  {
   "cell_type": "code",
   "execution_count": 147,
   "metadata": {},
   "outputs": [
    {
     "data": {
      "text/html": [
       "<div>\n",
       "<style scoped>\n",
       "    .dataframe tbody tr th:only-of-type {\n",
       "        vertical-align: middle;\n",
       "    }\n",
       "\n",
       "    .dataframe tbody tr th {\n",
       "        vertical-align: top;\n",
       "    }\n",
       "\n",
       "    .dataframe thead th {\n",
       "        text-align: right;\n",
       "    }\n",
       "</style>\n",
       "<table border=\"1\" class=\"dataframe\">\n",
       "  <thead>\n",
       "    <tr style=\"text-align: right;\">\n",
       "      <th></th>\n",
       "      <th>Churn</th>\n",
       "      <th>TechSupport</th>\n",
       "      <th>Customers</th>\n",
       "    </tr>\n",
       "  </thead>\n",
       "  <tbody>\n",
       "    <tr>\n",
       "      <th>3</th>\n",
       "      <td>Yes</td>\n",
       "      <td>No</td>\n",
       "      <td>480</td>\n",
       "    </tr>\n",
       "    <tr>\n",
       "      <th>0</th>\n",
       "      <td>No</td>\n",
       "      <td>No</td>\n",
       "      <td>647</td>\n",
       "    </tr>\n",
       "    <tr>\n",
       "      <th>6</th>\n",
       "      <td>Customer Base</td>\n",
       "      <td>No</td>\n",
       "      <td>1127</td>\n",
       "    </tr>\n",
       "    <tr>\n",
       "      <th>4</th>\n",
       "      <td>Yes</td>\n",
       "      <td>No internet service</td>\n",
       "      <td>32</td>\n",
       "    </tr>\n",
       "    <tr>\n",
       "      <th>1</th>\n",
       "      <td>No</td>\n",
       "      <td>No internet service</td>\n",
       "      <td>448</td>\n",
       "    </tr>\n",
       "    <tr>\n",
       "      <th>7</th>\n",
       "      <td>Customer Base</td>\n",
       "      <td>No internet service</td>\n",
       "      <td>480</td>\n",
       "    </tr>\n",
       "    <tr>\n",
       "      <th>5</th>\n",
       "      <td>Yes</td>\n",
       "      <td>Yes</td>\n",
       "      <td>77</td>\n",
       "    </tr>\n",
       "    <tr>\n",
       "      <th>2</th>\n",
       "      <td>No</td>\n",
       "      <td>Yes</td>\n",
       "      <td>559</td>\n",
       "    </tr>\n",
       "    <tr>\n",
       "      <th>8</th>\n",
       "      <td>Customer Base</td>\n",
       "      <td>Yes</td>\n",
       "      <td>636</td>\n",
       "    </tr>\n",
       "  </tbody>\n",
       "</table>\n",
       "</div>"
      ],
      "text/plain": [
       "           Churn          TechSupport  Customers\n",
       "3            Yes                   No        480\n",
       "0             No                   No        647\n",
       "6  Customer Base                   No       1127\n",
       "4            Yes  No internet service         32\n",
       "1             No  No internet service        448\n",
       "7  Customer Base  No internet service        480\n",
       "5            Yes                  Yes         77\n",
       "2             No                  Yes        559\n",
       "8  Customer Base                  Yes        636"
      ]
     },
     "execution_count": 147,
     "metadata": {},
     "output_type": "execute_result"
    }
   ],
   "source": [
    "techsupport_attrition_df=techsupport_attrition_df.append(techsupport_base_df, ignore_index = True) \n",
    "techsupport_attrition_df.columns=['Churn','TechSupport','Customers']\n",
    "techsupport_attrition_df=techsupport_attrition_df.sort_values(by=['TechSupport', 'Customers'],ascending=True)\n",
    "techsupport_attrition_df"
   ]
  },
  {
   "cell_type": "code",
   "execution_count": 173,
   "metadata": {},
   "outputs": [
    {
     "data": {
      "application/vnd.plotly.v1+json": {
       "config": {
        "plotlyServerURL": "https://plot.ly"
       },
       "data": [
        {
         "alignmentgroup": "True",
         "hovertemplate": "Churn=Yes<br>TechSupport=%{x}<br>Customers=%{text}<extra></extra>",
         "legendgroup": "Yes",
         "marker": {
          "color": "crimson"
         },
         "name": "Yes",
         "offsetgroup": "Yes",
         "orientation": "v",
         "showlegend": true,
         "text": [
          480,
          32,
          77
         ],
         "textposition": "auto",
         "type": "bar",
         "x": [
          "No",
          "No internet service",
          "Yes"
         ],
         "xaxis": "x",
         "y": [
          480,
          32,
          77
         ],
         "yaxis": "y"
        },
        {
         "alignmentgroup": "True",
         "hovertemplate": "Churn=No<br>TechSupport=%{x}<br>Customers=%{text}<extra></extra>",
         "legendgroup": "No",
         "marker": {
          "color": "skyblue"
         },
         "name": "No",
         "offsetgroup": "No",
         "orientation": "v",
         "showlegend": true,
         "text": [
          647,
          448,
          559
         ],
         "textposition": "auto",
         "type": "bar",
         "x": [
          "No",
          "No internet service",
          "Yes"
         ],
         "xaxis": "x",
         "y": [
          647,
          448,
          559
         ],
         "yaxis": "y"
        },
        {
         "alignmentgroup": "True",
         "hovertemplate": "Churn=Customer Base<br>TechSupport=%{x}<br>Customers=%{text}<extra></extra>",
         "legendgroup": "Customer Base",
         "marker": {
          "color": "teal"
         },
         "name": "Customer Base",
         "offsetgroup": "Customer Base",
         "orientation": "v",
         "showlegend": true,
         "text": [
          1127,
          480,
          636
         ],
         "textposition": "auto",
         "type": "bar",
         "x": [
          "No",
          "No internet service",
          "Yes"
         ],
         "xaxis": "x",
         "y": [
          1127,
          480,
          636
         ],
         "yaxis": "y"
        }
       ],
       "layout": {
        "autosize": true,
        "barmode": "group",
        "legend": {
         "title": {
          "text": "Churn"
         },
         "tracegroupgap": 0,
         "x": 0.5,
         "xanchor": "left",
         "y": 0.95,
         "yanchor": "top"
        },
        "margin": {
         "b": 0,
         "l": 0,
         "r": 0,
         "t": 30
        },
        "template": {
         "data": {
          "bar": [
           {
            "error_x": {
             "color": "rgb(51,51,51)"
            },
            "error_y": {
             "color": "rgb(51,51,51)"
            },
            "marker": {
             "line": {
              "color": "rgb(237,237,237)",
              "width": 0.5
             }
            },
            "type": "bar"
           }
          ],
          "barpolar": [
           {
            "marker": {
             "line": {
              "color": "rgb(237,237,237)",
              "width": 0.5
             }
            },
            "type": "barpolar"
           }
          ],
          "carpet": [
           {
            "aaxis": {
             "endlinecolor": "rgb(51,51,51)",
             "gridcolor": "white",
             "linecolor": "white",
             "minorgridcolor": "white",
             "startlinecolor": "rgb(51,51,51)"
            },
            "baxis": {
             "endlinecolor": "rgb(51,51,51)",
             "gridcolor": "white",
             "linecolor": "white",
             "minorgridcolor": "white",
             "startlinecolor": "rgb(51,51,51)"
            },
            "type": "carpet"
           }
          ],
          "choropleth": [
           {
            "colorbar": {
             "outlinewidth": 0,
             "tickcolor": "rgb(237,237,237)",
             "ticklen": 6,
             "ticks": "inside"
            },
            "type": "choropleth"
           }
          ],
          "contour": [
           {
            "colorbar": {
             "outlinewidth": 0,
             "tickcolor": "rgb(237,237,237)",
             "ticklen": 6,
             "ticks": "inside"
            },
            "colorscale": [
             [
              0,
              "rgb(20,44,66)"
             ],
             [
              1,
              "rgb(90,179,244)"
             ]
            ],
            "type": "contour"
           }
          ],
          "contourcarpet": [
           {
            "colorbar": {
             "outlinewidth": 0,
             "tickcolor": "rgb(237,237,237)",
             "ticklen": 6,
             "ticks": "inside"
            },
            "type": "contourcarpet"
           }
          ],
          "heatmap": [
           {
            "colorbar": {
             "outlinewidth": 0,
             "tickcolor": "rgb(237,237,237)",
             "ticklen": 6,
             "ticks": "inside"
            },
            "colorscale": [
             [
              0,
              "rgb(20,44,66)"
             ],
             [
              1,
              "rgb(90,179,244)"
             ]
            ],
            "type": "heatmap"
           }
          ],
          "heatmapgl": [
           {
            "colorbar": {
             "outlinewidth": 0,
             "tickcolor": "rgb(237,237,237)",
             "ticklen": 6,
             "ticks": "inside"
            },
            "colorscale": [
             [
              0,
              "rgb(20,44,66)"
             ],
             [
              1,
              "rgb(90,179,244)"
             ]
            ],
            "type": "heatmapgl"
           }
          ],
          "histogram": [
           {
            "marker": {
             "colorbar": {
              "outlinewidth": 0,
              "tickcolor": "rgb(237,237,237)",
              "ticklen": 6,
              "ticks": "inside"
             }
            },
            "type": "histogram"
           }
          ],
          "histogram2d": [
           {
            "colorbar": {
             "outlinewidth": 0,
             "tickcolor": "rgb(237,237,237)",
             "ticklen": 6,
             "ticks": "inside"
            },
            "colorscale": [
             [
              0,
              "rgb(20,44,66)"
             ],
             [
              1,
              "rgb(90,179,244)"
             ]
            ],
            "type": "histogram2d"
           }
          ],
          "histogram2dcontour": [
           {
            "colorbar": {
             "outlinewidth": 0,
             "tickcolor": "rgb(237,237,237)",
             "ticklen": 6,
             "ticks": "inside"
            },
            "colorscale": [
             [
              0,
              "rgb(20,44,66)"
             ],
             [
              1,
              "rgb(90,179,244)"
             ]
            ],
            "type": "histogram2dcontour"
           }
          ],
          "mesh3d": [
           {
            "colorbar": {
             "outlinewidth": 0,
             "tickcolor": "rgb(237,237,237)",
             "ticklen": 6,
             "ticks": "inside"
            },
            "type": "mesh3d"
           }
          ],
          "parcoords": [
           {
            "line": {
             "colorbar": {
              "outlinewidth": 0,
              "tickcolor": "rgb(237,237,237)",
              "ticklen": 6,
              "ticks": "inside"
             }
            },
            "type": "parcoords"
           }
          ],
          "pie": [
           {
            "automargin": true,
            "type": "pie"
           }
          ],
          "scatter": [
           {
            "marker": {
             "colorbar": {
              "outlinewidth": 0,
              "tickcolor": "rgb(237,237,237)",
              "ticklen": 6,
              "ticks": "inside"
             }
            },
            "type": "scatter"
           }
          ],
          "scatter3d": [
           {
            "line": {
             "colorbar": {
              "outlinewidth": 0,
              "tickcolor": "rgb(237,237,237)",
              "ticklen": 6,
              "ticks": "inside"
             }
            },
            "marker": {
             "colorbar": {
              "outlinewidth": 0,
              "tickcolor": "rgb(237,237,237)",
              "ticklen": 6,
              "ticks": "inside"
             }
            },
            "type": "scatter3d"
           }
          ],
          "scattercarpet": [
           {
            "marker": {
             "colorbar": {
              "outlinewidth": 0,
              "tickcolor": "rgb(237,237,237)",
              "ticklen": 6,
              "ticks": "inside"
             }
            },
            "type": "scattercarpet"
           }
          ],
          "scattergeo": [
           {
            "marker": {
             "colorbar": {
              "outlinewidth": 0,
              "tickcolor": "rgb(237,237,237)",
              "ticklen": 6,
              "ticks": "inside"
             }
            },
            "type": "scattergeo"
           }
          ],
          "scattergl": [
           {
            "marker": {
             "colorbar": {
              "outlinewidth": 0,
              "tickcolor": "rgb(237,237,237)",
              "ticklen": 6,
              "ticks": "inside"
             }
            },
            "type": "scattergl"
           }
          ],
          "scattermapbox": [
           {
            "marker": {
             "colorbar": {
              "outlinewidth": 0,
              "tickcolor": "rgb(237,237,237)",
              "ticklen": 6,
              "ticks": "inside"
             }
            },
            "type": "scattermapbox"
           }
          ],
          "scatterpolar": [
           {
            "marker": {
             "colorbar": {
              "outlinewidth": 0,
              "tickcolor": "rgb(237,237,237)",
              "ticklen": 6,
              "ticks": "inside"
             }
            },
            "type": "scatterpolar"
           }
          ],
          "scatterpolargl": [
           {
            "marker": {
             "colorbar": {
              "outlinewidth": 0,
              "tickcolor": "rgb(237,237,237)",
              "ticklen": 6,
              "ticks": "inside"
             }
            },
            "type": "scatterpolargl"
           }
          ],
          "scatterternary": [
           {
            "marker": {
             "colorbar": {
              "outlinewidth": 0,
              "tickcolor": "rgb(237,237,237)",
              "ticklen": 6,
              "ticks": "inside"
             }
            },
            "type": "scatterternary"
           }
          ],
          "surface": [
           {
            "colorbar": {
             "outlinewidth": 0,
             "tickcolor": "rgb(237,237,237)",
             "ticklen": 6,
             "ticks": "inside"
            },
            "colorscale": [
             [
              0,
              "rgb(20,44,66)"
             ],
             [
              1,
              "rgb(90,179,244)"
             ]
            ],
            "type": "surface"
           }
          ],
          "table": [
           {
            "cells": {
             "fill": {
              "color": "rgb(237,237,237)"
             },
             "line": {
              "color": "white"
             }
            },
            "header": {
             "fill": {
              "color": "rgb(217,217,217)"
             },
             "line": {
              "color": "white"
             }
            },
            "type": "table"
           }
          ]
         },
         "layout": {
          "annotationdefaults": {
           "arrowhead": 0,
           "arrowwidth": 1
          },
          "autotypenumbers": "strict",
          "coloraxis": {
           "colorbar": {
            "outlinewidth": 0,
            "tickcolor": "rgb(237,237,237)",
            "ticklen": 6,
            "ticks": "inside"
           }
          },
          "colorscale": {
           "sequential": [
            [
             0,
             "rgb(20,44,66)"
            ],
            [
             1,
             "rgb(90,179,244)"
            ]
           ],
           "sequentialminus": [
            [
             0,
             "rgb(20,44,66)"
            ],
            [
             1,
             "rgb(90,179,244)"
            ]
           ]
          },
          "colorway": [
           "#F8766D",
           "#A3A500",
           "#00BF7D",
           "#00B0F6",
           "#E76BF3"
          ],
          "font": {
           "color": "rgb(51,51,51)"
          },
          "geo": {
           "bgcolor": "white",
           "lakecolor": "white",
           "landcolor": "rgb(237,237,237)",
           "showlakes": true,
           "showland": true,
           "subunitcolor": "white"
          },
          "hoverlabel": {
           "align": "left"
          },
          "hovermode": "closest",
          "paper_bgcolor": "white",
          "plot_bgcolor": "rgb(237,237,237)",
          "polar": {
           "angularaxis": {
            "gridcolor": "white",
            "linecolor": "white",
            "showgrid": true,
            "tickcolor": "rgb(51,51,51)",
            "ticks": "outside"
           },
           "bgcolor": "rgb(237,237,237)",
           "radialaxis": {
            "gridcolor": "white",
            "linecolor": "white",
            "showgrid": true,
            "tickcolor": "rgb(51,51,51)",
            "ticks": "outside"
           }
          },
          "scene": {
           "xaxis": {
            "backgroundcolor": "rgb(237,237,237)",
            "gridcolor": "white",
            "gridwidth": 2,
            "linecolor": "white",
            "showbackground": true,
            "showgrid": true,
            "tickcolor": "rgb(51,51,51)",
            "ticks": "outside",
            "zerolinecolor": "white"
           },
           "yaxis": {
            "backgroundcolor": "rgb(237,237,237)",
            "gridcolor": "white",
            "gridwidth": 2,
            "linecolor": "white",
            "showbackground": true,
            "showgrid": true,
            "tickcolor": "rgb(51,51,51)",
            "ticks": "outside",
            "zerolinecolor": "white"
           },
           "zaxis": {
            "backgroundcolor": "rgb(237,237,237)",
            "gridcolor": "white",
            "gridwidth": 2,
            "linecolor": "white",
            "showbackground": true,
            "showgrid": true,
            "tickcolor": "rgb(51,51,51)",
            "ticks": "outside",
            "zerolinecolor": "white"
           }
          },
          "shapedefaults": {
           "fillcolor": "black",
           "line": {
            "width": 0
           },
           "opacity": 0.3
          },
          "ternary": {
           "aaxis": {
            "gridcolor": "white",
            "linecolor": "white",
            "showgrid": true,
            "tickcolor": "rgb(51,51,51)",
            "ticks": "outside"
           },
           "baxis": {
            "gridcolor": "white",
            "linecolor": "white",
            "showgrid": true,
            "tickcolor": "rgb(51,51,51)",
            "ticks": "outside"
           },
           "bgcolor": "rgb(237,237,237)",
           "caxis": {
            "gridcolor": "white",
            "linecolor": "white",
            "showgrid": true,
            "tickcolor": "rgb(51,51,51)",
            "ticks": "outside"
           }
          },
          "xaxis": {
           "automargin": true,
           "gridcolor": "white",
           "linecolor": "white",
           "showgrid": true,
           "tickcolor": "rgb(51,51,51)",
           "ticks": "outside",
           "title": {
            "standoff": 15
           },
           "zerolinecolor": "white"
          },
          "yaxis": {
           "automargin": true,
           "gridcolor": "white",
           "linecolor": "white",
           "showgrid": true,
           "tickcolor": "rgb(51,51,51)",
           "ticks": "outside",
           "title": {
            "standoff": 15
           },
           "zerolinecolor": "white"
          }
         }
        },
        "title": {
         "text": "Churn by Tech Support"
        },
        "xaxis": {
         "anchor": "y",
         "domain": [
          0,
          1
         ],
         "title": {
          "text": "TechSupport"
         }
        },
        "yaxis": {
         "anchor": "x",
         "domain": [
          0,
          1
         ],
         "title": {
          "text": "Customers"
         }
        }
       }
      },
      "text/html": [
       "<div>                            <div id=\"86df11e3-3e05-487e-9a9e-73b418014ac2\" class=\"plotly-graph-div\" style=\"height:525px; width:100%;\"></div>            <script type=\"text/javascript\">                require([\"plotly\"], function(Plotly) {                    window.PLOTLYENV=window.PLOTLYENV || {};                                    if (document.getElementById(\"86df11e3-3e05-487e-9a9e-73b418014ac2\")) {                    Plotly.newPlot(                        \"86df11e3-3e05-487e-9a9e-73b418014ac2\",                        [{\"alignmentgroup\": \"True\", \"hovertemplate\": \"Churn=Yes<br>TechSupport=%{x}<br>Customers=%{text}<extra></extra>\", \"legendgroup\": \"Yes\", \"marker\": {\"color\": \"crimson\"}, \"name\": \"Yes\", \"offsetgroup\": \"Yes\", \"orientation\": \"v\", \"showlegend\": true, \"text\": [480.0, 32.0, 77.0], \"textposition\": \"auto\", \"type\": \"bar\", \"x\": [\"No\", \"No internet service\", \"Yes\"], \"xaxis\": \"x\", \"y\": [480, 32, 77], \"yaxis\": \"y\"}, {\"alignmentgroup\": \"True\", \"hovertemplate\": \"Churn=No<br>TechSupport=%{x}<br>Customers=%{text}<extra></extra>\", \"legendgroup\": \"No\", \"marker\": {\"color\": \"skyblue\"}, \"name\": \"No\", \"offsetgroup\": \"No\", \"orientation\": \"v\", \"showlegend\": true, \"text\": [647.0, 448.0, 559.0], \"textposition\": \"auto\", \"type\": \"bar\", \"x\": [\"No\", \"No internet service\", \"Yes\"], \"xaxis\": \"x\", \"y\": [647, 448, 559], \"yaxis\": \"y\"}, {\"alignmentgroup\": \"True\", \"hovertemplate\": \"Churn=Customer Base<br>TechSupport=%{x}<br>Customers=%{text}<extra></extra>\", \"legendgroup\": \"Customer Base\", \"marker\": {\"color\": \"teal\"}, \"name\": \"Customer Base\", \"offsetgroup\": \"Customer Base\", \"orientation\": \"v\", \"showlegend\": true, \"text\": [1127.0, 480.0, 636.0], \"textposition\": \"auto\", \"type\": \"bar\", \"x\": [\"No\", \"No internet service\", \"Yes\"], \"xaxis\": \"x\", \"y\": [1127, 480, 636], \"yaxis\": \"y\"}],                        {\"autosize\": true, \"barmode\": \"group\", \"legend\": {\"title\": {\"text\": \"Churn\"}, \"tracegroupgap\": 0, \"x\": 0.5, \"xanchor\": \"left\", \"y\": 0.95, \"yanchor\": \"top\"}, \"margin\": {\"b\": 0, \"l\": 0, \"r\": 0, \"t\": 30}, \"template\": {\"data\": {\"bar\": [{\"error_x\": {\"color\": \"rgb(51,51,51)\"}, \"error_y\": {\"color\": \"rgb(51,51,51)\"}, \"marker\": {\"line\": {\"color\": \"rgb(237,237,237)\", \"width\": 0.5}}, \"type\": \"bar\"}], \"barpolar\": [{\"marker\": {\"line\": {\"color\": \"rgb(237,237,237)\", \"width\": 0.5}}, \"type\": \"barpolar\"}], \"carpet\": [{\"aaxis\": {\"endlinecolor\": \"rgb(51,51,51)\", \"gridcolor\": \"white\", \"linecolor\": \"white\", \"minorgridcolor\": \"white\", \"startlinecolor\": \"rgb(51,51,51)\"}, \"baxis\": {\"endlinecolor\": \"rgb(51,51,51)\", \"gridcolor\": \"white\", \"linecolor\": \"white\", \"minorgridcolor\": \"white\", \"startlinecolor\": \"rgb(51,51,51)\"}, \"type\": \"carpet\"}], \"choropleth\": [{\"colorbar\": {\"outlinewidth\": 0, \"tickcolor\": \"rgb(237,237,237)\", \"ticklen\": 6, \"ticks\": \"inside\"}, \"type\": \"choropleth\"}], \"contour\": [{\"colorbar\": {\"outlinewidth\": 0, \"tickcolor\": \"rgb(237,237,237)\", \"ticklen\": 6, \"ticks\": \"inside\"}, \"colorscale\": [[0, \"rgb(20,44,66)\"], [1, \"rgb(90,179,244)\"]], \"type\": \"contour\"}], \"contourcarpet\": [{\"colorbar\": {\"outlinewidth\": 0, \"tickcolor\": \"rgb(237,237,237)\", \"ticklen\": 6, \"ticks\": \"inside\"}, \"type\": \"contourcarpet\"}], \"heatmap\": [{\"colorbar\": {\"outlinewidth\": 0, \"tickcolor\": \"rgb(237,237,237)\", \"ticklen\": 6, \"ticks\": \"inside\"}, \"colorscale\": [[0, \"rgb(20,44,66)\"], [1, \"rgb(90,179,244)\"]], \"type\": \"heatmap\"}], \"heatmapgl\": [{\"colorbar\": {\"outlinewidth\": 0, \"tickcolor\": \"rgb(237,237,237)\", \"ticklen\": 6, \"ticks\": \"inside\"}, \"colorscale\": [[0, \"rgb(20,44,66)\"], [1, \"rgb(90,179,244)\"]], \"type\": \"heatmapgl\"}], \"histogram\": [{\"marker\": {\"colorbar\": {\"outlinewidth\": 0, \"tickcolor\": \"rgb(237,237,237)\", \"ticklen\": 6, \"ticks\": \"inside\"}}, \"type\": \"histogram\"}], \"histogram2d\": [{\"colorbar\": {\"outlinewidth\": 0, \"tickcolor\": \"rgb(237,237,237)\", \"ticklen\": 6, \"ticks\": \"inside\"}, \"colorscale\": [[0, \"rgb(20,44,66)\"], [1, \"rgb(90,179,244)\"]], \"type\": \"histogram2d\"}], \"histogram2dcontour\": [{\"colorbar\": {\"outlinewidth\": 0, \"tickcolor\": \"rgb(237,237,237)\", \"ticklen\": 6, \"ticks\": \"inside\"}, \"colorscale\": [[0, \"rgb(20,44,66)\"], [1, \"rgb(90,179,244)\"]], \"type\": \"histogram2dcontour\"}], \"mesh3d\": [{\"colorbar\": {\"outlinewidth\": 0, \"tickcolor\": \"rgb(237,237,237)\", \"ticklen\": 6, \"ticks\": \"inside\"}, \"type\": \"mesh3d\"}], \"parcoords\": [{\"line\": {\"colorbar\": {\"outlinewidth\": 0, \"tickcolor\": \"rgb(237,237,237)\", \"ticklen\": 6, \"ticks\": \"inside\"}}, \"type\": \"parcoords\"}], \"pie\": [{\"automargin\": true, \"type\": \"pie\"}], \"scatter\": [{\"marker\": {\"colorbar\": {\"outlinewidth\": 0, \"tickcolor\": \"rgb(237,237,237)\", \"ticklen\": 6, \"ticks\": \"inside\"}}, \"type\": \"scatter\"}], \"scatter3d\": [{\"line\": {\"colorbar\": {\"outlinewidth\": 0, \"tickcolor\": \"rgb(237,237,237)\", \"ticklen\": 6, \"ticks\": \"inside\"}}, \"marker\": {\"colorbar\": {\"outlinewidth\": 0, \"tickcolor\": \"rgb(237,237,237)\", \"ticklen\": 6, \"ticks\": \"inside\"}}, \"type\": \"scatter3d\"}], \"scattercarpet\": [{\"marker\": {\"colorbar\": {\"outlinewidth\": 0, \"tickcolor\": \"rgb(237,237,237)\", \"ticklen\": 6, \"ticks\": \"inside\"}}, \"type\": \"scattercarpet\"}], \"scattergeo\": [{\"marker\": {\"colorbar\": {\"outlinewidth\": 0, \"tickcolor\": \"rgb(237,237,237)\", \"ticklen\": 6, \"ticks\": \"inside\"}}, \"type\": \"scattergeo\"}], \"scattergl\": [{\"marker\": {\"colorbar\": {\"outlinewidth\": 0, \"tickcolor\": \"rgb(237,237,237)\", \"ticklen\": 6, \"ticks\": \"inside\"}}, \"type\": \"scattergl\"}], \"scattermapbox\": [{\"marker\": {\"colorbar\": {\"outlinewidth\": 0, \"tickcolor\": \"rgb(237,237,237)\", \"ticklen\": 6, \"ticks\": \"inside\"}}, \"type\": \"scattermapbox\"}], \"scatterpolar\": [{\"marker\": {\"colorbar\": {\"outlinewidth\": 0, \"tickcolor\": \"rgb(237,237,237)\", \"ticklen\": 6, \"ticks\": \"inside\"}}, \"type\": \"scatterpolar\"}], \"scatterpolargl\": [{\"marker\": {\"colorbar\": {\"outlinewidth\": 0, \"tickcolor\": \"rgb(237,237,237)\", \"ticklen\": 6, \"ticks\": \"inside\"}}, \"type\": \"scatterpolargl\"}], \"scatterternary\": [{\"marker\": {\"colorbar\": {\"outlinewidth\": 0, \"tickcolor\": \"rgb(237,237,237)\", \"ticklen\": 6, \"ticks\": \"inside\"}}, \"type\": \"scatterternary\"}], \"surface\": [{\"colorbar\": {\"outlinewidth\": 0, \"tickcolor\": \"rgb(237,237,237)\", \"ticklen\": 6, \"ticks\": \"inside\"}, \"colorscale\": [[0, \"rgb(20,44,66)\"], [1, \"rgb(90,179,244)\"]], \"type\": \"surface\"}], \"table\": [{\"cells\": {\"fill\": {\"color\": \"rgb(237,237,237)\"}, \"line\": {\"color\": \"white\"}}, \"header\": {\"fill\": {\"color\": \"rgb(217,217,217)\"}, \"line\": {\"color\": \"white\"}}, \"type\": \"table\"}]}, \"layout\": {\"annotationdefaults\": {\"arrowhead\": 0, \"arrowwidth\": 1}, \"autotypenumbers\": \"strict\", \"coloraxis\": {\"colorbar\": {\"outlinewidth\": 0, \"tickcolor\": \"rgb(237,237,237)\", \"ticklen\": 6, \"ticks\": \"inside\"}}, \"colorscale\": {\"sequential\": [[0, \"rgb(20,44,66)\"], [1, \"rgb(90,179,244)\"]], \"sequentialminus\": [[0, \"rgb(20,44,66)\"], [1, \"rgb(90,179,244)\"]]}, \"colorway\": [\"#F8766D\", \"#A3A500\", \"#00BF7D\", \"#00B0F6\", \"#E76BF3\"], \"font\": {\"color\": \"rgb(51,51,51)\"}, \"geo\": {\"bgcolor\": \"white\", \"lakecolor\": \"white\", \"landcolor\": \"rgb(237,237,237)\", \"showlakes\": true, \"showland\": true, \"subunitcolor\": \"white\"}, \"hoverlabel\": {\"align\": \"left\"}, \"hovermode\": \"closest\", \"paper_bgcolor\": \"white\", \"plot_bgcolor\": \"rgb(237,237,237)\", \"polar\": {\"angularaxis\": {\"gridcolor\": \"white\", \"linecolor\": \"white\", \"showgrid\": true, \"tickcolor\": \"rgb(51,51,51)\", \"ticks\": \"outside\"}, \"bgcolor\": \"rgb(237,237,237)\", \"radialaxis\": {\"gridcolor\": \"white\", \"linecolor\": \"white\", \"showgrid\": true, \"tickcolor\": \"rgb(51,51,51)\", \"ticks\": \"outside\"}}, \"scene\": {\"xaxis\": {\"backgroundcolor\": \"rgb(237,237,237)\", \"gridcolor\": \"white\", \"gridwidth\": 2, \"linecolor\": \"white\", \"showbackground\": true, \"showgrid\": true, \"tickcolor\": \"rgb(51,51,51)\", \"ticks\": \"outside\", \"zerolinecolor\": \"white\"}, \"yaxis\": {\"backgroundcolor\": \"rgb(237,237,237)\", \"gridcolor\": \"white\", \"gridwidth\": 2, \"linecolor\": \"white\", \"showbackground\": true, \"showgrid\": true, \"tickcolor\": \"rgb(51,51,51)\", \"ticks\": \"outside\", \"zerolinecolor\": \"white\"}, \"zaxis\": {\"backgroundcolor\": \"rgb(237,237,237)\", \"gridcolor\": \"white\", \"gridwidth\": 2, \"linecolor\": \"white\", \"showbackground\": true, \"showgrid\": true, \"tickcolor\": \"rgb(51,51,51)\", \"ticks\": \"outside\", \"zerolinecolor\": \"white\"}}, \"shapedefaults\": {\"fillcolor\": \"black\", \"line\": {\"width\": 0}, \"opacity\": 0.3}, \"ternary\": {\"aaxis\": {\"gridcolor\": \"white\", \"linecolor\": \"white\", \"showgrid\": true, \"tickcolor\": \"rgb(51,51,51)\", \"ticks\": \"outside\"}, \"baxis\": {\"gridcolor\": \"white\", \"linecolor\": \"white\", \"showgrid\": true, \"tickcolor\": \"rgb(51,51,51)\", \"ticks\": \"outside\"}, \"bgcolor\": \"rgb(237,237,237)\", \"caxis\": {\"gridcolor\": \"white\", \"linecolor\": \"white\", \"showgrid\": true, \"tickcolor\": \"rgb(51,51,51)\", \"ticks\": \"outside\"}}, \"xaxis\": {\"automargin\": true, \"gridcolor\": \"white\", \"linecolor\": \"white\", \"showgrid\": true, \"tickcolor\": \"rgb(51,51,51)\", \"ticks\": \"outside\", \"title\": {\"standoff\": 15}, \"zerolinecolor\": \"white\"}, \"yaxis\": {\"automargin\": true, \"gridcolor\": \"white\", \"linecolor\": \"white\", \"showgrid\": true, \"tickcolor\": \"rgb(51,51,51)\", \"ticks\": \"outside\", \"title\": {\"standoff\": 15}, \"zerolinecolor\": \"white\"}}}, \"title\": {\"text\": \"Churn by Tech Support\"}, \"xaxis\": {\"anchor\": \"y\", \"domain\": [0.0, 1.0], \"title\": {\"text\": \"TechSupport\"}}, \"yaxis\": {\"anchor\": \"x\", \"domain\": [0.0, 1.0], \"title\": {\"text\": \"Customers\"}}},                        {\"responsive\": true}                    ).then(function(){\n",
       "                            \n",
       "var gd = document.getElementById('86df11e3-3e05-487e-9a9e-73b418014ac2');\n",
       "var x = new MutationObserver(function (mutations, observer) {{\n",
       "        var display = window.getComputedStyle(gd).display;\n",
       "        if (!display || display === 'none') {{\n",
       "            console.log([gd, 'removed!']);\n",
       "            Plotly.purge(gd);\n",
       "            observer.disconnect();\n",
       "        }}\n",
       "}});\n",
       "\n",
       "// Listen for the removal of the full notebook cells\n",
       "var notebookContainer = gd.closest('#notebook-container');\n",
       "if (notebookContainer) {{\n",
       "    x.observe(notebookContainer, {childList: true});\n",
       "}}\n",
       "\n",
       "// Listen for the clearing of the current output cell\n",
       "var outputEl = gd.closest('.output');\n",
       "if (outputEl) {{\n",
       "    x.observe(outputEl, {childList: true});\n",
       "}}\n",
       "\n",
       "                        })                };                });            </script>        </div>"
      ]
     },
     "metadata": {},
     "output_type": "display_data"
    }
   ],
   "source": [
    "colors = ['crimson','skyblue','teal']\n",
    "techsupport_barchart=px.bar(techsupport_attrition_df,x='TechSupport',y='Customers',color='Churn',text='Customers',color_discrete_sequence=colors,barmode=\"group\",\n",
    "                           title='Churn by Tech Support')\n",
    "techsupport_barchart.update_layout(legend=dict(yanchor=\"top\",y=0.95,xanchor=\"left\",x=0.50),autosize=True,margin=dict(t=30,b=0,l=0,r=0)) #use barmode='stack' when stacking,"
   ]
  },
  {
   "cell_type": "markdown",
   "metadata": {},
   "source": [
    "Attrition by Contract"
   ]
  },
  {
   "cell_type": "code",
   "execution_count": 149,
   "metadata": {},
   "outputs": [
    {
     "data": {
      "text/html": [
       "<div>\n",
       "<style scoped>\n",
       "    .dataframe tbody tr th:only-of-type {\n",
       "        vertical-align: middle;\n",
       "    }\n",
       "\n",
       "    .dataframe tbody tr th {\n",
       "        vertical-align: top;\n",
       "    }\n",
       "\n",
       "    .dataframe thead th {\n",
       "        text-align: right;\n",
       "    }\n",
       "</style>\n",
       "<table border=\"1\" class=\"dataframe\">\n",
       "  <thead>\n",
       "    <tr style=\"text-align: right;\">\n",
       "      <th></th>\n",
       "      <th>Churn</th>\n",
       "      <th>Contract</th>\n",
       "      <th>customerID</th>\n",
       "    </tr>\n",
       "  </thead>\n",
       "  <tbody>\n",
       "    <tr>\n",
       "      <th>0</th>\n",
       "      <td>No</td>\n",
       "      <td>Month-to-month</td>\n",
       "      <td>702</td>\n",
       "    </tr>\n",
       "    <tr>\n",
       "      <th>1</th>\n",
       "      <td>No</td>\n",
       "      <td>One year</td>\n",
       "      <td>412</td>\n",
       "    </tr>\n",
       "    <tr>\n",
       "      <th>2</th>\n",
       "      <td>No</td>\n",
       "      <td>Two year</td>\n",
       "      <td>540</td>\n",
       "    </tr>\n",
       "    <tr>\n",
       "      <th>3</th>\n",
       "      <td>Yes</td>\n",
       "      <td>Month-to-month</td>\n",
       "      <td>531</td>\n",
       "    </tr>\n",
       "    <tr>\n",
       "      <th>4</th>\n",
       "      <td>Yes</td>\n",
       "      <td>One year</td>\n",
       "      <td>51</td>\n",
       "    </tr>\n",
       "  </tbody>\n",
       "</table>\n",
       "</div>"
      ],
      "text/plain": [
       "  Churn        Contract  customerID\n",
       "0    No  Month-to-month         702\n",
       "1    No        One year         412\n",
       "2    No        Two year         540\n",
       "3   Yes  Month-to-month         531\n",
       "4   Yes        One year          51"
      ]
     },
     "execution_count": 149,
     "metadata": {},
     "output_type": "execute_result"
    }
   ],
   "source": [
    "contract_attrition_df=df.groupby( [ \"Churn\",\"Contract\"], as_index=False )[\"customerID\"].count()\n",
    "contract_attrition_df.head()"
   ]
  },
  {
   "cell_type": "code",
   "execution_count": 150,
   "metadata": {},
   "outputs": [
    {
     "data": {
      "text/html": [
       "<div>\n",
       "<style scoped>\n",
       "    .dataframe tbody tr th:only-of-type {\n",
       "        vertical-align: middle;\n",
       "    }\n",
       "\n",
       "    .dataframe tbody tr th {\n",
       "        vertical-align: top;\n",
       "    }\n",
       "\n",
       "    .dataframe thead th {\n",
       "        text-align: right;\n",
       "    }\n",
       "</style>\n",
       "<table border=\"1\" class=\"dataframe\">\n",
       "  <thead>\n",
       "    <tr style=\"text-align: right;\">\n",
       "      <th></th>\n",
       "      <th>Contract</th>\n",
       "      <th>customerID</th>\n",
       "      <th>Churn</th>\n",
       "    </tr>\n",
       "  </thead>\n",
       "  <tbody>\n",
       "    <tr>\n",
       "      <th>0</th>\n",
       "      <td>Month-to-month</td>\n",
       "      <td>1233</td>\n",
       "      <td>Customer Base</td>\n",
       "    </tr>\n",
       "    <tr>\n",
       "      <th>1</th>\n",
       "      <td>One year</td>\n",
       "      <td>463</td>\n",
       "      <td>Customer Base</td>\n",
       "    </tr>\n",
       "    <tr>\n",
       "      <th>2</th>\n",
       "      <td>Two year</td>\n",
       "      <td>547</td>\n",
       "      <td>Customer Base</td>\n",
       "    </tr>\n",
       "  </tbody>\n",
       "</table>\n",
       "</div>"
      ],
      "text/plain": [
       "         Contract  customerID          Churn\n",
       "0  Month-to-month        1233  Customer Base\n",
       "1        One year         463  Customer Base\n",
       "2        Two year         547  Customer Base"
      ]
     },
     "execution_count": 150,
     "metadata": {},
     "output_type": "execute_result"
    }
   ],
   "source": [
    "contract_base_df=df.groupby([\"Contract\"], as_index=False )[\"customerID\"].count()\n",
    "contract_base_df['Churn']='Customer Base'\n",
    "contract_base_df"
   ]
  },
  {
   "cell_type": "code",
   "execution_count": 151,
   "metadata": {},
   "outputs": [
    {
     "data": {
      "text/html": [
       "<div>\n",
       "<style scoped>\n",
       "    .dataframe tbody tr th:only-of-type {\n",
       "        vertical-align: middle;\n",
       "    }\n",
       "\n",
       "    .dataframe tbody tr th {\n",
       "        vertical-align: top;\n",
       "    }\n",
       "\n",
       "    .dataframe thead th {\n",
       "        text-align: right;\n",
       "    }\n",
       "</style>\n",
       "<table border=\"1\" class=\"dataframe\">\n",
       "  <thead>\n",
       "    <tr style=\"text-align: right;\">\n",
       "      <th></th>\n",
       "      <th>Churn</th>\n",
       "      <th>Contract</th>\n",
       "      <th>Customers</th>\n",
       "    </tr>\n",
       "  </thead>\n",
       "  <tbody>\n",
       "    <tr>\n",
       "      <th>3</th>\n",
       "      <td>Yes</td>\n",
       "      <td>Month-to-month</td>\n",
       "      <td>531</td>\n",
       "    </tr>\n",
       "    <tr>\n",
       "      <th>0</th>\n",
       "      <td>No</td>\n",
       "      <td>Month-to-month</td>\n",
       "      <td>702</td>\n",
       "    </tr>\n",
       "    <tr>\n",
       "      <th>6</th>\n",
       "      <td>Customer Base</td>\n",
       "      <td>Month-to-month</td>\n",
       "      <td>1233</td>\n",
       "    </tr>\n",
       "    <tr>\n",
       "      <th>4</th>\n",
       "      <td>Yes</td>\n",
       "      <td>One year</td>\n",
       "      <td>51</td>\n",
       "    </tr>\n",
       "    <tr>\n",
       "      <th>1</th>\n",
       "      <td>No</td>\n",
       "      <td>One year</td>\n",
       "      <td>412</td>\n",
       "    </tr>\n",
       "    <tr>\n",
       "      <th>7</th>\n",
       "      <td>Customer Base</td>\n",
       "      <td>One year</td>\n",
       "      <td>463</td>\n",
       "    </tr>\n",
       "    <tr>\n",
       "      <th>5</th>\n",
       "      <td>Yes</td>\n",
       "      <td>Two year</td>\n",
       "      <td>7</td>\n",
       "    </tr>\n",
       "    <tr>\n",
       "      <th>2</th>\n",
       "      <td>No</td>\n",
       "      <td>Two year</td>\n",
       "      <td>540</td>\n",
       "    </tr>\n",
       "    <tr>\n",
       "      <th>8</th>\n",
       "      <td>Customer Base</td>\n",
       "      <td>Two year</td>\n",
       "      <td>547</td>\n",
       "    </tr>\n",
       "  </tbody>\n",
       "</table>\n",
       "</div>"
      ],
      "text/plain": [
       "           Churn        Contract  Customers\n",
       "3            Yes  Month-to-month        531\n",
       "0             No  Month-to-month        702\n",
       "6  Customer Base  Month-to-month       1233\n",
       "4            Yes        One year         51\n",
       "1             No        One year        412\n",
       "7  Customer Base        One year        463\n",
       "5            Yes        Two year          7\n",
       "2             No        Two year        540\n",
       "8  Customer Base        Two year        547"
      ]
     },
     "execution_count": 151,
     "metadata": {},
     "output_type": "execute_result"
    }
   ],
   "source": [
    "contract_attrition_df=contract_attrition_df.append(contract_base_df, ignore_index = True) \n",
    "contract_attrition_df.columns=['Churn','Contract','Customers']\n",
    "contract_attrition_df=contract_attrition_df.sort_values(by=['Contract', 'Customers'],ascending=True)\n",
    "contract_attrition_df"
   ]
  },
  {
   "cell_type": "code",
   "execution_count": 174,
   "metadata": {},
   "outputs": [
    {
     "data": {
      "application/vnd.plotly.v1+json": {
       "config": {
        "plotlyServerURL": "https://plot.ly"
       },
       "data": [
        {
         "alignmentgroup": "True",
         "hovertemplate": "Churn=Yes<br>Contract=%{x}<br>Customers=%{text}<extra></extra>",
         "legendgroup": "Yes",
         "marker": {
          "color": "crimson"
         },
         "name": "Yes",
         "offsetgroup": "Yes",
         "orientation": "v",
         "showlegend": true,
         "text": [
          531,
          51,
          7
         ],
         "textposition": "auto",
         "type": "bar",
         "x": [
          "Month-to-month",
          "One year",
          "Two year"
         ],
         "xaxis": "x",
         "y": [
          531,
          51,
          7
         ],
         "yaxis": "y"
        },
        {
         "alignmentgroup": "True",
         "hovertemplate": "Churn=No<br>Contract=%{x}<br>Customers=%{text}<extra></extra>",
         "legendgroup": "No",
         "marker": {
          "color": "skyblue"
         },
         "name": "No",
         "offsetgroup": "No",
         "orientation": "v",
         "showlegend": true,
         "text": [
          702,
          412,
          540
         ],
         "textposition": "auto",
         "type": "bar",
         "x": [
          "Month-to-month",
          "One year",
          "Two year"
         ],
         "xaxis": "x",
         "y": [
          702,
          412,
          540
         ],
         "yaxis": "y"
        },
        {
         "alignmentgroup": "True",
         "hovertemplate": "Churn=Customer Base<br>Contract=%{x}<br>Customers=%{text}<extra></extra>",
         "legendgroup": "Customer Base",
         "marker": {
          "color": "teal"
         },
         "name": "Customer Base",
         "offsetgroup": "Customer Base",
         "orientation": "v",
         "showlegend": true,
         "text": [
          1233,
          463,
          547
         ],
         "textposition": "auto",
         "type": "bar",
         "x": [
          "Month-to-month",
          "One year",
          "Two year"
         ],
         "xaxis": "x",
         "y": [
          1233,
          463,
          547
         ],
         "yaxis": "y"
        }
       ],
       "layout": {
        "autosize": true,
        "barmode": "group",
        "legend": {
         "title": {
          "text": "Churn"
         },
         "tracegroupgap": 0,
         "x": 0.5,
         "xanchor": "left",
         "y": 0.95,
         "yanchor": "top"
        },
        "margin": {
         "b": 0,
         "l": 0,
         "r": 0,
         "t": 30
        },
        "template": {
         "data": {
          "bar": [
           {
            "error_x": {
             "color": "rgb(51,51,51)"
            },
            "error_y": {
             "color": "rgb(51,51,51)"
            },
            "marker": {
             "line": {
              "color": "rgb(237,237,237)",
              "width": 0.5
             }
            },
            "type": "bar"
           }
          ],
          "barpolar": [
           {
            "marker": {
             "line": {
              "color": "rgb(237,237,237)",
              "width": 0.5
             }
            },
            "type": "barpolar"
           }
          ],
          "carpet": [
           {
            "aaxis": {
             "endlinecolor": "rgb(51,51,51)",
             "gridcolor": "white",
             "linecolor": "white",
             "minorgridcolor": "white",
             "startlinecolor": "rgb(51,51,51)"
            },
            "baxis": {
             "endlinecolor": "rgb(51,51,51)",
             "gridcolor": "white",
             "linecolor": "white",
             "minorgridcolor": "white",
             "startlinecolor": "rgb(51,51,51)"
            },
            "type": "carpet"
           }
          ],
          "choropleth": [
           {
            "colorbar": {
             "outlinewidth": 0,
             "tickcolor": "rgb(237,237,237)",
             "ticklen": 6,
             "ticks": "inside"
            },
            "type": "choropleth"
           }
          ],
          "contour": [
           {
            "colorbar": {
             "outlinewidth": 0,
             "tickcolor": "rgb(237,237,237)",
             "ticklen": 6,
             "ticks": "inside"
            },
            "colorscale": [
             [
              0,
              "rgb(20,44,66)"
             ],
             [
              1,
              "rgb(90,179,244)"
             ]
            ],
            "type": "contour"
           }
          ],
          "contourcarpet": [
           {
            "colorbar": {
             "outlinewidth": 0,
             "tickcolor": "rgb(237,237,237)",
             "ticklen": 6,
             "ticks": "inside"
            },
            "type": "contourcarpet"
           }
          ],
          "heatmap": [
           {
            "colorbar": {
             "outlinewidth": 0,
             "tickcolor": "rgb(237,237,237)",
             "ticklen": 6,
             "ticks": "inside"
            },
            "colorscale": [
             [
              0,
              "rgb(20,44,66)"
             ],
             [
              1,
              "rgb(90,179,244)"
             ]
            ],
            "type": "heatmap"
           }
          ],
          "heatmapgl": [
           {
            "colorbar": {
             "outlinewidth": 0,
             "tickcolor": "rgb(237,237,237)",
             "ticklen": 6,
             "ticks": "inside"
            },
            "colorscale": [
             [
              0,
              "rgb(20,44,66)"
             ],
             [
              1,
              "rgb(90,179,244)"
             ]
            ],
            "type": "heatmapgl"
           }
          ],
          "histogram": [
           {
            "marker": {
             "colorbar": {
              "outlinewidth": 0,
              "tickcolor": "rgb(237,237,237)",
              "ticklen": 6,
              "ticks": "inside"
             }
            },
            "type": "histogram"
           }
          ],
          "histogram2d": [
           {
            "colorbar": {
             "outlinewidth": 0,
             "tickcolor": "rgb(237,237,237)",
             "ticklen": 6,
             "ticks": "inside"
            },
            "colorscale": [
             [
              0,
              "rgb(20,44,66)"
             ],
             [
              1,
              "rgb(90,179,244)"
             ]
            ],
            "type": "histogram2d"
           }
          ],
          "histogram2dcontour": [
           {
            "colorbar": {
             "outlinewidth": 0,
             "tickcolor": "rgb(237,237,237)",
             "ticklen": 6,
             "ticks": "inside"
            },
            "colorscale": [
             [
              0,
              "rgb(20,44,66)"
             ],
             [
              1,
              "rgb(90,179,244)"
             ]
            ],
            "type": "histogram2dcontour"
           }
          ],
          "mesh3d": [
           {
            "colorbar": {
             "outlinewidth": 0,
             "tickcolor": "rgb(237,237,237)",
             "ticklen": 6,
             "ticks": "inside"
            },
            "type": "mesh3d"
           }
          ],
          "parcoords": [
           {
            "line": {
             "colorbar": {
              "outlinewidth": 0,
              "tickcolor": "rgb(237,237,237)",
              "ticklen": 6,
              "ticks": "inside"
             }
            },
            "type": "parcoords"
           }
          ],
          "pie": [
           {
            "automargin": true,
            "type": "pie"
           }
          ],
          "scatter": [
           {
            "marker": {
             "colorbar": {
              "outlinewidth": 0,
              "tickcolor": "rgb(237,237,237)",
              "ticklen": 6,
              "ticks": "inside"
             }
            },
            "type": "scatter"
           }
          ],
          "scatter3d": [
           {
            "line": {
             "colorbar": {
              "outlinewidth": 0,
              "tickcolor": "rgb(237,237,237)",
              "ticklen": 6,
              "ticks": "inside"
             }
            },
            "marker": {
             "colorbar": {
              "outlinewidth": 0,
              "tickcolor": "rgb(237,237,237)",
              "ticklen": 6,
              "ticks": "inside"
             }
            },
            "type": "scatter3d"
           }
          ],
          "scattercarpet": [
           {
            "marker": {
             "colorbar": {
              "outlinewidth": 0,
              "tickcolor": "rgb(237,237,237)",
              "ticklen": 6,
              "ticks": "inside"
             }
            },
            "type": "scattercarpet"
           }
          ],
          "scattergeo": [
           {
            "marker": {
             "colorbar": {
              "outlinewidth": 0,
              "tickcolor": "rgb(237,237,237)",
              "ticklen": 6,
              "ticks": "inside"
             }
            },
            "type": "scattergeo"
           }
          ],
          "scattergl": [
           {
            "marker": {
             "colorbar": {
              "outlinewidth": 0,
              "tickcolor": "rgb(237,237,237)",
              "ticklen": 6,
              "ticks": "inside"
             }
            },
            "type": "scattergl"
           }
          ],
          "scattermapbox": [
           {
            "marker": {
             "colorbar": {
              "outlinewidth": 0,
              "tickcolor": "rgb(237,237,237)",
              "ticklen": 6,
              "ticks": "inside"
             }
            },
            "type": "scattermapbox"
           }
          ],
          "scatterpolar": [
           {
            "marker": {
             "colorbar": {
              "outlinewidth": 0,
              "tickcolor": "rgb(237,237,237)",
              "ticklen": 6,
              "ticks": "inside"
             }
            },
            "type": "scatterpolar"
           }
          ],
          "scatterpolargl": [
           {
            "marker": {
             "colorbar": {
              "outlinewidth": 0,
              "tickcolor": "rgb(237,237,237)",
              "ticklen": 6,
              "ticks": "inside"
             }
            },
            "type": "scatterpolargl"
           }
          ],
          "scatterternary": [
           {
            "marker": {
             "colorbar": {
              "outlinewidth": 0,
              "tickcolor": "rgb(237,237,237)",
              "ticklen": 6,
              "ticks": "inside"
             }
            },
            "type": "scatterternary"
           }
          ],
          "surface": [
           {
            "colorbar": {
             "outlinewidth": 0,
             "tickcolor": "rgb(237,237,237)",
             "ticklen": 6,
             "ticks": "inside"
            },
            "colorscale": [
             [
              0,
              "rgb(20,44,66)"
             ],
             [
              1,
              "rgb(90,179,244)"
             ]
            ],
            "type": "surface"
           }
          ],
          "table": [
           {
            "cells": {
             "fill": {
              "color": "rgb(237,237,237)"
             },
             "line": {
              "color": "white"
             }
            },
            "header": {
             "fill": {
              "color": "rgb(217,217,217)"
             },
             "line": {
              "color": "white"
             }
            },
            "type": "table"
           }
          ]
         },
         "layout": {
          "annotationdefaults": {
           "arrowhead": 0,
           "arrowwidth": 1
          },
          "autotypenumbers": "strict",
          "coloraxis": {
           "colorbar": {
            "outlinewidth": 0,
            "tickcolor": "rgb(237,237,237)",
            "ticklen": 6,
            "ticks": "inside"
           }
          },
          "colorscale": {
           "sequential": [
            [
             0,
             "rgb(20,44,66)"
            ],
            [
             1,
             "rgb(90,179,244)"
            ]
           ],
           "sequentialminus": [
            [
             0,
             "rgb(20,44,66)"
            ],
            [
             1,
             "rgb(90,179,244)"
            ]
           ]
          },
          "colorway": [
           "#F8766D",
           "#A3A500",
           "#00BF7D",
           "#00B0F6",
           "#E76BF3"
          ],
          "font": {
           "color": "rgb(51,51,51)"
          },
          "geo": {
           "bgcolor": "white",
           "lakecolor": "white",
           "landcolor": "rgb(237,237,237)",
           "showlakes": true,
           "showland": true,
           "subunitcolor": "white"
          },
          "hoverlabel": {
           "align": "left"
          },
          "hovermode": "closest",
          "paper_bgcolor": "white",
          "plot_bgcolor": "rgb(237,237,237)",
          "polar": {
           "angularaxis": {
            "gridcolor": "white",
            "linecolor": "white",
            "showgrid": true,
            "tickcolor": "rgb(51,51,51)",
            "ticks": "outside"
           },
           "bgcolor": "rgb(237,237,237)",
           "radialaxis": {
            "gridcolor": "white",
            "linecolor": "white",
            "showgrid": true,
            "tickcolor": "rgb(51,51,51)",
            "ticks": "outside"
           }
          },
          "scene": {
           "xaxis": {
            "backgroundcolor": "rgb(237,237,237)",
            "gridcolor": "white",
            "gridwidth": 2,
            "linecolor": "white",
            "showbackground": true,
            "showgrid": true,
            "tickcolor": "rgb(51,51,51)",
            "ticks": "outside",
            "zerolinecolor": "white"
           },
           "yaxis": {
            "backgroundcolor": "rgb(237,237,237)",
            "gridcolor": "white",
            "gridwidth": 2,
            "linecolor": "white",
            "showbackground": true,
            "showgrid": true,
            "tickcolor": "rgb(51,51,51)",
            "ticks": "outside",
            "zerolinecolor": "white"
           },
           "zaxis": {
            "backgroundcolor": "rgb(237,237,237)",
            "gridcolor": "white",
            "gridwidth": 2,
            "linecolor": "white",
            "showbackground": true,
            "showgrid": true,
            "tickcolor": "rgb(51,51,51)",
            "ticks": "outside",
            "zerolinecolor": "white"
           }
          },
          "shapedefaults": {
           "fillcolor": "black",
           "line": {
            "width": 0
           },
           "opacity": 0.3
          },
          "ternary": {
           "aaxis": {
            "gridcolor": "white",
            "linecolor": "white",
            "showgrid": true,
            "tickcolor": "rgb(51,51,51)",
            "ticks": "outside"
           },
           "baxis": {
            "gridcolor": "white",
            "linecolor": "white",
            "showgrid": true,
            "tickcolor": "rgb(51,51,51)",
            "ticks": "outside"
           },
           "bgcolor": "rgb(237,237,237)",
           "caxis": {
            "gridcolor": "white",
            "linecolor": "white",
            "showgrid": true,
            "tickcolor": "rgb(51,51,51)",
            "ticks": "outside"
           }
          },
          "xaxis": {
           "automargin": true,
           "gridcolor": "white",
           "linecolor": "white",
           "showgrid": true,
           "tickcolor": "rgb(51,51,51)",
           "ticks": "outside",
           "title": {
            "standoff": 15
           },
           "zerolinecolor": "white"
          },
          "yaxis": {
           "automargin": true,
           "gridcolor": "white",
           "linecolor": "white",
           "showgrid": true,
           "tickcolor": "rgb(51,51,51)",
           "ticks": "outside",
           "title": {
            "standoff": 15
           },
           "zerolinecolor": "white"
          }
         }
        },
        "title": {
         "text": "Churn by Contract"
        },
        "xaxis": {
         "anchor": "y",
         "domain": [
          0,
          1
         ],
         "title": {
          "text": "Contract"
         }
        },
        "yaxis": {
         "anchor": "x",
         "domain": [
          0,
          1
         ],
         "title": {
          "text": "Customers"
         }
        }
       }
      },
      "text/html": [
       "<div>                            <div id=\"d7c20240-8fc5-43b1-882c-e0042793982d\" class=\"plotly-graph-div\" style=\"height:525px; width:100%;\"></div>            <script type=\"text/javascript\">                require([\"plotly\"], function(Plotly) {                    window.PLOTLYENV=window.PLOTLYENV || {};                                    if (document.getElementById(\"d7c20240-8fc5-43b1-882c-e0042793982d\")) {                    Plotly.newPlot(                        \"d7c20240-8fc5-43b1-882c-e0042793982d\",                        [{\"alignmentgroup\": \"True\", \"hovertemplate\": \"Churn=Yes<br>Contract=%{x}<br>Customers=%{text}<extra></extra>\", \"legendgroup\": \"Yes\", \"marker\": {\"color\": \"crimson\"}, \"name\": \"Yes\", \"offsetgroup\": \"Yes\", \"orientation\": \"v\", \"showlegend\": true, \"text\": [531.0, 51.0, 7.0], \"textposition\": \"auto\", \"type\": \"bar\", \"x\": [\"Month-to-month\", \"One year\", \"Two year\"], \"xaxis\": \"x\", \"y\": [531, 51, 7], \"yaxis\": \"y\"}, {\"alignmentgroup\": \"True\", \"hovertemplate\": \"Churn=No<br>Contract=%{x}<br>Customers=%{text}<extra></extra>\", \"legendgroup\": \"No\", \"marker\": {\"color\": \"skyblue\"}, \"name\": \"No\", \"offsetgroup\": \"No\", \"orientation\": \"v\", \"showlegend\": true, \"text\": [702.0, 412.0, 540.0], \"textposition\": \"auto\", \"type\": \"bar\", \"x\": [\"Month-to-month\", \"One year\", \"Two year\"], \"xaxis\": \"x\", \"y\": [702, 412, 540], \"yaxis\": \"y\"}, {\"alignmentgroup\": \"True\", \"hovertemplate\": \"Churn=Customer Base<br>Contract=%{x}<br>Customers=%{text}<extra></extra>\", \"legendgroup\": \"Customer Base\", \"marker\": {\"color\": \"teal\"}, \"name\": \"Customer Base\", \"offsetgroup\": \"Customer Base\", \"orientation\": \"v\", \"showlegend\": true, \"text\": [1233.0, 463.0, 547.0], \"textposition\": \"auto\", \"type\": \"bar\", \"x\": [\"Month-to-month\", \"One year\", \"Two year\"], \"xaxis\": \"x\", \"y\": [1233, 463, 547], \"yaxis\": \"y\"}],                        {\"autosize\": true, \"barmode\": \"group\", \"legend\": {\"title\": {\"text\": \"Churn\"}, \"tracegroupgap\": 0, \"x\": 0.5, \"xanchor\": \"left\", \"y\": 0.95, \"yanchor\": \"top\"}, \"margin\": {\"b\": 0, \"l\": 0, \"r\": 0, \"t\": 30}, \"template\": {\"data\": {\"bar\": [{\"error_x\": {\"color\": \"rgb(51,51,51)\"}, \"error_y\": {\"color\": \"rgb(51,51,51)\"}, \"marker\": {\"line\": {\"color\": \"rgb(237,237,237)\", \"width\": 0.5}}, \"type\": \"bar\"}], \"barpolar\": [{\"marker\": {\"line\": {\"color\": \"rgb(237,237,237)\", \"width\": 0.5}}, \"type\": \"barpolar\"}], \"carpet\": [{\"aaxis\": {\"endlinecolor\": \"rgb(51,51,51)\", \"gridcolor\": \"white\", \"linecolor\": \"white\", \"minorgridcolor\": \"white\", \"startlinecolor\": \"rgb(51,51,51)\"}, \"baxis\": {\"endlinecolor\": \"rgb(51,51,51)\", \"gridcolor\": \"white\", \"linecolor\": \"white\", \"minorgridcolor\": \"white\", \"startlinecolor\": \"rgb(51,51,51)\"}, \"type\": \"carpet\"}], \"choropleth\": [{\"colorbar\": {\"outlinewidth\": 0, \"tickcolor\": \"rgb(237,237,237)\", \"ticklen\": 6, \"ticks\": \"inside\"}, \"type\": \"choropleth\"}], \"contour\": [{\"colorbar\": {\"outlinewidth\": 0, \"tickcolor\": \"rgb(237,237,237)\", \"ticklen\": 6, \"ticks\": \"inside\"}, \"colorscale\": [[0, \"rgb(20,44,66)\"], [1, \"rgb(90,179,244)\"]], \"type\": \"contour\"}], \"contourcarpet\": [{\"colorbar\": {\"outlinewidth\": 0, \"tickcolor\": \"rgb(237,237,237)\", \"ticklen\": 6, \"ticks\": \"inside\"}, \"type\": \"contourcarpet\"}], \"heatmap\": [{\"colorbar\": {\"outlinewidth\": 0, \"tickcolor\": \"rgb(237,237,237)\", \"ticklen\": 6, \"ticks\": \"inside\"}, \"colorscale\": [[0, \"rgb(20,44,66)\"], [1, \"rgb(90,179,244)\"]], \"type\": \"heatmap\"}], \"heatmapgl\": [{\"colorbar\": {\"outlinewidth\": 0, \"tickcolor\": \"rgb(237,237,237)\", \"ticklen\": 6, \"ticks\": \"inside\"}, \"colorscale\": [[0, \"rgb(20,44,66)\"], [1, \"rgb(90,179,244)\"]], \"type\": \"heatmapgl\"}], \"histogram\": [{\"marker\": {\"colorbar\": {\"outlinewidth\": 0, \"tickcolor\": \"rgb(237,237,237)\", \"ticklen\": 6, \"ticks\": \"inside\"}}, \"type\": \"histogram\"}], \"histogram2d\": [{\"colorbar\": {\"outlinewidth\": 0, \"tickcolor\": \"rgb(237,237,237)\", \"ticklen\": 6, \"ticks\": \"inside\"}, \"colorscale\": [[0, \"rgb(20,44,66)\"], [1, \"rgb(90,179,244)\"]], \"type\": \"histogram2d\"}], \"histogram2dcontour\": [{\"colorbar\": {\"outlinewidth\": 0, \"tickcolor\": \"rgb(237,237,237)\", \"ticklen\": 6, \"ticks\": \"inside\"}, \"colorscale\": [[0, \"rgb(20,44,66)\"], [1, \"rgb(90,179,244)\"]], \"type\": \"histogram2dcontour\"}], \"mesh3d\": [{\"colorbar\": {\"outlinewidth\": 0, \"tickcolor\": \"rgb(237,237,237)\", \"ticklen\": 6, \"ticks\": \"inside\"}, \"type\": \"mesh3d\"}], \"parcoords\": [{\"line\": {\"colorbar\": {\"outlinewidth\": 0, \"tickcolor\": \"rgb(237,237,237)\", \"ticklen\": 6, \"ticks\": \"inside\"}}, \"type\": \"parcoords\"}], \"pie\": [{\"automargin\": true, \"type\": \"pie\"}], \"scatter\": [{\"marker\": {\"colorbar\": {\"outlinewidth\": 0, \"tickcolor\": \"rgb(237,237,237)\", \"ticklen\": 6, \"ticks\": \"inside\"}}, \"type\": \"scatter\"}], \"scatter3d\": [{\"line\": {\"colorbar\": {\"outlinewidth\": 0, \"tickcolor\": \"rgb(237,237,237)\", \"ticklen\": 6, \"ticks\": \"inside\"}}, \"marker\": {\"colorbar\": {\"outlinewidth\": 0, \"tickcolor\": \"rgb(237,237,237)\", \"ticklen\": 6, \"ticks\": \"inside\"}}, \"type\": \"scatter3d\"}], \"scattercarpet\": [{\"marker\": {\"colorbar\": {\"outlinewidth\": 0, \"tickcolor\": \"rgb(237,237,237)\", \"ticklen\": 6, \"ticks\": \"inside\"}}, \"type\": \"scattercarpet\"}], \"scattergeo\": [{\"marker\": {\"colorbar\": {\"outlinewidth\": 0, \"tickcolor\": \"rgb(237,237,237)\", \"ticklen\": 6, \"ticks\": \"inside\"}}, \"type\": \"scattergeo\"}], \"scattergl\": [{\"marker\": {\"colorbar\": {\"outlinewidth\": 0, \"tickcolor\": \"rgb(237,237,237)\", \"ticklen\": 6, \"ticks\": \"inside\"}}, \"type\": \"scattergl\"}], \"scattermapbox\": [{\"marker\": {\"colorbar\": {\"outlinewidth\": 0, \"tickcolor\": \"rgb(237,237,237)\", \"ticklen\": 6, \"ticks\": \"inside\"}}, \"type\": \"scattermapbox\"}], \"scatterpolar\": [{\"marker\": {\"colorbar\": {\"outlinewidth\": 0, \"tickcolor\": \"rgb(237,237,237)\", \"ticklen\": 6, \"ticks\": \"inside\"}}, \"type\": \"scatterpolar\"}], \"scatterpolargl\": [{\"marker\": {\"colorbar\": {\"outlinewidth\": 0, \"tickcolor\": \"rgb(237,237,237)\", \"ticklen\": 6, \"ticks\": \"inside\"}}, \"type\": \"scatterpolargl\"}], \"scatterternary\": [{\"marker\": {\"colorbar\": {\"outlinewidth\": 0, \"tickcolor\": \"rgb(237,237,237)\", \"ticklen\": 6, \"ticks\": \"inside\"}}, \"type\": \"scatterternary\"}], \"surface\": [{\"colorbar\": {\"outlinewidth\": 0, \"tickcolor\": \"rgb(237,237,237)\", \"ticklen\": 6, \"ticks\": \"inside\"}, \"colorscale\": [[0, \"rgb(20,44,66)\"], [1, \"rgb(90,179,244)\"]], \"type\": \"surface\"}], \"table\": [{\"cells\": {\"fill\": {\"color\": \"rgb(237,237,237)\"}, \"line\": {\"color\": \"white\"}}, \"header\": {\"fill\": {\"color\": \"rgb(217,217,217)\"}, \"line\": {\"color\": \"white\"}}, \"type\": \"table\"}]}, \"layout\": {\"annotationdefaults\": {\"arrowhead\": 0, \"arrowwidth\": 1}, \"autotypenumbers\": \"strict\", \"coloraxis\": {\"colorbar\": {\"outlinewidth\": 0, \"tickcolor\": \"rgb(237,237,237)\", \"ticklen\": 6, \"ticks\": \"inside\"}}, \"colorscale\": {\"sequential\": [[0, \"rgb(20,44,66)\"], [1, \"rgb(90,179,244)\"]], \"sequentialminus\": [[0, \"rgb(20,44,66)\"], [1, \"rgb(90,179,244)\"]]}, \"colorway\": [\"#F8766D\", \"#A3A500\", \"#00BF7D\", \"#00B0F6\", \"#E76BF3\"], \"font\": {\"color\": \"rgb(51,51,51)\"}, \"geo\": {\"bgcolor\": \"white\", \"lakecolor\": \"white\", \"landcolor\": \"rgb(237,237,237)\", \"showlakes\": true, \"showland\": true, \"subunitcolor\": \"white\"}, \"hoverlabel\": {\"align\": \"left\"}, \"hovermode\": \"closest\", \"paper_bgcolor\": \"white\", \"plot_bgcolor\": \"rgb(237,237,237)\", \"polar\": {\"angularaxis\": {\"gridcolor\": \"white\", \"linecolor\": \"white\", \"showgrid\": true, \"tickcolor\": \"rgb(51,51,51)\", \"ticks\": \"outside\"}, \"bgcolor\": \"rgb(237,237,237)\", \"radialaxis\": {\"gridcolor\": \"white\", \"linecolor\": \"white\", \"showgrid\": true, \"tickcolor\": \"rgb(51,51,51)\", \"ticks\": \"outside\"}}, \"scene\": {\"xaxis\": {\"backgroundcolor\": \"rgb(237,237,237)\", \"gridcolor\": \"white\", \"gridwidth\": 2, \"linecolor\": \"white\", \"showbackground\": true, \"showgrid\": true, \"tickcolor\": \"rgb(51,51,51)\", \"ticks\": \"outside\", \"zerolinecolor\": \"white\"}, \"yaxis\": {\"backgroundcolor\": \"rgb(237,237,237)\", \"gridcolor\": \"white\", \"gridwidth\": 2, \"linecolor\": \"white\", \"showbackground\": true, \"showgrid\": true, \"tickcolor\": \"rgb(51,51,51)\", \"ticks\": \"outside\", \"zerolinecolor\": \"white\"}, \"zaxis\": {\"backgroundcolor\": \"rgb(237,237,237)\", \"gridcolor\": \"white\", \"gridwidth\": 2, \"linecolor\": \"white\", \"showbackground\": true, \"showgrid\": true, \"tickcolor\": \"rgb(51,51,51)\", \"ticks\": \"outside\", \"zerolinecolor\": \"white\"}}, \"shapedefaults\": {\"fillcolor\": \"black\", \"line\": {\"width\": 0}, \"opacity\": 0.3}, \"ternary\": {\"aaxis\": {\"gridcolor\": \"white\", \"linecolor\": \"white\", \"showgrid\": true, \"tickcolor\": \"rgb(51,51,51)\", \"ticks\": \"outside\"}, \"baxis\": {\"gridcolor\": \"white\", \"linecolor\": \"white\", \"showgrid\": true, \"tickcolor\": \"rgb(51,51,51)\", \"ticks\": \"outside\"}, \"bgcolor\": \"rgb(237,237,237)\", \"caxis\": {\"gridcolor\": \"white\", \"linecolor\": \"white\", \"showgrid\": true, \"tickcolor\": \"rgb(51,51,51)\", \"ticks\": \"outside\"}}, \"xaxis\": {\"automargin\": true, \"gridcolor\": \"white\", \"linecolor\": \"white\", \"showgrid\": true, \"tickcolor\": \"rgb(51,51,51)\", \"ticks\": \"outside\", \"title\": {\"standoff\": 15}, \"zerolinecolor\": \"white\"}, \"yaxis\": {\"automargin\": true, \"gridcolor\": \"white\", \"linecolor\": \"white\", \"showgrid\": true, \"tickcolor\": \"rgb(51,51,51)\", \"ticks\": \"outside\", \"title\": {\"standoff\": 15}, \"zerolinecolor\": \"white\"}}}, \"title\": {\"text\": \"Churn by Contract\"}, \"xaxis\": {\"anchor\": \"y\", \"domain\": [0.0, 1.0], \"title\": {\"text\": \"Contract\"}}, \"yaxis\": {\"anchor\": \"x\", \"domain\": [0.0, 1.0], \"title\": {\"text\": \"Customers\"}}},                        {\"responsive\": true}                    ).then(function(){\n",
       "                            \n",
       "var gd = document.getElementById('d7c20240-8fc5-43b1-882c-e0042793982d');\n",
       "var x = new MutationObserver(function (mutations, observer) {{\n",
       "        var display = window.getComputedStyle(gd).display;\n",
       "        if (!display || display === 'none') {{\n",
       "            console.log([gd, 'removed!']);\n",
       "            Plotly.purge(gd);\n",
       "            observer.disconnect();\n",
       "        }}\n",
       "}});\n",
       "\n",
       "// Listen for the removal of the full notebook cells\n",
       "var notebookContainer = gd.closest('#notebook-container');\n",
       "if (notebookContainer) {{\n",
       "    x.observe(notebookContainer, {childList: true});\n",
       "}}\n",
       "\n",
       "// Listen for the clearing of the current output cell\n",
       "var outputEl = gd.closest('.output');\n",
       "if (outputEl) {{\n",
       "    x.observe(outputEl, {childList: true});\n",
       "}}\n",
       "\n",
       "                        })                };                });            </script>        </div>"
      ]
     },
     "metadata": {},
     "output_type": "display_data"
    }
   ],
   "source": [
    "colors = ['crimson','skyblue','teal']\n",
    "contract_barchart=px.bar(contract_attrition_df,x='Contract',y='Customers',color='Churn',text='Customers',color_discrete_sequence=colors,barmode=\"group\",title='Churn by Contract')\n",
    "contract_barchart.update_layout(legend=dict(yanchor=\"top\",y=0.95,xanchor=\"left\",x=0.50),autosize=True,margin=dict(t=30,b=0,l=0,r=0)) #use barmode='stack' when stacking,"
   ]
  },
  {
   "cell_type": "markdown",
   "metadata": {},
   "source": [
    "Churn by Monthly Charges"
   ]
  },
  {
   "cell_type": "code",
   "execution_count": 153,
   "metadata": {},
   "outputs": [
    {
     "data": {
      "application/vnd.plotly.v1+json": {
       "config": {
        "plotlyServerURL": "https://plot.ly"
       },
       "data": [
        {
         "autobinx": false,
         "histnorm": "probability density",
         "legendgroup": "No Churn",
         "marker": {
          "color": "teal"
         },
         "name": "No Churn",
         "opacity": 0.7,
         "type": "histogram",
         "x": [
          29.85,
          56.95,
          42.3,
          89.1,
          29.75,
          56.15,
          49.95,
          18.95,
          100.35,
          105.5,
          113.25,
          20.65,
          106.7,
          90.05,
          19.8,
          59.9,
          59.6,
          55.3,
          90.25,
          96.35,
          95.5,
          66.15,
          20.2,
          45.25,
          99.9,
          74.8,
          49.55,
          69.2,
          20.75,
          79.85,
          76.2,
          84.5,
          49.25,
          79.75,
          64.15,
          90.25,
          69.5,
          74.85,
          99.65,
          108.45,
          24.95,
          107.5,
          100.5,
          89.9,
          42.1,
          54.4,
          75.3,
          78.9,
          79.2,
          20.15,
          79.85,
          49.05,
          20.4,
          111.6,
          24.25,
          64.5,
          110.5,
          55.65,
          54.65,
          74.75,
          25.9,
          50.55,
          103.8,
          20.15,
          99.3,
          62.15,
          20.65,
          19.95,
          33.75,
          82.05,
          74.7,
          84,
          111.05,
          100.9,
          66.85,
          21,
          20.2,
          19.45,
          95,
          45.55,
          24.3,
          104.15,
          30.15,
          94.35,
          19.4,
          57.95,
          91.65,
          54.6,
          89.85,
          31.05,
          20.65,
          85.2,
          99.8,
          20.7,
          50.7,
          20.85,
          88.95,
          23.55,
          19.75,
          56.45,
          85.95,
          50.55,
          25.7,
          75,
          20.2,
          19.6,
          88.05,
          101.05,
          84.3,
          23.95,
          99.05,
          19.6,
          64.5,
          69.5,
          68.55,
          108.15,
          86.1,
          19.7,
          80.9,
          84.15,
          20.15,
          64.25,
          25.7,
          56,
          69.7,
          73.9,
          20.6,
          19.9,
          89.05,
          20.4,
          84.25,
          81.95,
          20.55,
          24.7,
          105.35,
          20.55,
          45.3,
          74.75,
          51.8,
          30.4,
          19.65,
          56.6,
          71.9,
          19.75,
          109.7,
          19.3,
          96.55,
          24.1,
          111.35,
          112.25,
          20.75,
          101.9,
          80.05,
          105.55,
          78.3,
          68.85,
          79.95,
          55.45,
          102.45,
          25.25,
          19.75,
          20,
          86.8,
          58.75,
          45.25,
          56.6,
          84.2,
          80,
          24.75,
          20.2,
          19.35,
          50.6,
          81.15,
          89.9,
          85.3,
          108,
          93.5,
          20.25,
          25.15,
          29.6,
          73.15,
          19.75,
          86.6,
          109.2,
          74.7,
          94.4,
          54.8,
          75.35,
          65,
          99,
          93.5,
          83.7,
          19.85,
          59.55,
          115.1,
          114.35,
          45,
          89.85,
          49.85,
          113.3,
          88.1,
          24.9,
          105,
          24.25,
          59.75,
          107.05,
          64.95,
          55,
          50.55,
          55.15,
          51.2,
          25.4,
          54.45,
          76,
          44.35,
          61.2,
          86.8,
          89.35,
          19.7,
          20.25,
          76.05,
          100.8,
          74.55,
          64.9,
          90.4,
          60.3,
          81.85,
          24.8,
          75.55,
          101.15,
          78.75,
          19.25,
          89.05,
          115.05,
          69.35,
          110.05,
          19.9,
          91.5,
          60,
          44.8,
          48.6,
          60.05,
          102.7,
          82.9,
          35.9,
          82.65,
          19.85,
          19.2,
          94.9,
          88.15,
          94.8,
          54.65,
          85.75,
          67.45,
          20.5,
          20.25,
          72.1,
          19.45,
          44.95,
          97,
          62.8,
          44.6,
          89.15,
          54.1,
          105.25,
          97.1,
          20.2,
          98.8,
          50.3,
          20.55,
          75.9,
          59.95,
          19.15,
          98.65,
          112.6,
          20.6,
          35.75,
          99.75,
          96.1,
          85.1,
          25.35,
          89.65,
          86.75,
          86.2,
          64.8,
          108.1,
          54.75,
          90.4,
          44,
          95.6,
          84.8,
          44.3,
          19.9,
          95.05,
          90.05,
          109.9,
          54.6,
          20.05,
          19.75,
          20.05,
          55.9,
          19.7,
          19.8,
          95.4,
          93.95,
          24.45,
          74.95,
          87.35,
          70.65,
          73.25,
          98.7,
          24.8,
          24.3,
          69.85,
          100.55,
          25.7,
          40.7,
          51.65,
          105.1,
          85.95,
          75.6,
          58.25,
          65.2,
          53.45,
          19.75,
          44.45,
          20.85,
          114.05,
          89.85,
          55.05,
          112.95,
          101.55,
          114.65,
          64.8,
          80.4,
          25.05,
          94.75,
          105.5,
          24.7,
          69.75,
          60.2,
          24.4,
          104.15,
          92.9,
          80.8,
          20,
          75.1,
          19.65,
          69.45,
          116.05,
          40.05,
          102.1,
          89.7,
          19.9,
          20.65,
          70.05,
          53.6,
          76.05,
          75.7,
          19.65,
          81.45,
          108.5,
          84.5,
          100.15,
          88.6,
          52.55,
          104.8,
          59,
          64.05,
          20.4,
          60.9,
          19.8,
          116.25,
          80.7,
          65.2,
          84.05,
          79.45,
          78,
          19.85,
          94.3,
          106.45,
          105.45,
          95,
          54.3,
          70.05,
          20.05,
          105.4,
          51.6,
          85.5,
          91.25,
          115.75,
          94.7,
          19.6,
          99.9,
          21.1,
          20.05,
          79.95,
          107.15,
          89.55,
          81.55,
          58.45,
          95.65,
          80.6,
          113.1,
          58.95,
          19.55,
          78.95,
          105.05,
          101.9,
          19.75,
          110.3,
          115.6,
          19.35,
          25.6,
          68.75,
          19.9,
          70.6,
          70.2,
          49.3,
          107.25,
          23.6,
          69.7,
          99.5,
          64.3,
          70.85,
          101.9,
          73.5,
          40.4,
          19.25,
          59.6,
          64.9,
          110.85,
          81.05,
          98.05,
          70.5,
          94.55,
          19.65,
          19,
          20,
          63.25,
          20.1,
          99.15,
          90.4,
          111.9,
          24.9,
          83.5,
          84.3,
          45.6,
          54.85,
          65.55,
          90.35,
          20.4,
          74.55,
          19.95,
          74.25,
          108.65,
          109.55,
          86.65,
          81,
          47.85,
          114.55,
          20.55,
          109.8,
          69.5,
          48.85,
          25.25,
          102.85,
          87.55,
          78.55,
          34.55,
          92.05,
          85.05,
          19.7,
          95.15,
          84.25,
          104.6,
          111.65,
          55,
          89.85,
          20.35,
          54.55,
          99.45,
          70.9,
          25.4,
          89.85,
          25.25,
          69.65,
          70,
          20.1,
          24.8,
          95.1,
          88.85,
          78.8,
          20.35,
          45.25,
          20.05,
          69.55,
          19.5,
          74.75,
          30.2,
          57.8,
          19.85,
          25.55,
          24.85,
          110.35,
          24.55,
          107.95,
          81.4,
          73.8,
          64.4,
          103.75,
          71.1,
          49.9,
          24.6,
          30.1,
          83.4,
          20.45,
          75.25,
          20.55,
          20.05,
          20.65,
          85.15,
          84.95,
          66.5,
          63.3,
          83.15,
          84.9,
          20.55,
          49.25,
          59.6,
          104.65,
          75.3,
          80.1,
          81,
          24.7,
          86,
          25.4,
          89.15,
          58.25,
          85.65,
          50.35,
          80.35,
          20.2,
          20.55,
          21.25,
          26.25,
          80.85,
          74.2,
          20.35,
          75.5,
          79.05,
          90.15,
          50.6,
          110.45,
          101,
          79.35,
          89.85,
          65,
          80.45,
          24.1,
          44.05,
          110.8,
          114.95,
          75.05,
          19.25,
          90.05,
          56.7,
          80.15,
          71.35,
          20.25,
          90.35,
          19.7,
          19.85,
          90.35,
          20.8,
          66.85,
          19.9,
          35.8,
          78.85,
          20.4,
          74.25,
          64.8,
          20.45,
          110.65,
          40.3,
          107,
          73.35,
          44.8,
          54.75,
          40.6,
          55.3,
          60.85,
          78.4,
          69.65,
          59.85,
          76.9,
          19.85,
          67.65,
          45,
          64.2,
          81.7,
          25.55,
          20,
          75.65,
          23.8,
          64.2,
          76.8,
          55.2,
          108.55,
          25.25,
          30.4,
          20.05,
          84.6,
          103.7,
          88,
          106.35,
          79.15,
          103.1,
          63.95,
          25.8,
          25.55,
          44.85,
          25.05,
          74.1,
          88.8,
          93.25,
          71.4,
          79.2,
          20.4,
          105,
          30.85,
          20.55,
          84.85,
          33.15,
          92,
          89.8,
          115.8,
          85.15,
          24.85,
          64.35,
          20.5,
          86.05,
          89,
          64.8,
          19.8,
          93.4,
          39,
          20.5,
          26.4,
          98.2,
          97.55,
          19.95,
          99.7,
          34.8,
          60.15,
          64.75,
          54.65,
          19.3,
          111.25,
          35.8,
          20.05,
          84.35,
          110.5,
          91.2,
          89.3,
          81.1,
          81.2,
          94.3,
          116.1,
          105.55,
          94.4,
          19.5,
          105.6,
          81.35,
          56.4,
          65.35,
          19.95,
          111.25,
          89,
          106.1,
          20.05,
          25.2,
          75.4,
          65.55,
          80.7,
          104.55,
          24.15,
          20.45,
          75.4,
          79.7,
          81.7,
          76.3,
          103.75,
          86.45,
          75.1,
          80.6,
          19.3,
          33.6,
          83.25,
          80.85,
          108.05,
          19.9,
          21.05,
          30.15,
          79.85,
          65.5,
          104.1,
          20.5,
          91.35,
          20.5,
          75.6,
          55.1,
          58.95,
          95.1,
          25.45,
          56.75,
          81.75,
          86.1,
          29.8,
          20.5,
          60.9,
          73.25,
          20.85,
          77.35,
          93.85,
          70.1,
          75.95,
          75.25,
          54.95,
          19.5,
          19.6,
          47.85,
          23.75,
          43.8,
          19.75,
          19.15,
          19.6,
          80.3,
          24.35,
          25.25,
          26.1,
          20,
          20.7,
          70.3,
          69.55,
          19.85,
          20,
          95.85,
          20.75,
          50.15,
          58.65,
          95.9,
          49.5,
          80.1,
          24.4,
          40.05,
          19.5,
          51.05,
          54.35,
          84.7,
          86.1,
          70.35,
          110,
          94.9,
          69.75,
          71.6,
          23.65,
          81.85,
          25.1,
          114.7,
          49.15,
          80.9,
          19.3,
          70.2,
          54.25,
          99.3,
          74,
          50.25,
          19.8,
          35.5,
          80.75,
          19.55,
          20.05,
          112.4,
          50.2,
          62.25,
          55.7,
          19.65,
          89.25,
          54,
          56.75,
          21.1,
          96.65,
          24.5,
          79.2,
          69.55,
          20.05,
          98.85,
          25.75,
          19.6,
          87.65,
          74.75,
          107.45,
          75.35,
          64.95,
          100.45,
          68.5,
          80.55,
          81.25,
          89.55,
          55.7,
          24.8,
          20,
          105.2,
          19.55,
          79.75,
          97.45,
          24.25,
          24.6,
          50.15,
          39.6,
          89.85,
          98.85,
          53.85,
          24.25,
          89.45,
          105.25,
          59.5,
          70.55,
          82.5,
          61.6,
          49.05,
          66.25,
          19.4,
          86.05,
          19.15,
          19.25,
          81.95,
          114.65,
          20,
          19.8,
          65.15,
          19.65,
          88.95,
          20.2,
          75.2,
          56.8,
          75.5,
          35.6,
          60.25,
          40.35,
          18.85,
          54.85,
          64.3,
          24.65,
          76.1,
          18.7,
          97.95,
          94.1,
          95.1,
          72.35,
          82.7,
          19.9,
          53.8,
          51.55,
          19.65,
          44.05,
          114,
          100.4,
          54.25,
          80,
          79.2,
          94.3,
          49.8,
          53.75,
          93.45,
          87.9,
          61.05,
          104.05,
          99.25,
          85.7,
          104.85,
          69.15,
          74.45,
          50.45,
          60,
          85.25,
          19.45,
          20.75,
          78.9,
          104.5,
          49.4,
          25,
          25.55,
          70.15,
          69.4,
          93.15,
          69.55,
          20.2,
          20.4,
          23.75,
          70.45,
          65.75,
          24.6,
          69.25,
          24.65,
          90.4,
          100.85,
          75.35,
          87.2,
          64.4,
          24.7,
          105.85,
          98.3,
          19.45,
          58.7,
          20.15,
          64.5,
          28.5,
          90.45,
          105.15,
          83.15,
          103.2,
          19.45,
          88.8,
          85.9,
          34.2,
          20.15,
          50.3,
          80.15,
          51.25,
          95.2,
          94.8,
          80.25,
          76.1,
          115.55,
          24.65,
          53.6,
          19.45,
          88.2,
          101.15,
          56.8,
          99.4,
          20.1,
          60.7,
          20.95,
          114.85,
          19.25,
          62.8,
          105.5,
          19.85,
          74.1,
          107.5,
          19.55,
          68.8,
          84.45,
          84.5,
          111.2,
          80.6,
          80.7,
          75.6,
          57.6,
          110.6,
          58.2,
          81,
          19.7,
          59.55,
          75.55,
          45.1,
          70.95,
          20.9,
          19.95,
          24.6,
          66.7,
          94.8,
          65.85,
          19.95,
          24.65,
          51.25,
          54.25,
          19.4,
          56.25,
          25.15,
          23.95,
          35.4,
          75.35,
          20.4,
          56.05,
          20,
          73.05,
          20.5,
          100.75,
          19.95,
          49.65,
          65.65,
          20.45,
          60.95,
          20.35,
          19.5,
          75.2,
          111.45,
          70.15,
          92,
          85.5,
          82.15,
          84.4,
          60.9,
          20.25,
          95.3,
          19.85,
          84.35,
          19.85,
          82.3,
          66.8,
          44.6,
          98.45,
          70.7,
          24.95,
          102.5,
          86.55,
          24.3,
          58.35,
          68.75,
          85.8,
          20.1,
          20.35,
          110.8,
          82.85,
          84.35,
          19.55,
          19.95,
          66.25,
          23.3,
          25.3,
          44.55,
          104.1,
          92.55,
          101.45,
          94.55,
          95.5,
          100.3,
          55.5,
          49.85,
          89.55,
          19.15,
          99.8,
          113.05,
          19.95,
          74.15,
          92,
          73.85,
          24.45,
          24.8,
          64.85,
          20.75,
          68.95,
          109.4,
          49,
          50.25,
          19.9,
          97.8,
          100.3,
          55.8,
          111.15,
          98.55,
          50.05,
          20.85,
          19.5,
          19.35,
          69.5,
          48.8,
          94.5,
          20.65,
          106.05,
          108.3,
          99.65,
          95.9,
          20,
          64.95,
          74.6,
          49.2,
          73.75,
          92.3,
          19.2,
          88.65,
          95.95,
          105.4,
          20.25,
          49.05,
          35.55,
          65.1,
          96.85,
          69.75,
          99.2,
          106.8,
          51.25,
          57.75,
          70.85,
          19.55,
          79.5,
          98.15,
          20.25,
          79.15,
          94.25,
          40.2,
          19.95,
          55.35,
          102.15,
          71.1,
          54.1,
          19.65,
          88.45,
          80.4,
          19.25,
          84.8,
          19.5,
          68.6,
          92.6,
          100.55,
          20.55,
          19.6,
          67.45,
          43.55,
          109.85,
          20.65,
          95.4,
          21,
          56.2,
          18.4,
          25.75,
          19.6,
          19.8,
          64.2,
          75.75,
          78.95,
          50.3,
          80.3,
          19.85,
          21.1,
          50,
          104.75,
          19.85,
          85.9,
          80.8,
          25.25,
          80.55,
          81.5,
          20.9,
          67.25,
          20.35,
          45.05,
          34.65,
          69.35,
          81.55,
          75.4,
          67.8,
          111.4,
          46.3,
          20.4,
          20.05,
          96.1,
          19.65,
          60.65,
          71.7,
          36,
          65.2,
          48.95,
          53.5,
          80.45,
          109.05,
          26.3,
          106.8,
          64.95,
          19.35,
          21.1,
          18.85,
          26,
          70.35,
          96.9,
          19.55,
          80.4,
          94.65,
          95.75,
          19.55,
          104.1,
          20.1,
          111.55,
          60.5,
          90.95,
          19.7,
          50.95,
          20.05,
          19.4,
          59.45,
          81.5,
          29.05,
          70.6,
          97.2,
          59.2,
          75.9,
          90.05,
          70.95,
          102.6,
          43.8,
          59,
          69.95,
          24.35,
          29.45,
          84.4,
          20.65,
          87.1,
          19.85,
          90.35,
          65.5,
          80.95,
          56.15,
          34.4,
          20.75,
          18.8,
          90.8,
          25.6,
          70.8,
          25.4,
          108.8,
          76.85,
          20.25,
          24.8,
          115.65,
          74.6,
          103.15,
          72.1,
          25.1,
          80.15,
          25.4,
          105.4,
          45.75,
          24.45,
          25,
          85.25,
          19.6,
          50.15,
          70.55,
          26.4,
          20.15,
          58.85,
          97.55,
          19.65,
          25.25,
          114.45,
          70.7,
          75.55,
          84.8,
          20.65,
          20.45,
          35.65,
          90.45,
          97.65,
          73.85,
          69.1,
          82.75,
          24.4,
          55.25,
          61.35,
          76.75,
          19.4,
          54.75,
          19.7,
          19.9,
          107.95,
          83.8,
          56.4,
          20.1,
          94.9,
          94.2,
          49.9,
          71.05,
          81.65,
          89.45,
          99,
          19.05,
          114.45,
          44.25,
          90.55,
          20.4,
          71.4,
          24.85,
          104.45,
          19.8,
          116.45,
          20.05,
          110.75,
          89.7,
          48.7,
          96.6,
          74.3,
          54.3,
          74.85,
          79.95,
          20.05,
          19.4,
          54.9,
          24.45,
          89.65,
          45.4,
          75.7,
          110.65,
          20.55,
          115.15,
          58.55,
          93.25,
          19.35,
          48.75,
          109.05,
          25,
          54.9,
          24.75,
          91.15,
          104.35,
          66.05,
          92.2,
          105.2,
          19.6,
          30.4,
          61.5,
          69.4,
          24.75,
          91.05,
          73.65,
          19.4,
          26.2,
          43.85,
          69.7,
          38.55,
          53.1,
          20.65,
          64.45,
          25.1,
          95.15,
          79.35,
          96.65,
          75.5,
          19.7,
          20.5,
          19.2,
          98.35,
          74.35,
          51.35,
          45.65,
          20.3,
          54.2,
          90.65,
          50.9,
          25.05,
          74.85,
          20.5,
          63.55,
          47.95,
          45,
          90.05,
          25.3,
          24.3,
          75.95,
          19.7,
          66.4,
          35.75,
          18.8,
          19.4,
          19.3,
          67.45,
          20.1,
          58.9,
          19.45,
          50.5,
          25.1,
          60.7,
          99,
          104.4,
          44.05,
          24.1,
          45.55,
          93.8,
          19.7,
          70.65,
          86.45,
          114.1,
          95.2,
          88.55,
          20.75,
          44.65,
          60.2,
          55.45,
          70.3,
          60.4,
          55.8,
          31.1,
          50.95,
          69.1,
          43.95,
          86.5,
          69.95,
          90.95,
          19.9,
          20.15,
          90.6,
          92,
          24.85,
          36,
          78.5,
          19.95,
          20.65,
          30.5,
          106.1,
          20.5,
          95.5,
          64.6,
          51.1,
          89.1,
          54.95,
          20.45,
          85.95,
          60.35,
          19.8,
          85.35,
          72.1,
          81.05,
          20.5,
          111.8,
          20.2,
          19.7,
          19.85,
          60.5,
          19.55,
          20.9,
          21.05,
          71.5,
          54.65,
          19.2,
          49.8,
          20.5,
          90.4,
          90.25,
          104.6,
          50.2,
          95.5,
          95.4,
          101.3,
          53.1,
          84.85,
          34.25,
          88.6,
          60.15,
          99.95,
          70.7,
          54.8,
          54.8,
          100.3,
          53.6,
          19.35,
          85.6,
          80.8,
          19.6,
          90.7,
          69.75,
          20,
          95.25,
          19.95,
          80.85,
          93.3,
          46.35,
          78.75,
          83.55,
          19.6,
          67.85,
          105.65,
          75.5,
          20.15,
          45.2,
          79.25,
          85.7,
          20.1,
          61.8,
          49.9,
          20.4,
          75.4,
          108.15,
          86.25,
          95.7,
          116.85,
          105.75,
          20.15,
          19.6,
          60.95,
          25.05,
          60.3,
          63.95,
          74.3,
          70.6,
          90.55,
          19.45,
          64.45,
          69.65,
          19.5,
          110.5,
          24.7,
          77.4,
          85.4,
          47.6,
          19.4,
          103.85,
          108.45,
          81,
          86.65,
          92.95,
          90.35,
          25.15,
          76.4,
          19.55,
          85.35,
          24.8,
          103.15,
          100.75,
          94.1,
          19.35,
          19.9,
          101.05,
          59.1,
          55.85,
          106.05,
          84.1,
          75.3,
          24.7,
          55.8,
          39.7,
          29.5,
          20.15,
          79.55,
          24.8,
          19.65,
          94.05,
          90.75,
          78.85,
          99.5,
          80.55,
          70.2,
          59.45,
          93.35,
          44.95,
          26.1,
          20.2,
          21.25,
          59.4,
          95,
          61.9,
          118.65,
          64.45,
          80.15,
          20.2,
          21,
          20.45,
          75.85,
          80.45,
          75.5,
          44.45,
          74.55,
          48.15,
          19.65,
          20.15,
          106.6,
          91,
          25.4,
          69.95,
          66.85,
          20.15,
          64.85,
          74.85,
          50.5,
          72.9,
          115.05,
          19,
          19.55,
          101.1,
          84.1,
          24.15,
          50.1,
          74.6,
          19.75,
          106.8,
          84.5,
          25.05,
          83.7,
          96.6,
          101.1,
          20.2,
          94.05,
          81,
          60.25,
          60.85,
          43.95,
          86.05,
          20.25,
          19.4,
          102.65,
          19.9,
          19.55,
          95.5,
          84.15,
          103.2,
          50.2,
          19.95,
          116.25,
          31.2,
          24.45,
          84.2,
          85.65,
          21.2,
          25.55,
          20.2,
          63.85,
          61.95,
          25.75,
          58.2,
          85.85,
          104.9,
          99.85,
          19.55,
          104,
          104.4,
          19.5,
          25.25,
          49.85,
          108.95,
          89.9,
          82,
          89.95,
          79.35,
          64.05,
          101.15,
          39.1,
          34.6,
          19.55,
          104.45,
          70.5,
          20.35,
          19.45,
          69.9,
          59.7,
          78.35,
          71.45,
          45.85,
          95.85,
          35.7,
          89.55,
          24.95,
          24.85
         ],
         "xaxis": "x",
         "xbins": {
          "end": 118.65,
          "size": 1,
          "start": 18.4
         },
         "yaxis": "y"
        },
        {
         "autobinx": false,
         "histnorm": "probability density",
         "legendgroup": "Churn Customers",
         "marker": {
          "color": "crimson"
         },
         "name": "Churn Customers",
         "opacity": 0.7,
         "type": "histogram",
         "x": [
          53.85,
          70.7,
          99.65,
          104.8,
          103.7,
          55.2,
          39.65,
          20.15,
          99.35,
          30.2,
          64.7,
          69.7,
          106.35,
          97.85,
          80.65,
          99.1,
          80.65,
          95.45,
          94.4,
          79.35,
          75.15,
          78.95,
          21.05,
          98.5,
          110,
          96.75,
          76.5,
          100.25,
          74.4,
          78.05,
          58.6,
          35.45,
          44.35,
          70.45,
          71.15,
          45.65,
          95,
          82.4,
          70.9,
          45.3,
          104.4,
          94.85,
          74.45,
          76.45,
          29.95,
          84.5,
          79.25,
          24.8,
          91,
          79.9,
          106.6,
          46,
          70.15,
          50.05,
          55.2,
          84.6,
          54.4,
          95,
          74.4,
          48.55,
          70.4,
          40.2,
          44.6,
          41.15,
          106.9,
          19.35,
          94.45,
          24.8,
          70.6,
          85.4,
          105.05,
          95.15,
          70,
          74.5,
          44.85,
          76.1,
          73.6,
          95.45,
          74.9,
          80.6,
          80.3,
          93.15,
          82.45,
          70.35,
          73.85,
          80.6,
          75.8,
          104.6,
          103.4,
          90.4,
          84.8,
          41.9,
          80.25,
          30.75,
          96.5,
          85.65,
          104.95,
          50.65,
          90.85,
          19.95,
          85.45,
          73.95,
          99.45,
          19.9,
          19.6,
          81.35,
          83.3,
          75.3,
          19.4,
          45.4,
          105.9,
          69.55,
          81.05,
          101.15,
          99.8,
          55.95,
          55,
          74.7,
          80.25,
          96.1,
          69,
          45.3,
          83.55,
          74.35,
          74.4,
          43.75,
          28.45,
          99.7,
          94.1,
          94.2,
          80.5,
          74.35,
          104.8,
          75.2,
          75.6,
          100.05,
          85,
          86.05,
          45.55,
          86.3,
          80.35,
          100.25,
          100.3,
          19,
          75.3,
          89.2,
          85.7,
          61.65,
          105.25,
          29.95,
          65,
          20,
          90.05,
          110.75,
          105.5,
          104.55,
          85.25,
          56.15,
          89.55,
          94.55,
          45.7,
          89.5,
          69.55,
          74.6,
          19.65,
          19.85,
          24.25,
          69.65,
          45.65,
          75.05,
          49.15,
          34.7,
          80,
          49.25,
          75.1,
          50.15,
          79.85,
          19.55,
          85.95,
          45.35,
          94.5,
          91.7,
          87.25,
          98.55,
          98.55,
          85.9,
          89.25,
          70.3,
          93.35,
          19.9,
          88.9,
          95.8,
          82,
          45.35,
          52.2,
          110,
          96.75,
          98.5,
          85.35,
          101.3,
          69.55,
          103.25,
          104,
          86.2,
          111.2,
          89.45,
          95.6,
          90.95,
          108.55,
          78.85,
          44.4,
          100,
          19.8,
          89.9,
          100.15,
          50.8,
          73.65,
          95.1,
          94.65,
          80.6,
          85.55,
          50.8,
          105.1,
          110.1,
          83.9,
          100.55,
          103.85,
          24.6,
          98.9,
          98.3,
          93.85,
          100.5,
          72.85,
          73.55,
          79.4,
          81.15,
          84.6,
          79.05,
          74.4,
          99.05,
          44.95,
          44.7,
          45.7,
          100.3,
          19.25,
          96,
          90.55,
          30.35,
          108.05,
          69.9,
          103.75,
          86.6,
          80.6,
          85.3,
          70,
          94.3,
          95.35,
          75.5,
          90.1,
          68.95,
          99.55,
          57.45,
          53.65,
          100.6,
          83.75,
          88.3,
          92.1,
          79.45,
          90.45,
          69.75,
          19.65,
          43.65,
          39.5,
          97.1,
          80,
          84.7,
          89.55,
          90.6,
          90.05,
          99.05,
          69.75,
          49.05,
          98.05,
          114.5,
          80.95,
          74.3,
          89.7,
          100.45,
          90.4,
          56.15,
          94.4,
          78.95,
          44.85,
          105.65,
          74.65,
          64.7,
          104.05,
          35.55,
          95.15,
          96.65,
          80.4,
          31.35,
          89.75,
          94.4,
          19.85,
          109.9,
          101.35,
          60.05,
          60.15,
          90.45,
          94.25,
          74.9,
          80.25,
          69,
          66.35,
          86,
          80.3,
          90.55,
          75.9,
          45.85,
          49.95,
          78.3,
          76.95,
          96.15,
          45.3,
          19.4,
          90.15,
          45.05,
          75.8,
          79.3,
          30.9,
          95.25,
          89.6,
          110.15,
          89.5,
          75,
          44.75,
          44.05,
          85.6,
          115.55,
          86.6,
          85.2,
          97.65,
          109.55,
          89.55,
          19.45,
          20.35,
          69.25,
          99.5,
          25.2,
          45,
          20.15,
          105,
          54.7,
          87.25,
          79.95,
          88.35,
          94.75,
          95.05,
          78.45,
          70.2,
          41.05,
          85.6,
          79.2,
          70,
          49.95,
          69.25,
          94.25,
          73,
          100.05,
          99.8,
          35,
          76,
          93.85,
          84.3,
          84.4,
          101.1,
          50.45,
          99.95,
          91.4,
          75.55,
          80.8,
          100,
          20.55,
          85.3,
          70.4,
          98.8,
          74.4,
          98.75,
          106,
          104.7,
          96.7,
          55.05,
          88.2,
          19.75,
          75.65,
          74.7,
          76.65,
          25.8,
          42.6,
          68.85,
          90,
          75.35,
          100.85,
          69.95,
          107.5,
          45.85,
          106.1,
          91.7,
          95.6,
          74.95,
          95.35,
          45,
          99.5,
          98.6,
          59.5,
          80.45,
          77.95,
          74.7,
          88.8,
          90.25,
          64.65,
          89.05,
          87.4,
          94.75,
          86.45,
          98.25,
          75.75,
          85.35,
          106.1,
          45.05,
          109.8,
          84.65,
          79.5,
          85.8,
          79.1,
          44.3,
          105.95,
          69.75,
          94.65,
          96.05,
          50.15,
          113.6,
          78.9,
          60.05,
          34.7,
          85.3,
          102.45,
          104.4,
          99.75,
          74.4,
          74.25,
          59.85,
          69.6,
          45.4,
          19.5,
          69.9,
          87.15,
          84.75,
          89.95,
          113.2,
          90.5,
          79,
          20.15,
          71.65,
          20.35,
          84.25,
          78.1,
          89.65,
          98.7,
          76.35,
          79.15,
          85,
          85.3,
          86.55,
          73.85,
          44.85,
          45.1,
          96,
          20.05,
          108.65,
          45.55,
          35.1,
          46.2,
          45.15,
          43.3,
          57.15,
          73.2,
          85.35,
          45.95,
          83.75,
          70.05,
          86,
          100.5,
          72.65,
          21,
          45.1,
          50.4,
          78.95,
          94.45,
          84.8,
          50.9,
          99.8,
          107.35,
          19.55,
          79.1,
          25.5,
          80.75,
          91.85,
          75.35,
          75.45,
          49.55,
          78.6,
          81.1,
          74.95,
          93.55,
          102.1,
          90.9,
          29.2,
          89.15,
          108.85,
          84.75,
          45.7,
          69.95,
          44.6,
          74.95,
          95.25,
          89.85,
          100.45,
          47.15,
          80.2,
          87.1,
          75.9,
          98.75,
          86.45,
          45.3,
          104.1,
          81,
          90.6,
          88.15,
          20.2,
          90.8,
          79.35,
          96.8,
          83.35,
          49.4,
          79.2,
          48.7,
          95.6,
          59.75,
          108.15,
          71.35,
          20.15,
          69.75,
          93.2,
          80.85,
          33.65,
          79.95,
          19.3,
          99.2,
          85.2,
          75.25,
          54.35,
          24.95,
          42.35,
          75.3,
          94.8,
          70.55,
          86.15,
          85,
          80.55,
          75.8,
          98.5,
          95.25,
          74.4,
          85.15,
          88.55,
          54.75,
          91.3,
          79.5,
          70.1,
          111.3,
          95.25,
          86.25,
          100.8,
          86.3,
          89.95,
          76.45,
          70
         ],
         "xaxis": "x",
         "xbins": {
          "end": 115.55,
          "size": 0.1,
          "start": 19
         },
         "yaxis": "y"
        },
        {
         "legendgroup": "No Churn",
         "marker": {
          "color": "teal"
         },
         "mode": "lines",
         "name": "No Churn",
         "showlegend": false,
         "type": "scatter",
         "x": [
          18.4,
          18.6005,
          18.801,
          19.0015,
          19.201999999999998,
          19.4025,
          19.602999999999998,
          19.8035,
          20.003999999999998,
          20.2045,
          20.404999999999998,
          20.6055,
          20.805999999999997,
          21.0065,
          21.206999999999997,
          21.4075,
          21.607999999999997,
          21.8085,
          22.009,
          22.2095,
          22.409999999999997,
          22.6105,
          22.811,
          23.011499999999998,
          23.212,
          23.412499999999998,
          23.613,
          23.813499999999998,
          24.014,
          24.214499999999997,
          24.415,
          24.615499999999997,
          24.816,
          25.0165,
          25.217,
          25.417499999999997,
          25.618,
          25.8185,
          26.019,
          26.219499999999996,
          26.419999999999998,
          26.6205,
          26.820999999999998,
          27.021499999999996,
          27.221999999999998,
          27.4225,
          27.622999999999998,
          27.8235,
          28.024,
          28.2245,
          28.424999999999997,
          28.6255,
          28.826,
          29.0265,
          29.226999999999997,
          29.4275,
          29.628,
          29.8285,
          30.028999999999996,
          30.229499999999998,
          30.43,
          30.630499999999998,
          30.830999999999996,
          31.0315,
          31.232,
          31.432499999999997,
          31.633,
          31.8335,
          32.034,
          32.2345,
          32.435,
          32.6355,
          32.836,
          33.0365,
          33.236999999999995,
          33.4375,
          33.638,
          33.838499999999996,
          34.039,
          34.2395,
          34.44,
          34.6405,
          34.840999999999994,
          35.0415,
          35.242,
          35.442499999999995,
          35.643,
          35.8435,
          36.044,
          36.2445,
          36.445,
          36.6455,
          36.846000000000004,
          37.046499999999995,
          37.247,
          37.4475,
          37.647999999999996,
          37.8485,
          38.049,
          38.2495,
          38.45,
          38.650499999999994,
          38.851,
          39.0515,
          39.251999999999995,
          39.4525,
          39.653,
          39.8535,
          40.054,
          40.2545,
          40.455,
          40.6555,
          40.855999999999995,
          41.0565,
          41.257,
          41.457499999999996,
          41.658,
          41.8585,
          42.059,
          42.2595,
          42.459999999999994,
          42.6605,
          42.861,
          43.061499999999995,
          43.262,
          43.4625,
          43.663,
          43.8635,
          44.064,
          44.2645,
          44.465,
          44.665499999999994,
          44.866,
          45.0665,
          45.266999999999996,
          45.4675,
          45.668,
          45.8685,
          46.069,
          46.269499999999994,
          46.47,
          46.6705,
          46.870999999999995,
          47.0715,
          47.272,
          47.4725,
          47.673,
          47.8735,
          48.074,
          48.2745,
          48.474999999999994,
          48.6755,
          48.876,
          49.076499999999996,
          49.277,
          49.4775,
          49.678,
          49.8785,
          50.07899999999999,
          50.2795,
          50.48,
          50.6805,
          50.881,
          51.0815,
          51.282,
          51.4825,
          51.683,
          51.8835,
          52.083999999999996,
          52.2845,
          52.485,
          52.6855,
          52.885999999999996,
          53.0865,
          53.287,
          53.4875,
          53.687999999999995,
          53.8885,
          54.089,
          54.2895,
          54.49,
          54.6905,
          54.891,
          55.091499999999996,
          55.292,
          55.4925,
          55.693,
          55.893499999999996,
          56.094,
          56.2945,
          56.495,
          56.695499999999996,
          56.896,
          57.0965,
          57.297,
          57.497499999999995,
          57.698,
          57.8985,
          58.099,
          58.2995,
          58.5,
          58.7005,
          58.900999999999996,
          59.1015,
          59.302,
          59.5025,
          59.702999999999996,
          59.9035,
          60.104,
          60.3045,
          60.504999999999995,
          60.7055,
          60.906,
          61.1065,
          61.306999999999995,
          61.5075,
          61.708,
          61.9085,
          62.109,
          62.3095,
          62.51,
          62.710499999999996,
          62.911,
          63.1115,
          63.312,
          63.512499999999996,
          63.713,
          63.9135,
          64.114,
          64.3145,
          64.515,
          64.71549999999999,
          64.916,
          65.1165,
          65.31700000000001,
          65.5175,
          65.71799999999999,
          65.9185,
          66.119,
          66.3195,
          66.52,
          66.7205,
          66.92099999999999,
          67.1215,
          67.322,
          67.52250000000001,
          67.723,
          67.92349999999999,
          68.124,
          68.3245,
          68.525,
          68.7255,
          68.926,
          69.1265,
          69.327,
          69.5275,
          69.72800000000001,
          69.9285,
          70.12899999999999,
          70.3295,
          70.53,
          70.7305,
          70.931,
          71.13149999999999,
          71.332,
          71.5325,
          71.733,
          71.9335,
          72.134,
          72.33449999999999,
          72.535,
          72.7355,
          72.936,
          73.1365,
          73.33699999999999,
          73.5375,
          73.738,
          73.9385,
          74.139,
          74.3395,
          74.53999999999999,
          74.7405,
          74.941,
          75.14150000000001,
          75.342,
          75.54249999999999,
          75.743,
          75.9435,
          76.144,
          76.3445,
          76.545,
          76.74549999999999,
          76.946,
          77.1465,
          77.34700000000001,
          77.5475,
          77.74799999999999,
          77.9485,
          78.149,
          78.3495,
          78.55,
          78.75049999999999,
          78.951,
          79.1515,
          79.352,
          79.55250000000001,
          79.753,
          79.95349999999999,
          80.154,
          80.3545,
          80.555,
          80.7555,
          80.95599999999999,
          81.1565,
          81.357,
          81.5575,
          81.758,
          81.9585,
          82.15899999999999,
          82.3595,
          82.56,
          82.76050000000001,
          82.96100000000001,
          83.16149999999999,
          83.362,
          83.5625,
          83.763,
          83.96350000000001,
          84.16399999999999,
          84.36449999999999,
          84.565,
          84.7655,
          84.96600000000001,
          85.16649999999998,
          85.36699999999999,
          85.5675,
          85.768,
          85.9685,
          86.16900000000001,
          86.36949999999999,
          86.57,
          86.7705,
          86.971,
          87.17150000000001,
          87.37199999999999,
          87.57249999999999,
          87.773,
          87.9735,
          88.174,
          88.37450000000001,
          88.57499999999999,
          88.7755,
          88.976,
          89.1765,
          89.37700000000001,
          89.57749999999999,
          89.77799999999999,
          89.9785,
          90.179,
          90.37950000000001,
          90.58000000000001,
          90.78049999999999,
          90.981,
          91.1815,
          91.382,
          91.58250000000001,
          91.78299999999999,
          91.98349999999999,
          92.184,
          92.3845,
          92.58500000000001,
          92.78549999999998,
          92.98599999999999,
          93.1865,
          93.387,
          93.5875,
          93.78800000000001,
          93.98849999999999,
          94.189,
          94.3895,
          94.59,
          94.79050000000001,
          94.99099999999999,
          95.19149999999999,
          95.392,
          95.5925,
          95.793,
          95.99350000000001,
          96.19399999999999,
          96.3945,
          96.595,
          96.7955,
          96.99600000000001,
          97.19649999999999,
          97.39699999999999,
          97.5975,
          97.798,
          97.9985,
          98.19900000000001,
          98.39949999999999,
          98.6,
          98.8005,
          99.001,
          99.20150000000001,
          99.40199999999999,
          99.60249999999999,
          99.803,
          100.0035,
          100.20400000000001,
          100.40449999999998,
          100.60499999999999,
          100.8055,
          101.006,
          101.2065,
          101.40700000000001,
          101.60749999999999,
          101.80799999999999,
          102.0085,
          102.209,
          102.40950000000001,
          102.60999999999999,
          102.81049999999999,
          103.011,
          103.2115,
          103.412,
          103.61250000000001,
          103.81299999999999,
          104.0135,
          104.214,
          104.4145,
          104.61500000000001,
          104.81549999999999,
          105.01599999999999,
          105.2165,
          105.417,
          105.6175,
          105.81800000000001,
          106.01849999999999,
          106.219,
          106.4195,
          106.62,
          106.82050000000001,
          107.02099999999999,
          107.22149999999999,
          107.422,
          107.6225,
          107.82300000000001,
          108.02350000000001,
          108.22399999999999,
          108.4245,
          108.625,
          108.8255,
          109.02600000000001,
          109.22649999999999,
          109.42699999999999,
          109.6275,
          109.828,
          110.02850000000001,
          110.22899999999998,
          110.42949999999999,
          110.63,
          110.8305,
          111.031,
          111.23150000000001,
          111.43199999999999,
          111.6325,
          111.833,
          112.0335,
          112.23400000000001,
          112.43449999999999,
          112.63499999999999,
          112.8355,
          113.036,
          113.2365,
          113.43700000000001,
          113.63749999999999,
          113.838,
          114.0385,
          114.239,
          114.43950000000001,
          114.63999999999999,
          114.84049999999999,
          115.041,
          115.2415,
          115.44200000000001,
          115.64250000000001,
          115.84299999999999,
          116.0435,
          116.244,
          116.4445,
          116.64500000000001,
          116.84549999999999,
          117.04599999999999,
          117.2465,
          117.447,
          117.64750000000001,
          117.84799999999998,
          118.04849999999999,
          118.249,
          118.4495
         ],
         "xaxis": "x",
         "y": [
          0.014154898604444298,
          0.014308114611968686,
          0.014452596886562094,
          0.014588080107825663,
          0.01471431769367526,
          0.01483108264425068,
          0.014938168316241143,
          0.015035389123932508,
          0.01512258116366264,
          0.015199602758773127,
          0.015266334922564809,
          0.015322681737198906,
          0.015368570646931473,
          0.015403952664523829,
          0.015428802490131914,
          0.015443118542440588,
          0.015446922902270784,
          0.015440261169345966,
          0.015423202233355367,
          0.015395837960893043,
          0.015358282800279852,
          0.015310673306688295,
          0.015253167590384307,
          0.015185944691273396,
          0.01510920388328874,
          0.015023163912483706,
          0.014928062172988888,
          0.014824153825262693,
          0.014711710861302981,
          0.014591021121694575,
          0.014462387269542088,
          0.014326125726479556,
          0.014182565576056556,
          0.014032047439875605,
          0.013874922331896838,
          0.013711550496334492,
          0.01354230023454559,
          0.01336754672625535,
          0.013187670850377559,
          0.013003058010572345,
          0.012814096970540227,
          0.012621178703881169,
          0.012424695263153037,
          0.012225038672546581,
          0.012022599848356415,
          0.01181776755117118,
          0.011610927373433565,
          0.011402460765734411,
          0.011192744104906876,
          0.010982147806679015,
          0.010771035485328614,
          0.010559763162464557,
          0.010348678526737357,
          0.01013812024595921,
          0.009928417332793881,
          0.009719888564860422,
          0.009512841959784505,
          0.009307574305428591,
          0.00910437074523933,
          0.008903504418368702,
          0.008705236153956287,
          0.008509814218704819,
          0.008317474116641011,
          0.008128438439729796,
          0.007942916767802996,
          0.0077611056160742445,
          0.007583188428341027,
          0.007409335613822261,
          0.007239704625446368,
          0.007074440077290438,
          0.006913673898775426,
          0.0067575255231456565,
          0.006606102107702486,
          0.006459498783221854,
          0.00631779892996245,
          0.006181074477665327,
          0.006049386226955909,
          0.005922784189584562,
          0.00580130794498178,
          0.005684987010657036,
          0.005573841224035794,
          0.005467881133406193,
          0.005367108395733789,
          0.0052715161791989625,
          0.005181089568415961,
          0.0050958059704033385,
          0.005015635519492676,
          0.004940541479483783,
          0.00487048064147966,
          0.0048054037159621955,
          0.004745255717798534,
          0.004689976342997697,
          0.004639500336166343,
          0.0045937578477403766,
          0.0045526747801950505,
          0.004516173122559262,
          0.004484171272679151,
          0.004456584346791512,
          0.004433324476078135,
          0.004414301089977569,
          0.004399421186130615,
          0.0043885895869295866,
          0.004381709182728894,
          0.004378681161855466,
          0.004379405227631847,
          0.00438377980269225,
          0.004391702220932651,
          0.004403068907489738,
          0.004417775547190757,
          0.004435717241956633,
          0.004456788657674806,
          0.004480884161085722,
          0.004507897947248612,
          0.0045377241581677635,
          0.004570256993170747,
          0.004605390811634975,
          0.0046430202286589575,
          0.004683040204270099,
          0.004725346126752107,
          0.004769833890662445,
          0.004816399970094151,
          0.004864941487717132,
          0.004915356280111931,
          0.0049675429598846875,
          0.005021400975025377,
          0.005076830665943277,
          0.005133733320583999,
          0.0051920112280016435,
          0.00525156773072818,
          0.005312307276250109,
          0.005374135467870138,
          0.005436959115199253,
          0.005500686284492526,
          0.0055652263490100825,
          0.005630490039553668,
          0.0056963894952986385,
          0.0057628383150117235,
          0.005829751608716322,
          0.005897046049839571,
          0.00596463992784918,
          0.006032453201363029,
          0.0061004075516907,
          0.006168426436743984,
          0.006236435145232258,
          0.006304360851039241,
          0.006372132667659551,
          0.006439681702556765,
          0.006506941111289563,
          0.00657384615123871,
          0.006640334234755257,
          0.0067063449815393805,
          0.006771820270049705,
          0.006836704287734609,
          0.006900943579870241,
          0.006964487096784241,
          0.007027286239239871,
          0.0070892949017522635,
          0.007150469513606561,
          0.007210769077347201,
          0.007270155204508249,
          0.007328592148356304,
          0.007386046833420736,
          0.007442488881589882,
          0.007497890634557325,
          0.007552227172408631,
          0.007605476328146567,
          0.0076576186979614436,
          0.007708637647062934,
          0.007758519310900602,
          0.007807252591612258,
          0.007854829149552173,
          0.00790124338976518,
          0.007946492443287666,
          0.007990576143172307,
          0.008033496995150359,
          0.008075260142863,
          0.008115873327611784,
          0.008155346842597683,
          0.008193693481638242,
          0.008230928482373152,
          0.008267069463989841,
          0.008302136359522505,
          0.008336151342800304,
          0.008369138750142896,
          0.00840112499692435,
          0.008432138489149288,
          0.008462209530207989,
          0.008491370222999917,
          0.008519654367637658,
          0.008547097354965262,
          0.008573736056146721,
          0.008599608708601098,
          0.008624754798581175,
          0.00864921494071159,
          0.008673030754820777,
          0.008696244740417976,
          0.008718900149182411,
          0.008741040855845912,
          0.008762711227863193,
          0.008783955994274917,
          0.008804820114178156,
          0.008825348645226237,
          0.008845586612585561,
          0.008865578878780358,
          0.008885370014857915,
          0.00890500417330593,
          0.00892452496315076,
          0.008943975327660293,
          0.008963397425067656,
          0.008982832512722565,
          0.009002320835065265,
          0.00902190151580409,
          0.009041612454661703,
          0.009061490229036842,
          0.009081570000908527,
          0.009101885429287552,
          0.009122468588496557,
          0.009143349892534512,
          0.009164558025754664,
          0.009186119880056794,
          0.009208060498765198,
          0.009230403027333427,
          0.009253168670985574,
          0.009276376659371867,
          0.009300044218284152,
          0.00932418654844396,
          0.009348816811343417,
          0.009373946122086486,
          0.009399583549146023,
          0.009425736120920378,
          0.009452408838942517,
          0.009479604697564661,
          0.009507324709912819,
          0.009535567939878099,
          0.009564331539885894,
          0.0095936107941599,
          0.009623399167175492,
          0.009653688356976782,
          0.009684468353013393,
          0.009715727498137018,
          0.009747452554384169,
          0.0097796287721603,
          0.00981223996243161,
          0.009845268571524693,
          0.009878695758130248,
          0.009912501472106082,
          0.009946664534675735,
          0.009981162719622948,
          0.010015972835088387,
          0.010051070805583645,
          0.010086431753848303,
          0.010122030082189008,
          0.01015783955295434,
          0.010193833367816478,
          0.010229984245549094,
          0.010266264498011423,
          0.010302646104069996,
          0.01033910078121251,
          0.010375600054632254,
          0.010412115323586197,
          0.010448617924855344,
          0.0104850791931617,
          0.010521470518422189,
          0.010557763399745882,
          0.010593929496106725,
          0.010629940673649262,
          0.010665769049609723,
          0.010701387032858794,
          0.010736767361095415,
          0.010771883134742899,
          0.010806707847619293,
          0.010841215414473037,
          0.01087538019549282,
          0.010909177017916383,
          0.010942581194877427,
          0.010975568541642274,
          0.011008115389398488,
          0.01104019859676651,
          0.0110717955592121,
          0.011102884216542326,
          0.011133443058670886,
          0.011163451129839687,
          0.011192888031482977,
          0.011221733923918014,
          0.011249969527042157,
          0.011277576120210792,
          0.011304535541463455,
          0.011330830186257223,
          0.011356443005856972,
          0.011381357505521512,
          0.011405557742613232,
          0.011429028324746666,
          0.011451754408078687,
          0.01147372169582971,
          0.011494916437112031,
          0.011515325426127529,
          0.011534936001783676,
          0.011553736047763176,
          0.011571713993069567,
          0.011588858813058447,
          0.011605160030951824,
          0.011620607719821737,
          0.011635192505018568,
          0.011648905567009663,
          0.011661738644585,
          0.011673684038378727,
          0.01168473461464851,
          0.01169488380924882,
          0.01170412563172957,
          0.011712454669487811,
          0.011719866091897712,
          0.011726355654342381,
          0.011731919702070737,
          0.011736555173802994,
          0.011740259605009705,
          0.011743031130791639,
          0.011744868488290608,
          0.011745771018565252,
          0.011745738667869909,
          0.011744771988279645,
          0.011742872137609758,
          0.011740040878583557,
          0.011736280577208125,
          0.011731594200323651,
          0.01172598531229792,
          0.011719458070843456,
          0.011712017221940688,
          0.011703668093855974,
          0.011694416590248778,
          0.011684269182367072,
          0.011673232900334812,
          0.011661315323539177,
          0.011648524570129095,
          0.011634869285639537,
          0.011620358630758634,
          0.01160500226825671,
          0.011588810349097757,
          0.01157179349775473,
          0.01155396279675061,
          0.011535329770446917,
          0.011515906368100917,
          0.011495704946211832,
          0.011474738250175033,
          0.011453019395261598,
          0.011430561846938818,
          0.011407379400545224,
          0.011383486160331616,
          0.011358896517877387,
          0.011333625129889429,
          0.011307686895388884,
          0.01128109693228917,
          0.01125387055336723,
          0.011226023241628686,
          0.011197570625066666,
          0.011168528450813694,
          0.011138912558686041,
          0.011108738854120455,
          0.011078023280504378,
          0.01104678179090226,
          0.01101503031918306,
          0.010982784750556734,
          0.010950060891531065,
          0.010916874439304258,
          0.010883240950613408,
          0.01084917581006406,
          0.01081469419797197,
          0.010779811057754279,
          0.01074454106291398,
          0.010708898583668651,
          0.01067289765328162,
          0.01063655193416143,
          0.010599874683803133,
          0.010562878720652747,
          0.010525576389984144,
          0.010487979529885182,
          0.010450099437457687,
          0.01041194683534302,
          0.010373531838692067,
          0.010334863922704952,
          0.010295951890871844,
          0.010256803844051624,
          0.010217427150529979,
          0.01017782841720248,
          0.010138013462031368,
          0.010097987287927237,
          0.010057754058208013,
          0.010017317073788223,
          0.009976678752250868,
          0.00993584060895272,
          0.009894803240310994,
          0.00985356630941588,
          0.009812128534108256,
          0.009770487677656389,
          0.009728640542158188,
          0.009686582964787839,
          0.009644309816996623,
          0.009601815006767817,
          0.009559091484014886,
          0.009516131249200522,
          0.009472925365241738,
          0.009429463972753196,
          0.009385736308667332,
          0.009341730728255514,
          0.009297434730560125,
          0.009252834987232299,
          0.009207917374754952,
          0.009162667010015543,
          0.009117068289177403,
          0.009071104929783452,
          0.009024760016010777,
          0.008978016046979816,
          0.008930854988007317,
          0.00888325832467812,
          0.008835207119597333,
          0.008786682071671542,
          0.008737663577755357,
          0.008688131796488184,
          0.008638066714135544,
          0.008587448212239166,
          0.00853625613687161,
          0.008484470369282984,
          0.00843207089772056,
          0.008379037890196266,
          0.008325351767972035,
          0.008270993279529345,
          0.008215943574786548,
          0.008160184279325784,
          0.008103697568390637,
          0.008046466240416137,
          0.007988473789853708,
          0.007929704479056192,
          0.007870143408991013,
          0.0078097765885535185,
          0.007748591002257453,
          0.00768657467608476,
          0.007623716741283383,
          0.007560007495908426,
          0.00749543846390952,
          0.007430002451575093,
          0.007363693601152888,
          0.007296507441474548,
          0.0072284409354216005,
          0.007159492524079478,
          0.007089662167435959,
          0.007018951381490575,
          0.0069473632716513176,
          0.006874902562305593,
          0.006801575622462559,
          0.006727390487374504,
          0.0066523568760553575,
          0.006576486204625182,
          0.006499791595419718,
          0.006422287881814987,
          0.006343991608727313,
          0.006264921028759739,
          0.006185096093976652,
          0.00610453844329852,
          0.0060232713855198055,
          0.005941319877963393,
          0.005858710500795555,
          0.005775471427036422,
          0.005691632388311167,
          0.00560722463639836,
          0.005522280900642428,
          0.0054368353413081685,
          0.005350923498966061,
          0.005264582240008273,
          0.0051778496984058835,
          0.005090765213829209,
          0.005003369266263919,
          0.004915703407266559,
          0.0048278101880143195,
          0.00473973308431429,
          0.004651516418748556,
          0.004563205280141862,
          0.0044748454405489435,
          0.004386483269968653,
          0.004298165649001979,
          0.004209939879680012,
          0.004121853594697255,
          0.0040339546652938,
          0.003946291108037716,
          0.0038589109907663883,
          0.0037718623379515187,
          0.0036851930357585695,
          0.0035989507370759073,
          0.0035131827667928338,
          0.0034279360276084137,
          0.0033432569066550264,
          0.0032591911832208125,
          0.0031757839378551015,
          0.0030930794631389793,
          0.003011121176400203,
          0.002929951534647748,
          0.002849611951995358,
          0.002770142719837156,
          0.0026915829300300743,
          0.002613970401328573,
          0.002537341609306753,
          0.0024617316199908043
         ],
         "yaxis": "y"
        },
        {
         "legendgroup": "Churn Customers",
         "marker": {
          "color": "crimson"
         },
         "mode": "lines",
         "name": "Churn Customers",
         "showlegend": false,
         "type": "scatter",
         "x": [
          19,
          19.1931,
          19.3862,
          19.5793,
          19.7724,
          19.9655,
          20.1586,
          20.3517,
          20.5448,
          20.7379,
          20.931,
          21.1241,
          21.3172,
          21.5103,
          21.703400000000002,
          21.8965,
          22.0896,
          22.2827,
          22.4758,
          22.6689,
          22.862000000000002,
          23.0551,
          23.2482,
          23.4413,
          23.6344,
          23.8275,
          24.020599999999998,
          24.2137,
          24.4068,
          24.599899999999998,
          24.793,
          24.9861,
          25.1792,
          25.3723,
          25.5654,
          25.758499999999998,
          25.9516,
          26.1447,
          26.3378,
          26.5309,
          26.724,
          26.917099999999998,
          27.1102,
          27.3033,
          27.4964,
          27.689500000000002,
          27.8826,
          28.075699999999998,
          28.2688,
          28.4619,
          28.655,
          28.848100000000002,
          29.041199999999996,
          29.234299999999998,
          29.4274,
          29.6205,
          29.8136,
          30.0067,
          30.1998,
          30.392899999999997,
          30.586,
          30.7791,
          30.9722,
          31.1653,
          31.3584,
          31.5515,
          31.7446,
          31.9377,
          32.1308,
          32.3239,
          32.516999999999996,
          32.7101,
          32.9032,
          33.0963,
          33.2894,
          33.4825,
          33.6756,
          33.8687,
          34.0618,
          34.2549,
          34.448,
          34.6411,
          34.834199999999996,
          35.0273,
          35.2204,
          35.4135,
          35.6066,
          35.7997,
          35.9928,
          36.1859,
          36.379000000000005,
          36.5721,
          36.7652,
          36.958299999999994,
          37.151399999999995,
          37.3445,
          37.5376,
          37.7307,
          37.9238,
          38.1169,
          38.31,
          38.5031,
          38.696200000000005,
          38.8893,
          39.08239999999999,
          39.2755,
          39.468599999999995,
          39.661699999999996,
          39.8548,
          40.0479,
          40.241,
          40.4341,
          40.6272,
          40.8203,
          41.0134,
          41.2065,
          41.3996,
          41.5927,
          41.785799999999995,
          41.978899999999996,
          42.172,
          42.3651,
          42.5582,
          42.7513,
          42.9444,
          43.1375,
          43.3306,
          43.523700000000005,
          43.7168,
          43.90989999999999,
          44.103,
          44.296099999999996,
          44.4892,
          44.6823,
          44.8754,
          45.0685,
          45.2616,
          45.4547,
          45.647800000000004,
          45.8409,
          46.034,
          46.2271,
          46.4202,
          46.613299999999995,
          46.8064,
          46.9995,
          47.1926,
          47.3857,
          47.5788,
          47.7719,
          47.965,
          48.1581,
          48.351200000000006,
          48.5443,
          48.737399999999994,
          48.930499999999995,
          49.123599999999996,
          49.3167,
          49.5098,
          49.7029,
          49.896,
          50.0891,
          50.2822,
          50.475300000000004,
          50.6684,
          50.8615,
          51.0546,
          51.2477,
          51.440799999999996,
          51.6339,
          51.827,
          52.0201,
          52.2132,
          52.406299999999995,
          52.5994,
          52.7925,
          52.9856,
          53.1787,
          53.37179999999999,
          53.5649,
          53.758,
          53.9511,
          54.1442,
          54.3373,
          54.5304,
          54.7235,
          54.916599999999995,
          55.1097,
          55.3028,
          55.4959,
          55.689,
          55.8821,
          56.075199999999995,
          56.268299999999996,
          56.461400000000005,
          56.6545,
          56.8476,
          57.040699999999994,
          57.233799999999995,
          57.4269,
          57.62,
          57.8131,
          58.0062,
          58.199299999999994,
          58.3924,
          58.5855,
          58.7786,
          58.9717,
          59.16479999999999,
          59.3579,
          59.551,
          59.744099999999996,
          59.9372,
          60.1303,
          60.3234,
          60.5165,
          60.7096,
          60.902699999999996,
          61.0958,
          61.2889,
          61.482,
          61.6751,
          61.868199999999995,
          62.061299999999996,
          62.254400000000004,
          62.4475,
          62.6406,
          62.8337,
          63.026799999999994,
          63.2199,
          63.413,
          63.6061,
          63.7992,
          63.99229999999999,
          64.1854,
          64.3785,
          64.57159999999999,
          64.7647,
          64.95779999999999,
          65.15090000000001,
          65.344,
          65.5371,
          65.7302,
          65.9233,
          66.1164,
          66.3095,
          66.5026,
          66.69569999999999,
          66.8888,
          67.0819,
          67.275,
          67.46809999999999,
          67.6612,
          67.8543,
          68.04740000000001,
          68.2405,
          68.4336,
          68.6267,
          68.81979999999999,
          69.0129,
          69.206,
          69.3991,
          69.59219999999999,
          69.78529999999999,
          69.9784,
          70.17150000000001,
          70.3646,
          70.5577,
          70.7508,
          70.9439,
          71.137,
          71.3301,
          71.5232,
          71.71629999999999,
          71.9094,
          72.10249999999999,
          72.29560000000001,
          72.4887,
          72.6818,
          72.8749,
          73.068,
          73.2611,
          73.4542,
          73.6473,
          73.8404,
          74.0335,
          74.22659999999999,
          74.4197,
          74.6128,
          74.80590000000001,
          74.999,
          75.1921,
          75.3852,
          75.5783,
          75.7714,
          75.9645,
          76.1576,
          76.35069999999999,
          76.5438,
          76.73689999999999,
          76.93,
          77.1231,
          77.3162,
          77.5093,
          77.70240000000001,
          77.8955,
          78.0886,
          78.2817,
          78.47479999999999,
          78.6679,
          78.86099999999999,
          79.0541,
          79.24719999999999,
          79.4403,
          79.6334,
          79.82650000000001,
          80.0196,
          80.2127,
          80.4058,
          80.5989,
          80.792,
          80.98509999999999,
          81.1782,
          81.37129999999999,
          81.5644,
          81.7575,
          81.95060000000001,
          82.1437,
          82.3368,
          82.5299,
          82.723,
          82.9161,
          83.1092,
          83.3023,
          83.4954,
          83.6885,
          83.88159999999999,
          84.07469999999999,
          84.2678,
          84.4609,
          84.654,
          84.8471,
          85.0402,
          85.2333,
          85.4264,
          85.6195,
          85.81259999999999,
          86.00569999999999,
          86.1988,
          86.39189999999999,
          86.585,
          86.7781,
          86.9712,
          87.1643,
          87.3574,
          87.5505,
          87.74359999999999,
          87.9367,
          88.1298,
          88.32289999999999,
          88.516,
          88.70909999999999,
          88.9022,
          89.09530000000001,
          89.2884,
          89.4815,
          89.6746,
          89.8677,
          90.0608,
          90.25389999999999,
          90.447,
          90.64009999999999,
          90.83319999999999,
          91.0263,
          91.2194,
          91.4125,
          91.6056,
          91.7987,
          91.9918,
          92.1849,
          92.378,
          92.57109999999999,
          92.7642,
          92.9573,
          93.15039999999999,
          93.3435,
          93.53659999999999,
          93.7297,
          93.92280000000001,
          94.1159,
          94.309,
          94.50209999999998,
          94.6952,
          94.8883,
          95.08139999999999,
          95.2745,
          95.46759999999999,
          95.66069999999999,
          95.8538,
          96.0469,
          96.24,
          96.4331,
          96.6262,
          96.8193,
          97.0124,
          97.2055,
          97.39859999999999,
          97.5917,
          97.7848,
          97.97789999999999,
          98.171,
          98.3641,
          98.5572,
          98.75030000000001,
          98.9434,
          99.1365,
          99.32959999999999,
          99.5227,
          99.7158,
          99.90889999999999,
          100.102,
          100.29509999999999,
          100.48819999999999,
          100.68130000000001,
          100.8744,
          101.0675,
          101.2606,
          101.4537,
          101.6468,
          101.8399,
          102.033,
          102.22609999999999,
          102.4192,
          102.6123,
          102.80539999999999,
          102.9985,
          103.1916,
          103.3847,
          103.5778,
          103.7709,
          103.964,
          104.15709999999999,
          104.3502,
          104.5433,
          104.73639999999999,
          104.9295,
          105.12259999999999,
          105.31569999999999,
          105.50880000000001,
          105.7019,
          105.895,
          106.0881,
          106.2812,
          106.4743,
          106.6674,
          106.8605,
          107.05359999999999,
          107.2467,
          107.4398,
          107.63289999999999,
          107.826,
          108.0191,
          108.2122,
          108.4053,
          108.5984,
          108.7915,
          108.98459999999999,
          109.1777,
          109.3708,
          109.56389999999999,
          109.757,
          109.95009999999999,
          110.1432,
          110.33630000000001,
          110.5294,
          110.7225,
          110.9156,
          111.1087,
          111.3018,
          111.4949,
          111.688,
          111.88109999999999,
          112.07419999999999,
          112.2673,
          112.46039999999999,
          112.6535,
          112.8466,
          113.0397,
          113.2328,
          113.4259,
          113.619,
          113.81209999999999,
          114.0052,
          114.1983,
          114.39139999999999,
          114.5845,
          114.77759999999999,
          114.9707,
          115.16380000000001,
          115.3569
         ],
         "xaxis": "x",
         "y": [
          0.004005512401370654,
          0.004044368319430984,
          0.0040810867371991995,
          0.004115631119982735,
          0.004147970405744663,
          0.0041780791098056155,
          0.004205937408682123,
          0.004231531202824519,
          0.004254852158140598,
          0.004275897726314126,
          0.004294671144049215,
          0.004311181411491396,
          0.0043254432501931344,
          0.004337477041104521,
          0.004347308743178104,
          0.004354969793279498,
          0.004360496988191579,
          0.004363932349589316,
          0.004365322972943513,
          0.004364720861384843,
          0.004362182745623553,
          0.004357769891075087,
          0.0043515478933869225,
          0.004343586463597191,
          0.004333959204180704,
          0.004322743377252979,
          0.004310019666207682,
          0.0042958719320575905,
          0.00428038696573418,
          0.0042636542375762004,
          0.004245765645203838,
          0.004226815260932469,
          0.004206899079829184,
          0.004186114769456954,
          0.004164561422285891,
          0.004142339311679548,
          0.004119549652287159,
          0.004096294365591107,
          0.004072675851273435,
          0.00404879676497696,
          0.004024759802946133,
          0.004000667493941498,
          0.003976621998729863,
          0.003952724917361575,
          0.0039290771043569575,
          0.0039057784918372323,
          0.003882927920551852,
          0.003860622978674793,
          0.0038389598481679767,
          0.003818033158441074,
          0.0037979358469743003,
          0.00377875902651493,
          0.0037605918584096582,
          0.003743521431594058,
          0.003727632646727574,
          0.003713008104938037,
          0.0036997280006236945,
          0.003687870017753494,
          0.003677509229107635,
          0.0036687179979103283,
          0.0036615658813250332,
          0.0036561195353089484,
          0.00365244262035791,
          0.0036505957077147115,
          0.003650636185662727,
          0.003652618165582018,
          0.0036565923875063137,
          0.0036626061249856153,
          0.0036707030891300315,
          0.0036809233317850374,
          0.0036933031478657953,
          0.003707874976957779,
          0.0037246673043716295,
          0.0037437045619213476,
          0.0037650070287753644,
          0.0037885907328092045,
          0.003814467352965126,
          0.003842644123197707,
          0.00387312373865386,
          0.00390590426480032,
          0.003940979050270762,
          0.003978336644257212,
          0.004017960719316096,
          0.004059830000497151,
          0.004103918201733105,
          0.004150193970449095,
          0.00419862084136269,
          0.004249157200447792,
          0.004301756260028646,
          0.004356366045953037,
          0.004412929397767005,
          0.004471383982776532,
          0.004531662324835341,
          0.004593691848641771,
          0.004657394940262625,
          0.004722689024527693,
          0.004789486659856335,
          0.004857695650987211,
          0.004927219179984858,
          0.004997955955793008,
          0.005069800382494929,
          0.005142642746326758,
          0.005216369421371432,
          0.0052908630937394865,
          0.0053660030039196505,
          0.005441665206857712,
          0.00551772284919779,
          0.00559404646299688,
          0.005670504275102113,
          0.00574696253126231,
          0.0058232858339313034,
          0.005899337492611809,
          0.0059749798854859615,
          0.006050074830983049,
          0.006124483967847249,
          0.006198069142189296,
          0.0062706927999363875,
          0.006342218383035436,
          0.006412510727715957,
          0.006481436463081567,
          0.006548864408273124,
          0.006614665966432715,
          0.006678715513695831,
          0.006740890781449507,
          0.006801073230116848,
          0.0068591484127631195,
          0.006915006326865248,
          0.006968541752644794,
          0.007019654576433933,
          0.007068250097624074,
          0.007114239317836888,
          0.007157539211057096,
          0.007198072973574575,
          0.007235770252699163,
          0.007270567353334505,
          0.007302407421625867,
          0.007331240605030459,
          0.007357024188296248,
          0.007379722704975351,
          0.0073993080242399055,
          0.007415759412910591,
          0.00742906357274967,
          0.007439214653210414,
          0.007446214239971937,
          0.007450071319721765,
          0.007450802221776956,
          0.007448430537257086,
          0.0074429870166382965,
          0.007434509446625707,
          0.007423042507381343,
          0.007408637611235311,
          0.00739135272408891,
          0.007371252170789062,
          0.007348406425813365,
          0.00732289189065395,
          0.007294790659326082,
          0.007264190273453467,
          0.007231183468397077,
          0.00719586791189752,
          0.007158345936693015,
          0.0071187242685560445,
          0.007077113751162032,
          0.007033629069163456,
          0.006988388470793131,
          0.0069415134912615434,
          0.006893128678145723,
          0.006843361319892144,
          0.006792341178473943,
          0.0067402002271545565,
          0.006687072394216395,
          0.006633093313415271,
          0.006578400081819952,
          0.006523131025592579,
          0.006467425474160267,
          0.006411423543122445,
          0.006355265926133083,
          0.006299093695892728,
          0.006243048114283598,
          0.006187270451582059,
          0.0061319018145881456,
          0.006077082983421711,
          0.006022954256650184,
          0.005969655304334598,
          0.005917325028508909,
          0.005866101430543279,
          0.005816121484785607,
          0.00576752101782723,
          0.005720434592699015,
          0.005674995397273076,
          0.005631335136123302,
          0.00558958392508493,
          0.0055498701877493934,
          0.00551232055313571,
          0.005477059753793493,
          0.00544421052361511,
          0.005413893494665206,
          0.005386227092374482,
          0.005361327428490864,
          0.005339308191234262,
          0.005320280532160945,
          0.005304352949309034,
          0.005291631166267499,
          0.005282218006886401,
          0.005276213265425453,
          0.005273713572020304,
          0.005274812253430817,
          0.005279599189121937,
          0.005288160662815001,
          0.005300579209734626,
          0.005316933459862857,
          0.0053372979775973195,
          0.005361743098293028,
          0.005390334762247332,
          0.0054231343467638,
          0.005460198497002769,
          0.00550157895639333,
          0.005547322397443053,
          0.0055974702538372405,
          0.005652058554768502,
          0.005711117762479404,
          0.005774672614035773,
          0.005842741968375221,
          0.005915338659694703,
          0.005992469358252088,
          0.006074134439659573,
          0.006160327863741553,
          0.0062510370640159576,
          0.0063462428488361535,
          0.006445919315200901,
          0.006550033776201903,
          0.006658546703033135,
          0.006771411682433526,
          0.0068885753903745826,
          0.007009977582738393,
          0.007135551103658841,
          0.007265221912120568,
          0.007398909127327153,
          0.007536525093261738,
          0.0076779754627714315,
          0.00782315930141196,
          0.007971969211189995,
          0.008124291474241652,
          0.008280006216382698,
          0.008438987590364776,
          0.00860110397856856,
          0.008766218214763238,
          0.008934187824460756,
          0.009104865283294345,
          0.009278098292754477,
          0.009453730072521592,
          0.00963159966854595,
          0.009811542275938433,
          0.009993389575656087,
          0.0101769700838899,
          0.01036210951299288,
          0.01054863114272191,
          0.01073635620050997,
          0.010925104249433618,
          0.011114693582497746,
          0.01130494162182237,
          0.011495665321287006,
          0.011686681571167278,
          0.011877807603283367,
          0.012068861395174508,
          0.012259662071814437,
          0.012450030303392283,
          0.012639788697699291,
          0.012828762185686403,
          0.013016778398787931,
          0.013203668036645744,
          0.013389265223912412,
          0.01357340785486351,
          0.01375593792460657,
          0.013936701845737462,
          0.01411555074936357,
          0.014292340769486407,
          0.01446693330981514,
          0.01463919529216351,
          0.014808999385669801,
          0.01497622421616695,
          0.01514075455512267,
          0.015302481487662176,
          0.015461302559281671,
          0.01561712190095695,
          0.01576985033244819,
          0.01591940544369875,
          0.01606571165432217,
          0.016208700251266864,
          0.016348309404841253,
          0.016484484163374735,
          0.016617176426877878,
          0.016746344900152647,
          0.016871955025885396,
          0.016993978898334948,
          0.01711239515830274,
          0.01722718887014205,
          0.017338351381628904,
          0.017445880167577064,
          0.01754977865813416,
          0.017650056052744542,
          0.01774672712080759,
          0.017839811990096172,
          0.017929335924030898,
          0.018015329088928972,
          0.018097826312364458,
          0.018176866833787213,
          0.018252494048552437,
          0.018324755246510612,
          0.018393701346299446,
          0.018459386626465003,
          0.018521868454518555,
          0.01858120701500987,
          0.018637465037665453,
          0.01869070752660408,
          0.018741001491599317,
          0.01878841568231345,
          0.018833020326375998,
          0.018874886872126663,
          0.018914087736784786,
          0.018950696060747677,
          0.018984785468657752,
          0.01901642983781427,
          0.01904570307444036,
          0.019072678898249606,
          0.019097430635690586,
          0.019120031022181364,
          0.019140552013581152,
          0.019159064607082152,
          0.019175638671642903,
          0.019190342788024416,
          0.01920324409843355,
          0.019214408165724076,
          0.019223898842055505,
          0.019231778146863405,
          0.019238106153952373,
          0.019242940887485273,
          0.019246338226608817,
          0.019248351818427628,
          0.01924903299901521,
          0.01924843072213223,
          0.019246591495309124,
          0.019243559322942128,
          0.01923937565604829,
          0.019234079348327198,
          0.01922770661818311,
          0.01922029101637227,
          0.019211863398955056,
          0.019202451905251574,
          0.019192081940521646,
          0.019180776163115712,
          0.019168554475871288,
          0.019155434021560284,
          0.019141429182224484,
          0.019126551582270286,
          0.019110810095227936,
          0.01909421085411524,
          0.019076757265379985,
          0.019058450026429044,
          0.019039287146784503,
          0.01901926397293772,
          0.01899837321700096,
          0.018976604989281807,
          0.018953946834928792,
          0.018930383774815828,
          0.018905898350849007,
          0.01888047067589107,
          0.018854078488506367,
          0.018826697212732318,
          0.018798300023081863,
          0.0187688579149756,
          0.018738339780791306,
          0.018706712491703522,
          0.018673940985465872,
          0.018639988360264686,
          0.018604815974744088,
          0.018568383554270203,
          0.018530649303466557,
          0.018491570025012904,
          0.018451101244658107,
          0.018409197342352506,
          0.018365811689358854,
          0.01832089679115237,
          0.018274404435871288,
          0.018226285848029374,
          0.018176491847152004,
          0.018124973010948175,
          0.018071679842582664,
          0.018016562941565794,
          0.017959573177734174,
          0.017900661867753687,
          0.01783978095353756,
          0.017776883181937334,
          0.017711922285033304,
          0.017644853160324644,
          0.01757563205009708,
          0.01750421671922938,
          0.017430566630688104,
          0.01735464311795352,
          0.017276409553619372,
          0.017195831513413574,
          0.017112876934897797,
          0.017027516270120096,
          0.016939722631516253,
          0.016849471930382866,
          0.016756743007277367,
          0.016661517753737486,
          0.016563781224754513,
          0.016463521741480937,
          0.016360730983703213,
          0.016255404071663766,
          0.016147539636873383,
          0.01603713988161415,
          0.01592421062689417,
          0.015808761348678778,
          0.015690805202286152,
          0.015570359034899891,
          0.015447443386215735,
          0.015322082477302587,
          0.015194304187821642,
          0.015064140021807417,
          0.01493162506227442,
          0.014796797914969146,
          0.014659700641640374,
          0.014520378683251617,
          0.014378880773605251,
          0.014235258843890531,
          0.014089567918706131,
          0.013941866004140796,
          0.01379221396852503,
          0.013640675416490628,
          0.013487316556993798,
          0.013332206065971948,
          0.013175414944313044,
          0.013017016371821087,
          0.012857085557859912,
          0.012695699589353009,
          0.012532937276806804,
          0.012368878999010407,
          0.012203606547047588,
          0.012037202968233808,
          0.011869752410566396,
          0.011701339968247269,
          0.011532051528806169,
          0.011361973622319126,
          0.011191193273180465,
          0.011019797854850006,
          0.010847874947958266,
          0.010675512202112427,
          0.01050279720170698,
          0.010329817336001754,
          0.010156659673690635,
          0.009983410842145352,
          0.009810156911479536,
          0.009636983283541763,
          0.009463974585910312,
          0.009291214570928507,
          0.00911878601978753,
          0.008946770651633771,
          0.008775249037650562,
          0.008604300520038553,
          0.008434003135797341,
          0.008264433545190724,
          0.008095666964760832,
          0.007927777104742378,
          0.007760836110716318,
          0.007594914509333339,
          0.007430081157931143,
          0.0072664031978654925,
          0.007103946011373809,
          0.006942773181790102,
          0.006782946456933659,
          0.0066245257154982605,
          0.006467568936274858,
          0.006312132170049626,
          0.0061582695140277935,
          0.006006033088644709,
          0.005855473016637409,
          0.00570663740426159,
          0.005559572324552402,
          0.005414321802540324,
          0.005270927802346875,
          0.005129430216098228,
          0.004989866854607846,
          0.004852273439792184,
          0.0047166835987954465,
          0.004583128859810976,
          0.00445163864959793,
          0.00432224029270107,
          0.004194959012390829,
          0.004069817933348272,
          0.003946838086126155,
          0.0038260384134226654,
          0.003707435778208426,
          0.003591044973750476,
          0.0034768787355780382,
          0.003364947755435784,
          0.0032552606972691966,
          0.0031478242152843307,
          0.0030426429741217454,
          0.002939719671179506
         ],
         "yaxis": "y"
        }
       ],
       "layout": {
        "autosize": true,
        "barmode": "overlay",
        "hovermode": "closest",
        "legend": {
         "traceorder": "reversed",
         "x": 0.5,
         "xanchor": "left",
         "y": 0.95,
         "yanchor": "top"
        },
        "margin": {
         "b": 0,
         "l": 0,
         "r": 0,
         "t": 50
        },
        "template": {
         "data": {
          "bar": [
           {
            "error_x": {
             "color": "#2a3f5f"
            },
            "error_y": {
             "color": "#2a3f5f"
            },
            "marker": {
             "line": {
              "color": "#E5ECF6",
              "width": 0.5
             }
            },
            "type": "bar"
           }
          ],
          "barpolar": [
           {
            "marker": {
             "line": {
              "color": "#E5ECF6",
              "width": 0.5
             }
            },
            "type": "barpolar"
           }
          ],
          "carpet": [
           {
            "aaxis": {
             "endlinecolor": "#2a3f5f",
             "gridcolor": "white",
             "linecolor": "white",
             "minorgridcolor": "white",
             "startlinecolor": "#2a3f5f"
            },
            "baxis": {
             "endlinecolor": "#2a3f5f",
             "gridcolor": "white",
             "linecolor": "white",
             "minorgridcolor": "white",
             "startlinecolor": "#2a3f5f"
            },
            "type": "carpet"
           }
          ],
          "choropleth": [
           {
            "colorbar": {
             "outlinewidth": 0,
             "ticks": ""
            },
            "type": "choropleth"
           }
          ],
          "contour": [
           {
            "colorbar": {
             "outlinewidth": 0,
             "ticks": ""
            },
            "colorscale": [
             [
              0,
              "#0d0887"
             ],
             [
              0.1111111111111111,
              "#46039f"
             ],
             [
              0.2222222222222222,
              "#7201a8"
             ],
             [
              0.3333333333333333,
              "#9c179e"
             ],
             [
              0.4444444444444444,
              "#bd3786"
             ],
             [
              0.5555555555555556,
              "#d8576b"
             ],
             [
              0.6666666666666666,
              "#ed7953"
             ],
             [
              0.7777777777777778,
              "#fb9f3a"
             ],
             [
              0.8888888888888888,
              "#fdca26"
             ],
             [
              1,
              "#f0f921"
             ]
            ],
            "type": "contour"
           }
          ],
          "contourcarpet": [
           {
            "colorbar": {
             "outlinewidth": 0,
             "ticks": ""
            },
            "type": "contourcarpet"
           }
          ],
          "heatmap": [
           {
            "colorbar": {
             "outlinewidth": 0,
             "ticks": ""
            },
            "colorscale": [
             [
              0,
              "#0d0887"
             ],
             [
              0.1111111111111111,
              "#46039f"
             ],
             [
              0.2222222222222222,
              "#7201a8"
             ],
             [
              0.3333333333333333,
              "#9c179e"
             ],
             [
              0.4444444444444444,
              "#bd3786"
             ],
             [
              0.5555555555555556,
              "#d8576b"
             ],
             [
              0.6666666666666666,
              "#ed7953"
             ],
             [
              0.7777777777777778,
              "#fb9f3a"
             ],
             [
              0.8888888888888888,
              "#fdca26"
             ],
             [
              1,
              "#f0f921"
             ]
            ],
            "type": "heatmap"
           }
          ],
          "heatmapgl": [
           {
            "colorbar": {
             "outlinewidth": 0,
             "ticks": ""
            },
            "colorscale": [
             [
              0,
              "#0d0887"
             ],
             [
              0.1111111111111111,
              "#46039f"
             ],
             [
              0.2222222222222222,
              "#7201a8"
             ],
             [
              0.3333333333333333,
              "#9c179e"
             ],
             [
              0.4444444444444444,
              "#bd3786"
             ],
             [
              0.5555555555555556,
              "#d8576b"
             ],
             [
              0.6666666666666666,
              "#ed7953"
             ],
             [
              0.7777777777777778,
              "#fb9f3a"
             ],
             [
              0.8888888888888888,
              "#fdca26"
             ],
             [
              1,
              "#f0f921"
             ]
            ],
            "type": "heatmapgl"
           }
          ],
          "histogram": [
           {
            "marker": {
             "colorbar": {
              "outlinewidth": 0,
              "ticks": ""
             }
            },
            "type": "histogram"
           }
          ],
          "histogram2d": [
           {
            "colorbar": {
             "outlinewidth": 0,
             "ticks": ""
            },
            "colorscale": [
             [
              0,
              "#0d0887"
             ],
             [
              0.1111111111111111,
              "#46039f"
             ],
             [
              0.2222222222222222,
              "#7201a8"
             ],
             [
              0.3333333333333333,
              "#9c179e"
             ],
             [
              0.4444444444444444,
              "#bd3786"
             ],
             [
              0.5555555555555556,
              "#d8576b"
             ],
             [
              0.6666666666666666,
              "#ed7953"
             ],
             [
              0.7777777777777778,
              "#fb9f3a"
             ],
             [
              0.8888888888888888,
              "#fdca26"
             ],
             [
              1,
              "#f0f921"
             ]
            ],
            "type": "histogram2d"
           }
          ],
          "histogram2dcontour": [
           {
            "colorbar": {
             "outlinewidth": 0,
             "ticks": ""
            },
            "colorscale": [
             [
              0,
              "#0d0887"
             ],
             [
              0.1111111111111111,
              "#46039f"
             ],
             [
              0.2222222222222222,
              "#7201a8"
             ],
             [
              0.3333333333333333,
              "#9c179e"
             ],
             [
              0.4444444444444444,
              "#bd3786"
             ],
             [
              0.5555555555555556,
              "#d8576b"
             ],
             [
              0.6666666666666666,
              "#ed7953"
             ],
             [
              0.7777777777777778,
              "#fb9f3a"
             ],
             [
              0.8888888888888888,
              "#fdca26"
             ],
             [
              1,
              "#f0f921"
             ]
            ],
            "type": "histogram2dcontour"
           }
          ],
          "mesh3d": [
           {
            "colorbar": {
             "outlinewidth": 0,
             "ticks": ""
            },
            "type": "mesh3d"
           }
          ],
          "parcoords": [
           {
            "line": {
             "colorbar": {
              "outlinewidth": 0,
              "ticks": ""
             }
            },
            "type": "parcoords"
           }
          ],
          "pie": [
           {
            "automargin": true,
            "type": "pie"
           }
          ],
          "scatter": [
           {
            "marker": {
             "colorbar": {
              "outlinewidth": 0,
              "ticks": ""
             }
            },
            "type": "scatter"
           }
          ],
          "scatter3d": [
           {
            "line": {
             "colorbar": {
              "outlinewidth": 0,
              "ticks": ""
             }
            },
            "marker": {
             "colorbar": {
              "outlinewidth": 0,
              "ticks": ""
             }
            },
            "type": "scatter3d"
           }
          ],
          "scattercarpet": [
           {
            "marker": {
             "colorbar": {
              "outlinewidth": 0,
              "ticks": ""
             }
            },
            "type": "scattercarpet"
           }
          ],
          "scattergeo": [
           {
            "marker": {
             "colorbar": {
              "outlinewidth": 0,
              "ticks": ""
             }
            },
            "type": "scattergeo"
           }
          ],
          "scattergl": [
           {
            "marker": {
             "colorbar": {
              "outlinewidth": 0,
              "ticks": ""
             }
            },
            "type": "scattergl"
           }
          ],
          "scattermapbox": [
           {
            "marker": {
             "colorbar": {
              "outlinewidth": 0,
              "ticks": ""
             }
            },
            "type": "scattermapbox"
           }
          ],
          "scatterpolar": [
           {
            "marker": {
             "colorbar": {
              "outlinewidth": 0,
              "ticks": ""
             }
            },
            "type": "scatterpolar"
           }
          ],
          "scatterpolargl": [
           {
            "marker": {
             "colorbar": {
              "outlinewidth": 0,
              "ticks": ""
             }
            },
            "type": "scatterpolargl"
           }
          ],
          "scatterternary": [
           {
            "marker": {
             "colorbar": {
              "outlinewidth": 0,
              "ticks": ""
             }
            },
            "type": "scatterternary"
           }
          ],
          "surface": [
           {
            "colorbar": {
             "outlinewidth": 0,
             "ticks": ""
            },
            "colorscale": [
             [
              0,
              "#0d0887"
             ],
             [
              0.1111111111111111,
              "#46039f"
             ],
             [
              0.2222222222222222,
              "#7201a8"
             ],
             [
              0.3333333333333333,
              "#9c179e"
             ],
             [
              0.4444444444444444,
              "#bd3786"
             ],
             [
              0.5555555555555556,
              "#d8576b"
             ],
             [
              0.6666666666666666,
              "#ed7953"
             ],
             [
              0.7777777777777778,
              "#fb9f3a"
             ],
             [
              0.8888888888888888,
              "#fdca26"
             ],
             [
              1,
              "#f0f921"
             ]
            ],
            "type": "surface"
           }
          ],
          "table": [
           {
            "cells": {
             "fill": {
              "color": "#EBF0F8"
             },
             "line": {
              "color": "white"
             }
            },
            "header": {
             "fill": {
              "color": "#C8D4E3"
             },
             "line": {
              "color": "white"
             }
            },
            "type": "table"
           }
          ]
         },
         "layout": {
          "annotationdefaults": {
           "arrowcolor": "#2a3f5f",
           "arrowhead": 0,
           "arrowwidth": 1
          },
          "autotypenumbers": "strict",
          "coloraxis": {
           "colorbar": {
            "outlinewidth": 0,
            "ticks": ""
           }
          },
          "colorscale": {
           "diverging": [
            [
             0,
             "#8e0152"
            ],
            [
             0.1,
             "#c51b7d"
            ],
            [
             0.2,
             "#de77ae"
            ],
            [
             0.3,
             "#f1b6da"
            ],
            [
             0.4,
             "#fde0ef"
            ],
            [
             0.5,
             "#f7f7f7"
            ],
            [
             0.6,
             "#e6f5d0"
            ],
            [
             0.7,
             "#b8e186"
            ],
            [
             0.8,
             "#7fbc41"
            ],
            [
             0.9,
             "#4d9221"
            ],
            [
             1,
             "#276419"
            ]
           ],
           "sequential": [
            [
             0,
             "#0d0887"
            ],
            [
             0.1111111111111111,
             "#46039f"
            ],
            [
             0.2222222222222222,
             "#7201a8"
            ],
            [
             0.3333333333333333,
             "#9c179e"
            ],
            [
             0.4444444444444444,
             "#bd3786"
            ],
            [
             0.5555555555555556,
             "#d8576b"
            ],
            [
             0.6666666666666666,
             "#ed7953"
            ],
            [
             0.7777777777777778,
             "#fb9f3a"
            ],
            [
             0.8888888888888888,
             "#fdca26"
            ],
            [
             1,
             "#f0f921"
            ]
           ],
           "sequentialminus": [
            [
             0,
             "#0d0887"
            ],
            [
             0.1111111111111111,
             "#46039f"
            ],
            [
             0.2222222222222222,
             "#7201a8"
            ],
            [
             0.3333333333333333,
             "#9c179e"
            ],
            [
             0.4444444444444444,
             "#bd3786"
            ],
            [
             0.5555555555555556,
             "#d8576b"
            ],
            [
             0.6666666666666666,
             "#ed7953"
            ],
            [
             0.7777777777777778,
             "#fb9f3a"
            ],
            [
             0.8888888888888888,
             "#fdca26"
            ],
            [
             1,
             "#f0f921"
            ]
           ]
          },
          "colorway": [
           "#636efa",
           "#EF553B",
           "#00cc96",
           "#ab63fa",
           "#FFA15A",
           "#19d3f3",
           "#FF6692",
           "#B6E880",
           "#FF97FF",
           "#FECB52"
          ],
          "font": {
           "color": "#2a3f5f"
          },
          "geo": {
           "bgcolor": "white",
           "lakecolor": "white",
           "landcolor": "#E5ECF6",
           "showlakes": true,
           "showland": true,
           "subunitcolor": "white"
          },
          "hoverlabel": {
           "align": "left"
          },
          "hovermode": "closest",
          "mapbox": {
           "style": "light"
          },
          "paper_bgcolor": "white",
          "plot_bgcolor": "#E5ECF6",
          "polar": {
           "angularaxis": {
            "gridcolor": "white",
            "linecolor": "white",
            "ticks": ""
           },
           "bgcolor": "#E5ECF6",
           "radialaxis": {
            "gridcolor": "white",
            "linecolor": "white",
            "ticks": ""
           }
          },
          "scene": {
           "xaxis": {
            "backgroundcolor": "#E5ECF6",
            "gridcolor": "white",
            "gridwidth": 2,
            "linecolor": "white",
            "showbackground": true,
            "ticks": "",
            "zerolinecolor": "white"
           },
           "yaxis": {
            "backgroundcolor": "#E5ECF6",
            "gridcolor": "white",
            "gridwidth": 2,
            "linecolor": "white",
            "showbackground": true,
            "ticks": "",
            "zerolinecolor": "white"
           },
           "zaxis": {
            "backgroundcolor": "#E5ECF6",
            "gridcolor": "white",
            "gridwidth": 2,
            "linecolor": "white",
            "showbackground": true,
            "ticks": "",
            "zerolinecolor": "white"
           }
          },
          "shapedefaults": {
           "line": {
            "color": "#2a3f5f"
           }
          },
          "ternary": {
           "aaxis": {
            "gridcolor": "white",
            "linecolor": "white",
            "ticks": ""
           },
           "baxis": {
            "gridcolor": "white",
            "linecolor": "white",
            "ticks": ""
           },
           "bgcolor": "#E5ECF6",
           "caxis": {
            "gridcolor": "white",
            "linecolor": "white",
            "ticks": ""
           }
          },
          "title": {
           "x": 0.05
          },
          "xaxis": {
           "automargin": true,
           "gridcolor": "white",
           "linecolor": "white",
           "ticks": "",
           "title": {
            "standoff": 15
           },
           "zerolinecolor": "white",
           "zerolinewidth": 2
          },
          "yaxis": {
           "automargin": true,
           "gridcolor": "white",
           "linecolor": "white",
           "ticks": "",
           "title": {
            "standoff": 15
           },
           "zerolinecolor": "white",
           "zerolinewidth": 2
          }
         }
        },
        "title": {
         "text": "Customer Churn Distribution by Monthly Charges",
         "x": 0.5,
         "xanchor": "center",
         "y": 0.9,
         "yanchor": "top"
        },
        "xaxis": {
         "anchor": "y2",
         "domain": [
          0,
          1
         ],
         "zeroline": false
        },
        "yaxis": {
         "anchor": "free",
         "domain": [
          0,
          1
         ],
         "position": 0
        }
       }
      },
      "text/html": [
       "<div>                            <div id=\"431ecb44-22ed-46b1-83e9-2b5f5fc8a74e\" class=\"plotly-graph-div\" style=\"height:525px; width:100%;\"></div>            <script type=\"text/javascript\">                require([\"plotly\"], function(Plotly) {                    window.PLOTLYENV=window.PLOTLYENV || {};                                    if (document.getElementById(\"431ecb44-22ed-46b1-83e9-2b5f5fc8a74e\")) {                    Plotly.newPlot(                        \"431ecb44-22ed-46b1-83e9-2b5f5fc8a74e\",                        [{\"autobinx\": false, \"histnorm\": \"probability density\", \"legendgroup\": \"No Churn\", \"marker\": {\"color\": \"teal\"}, \"name\": \"No Churn\", \"opacity\": 0.7, \"type\": \"histogram\", \"x\": [29.85, 56.95, 42.3, 89.1, 29.75, 56.15, 49.95, 18.95, 100.35, 105.5, 113.25, 20.65, 106.7, 90.05, 19.8, 59.9, 59.6, 55.3, 90.25, 96.35, 95.5, 66.15, 20.2, 45.25, 99.9, 74.8, 49.55, 69.2, 20.75, 79.85, 76.2, 84.5, 49.25, 79.75, 64.15, 90.25, 69.5, 74.85, 99.65, 108.45, 24.95, 107.5, 100.5, 89.9, 42.1, 54.4, 75.3, 78.9, 79.2, 20.15, 79.85, 49.05, 20.4, 111.6, 24.25, 64.5, 110.5, 55.65, 54.65, 74.75, 25.9, 50.55, 103.8, 20.15, 99.3, 62.15, 20.65, 19.95, 33.75, 82.05, 74.7, 84.0, 111.05, 100.9, 66.85, 21.0, 20.2, 19.45, 95.0, 45.55, 24.3, 104.15, 30.15, 94.35, 19.4, 57.95, 91.65, 54.6, 89.85, 31.05, 20.65, 85.2, 99.8, 20.7, 50.7, 20.85, 88.95, 23.55, 19.75, 56.45, 85.95, 50.55, 25.7, 75.0, 20.2, 19.6, 88.05, 101.05, 84.3, 23.95, 99.05, 19.6, 64.5, 69.5, 68.55, 108.15, 86.1, 19.7, 80.9, 84.15, 20.15, 64.25, 25.7, 56.0, 69.7, 73.9, 20.6, 19.9, 89.05, 20.4, 84.25, 81.95, 20.55, 24.7, 105.35, 20.55, 45.3, 74.75, 51.8, 30.4, 19.65, 56.6, 71.9, 19.75, 109.7, 19.3, 96.55, 24.1, 111.35, 112.25, 20.75, 101.9, 80.05, 105.55, 78.3, 68.85, 79.95, 55.45, 102.45, 25.25, 19.75, 20.0, 86.8, 58.75, 45.25, 56.6, 84.2, 80.0, 24.75, 20.2, 19.35, 50.6, 81.15, 89.9, 85.3, 108.0, 93.5, 20.25, 25.15, 29.6, 73.15, 19.75, 86.6, 109.2, 74.7, 94.4, 54.8, 75.35, 65.0, 99.0, 93.5, 83.7, 19.85, 59.55, 115.1, 114.35, 45.0, 89.85, 49.85, 113.3, 88.1, 24.9, 105.0, 24.25, 59.75, 107.05, 64.95, 55.0, 50.55, 55.15, 51.2, 25.4, 54.45, 76.0, 44.35, 61.2, 86.8, 89.35, 19.7, 20.25, 76.05, 100.8, 74.55, 64.9, 90.4, 60.3, 81.85, 24.8, 75.55, 101.15, 78.75, 19.25, 89.05, 115.05, 69.35, 110.05, 19.9, 91.5, 60.0, 44.8, 48.6, 60.05, 102.7, 82.9, 35.9, 82.65, 19.85, 19.2, 94.9, 88.15, 94.8, 54.65, 85.75, 67.45, 20.5, 20.25, 72.1, 19.45, 44.95, 97.0, 62.8, 44.6, 89.15, 54.1, 105.25, 97.1, 20.2, 98.8, 50.3, 20.55, 75.9, 59.95, 19.15, 98.65, 112.6, 20.6, 35.75, 99.75, 96.1, 85.1, 25.35, 89.65, 86.75, 86.2, 64.8, 108.1, 54.75, 90.4, 44.0, 95.6, 84.8, 44.3, 19.9, 95.05, 90.05, 109.9, 54.6, 20.05, 19.75, 20.05, 55.9, 19.7, 19.8, 95.4, 93.95, 24.45, 74.95, 87.35, 70.65, 73.25, 98.7, 24.8, 24.3, 69.85, 100.55, 25.7, 40.7, 51.65, 105.1, 85.95, 75.6, 58.25, 65.2, 53.45, 19.75, 44.45, 20.85, 114.05, 89.85, 55.05, 112.95, 101.55, 114.65, 64.8, 80.4, 25.05, 94.75, 105.5, 24.7, 69.75, 60.2, 24.4, 104.15, 92.9, 80.8, 20.0, 75.1, 19.65, 69.45, 116.05, 40.05, 102.1, 89.7, 19.9, 20.65, 70.05, 53.6, 76.05, 75.7, 19.65, 81.45, 108.5, 84.5, 100.15, 88.6, 52.55, 104.8, 59.0, 64.05, 20.4, 60.9, 19.8, 116.25, 80.7, 65.2, 84.05, 79.45, 78.0, 19.85, 94.3, 106.45, 105.45, 95.0, 54.3, 70.05, 20.05, 105.4, 51.6, 85.5, 91.25, 115.75, 94.7, 19.6, 99.9, 21.1, 20.05, 79.95, 107.15, 89.55, 81.55, 58.45, 95.65, 80.6, 113.1, 58.95, 19.55, 78.95, 105.05, 101.9, 19.75, 110.3, 115.6, 19.35, 25.6, 68.75, 19.9, 70.6, 70.2, 49.3, 107.25, 23.6, 69.7, 99.5, 64.3, 70.85, 101.9, 73.5, 40.4, 19.25, 59.6, 64.9, 110.85, 81.05, 98.05, 70.5, 94.55, 19.65, 19.0, 20.0, 63.25, 20.1, 99.15, 90.4, 111.9, 24.9, 83.5, 84.3, 45.6, 54.85, 65.55, 90.35, 20.4, 74.55, 19.95, 74.25, 108.65, 109.55, 86.65, 81.0, 47.85, 114.55, 20.55, 109.8, 69.5, 48.85, 25.25, 102.85, 87.55, 78.55, 34.55, 92.05, 85.05, 19.7, 95.15, 84.25, 104.6, 111.65, 55.0, 89.85, 20.35, 54.55, 99.45, 70.9, 25.4, 89.85, 25.25, 69.65, 70.0, 20.1, 24.8, 95.1, 88.85, 78.8, 20.35, 45.25, 20.05, 69.55, 19.5, 74.75, 30.2, 57.8, 19.85, 25.55, 24.85, 110.35, 24.55, 107.95, 81.4, 73.8, 64.4, 103.75, 71.1, 49.9, 24.6, 30.1, 83.4, 20.45, 75.25, 20.55, 20.05, 20.65, 85.15, 84.95, 66.5, 63.3, 83.15, 84.9, 20.55, 49.25, 59.6, 104.65, 75.3, 80.1, 81.0, 24.7, 86.0, 25.4, 89.15, 58.25, 85.65, 50.35, 80.35, 20.2, 20.55, 21.25, 26.25, 80.85, 74.2, 20.35, 75.5, 79.05, 90.15, 50.6, 110.45, 101.0, 79.35, 89.85, 65.0, 80.45, 24.1, 44.05, 110.8, 114.95, 75.05, 19.25, 90.05, 56.7, 80.15, 71.35, 20.25, 90.35, 19.7, 19.85, 90.35, 20.8, 66.85, 19.9, 35.8, 78.85, 20.4, 74.25, 64.8, 20.45, 110.65, 40.3, 107.0, 73.35, 44.8, 54.75, 40.6, 55.3, 60.85, 78.4, 69.65, 59.85, 76.9, 19.85, 67.65, 45.0, 64.2, 81.7, 25.55, 20.0, 75.65, 23.8, 64.2, 76.8, 55.2, 108.55, 25.25, 30.4, 20.05, 84.6, 103.7, 88.0, 106.35, 79.15, 103.1, 63.95, 25.8, 25.55, 44.85, 25.05, 74.1, 88.8, 93.25, 71.4, 79.2, 20.4, 105.0, 30.85, 20.55, 84.85, 33.15, 92.0, 89.8, 115.8, 85.15, 24.85, 64.35, 20.5, 86.05, 89.0, 64.8, 19.8, 93.4, 39.0, 20.5, 26.4, 98.2, 97.55, 19.95, 99.7, 34.8, 60.15, 64.75, 54.65, 19.3, 111.25, 35.8, 20.05, 84.35, 110.5, 91.2, 89.3, 81.1, 81.2, 94.3, 116.1, 105.55, 94.4, 19.5, 105.6, 81.35, 56.4, 65.35, 19.95, 111.25, 89.0, 106.1, 20.05, 25.2, 75.4, 65.55, 80.7, 104.55, 24.15, 20.45, 75.4, 79.7, 81.7, 76.3, 103.75, 86.45, 75.1, 80.6, 19.3, 33.6, 83.25, 80.85, 108.05, 19.9, 21.05, 30.15, 79.85, 65.5, 104.1, 20.5, 91.35, 20.5, 75.6, 55.1, 58.95, 95.1, 25.45, 56.75, 81.75, 86.1, 29.8, 20.5, 60.9, 73.25, 20.85, 77.35, 93.85, 70.1, 75.95, 75.25, 54.95, 19.5, 19.6, 47.85, 23.75, 43.8, 19.75, 19.15, 19.6, 80.3, 24.35, 25.25, 26.1, 20.0, 20.7, 70.3, 69.55, 19.85, 20.0, 95.85, 20.75, 50.15, 58.65, 95.9, 49.5, 80.1, 24.4, 40.05, 19.5, 51.05, 54.35, 84.7, 86.1, 70.35, 110.0, 94.9, 69.75, 71.6, 23.65, 81.85, 25.1, 114.7, 49.15, 80.9, 19.3, 70.2, 54.25, 99.3, 74.0, 50.25, 19.8, 35.5, 80.75, 19.55, 20.05, 112.4, 50.2, 62.25, 55.7, 19.65, 89.25, 54.0, 56.75, 21.1, 96.65, 24.5, 79.2, 69.55, 20.05, 98.85, 25.75, 19.6, 87.65, 74.75, 107.45, 75.35, 64.95, 100.45, 68.5, 80.55, 81.25, 89.55, 55.7, 24.8, 20.0, 105.2, 19.55, 79.75, 97.45, 24.25, 24.6, 50.15, 39.6, 89.85, 98.85, 53.85, 24.25, 89.45, 105.25, 59.5, 70.55, 82.5, 61.6, 49.05, 66.25, 19.4, 86.05, 19.15, 19.25, 81.95, 114.65, 20.0, 19.8, 65.15, 19.65, 88.95, 20.2, 75.2, 56.8, 75.5, 35.6, 60.25, 40.35, 18.85, 54.85, 64.3, 24.65, 76.1, 18.7, 97.95, 94.1, 95.1, 72.35, 82.7, 19.9, 53.8, 51.55, 19.65, 44.05, 114.0, 100.4, 54.25, 80.0, 79.2, 94.3, 49.8, 53.75, 93.45, 87.9, 61.05, 104.05, 99.25, 85.7, 104.85, 69.15, 74.45, 50.45, 60.0, 85.25, 19.45, 20.75, 78.9, 104.5, 49.4, 25.0, 25.55, 70.15, 69.4, 93.15, 69.55, 20.2, 20.4, 23.75, 70.45, 65.75, 24.6, 69.25, 24.65, 90.4, 100.85, 75.35, 87.2, 64.4, 24.7, 105.85, 98.3, 19.45, 58.7, 20.15, 64.5, 28.5, 90.45, 105.15, 83.15, 103.2, 19.45, 88.8, 85.9, 34.2, 20.15, 50.3, 80.15, 51.25, 95.2, 94.8, 80.25, 76.1, 115.55, 24.65, 53.6, 19.45, 88.2, 101.15, 56.8, 99.4, 20.1, 60.7, 20.95, 114.85, 19.25, 62.8, 105.5, 19.85, 74.1, 107.5, 19.55, 68.8, 84.45, 84.5, 111.2, 80.6, 80.7, 75.6, 57.6, 110.6, 58.2, 81.0, 19.7, 59.55, 75.55, 45.1, 70.95, 20.9, 19.95, 24.6, 66.7, 94.8, 65.85, 19.95, 24.65, 51.25, 54.25, 19.4, 56.25, 25.15, 23.95, 35.4, 75.35, 20.4, 56.05, 20.0, 73.05, 20.5, 100.75, 19.95, 49.65, 65.65, 20.45, 60.95, 20.35, 19.5, 75.2, 111.45, 70.15, 92.0, 85.5, 82.15, 84.4, 60.9, 20.25, 95.3, 19.85, 84.35, 19.85, 82.3, 66.8, 44.6, 98.45, 70.7, 24.95, 102.5, 86.55, 24.3, 58.35, 68.75, 85.8, 20.1, 20.35, 110.8, 82.85, 84.35, 19.55, 19.95, 66.25, 23.3, 25.3, 44.55, 104.1, 92.55, 101.45, 94.55, 95.5, 100.3, 55.5, 49.85, 89.55, 19.15, 99.8, 113.05, 19.95, 74.15, 92.0, 73.85, 24.45, 24.8, 64.85, 20.75, 68.95, 109.4, 49.0, 50.25, 19.9, 97.8, 100.3, 55.8, 111.15, 98.55, 50.05, 20.85, 19.5, 19.35, 69.5, 48.8, 94.5, 20.65, 106.05, 108.3, 99.65, 95.9, 20.0, 64.95, 74.6, 49.2, 73.75, 92.3, 19.2, 88.65, 95.95, 105.4, 20.25, 49.05, 35.55, 65.1, 96.85, 69.75, 99.2, 106.8, 51.25, 57.75, 70.85, 19.55, 79.5, 98.15, 20.25, 79.15, 94.25, 40.2, 19.95, 55.35, 102.15, 71.1, 54.1, 19.65, 88.45, 80.4, 19.25, 84.8, 19.5, 68.6, 92.6, 100.55, 20.55, 19.6, 67.45, 43.55, 109.85, 20.65, 95.4, 21.0, 56.2, 18.4, 25.75, 19.6, 19.8, 64.2, 75.75, 78.95, 50.3, 80.3, 19.85, 21.1, 50.0, 104.75, 19.85, 85.9, 80.8, 25.25, 80.55, 81.5, 20.9, 67.25, 20.35, 45.05, 34.65, 69.35, 81.55, 75.4, 67.8, 111.4, 46.3, 20.4, 20.05, 96.1, 19.65, 60.65, 71.7, 36.0, 65.2, 48.95, 53.5, 80.45, 109.05, 26.3, 106.8, 64.95, 19.35, 21.1, 18.85, 26.0, 70.35, 96.9, 19.55, 80.4, 94.65, 95.75, 19.55, 104.1, 20.1, 111.55, 60.5, 90.95, 19.7, 50.95, 20.05, 19.4, 59.45, 81.5, 29.05, 70.6, 97.2, 59.2, 75.9, 90.05, 70.95, 102.6, 43.8, 59.0, 69.95, 24.35, 29.45, 84.4, 20.65, 87.1, 19.85, 90.35, 65.5, 80.95, 56.15, 34.4, 20.75, 18.8, 90.8, 25.6, 70.8, 25.4, 108.8, 76.85, 20.25, 24.8, 115.65, 74.6, 103.15, 72.1, 25.1, 80.15, 25.4, 105.4, 45.75, 24.45, 25.0, 85.25, 19.6, 50.15, 70.55, 26.4, 20.15, 58.85, 97.55, 19.65, 25.25, 114.45, 70.7, 75.55, 84.8, 20.65, 20.45, 35.65, 90.45, 97.65, 73.85, 69.1, 82.75, 24.4, 55.25, 61.35, 76.75, 19.4, 54.75, 19.7, 19.9, 107.95, 83.8, 56.4, 20.1, 94.9, 94.2, 49.9, 71.05, 81.65, 89.45, 99.0, 19.05, 114.45, 44.25, 90.55, 20.4, 71.4, 24.85, 104.45, 19.8, 116.45, 20.05, 110.75, 89.7, 48.7, 96.6, 74.3, 54.3, 74.85, 79.95, 20.05, 19.4, 54.9, 24.45, 89.65, 45.4, 75.7, 110.65, 20.55, 115.15, 58.55, 93.25, 19.35, 48.75, 109.05, 25.0, 54.9, 24.75, 91.15, 104.35, 66.05, 92.2, 105.2, 19.6, 30.4, 61.5, 69.4, 24.75, 91.05, 73.65, 19.4, 26.2, 43.85, 69.7, 38.55, 53.1, 20.65, 64.45, 25.1, 95.15, 79.35, 96.65, 75.5, 19.7, 20.5, 19.2, 98.35, 74.35, 51.35, 45.65, 20.3, 54.2, 90.65, 50.9, 25.05, 74.85, 20.5, 63.55, 47.95, 45.0, 90.05, 25.3, 24.3, 75.95, 19.7, 66.4, 35.75, 18.8, 19.4, 19.3, 67.45, 20.1, 58.9, 19.45, 50.5, 25.1, 60.7, 99.0, 104.4, 44.05, 24.1, 45.55, 93.8, 19.7, 70.65, 86.45, 114.1, 95.2, 88.55, 20.75, 44.65, 60.2, 55.45, 70.3, 60.4, 55.8, 31.1, 50.95, 69.1, 43.95, 86.5, 69.95, 90.95, 19.9, 20.15, 90.6, 92.0, 24.85, 36.0, 78.5, 19.95, 20.65, 30.5, 106.1, 20.5, 95.5, 64.6, 51.1, 89.1, 54.95, 20.45, 85.95, 60.35, 19.8, 85.35, 72.1, 81.05, 20.5, 111.8, 20.2, 19.7, 19.85, 60.5, 19.55, 20.9, 21.05, 71.5, 54.65, 19.2, 49.8, 20.5, 90.4, 90.25, 104.6, 50.2, 95.5, 95.4, 101.3, 53.1, 84.85, 34.25, 88.6, 60.15, 99.95, 70.7, 54.8, 54.8, 100.3, 53.6, 19.35, 85.6, 80.8, 19.6, 90.7, 69.75, 20.0, 95.25, 19.95, 80.85, 93.3, 46.35, 78.75, 83.55, 19.6, 67.85, 105.65, 75.5, 20.15, 45.2, 79.25, 85.7, 20.1, 61.8, 49.9, 20.4, 75.4, 108.15, 86.25, 95.7, 116.85, 105.75, 20.15, 19.6, 60.95, 25.05, 60.3, 63.95, 74.3, 70.6, 90.55, 19.45, 64.45, 69.65, 19.5, 110.5, 24.7, 77.4, 85.4, 47.6, 19.4, 103.85, 108.45, 81.0, 86.65, 92.95, 90.35, 25.15, 76.4, 19.55, 85.35, 24.8, 103.15, 100.75, 94.1, 19.35, 19.9, 101.05, 59.1, 55.85, 106.05, 84.1, 75.3, 24.7, 55.8, 39.7, 29.5, 20.15, 79.55, 24.8, 19.65, 94.05, 90.75, 78.85, 99.5, 80.55, 70.2, 59.45, 93.35, 44.95, 26.1, 20.2, 21.25, 59.4, 95.0, 61.9, 118.65, 64.45, 80.15, 20.2, 21.0, 20.45, 75.85, 80.45, 75.5, 44.45, 74.55, 48.15, 19.65, 20.15, 106.6, 91.0, 25.4, 69.95, 66.85, 20.15, 64.85, 74.85, 50.5, 72.9, 115.05, 19.0, 19.55, 101.1, 84.1, 24.15, 50.1, 74.6, 19.75, 106.8, 84.5, 25.05, 83.7, 96.6, 101.1, 20.2, 94.05, 81.0, 60.25, 60.85, 43.95, 86.05, 20.25, 19.4, 102.65, 19.9, 19.55, 95.5, 84.15, 103.2, 50.2, 19.95, 116.25, 31.2, 24.45, 84.2, 85.65, 21.2, 25.55, 20.2, 63.85, 61.95, 25.75, 58.2, 85.85, 104.9, 99.85, 19.55, 104.0, 104.4, 19.5, 25.25, 49.85, 108.95, 89.9, 82.0, 89.95, 79.35, 64.05, 101.15, 39.1, 34.6, 19.55, 104.45, 70.5, 20.35, 19.45, 69.9, 59.7, 78.35, 71.45, 45.85, 95.85, 35.7, 89.55, 24.95, 24.85], \"xaxis\": \"x\", \"xbins\": {\"end\": 118.65, \"size\": 1, \"start\": 18.4}, \"yaxis\": \"y\"}, {\"autobinx\": false, \"histnorm\": \"probability density\", \"legendgroup\": \"Churn Customers\", \"marker\": {\"color\": \"crimson\"}, \"name\": \"Churn Customers\", \"opacity\": 0.7, \"type\": \"histogram\", \"x\": [53.85, 70.7, 99.65, 104.8, 103.7, 55.2, 39.65, 20.15, 99.35, 30.2, 64.7, 69.7, 106.35, 97.85, 80.65, 99.1, 80.65, 95.45, 94.4, 79.35, 75.15, 78.95, 21.05, 98.5, 110.0, 96.75, 76.5, 100.25, 74.4, 78.05, 58.6, 35.45, 44.35, 70.45, 71.15, 45.65, 95.0, 82.4, 70.9, 45.3, 104.4, 94.85, 74.45, 76.45, 29.95, 84.5, 79.25, 24.8, 91.0, 79.9, 106.6, 46.0, 70.15, 50.05, 55.2, 84.6, 54.4, 95.0, 74.4, 48.55, 70.4, 40.2, 44.6, 41.15, 106.9, 19.35, 94.45, 24.8, 70.6, 85.4, 105.05, 95.15, 70.0, 74.5, 44.85, 76.1, 73.6, 95.45, 74.9, 80.6, 80.3, 93.15, 82.45, 70.35, 73.85, 80.6, 75.8, 104.6, 103.4, 90.4, 84.8, 41.9, 80.25, 30.75, 96.5, 85.65, 104.95, 50.65, 90.85, 19.95, 85.45, 73.95, 99.45, 19.9, 19.6, 81.35, 83.3, 75.3, 19.4, 45.4, 105.9, 69.55, 81.05, 101.15, 99.8, 55.95, 55.0, 74.7, 80.25, 96.1, 69.0, 45.3, 83.55, 74.35, 74.4, 43.75, 28.45, 99.7, 94.1, 94.2, 80.5, 74.35, 104.8, 75.2, 75.6, 100.05, 85.0, 86.05, 45.55, 86.3, 80.35, 100.25, 100.3, 19.0, 75.3, 89.2, 85.7, 61.65, 105.25, 29.95, 65.0, 20.0, 90.05, 110.75, 105.5, 104.55, 85.25, 56.15, 89.55, 94.55, 45.7, 89.5, 69.55, 74.6, 19.65, 19.85, 24.25, 69.65, 45.65, 75.05, 49.15, 34.7, 80.0, 49.25, 75.1, 50.15, 79.85, 19.55, 85.95, 45.35, 94.5, 91.7, 87.25, 98.55, 98.55, 85.9, 89.25, 70.3, 93.35, 19.9, 88.9, 95.8, 82.0, 45.35, 52.2, 110.0, 96.75, 98.5, 85.35, 101.3, 69.55, 103.25, 104.0, 86.2, 111.2, 89.45, 95.6, 90.95, 108.55, 78.85, 44.4, 100.0, 19.8, 89.9, 100.15, 50.8, 73.65, 95.1, 94.65, 80.6, 85.55, 50.8, 105.1, 110.1, 83.9, 100.55, 103.85, 24.6, 98.9, 98.3, 93.85, 100.5, 72.85, 73.55, 79.4, 81.15, 84.6, 79.05, 74.4, 99.05, 44.95, 44.7, 45.7, 100.3, 19.25, 96.0, 90.55, 30.35, 108.05, 69.9, 103.75, 86.6, 80.6, 85.3, 70.0, 94.3, 95.35, 75.5, 90.1, 68.95, 99.55, 57.45, 53.65, 100.6, 83.75, 88.3, 92.1, 79.45, 90.45, 69.75, 19.65, 43.65, 39.5, 97.1, 80.0, 84.7, 89.55, 90.6, 90.05, 99.05, 69.75, 49.05, 98.05, 114.5, 80.95, 74.3, 89.7, 100.45, 90.4, 56.15, 94.4, 78.95, 44.85, 105.65, 74.65, 64.7, 104.05, 35.55, 95.15, 96.65, 80.4, 31.35, 89.75, 94.4, 19.85, 109.9, 101.35, 60.05, 60.15, 90.45, 94.25, 74.9, 80.25, 69.0, 66.35, 86.0, 80.3, 90.55, 75.9, 45.85, 49.95, 78.3, 76.95, 96.15, 45.3, 19.4, 90.15, 45.05, 75.8, 79.3, 30.9, 95.25, 89.6, 110.15, 89.5, 75.0, 44.75, 44.05, 85.6, 115.55, 86.6, 85.2, 97.65, 109.55, 89.55, 19.45, 20.35, 69.25, 99.5, 25.2, 45.0, 20.15, 105.0, 54.7, 87.25, 79.95, 88.35, 94.75, 95.05, 78.45, 70.2, 41.05, 85.6, 79.2, 70.0, 49.95, 69.25, 94.25, 73.0, 100.05, 99.8, 35.0, 76.0, 93.85, 84.3, 84.4, 101.1, 50.45, 99.95, 91.4, 75.55, 80.8, 100.0, 20.55, 85.3, 70.4, 98.8, 74.4, 98.75, 106.0, 104.7, 96.7, 55.05, 88.2, 19.75, 75.65, 74.7, 76.65, 25.8, 42.6, 68.85, 90.0, 75.35, 100.85, 69.95, 107.5, 45.85, 106.1, 91.7, 95.6, 74.95, 95.35, 45.0, 99.5, 98.6, 59.5, 80.45, 77.95, 74.7, 88.8, 90.25, 64.65, 89.05, 87.4, 94.75, 86.45, 98.25, 75.75, 85.35, 106.1, 45.05, 109.8, 84.65, 79.5, 85.8, 79.1, 44.3, 105.95, 69.75, 94.65, 96.05, 50.15, 113.6, 78.9, 60.05, 34.7, 85.3, 102.45, 104.4, 99.75, 74.4, 74.25, 59.85, 69.6, 45.4, 19.5, 69.9, 87.15, 84.75, 89.95, 113.2, 90.5, 79.0, 20.15, 71.65, 20.35, 84.25, 78.1, 89.65, 98.7, 76.35, 79.15, 85.0, 85.3, 86.55, 73.85, 44.85, 45.1, 96.0, 20.05, 108.65, 45.55, 35.1, 46.2, 45.15, 43.3, 57.15, 73.2, 85.35, 45.95, 83.75, 70.05, 86.0, 100.5, 72.65, 21.0, 45.1, 50.4, 78.95, 94.45, 84.8, 50.9, 99.8, 107.35, 19.55, 79.1, 25.5, 80.75, 91.85, 75.35, 75.45, 49.55, 78.6, 81.1, 74.95, 93.55, 102.1, 90.9, 29.2, 89.15, 108.85, 84.75, 45.7, 69.95, 44.6, 74.95, 95.25, 89.85, 100.45, 47.15, 80.2, 87.1, 75.9, 98.75, 86.45, 45.3, 104.1, 81.0, 90.6, 88.15, 20.2, 90.8, 79.35, 96.8, 83.35, 49.4, 79.2, 48.7, 95.6, 59.75, 108.15, 71.35, 20.15, 69.75, 93.2, 80.85, 33.65, 79.95, 19.3, 99.2, 85.2, 75.25, 54.35, 24.95, 42.35, 75.3, 94.8, 70.55, 86.15, 85.0, 80.55, 75.8, 98.5, 95.25, 74.4, 85.15, 88.55, 54.75, 91.3, 79.5, 70.1, 111.3, 95.25, 86.25, 100.8, 86.3, 89.95, 76.45, 70.0], \"xaxis\": \"x\", \"xbins\": {\"end\": 115.55, \"size\": 0.1, \"start\": 19.0}, \"yaxis\": \"y\"}, {\"legendgroup\": \"No Churn\", \"marker\": {\"color\": \"teal\"}, \"mode\": \"lines\", \"name\": \"No Churn\", \"showlegend\": false, \"type\": \"scatter\", \"x\": [18.4, 18.6005, 18.801, 19.0015, 19.201999999999998, 19.4025, 19.602999999999998, 19.8035, 20.003999999999998, 20.2045, 20.404999999999998, 20.6055, 20.805999999999997, 21.0065, 21.206999999999997, 21.4075, 21.607999999999997, 21.8085, 22.009, 22.2095, 22.409999999999997, 22.6105, 22.811, 23.011499999999998, 23.212, 23.412499999999998, 23.613, 23.813499999999998, 24.014, 24.214499999999997, 24.415, 24.615499999999997, 24.816, 25.0165, 25.217, 25.417499999999997, 25.618, 25.8185, 26.019, 26.219499999999996, 26.419999999999998, 26.6205, 26.820999999999998, 27.021499999999996, 27.221999999999998, 27.4225, 27.622999999999998, 27.8235, 28.024, 28.2245, 28.424999999999997, 28.6255, 28.826, 29.0265, 29.226999999999997, 29.4275, 29.628, 29.8285, 30.028999999999996, 30.229499999999998, 30.43, 30.630499999999998, 30.830999999999996, 31.0315, 31.232, 31.432499999999997, 31.633, 31.8335, 32.034, 32.2345, 32.435, 32.6355, 32.836, 33.0365, 33.236999999999995, 33.4375, 33.638, 33.838499999999996, 34.039, 34.2395, 34.44, 34.6405, 34.840999999999994, 35.0415, 35.242, 35.442499999999995, 35.643, 35.8435, 36.044, 36.2445, 36.445, 36.6455, 36.846000000000004, 37.046499999999995, 37.247, 37.4475, 37.647999999999996, 37.8485, 38.049, 38.2495, 38.45, 38.650499999999994, 38.851, 39.0515, 39.251999999999995, 39.4525, 39.653, 39.8535, 40.054, 40.2545, 40.455, 40.6555, 40.855999999999995, 41.0565, 41.257, 41.457499999999996, 41.658, 41.8585, 42.059, 42.2595, 42.459999999999994, 42.6605, 42.861, 43.061499999999995, 43.262, 43.4625, 43.663, 43.8635, 44.064, 44.2645, 44.465, 44.665499999999994, 44.866, 45.0665, 45.266999999999996, 45.4675, 45.668, 45.8685, 46.069, 46.269499999999994, 46.47, 46.6705, 46.870999999999995, 47.0715, 47.272, 47.4725, 47.673, 47.8735, 48.074, 48.2745, 48.474999999999994, 48.6755, 48.876, 49.076499999999996, 49.277, 49.4775, 49.678, 49.8785, 50.07899999999999, 50.2795, 50.48, 50.6805, 50.881, 51.0815, 51.282, 51.4825, 51.683, 51.8835, 52.083999999999996, 52.2845, 52.485, 52.6855, 52.885999999999996, 53.0865, 53.287, 53.4875, 53.687999999999995, 53.8885, 54.089, 54.2895, 54.49, 54.6905, 54.891, 55.091499999999996, 55.292, 55.4925, 55.693, 55.893499999999996, 56.094, 56.2945, 56.495, 56.695499999999996, 56.896, 57.0965, 57.297, 57.497499999999995, 57.698, 57.8985, 58.099, 58.2995, 58.5, 58.7005, 58.900999999999996, 59.1015, 59.302, 59.5025, 59.702999999999996, 59.9035, 60.104, 60.3045, 60.504999999999995, 60.7055, 60.906, 61.1065, 61.306999999999995, 61.5075, 61.708, 61.9085, 62.109, 62.3095, 62.51, 62.710499999999996, 62.911, 63.1115, 63.312, 63.512499999999996, 63.713, 63.9135, 64.114, 64.3145, 64.515, 64.71549999999999, 64.916, 65.1165, 65.31700000000001, 65.5175, 65.71799999999999, 65.9185, 66.119, 66.3195, 66.52, 66.7205, 66.92099999999999, 67.1215, 67.322, 67.52250000000001, 67.723, 67.92349999999999, 68.124, 68.3245, 68.525, 68.7255, 68.926, 69.1265, 69.327, 69.5275, 69.72800000000001, 69.9285, 70.12899999999999, 70.3295, 70.53, 70.7305, 70.931, 71.13149999999999, 71.332, 71.5325, 71.733, 71.9335, 72.134, 72.33449999999999, 72.535, 72.7355, 72.936, 73.1365, 73.33699999999999, 73.5375, 73.738, 73.9385, 74.139, 74.3395, 74.53999999999999, 74.7405, 74.941, 75.14150000000001, 75.342, 75.54249999999999, 75.743, 75.9435, 76.144, 76.3445, 76.545, 76.74549999999999, 76.946, 77.1465, 77.34700000000001, 77.5475, 77.74799999999999, 77.9485, 78.149, 78.3495, 78.55, 78.75049999999999, 78.951, 79.1515, 79.352, 79.55250000000001, 79.753, 79.95349999999999, 80.154, 80.3545, 80.555, 80.7555, 80.95599999999999, 81.1565, 81.357, 81.5575, 81.758, 81.9585, 82.15899999999999, 82.3595, 82.56, 82.76050000000001, 82.96100000000001, 83.16149999999999, 83.362, 83.5625, 83.763, 83.96350000000001, 84.16399999999999, 84.36449999999999, 84.565, 84.7655, 84.96600000000001, 85.16649999999998, 85.36699999999999, 85.5675, 85.768, 85.9685, 86.16900000000001, 86.36949999999999, 86.57, 86.7705, 86.971, 87.17150000000001, 87.37199999999999, 87.57249999999999, 87.773, 87.9735, 88.174, 88.37450000000001, 88.57499999999999, 88.7755, 88.976, 89.1765, 89.37700000000001, 89.57749999999999, 89.77799999999999, 89.9785, 90.179, 90.37950000000001, 90.58000000000001, 90.78049999999999, 90.981, 91.1815, 91.382, 91.58250000000001, 91.78299999999999, 91.98349999999999, 92.184, 92.3845, 92.58500000000001, 92.78549999999998, 92.98599999999999, 93.1865, 93.387, 93.5875, 93.78800000000001, 93.98849999999999, 94.189, 94.3895, 94.59, 94.79050000000001, 94.99099999999999, 95.19149999999999, 95.392, 95.5925, 95.793, 95.99350000000001, 96.19399999999999, 96.3945, 96.595, 96.7955, 96.99600000000001, 97.19649999999999, 97.39699999999999, 97.5975, 97.798, 97.9985, 98.19900000000001, 98.39949999999999, 98.6, 98.8005, 99.001, 99.20150000000001, 99.40199999999999, 99.60249999999999, 99.803, 100.0035, 100.20400000000001, 100.40449999999998, 100.60499999999999, 100.8055, 101.006, 101.2065, 101.40700000000001, 101.60749999999999, 101.80799999999999, 102.0085, 102.209, 102.40950000000001, 102.60999999999999, 102.81049999999999, 103.011, 103.2115, 103.412, 103.61250000000001, 103.81299999999999, 104.0135, 104.214, 104.4145, 104.61500000000001, 104.81549999999999, 105.01599999999999, 105.2165, 105.417, 105.6175, 105.81800000000001, 106.01849999999999, 106.219, 106.4195, 106.62, 106.82050000000001, 107.02099999999999, 107.22149999999999, 107.422, 107.6225, 107.82300000000001, 108.02350000000001, 108.22399999999999, 108.4245, 108.625, 108.8255, 109.02600000000001, 109.22649999999999, 109.42699999999999, 109.6275, 109.828, 110.02850000000001, 110.22899999999998, 110.42949999999999, 110.63, 110.8305, 111.031, 111.23150000000001, 111.43199999999999, 111.6325, 111.833, 112.0335, 112.23400000000001, 112.43449999999999, 112.63499999999999, 112.8355, 113.036, 113.2365, 113.43700000000001, 113.63749999999999, 113.838, 114.0385, 114.239, 114.43950000000001, 114.63999999999999, 114.84049999999999, 115.041, 115.2415, 115.44200000000001, 115.64250000000001, 115.84299999999999, 116.0435, 116.244, 116.4445, 116.64500000000001, 116.84549999999999, 117.04599999999999, 117.2465, 117.447, 117.64750000000001, 117.84799999999998, 118.04849999999999, 118.249, 118.4495], \"xaxis\": \"x\", \"y\": [0.014154898604444298, 0.014308114611968686, 0.014452596886562094, 0.014588080107825663, 0.01471431769367526, 0.01483108264425068, 0.014938168316241143, 0.015035389123932508, 0.01512258116366264, 0.015199602758773127, 0.015266334922564809, 0.015322681737198906, 0.015368570646931473, 0.015403952664523829, 0.015428802490131914, 0.015443118542440588, 0.015446922902270784, 0.015440261169345966, 0.015423202233355367, 0.015395837960893043, 0.015358282800279852, 0.015310673306688295, 0.015253167590384307, 0.015185944691273396, 0.01510920388328874, 0.015023163912483706, 0.014928062172988888, 0.014824153825262693, 0.014711710861302981, 0.014591021121694575, 0.014462387269542088, 0.014326125726479556, 0.014182565576056556, 0.014032047439875605, 0.013874922331896838, 0.013711550496334492, 0.01354230023454559, 0.01336754672625535, 0.013187670850377559, 0.013003058010572345, 0.012814096970540227, 0.012621178703881169, 0.012424695263153037, 0.012225038672546581, 0.012022599848356415, 0.01181776755117118, 0.011610927373433565, 0.011402460765734411, 0.011192744104906876, 0.010982147806679015, 0.010771035485328614, 0.010559763162464557, 0.010348678526737357, 0.01013812024595921, 0.009928417332793881, 0.009719888564860422, 0.009512841959784505, 0.009307574305428591, 0.00910437074523933, 0.008903504418368702, 0.008705236153956287, 0.008509814218704819, 0.008317474116641011, 0.008128438439729796, 0.007942916767802996, 0.0077611056160742445, 0.007583188428341027, 0.007409335613822261, 0.007239704625446368, 0.007074440077290438, 0.006913673898775426, 0.0067575255231456565, 0.006606102107702486, 0.006459498783221854, 0.00631779892996245, 0.006181074477665327, 0.006049386226955909, 0.005922784189584562, 0.00580130794498178, 0.005684987010657036, 0.005573841224035794, 0.005467881133406193, 0.005367108395733789, 0.0052715161791989625, 0.005181089568415961, 0.0050958059704033385, 0.005015635519492676, 0.004940541479483783, 0.00487048064147966, 0.0048054037159621955, 0.004745255717798534, 0.004689976342997697, 0.004639500336166343, 0.0045937578477403766, 0.0045526747801950505, 0.004516173122559262, 0.004484171272679151, 0.004456584346791512, 0.004433324476078135, 0.004414301089977569, 0.004399421186130615, 0.0043885895869295866, 0.004381709182728894, 0.004378681161855466, 0.004379405227631847, 0.00438377980269225, 0.004391702220932651, 0.004403068907489738, 0.004417775547190757, 0.004435717241956633, 0.004456788657674806, 0.004480884161085722, 0.004507897947248612, 0.0045377241581677635, 0.004570256993170747, 0.004605390811634975, 0.0046430202286589575, 0.004683040204270099, 0.004725346126752107, 0.004769833890662445, 0.004816399970094151, 0.004864941487717132, 0.004915356280111931, 0.0049675429598846875, 0.005021400975025377, 0.005076830665943277, 0.005133733320583999, 0.0051920112280016435, 0.00525156773072818, 0.005312307276250109, 0.005374135467870138, 0.005436959115199253, 0.005500686284492526, 0.0055652263490100825, 0.005630490039553668, 0.0056963894952986385, 0.0057628383150117235, 0.005829751608716322, 0.005897046049839571, 0.00596463992784918, 0.006032453201363029, 0.0061004075516907, 0.006168426436743984, 0.006236435145232258, 0.006304360851039241, 0.006372132667659551, 0.006439681702556765, 0.006506941111289563, 0.00657384615123871, 0.006640334234755257, 0.0067063449815393805, 0.006771820270049705, 0.006836704287734609, 0.006900943579870241, 0.006964487096784241, 0.007027286239239871, 0.0070892949017522635, 0.007150469513606561, 0.007210769077347201, 0.007270155204508249, 0.007328592148356304, 0.007386046833420736, 0.007442488881589882, 0.007497890634557325, 0.007552227172408631, 0.007605476328146567, 0.0076576186979614436, 0.007708637647062934, 0.007758519310900602, 0.007807252591612258, 0.007854829149552173, 0.00790124338976518, 0.007946492443287666, 0.007990576143172307, 0.008033496995150359, 0.008075260142863, 0.008115873327611784, 0.008155346842597683, 0.008193693481638242, 0.008230928482373152, 0.008267069463989841, 0.008302136359522505, 0.008336151342800304, 0.008369138750142896, 0.00840112499692435, 0.008432138489149288, 0.008462209530207989, 0.008491370222999917, 0.008519654367637658, 0.008547097354965262, 0.008573736056146721, 0.008599608708601098, 0.008624754798581175, 0.00864921494071159, 0.008673030754820777, 0.008696244740417976, 0.008718900149182411, 0.008741040855845912, 0.008762711227863193, 0.008783955994274917, 0.008804820114178156, 0.008825348645226237, 0.008845586612585561, 0.008865578878780358, 0.008885370014857915, 0.00890500417330593, 0.00892452496315076, 0.008943975327660293, 0.008963397425067656, 0.008982832512722565, 0.009002320835065265, 0.00902190151580409, 0.009041612454661703, 0.009061490229036842, 0.009081570000908527, 0.009101885429287552, 0.009122468588496557, 0.009143349892534512, 0.009164558025754664, 0.009186119880056794, 0.009208060498765198, 0.009230403027333427, 0.009253168670985574, 0.009276376659371867, 0.009300044218284152, 0.00932418654844396, 0.009348816811343417, 0.009373946122086486, 0.009399583549146023, 0.009425736120920378, 0.009452408838942517, 0.009479604697564661, 0.009507324709912819, 0.009535567939878099, 0.009564331539885894, 0.0095936107941599, 0.009623399167175492, 0.009653688356976782, 0.009684468353013393, 0.009715727498137018, 0.009747452554384169, 0.0097796287721603, 0.00981223996243161, 0.009845268571524693, 0.009878695758130248, 0.009912501472106082, 0.009946664534675735, 0.009981162719622948, 0.010015972835088387, 0.010051070805583645, 0.010086431753848303, 0.010122030082189008, 0.01015783955295434, 0.010193833367816478, 0.010229984245549094, 0.010266264498011423, 0.010302646104069996, 0.01033910078121251, 0.010375600054632254, 0.010412115323586197, 0.010448617924855344, 0.0104850791931617, 0.010521470518422189, 0.010557763399745882, 0.010593929496106725, 0.010629940673649262, 0.010665769049609723, 0.010701387032858794, 0.010736767361095415, 0.010771883134742899, 0.010806707847619293, 0.010841215414473037, 0.01087538019549282, 0.010909177017916383, 0.010942581194877427, 0.010975568541642274, 0.011008115389398488, 0.01104019859676651, 0.0110717955592121, 0.011102884216542326, 0.011133443058670886, 0.011163451129839687, 0.011192888031482977, 0.011221733923918014, 0.011249969527042157, 0.011277576120210792, 0.011304535541463455, 0.011330830186257223, 0.011356443005856972, 0.011381357505521512, 0.011405557742613232, 0.011429028324746666, 0.011451754408078687, 0.01147372169582971, 0.011494916437112031, 0.011515325426127529, 0.011534936001783676, 0.011553736047763176, 0.011571713993069567, 0.011588858813058447, 0.011605160030951824, 0.011620607719821737, 0.011635192505018568, 0.011648905567009663, 0.011661738644585, 0.011673684038378727, 0.01168473461464851, 0.01169488380924882, 0.01170412563172957, 0.011712454669487811, 0.011719866091897712, 0.011726355654342381, 0.011731919702070737, 0.011736555173802994, 0.011740259605009705, 0.011743031130791639, 0.011744868488290608, 0.011745771018565252, 0.011745738667869909, 0.011744771988279645, 0.011742872137609758, 0.011740040878583557, 0.011736280577208125, 0.011731594200323651, 0.01172598531229792, 0.011719458070843456, 0.011712017221940688, 0.011703668093855974, 0.011694416590248778, 0.011684269182367072, 0.011673232900334812, 0.011661315323539177, 0.011648524570129095, 0.011634869285639537, 0.011620358630758634, 0.01160500226825671, 0.011588810349097757, 0.01157179349775473, 0.01155396279675061, 0.011535329770446917, 0.011515906368100917, 0.011495704946211832, 0.011474738250175033, 0.011453019395261598, 0.011430561846938818, 0.011407379400545224, 0.011383486160331616, 0.011358896517877387, 0.011333625129889429, 0.011307686895388884, 0.01128109693228917, 0.01125387055336723, 0.011226023241628686, 0.011197570625066666, 0.011168528450813694, 0.011138912558686041, 0.011108738854120455, 0.011078023280504378, 0.01104678179090226, 0.01101503031918306, 0.010982784750556734, 0.010950060891531065, 0.010916874439304258, 0.010883240950613408, 0.01084917581006406, 0.01081469419797197, 0.010779811057754279, 0.01074454106291398, 0.010708898583668651, 0.01067289765328162, 0.01063655193416143, 0.010599874683803133, 0.010562878720652747, 0.010525576389984144, 0.010487979529885182, 0.010450099437457687, 0.01041194683534302, 0.010373531838692067, 0.010334863922704952, 0.010295951890871844, 0.010256803844051624, 0.010217427150529979, 0.01017782841720248, 0.010138013462031368, 0.010097987287927237, 0.010057754058208013, 0.010017317073788223, 0.009976678752250868, 0.00993584060895272, 0.009894803240310994, 0.00985356630941588, 0.009812128534108256, 0.009770487677656389, 0.009728640542158188, 0.009686582964787839, 0.009644309816996623, 0.009601815006767817, 0.009559091484014886, 0.009516131249200522, 0.009472925365241738, 0.009429463972753196, 0.009385736308667332, 0.009341730728255514, 0.009297434730560125, 0.009252834987232299, 0.009207917374754952, 0.009162667010015543, 0.009117068289177403, 0.009071104929783452, 0.009024760016010777, 0.008978016046979816, 0.008930854988007317, 0.00888325832467812, 0.008835207119597333, 0.008786682071671542, 0.008737663577755357, 0.008688131796488184, 0.008638066714135544, 0.008587448212239166, 0.00853625613687161, 0.008484470369282984, 0.00843207089772056, 0.008379037890196266, 0.008325351767972035, 0.008270993279529345, 0.008215943574786548, 0.008160184279325784, 0.008103697568390637, 0.008046466240416137, 0.007988473789853708, 0.007929704479056192, 0.007870143408991013, 0.0078097765885535185, 0.007748591002257453, 0.00768657467608476, 0.007623716741283383, 0.007560007495908426, 0.00749543846390952, 0.007430002451575093, 0.007363693601152888, 0.007296507441474548, 0.0072284409354216005, 0.007159492524079478, 0.007089662167435959, 0.007018951381490575, 0.0069473632716513176, 0.006874902562305593, 0.006801575622462559, 0.006727390487374504, 0.0066523568760553575, 0.006576486204625182, 0.006499791595419718, 0.006422287881814987, 0.006343991608727313, 0.006264921028759739, 0.006185096093976652, 0.00610453844329852, 0.0060232713855198055, 0.005941319877963393, 0.005858710500795555, 0.005775471427036422, 0.005691632388311167, 0.00560722463639836, 0.005522280900642428, 0.0054368353413081685, 0.005350923498966061, 0.005264582240008273, 0.0051778496984058835, 0.005090765213829209, 0.005003369266263919, 0.004915703407266559, 0.0048278101880143195, 0.00473973308431429, 0.004651516418748556, 0.004563205280141862, 0.0044748454405489435, 0.004386483269968653, 0.004298165649001979, 0.004209939879680012, 0.004121853594697255, 0.0040339546652938, 0.003946291108037716, 0.0038589109907663883, 0.0037718623379515187, 0.0036851930357585695, 0.0035989507370759073, 0.0035131827667928338, 0.0034279360276084137, 0.0033432569066550264, 0.0032591911832208125, 0.0031757839378551015, 0.0030930794631389793, 0.003011121176400203, 0.002929951534647748, 0.002849611951995358, 0.002770142719837156, 0.0026915829300300743, 0.002613970401328573, 0.002537341609306753, 0.0024617316199908043], \"yaxis\": \"y\"}, {\"legendgroup\": \"Churn Customers\", \"marker\": {\"color\": \"crimson\"}, \"mode\": \"lines\", \"name\": \"Churn Customers\", \"showlegend\": false, \"type\": \"scatter\", \"x\": [19.0, 19.1931, 19.3862, 19.5793, 19.7724, 19.9655, 20.1586, 20.3517, 20.5448, 20.7379, 20.931, 21.1241, 21.3172, 21.5103, 21.703400000000002, 21.8965, 22.0896, 22.2827, 22.4758, 22.6689, 22.862000000000002, 23.0551, 23.2482, 23.4413, 23.6344, 23.8275, 24.020599999999998, 24.2137, 24.4068, 24.599899999999998, 24.793, 24.9861, 25.1792, 25.3723, 25.5654, 25.758499999999998, 25.9516, 26.1447, 26.3378, 26.5309, 26.724, 26.917099999999998, 27.1102, 27.3033, 27.4964, 27.689500000000002, 27.8826, 28.075699999999998, 28.2688, 28.4619, 28.655, 28.848100000000002, 29.041199999999996, 29.234299999999998, 29.4274, 29.6205, 29.8136, 30.0067, 30.1998, 30.392899999999997, 30.586, 30.7791, 30.9722, 31.1653, 31.3584, 31.5515, 31.7446, 31.9377, 32.1308, 32.3239, 32.516999999999996, 32.7101, 32.9032, 33.0963, 33.2894, 33.4825, 33.6756, 33.8687, 34.0618, 34.2549, 34.448, 34.6411, 34.834199999999996, 35.0273, 35.2204, 35.4135, 35.6066, 35.7997, 35.9928, 36.1859, 36.379000000000005, 36.5721, 36.7652, 36.958299999999994, 37.151399999999995, 37.3445, 37.5376, 37.7307, 37.9238, 38.1169, 38.31, 38.5031, 38.696200000000005, 38.8893, 39.08239999999999, 39.2755, 39.468599999999995, 39.661699999999996, 39.8548, 40.0479, 40.241, 40.4341, 40.6272, 40.8203, 41.0134, 41.2065, 41.3996, 41.5927, 41.785799999999995, 41.978899999999996, 42.172, 42.3651, 42.5582, 42.7513, 42.9444, 43.1375, 43.3306, 43.523700000000005, 43.7168, 43.90989999999999, 44.103, 44.296099999999996, 44.4892, 44.6823, 44.8754, 45.0685, 45.2616, 45.4547, 45.647800000000004, 45.8409, 46.034, 46.2271, 46.4202, 46.613299999999995, 46.8064, 46.9995, 47.1926, 47.3857, 47.5788, 47.7719, 47.965, 48.1581, 48.351200000000006, 48.5443, 48.737399999999994, 48.930499999999995, 49.123599999999996, 49.3167, 49.5098, 49.7029, 49.896, 50.0891, 50.2822, 50.475300000000004, 50.6684, 50.8615, 51.0546, 51.2477, 51.440799999999996, 51.6339, 51.827, 52.0201, 52.2132, 52.406299999999995, 52.5994, 52.7925, 52.9856, 53.1787, 53.37179999999999, 53.5649, 53.758, 53.9511, 54.1442, 54.3373, 54.5304, 54.7235, 54.916599999999995, 55.1097, 55.3028, 55.4959, 55.689, 55.8821, 56.075199999999995, 56.268299999999996, 56.461400000000005, 56.6545, 56.8476, 57.040699999999994, 57.233799999999995, 57.4269, 57.62, 57.8131, 58.0062, 58.199299999999994, 58.3924, 58.5855, 58.7786, 58.9717, 59.16479999999999, 59.3579, 59.551, 59.744099999999996, 59.9372, 60.1303, 60.3234, 60.5165, 60.7096, 60.902699999999996, 61.0958, 61.2889, 61.482, 61.6751, 61.868199999999995, 62.061299999999996, 62.254400000000004, 62.4475, 62.6406, 62.8337, 63.026799999999994, 63.2199, 63.413, 63.6061, 63.7992, 63.99229999999999, 64.1854, 64.3785, 64.57159999999999, 64.7647, 64.95779999999999, 65.15090000000001, 65.344, 65.5371, 65.7302, 65.9233, 66.1164, 66.3095, 66.5026, 66.69569999999999, 66.8888, 67.0819, 67.275, 67.46809999999999, 67.6612, 67.8543, 68.04740000000001, 68.2405, 68.4336, 68.6267, 68.81979999999999, 69.0129, 69.206, 69.3991, 69.59219999999999, 69.78529999999999, 69.9784, 70.17150000000001, 70.3646, 70.5577, 70.7508, 70.9439, 71.137, 71.3301, 71.5232, 71.71629999999999, 71.9094, 72.10249999999999, 72.29560000000001, 72.4887, 72.6818, 72.8749, 73.068, 73.2611, 73.4542, 73.6473, 73.8404, 74.0335, 74.22659999999999, 74.4197, 74.6128, 74.80590000000001, 74.999, 75.1921, 75.3852, 75.5783, 75.7714, 75.9645, 76.1576, 76.35069999999999, 76.5438, 76.73689999999999, 76.93, 77.1231, 77.3162, 77.5093, 77.70240000000001, 77.8955, 78.0886, 78.2817, 78.47479999999999, 78.6679, 78.86099999999999, 79.0541, 79.24719999999999, 79.4403, 79.6334, 79.82650000000001, 80.0196, 80.2127, 80.4058, 80.5989, 80.792, 80.98509999999999, 81.1782, 81.37129999999999, 81.5644, 81.7575, 81.95060000000001, 82.1437, 82.3368, 82.5299, 82.723, 82.9161, 83.1092, 83.3023, 83.4954, 83.6885, 83.88159999999999, 84.07469999999999, 84.2678, 84.4609, 84.654, 84.8471, 85.0402, 85.2333, 85.4264, 85.6195, 85.81259999999999, 86.00569999999999, 86.1988, 86.39189999999999, 86.585, 86.7781, 86.9712, 87.1643, 87.3574, 87.5505, 87.74359999999999, 87.9367, 88.1298, 88.32289999999999, 88.516, 88.70909999999999, 88.9022, 89.09530000000001, 89.2884, 89.4815, 89.6746, 89.8677, 90.0608, 90.25389999999999, 90.447, 90.64009999999999, 90.83319999999999, 91.0263, 91.2194, 91.4125, 91.6056, 91.7987, 91.9918, 92.1849, 92.378, 92.57109999999999, 92.7642, 92.9573, 93.15039999999999, 93.3435, 93.53659999999999, 93.7297, 93.92280000000001, 94.1159, 94.309, 94.50209999999998, 94.6952, 94.8883, 95.08139999999999, 95.2745, 95.46759999999999, 95.66069999999999, 95.8538, 96.0469, 96.24, 96.4331, 96.6262, 96.8193, 97.0124, 97.2055, 97.39859999999999, 97.5917, 97.7848, 97.97789999999999, 98.171, 98.3641, 98.5572, 98.75030000000001, 98.9434, 99.1365, 99.32959999999999, 99.5227, 99.7158, 99.90889999999999, 100.102, 100.29509999999999, 100.48819999999999, 100.68130000000001, 100.8744, 101.0675, 101.2606, 101.4537, 101.6468, 101.8399, 102.033, 102.22609999999999, 102.4192, 102.6123, 102.80539999999999, 102.9985, 103.1916, 103.3847, 103.5778, 103.7709, 103.964, 104.15709999999999, 104.3502, 104.5433, 104.73639999999999, 104.9295, 105.12259999999999, 105.31569999999999, 105.50880000000001, 105.7019, 105.895, 106.0881, 106.2812, 106.4743, 106.6674, 106.8605, 107.05359999999999, 107.2467, 107.4398, 107.63289999999999, 107.826, 108.0191, 108.2122, 108.4053, 108.5984, 108.7915, 108.98459999999999, 109.1777, 109.3708, 109.56389999999999, 109.757, 109.95009999999999, 110.1432, 110.33630000000001, 110.5294, 110.7225, 110.9156, 111.1087, 111.3018, 111.4949, 111.688, 111.88109999999999, 112.07419999999999, 112.2673, 112.46039999999999, 112.6535, 112.8466, 113.0397, 113.2328, 113.4259, 113.619, 113.81209999999999, 114.0052, 114.1983, 114.39139999999999, 114.5845, 114.77759999999999, 114.9707, 115.16380000000001, 115.3569], \"xaxis\": \"x\", \"y\": [0.004005512401370654, 0.004044368319430984, 0.0040810867371991995, 0.004115631119982735, 0.004147970405744663, 0.0041780791098056155, 0.004205937408682123, 0.004231531202824519, 0.004254852158140598, 0.004275897726314126, 0.004294671144049215, 0.004311181411491396, 0.0043254432501931344, 0.004337477041104521, 0.004347308743178104, 0.004354969793279498, 0.004360496988191579, 0.004363932349589316, 0.004365322972943513, 0.004364720861384843, 0.004362182745623553, 0.004357769891075087, 0.0043515478933869225, 0.004343586463597191, 0.004333959204180704, 0.004322743377252979, 0.004310019666207682, 0.0042958719320575905, 0.00428038696573418, 0.0042636542375762004, 0.004245765645203838, 0.004226815260932469, 0.004206899079829184, 0.004186114769456954, 0.004164561422285891, 0.004142339311679548, 0.004119549652287159, 0.004096294365591107, 0.004072675851273435, 0.00404879676497696, 0.004024759802946133, 0.004000667493941498, 0.003976621998729863, 0.003952724917361575, 0.0039290771043569575, 0.0039057784918372323, 0.003882927920551852, 0.003860622978674793, 0.0038389598481679767, 0.003818033158441074, 0.0037979358469743003, 0.00377875902651493, 0.0037605918584096582, 0.003743521431594058, 0.003727632646727574, 0.003713008104938037, 0.0036997280006236945, 0.003687870017753494, 0.003677509229107635, 0.0036687179979103283, 0.0036615658813250332, 0.0036561195353089484, 0.00365244262035791, 0.0036505957077147115, 0.003650636185662727, 0.003652618165582018, 0.0036565923875063137, 0.0036626061249856153, 0.0036707030891300315, 0.0036809233317850374, 0.0036933031478657953, 0.003707874976957779, 0.0037246673043716295, 0.0037437045619213476, 0.0037650070287753644, 0.0037885907328092045, 0.003814467352965126, 0.003842644123197707, 0.00387312373865386, 0.00390590426480032, 0.003940979050270762, 0.003978336644257212, 0.004017960719316096, 0.004059830000497151, 0.004103918201733105, 0.004150193970449095, 0.00419862084136269, 0.004249157200447792, 0.004301756260028646, 0.004356366045953037, 0.004412929397767005, 0.004471383982776532, 0.004531662324835341, 0.004593691848641771, 0.004657394940262625, 0.004722689024527693, 0.004789486659856335, 0.004857695650987211, 0.004927219179984858, 0.004997955955793008, 0.005069800382494929, 0.005142642746326758, 0.005216369421371432, 0.0052908630937394865, 0.0053660030039196505, 0.005441665206857712, 0.00551772284919779, 0.00559404646299688, 0.005670504275102113, 0.00574696253126231, 0.0058232858339313034, 0.005899337492611809, 0.0059749798854859615, 0.006050074830983049, 0.006124483967847249, 0.006198069142189296, 0.0062706927999363875, 0.006342218383035436, 0.006412510727715957, 0.006481436463081567, 0.006548864408273124, 0.006614665966432715, 0.006678715513695831, 0.006740890781449507, 0.006801073230116848, 0.0068591484127631195, 0.006915006326865248, 0.006968541752644794, 0.007019654576433933, 0.007068250097624074, 0.007114239317836888, 0.007157539211057096, 0.007198072973574575, 0.007235770252699163, 0.007270567353334505, 0.007302407421625867, 0.007331240605030459, 0.007357024188296248, 0.007379722704975351, 0.0073993080242399055, 0.007415759412910591, 0.00742906357274967, 0.007439214653210414, 0.007446214239971937, 0.007450071319721765, 0.007450802221776956, 0.007448430537257086, 0.0074429870166382965, 0.007434509446625707, 0.007423042507381343, 0.007408637611235311, 0.00739135272408891, 0.007371252170789062, 0.007348406425813365, 0.00732289189065395, 0.007294790659326082, 0.007264190273453467, 0.007231183468397077, 0.00719586791189752, 0.007158345936693015, 0.0071187242685560445, 0.007077113751162032, 0.007033629069163456, 0.006988388470793131, 0.0069415134912615434, 0.006893128678145723, 0.006843361319892144, 0.006792341178473943, 0.0067402002271545565, 0.006687072394216395, 0.006633093313415271, 0.006578400081819952, 0.006523131025592579, 0.006467425474160267, 0.006411423543122445, 0.006355265926133083, 0.006299093695892728, 0.006243048114283598, 0.006187270451582059, 0.0061319018145881456, 0.006077082983421711, 0.006022954256650184, 0.005969655304334598, 0.005917325028508909, 0.005866101430543279, 0.005816121484785607, 0.00576752101782723, 0.005720434592699015, 0.005674995397273076, 0.005631335136123302, 0.00558958392508493, 0.0055498701877493934, 0.00551232055313571, 0.005477059753793493, 0.00544421052361511, 0.005413893494665206, 0.005386227092374482, 0.005361327428490864, 0.005339308191234262, 0.005320280532160945, 0.005304352949309034, 0.005291631166267499, 0.005282218006886401, 0.005276213265425453, 0.005273713572020304, 0.005274812253430817, 0.005279599189121937, 0.005288160662815001, 0.005300579209734626, 0.005316933459862857, 0.0053372979775973195, 0.005361743098293028, 0.005390334762247332, 0.0054231343467638, 0.005460198497002769, 0.00550157895639333, 0.005547322397443053, 0.0055974702538372405, 0.005652058554768502, 0.005711117762479404, 0.005774672614035773, 0.005842741968375221, 0.005915338659694703, 0.005992469358252088, 0.006074134439659573, 0.006160327863741553, 0.0062510370640159576, 0.0063462428488361535, 0.006445919315200901, 0.006550033776201903, 0.006658546703033135, 0.006771411682433526, 0.0068885753903745826, 0.007009977582738393, 0.007135551103658841, 0.007265221912120568, 0.007398909127327153, 0.007536525093261738, 0.0076779754627714315, 0.00782315930141196, 0.007971969211189995, 0.008124291474241652, 0.008280006216382698, 0.008438987590364776, 0.00860110397856856, 0.008766218214763238, 0.008934187824460756, 0.009104865283294345, 0.009278098292754477, 0.009453730072521592, 0.00963159966854595, 0.009811542275938433, 0.009993389575656087, 0.0101769700838899, 0.01036210951299288, 0.01054863114272191, 0.01073635620050997, 0.010925104249433618, 0.011114693582497746, 0.01130494162182237, 0.011495665321287006, 0.011686681571167278, 0.011877807603283367, 0.012068861395174508, 0.012259662071814437, 0.012450030303392283, 0.012639788697699291, 0.012828762185686403, 0.013016778398787931, 0.013203668036645744, 0.013389265223912412, 0.01357340785486351, 0.01375593792460657, 0.013936701845737462, 0.01411555074936357, 0.014292340769486407, 0.01446693330981514, 0.01463919529216351, 0.014808999385669801, 0.01497622421616695, 0.01514075455512267, 0.015302481487662176, 0.015461302559281671, 0.01561712190095695, 0.01576985033244819, 0.01591940544369875, 0.01606571165432217, 0.016208700251266864, 0.016348309404841253, 0.016484484163374735, 0.016617176426877878, 0.016746344900152647, 0.016871955025885396, 0.016993978898334948, 0.01711239515830274, 0.01722718887014205, 0.017338351381628904, 0.017445880167577064, 0.01754977865813416, 0.017650056052744542, 0.01774672712080759, 0.017839811990096172, 0.017929335924030898, 0.018015329088928972, 0.018097826312364458, 0.018176866833787213, 0.018252494048552437, 0.018324755246510612, 0.018393701346299446, 0.018459386626465003, 0.018521868454518555, 0.01858120701500987, 0.018637465037665453, 0.01869070752660408, 0.018741001491599317, 0.01878841568231345, 0.018833020326375998, 0.018874886872126663, 0.018914087736784786, 0.018950696060747677, 0.018984785468657752, 0.01901642983781427, 0.01904570307444036, 0.019072678898249606, 0.019097430635690586, 0.019120031022181364, 0.019140552013581152, 0.019159064607082152, 0.019175638671642903, 0.019190342788024416, 0.01920324409843355, 0.019214408165724076, 0.019223898842055505, 0.019231778146863405, 0.019238106153952373, 0.019242940887485273, 0.019246338226608817, 0.019248351818427628, 0.01924903299901521, 0.01924843072213223, 0.019246591495309124, 0.019243559322942128, 0.01923937565604829, 0.019234079348327198, 0.01922770661818311, 0.01922029101637227, 0.019211863398955056, 0.019202451905251574, 0.019192081940521646, 0.019180776163115712, 0.019168554475871288, 0.019155434021560284, 0.019141429182224484, 0.019126551582270286, 0.019110810095227936, 0.01909421085411524, 0.019076757265379985, 0.019058450026429044, 0.019039287146784503, 0.01901926397293772, 0.01899837321700096, 0.018976604989281807, 0.018953946834928792, 0.018930383774815828, 0.018905898350849007, 0.01888047067589107, 0.018854078488506367, 0.018826697212732318, 0.018798300023081863, 0.0187688579149756, 0.018738339780791306, 0.018706712491703522, 0.018673940985465872, 0.018639988360264686, 0.018604815974744088, 0.018568383554270203, 0.018530649303466557, 0.018491570025012904, 0.018451101244658107, 0.018409197342352506, 0.018365811689358854, 0.01832089679115237, 0.018274404435871288, 0.018226285848029374, 0.018176491847152004, 0.018124973010948175, 0.018071679842582664, 0.018016562941565794, 0.017959573177734174, 0.017900661867753687, 0.01783978095353756, 0.017776883181937334, 0.017711922285033304, 0.017644853160324644, 0.01757563205009708, 0.01750421671922938, 0.017430566630688104, 0.01735464311795352, 0.017276409553619372, 0.017195831513413574, 0.017112876934897797, 0.017027516270120096, 0.016939722631516253, 0.016849471930382866, 0.016756743007277367, 0.016661517753737486, 0.016563781224754513, 0.016463521741480937, 0.016360730983703213, 0.016255404071663766, 0.016147539636873383, 0.01603713988161415, 0.01592421062689417, 0.015808761348678778, 0.015690805202286152, 0.015570359034899891, 0.015447443386215735, 0.015322082477302587, 0.015194304187821642, 0.015064140021807417, 0.01493162506227442, 0.014796797914969146, 0.014659700641640374, 0.014520378683251617, 0.014378880773605251, 0.014235258843890531, 0.014089567918706131, 0.013941866004140796, 0.01379221396852503, 0.013640675416490628, 0.013487316556993798, 0.013332206065971948, 0.013175414944313044, 0.013017016371821087, 0.012857085557859912, 0.012695699589353009, 0.012532937276806804, 0.012368878999010407, 0.012203606547047588, 0.012037202968233808, 0.011869752410566396, 0.011701339968247269, 0.011532051528806169, 0.011361973622319126, 0.011191193273180465, 0.011019797854850006, 0.010847874947958266, 0.010675512202112427, 0.01050279720170698, 0.010329817336001754, 0.010156659673690635, 0.009983410842145352, 0.009810156911479536, 0.009636983283541763, 0.009463974585910312, 0.009291214570928507, 0.00911878601978753, 0.008946770651633771, 0.008775249037650562, 0.008604300520038553, 0.008434003135797341, 0.008264433545190724, 0.008095666964760832, 0.007927777104742378, 0.007760836110716318, 0.007594914509333339, 0.007430081157931143, 0.0072664031978654925, 0.007103946011373809, 0.006942773181790102, 0.006782946456933659, 0.0066245257154982605, 0.006467568936274858, 0.006312132170049626, 0.0061582695140277935, 0.006006033088644709, 0.005855473016637409, 0.00570663740426159, 0.005559572324552402, 0.005414321802540324, 0.005270927802346875, 0.005129430216098228, 0.004989866854607846, 0.004852273439792184, 0.0047166835987954465, 0.004583128859810976, 0.00445163864959793, 0.00432224029270107, 0.004194959012390829, 0.004069817933348272, 0.003946838086126155, 0.0038260384134226654, 0.003707435778208426, 0.003591044973750476, 0.0034768787355780382, 0.003364947755435784, 0.0032552606972691966, 0.0031478242152843307, 0.0030426429741217454, 0.002939719671179506], \"yaxis\": \"y\"}],                        {\"autosize\": true, \"barmode\": \"overlay\", \"hovermode\": \"closest\", \"legend\": {\"traceorder\": \"reversed\", \"x\": 0.5, \"xanchor\": \"left\", \"y\": 0.95, \"yanchor\": \"top\"}, \"margin\": {\"b\": 0, \"l\": 0, \"r\": 0, \"t\": 50}, \"template\": {\"data\": {\"bar\": [{\"error_x\": {\"color\": \"#2a3f5f\"}, \"error_y\": {\"color\": \"#2a3f5f\"}, \"marker\": {\"line\": {\"color\": \"#E5ECF6\", \"width\": 0.5}}, \"type\": \"bar\"}], \"barpolar\": [{\"marker\": {\"line\": {\"color\": \"#E5ECF6\", \"width\": 0.5}}, \"type\": \"barpolar\"}], \"carpet\": [{\"aaxis\": {\"endlinecolor\": \"#2a3f5f\", \"gridcolor\": \"white\", \"linecolor\": \"white\", \"minorgridcolor\": \"white\", \"startlinecolor\": \"#2a3f5f\"}, \"baxis\": {\"endlinecolor\": \"#2a3f5f\", \"gridcolor\": \"white\", \"linecolor\": \"white\", \"minorgridcolor\": \"white\", \"startlinecolor\": \"#2a3f5f\"}, \"type\": \"carpet\"}], \"choropleth\": [{\"colorbar\": {\"outlinewidth\": 0, \"ticks\": \"\"}, \"type\": \"choropleth\"}], \"contour\": [{\"colorbar\": {\"outlinewidth\": 0, \"ticks\": \"\"}, \"colorscale\": [[0.0, \"#0d0887\"], [0.1111111111111111, \"#46039f\"], [0.2222222222222222, \"#7201a8\"], [0.3333333333333333, \"#9c179e\"], [0.4444444444444444, \"#bd3786\"], [0.5555555555555556, \"#d8576b\"], [0.6666666666666666, \"#ed7953\"], [0.7777777777777778, \"#fb9f3a\"], [0.8888888888888888, \"#fdca26\"], [1.0, \"#f0f921\"]], \"type\": \"contour\"}], \"contourcarpet\": [{\"colorbar\": {\"outlinewidth\": 0, \"ticks\": \"\"}, \"type\": \"contourcarpet\"}], \"heatmap\": [{\"colorbar\": {\"outlinewidth\": 0, \"ticks\": \"\"}, \"colorscale\": [[0.0, \"#0d0887\"], [0.1111111111111111, \"#46039f\"], [0.2222222222222222, \"#7201a8\"], [0.3333333333333333, \"#9c179e\"], [0.4444444444444444, \"#bd3786\"], [0.5555555555555556, \"#d8576b\"], [0.6666666666666666, \"#ed7953\"], [0.7777777777777778, \"#fb9f3a\"], [0.8888888888888888, \"#fdca26\"], [1.0, \"#f0f921\"]], \"type\": \"heatmap\"}], \"heatmapgl\": [{\"colorbar\": {\"outlinewidth\": 0, \"ticks\": \"\"}, \"colorscale\": [[0.0, \"#0d0887\"], [0.1111111111111111, \"#46039f\"], [0.2222222222222222, \"#7201a8\"], [0.3333333333333333, \"#9c179e\"], [0.4444444444444444, \"#bd3786\"], [0.5555555555555556, \"#d8576b\"], [0.6666666666666666, \"#ed7953\"], [0.7777777777777778, \"#fb9f3a\"], [0.8888888888888888, \"#fdca26\"], [1.0, \"#f0f921\"]], \"type\": \"heatmapgl\"}], \"histogram\": [{\"marker\": {\"colorbar\": {\"outlinewidth\": 0, \"ticks\": \"\"}}, \"type\": \"histogram\"}], \"histogram2d\": [{\"colorbar\": {\"outlinewidth\": 0, \"ticks\": \"\"}, \"colorscale\": [[0.0, \"#0d0887\"], [0.1111111111111111, \"#46039f\"], [0.2222222222222222, \"#7201a8\"], [0.3333333333333333, \"#9c179e\"], [0.4444444444444444, \"#bd3786\"], [0.5555555555555556, \"#d8576b\"], [0.6666666666666666, \"#ed7953\"], [0.7777777777777778, \"#fb9f3a\"], [0.8888888888888888, \"#fdca26\"], [1.0, \"#f0f921\"]], \"type\": \"histogram2d\"}], \"histogram2dcontour\": [{\"colorbar\": {\"outlinewidth\": 0, \"ticks\": \"\"}, \"colorscale\": [[0.0, \"#0d0887\"], [0.1111111111111111, \"#46039f\"], [0.2222222222222222, \"#7201a8\"], [0.3333333333333333, \"#9c179e\"], [0.4444444444444444, \"#bd3786\"], [0.5555555555555556, \"#d8576b\"], [0.6666666666666666, \"#ed7953\"], [0.7777777777777778, \"#fb9f3a\"], [0.8888888888888888, \"#fdca26\"], [1.0, \"#f0f921\"]], \"type\": \"histogram2dcontour\"}], \"mesh3d\": [{\"colorbar\": {\"outlinewidth\": 0, \"ticks\": \"\"}, \"type\": \"mesh3d\"}], \"parcoords\": [{\"line\": {\"colorbar\": {\"outlinewidth\": 0, \"ticks\": \"\"}}, \"type\": \"parcoords\"}], \"pie\": [{\"automargin\": true, \"type\": \"pie\"}], \"scatter\": [{\"marker\": {\"colorbar\": {\"outlinewidth\": 0, \"ticks\": \"\"}}, \"type\": \"scatter\"}], \"scatter3d\": [{\"line\": {\"colorbar\": {\"outlinewidth\": 0, \"ticks\": \"\"}}, \"marker\": {\"colorbar\": {\"outlinewidth\": 0, \"ticks\": \"\"}}, \"type\": \"scatter3d\"}], \"scattercarpet\": [{\"marker\": {\"colorbar\": {\"outlinewidth\": 0, \"ticks\": \"\"}}, \"type\": \"scattercarpet\"}], \"scattergeo\": [{\"marker\": {\"colorbar\": {\"outlinewidth\": 0, \"ticks\": \"\"}}, \"type\": \"scattergeo\"}], \"scattergl\": [{\"marker\": {\"colorbar\": {\"outlinewidth\": 0, \"ticks\": \"\"}}, \"type\": \"scattergl\"}], \"scattermapbox\": [{\"marker\": {\"colorbar\": {\"outlinewidth\": 0, \"ticks\": \"\"}}, \"type\": \"scattermapbox\"}], \"scatterpolar\": [{\"marker\": {\"colorbar\": {\"outlinewidth\": 0, \"ticks\": \"\"}}, \"type\": \"scatterpolar\"}], \"scatterpolargl\": [{\"marker\": {\"colorbar\": {\"outlinewidth\": 0, \"ticks\": \"\"}}, \"type\": \"scatterpolargl\"}], \"scatterternary\": [{\"marker\": {\"colorbar\": {\"outlinewidth\": 0, \"ticks\": \"\"}}, \"type\": \"scatterternary\"}], \"surface\": [{\"colorbar\": {\"outlinewidth\": 0, \"ticks\": \"\"}, \"colorscale\": [[0.0, \"#0d0887\"], [0.1111111111111111, \"#46039f\"], [0.2222222222222222, \"#7201a8\"], [0.3333333333333333, \"#9c179e\"], [0.4444444444444444, \"#bd3786\"], [0.5555555555555556, \"#d8576b\"], [0.6666666666666666, \"#ed7953\"], [0.7777777777777778, \"#fb9f3a\"], [0.8888888888888888, \"#fdca26\"], [1.0, \"#f0f921\"]], \"type\": \"surface\"}], \"table\": [{\"cells\": {\"fill\": {\"color\": \"#EBF0F8\"}, \"line\": {\"color\": \"white\"}}, \"header\": {\"fill\": {\"color\": \"#C8D4E3\"}, \"line\": {\"color\": \"white\"}}, \"type\": \"table\"}]}, \"layout\": {\"annotationdefaults\": {\"arrowcolor\": \"#2a3f5f\", \"arrowhead\": 0, \"arrowwidth\": 1}, \"autotypenumbers\": \"strict\", \"coloraxis\": {\"colorbar\": {\"outlinewidth\": 0, \"ticks\": \"\"}}, \"colorscale\": {\"diverging\": [[0, \"#8e0152\"], [0.1, \"#c51b7d\"], [0.2, \"#de77ae\"], [0.3, \"#f1b6da\"], [0.4, \"#fde0ef\"], [0.5, \"#f7f7f7\"], [0.6, \"#e6f5d0\"], [0.7, \"#b8e186\"], [0.8, \"#7fbc41\"], [0.9, \"#4d9221\"], [1, \"#276419\"]], \"sequential\": [[0.0, \"#0d0887\"], [0.1111111111111111, \"#46039f\"], [0.2222222222222222, \"#7201a8\"], [0.3333333333333333, \"#9c179e\"], [0.4444444444444444, \"#bd3786\"], [0.5555555555555556, \"#d8576b\"], [0.6666666666666666, \"#ed7953\"], [0.7777777777777778, \"#fb9f3a\"], [0.8888888888888888, \"#fdca26\"], [1.0, \"#f0f921\"]], \"sequentialminus\": [[0.0, \"#0d0887\"], [0.1111111111111111, \"#46039f\"], [0.2222222222222222, \"#7201a8\"], [0.3333333333333333, \"#9c179e\"], [0.4444444444444444, \"#bd3786\"], [0.5555555555555556, \"#d8576b\"], [0.6666666666666666, \"#ed7953\"], [0.7777777777777778, \"#fb9f3a\"], [0.8888888888888888, \"#fdca26\"], [1.0, \"#f0f921\"]]}, \"colorway\": [\"#636efa\", \"#EF553B\", \"#00cc96\", \"#ab63fa\", \"#FFA15A\", \"#19d3f3\", \"#FF6692\", \"#B6E880\", \"#FF97FF\", \"#FECB52\"], \"font\": {\"color\": \"#2a3f5f\"}, \"geo\": {\"bgcolor\": \"white\", \"lakecolor\": \"white\", \"landcolor\": \"#E5ECF6\", \"showlakes\": true, \"showland\": true, \"subunitcolor\": \"white\"}, \"hoverlabel\": {\"align\": \"left\"}, \"hovermode\": \"closest\", \"mapbox\": {\"style\": \"light\"}, \"paper_bgcolor\": \"white\", \"plot_bgcolor\": \"#E5ECF6\", \"polar\": {\"angularaxis\": {\"gridcolor\": \"white\", \"linecolor\": \"white\", \"ticks\": \"\"}, \"bgcolor\": \"#E5ECF6\", \"radialaxis\": {\"gridcolor\": \"white\", \"linecolor\": \"white\", \"ticks\": \"\"}}, \"scene\": {\"xaxis\": {\"backgroundcolor\": \"#E5ECF6\", \"gridcolor\": \"white\", \"gridwidth\": 2, \"linecolor\": \"white\", \"showbackground\": true, \"ticks\": \"\", \"zerolinecolor\": \"white\"}, \"yaxis\": {\"backgroundcolor\": \"#E5ECF6\", \"gridcolor\": \"white\", \"gridwidth\": 2, \"linecolor\": \"white\", \"showbackground\": true, \"ticks\": \"\", \"zerolinecolor\": \"white\"}, \"zaxis\": {\"backgroundcolor\": \"#E5ECF6\", \"gridcolor\": \"white\", \"gridwidth\": 2, \"linecolor\": \"white\", \"showbackground\": true, \"ticks\": \"\", \"zerolinecolor\": \"white\"}}, \"shapedefaults\": {\"line\": {\"color\": \"#2a3f5f\"}}, \"ternary\": {\"aaxis\": {\"gridcolor\": \"white\", \"linecolor\": \"white\", \"ticks\": \"\"}, \"baxis\": {\"gridcolor\": \"white\", \"linecolor\": \"white\", \"ticks\": \"\"}, \"bgcolor\": \"#E5ECF6\", \"caxis\": {\"gridcolor\": \"white\", \"linecolor\": \"white\", \"ticks\": \"\"}}, \"title\": {\"x\": 0.05}, \"xaxis\": {\"automargin\": true, \"gridcolor\": \"white\", \"linecolor\": \"white\", \"ticks\": \"\", \"title\": {\"standoff\": 15}, \"zerolinecolor\": \"white\", \"zerolinewidth\": 2}, \"yaxis\": {\"automargin\": true, \"gridcolor\": \"white\", \"linecolor\": \"white\", \"ticks\": \"\", \"title\": {\"standoff\": 15}, \"zerolinecolor\": \"white\", \"zerolinewidth\": 2}}}, \"title\": {\"text\": \"Customer Churn Distribution by Monthly Charges\", \"x\": 0.5, \"xanchor\": \"center\", \"y\": 0.9, \"yanchor\": \"top\"}, \"xaxis\": {\"anchor\": \"y2\", \"domain\": [0.0, 1.0], \"zeroline\": false}, \"yaxis\": {\"anchor\": \"free\", \"domain\": [0.0, 1], \"position\": 0.0}},                        {\"responsive\": true}                    ).then(function(){\n",
       "                            \n",
       "var gd = document.getElementById('431ecb44-22ed-46b1-83e9-2b5f5fc8a74e');\n",
       "var x = new MutationObserver(function (mutations, observer) {{\n",
       "        var display = window.getComputedStyle(gd).display;\n",
       "        if (!display || display === 'none') {{\n",
       "            console.log([gd, 'removed!']);\n",
       "            Plotly.purge(gd);\n",
       "            observer.disconnect();\n",
       "        }}\n",
       "}});\n",
       "\n",
       "// Listen for the removal of the full notebook cells\n",
       "var notebookContainer = gd.closest('#notebook-container');\n",
       "if (notebookContainer) {{\n",
       "    x.observe(notebookContainer, {childList: true});\n",
       "}}\n",
       "\n",
       "// Listen for the clearing of the current output cell\n",
       "var outputEl = gd.closest('.output');\n",
       "if (outputEl) {{\n",
       "    x.observe(outputEl, {childList: true});\n",
       "}}\n",
       "\n",
       "                        })                };                });            </script>        </div>"
      ]
     },
     "metadata": {},
     "output_type": "display_data"
    }
   ],
   "source": [
    "churn_dist = df[df['Churn']=='Yes']['MonthlyCharges']\n",
    "no_churn_dist = df[df['Churn']=='No']['MonthlyCharges']\n",
    "\n",
    "group_labels = ['No Churn', 'Churn Customers']\n",
    "\n",
    "colors = ['teal','crimson']\n",
    "\n",
    "churn_dist_fig = ff.create_distplot([no_churn_dist,churn_dist], group_labels, bin_size=[1, .10],\n",
    "                         curve_type='kde',  show_rug=False, colors=colors)# override default 'kde' or 'normal'\n",
    "churn_dist_fig.update_layout(title={'text': 'Customer Churn Distribution by Monthly Charges','y':0.9,'x':0.5, 'xanchor': 'center','yanchor': 'top'},\n",
    "                             legend=dict(yanchor=\"top\",y=0.95,xanchor=\"left\",x=0.50),autosize=True,margin=dict(t=50,b=0,l=0,r=0)) #use barmode='stack' when stacking,"
   ]
  },
  {
   "cell_type": "markdown",
   "metadata": {},
   "source": [
    "Attrition by Citizenship"
   ]
  },
  {
   "cell_type": "code",
   "execution_count": 154,
   "metadata": {},
   "outputs": [
    {
     "data": {
      "text/html": [
       "<div>\n",
       "<style scoped>\n",
       "    .dataframe tbody tr th:only-of-type {\n",
       "        vertical-align: middle;\n",
       "    }\n",
       "\n",
       "    .dataframe tbody tr th {\n",
       "        vertical-align: top;\n",
       "    }\n",
       "\n",
       "    .dataframe thead th {\n",
       "        text-align: right;\n",
       "    }\n",
       "</style>\n",
       "<table border=\"1\" class=\"dataframe\">\n",
       "  <thead>\n",
       "    <tr style=\"text-align: right;\">\n",
       "      <th></th>\n",
       "      <th>Churn</th>\n",
       "      <th>SeniorCitizen</th>\n",
       "      <th>customerID</th>\n",
       "    </tr>\n",
       "  </thead>\n",
       "  <tbody>\n",
       "    <tr>\n",
       "      <th>0</th>\n",
       "      <td>No</td>\n",
       "      <td>0.0</td>\n",
       "      <td>1441</td>\n",
       "    </tr>\n",
       "    <tr>\n",
       "      <th>1</th>\n",
       "      <td>No</td>\n",
       "      <td>1.0</td>\n",
       "      <td>213</td>\n",
       "    </tr>\n",
       "    <tr>\n",
       "      <th>2</th>\n",
       "      <td>Yes</td>\n",
       "      <td>0.0</td>\n",
       "      <td>449</td>\n",
       "    </tr>\n",
       "    <tr>\n",
       "      <th>3</th>\n",
       "      <td>Yes</td>\n",
       "      <td>1.0</td>\n",
       "      <td>140</td>\n",
       "    </tr>\n",
       "  </tbody>\n",
       "</table>\n",
       "</div>"
      ],
      "text/plain": [
       "  Churn  SeniorCitizen  customerID\n",
       "0    No            0.0        1441\n",
       "1    No            1.0         213\n",
       "2   Yes            0.0         449\n",
       "3   Yes            1.0         140"
      ]
     },
     "execution_count": 154,
     "metadata": {},
     "output_type": "execute_result"
    }
   ],
   "source": [
    "citizenship_attrition_df=df.groupby( [ \"Churn\",\"SeniorCitizen\"], as_index=False )[\"customerID\"].count()\n",
    "citizenship_attrition_df"
   ]
  },
  {
   "cell_type": "code",
   "execution_count": 155,
   "metadata": {},
   "outputs": [
    {
     "data": {
      "text/html": [
       "<div>\n",
       "<style scoped>\n",
       "    .dataframe tbody tr th:only-of-type {\n",
       "        vertical-align: middle;\n",
       "    }\n",
       "\n",
       "    .dataframe tbody tr th {\n",
       "        vertical-align: top;\n",
       "    }\n",
       "\n",
       "    .dataframe thead th {\n",
       "        text-align: right;\n",
       "    }\n",
       "</style>\n",
       "<table border=\"1\" class=\"dataframe\">\n",
       "  <thead>\n",
       "    <tr style=\"text-align: right;\">\n",
       "      <th></th>\n",
       "      <th>SeniorCitizen</th>\n",
       "      <th>customerID</th>\n",
       "      <th>Churn</th>\n",
       "    </tr>\n",
       "  </thead>\n",
       "  <tbody>\n",
       "    <tr>\n",
       "      <th>0</th>\n",
       "      <td>0.0</td>\n",
       "      <td>1890</td>\n",
       "      <td>Customer Base</td>\n",
       "    </tr>\n",
       "    <tr>\n",
       "      <th>1</th>\n",
       "      <td>1.0</td>\n",
       "      <td>353</td>\n",
       "      <td>Customer Base</td>\n",
       "    </tr>\n",
       "  </tbody>\n",
       "</table>\n",
       "</div>"
      ],
      "text/plain": [
       "   SeniorCitizen  customerID          Churn\n",
       "0            0.0        1890  Customer Base\n",
       "1            1.0         353  Customer Base"
      ]
     },
     "execution_count": 155,
     "metadata": {},
     "output_type": "execute_result"
    }
   ],
   "source": [
    "citizenship_base_df=df.groupby([\"SeniorCitizen\"], as_index=False )[\"customerID\"].count()\n",
    "citizenship_base_df['Churn']='Customer Base'\n",
    "citizenship_base_df"
   ]
  },
  {
   "cell_type": "code",
   "execution_count": 156,
   "metadata": {},
   "outputs": [
    {
     "data": {
      "text/html": [
       "<div>\n",
       "<style scoped>\n",
       "    .dataframe tbody tr th:only-of-type {\n",
       "        vertical-align: middle;\n",
       "    }\n",
       "\n",
       "    .dataframe tbody tr th {\n",
       "        vertical-align: top;\n",
       "    }\n",
       "\n",
       "    .dataframe thead th {\n",
       "        text-align: right;\n",
       "    }\n",
       "</style>\n",
       "<table border=\"1\" class=\"dataframe\">\n",
       "  <thead>\n",
       "    <tr style=\"text-align: right;\">\n",
       "      <th></th>\n",
       "      <th>Churn</th>\n",
       "      <th>Citizenship</th>\n",
       "      <th>Customers</th>\n",
       "    </tr>\n",
       "  </thead>\n",
       "  <tbody>\n",
       "    <tr>\n",
       "      <th>5</th>\n",
       "      <td>Customer Base</td>\n",
       "      <td>1.0</td>\n",
       "      <td>353</td>\n",
       "    </tr>\n",
       "    <tr>\n",
       "      <th>1</th>\n",
       "      <td>No</td>\n",
       "      <td>1.0</td>\n",
       "      <td>213</td>\n",
       "    </tr>\n",
       "    <tr>\n",
       "      <th>3</th>\n",
       "      <td>Yes</td>\n",
       "      <td>1.0</td>\n",
       "      <td>140</td>\n",
       "    </tr>\n",
       "    <tr>\n",
       "      <th>4</th>\n",
       "      <td>Customer Base</td>\n",
       "      <td>0.0</td>\n",
       "      <td>1890</td>\n",
       "    </tr>\n",
       "    <tr>\n",
       "      <th>0</th>\n",
       "      <td>No</td>\n",
       "      <td>0.0</td>\n",
       "      <td>1441</td>\n",
       "    </tr>\n",
       "    <tr>\n",
       "      <th>2</th>\n",
       "      <td>Yes</td>\n",
       "      <td>0.0</td>\n",
       "      <td>449</td>\n",
       "    </tr>\n",
       "  </tbody>\n",
       "</table>\n",
       "</div>"
      ],
      "text/plain": [
       "           Churn  Citizenship  Customers\n",
       "5  Customer Base          1.0        353\n",
       "1             No          1.0        213\n",
       "3            Yes          1.0        140\n",
       "4  Customer Base          0.0       1890\n",
       "0             No          0.0       1441\n",
       "2            Yes          0.0        449"
      ]
     },
     "execution_count": 156,
     "metadata": {},
     "output_type": "execute_result"
    }
   ],
   "source": [
    "citizenship_attrition_df=citizenship_attrition_df.append(citizenship_base_df, ignore_index = True) \n",
    "citizenship_attrition_df.columns=['Churn','Citizenship','Customers']\n",
    "citizenship_attrition_df=citizenship_attrition_df.sort_values(by=['Citizenship', 'Customers'],ascending=False)\n",
    "citizenship_attrition_df"
   ]
  },
  {
   "cell_type": "code",
   "execution_count": 175,
   "metadata": {},
   "outputs": [
    {
     "data": {
      "application/vnd.plotly.v1+json": {
       "config": {
        "plotlyServerURL": "https://plot.ly"
       },
       "data": [
        {
         "alignmentgroup": "True",
         "hovertemplate": "Churn=Customer Base<br>Customers=%{text}<br>value=%{y}<extra></extra>",
         "legendgroup": "Customer Base",
         "marker": {
          "color": "teal"
         },
         "name": "Customer Base",
         "offsetgroup": "Customer Base",
         "orientation": "h",
         "showlegend": true,
         "text": [
          353,
          1890
         ],
         "textposition": "auto",
         "type": "bar",
         "x": [
          353,
          1890
         ],
         "xaxis": "x",
         "y": [
          1,
          0
         ],
         "yaxis": "y"
        },
        {
         "alignmentgroup": "True",
         "hovertemplate": "Churn=No<br>Customers=%{text}<br>value=%{y}<extra></extra>",
         "legendgroup": "No",
         "marker": {
          "color": "skyblue"
         },
         "name": "No",
         "offsetgroup": "No",
         "orientation": "h",
         "showlegend": true,
         "text": [
          213,
          1441
         ],
         "textposition": "auto",
         "type": "bar",
         "x": [
          213,
          1441
         ],
         "xaxis": "x",
         "y": [
          1,
          0
         ],
         "yaxis": "y"
        },
        {
         "alignmentgroup": "True",
         "hovertemplate": "Churn=Yes<br>Customers=%{text}<br>value=%{y}<extra></extra>",
         "legendgroup": "Yes",
         "marker": {
          "color": "crimson"
         },
         "name": "Yes",
         "offsetgroup": "Yes",
         "orientation": "h",
         "showlegend": true,
         "text": [
          140,
          449
         ],
         "textposition": "auto",
         "type": "bar",
         "x": [
          140,
          449
         ],
         "xaxis": "x",
         "y": [
          1,
          0
         ],
         "yaxis": "y"
        }
       ],
       "layout": {
        "autosize": true,
        "barmode": "group",
        "legend": {
         "title": {
          "text": "Churn"
         },
         "tracegroupgap": 0,
         "x": 0.5,
         "xanchor": "left",
         "y": 0.95,
         "yanchor": "top"
        },
        "margin": {
         "b": 0,
         "l": 0,
         "r": 0,
         "t": 30
        },
        "template": {
         "data": {
          "bar": [
           {
            "error_x": {
             "color": "rgb(51,51,51)"
            },
            "error_y": {
             "color": "rgb(51,51,51)"
            },
            "marker": {
             "line": {
              "color": "rgb(237,237,237)",
              "width": 0.5
             }
            },
            "type": "bar"
           }
          ],
          "barpolar": [
           {
            "marker": {
             "line": {
              "color": "rgb(237,237,237)",
              "width": 0.5
             }
            },
            "type": "barpolar"
           }
          ],
          "carpet": [
           {
            "aaxis": {
             "endlinecolor": "rgb(51,51,51)",
             "gridcolor": "white",
             "linecolor": "white",
             "minorgridcolor": "white",
             "startlinecolor": "rgb(51,51,51)"
            },
            "baxis": {
             "endlinecolor": "rgb(51,51,51)",
             "gridcolor": "white",
             "linecolor": "white",
             "minorgridcolor": "white",
             "startlinecolor": "rgb(51,51,51)"
            },
            "type": "carpet"
           }
          ],
          "choropleth": [
           {
            "colorbar": {
             "outlinewidth": 0,
             "tickcolor": "rgb(237,237,237)",
             "ticklen": 6,
             "ticks": "inside"
            },
            "type": "choropleth"
           }
          ],
          "contour": [
           {
            "colorbar": {
             "outlinewidth": 0,
             "tickcolor": "rgb(237,237,237)",
             "ticklen": 6,
             "ticks": "inside"
            },
            "colorscale": [
             [
              0,
              "rgb(20,44,66)"
             ],
             [
              1,
              "rgb(90,179,244)"
             ]
            ],
            "type": "contour"
           }
          ],
          "contourcarpet": [
           {
            "colorbar": {
             "outlinewidth": 0,
             "tickcolor": "rgb(237,237,237)",
             "ticklen": 6,
             "ticks": "inside"
            },
            "type": "contourcarpet"
           }
          ],
          "heatmap": [
           {
            "colorbar": {
             "outlinewidth": 0,
             "tickcolor": "rgb(237,237,237)",
             "ticklen": 6,
             "ticks": "inside"
            },
            "colorscale": [
             [
              0,
              "rgb(20,44,66)"
             ],
             [
              1,
              "rgb(90,179,244)"
             ]
            ],
            "type": "heatmap"
           }
          ],
          "heatmapgl": [
           {
            "colorbar": {
             "outlinewidth": 0,
             "tickcolor": "rgb(237,237,237)",
             "ticklen": 6,
             "ticks": "inside"
            },
            "colorscale": [
             [
              0,
              "rgb(20,44,66)"
             ],
             [
              1,
              "rgb(90,179,244)"
             ]
            ],
            "type": "heatmapgl"
           }
          ],
          "histogram": [
           {
            "marker": {
             "colorbar": {
              "outlinewidth": 0,
              "tickcolor": "rgb(237,237,237)",
              "ticklen": 6,
              "ticks": "inside"
             }
            },
            "type": "histogram"
           }
          ],
          "histogram2d": [
           {
            "colorbar": {
             "outlinewidth": 0,
             "tickcolor": "rgb(237,237,237)",
             "ticklen": 6,
             "ticks": "inside"
            },
            "colorscale": [
             [
              0,
              "rgb(20,44,66)"
             ],
             [
              1,
              "rgb(90,179,244)"
             ]
            ],
            "type": "histogram2d"
           }
          ],
          "histogram2dcontour": [
           {
            "colorbar": {
             "outlinewidth": 0,
             "tickcolor": "rgb(237,237,237)",
             "ticklen": 6,
             "ticks": "inside"
            },
            "colorscale": [
             [
              0,
              "rgb(20,44,66)"
             ],
             [
              1,
              "rgb(90,179,244)"
             ]
            ],
            "type": "histogram2dcontour"
           }
          ],
          "mesh3d": [
           {
            "colorbar": {
             "outlinewidth": 0,
             "tickcolor": "rgb(237,237,237)",
             "ticklen": 6,
             "ticks": "inside"
            },
            "type": "mesh3d"
           }
          ],
          "parcoords": [
           {
            "line": {
             "colorbar": {
              "outlinewidth": 0,
              "tickcolor": "rgb(237,237,237)",
              "ticklen": 6,
              "ticks": "inside"
             }
            },
            "type": "parcoords"
           }
          ],
          "pie": [
           {
            "automargin": true,
            "type": "pie"
           }
          ],
          "scatter": [
           {
            "marker": {
             "colorbar": {
              "outlinewidth": 0,
              "tickcolor": "rgb(237,237,237)",
              "ticklen": 6,
              "ticks": "inside"
             }
            },
            "type": "scatter"
           }
          ],
          "scatter3d": [
           {
            "line": {
             "colorbar": {
              "outlinewidth": 0,
              "tickcolor": "rgb(237,237,237)",
              "ticklen": 6,
              "ticks": "inside"
             }
            },
            "marker": {
             "colorbar": {
              "outlinewidth": 0,
              "tickcolor": "rgb(237,237,237)",
              "ticklen": 6,
              "ticks": "inside"
             }
            },
            "type": "scatter3d"
           }
          ],
          "scattercarpet": [
           {
            "marker": {
             "colorbar": {
              "outlinewidth": 0,
              "tickcolor": "rgb(237,237,237)",
              "ticklen": 6,
              "ticks": "inside"
             }
            },
            "type": "scattercarpet"
           }
          ],
          "scattergeo": [
           {
            "marker": {
             "colorbar": {
              "outlinewidth": 0,
              "tickcolor": "rgb(237,237,237)",
              "ticklen": 6,
              "ticks": "inside"
             }
            },
            "type": "scattergeo"
           }
          ],
          "scattergl": [
           {
            "marker": {
             "colorbar": {
              "outlinewidth": 0,
              "tickcolor": "rgb(237,237,237)",
              "ticklen": 6,
              "ticks": "inside"
             }
            },
            "type": "scattergl"
           }
          ],
          "scattermapbox": [
           {
            "marker": {
             "colorbar": {
              "outlinewidth": 0,
              "tickcolor": "rgb(237,237,237)",
              "ticklen": 6,
              "ticks": "inside"
             }
            },
            "type": "scattermapbox"
           }
          ],
          "scatterpolar": [
           {
            "marker": {
             "colorbar": {
              "outlinewidth": 0,
              "tickcolor": "rgb(237,237,237)",
              "ticklen": 6,
              "ticks": "inside"
             }
            },
            "type": "scatterpolar"
           }
          ],
          "scatterpolargl": [
           {
            "marker": {
             "colorbar": {
              "outlinewidth": 0,
              "tickcolor": "rgb(237,237,237)",
              "ticklen": 6,
              "ticks": "inside"
             }
            },
            "type": "scatterpolargl"
           }
          ],
          "scatterternary": [
           {
            "marker": {
             "colorbar": {
              "outlinewidth": 0,
              "tickcolor": "rgb(237,237,237)",
              "ticklen": 6,
              "ticks": "inside"
             }
            },
            "type": "scatterternary"
           }
          ],
          "surface": [
           {
            "colorbar": {
             "outlinewidth": 0,
             "tickcolor": "rgb(237,237,237)",
             "ticklen": 6,
             "ticks": "inside"
            },
            "colorscale": [
             [
              0,
              "rgb(20,44,66)"
             ],
             [
              1,
              "rgb(90,179,244)"
             ]
            ],
            "type": "surface"
           }
          ],
          "table": [
           {
            "cells": {
             "fill": {
              "color": "rgb(237,237,237)"
             },
             "line": {
              "color": "white"
             }
            },
            "header": {
             "fill": {
              "color": "rgb(217,217,217)"
             },
             "line": {
              "color": "white"
             }
            },
            "type": "table"
           }
          ]
         },
         "layout": {
          "annotationdefaults": {
           "arrowhead": 0,
           "arrowwidth": 1
          },
          "autotypenumbers": "strict",
          "coloraxis": {
           "colorbar": {
            "outlinewidth": 0,
            "tickcolor": "rgb(237,237,237)",
            "ticklen": 6,
            "ticks": "inside"
           }
          },
          "colorscale": {
           "sequential": [
            [
             0,
             "rgb(20,44,66)"
            ],
            [
             1,
             "rgb(90,179,244)"
            ]
           ],
           "sequentialminus": [
            [
             0,
             "rgb(20,44,66)"
            ],
            [
             1,
             "rgb(90,179,244)"
            ]
           ]
          },
          "colorway": [
           "#F8766D",
           "#A3A500",
           "#00BF7D",
           "#00B0F6",
           "#E76BF3"
          ],
          "font": {
           "color": "rgb(51,51,51)"
          },
          "geo": {
           "bgcolor": "white",
           "lakecolor": "white",
           "landcolor": "rgb(237,237,237)",
           "showlakes": true,
           "showland": true,
           "subunitcolor": "white"
          },
          "hoverlabel": {
           "align": "left"
          },
          "hovermode": "closest",
          "paper_bgcolor": "white",
          "plot_bgcolor": "rgb(237,237,237)",
          "polar": {
           "angularaxis": {
            "gridcolor": "white",
            "linecolor": "white",
            "showgrid": true,
            "tickcolor": "rgb(51,51,51)",
            "ticks": "outside"
           },
           "bgcolor": "rgb(237,237,237)",
           "radialaxis": {
            "gridcolor": "white",
            "linecolor": "white",
            "showgrid": true,
            "tickcolor": "rgb(51,51,51)",
            "ticks": "outside"
           }
          },
          "scene": {
           "xaxis": {
            "backgroundcolor": "rgb(237,237,237)",
            "gridcolor": "white",
            "gridwidth": 2,
            "linecolor": "white",
            "showbackground": true,
            "showgrid": true,
            "tickcolor": "rgb(51,51,51)",
            "ticks": "outside",
            "zerolinecolor": "white"
           },
           "yaxis": {
            "backgroundcolor": "rgb(237,237,237)",
            "gridcolor": "white",
            "gridwidth": 2,
            "linecolor": "white",
            "showbackground": true,
            "showgrid": true,
            "tickcolor": "rgb(51,51,51)",
            "ticks": "outside",
            "zerolinecolor": "white"
           },
           "zaxis": {
            "backgroundcolor": "rgb(237,237,237)",
            "gridcolor": "white",
            "gridwidth": 2,
            "linecolor": "white",
            "showbackground": true,
            "showgrid": true,
            "tickcolor": "rgb(51,51,51)",
            "ticks": "outside",
            "zerolinecolor": "white"
           }
          },
          "shapedefaults": {
           "fillcolor": "black",
           "line": {
            "width": 0
           },
           "opacity": 0.3
          },
          "ternary": {
           "aaxis": {
            "gridcolor": "white",
            "linecolor": "white",
            "showgrid": true,
            "tickcolor": "rgb(51,51,51)",
            "ticks": "outside"
           },
           "baxis": {
            "gridcolor": "white",
            "linecolor": "white",
            "showgrid": true,
            "tickcolor": "rgb(51,51,51)",
            "ticks": "outside"
           },
           "bgcolor": "rgb(237,237,237)",
           "caxis": {
            "gridcolor": "white",
            "linecolor": "white",
            "showgrid": true,
            "tickcolor": "rgb(51,51,51)",
            "ticks": "outside"
           }
          },
          "xaxis": {
           "automargin": true,
           "gridcolor": "white",
           "linecolor": "white",
           "showgrid": true,
           "tickcolor": "rgb(51,51,51)",
           "ticks": "outside",
           "title": {
            "standoff": 15
           },
           "zerolinecolor": "white"
          },
          "yaxis": {
           "automargin": true,
           "gridcolor": "white",
           "linecolor": "white",
           "showgrid": true,
           "tickcolor": "rgb(51,51,51)",
           "ticks": "outside",
           "title": {
            "standoff": 15
           },
           "zerolinecolor": "white"
          }
         }
        },
        "title": {
         "text": "Churn by Citizenship"
        },
        "xaxis": {
         "anchor": "y",
         "domain": [
          0,
          1
         ],
         "title": {
          "text": "Customers"
         }
        },
        "yaxis": {
         "anchor": "x",
         "domain": [
          0,
          1
         ],
         "title": {
          "text": "value"
         }
        }
       }
      },
      "text/html": [
       "<div>                            <div id=\"7dbdc90e-1d69-4abe-933e-ca8cf6997b9e\" class=\"plotly-graph-div\" style=\"height:525px; width:100%;\"></div>            <script type=\"text/javascript\">                require([\"plotly\"], function(Plotly) {                    window.PLOTLYENV=window.PLOTLYENV || {};                                    if (document.getElementById(\"7dbdc90e-1d69-4abe-933e-ca8cf6997b9e\")) {                    Plotly.newPlot(                        \"7dbdc90e-1d69-4abe-933e-ca8cf6997b9e\",                        [{\"alignmentgroup\": \"True\", \"hovertemplate\": \"Churn=Customer Base<br>Customers=%{text}<br>value=%{y}<extra></extra>\", \"legendgroup\": \"Customer Base\", \"marker\": {\"color\": \"teal\"}, \"name\": \"Customer Base\", \"offsetgroup\": \"Customer Base\", \"orientation\": \"h\", \"showlegend\": true, \"text\": [353.0, 1890.0], \"textposition\": \"auto\", \"type\": \"bar\", \"x\": [353, 1890], \"xaxis\": \"x\", \"y\": [1.0, 0.0], \"yaxis\": \"y\"}, {\"alignmentgroup\": \"True\", \"hovertemplate\": \"Churn=No<br>Customers=%{text}<br>value=%{y}<extra></extra>\", \"legendgroup\": \"No\", \"marker\": {\"color\": \"skyblue\"}, \"name\": \"No\", \"offsetgroup\": \"No\", \"orientation\": \"h\", \"showlegend\": true, \"text\": [213.0, 1441.0], \"textposition\": \"auto\", \"type\": \"bar\", \"x\": [213, 1441], \"xaxis\": \"x\", \"y\": [1.0, 0.0], \"yaxis\": \"y\"}, {\"alignmentgroup\": \"True\", \"hovertemplate\": \"Churn=Yes<br>Customers=%{text}<br>value=%{y}<extra></extra>\", \"legendgroup\": \"Yes\", \"marker\": {\"color\": \"crimson\"}, \"name\": \"Yes\", \"offsetgroup\": \"Yes\", \"orientation\": \"h\", \"showlegend\": true, \"text\": [140.0, 449.0], \"textposition\": \"auto\", \"type\": \"bar\", \"x\": [140, 449], \"xaxis\": \"x\", \"y\": [1.0, 0.0], \"yaxis\": \"y\"}],                        {\"autosize\": true, \"barmode\": \"group\", \"legend\": {\"title\": {\"text\": \"Churn\"}, \"tracegroupgap\": 0, \"x\": 0.5, \"xanchor\": \"left\", \"y\": 0.95, \"yanchor\": \"top\"}, \"margin\": {\"b\": 0, \"l\": 0, \"r\": 0, \"t\": 30}, \"template\": {\"data\": {\"bar\": [{\"error_x\": {\"color\": \"rgb(51,51,51)\"}, \"error_y\": {\"color\": \"rgb(51,51,51)\"}, \"marker\": {\"line\": {\"color\": \"rgb(237,237,237)\", \"width\": 0.5}}, \"type\": \"bar\"}], \"barpolar\": [{\"marker\": {\"line\": {\"color\": \"rgb(237,237,237)\", \"width\": 0.5}}, \"type\": \"barpolar\"}], \"carpet\": [{\"aaxis\": {\"endlinecolor\": \"rgb(51,51,51)\", \"gridcolor\": \"white\", \"linecolor\": \"white\", \"minorgridcolor\": \"white\", \"startlinecolor\": \"rgb(51,51,51)\"}, \"baxis\": {\"endlinecolor\": \"rgb(51,51,51)\", \"gridcolor\": \"white\", \"linecolor\": \"white\", \"minorgridcolor\": \"white\", \"startlinecolor\": \"rgb(51,51,51)\"}, \"type\": \"carpet\"}], \"choropleth\": [{\"colorbar\": {\"outlinewidth\": 0, \"tickcolor\": \"rgb(237,237,237)\", \"ticklen\": 6, \"ticks\": \"inside\"}, \"type\": \"choropleth\"}], \"contour\": [{\"colorbar\": {\"outlinewidth\": 0, \"tickcolor\": \"rgb(237,237,237)\", \"ticklen\": 6, \"ticks\": \"inside\"}, \"colorscale\": [[0, \"rgb(20,44,66)\"], [1, \"rgb(90,179,244)\"]], \"type\": \"contour\"}], \"contourcarpet\": [{\"colorbar\": {\"outlinewidth\": 0, \"tickcolor\": \"rgb(237,237,237)\", \"ticklen\": 6, \"ticks\": \"inside\"}, \"type\": \"contourcarpet\"}], \"heatmap\": [{\"colorbar\": {\"outlinewidth\": 0, \"tickcolor\": \"rgb(237,237,237)\", \"ticklen\": 6, \"ticks\": \"inside\"}, \"colorscale\": [[0, \"rgb(20,44,66)\"], [1, \"rgb(90,179,244)\"]], \"type\": \"heatmap\"}], \"heatmapgl\": [{\"colorbar\": {\"outlinewidth\": 0, \"tickcolor\": \"rgb(237,237,237)\", \"ticklen\": 6, \"ticks\": \"inside\"}, \"colorscale\": [[0, \"rgb(20,44,66)\"], [1, \"rgb(90,179,244)\"]], \"type\": \"heatmapgl\"}], \"histogram\": [{\"marker\": {\"colorbar\": {\"outlinewidth\": 0, \"tickcolor\": \"rgb(237,237,237)\", \"ticklen\": 6, \"ticks\": \"inside\"}}, \"type\": \"histogram\"}], \"histogram2d\": [{\"colorbar\": {\"outlinewidth\": 0, \"tickcolor\": \"rgb(237,237,237)\", \"ticklen\": 6, \"ticks\": \"inside\"}, \"colorscale\": [[0, \"rgb(20,44,66)\"], [1, \"rgb(90,179,244)\"]], \"type\": \"histogram2d\"}], \"histogram2dcontour\": [{\"colorbar\": {\"outlinewidth\": 0, \"tickcolor\": \"rgb(237,237,237)\", \"ticklen\": 6, \"ticks\": \"inside\"}, \"colorscale\": [[0, \"rgb(20,44,66)\"], [1, \"rgb(90,179,244)\"]], \"type\": \"histogram2dcontour\"}], \"mesh3d\": [{\"colorbar\": {\"outlinewidth\": 0, \"tickcolor\": \"rgb(237,237,237)\", \"ticklen\": 6, \"ticks\": \"inside\"}, \"type\": \"mesh3d\"}], \"parcoords\": [{\"line\": {\"colorbar\": {\"outlinewidth\": 0, \"tickcolor\": \"rgb(237,237,237)\", \"ticklen\": 6, \"ticks\": \"inside\"}}, \"type\": \"parcoords\"}], \"pie\": [{\"automargin\": true, \"type\": \"pie\"}], \"scatter\": [{\"marker\": {\"colorbar\": {\"outlinewidth\": 0, \"tickcolor\": \"rgb(237,237,237)\", \"ticklen\": 6, \"ticks\": \"inside\"}}, \"type\": \"scatter\"}], \"scatter3d\": [{\"line\": {\"colorbar\": {\"outlinewidth\": 0, \"tickcolor\": \"rgb(237,237,237)\", \"ticklen\": 6, \"ticks\": \"inside\"}}, \"marker\": {\"colorbar\": {\"outlinewidth\": 0, \"tickcolor\": \"rgb(237,237,237)\", \"ticklen\": 6, \"ticks\": \"inside\"}}, \"type\": \"scatter3d\"}], \"scattercarpet\": [{\"marker\": {\"colorbar\": {\"outlinewidth\": 0, \"tickcolor\": \"rgb(237,237,237)\", \"ticklen\": 6, \"ticks\": \"inside\"}}, \"type\": \"scattercarpet\"}], \"scattergeo\": [{\"marker\": {\"colorbar\": {\"outlinewidth\": 0, \"tickcolor\": \"rgb(237,237,237)\", \"ticklen\": 6, \"ticks\": \"inside\"}}, \"type\": \"scattergeo\"}], \"scattergl\": [{\"marker\": {\"colorbar\": {\"outlinewidth\": 0, \"tickcolor\": \"rgb(237,237,237)\", \"ticklen\": 6, \"ticks\": \"inside\"}}, \"type\": \"scattergl\"}], \"scattermapbox\": [{\"marker\": {\"colorbar\": {\"outlinewidth\": 0, \"tickcolor\": \"rgb(237,237,237)\", \"ticklen\": 6, \"ticks\": \"inside\"}}, \"type\": \"scattermapbox\"}], \"scatterpolar\": [{\"marker\": {\"colorbar\": {\"outlinewidth\": 0, \"tickcolor\": \"rgb(237,237,237)\", \"ticklen\": 6, \"ticks\": \"inside\"}}, \"type\": \"scatterpolar\"}], \"scatterpolargl\": [{\"marker\": {\"colorbar\": {\"outlinewidth\": 0, \"tickcolor\": \"rgb(237,237,237)\", \"ticklen\": 6, \"ticks\": \"inside\"}}, \"type\": \"scatterpolargl\"}], \"scatterternary\": [{\"marker\": {\"colorbar\": {\"outlinewidth\": 0, \"tickcolor\": \"rgb(237,237,237)\", \"ticklen\": 6, \"ticks\": \"inside\"}}, \"type\": \"scatterternary\"}], \"surface\": [{\"colorbar\": {\"outlinewidth\": 0, \"tickcolor\": \"rgb(237,237,237)\", \"ticklen\": 6, \"ticks\": \"inside\"}, \"colorscale\": [[0, \"rgb(20,44,66)\"], [1, \"rgb(90,179,244)\"]], \"type\": \"surface\"}], \"table\": [{\"cells\": {\"fill\": {\"color\": \"rgb(237,237,237)\"}, \"line\": {\"color\": \"white\"}}, \"header\": {\"fill\": {\"color\": \"rgb(217,217,217)\"}, \"line\": {\"color\": \"white\"}}, \"type\": \"table\"}]}, \"layout\": {\"annotationdefaults\": {\"arrowhead\": 0, \"arrowwidth\": 1}, \"autotypenumbers\": \"strict\", \"coloraxis\": {\"colorbar\": {\"outlinewidth\": 0, \"tickcolor\": \"rgb(237,237,237)\", \"ticklen\": 6, \"ticks\": \"inside\"}}, \"colorscale\": {\"sequential\": [[0, \"rgb(20,44,66)\"], [1, \"rgb(90,179,244)\"]], \"sequentialminus\": [[0, \"rgb(20,44,66)\"], [1, \"rgb(90,179,244)\"]]}, \"colorway\": [\"#F8766D\", \"#A3A500\", \"#00BF7D\", \"#00B0F6\", \"#E76BF3\"], \"font\": {\"color\": \"rgb(51,51,51)\"}, \"geo\": {\"bgcolor\": \"white\", \"lakecolor\": \"white\", \"landcolor\": \"rgb(237,237,237)\", \"showlakes\": true, \"showland\": true, \"subunitcolor\": \"white\"}, \"hoverlabel\": {\"align\": \"left\"}, \"hovermode\": \"closest\", \"paper_bgcolor\": \"white\", \"plot_bgcolor\": \"rgb(237,237,237)\", \"polar\": {\"angularaxis\": {\"gridcolor\": \"white\", \"linecolor\": \"white\", \"showgrid\": true, \"tickcolor\": \"rgb(51,51,51)\", \"ticks\": \"outside\"}, \"bgcolor\": \"rgb(237,237,237)\", \"radialaxis\": {\"gridcolor\": \"white\", \"linecolor\": \"white\", \"showgrid\": true, \"tickcolor\": \"rgb(51,51,51)\", \"ticks\": \"outside\"}}, \"scene\": {\"xaxis\": {\"backgroundcolor\": \"rgb(237,237,237)\", \"gridcolor\": \"white\", \"gridwidth\": 2, \"linecolor\": \"white\", \"showbackground\": true, \"showgrid\": true, \"tickcolor\": \"rgb(51,51,51)\", \"ticks\": \"outside\", \"zerolinecolor\": \"white\"}, \"yaxis\": {\"backgroundcolor\": \"rgb(237,237,237)\", \"gridcolor\": \"white\", \"gridwidth\": 2, \"linecolor\": \"white\", \"showbackground\": true, \"showgrid\": true, \"tickcolor\": \"rgb(51,51,51)\", \"ticks\": \"outside\", \"zerolinecolor\": \"white\"}, \"zaxis\": {\"backgroundcolor\": \"rgb(237,237,237)\", \"gridcolor\": \"white\", \"gridwidth\": 2, \"linecolor\": \"white\", \"showbackground\": true, \"showgrid\": true, \"tickcolor\": \"rgb(51,51,51)\", \"ticks\": \"outside\", \"zerolinecolor\": \"white\"}}, \"shapedefaults\": {\"fillcolor\": \"black\", \"line\": {\"width\": 0}, \"opacity\": 0.3}, \"ternary\": {\"aaxis\": {\"gridcolor\": \"white\", \"linecolor\": \"white\", \"showgrid\": true, \"tickcolor\": \"rgb(51,51,51)\", \"ticks\": \"outside\"}, \"baxis\": {\"gridcolor\": \"white\", \"linecolor\": \"white\", \"showgrid\": true, \"tickcolor\": \"rgb(51,51,51)\", \"ticks\": \"outside\"}, \"bgcolor\": \"rgb(237,237,237)\", \"caxis\": {\"gridcolor\": \"white\", \"linecolor\": \"white\", \"showgrid\": true, \"tickcolor\": \"rgb(51,51,51)\", \"ticks\": \"outside\"}}, \"xaxis\": {\"automargin\": true, \"gridcolor\": \"white\", \"linecolor\": \"white\", \"showgrid\": true, \"tickcolor\": \"rgb(51,51,51)\", \"ticks\": \"outside\", \"title\": {\"standoff\": 15}, \"zerolinecolor\": \"white\"}, \"yaxis\": {\"automargin\": true, \"gridcolor\": \"white\", \"linecolor\": \"white\", \"showgrid\": true, \"tickcolor\": \"rgb(51,51,51)\", \"ticks\": \"outside\", \"title\": {\"standoff\": 15}, \"zerolinecolor\": \"white\"}}}, \"title\": {\"text\": \"Churn by Citizenship\"}, \"xaxis\": {\"anchor\": \"y\", \"domain\": [0.0, 1.0], \"title\": {\"text\": \"Customers\"}}, \"yaxis\": {\"anchor\": \"x\", \"domain\": [0.0, 1.0], \"title\": {\"text\": \"value\"}}},                        {\"responsive\": true}                    ).then(function(){\n",
       "                            \n",
       "var gd = document.getElementById('7dbdc90e-1d69-4abe-933e-ca8cf6997b9e');\n",
       "var x = new MutationObserver(function (mutations, observer) {{\n",
       "        var display = window.getComputedStyle(gd).display;\n",
       "        if (!display || display === 'none') {{\n",
       "            console.log([gd, 'removed!']);\n",
       "            Plotly.purge(gd);\n",
       "            observer.disconnect();\n",
       "        }}\n",
       "}});\n",
       "\n",
       "// Listen for the removal of the full notebook cells\n",
       "var notebookContainer = gd.closest('#notebook-container');\n",
       "if (notebookContainer) {{\n",
       "    x.observe(notebookContainer, {childList: true});\n",
       "}}\n",
       "\n",
       "// Listen for the clearing of the current output cell\n",
       "var outputEl = gd.closest('.output');\n",
       "if (outputEl) {{\n",
       "    x.observe(outputEl, {childList: true});\n",
       "}}\n",
       "\n",
       "                        })                };                });            </script>        </div>"
      ]
     },
     "metadata": {},
     "output_type": "display_data"
    }
   ],
   "source": [
    "colors = ['teal','skyblue','crimson']\n",
    "citizenship_barchart=px.bar(citizenship_attrition_df,x='Customers',y=['Citizenship'],color='Churn',text='Customers',orientation=\"h\",color_discrete_sequence=colors,barmode=\"group\",\n",
    "                           title='Churn by Citizenship')\n",
    "citizenship_barchart.update_layout(legend=dict(yanchor=\"top\",y=0.95,xanchor=\"left\",x=0.50),autosize=True,margin=dict(t=30,b=0,l=0,r=0))"
   ]
  },
  {
   "cell_type": "markdown",
   "metadata": {},
   "source": [
    "Attrition by Tenure"
   ]
  },
  {
   "cell_type": "code",
   "execution_count": 158,
   "metadata": {},
   "outputs": [
    {
     "data": {
      "text/html": [
       "<div>\n",
       "<style scoped>\n",
       "    .dataframe tbody tr th:only-of-type {\n",
       "        vertical-align: middle;\n",
       "    }\n",
       "\n",
       "    .dataframe tbody tr th {\n",
       "        vertical-align: top;\n",
       "    }\n",
       "\n",
       "    .dataframe thead th {\n",
       "        text-align: right;\n",
       "    }\n",
       "</style>\n",
       "<table border=\"1\" class=\"dataframe\">\n",
       "  <thead>\n",
       "    <tr style=\"text-align: right;\">\n",
       "      <th></th>\n",
       "      <th>Churn</th>\n",
       "      <th>Tenure</th>\n",
       "      <th>Customers</th>\n",
       "    </tr>\n",
       "  </thead>\n",
       "  <tbody>\n",
       "    <tr>\n",
       "      <th>0</th>\n",
       "      <td>No</td>\n",
       "      <td>0.0</td>\n",
       "      <td>5</td>\n",
       "    </tr>\n",
       "    <tr>\n",
       "      <th>1</th>\n",
       "      <td>No</td>\n",
       "      <td>1.0</td>\n",
       "      <td>79</td>\n",
       "    </tr>\n",
       "    <tr>\n",
       "      <th>2</th>\n",
       "      <td>No</td>\n",
       "      <td>2.0</td>\n",
       "      <td>33</td>\n",
       "    </tr>\n",
       "    <tr>\n",
       "      <th>3</th>\n",
       "      <td>No</td>\n",
       "      <td>3.0</td>\n",
       "      <td>41</td>\n",
       "    </tr>\n",
       "    <tr>\n",
       "      <th>4</th>\n",
       "      <td>No</td>\n",
       "      <td>4.0</td>\n",
       "      <td>22</td>\n",
       "    </tr>\n",
       "  </tbody>\n",
       "</table>\n",
       "</div>"
      ],
      "text/plain": [
       "  Churn  Tenure  Customers\n",
       "0    No     0.0          5\n",
       "1    No     1.0         79\n",
       "2    No     2.0         33\n",
       "3    No     3.0         41\n",
       "4    No     4.0         22"
      ]
     },
     "execution_count": 158,
     "metadata": {},
     "output_type": "execute_result"
    }
   ],
   "source": [
    "tenure_attrition_df=df.groupby( [ \"Churn\",\"tenure\"], as_index=False )[\"customerID\"].count()\n",
    "tenure_attrition_df.columns=['Churn','Tenure','Customers']\n",
    "tenure_attrition_df.head()"
   ]
  },
  {
   "cell_type": "code",
   "execution_count": 176,
   "metadata": {
    "scrolled": false
   },
   "outputs": [
    {
     "data": {
      "application/vnd.plotly.v1+json": {
       "config": {
        "plotlyServerURL": "https://plot.ly"
       },
       "data": [
        {
         "branchvalues": "total",
         "domain": {
          "x": [
           0,
           1
          ],
          "y": [
           0,
           1
          ]
         },
         "hovertemplate": "labels=%{label}<br>Customers=%{value}<br>parent=%{parent}<br>id=%{id}<extra></extra>",
         "ids": [
          "No/0.0",
          "No/1.0",
          "Yes/1.0",
          "No/2.0",
          "Yes/2.0",
          "No/3.0",
          "Yes/3.0",
          "No/4.0",
          "Yes/4.0",
          "No/5.0",
          "Yes/5.0",
          "No/6.0",
          "Yes/6.0",
          "No/7.0",
          "Yes/7.0",
          "No/8.0",
          "Yes/8.0",
          "No/9.0",
          "Yes/9.0",
          "No/10.0",
          "Yes/10.0",
          "No/11.0",
          "Yes/11.0",
          "No/12.0",
          "Yes/12.0",
          "No/13.0",
          "Yes/13.0",
          "No/14.0",
          "Yes/14.0",
          "No/15.0",
          "Yes/15.0",
          "No/16.0",
          "Yes/16.0",
          "No/17.0",
          "Yes/17.0",
          "No/18.0",
          "Yes/18.0",
          "No/19.0",
          "Yes/19.0",
          "No/20.0",
          "Yes/20.0",
          "No/21.0",
          "Yes/21.0",
          "No/22.0",
          "Yes/22.0",
          "No/23.0",
          "Yes/23.0",
          "No/24.0",
          "Yes/24.0",
          "No/25.0",
          "Yes/25.0",
          "No/26.0",
          "Yes/26.0",
          "No/27.0",
          "Yes/27.0",
          "No/28.0",
          "Yes/28.0",
          "No/29.0",
          "Yes/29.0",
          "No/30.0",
          "Yes/30.0",
          "No/31.0",
          "Yes/31.0",
          "No/32.0",
          "Yes/32.0",
          "No/33.0",
          "Yes/33.0",
          "No/34.0",
          "Yes/34.0",
          "No/35.0",
          "Yes/35.0",
          "No/36.0",
          "No/37.0",
          "Yes/37.0",
          "No/38.0",
          "Yes/38.0",
          "No/39.0",
          "Yes/39.0",
          "No/40.0",
          "Yes/40.0",
          "No/41.0",
          "Yes/41.0",
          "No/42.0",
          "Yes/42.0",
          "No/43.0",
          "Yes/43.0",
          "No/44.0",
          "Yes/44.0",
          "No/45.0",
          "Yes/45.0",
          "No/46.0",
          "Yes/46.0",
          "No/47.0",
          "Yes/47.0",
          "No/48.0",
          "Yes/48.0",
          "No/49.0",
          "Yes/49.0",
          "No/50.0",
          "Yes/50.0",
          "No/51.0",
          "Yes/51.0",
          "No/52.0",
          "Yes/52.0",
          "No/53.0",
          "Yes/53.0",
          "No/54.0",
          "Yes/54.0",
          "No/55.0",
          "Yes/55.0",
          "No/56.0",
          "Yes/56.0",
          "No/57.0",
          "Yes/57.0",
          "No/58.0",
          "Yes/58.0",
          "No/59.0",
          "Yes/59.0",
          "No/60.0",
          "Yes/60.0",
          "No/61.0",
          "Yes/61.0",
          "No/62.0",
          "Yes/62.0",
          "No/63.0",
          "Yes/63.0",
          "No/64.0",
          "Yes/64.0",
          "No/65.0",
          "Yes/65.0",
          "No/66.0",
          "Yes/66.0",
          "No/67.0",
          "Yes/67.0",
          "No/68.0",
          "Yes/68.0",
          "No/69.0",
          "Yes/69.0",
          "No/70.0",
          "Yes/70.0",
          "No/71.0",
          "Yes/71.0",
          "No/72.0",
          "No",
          "Yes"
         ],
         "labels": [
          "0.0",
          "1.0",
          "1.0",
          "2.0",
          "2.0",
          "3.0",
          "3.0",
          "4.0",
          "4.0",
          "5.0",
          "5.0",
          "6.0",
          "6.0",
          "7.0",
          "7.0",
          "8.0",
          "8.0",
          "9.0",
          "9.0",
          "10.0",
          "10.0",
          "11.0",
          "11.0",
          "12.0",
          "12.0",
          "13.0",
          "13.0",
          "14.0",
          "14.0",
          "15.0",
          "15.0",
          "16.0",
          "16.0",
          "17.0",
          "17.0",
          "18.0",
          "18.0",
          "19.0",
          "19.0",
          "20.0",
          "20.0",
          "21.0",
          "21.0",
          "22.0",
          "22.0",
          "23.0",
          "23.0",
          "24.0",
          "24.0",
          "25.0",
          "25.0",
          "26.0",
          "26.0",
          "27.0",
          "27.0",
          "28.0",
          "28.0",
          "29.0",
          "29.0",
          "30.0",
          "30.0",
          "31.0",
          "31.0",
          "32.0",
          "32.0",
          "33.0",
          "33.0",
          "34.0",
          "34.0",
          "35.0",
          "35.0",
          "36.0",
          "37.0",
          "37.0",
          "38.0",
          "38.0",
          "39.0",
          "39.0",
          "40.0",
          "40.0",
          "41.0",
          "41.0",
          "42.0",
          "42.0",
          "43.0",
          "43.0",
          "44.0",
          "44.0",
          "45.0",
          "45.0",
          "46.0",
          "46.0",
          "47.0",
          "47.0",
          "48.0",
          "48.0",
          "49.0",
          "49.0",
          "50.0",
          "50.0",
          "51.0",
          "51.0",
          "52.0",
          "52.0",
          "53.0",
          "53.0",
          "54.0",
          "54.0",
          "55.0",
          "55.0",
          "56.0",
          "56.0",
          "57.0",
          "57.0",
          "58.0",
          "58.0",
          "59.0",
          "59.0",
          "60.0",
          "60.0",
          "61.0",
          "61.0",
          "62.0",
          "62.0",
          "63.0",
          "63.0",
          "64.0",
          "64.0",
          "65.0",
          "65.0",
          "66.0",
          "66.0",
          "67.0",
          "67.0",
          "68.0",
          "68.0",
          "69.0",
          "69.0",
          "70.0",
          "70.0",
          "71.0",
          "71.0",
          "72.0",
          "No",
          "Yes"
         ],
         "name": "",
         "parents": [
          "No",
          "No",
          "Yes",
          "No",
          "Yes",
          "No",
          "Yes",
          "No",
          "Yes",
          "No",
          "Yes",
          "No",
          "Yes",
          "No",
          "Yes",
          "No",
          "Yes",
          "No",
          "Yes",
          "No",
          "Yes",
          "No",
          "Yes",
          "No",
          "Yes",
          "No",
          "Yes",
          "No",
          "Yes",
          "No",
          "Yes",
          "No",
          "Yes",
          "No",
          "Yes",
          "No",
          "Yes",
          "No",
          "Yes",
          "No",
          "Yes",
          "No",
          "Yes",
          "No",
          "Yes",
          "No",
          "Yes",
          "No",
          "Yes",
          "No",
          "Yes",
          "No",
          "Yes",
          "No",
          "Yes",
          "No",
          "Yes",
          "No",
          "Yes",
          "No",
          "Yes",
          "No",
          "Yes",
          "No",
          "Yes",
          "No",
          "Yes",
          "No",
          "Yes",
          "No",
          "Yes",
          "No",
          "No",
          "Yes",
          "No",
          "Yes",
          "No",
          "Yes",
          "No",
          "Yes",
          "No",
          "Yes",
          "No",
          "Yes",
          "No",
          "Yes",
          "No",
          "Yes",
          "No",
          "Yes",
          "No",
          "Yes",
          "No",
          "Yes",
          "No",
          "Yes",
          "No",
          "Yes",
          "No",
          "Yes",
          "No",
          "Yes",
          "No",
          "Yes",
          "No",
          "Yes",
          "No",
          "Yes",
          "No",
          "Yes",
          "No",
          "Yes",
          "No",
          "Yes",
          "No",
          "Yes",
          "No",
          "Yes",
          "No",
          "Yes",
          "No",
          "Yes",
          "No",
          "Yes",
          "No",
          "Yes",
          "No",
          "Yes",
          "No",
          "Yes",
          "No",
          "Yes",
          "No",
          "Yes",
          "No",
          "Yes",
          "No",
          "Yes",
          "No",
          "Yes",
          "No",
          "Yes",
          "No",
          "",
          ""
         ],
         "type": "treemap",
         "values": [
          5,
          79,
          115,
          33,
          51,
          41,
          24,
          22,
          25,
          28,
          21,
          15,
          7,
          28,
          20,
          25,
          15,
          16,
          10,
          21,
          18,
          23,
          10,
          25,
          14,
          19,
          12,
          21,
          7,
          19,
          15,
          20,
          9,
          20,
          10,
          15,
          8,
          9,
          7,
          24,
          5,
          12,
          5,
          24,
          8,
          34,
          6,
          22,
          9,
          13,
          6,
          13,
          3,
          24,
          4,
          13,
          3,
          21,
          3,
          22,
          5,
          16,
          2,
          21,
          7,
          15,
          4,
          16,
          8,
          24,
          5,
          16,
          13,
          4,
          13,
          4,
          11,
          3,
          15,
          4,
          18,
          5,
          18,
          2,
          16,
          4,
          12,
          2,
          24,
          1,
          25,
          3,
          21,
          5,
          17,
          2,
          13,
          6,
          18,
          3,
          22,
          2,
          26,
          3,
          14,
          3,
          17,
          1,
          12,
          3,
          26,
          4,
          12,
          3,
          16,
          4,
          13,
          5,
          23,
          4,
          20,
          2,
          21,
          3,
          25,
          3,
          22,
          1,
          23,
          4,
          27,
          3,
          22,
          4,
          26,
          3,
          28,
          2,
          31,
          2,
          56,
          1,
          124,
          1654,
          589
         ]
        }
       ],
       "layout": {
        "autosize": true,
        "legend": {
         "tracegroupgap": 0,
         "x": 0.5,
         "xanchor": "left",
         "y": 0.95,
         "yanchor": "top"
        },
        "margin": {
         "b": 0,
         "l": 0,
         "r": 0,
         "t": 30
        },
        "template": {
         "data": {
          "bar": [
           {
            "error_x": {
             "color": "rgb(51,51,51)"
            },
            "error_y": {
             "color": "rgb(51,51,51)"
            },
            "marker": {
             "line": {
              "color": "rgb(237,237,237)",
              "width": 0.5
             }
            },
            "type": "bar"
           }
          ],
          "barpolar": [
           {
            "marker": {
             "line": {
              "color": "rgb(237,237,237)",
              "width": 0.5
             }
            },
            "type": "barpolar"
           }
          ],
          "carpet": [
           {
            "aaxis": {
             "endlinecolor": "rgb(51,51,51)",
             "gridcolor": "white",
             "linecolor": "white",
             "minorgridcolor": "white",
             "startlinecolor": "rgb(51,51,51)"
            },
            "baxis": {
             "endlinecolor": "rgb(51,51,51)",
             "gridcolor": "white",
             "linecolor": "white",
             "minorgridcolor": "white",
             "startlinecolor": "rgb(51,51,51)"
            },
            "type": "carpet"
           }
          ],
          "choropleth": [
           {
            "colorbar": {
             "outlinewidth": 0,
             "tickcolor": "rgb(237,237,237)",
             "ticklen": 6,
             "ticks": "inside"
            },
            "type": "choropleth"
           }
          ],
          "contour": [
           {
            "colorbar": {
             "outlinewidth": 0,
             "tickcolor": "rgb(237,237,237)",
             "ticklen": 6,
             "ticks": "inside"
            },
            "colorscale": [
             [
              0,
              "rgb(20,44,66)"
             ],
             [
              1,
              "rgb(90,179,244)"
             ]
            ],
            "type": "contour"
           }
          ],
          "contourcarpet": [
           {
            "colorbar": {
             "outlinewidth": 0,
             "tickcolor": "rgb(237,237,237)",
             "ticklen": 6,
             "ticks": "inside"
            },
            "type": "contourcarpet"
           }
          ],
          "heatmap": [
           {
            "colorbar": {
             "outlinewidth": 0,
             "tickcolor": "rgb(237,237,237)",
             "ticklen": 6,
             "ticks": "inside"
            },
            "colorscale": [
             [
              0,
              "rgb(20,44,66)"
             ],
             [
              1,
              "rgb(90,179,244)"
             ]
            ],
            "type": "heatmap"
           }
          ],
          "heatmapgl": [
           {
            "colorbar": {
             "outlinewidth": 0,
             "tickcolor": "rgb(237,237,237)",
             "ticklen": 6,
             "ticks": "inside"
            },
            "colorscale": [
             [
              0,
              "rgb(20,44,66)"
             ],
             [
              1,
              "rgb(90,179,244)"
             ]
            ],
            "type": "heatmapgl"
           }
          ],
          "histogram": [
           {
            "marker": {
             "colorbar": {
              "outlinewidth": 0,
              "tickcolor": "rgb(237,237,237)",
              "ticklen": 6,
              "ticks": "inside"
             }
            },
            "type": "histogram"
           }
          ],
          "histogram2d": [
           {
            "colorbar": {
             "outlinewidth": 0,
             "tickcolor": "rgb(237,237,237)",
             "ticklen": 6,
             "ticks": "inside"
            },
            "colorscale": [
             [
              0,
              "rgb(20,44,66)"
             ],
             [
              1,
              "rgb(90,179,244)"
             ]
            ],
            "type": "histogram2d"
           }
          ],
          "histogram2dcontour": [
           {
            "colorbar": {
             "outlinewidth": 0,
             "tickcolor": "rgb(237,237,237)",
             "ticklen": 6,
             "ticks": "inside"
            },
            "colorscale": [
             [
              0,
              "rgb(20,44,66)"
             ],
             [
              1,
              "rgb(90,179,244)"
             ]
            ],
            "type": "histogram2dcontour"
           }
          ],
          "mesh3d": [
           {
            "colorbar": {
             "outlinewidth": 0,
             "tickcolor": "rgb(237,237,237)",
             "ticklen": 6,
             "ticks": "inside"
            },
            "type": "mesh3d"
           }
          ],
          "parcoords": [
           {
            "line": {
             "colorbar": {
              "outlinewidth": 0,
              "tickcolor": "rgb(237,237,237)",
              "ticklen": 6,
              "ticks": "inside"
             }
            },
            "type": "parcoords"
           }
          ],
          "pie": [
           {
            "automargin": true,
            "type": "pie"
           }
          ],
          "scatter": [
           {
            "marker": {
             "colorbar": {
              "outlinewidth": 0,
              "tickcolor": "rgb(237,237,237)",
              "ticklen": 6,
              "ticks": "inside"
             }
            },
            "type": "scatter"
           }
          ],
          "scatter3d": [
           {
            "line": {
             "colorbar": {
              "outlinewidth": 0,
              "tickcolor": "rgb(237,237,237)",
              "ticklen": 6,
              "ticks": "inside"
             }
            },
            "marker": {
             "colorbar": {
              "outlinewidth": 0,
              "tickcolor": "rgb(237,237,237)",
              "ticklen": 6,
              "ticks": "inside"
             }
            },
            "type": "scatter3d"
           }
          ],
          "scattercarpet": [
           {
            "marker": {
             "colorbar": {
              "outlinewidth": 0,
              "tickcolor": "rgb(237,237,237)",
              "ticklen": 6,
              "ticks": "inside"
             }
            },
            "type": "scattercarpet"
           }
          ],
          "scattergeo": [
           {
            "marker": {
             "colorbar": {
              "outlinewidth": 0,
              "tickcolor": "rgb(237,237,237)",
              "ticklen": 6,
              "ticks": "inside"
             }
            },
            "type": "scattergeo"
           }
          ],
          "scattergl": [
           {
            "marker": {
             "colorbar": {
              "outlinewidth": 0,
              "tickcolor": "rgb(237,237,237)",
              "ticklen": 6,
              "ticks": "inside"
             }
            },
            "type": "scattergl"
           }
          ],
          "scattermapbox": [
           {
            "marker": {
             "colorbar": {
              "outlinewidth": 0,
              "tickcolor": "rgb(237,237,237)",
              "ticklen": 6,
              "ticks": "inside"
             }
            },
            "type": "scattermapbox"
           }
          ],
          "scatterpolar": [
           {
            "marker": {
             "colorbar": {
              "outlinewidth": 0,
              "tickcolor": "rgb(237,237,237)",
              "ticklen": 6,
              "ticks": "inside"
             }
            },
            "type": "scatterpolar"
           }
          ],
          "scatterpolargl": [
           {
            "marker": {
             "colorbar": {
              "outlinewidth": 0,
              "tickcolor": "rgb(237,237,237)",
              "ticklen": 6,
              "ticks": "inside"
             }
            },
            "type": "scatterpolargl"
           }
          ],
          "scatterternary": [
           {
            "marker": {
             "colorbar": {
              "outlinewidth": 0,
              "tickcolor": "rgb(237,237,237)",
              "ticklen": 6,
              "ticks": "inside"
             }
            },
            "type": "scatterternary"
           }
          ],
          "surface": [
           {
            "colorbar": {
             "outlinewidth": 0,
             "tickcolor": "rgb(237,237,237)",
             "ticklen": 6,
             "ticks": "inside"
            },
            "colorscale": [
             [
              0,
              "rgb(20,44,66)"
             ],
             [
              1,
              "rgb(90,179,244)"
             ]
            ],
            "type": "surface"
           }
          ],
          "table": [
           {
            "cells": {
             "fill": {
              "color": "rgb(237,237,237)"
             },
             "line": {
              "color": "white"
             }
            },
            "header": {
             "fill": {
              "color": "rgb(217,217,217)"
             },
             "line": {
              "color": "white"
             }
            },
            "type": "table"
           }
          ]
         },
         "layout": {
          "annotationdefaults": {
           "arrowhead": 0,
           "arrowwidth": 1
          },
          "autotypenumbers": "strict",
          "coloraxis": {
           "colorbar": {
            "outlinewidth": 0,
            "tickcolor": "rgb(237,237,237)",
            "ticklen": 6,
            "ticks": "inside"
           }
          },
          "colorscale": {
           "sequential": [
            [
             0,
             "rgb(20,44,66)"
            ],
            [
             1,
             "rgb(90,179,244)"
            ]
           ],
           "sequentialminus": [
            [
             0,
             "rgb(20,44,66)"
            ],
            [
             1,
             "rgb(90,179,244)"
            ]
           ]
          },
          "colorway": [
           "#F8766D",
           "#A3A500",
           "#00BF7D",
           "#00B0F6",
           "#E76BF3"
          ],
          "font": {
           "color": "rgb(51,51,51)"
          },
          "geo": {
           "bgcolor": "white",
           "lakecolor": "white",
           "landcolor": "rgb(237,237,237)",
           "showlakes": true,
           "showland": true,
           "subunitcolor": "white"
          },
          "hoverlabel": {
           "align": "left"
          },
          "hovermode": "closest",
          "paper_bgcolor": "white",
          "plot_bgcolor": "rgb(237,237,237)",
          "polar": {
           "angularaxis": {
            "gridcolor": "white",
            "linecolor": "white",
            "showgrid": true,
            "tickcolor": "rgb(51,51,51)",
            "ticks": "outside"
           },
           "bgcolor": "rgb(237,237,237)",
           "radialaxis": {
            "gridcolor": "white",
            "linecolor": "white",
            "showgrid": true,
            "tickcolor": "rgb(51,51,51)",
            "ticks": "outside"
           }
          },
          "scene": {
           "xaxis": {
            "backgroundcolor": "rgb(237,237,237)",
            "gridcolor": "white",
            "gridwidth": 2,
            "linecolor": "white",
            "showbackground": true,
            "showgrid": true,
            "tickcolor": "rgb(51,51,51)",
            "ticks": "outside",
            "zerolinecolor": "white"
           },
           "yaxis": {
            "backgroundcolor": "rgb(237,237,237)",
            "gridcolor": "white",
            "gridwidth": 2,
            "linecolor": "white",
            "showbackground": true,
            "showgrid": true,
            "tickcolor": "rgb(51,51,51)",
            "ticks": "outside",
            "zerolinecolor": "white"
           },
           "zaxis": {
            "backgroundcolor": "rgb(237,237,237)",
            "gridcolor": "white",
            "gridwidth": 2,
            "linecolor": "white",
            "showbackground": true,
            "showgrid": true,
            "tickcolor": "rgb(51,51,51)",
            "ticks": "outside",
            "zerolinecolor": "white"
           }
          },
          "shapedefaults": {
           "fillcolor": "black",
           "line": {
            "width": 0
           },
           "opacity": 0.3
          },
          "ternary": {
           "aaxis": {
            "gridcolor": "white",
            "linecolor": "white",
            "showgrid": true,
            "tickcolor": "rgb(51,51,51)",
            "ticks": "outside"
           },
           "baxis": {
            "gridcolor": "white",
            "linecolor": "white",
            "showgrid": true,
            "tickcolor": "rgb(51,51,51)",
            "ticks": "outside"
           },
           "bgcolor": "rgb(237,237,237)",
           "caxis": {
            "gridcolor": "white",
            "linecolor": "white",
            "showgrid": true,
            "tickcolor": "rgb(51,51,51)",
            "ticks": "outside"
           }
          },
          "xaxis": {
           "automargin": true,
           "gridcolor": "white",
           "linecolor": "white",
           "showgrid": true,
           "tickcolor": "rgb(51,51,51)",
           "ticks": "outside",
           "title": {
            "standoff": 15
           },
           "zerolinecolor": "white"
          },
          "yaxis": {
           "automargin": true,
           "gridcolor": "white",
           "linecolor": "white",
           "showgrid": true,
           "tickcolor": "rgb(51,51,51)",
           "ticks": "outside",
           "title": {
            "standoff": 15
           },
           "zerolinecolor": "white"
          }
         }
        },
        "title": {
         "text": "Churn by Tenure"
        },
        "treemapcolorway": [
         "skyblue",
         "crimson"
        ]
       }
      },
      "text/html": [
       "<div>                            <div id=\"b9dff6de-7794-4912-9822-9de099b5a54d\" class=\"plotly-graph-div\" style=\"height:525px; width:100%;\"></div>            <script type=\"text/javascript\">                require([\"plotly\"], function(Plotly) {                    window.PLOTLYENV=window.PLOTLYENV || {};                                    if (document.getElementById(\"b9dff6de-7794-4912-9822-9de099b5a54d\")) {                    Plotly.newPlot(                        \"b9dff6de-7794-4912-9822-9de099b5a54d\",                        [{\"branchvalues\": \"total\", \"domain\": {\"x\": [0.0, 1.0], \"y\": [0.0, 1.0]}, \"hovertemplate\": \"labels=%{label}<br>Customers=%{value}<br>parent=%{parent}<br>id=%{id}<extra></extra>\", \"ids\": [\"No/0.0\", \"No/1.0\", \"Yes/1.0\", \"No/2.0\", \"Yes/2.0\", \"No/3.0\", \"Yes/3.0\", \"No/4.0\", \"Yes/4.0\", \"No/5.0\", \"Yes/5.0\", \"No/6.0\", \"Yes/6.0\", \"No/7.0\", \"Yes/7.0\", \"No/8.0\", \"Yes/8.0\", \"No/9.0\", \"Yes/9.0\", \"No/10.0\", \"Yes/10.0\", \"No/11.0\", \"Yes/11.0\", \"No/12.0\", \"Yes/12.0\", \"No/13.0\", \"Yes/13.0\", \"No/14.0\", \"Yes/14.0\", \"No/15.0\", \"Yes/15.0\", \"No/16.0\", \"Yes/16.0\", \"No/17.0\", \"Yes/17.0\", \"No/18.0\", \"Yes/18.0\", \"No/19.0\", \"Yes/19.0\", \"No/20.0\", \"Yes/20.0\", \"No/21.0\", \"Yes/21.0\", \"No/22.0\", \"Yes/22.0\", \"No/23.0\", \"Yes/23.0\", \"No/24.0\", \"Yes/24.0\", \"No/25.0\", \"Yes/25.0\", \"No/26.0\", \"Yes/26.0\", \"No/27.0\", \"Yes/27.0\", \"No/28.0\", \"Yes/28.0\", \"No/29.0\", \"Yes/29.0\", \"No/30.0\", \"Yes/30.0\", \"No/31.0\", \"Yes/31.0\", \"No/32.0\", \"Yes/32.0\", \"No/33.0\", \"Yes/33.0\", \"No/34.0\", \"Yes/34.0\", \"No/35.0\", \"Yes/35.0\", \"No/36.0\", \"No/37.0\", \"Yes/37.0\", \"No/38.0\", \"Yes/38.0\", \"No/39.0\", \"Yes/39.0\", \"No/40.0\", \"Yes/40.0\", \"No/41.0\", \"Yes/41.0\", \"No/42.0\", \"Yes/42.0\", \"No/43.0\", \"Yes/43.0\", \"No/44.0\", \"Yes/44.0\", \"No/45.0\", \"Yes/45.0\", \"No/46.0\", \"Yes/46.0\", \"No/47.0\", \"Yes/47.0\", \"No/48.0\", \"Yes/48.0\", \"No/49.0\", \"Yes/49.0\", \"No/50.0\", \"Yes/50.0\", \"No/51.0\", \"Yes/51.0\", \"No/52.0\", \"Yes/52.0\", \"No/53.0\", \"Yes/53.0\", \"No/54.0\", \"Yes/54.0\", \"No/55.0\", \"Yes/55.0\", \"No/56.0\", \"Yes/56.0\", \"No/57.0\", \"Yes/57.0\", \"No/58.0\", \"Yes/58.0\", \"No/59.0\", \"Yes/59.0\", \"No/60.0\", \"Yes/60.0\", \"No/61.0\", \"Yes/61.0\", \"No/62.0\", \"Yes/62.0\", \"No/63.0\", \"Yes/63.0\", \"No/64.0\", \"Yes/64.0\", \"No/65.0\", \"Yes/65.0\", \"No/66.0\", \"Yes/66.0\", \"No/67.0\", \"Yes/67.0\", \"No/68.0\", \"Yes/68.0\", \"No/69.0\", \"Yes/69.0\", \"No/70.0\", \"Yes/70.0\", \"No/71.0\", \"Yes/71.0\", \"No/72.0\", \"No\", \"Yes\"], \"labels\": [\"0.0\", \"1.0\", \"1.0\", \"2.0\", \"2.0\", \"3.0\", \"3.0\", \"4.0\", \"4.0\", \"5.0\", \"5.0\", \"6.0\", \"6.0\", \"7.0\", \"7.0\", \"8.0\", \"8.0\", \"9.0\", \"9.0\", \"10.0\", \"10.0\", \"11.0\", \"11.0\", \"12.0\", \"12.0\", \"13.0\", \"13.0\", \"14.0\", \"14.0\", \"15.0\", \"15.0\", \"16.0\", \"16.0\", \"17.0\", \"17.0\", \"18.0\", \"18.0\", \"19.0\", \"19.0\", \"20.0\", \"20.0\", \"21.0\", \"21.0\", \"22.0\", \"22.0\", \"23.0\", \"23.0\", \"24.0\", \"24.0\", \"25.0\", \"25.0\", \"26.0\", \"26.0\", \"27.0\", \"27.0\", \"28.0\", \"28.0\", \"29.0\", \"29.0\", \"30.0\", \"30.0\", \"31.0\", \"31.0\", \"32.0\", \"32.0\", \"33.0\", \"33.0\", \"34.0\", \"34.0\", \"35.0\", \"35.0\", \"36.0\", \"37.0\", \"37.0\", \"38.0\", \"38.0\", \"39.0\", \"39.0\", \"40.0\", \"40.0\", \"41.0\", \"41.0\", \"42.0\", \"42.0\", \"43.0\", \"43.0\", \"44.0\", \"44.0\", \"45.0\", \"45.0\", \"46.0\", \"46.0\", \"47.0\", \"47.0\", \"48.0\", \"48.0\", \"49.0\", \"49.0\", \"50.0\", \"50.0\", \"51.0\", \"51.0\", \"52.0\", \"52.0\", \"53.0\", \"53.0\", \"54.0\", \"54.0\", \"55.0\", \"55.0\", \"56.0\", \"56.0\", \"57.0\", \"57.0\", \"58.0\", \"58.0\", \"59.0\", \"59.0\", \"60.0\", \"60.0\", \"61.0\", \"61.0\", \"62.0\", \"62.0\", \"63.0\", \"63.0\", \"64.0\", \"64.0\", \"65.0\", \"65.0\", \"66.0\", \"66.0\", \"67.0\", \"67.0\", \"68.0\", \"68.0\", \"69.0\", \"69.0\", \"70.0\", \"70.0\", \"71.0\", \"71.0\", \"72.0\", \"No\", \"Yes\"], \"name\": \"\", \"parents\": [\"No\", \"No\", \"Yes\", \"No\", \"Yes\", \"No\", \"Yes\", \"No\", \"Yes\", \"No\", \"Yes\", \"No\", \"Yes\", \"No\", \"Yes\", \"No\", \"Yes\", \"No\", \"Yes\", \"No\", \"Yes\", \"No\", \"Yes\", \"No\", \"Yes\", \"No\", \"Yes\", \"No\", \"Yes\", \"No\", \"Yes\", \"No\", \"Yes\", \"No\", \"Yes\", \"No\", \"Yes\", \"No\", \"Yes\", \"No\", \"Yes\", \"No\", \"Yes\", \"No\", \"Yes\", \"No\", \"Yes\", \"No\", \"Yes\", \"No\", \"Yes\", \"No\", \"Yes\", \"No\", \"Yes\", \"No\", \"Yes\", \"No\", \"Yes\", \"No\", \"Yes\", \"No\", \"Yes\", \"No\", \"Yes\", \"No\", \"Yes\", \"No\", \"Yes\", \"No\", \"Yes\", \"No\", \"No\", \"Yes\", \"No\", \"Yes\", \"No\", \"Yes\", \"No\", \"Yes\", \"No\", \"Yes\", \"No\", \"Yes\", \"No\", \"Yes\", \"No\", \"Yes\", \"No\", \"Yes\", \"No\", \"Yes\", \"No\", \"Yes\", \"No\", \"Yes\", \"No\", \"Yes\", \"No\", \"Yes\", \"No\", \"Yes\", \"No\", \"Yes\", \"No\", \"Yes\", \"No\", \"Yes\", \"No\", \"Yes\", \"No\", \"Yes\", \"No\", \"Yes\", \"No\", \"Yes\", \"No\", \"Yes\", \"No\", \"Yes\", \"No\", \"Yes\", \"No\", \"Yes\", \"No\", \"Yes\", \"No\", \"Yes\", \"No\", \"Yes\", \"No\", \"Yes\", \"No\", \"Yes\", \"No\", \"Yes\", \"No\", \"Yes\", \"No\", \"Yes\", \"No\", \"Yes\", \"No\", \"\", \"\"], \"type\": \"treemap\", \"values\": [5, 79, 115, 33, 51, 41, 24, 22, 25, 28, 21, 15, 7, 28, 20, 25, 15, 16, 10, 21, 18, 23, 10, 25, 14, 19, 12, 21, 7, 19, 15, 20, 9, 20, 10, 15, 8, 9, 7, 24, 5, 12, 5, 24, 8, 34, 6, 22, 9, 13, 6, 13, 3, 24, 4, 13, 3, 21, 3, 22, 5, 16, 2, 21, 7, 15, 4, 16, 8, 24, 5, 16, 13, 4, 13, 4, 11, 3, 15, 4, 18, 5, 18, 2, 16, 4, 12, 2, 24, 1, 25, 3, 21, 5, 17, 2, 13, 6, 18, 3, 22, 2, 26, 3, 14, 3, 17, 1, 12, 3, 26, 4, 12, 3, 16, 4, 13, 5, 23, 4, 20, 2, 21, 3, 25, 3, 22, 1, 23, 4, 27, 3, 22, 4, 26, 3, 28, 2, 31, 2, 56, 1, 124, 1654, 589]}],                        {\"autosize\": true, \"legend\": {\"tracegroupgap\": 0, \"x\": 0.5, \"xanchor\": \"left\", \"y\": 0.95, \"yanchor\": \"top\"}, \"margin\": {\"b\": 0, \"l\": 0, \"r\": 0, \"t\": 30}, \"template\": {\"data\": {\"bar\": [{\"error_x\": {\"color\": \"rgb(51,51,51)\"}, \"error_y\": {\"color\": \"rgb(51,51,51)\"}, \"marker\": {\"line\": {\"color\": \"rgb(237,237,237)\", \"width\": 0.5}}, \"type\": \"bar\"}], \"barpolar\": [{\"marker\": {\"line\": {\"color\": \"rgb(237,237,237)\", \"width\": 0.5}}, \"type\": \"barpolar\"}], \"carpet\": [{\"aaxis\": {\"endlinecolor\": \"rgb(51,51,51)\", \"gridcolor\": \"white\", \"linecolor\": \"white\", \"minorgridcolor\": \"white\", \"startlinecolor\": \"rgb(51,51,51)\"}, \"baxis\": {\"endlinecolor\": \"rgb(51,51,51)\", \"gridcolor\": \"white\", \"linecolor\": \"white\", \"minorgridcolor\": \"white\", \"startlinecolor\": \"rgb(51,51,51)\"}, \"type\": \"carpet\"}], \"choropleth\": [{\"colorbar\": {\"outlinewidth\": 0, \"tickcolor\": \"rgb(237,237,237)\", \"ticklen\": 6, \"ticks\": \"inside\"}, \"type\": \"choropleth\"}], \"contour\": [{\"colorbar\": {\"outlinewidth\": 0, \"tickcolor\": \"rgb(237,237,237)\", \"ticklen\": 6, \"ticks\": \"inside\"}, \"colorscale\": [[0, \"rgb(20,44,66)\"], [1, \"rgb(90,179,244)\"]], \"type\": \"contour\"}], \"contourcarpet\": [{\"colorbar\": {\"outlinewidth\": 0, \"tickcolor\": \"rgb(237,237,237)\", \"ticklen\": 6, \"ticks\": \"inside\"}, \"type\": \"contourcarpet\"}], \"heatmap\": [{\"colorbar\": {\"outlinewidth\": 0, \"tickcolor\": \"rgb(237,237,237)\", \"ticklen\": 6, \"ticks\": \"inside\"}, \"colorscale\": [[0, \"rgb(20,44,66)\"], [1, \"rgb(90,179,244)\"]], \"type\": \"heatmap\"}], \"heatmapgl\": [{\"colorbar\": {\"outlinewidth\": 0, \"tickcolor\": \"rgb(237,237,237)\", \"ticklen\": 6, \"ticks\": \"inside\"}, \"colorscale\": [[0, \"rgb(20,44,66)\"], [1, \"rgb(90,179,244)\"]], \"type\": \"heatmapgl\"}], \"histogram\": [{\"marker\": {\"colorbar\": {\"outlinewidth\": 0, \"tickcolor\": \"rgb(237,237,237)\", \"ticklen\": 6, \"ticks\": \"inside\"}}, \"type\": \"histogram\"}], \"histogram2d\": [{\"colorbar\": {\"outlinewidth\": 0, \"tickcolor\": \"rgb(237,237,237)\", \"ticklen\": 6, \"ticks\": \"inside\"}, \"colorscale\": [[0, \"rgb(20,44,66)\"], [1, \"rgb(90,179,244)\"]], \"type\": \"histogram2d\"}], \"histogram2dcontour\": [{\"colorbar\": {\"outlinewidth\": 0, \"tickcolor\": \"rgb(237,237,237)\", \"ticklen\": 6, \"ticks\": \"inside\"}, \"colorscale\": [[0, \"rgb(20,44,66)\"], [1, \"rgb(90,179,244)\"]], \"type\": \"histogram2dcontour\"}], \"mesh3d\": [{\"colorbar\": {\"outlinewidth\": 0, \"tickcolor\": \"rgb(237,237,237)\", \"ticklen\": 6, \"ticks\": \"inside\"}, \"type\": \"mesh3d\"}], \"parcoords\": [{\"line\": {\"colorbar\": {\"outlinewidth\": 0, \"tickcolor\": \"rgb(237,237,237)\", \"ticklen\": 6, \"ticks\": \"inside\"}}, \"type\": \"parcoords\"}], \"pie\": [{\"automargin\": true, \"type\": \"pie\"}], \"scatter\": [{\"marker\": {\"colorbar\": {\"outlinewidth\": 0, \"tickcolor\": \"rgb(237,237,237)\", \"ticklen\": 6, \"ticks\": \"inside\"}}, \"type\": \"scatter\"}], \"scatter3d\": [{\"line\": {\"colorbar\": {\"outlinewidth\": 0, \"tickcolor\": \"rgb(237,237,237)\", \"ticklen\": 6, \"ticks\": \"inside\"}}, \"marker\": {\"colorbar\": {\"outlinewidth\": 0, \"tickcolor\": \"rgb(237,237,237)\", \"ticklen\": 6, \"ticks\": \"inside\"}}, \"type\": \"scatter3d\"}], \"scattercarpet\": [{\"marker\": {\"colorbar\": {\"outlinewidth\": 0, \"tickcolor\": \"rgb(237,237,237)\", \"ticklen\": 6, \"ticks\": \"inside\"}}, \"type\": \"scattercarpet\"}], \"scattergeo\": [{\"marker\": {\"colorbar\": {\"outlinewidth\": 0, \"tickcolor\": \"rgb(237,237,237)\", \"ticklen\": 6, \"ticks\": \"inside\"}}, \"type\": \"scattergeo\"}], \"scattergl\": [{\"marker\": {\"colorbar\": {\"outlinewidth\": 0, \"tickcolor\": \"rgb(237,237,237)\", \"ticklen\": 6, \"ticks\": \"inside\"}}, \"type\": \"scattergl\"}], \"scattermapbox\": [{\"marker\": {\"colorbar\": {\"outlinewidth\": 0, \"tickcolor\": \"rgb(237,237,237)\", \"ticklen\": 6, \"ticks\": \"inside\"}}, \"type\": \"scattermapbox\"}], \"scatterpolar\": [{\"marker\": {\"colorbar\": {\"outlinewidth\": 0, \"tickcolor\": \"rgb(237,237,237)\", \"ticklen\": 6, \"ticks\": \"inside\"}}, \"type\": \"scatterpolar\"}], \"scatterpolargl\": [{\"marker\": {\"colorbar\": {\"outlinewidth\": 0, \"tickcolor\": \"rgb(237,237,237)\", \"ticklen\": 6, \"ticks\": \"inside\"}}, \"type\": \"scatterpolargl\"}], \"scatterternary\": [{\"marker\": {\"colorbar\": {\"outlinewidth\": 0, \"tickcolor\": \"rgb(237,237,237)\", \"ticklen\": 6, \"ticks\": \"inside\"}}, \"type\": \"scatterternary\"}], \"surface\": [{\"colorbar\": {\"outlinewidth\": 0, \"tickcolor\": \"rgb(237,237,237)\", \"ticklen\": 6, \"ticks\": \"inside\"}, \"colorscale\": [[0, \"rgb(20,44,66)\"], [1, \"rgb(90,179,244)\"]], \"type\": \"surface\"}], \"table\": [{\"cells\": {\"fill\": {\"color\": \"rgb(237,237,237)\"}, \"line\": {\"color\": \"white\"}}, \"header\": {\"fill\": {\"color\": \"rgb(217,217,217)\"}, \"line\": {\"color\": \"white\"}}, \"type\": \"table\"}]}, \"layout\": {\"annotationdefaults\": {\"arrowhead\": 0, \"arrowwidth\": 1}, \"autotypenumbers\": \"strict\", \"coloraxis\": {\"colorbar\": {\"outlinewidth\": 0, \"tickcolor\": \"rgb(237,237,237)\", \"ticklen\": 6, \"ticks\": \"inside\"}}, \"colorscale\": {\"sequential\": [[0, \"rgb(20,44,66)\"], [1, \"rgb(90,179,244)\"]], \"sequentialminus\": [[0, \"rgb(20,44,66)\"], [1, \"rgb(90,179,244)\"]]}, \"colorway\": [\"#F8766D\", \"#A3A500\", \"#00BF7D\", \"#00B0F6\", \"#E76BF3\"], \"font\": {\"color\": \"rgb(51,51,51)\"}, \"geo\": {\"bgcolor\": \"white\", \"lakecolor\": \"white\", \"landcolor\": \"rgb(237,237,237)\", \"showlakes\": true, \"showland\": true, \"subunitcolor\": \"white\"}, \"hoverlabel\": {\"align\": \"left\"}, \"hovermode\": \"closest\", \"paper_bgcolor\": \"white\", \"plot_bgcolor\": \"rgb(237,237,237)\", \"polar\": {\"angularaxis\": {\"gridcolor\": \"white\", \"linecolor\": \"white\", \"showgrid\": true, \"tickcolor\": \"rgb(51,51,51)\", \"ticks\": \"outside\"}, \"bgcolor\": \"rgb(237,237,237)\", \"radialaxis\": {\"gridcolor\": \"white\", \"linecolor\": \"white\", \"showgrid\": true, \"tickcolor\": \"rgb(51,51,51)\", \"ticks\": \"outside\"}}, \"scene\": {\"xaxis\": {\"backgroundcolor\": \"rgb(237,237,237)\", \"gridcolor\": \"white\", \"gridwidth\": 2, \"linecolor\": \"white\", \"showbackground\": true, \"showgrid\": true, \"tickcolor\": \"rgb(51,51,51)\", \"ticks\": \"outside\", \"zerolinecolor\": \"white\"}, \"yaxis\": {\"backgroundcolor\": \"rgb(237,237,237)\", \"gridcolor\": \"white\", \"gridwidth\": 2, \"linecolor\": \"white\", \"showbackground\": true, \"showgrid\": true, \"tickcolor\": \"rgb(51,51,51)\", \"ticks\": \"outside\", \"zerolinecolor\": \"white\"}, \"zaxis\": {\"backgroundcolor\": \"rgb(237,237,237)\", \"gridcolor\": \"white\", \"gridwidth\": 2, \"linecolor\": \"white\", \"showbackground\": true, \"showgrid\": true, \"tickcolor\": \"rgb(51,51,51)\", \"ticks\": \"outside\", \"zerolinecolor\": \"white\"}}, \"shapedefaults\": {\"fillcolor\": \"black\", \"line\": {\"width\": 0}, \"opacity\": 0.3}, \"ternary\": {\"aaxis\": {\"gridcolor\": \"white\", \"linecolor\": \"white\", \"showgrid\": true, \"tickcolor\": \"rgb(51,51,51)\", \"ticks\": \"outside\"}, \"baxis\": {\"gridcolor\": \"white\", \"linecolor\": \"white\", \"showgrid\": true, \"tickcolor\": \"rgb(51,51,51)\", \"ticks\": \"outside\"}, \"bgcolor\": \"rgb(237,237,237)\", \"caxis\": {\"gridcolor\": \"white\", \"linecolor\": \"white\", \"showgrid\": true, \"tickcolor\": \"rgb(51,51,51)\", \"ticks\": \"outside\"}}, \"xaxis\": {\"automargin\": true, \"gridcolor\": \"white\", \"linecolor\": \"white\", \"showgrid\": true, \"tickcolor\": \"rgb(51,51,51)\", \"ticks\": \"outside\", \"title\": {\"standoff\": 15}, \"zerolinecolor\": \"white\"}, \"yaxis\": {\"automargin\": true, \"gridcolor\": \"white\", \"linecolor\": \"white\", \"showgrid\": true, \"tickcolor\": \"rgb(51,51,51)\", \"ticks\": \"outside\", \"title\": {\"standoff\": 15}, \"zerolinecolor\": \"white\"}}}, \"title\": {\"text\": \"Churn by Tenure\"}, \"treemapcolorway\": [\"skyblue\", \"crimson\"]},                        {\"responsive\": true}                    ).then(function(){\n",
       "                            \n",
       "var gd = document.getElementById('b9dff6de-7794-4912-9822-9de099b5a54d');\n",
       "var x = new MutationObserver(function (mutations, observer) {{\n",
       "        var display = window.getComputedStyle(gd).display;\n",
       "        if (!display || display === 'none') {{\n",
       "            console.log([gd, 'removed!']);\n",
       "            Plotly.purge(gd);\n",
       "            observer.disconnect();\n",
       "        }}\n",
       "}});\n",
       "\n",
       "// Listen for the removal of the full notebook cells\n",
       "var notebookContainer = gd.closest('#notebook-container');\n",
       "if (notebookContainer) {{\n",
       "    x.observe(notebookContainer, {childList: true});\n",
       "}}\n",
       "\n",
       "// Listen for the clearing of the current output cell\n",
       "var outputEl = gd.closest('.output');\n",
       "if (outputEl) {{\n",
       "    x.observe(outputEl, {childList: true});\n",
       "}}\n",
       "\n",
       "                        })                };                });            </script>        </div>"
      ]
     },
     "metadata": {},
     "output_type": "display_data"
    }
   ],
   "source": [
    "colors = ['skyblue','crimson']\n",
    "tenure_barchart = px.treemap(tenure_attrition_df, path=['Churn', 'Tenure'], values='Customers',color_discrete_sequence=colors,\n",
    "                            title='Churn by Tenure')\n",
    "tenure_barchart.update_layout(legend=dict(yanchor=\"top\",y=0.95,xanchor=\"left\",x=0.50),autosize=True,margin=dict(t=30,b=0,l=0,r=0)) \n",
    "tenure_barchart"
   ]
  },
  {
   "cell_type": "markdown",
   "metadata": {},
   "source": [
    "## Data Preprocessing"
   ]
  },
  {
   "cell_type": "markdown",
   "metadata": {},
   "source": [
    "Check for null values"
   ]
  },
  {
   "cell_type": "code",
   "execution_count": 160,
   "metadata": {},
   "outputs": [
    {
     "data": {
      "text/plain": [
       "customerID          0\n",
       "gender              1\n",
       "SeniorCitizen       1\n",
       "Partner             1\n",
       "Dependents          1\n",
       "tenure              1\n",
       "PhoneService        1\n",
       "MultipleLines       1\n",
       "InternetService     1\n",
       "OnlineSecurity      1\n",
       "OnlineBackup        1\n",
       "DeviceProtection    1\n",
       "TechSupport         1\n",
       "StreamingTV         1\n",
       "StreamingMovies     1\n",
       "Contract            1\n",
       "PaperlessBilling    1\n",
       "PaymentMethod       1\n",
       "MonthlyCharges      1\n",
       "TotalCharges        6\n",
       "Churn               1\n",
       "dtype: int64"
      ]
     },
     "execution_count": 160,
     "metadata": {},
     "output_type": "execute_result"
    }
   ],
   "source": [
    "df.isnull().sum()"
   ]
  },
  {
   "cell_type": "code",
   "execution_count": 161,
   "metadata": {},
   "outputs": [],
   "source": [
    "df['TotalCharges']=df['TotalCharges'].fillna(df['TotalCharges'].mean()) # Impute TotalCharges null values with mean TotalCharges"
   ]
  },
  {
   "cell_type": "code",
   "execution_count": 162,
   "metadata": {},
   "outputs": [],
   "source": [
    "df=df.dropna() # Drop other null columns"
   ]
  },
  {
   "cell_type": "markdown",
   "metadata": {},
   "source": [
    "Convert Predictor to binary"
   ]
  },
  {
   "cell_type": "code",
   "execution_count": 163,
   "metadata": {},
   "outputs": [],
   "source": [
    "df['Churn'].replace(to_replace='Yes', value=1, inplace=True)\n",
    "df['Churn'].replace(to_replace='No', value=0, inplace=True)"
   ]
  },
  {
   "cell_type": "markdown",
   "metadata": {},
   "source": [
    "Dummy encode categorical features"
   ]
  },
  {
   "cell_type": "code",
   "execution_count": 164,
   "metadata": {},
   "outputs": [],
   "source": [
    "df['SeniorCitizen'] = df['SeniorCitizen'].astype(str)  # convert SeniorCitizen column to string"
   ]
  },
  {
   "cell_type": "code",
   "execution_count": 165,
   "metadata": {},
   "outputs": [],
   "source": [
    "data_columns=['gender','Partner','Dependents','PhoneService','MultipleLines','InternetService','OnlineSecurity','OnlineBackup','DeviceProtection', 'TechSupport', 'StreamingTV','StreamingMovies','Contract', 'PaperlessBilling', 'PaymentMethod','SeniorCitizen']"
   ]
  },
  {
   "cell_type": "code",
   "execution_count": 166,
   "metadata": {},
   "outputs": [
    {
     "data": {
      "text/html": [
       "<div>\n",
       "<style scoped>\n",
       "    .dataframe tbody tr th:only-of-type {\n",
       "        vertical-align: middle;\n",
       "    }\n",
       "\n",
       "    .dataframe tbody tr th {\n",
       "        vertical-align: top;\n",
       "    }\n",
       "\n",
       "    .dataframe thead th {\n",
       "        text-align: right;\n",
       "    }\n",
       "</style>\n",
       "<table border=\"1\" class=\"dataframe\">\n",
       "  <thead>\n",
       "    <tr style=\"text-align: right;\">\n",
       "      <th></th>\n",
       "      <th>customerID</th>\n",
       "      <th>tenure</th>\n",
       "      <th>MonthlyCharges</th>\n",
       "      <th>TotalCharges</th>\n",
       "      <th>Churn</th>\n",
       "      <th>gender_Female</th>\n",
       "      <th>gender_Male</th>\n",
       "      <th>Partner_No</th>\n",
       "      <th>Partner_Yes</th>\n",
       "      <th>Dependents_No</th>\n",
       "      <th>...</th>\n",
       "      <th>Contract_One year</th>\n",
       "      <th>Contract_Two year</th>\n",
       "      <th>PaperlessBilling_No</th>\n",
       "      <th>PaperlessBilling_Yes</th>\n",
       "      <th>PaymentMethod_Bank transfer (automatic)</th>\n",
       "      <th>PaymentMethod_Credit card (automatic)</th>\n",
       "      <th>PaymentMethod_Electronic check</th>\n",
       "      <th>PaymentMethod_Mailed check</th>\n",
       "      <th>SeniorCitizen_0.0</th>\n",
       "      <th>SeniorCitizen_1.0</th>\n",
       "    </tr>\n",
       "  </thead>\n",
       "  <tbody>\n",
       "    <tr>\n",
       "      <th>0</th>\n",
       "      <td>7590-VHVEG</td>\n",
       "      <td>1.0</td>\n",
       "      <td>29.85</td>\n",
       "      <td>29.85</td>\n",
       "      <td>0</td>\n",
       "      <td>1</td>\n",
       "      <td>0</td>\n",
       "      <td>0</td>\n",
       "      <td>1</td>\n",
       "      <td>1</td>\n",
       "      <td>...</td>\n",
       "      <td>0</td>\n",
       "      <td>0</td>\n",
       "      <td>0</td>\n",
       "      <td>1</td>\n",
       "      <td>0</td>\n",
       "      <td>0</td>\n",
       "      <td>1</td>\n",
       "      <td>0</td>\n",
       "      <td>1</td>\n",
       "      <td>0</td>\n",
       "    </tr>\n",
       "    <tr>\n",
       "      <th>1</th>\n",
       "      <td>5575-GNVDE</td>\n",
       "      <td>34.0</td>\n",
       "      <td>56.95</td>\n",
       "      <td>1889.50</td>\n",
       "      <td>0</td>\n",
       "      <td>0</td>\n",
       "      <td>1</td>\n",
       "      <td>1</td>\n",
       "      <td>0</td>\n",
       "      <td>1</td>\n",
       "      <td>...</td>\n",
       "      <td>1</td>\n",
       "      <td>0</td>\n",
       "      <td>1</td>\n",
       "      <td>0</td>\n",
       "      <td>0</td>\n",
       "      <td>0</td>\n",
       "      <td>0</td>\n",
       "      <td>1</td>\n",
       "      <td>1</td>\n",
       "      <td>0</td>\n",
       "    </tr>\n",
       "    <tr>\n",
       "      <th>2</th>\n",
       "      <td>3668-QPYBK</td>\n",
       "      <td>2.0</td>\n",
       "      <td>53.85</td>\n",
       "      <td>108.15</td>\n",
       "      <td>1</td>\n",
       "      <td>0</td>\n",
       "      <td>1</td>\n",
       "      <td>1</td>\n",
       "      <td>0</td>\n",
       "      <td>1</td>\n",
       "      <td>...</td>\n",
       "      <td>0</td>\n",
       "      <td>0</td>\n",
       "      <td>0</td>\n",
       "      <td>1</td>\n",
       "      <td>0</td>\n",
       "      <td>0</td>\n",
       "      <td>0</td>\n",
       "      <td>1</td>\n",
       "      <td>1</td>\n",
       "      <td>0</td>\n",
       "    </tr>\n",
       "    <tr>\n",
       "      <th>3</th>\n",
       "      <td>7795-CFOCW</td>\n",
       "      <td>45.0</td>\n",
       "      <td>42.30</td>\n",
       "      <td>1840.75</td>\n",
       "      <td>0</td>\n",
       "      <td>0</td>\n",
       "      <td>1</td>\n",
       "      <td>1</td>\n",
       "      <td>0</td>\n",
       "      <td>1</td>\n",
       "      <td>...</td>\n",
       "      <td>1</td>\n",
       "      <td>0</td>\n",
       "      <td>1</td>\n",
       "      <td>0</td>\n",
       "      <td>1</td>\n",
       "      <td>0</td>\n",
       "      <td>0</td>\n",
       "      <td>0</td>\n",
       "      <td>1</td>\n",
       "      <td>0</td>\n",
       "    </tr>\n",
       "    <tr>\n",
       "      <th>4</th>\n",
       "      <td>9237-HQITU</td>\n",
       "      <td>2.0</td>\n",
       "      <td>70.70</td>\n",
       "      <td>151.65</td>\n",
       "      <td>1</td>\n",
       "      <td>1</td>\n",
       "      <td>0</td>\n",
       "      <td>1</td>\n",
       "      <td>0</td>\n",
       "      <td>1</td>\n",
       "      <td>...</td>\n",
       "      <td>0</td>\n",
       "      <td>0</td>\n",
       "      <td>0</td>\n",
       "      <td>1</td>\n",
       "      <td>0</td>\n",
       "      <td>0</td>\n",
       "      <td>1</td>\n",
       "      <td>0</td>\n",
       "      <td>1</td>\n",
       "      <td>0</td>\n",
       "    </tr>\n",
       "  </tbody>\n",
       "</table>\n",
       "<p>5 rows × 48 columns</p>\n",
       "</div>"
      ],
      "text/plain": [
       "   customerID  tenure  MonthlyCharges  TotalCharges  Churn  gender_Female  \\\n",
       "0  7590-VHVEG     1.0           29.85         29.85      0              1   \n",
       "1  5575-GNVDE    34.0           56.95       1889.50      0              0   \n",
       "2  3668-QPYBK     2.0           53.85        108.15      1              0   \n",
       "3  7795-CFOCW    45.0           42.30       1840.75      0              0   \n",
       "4  9237-HQITU     2.0           70.70        151.65      1              1   \n",
       "\n",
       "   gender_Male  Partner_No  Partner_Yes  Dependents_No  ...  \\\n",
       "0            0           0            1              1  ...   \n",
       "1            1           1            0              1  ...   \n",
       "2            1           1            0              1  ...   \n",
       "3            1           1            0              1  ...   \n",
       "4            0           1            0              1  ...   \n",
       "\n",
       "   Contract_One year  Contract_Two year  PaperlessBilling_No  \\\n",
       "0                  0                  0                    0   \n",
       "1                  1                  0                    1   \n",
       "2                  0                  0                    0   \n",
       "3                  1                  0                    1   \n",
       "4                  0                  0                    0   \n",
       "\n",
       "   PaperlessBilling_Yes  PaymentMethod_Bank transfer (automatic)  \\\n",
       "0                     1                                        0   \n",
       "1                     0                                        0   \n",
       "2                     1                                        0   \n",
       "3                     0                                        1   \n",
       "4                     1                                        0   \n",
       "\n",
       "   PaymentMethod_Credit card (automatic)  PaymentMethod_Electronic check  \\\n",
       "0                                      0                               1   \n",
       "1                                      0                               0   \n",
       "2                                      0                               0   \n",
       "3                                      0                               0   \n",
       "4                                      0                               1   \n",
       "\n",
       "   PaymentMethod_Mailed check  SeniorCitizen_0.0  SeniorCitizen_1.0  \n",
       "0                           0                  1                  0  \n",
       "1                           1                  1                  0  \n",
       "2                           1                  1                  0  \n",
       "3                           0                  1                  0  \n",
       "4                           0                  1                  0  \n",
       "\n",
       "[5 rows x 48 columns]"
      ]
     },
     "execution_count": 166,
     "metadata": {},
     "output_type": "execute_result"
    }
   ],
   "source": [
    "df=pd.get_dummies(df,columns=data_columns)\n",
    "df.head()"
   ]
  },
  {
   "cell_type": "markdown",
   "metadata": {},
   "source": [
    "Correlation of Churn with other feature"
   ]
  },
  {
   "cell_type": "code",
   "execution_count": 169,
   "metadata": {},
   "outputs": [
    {
     "data": {
      "text/html": [
       "<div>\n",
       "<style scoped>\n",
       "    .dataframe tbody tr th:only-of-type {\n",
       "        vertical-align: middle;\n",
       "    }\n",
       "\n",
       "    .dataframe tbody tr th {\n",
       "        vertical-align: top;\n",
       "    }\n",
       "\n",
       "    .dataframe thead th {\n",
       "        text-align: right;\n",
       "    }\n",
       "</style>\n",
       "<table border=\"1\" class=\"dataframe\">\n",
       "  <thead>\n",
       "    <tr style=\"text-align: right;\">\n",
       "      <th></th>\n",
       "      <th>Features</th>\n",
       "      <th>Correlation</th>\n",
       "      <th>Correlation Type</th>\n",
       "    </tr>\n",
       "  </thead>\n",
       "  <tbody>\n",
       "    <tr>\n",
       "      <th>36</th>\n",
       "      <td>Contract_Month-to-month</td>\n",
       "      <td>0.421983</td>\n",
       "      <td>positive</td>\n",
       "    </tr>\n",
       "    <tr>\n",
       "      <th>27</th>\n",
       "      <td>TechSupport_No</td>\n",
       "      <td>0.372957</td>\n",
       "      <td>positive</td>\n",
       "    </tr>\n",
       "    <tr>\n",
       "      <th>18</th>\n",
       "      <td>OnlineSecurity_No</td>\n",
       "      <td>0.350045</td>\n",
       "      <td>positive</td>\n",
       "    </tr>\n",
       "    <tr>\n",
       "      <th>16</th>\n",
       "      <td>InternetService_Fiber optic</td>\n",
       "      <td>0.327067</td>\n",
       "      <td>positive</td>\n",
       "    </tr>\n",
       "    <tr>\n",
       "      <th>43</th>\n",
       "      <td>PaymentMethod_Electronic check</td>\n",
       "      <td>0.324530</td>\n",
       "      <td>positive</td>\n",
       "    </tr>\n",
       "  </tbody>\n",
       "</table>\n",
       "</div>"
      ],
      "text/plain": [
       "                          Features  Correlation Correlation Type\n",
       "36         Contract_Month-to-month     0.421983         positive\n",
       "27                  TechSupport_No     0.372957         positive\n",
       "18               OnlineSecurity_No     0.350045         positive\n",
       "16     InternetService_Fiber optic     0.327067         positive\n",
       "43  PaymentMethod_Electronic check     0.324530         positive"
      ]
     },
     "execution_count": 169,
     "metadata": {},
     "output_type": "execute_result"
    }
   ],
   "source": [
    "churn_corr_df=pd.DataFrame(df.corr()['Churn'])\n",
    "churn_corr_df.reset_index(level=0, inplace=True)\n",
    "churn_corr_df.columns=['Features','Correlation']\n",
    "churn_corr_df[\"Correlation Type\"] = np.where(churn_corr_df[\"Correlation\"]<0, 'negative', 'positive')\n",
    "churn_corr_df=churn_corr_df.sort_values(by=['Correlation'],ascending=False)\n",
    "churn_corr_df=churn_corr_df[~churn_corr_df['Features'].isin(['Churn'])]\n",
    "churn_corr_df.head()"
   ]
  },
  {
   "cell_type": "code",
   "execution_count": 170,
   "metadata": {},
   "outputs": [
    {
     "data": {
      "application/vnd.plotly.v1+json": {
       "config": {
        "plotlyServerURL": "https://plot.ly"
       },
       "data": [
        {
         "alignmentgroup": "True",
         "hovertemplate": "Correlation Type=positive<br>Features=%{x}<br>Correlation=%{text}<extra></extra>",
         "legendgroup": "positive",
         "marker": {
          "color": "orange"
         },
         "name": "positive",
         "offsetgroup": "positive",
         "orientation": "v",
         "showlegend": true,
         "text": [
          0.42198280699817947,
          0.3729573395001901,
          0.35004467304640663,
          0.3270667987440726,
          0.32453014022803955,
          0.26678929589227407,
          0.2577145866965188,
          0.20033648843557175,
          0.17452738315089414,
          0.1732394535788898,
          0.14553401896783294,
          0.14229233625335982,
          0.1316085210329366,
          0.12188478130751448,
          0.07324477907832884,
          0.05244466435496565,
          0.026850817044205198,
          0.01691090892763189,
          0.015322714183883472
         ],
         "textposition": "auto",
         "type": "bar",
         "x": [
          "Contract_Month-to-month",
          "TechSupport_No",
          "OnlineSecurity_No",
          "InternetService_Fiber optic",
          "PaymentMethod_Electronic check",
          "OnlineBackup_No",
          "DeviceProtection_No",
          "MonthlyCharges",
          "Dependents_No",
          "PaperlessBilling_Yes",
          "Partner_No",
          "StreamingTV_No",
          "SeniorCitizen_1.0",
          "StreamingMovies_No",
          "StreamingMovies_Yes",
          "StreamingTV_Yes",
          "gender_Female",
          "PhoneService_Yes",
          "MultipleLines_Yes"
         ],
         "xaxis": "x",
         "y": [
          0.42198280699817947,
          0.3729573395001901,
          0.35004467304640663,
          0.3270667987440726,
          0.32453014022803955,
          0.26678929589227407,
          0.2577145866965188,
          0.20033648843557175,
          0.17452738315089414,
          0.1732394535788898,
          0.14553401896783294,
          0.14229233625335982,
          0.1316085210329366,
          0.12188478130751448,
          0.07324477907832884,
          0.05244466435496565,
          0.026850817044205198,
          0.01691090892763189,
          0.015322714183883472
         ],
         "yaxis": "y"
        },
        {
         "alignmentgroup": "True",
         "hovertemplate": "Correlation Type=negative<br>Features=%{x}<br>Correlation=%{text}<extra></extra>",
         "legendgroup": "negative",
         "marker": {
          "color": "skyblue"
         },
         "name": "negative",
         "offsetgroup": "negative",
         "orientation": "v",
         "showlegend": true,
         "text": [
          -0.0057075964933914446,
          -0.0169109089276319,
          -0.0169109089276319,
          -0.02685081704420537,
          -0.06872736596622477,
          -0.07831206562764403,
          -0.10327565703659222,
          -0.10710571984466075,
          -0.1316085210329366,
          -0.14257728059367214,
          -0.14553401896783294,
          -0.1590993284766665,
          -0.1732394535788898,
          -0.17452738315089414,
          -0.1766824550881474,
          -0.17732354286101396,
          -0.20232957310548574,
          -0.203889535560068,
          -0.23232449519556742,
          -0.23232449519556742,
          -0.23232449519556742,
          -0.23232449519556742,
          -0.23232449519556742,
          -0.23232449519556742,
          -0.23232449519556742,
          -0.32238363358911415,
          -0.35818700808635073
         ],
         "textposition": "auto",
         "type": "bar",
         "x": [
          "MultipleLines_No",
          "MultipleLines_No phone service",
          "PhoneService_No",
          "gender_Male",
          "DeviceProtection_Yes",
          "OnlineBackup_Yes",
          "PaymentMethod_Bank transfer (automatic)",
          "PaymentMethod_Mailed check",
          "SeniorCitizen_0.0",
          "InternetService_DSL",
          "Partner_Yes",
          "PaymentMethod_Credit card (automatic)",
          "PaperlessBilling_No",
          "Dependents_Yes",
          "Contract_One year",
          "OnlineSecurity_Yes",
          "TechSupport_Yes",
          "TotalCharges",
          "DeviceProtection_No internet service",
          "OnlineBackup_No internet service",
          "StreamingMovies_No internet service",
          "InternetService_No",
          "OnlineSecurity_No internet service",
          "StreamingTV_No internet service",
          "TechSupport_No internet service",
          "Contract_Two year",
          "tenure"
         ],
         "xaxis": "x",
         "y": [
          -0.0057075964933914446,
          -0.0169109089276319,
          -0.0169109089276319,
          -0.02685081704420537,
          -0.06872736596622477,
          -0.07831206562764403,
          -0.10327565703659222,
          -0.10710571984466075,
          -0.1316085210329366,
          -0.14257728059367214,
          -0.14553401896783294,
          -0.1590993284766665,
          -0.1732394535788898,
          -0.17452738315089414,
          -0.1766824550881474,
          -0.17732354286101396,
          -0.20232957310548574,
          -0.203889535560068,
          -0.23232449519556742,
          -0.23232449519556742,
          -0.23232449519556742,
          -0.23232449519556742,
          -0.23232449519556742,
          -0.23232449519556742,
          -0.23232449519556742,
          -0.32238363358911415,
          -0.35818700808635073
         ],
         "yaxis": "y"
        }
       ],
       "layout": {
        "autosize": true,
        "barmode": "relative",
        "legend": {
         "title": {
          "text": "Correlation Type"
         },
         "tracegroupgap": 0,
         "x": 0.5,
         "xanchor": "left",
         "y": 0.95,
         "yanchor": "top"
        },
        "margin": {
         "b": 0,
         "l": 0,
         "r": 0,
         "t": 0
        },
        "template": {
         "data": {
          "bar": [
           {
            "error_x": {
             "color": "rgb(51,51,51)"
            },
            "error_y": {
             "color": "rgb(51,51,51)"
            },
            "marker": {
             "line": {
              "color": "rgb(237,237,237)",
              "width": 0.5
             }
            },
            "type": "bar"
           }
          ],
          "barpolar": [
           {
            "marker": {
             "line": {
              "color": "rgb(237,237,237)",
              "width": 0.5
             }
            },
            "type": "barpolar"
           }
          ],
          "carpet": [
           {
            "aaxis": {
             "endlinecolor": "rgb(51,51,51)",
             "gridcolor": "white",
             "linecolor": "white",
             "minorgridcolor": "white",
             "startlinecolor": "rgb(51,51,51)"
            },
            "baxis": {
             "endlinecolor": "rgb(51,51,51)",
             "gridcolor": "white",
             "linecolor": "white",
             "minorgridcolor": "white",
             "startlinecolor": "rgb(51,51,51)"
            },
            "type": "carpet"
           }
          ],
          "choropleth": [
           {
            "colorbar": {
             "outlinewidth": 0,
             "tickcolor": "rgb(237,237,237)",
             "ticklen": 6,
             "ticks": "inside"
            },
            "type": "choropleth"
           }
          ],
          "contour": [
           {
            "colorbar": {
             "outlinewidth": 0,
             "tickcolor": "rgb(237,237,237)",
             "ticklen": 6,
             "ticks": "inside"
            },
            "colorscale": [
             [
              0,
              "rgb(20,44,66)"
             ],
             [
              1,
              "rgb(90,179,244)"
             ]
            ],
            "type": "contour"
           }
          ],
          "contourcarpet": [
           {
            "colorbar": {
             "outlinewidth": 0,
             "tickcolor": "rgb(237,237,237)",
             "ticklen": 6,
             "ticks": "inside"
            },
            "type": "contourcarpet"
           }
          ],
          "heatmap": [
           {
            "colorbar": {
             "outlinewidth": 0,
             "tickcolor": "rgb(237,237,237)",
             "ticklen": 6,
             "ticks": "inside"
            },
            "colorscale": [
             [
              0,
              "rgb(20,44,66)"
             ],
             [
              1,
              "rgb(90,179,244)"
             ]
            ],
            "type": "heatmap"
           }
          ],
          "heatmapgl": [
           {
            "colorbar": {
             "outlinewidth": 0,
             "tickcolor": "rgb(237,237,237)",
             "ticklen": 6,
             "ticks": "inside"
            },
            "colorscale": [
             [
              0,
              "rgb(20,44,66)"
             ],
             [
              1,
              "rgb(90,179,244)"
             ]
            ],
            "type": "heatmapgl"
           }
          ],
          "histogram": [
           {
            "marker": {
             "colorbar": {
              "outlinewidth": 0,
              "tickcolor": "rgb(237,237,237)",
              "ticklen": 6,
              "ticks": "inside"
             }
            },
            "type": "histogram"
           }
          ],
          "histogram2d": [
           {
            "colorbar": {
             "outlinewidth": 0,
             "tickcolor": "rgb(237,237,237)",
             "ticklen": 6,
             "ticks": "inside"
            },
            "colorscale": [
             [
              0,
              "rgb(20,44,66)"
             ],
             [
              1,
              "rgb(90,179,244)"
             ]
            ],
            "type": "histogram2d"
           }
          ],
          "histogram2dcontour": [
           {
            "colorbar": {
             "outlinewidth": 0,
             "tickcolor": "rgb(237,237,237)",
             "ticklen": 6,
             "ticks": "inside"
            },
            "colorscale": [
             [
              0,
              "rgb(20,44,66)"
             ],
             [
              1,
              "rgb(90,179,244)"
             ]
            ],
            "type": "histogram2dcontour"
           }
          ],
          "mesh3d": [
           {
            "colorbar": {
             "outlinewidth": 0,
             "tickcolor": "rgb(237,237,237)",
             "ticklen": 6,
             "ticks": "inside"
            },
            "type": "mesh3d"
           }
          ],
          "parcoords": [
           {
            "line": {
             "colorbar": {
              "outlinewidth": 0,
              "tickcolor": "rgb(237,237,237)",
              "ticklen": 6,
              "ticks": "inside"
             }
            },
            "type": "parcoords"
           }
          ],
          "pie": [
           {
            "automargin": true,
            "type": "pie"
           }
          ],
          "scatter": [
           {
            "marker": {
             "colorbar": {
              "outlinewidth": 0,
              "tickcolor": "rgb(237,237,237)",
              "ticklen": 6,
              "ticks": "inside"
             }
            },
            "type": "scatter"
           }
          ],
          "scatter3d": [
           {
            "line": {
             "colorbar": {
              "outlinewidth": 0,
              "tickcolor": "rgb(237,237,237)",
              "ticklen": 6,
              "ticks": "inside"
             }
            },
            "marker": {
             "colorbar": {
              "outlinewidth": 0,
              "tickcolor": "rgb(237,237,237)",
              "ticklen": 6,
              "ticks": "inside"
             }
            },
            "type": "scatter3d"
           }
          ],
          "scattercarpet": [
           {
            "marker": {
             "colorbar": {
              "outlinewidth": 0,
              "tickcolor": "rgb(237,237,237)",
              "ticklen": 6,
              "ticks": "inside"
             }
            },
            "type": "scattercarpet"
           }
          ],
          "scattergeo": [
           {
            "marker": {
             "colorbar": {
              "outlinewidth": 0,
              "tickcolor": "rgb(237,237,237)",
              "ticklen": 6,
              "ticks": "inside"
             }
            },
            "type": "scattergeo"
           }
          ],
          "scattergl": [
           {
            "marker": {
             "colorbar": {
              "outlinewidth": 0,
              "tickcolor": "rgb(237,237,237)",
              "ticklen": 6,
              "ticks": "inside"
             }
            },
            "type": "scattergl"
           }
          ],
          "scattermapbox": [
           {
            "marker": {
             "colorbar": {
              "outlinewidth": 0,
              "tickcolor": "rgb(237,237,237)",
              "ticklen": 6,
              "ticks": "inside"
             }
            },
            "type": "scattermapbox"
           }
          ],
          "scatterpolar": [
           {
            "marker": {
             "colorbar": {
              "outlinewidth": 0,
              "tickcolor": "rgb(237,237,237)",
              "ticklen": 6,
              "ticks": "inside"
             }
            },
            "type": "scatterpolar"
           }
          ],
          "scatterpolargl": [
           {
            "marker": {
             "colorbar": {
              "outlinewidth": 0,
              "tickcolor": "rgb(237,237,237)",
              "ticklen": 6,
              "ticks": "inside"
             }
            },
            "type": "scatterpolargl"
           }
          ],
          "scatterternary": [
           {
            "marker": {
             "colorbar": {
              "outlinewidth": 0,
              "tickcolor": "rgb(237,237,237)",
              "ticklen": 6,
              "ticks": "inside"
             }
            },
            "type": "scatterternary"
           }
          ],
          "surface": [
           {
            "colorbar": {
             "outlinewidth": 0,
             "tickcolor": "rgb(237,237,237)",
             "ticklen": 6,
             "ticks": "inside"
            },
            "colorscale": [
             [
              0,
              "rgb(20,44,66)"
             ],
             [
              1,
              "rgb(90,179,244)"
             ]
            ],
            "type": "surface"
           }
          ],
          "table": [
           {
            "cells": {
             "fill": {
              "color": "rgb(237,237,237)"
             },
             "line": {
              "color": "white"
             }
            },
            "header": {
             "fill": {
              "color": "rgb(217,217,217)"
             },
             "line": {
              "color": "white"
             }
            },
            "type": "table"
           }
          ]
         },
         "layout": {
          "annotationdefaults": {
           "arrowhead": 0,
           "arrowwidth": 1
          },
          "autotypenumbers": "strict",
          "coloraxis": {
           "colorbar": {
            "outlinewidth": 0,
            "tickcolor": "rgb(237,237,237)",
            "ticklen": 6,
            "ticks": "inside"
           }
          },
          "colorscale": {
           "sequential": [
            [
             0,
             "rgb(20,44,66)"
            ],
            [
             1,
             "rgb(90,179,244)"
            ]
           ],
           "sequentialminus": [
            [
             0,
             "rgb(20,44,66)"
            ],
            [
             1,
             "rgb(90,179,244)"
            ]
           ]
          },
          "colorway": [
           "#F8766D",
           "#A3A500",
           "#00BF7D",
           "#00B0F6",
           "#E76BF3"
          ],
          "font": {
           "color": "rgb(51,51,51)"
          },
          "geo": {
           "bgcolor": "white",
           "lakecolor": "white",
           "landcolor": "rgb(237,237,237)",
           "showlakes": true,
           "showland": true,
           "subunitcolor": "white"
          },
          "hoverlabel": {
           "align": "left"
          },
          "hovermode": "closest",
          "paper_bgcolor": "white",
          "plot_bgcolor": "rgb(237,237,237)",
          "polar": {
           "angularaxis": {
            "gridcolor": "white",
            "linecolor": "white",
            "showgrid": true,
            "tickcolor": "rgb(51,51,51)",
            "ticks": "outside"
           },
           "bgcolor": "rgb(237,237,237)",
           "radialaxis": {
            "gridcolor": "white",
            "linecolor": "white",
            "showgrid": true,
            "tickcolor": "rgb(51,51,51)",
            "ticks": "outside"
           }
          },
          "scene": {
           "xaxis": {
            "backgroundcolor": "rgb(237,237,237)",
            "gridcolor": "white",
            "gridwidth": 2,
            "linecolor": "white",
            "showbackground": true,
            "showgrid": true,
            "tickcolor": "rgb(51,51,51)",
            "ticks": "outside",
            "zerolinecolor": "white"
           },
           "yaxis": {
            "backgroundcolor": "rgb(237,237,237)",
            "gridcolor": "white",
            "gridwidth": 2,
            "linecolor": "white",
            "showbackground": true,
            "showgrid": true,
            "tickcolor": "rgb(51,51,51)",
            "ticks": "outside",
            "zerolinecolor": "white"
           },
           "zaxis": {
            "backgroundcolor": "rgb(237,237,237)",
            "gridcolor": "white",
            "gridwidth": 2,
            "linecolor": "white",
            "showbackground": true,
            "showgrid": true,
            "tickcolor": "rgb(51,51,51)",
            "ticks": "outside",
            "zerolinecolor": "white"
           }
          },
          "shapedefaults": {
           "fillcolor": "black",
           "line": {
            "width": 0
           },
           "opacity": 0.3
          },
          "ternary": {
           "aaxis": {
            "gridcolor": "white",
            "linecolor": "white",
            "showgrid": true,
            "tickcolor": "rgb(51,51,51)",
            "ticks": "outside"
           },
           "baxis": {
            "gridcolor": "white",
            "linecolor": "white",
            "showgrid": true,
            "tickcolor": "rgb(51,51,51)",
            "ticks": "outside"
           },
           "bgcolor": "rgb(237,237,237)",
           "caxis": {
            "gridcolor": "white",
            "linecolor": "white",
            "showgrid": true,
            "tickcolor": "rgb(51,51,51)",
            "ticks": "outside"
           }
          },
          "xaxis": {
           "automargin": true,
           "gridcolor": "white",
           "linecolor": "white",
           "showgrid": true,
           "tickcolor": "rgb(51,51,51)",
           "ticks": "outside",
           "title": {
            "standoff": 15
           },
           "zerolinecolor": "white"
          },
          "yaxis": {
           "automargin": true,
           "gridcolor": "white",
           "linecolor": "white",
           "showgrid": true,
           "tickcolor": "rgb(51,51,51)",
           "ticks": "outside",
           "title": {
            "standoff": 15
           },
           "zerolinecolor": "white"
          }
         }
        },
        "xaxis": {
         "anchor": "y",
         "domain": [
          0,
          1
         ],
         "title": {
          "text": "Features"
         }
        },
        "yaxis": {
         "anchor": "x",
         "domain": [
          0,
          1
         ],
         "title": {
          "text": "Correlation"
         }
        }
       }
      },
      "text/html": [
       "<div>                            <div id=\"45609e50-4d03-4c2c-8bfe-2f4d43107819\" class=\"plotly-graph-div\" style=\"height:525px; width:100%;\"></div>            <script type=\"text/javascript\">                require([\"plotly\"], function(Plotly) {                    window.PLOTLYENV=window.PLOTLYENV || {};                                    if (document.getElementById(\"45609e50-4d03-4c2c-8bfe-2f4d43107819\")) {                    Plotly.newPlot(                        \"45609e50-4d03-4c2c-8bfe-2f4d43107819\",                        [{\"alignmentgroup\": \"True\", \"hovertemplate\": \"Correlation Type=positive<br>Features=%{x}<br>Correlation=%{text}<extra></extra>\", \"legendgroup\": \"positive\", \"marker\": {\"color\": \"orange\"}, \"name\": \"positive\", \"offsetgroup\": \"positive\", \"orientation\": \"v\", \"showlegend\": true, \"text\": [0.42198280699817947, 0.3729573395001901, 0.35004467304640663, 0.3270667987440726, 0.32453014022803955, 0.26678929589227407, 0.2577145866965188, 0.20033648843557175, 0.17452738315089414, 0.1732394535788898, 0.14553401896783294, 0.14229233625335982, 0.1316085210329366, 0.12188478130751448, 0.07324477907832884, 0.05244466435496565, 0.026850817044205198, 0.01691090892763189, 0.015322714183883472], \"textposition\": \"auto\", \"type\": \"bar\", \"x\": [\"Contract_Month-to-month\", \"TechSupport_No\", \"OnlineSecurity_No\", \"InternetService_Fiber optic\", \"PaymentMethod_Electronic check\", \"OnlineBackup_No\", \"DeviceProtection_No\", \"MonthlyCharges\", \"Dependents_No\", \"PaperlessBilling_Yes\", \"Partner_No\", \"StreamingTV_No\", \"SeniorCitizen_1.0\", \"StreamingMovies_No\", \"StreamingMovies_Yes\", \"StreamingTV_Yes\", \"gender_Female\", \"PhoneService_Yes\", \"MultipleLines_Yes\"], \"xaxis\": \"x\", \"y\": [0.42198280699817947, 0.3729573395001901, 0.35004467304640663, 0.3270667987440726, 0.32453014022803955, 0.26678929589227407, 0.2577145866965188, 0.20033648843557175, 0.17452738315089414, 0.1732394535788898, 0.14553401896783294, 0.14229233625335982, 0.1316085210329366, 0.12188478130751448, 0.07324477907832884, 0.05244466435496565, 0.026850817044205198, 0.01691090892763189, 0.015322714183883472], \"yaxis\": \"y\"}, {\"alignmentgroup\": \"True\", \"hovertemplate\": \"Correlation Type=negative<br>Features=%{x}<br>Correlation=%{text}<extra></extra>\", \"legendgroup\": \"negative\", \"marker\": {\"color\": \"skyblue\"}, \"name\": \"negative\", \"offsetgroup\": \"negative\", \"orientation\": \"v\", \"showlegend\": true, \"text\": [-0.0057075964933914446, -0.0169109089276319, -0.0169109089276319, -0.02685081704420537, -0.06872736596622477, -0.07831206562764403, -0.10327565703659222, -0.10710571984466075, -0.1316085210329366, -0.14257728059367214, -0.14553401896783294, -0.1590993284766665, -0.1732394535788898, -0.17452738315089414, -0.1766824550881474, -0.17732354286101396, -0.20232957310548574, -0.203889535560068, -0.23232449519556742, -0.23232449519556742, -0.23232449519556742, -0.23232449519556742, -0.23232449519556742, -0.23232449519556742, -0.23232449519556742, -0.32238363358911415, -0.35818700808635073], \"textposition\": \"auto\", \"type\": \"bar\", \"x\": [\"MultipleLines_No\", \"MultipleLines_No phone service\", \"PhoneService_No\", \"gender_Male\", \"DeviceProtection_Yes\", \"OnlineBackup_Yes\", \"PaymentMethod_Bank transfer (automatic)\", \"PaymentMethod_Mailed check\", \"SeniorCitizen_0.0\", \"InternetService_DSL\", \"Partner_Yes\", \"PaymentMethod_Credit card (automatic)\", \"PaperlessBilling_No\", \"Dependents_Yes\", \"Contract_One year\", \"OnlineSecurity_Yes\", \"TechSupport_Yes\", \"TotalCharges\", \"DeviceProtection_No internet service\", \"OnlineBackup_No internet service\", \"StreamingMovies_No internet service\", \"InternetService_No\", \"OnlineSecurity_No internet service\", \"StreamingTV_No internet service\", \"TechSupport_No internet service\", \"Contract_Two year\", \"tenure\"], \"xaxis\": \"x\", \"y\": [-0.0057075964933914446, -0.0169109089276319, -0.0169109089276319, -0.02685081704420537, -0.06872736596622477, -0.07831206562764403, -0.10327565703659222, -0.10710571984466075, -0.1316085210329366, -0.14257728059367214, -0.14553401896783294, -0.1590993284766665, -0.1732394535788898, -0.17452738315089414, -0.1766824550881474, -0.17732354286101396, -0.20232957310548574, -0.203889535560068, -0.23232449519556742, -0.23232449519556742, -0.23232449519556742, -0.23232449519556742, -0.23232449519556742, -0.23232449519556742, -0.23232449519556742, -0.32238363358911415, -0.35818700808635073], \"yaxis\": \"y\"}],                        {\"autosize\": true, \"barmode\": \"relative\", \"legend\": {\"title\": {\"text\": \"Correlation Type\"}, \"tracegroupgap\": 0, \"x\": 0.5, \"xanchor\": \"left\", \"y\": 0.95, \"yanchor\": \"top\"}, \"margin\": {\"b\": 0, \"l\": 0, \"r\": 0, \"t\": 0}, \"template\": {\"data\": {\"bar\": [{\"error_x\": {\"color\": \"rgb(51,51,51)\"}, \"error_y\": {\"color\": \"rgb(51,51,51)\"}, \"marker\": {\"line\": {\"color\": \"rgb(237,237,237)\", \"width\": 0.5}}, \"type\": \"bar\"}], \"barpolar\": [{\"marker\": {\"line\": {\"color\": \"rgb(237,237,237)\", \"width\": 0.5}}, \"type\": \"barpolar\"}], \"carpet\": [{\"aaxis\": {\"endlinecolor\": \"rgb(51,51,51)\", \"gridcolor\": \"white\", \"linecolor\": \"white\", \"minorgridcolor\": \"white\", \"startlinecolor\": \"rgb(51,51,51)\"}, \"baxis\": {\"endlinecolor\": \"rgb(51,51,51)\", \"gridcolor\": \"white\", \"linecolor\": \"white\", \"minorgridcolor\": \"white\", \"startlinecolor\": \"rgb(51,51,51)\"}, \"type\": \"carpet\"}], \"choropleth\": [{\"colorbar\": {\"outlinewidth\": 0, \"tickcolor\": \"rgb(237,237,237)\", \"ticklen\": 6, \"ticks\": \"inside\"}, \"type\": \"choropleth\"}], \"contour\": [{\"colorbar\": {\"outlinewidth\": 0, \"tickcolor\": \"rgb(237,237,237)\", \"ticklen\": 6, \"ticks\": \"inside\"}, \"colorscale\": [[0, \"rgb(20,44,66)\"], [1, \"rgb(90,179,244)\"]], \"type\": \"contour\"}], \"contourcarpet\": [{\"colorbar\": {\"outlinewidth\": 0, \"tickcolor\": \"rgb(237,237,237)\", \"ticklen\": 6, \"ticks\": \"inside\"}, \"type\": \"contourcarpet\"}], \"heatmap\": [{\"colorbar\": {\"outlinewidth\": 0, \"tickcolor\": \"rgb(237,237,237)\", \"ticklen\": 6, \"ticks\": \"inside\"}, \"colorscale\": [[0, \"rgb(20,44,66)\"], [1, \"rgb(90,179,244)\"]], \"type\": \"heatmap\"}], \"heatmapgl\": [{\"colorbar\": {\"outlinewidth\": 0, \"tickcolor\": \"rgb(237,237,237)\", \"ticklen\": 6, \"ticks\": \"inside\"}, \"colorscale\": [[0, \"rgb(20,44,66)\"], [1, \"rgb(90,179,244)\"]], \"type\": \"heatmapgl\"}], \"histogram\": [{\"marker\": {\"colorbar\": {\"outlinewidth\": 0, \"tickcolor\": \"rgb(237,237,237)\", \"ticklen\": 6, \"ticks\": \"inside\"}}, \"type\": \"histogram\"}], \"histogram2d\": [{\"colorbar\": {\"outlinewidth\": 0, \"tickcolor\": \"rgb(237,237,237)\", \"ticklen\": 6, \"ticks\": \"inside\"}, \"colorscale\": [[0, \"rgb(20,44,66)\"], [1, \"rgb(90,179,244)\"]], \"type\": \"histogram2d\"}], \"histogram2dcontour\": [{\"colorbar\": {\"outlinewidth\": 0, \"tickcolor\": \"rgb(237,237,237)\", \"ticklen\": 6, \"ticks\": \"inside\"}, \"colorscale\": [[0, \"rgb(20,44,66)\"], [1, \"rgb(90,179,244)\"]], \"type\": \"histogram2dcontour\"}], \"mesh3d\": [{\"colorbar\": {\"outlinewidth\": 0, \"tickcolor\": \"rgb(237,237,237)\", \"ticklen\": 6, \"ticks\": \"inside\"}, \"type\": \"mesh3d\"}], \"parcoords\": [{\"line\": {\"colorbar\": {\"outlinewidth\": 0, \"tickcolor\": \"rgb(237,237,237)\", \"ticklen\": 6, \"ticks\": \"inside\"}}, \"type\": \"parcoords\"}], \"pie\": [{\"automargin\": true, \"type\": \"pie\"}], \"scatter\": [{\"marker\": {\"colorbar\": {\"outlinewidth\": 0, \"tickcolor\": \"rgb(237,237,237)\", \"ticklen\": 6, \"ticks\": \"inside\"}}, \"type\": \"scatter\"}], \"scatter3d\": [{\"line\": {\"colorbar\": {\"outlinewidth\": 0, \"tickcolor\": \"rgb(237,237,237)\", \"ticklen\": 6, \"ticks\": \"inside\"}}, \"marker\": {\"colorbar\": {\"outlinewidth\": 0, \"tickcolor\": \"rgb(237,237,237)\", \"ticklen\": 6, \"ticks\": \"inside\"}}, \"type\": \"scatter3d\"}], \"scattercarpet\": [{\"marker\": {\"colorbar\": {\"outlinewidth\": 0, \"tickcolor\": \"rgb(237,237,237)\", \"ticklen\": 6, \"ticks\": \"inside\"}}, \"type\": \"scattercarpet\"}], \"scattergeo\": [{\"marker\": {\"colorbar\": {\"outlinewidth\": 0, \"tickcolor\": \"rgb(237,237,237)\", \"ticklen\": 6, \"ticks\": \"inside\"}}, \"type\": \"scattergeo\"}], \"scattergl\": [{\"marker\": {\"colorbar\": {\"outlinewidth\": 0, \"tickcolor\": \"rgb(237,237,237)\", \"ticklen\": 6, \"ticks\": \"inside\"}}, \"type\": \"scattergl\"}], \"scattermapbox\": [{\"marker\": {\"colorbar\": {\"outlinewidth\": 0, \"tickcolor\": \"rgb(237,237,237)\", \"ticklen\": 6, \"ticks\": \"inside\"}}, \"type\": \"scattermapbox\"}], \"scatterpolar\": [{\"marker\": {\"colorbar\": {\"outlinewidth\": 0, \"tickcolor\": \"rgb(237,237,237)\", \"ticklen\": 6, \"ticks\": \"inside\"}}, \"type\": \"scatterpolar\"}], \"scatterpolargl\": [{\"marker\": {\"colorbar\": {\"outlinewidth\": 0, \"tickcolor\": \"rgb(237,237,237)\", \"ticklen\": 6, \"ticks\": \"inside\"}}, \"type\": \"scatterpolargl\"}], \"scatterternary\": [{\"marker\": {\"colorbar\": {\"outlinewidth\": 0, \"tickcolor\": \"rgb(237,237,237)\", \"ticklen\": 6, \"ticks\": \"inside\"}}, \"type\": \"scatterternary\"}], \"surface\": [{\"colorbar\": {\"outlinewidth\": 0, \"tickcolor\": \"rgb(237,237,237)\", \"ticklen\": 6, \"ticks\": \"inside\"}, \"colorscale\": [[0, \"rgb(20,44,66)\"], [1, \"rgb(90,179,244)\"]], \"type\": \"surface\"}], \"table\": [{\"cells\": {\"fill\": {\"color\": \"rgb(237,237,237)\"}, \"line\": {\"color\": \"white\"}}, \"header\": {\"fill\": {\"color\": \"rgb(217,217,217)\"}, \"line\": {\"color\": \"white\"}}, \"type\": \"table\"}]}, \"layout\": {\"annotationdefaults\": {\"arrowhead\": 0, \"arrowwidth\": 1}, \"autotypenumbers\": \"strict\", \"coloraxis\": {\"colorbar\": {\"outlinewidth\": 0, \"tickcolor\": \"rgb(237,237,237)\", \"ticklen\": 6, \"ticks\": \"inside\"}}, \"colorscale\": {\"sequential\": [[0, \"rgb(20,44,66)\"], [1, \"rgb(90,179,244)\"]], \"sequentialminus\": [[0, \"rgb(20,44,66)\"], [1, \"rgb(90,179,244)\"]]}, \"colorway\": [\"#F8766D\", \"#A3A500\", \"#00BF7D\", \"#00B0F6\", \"#E76BF3\"], \"font\": {\"color\": \"rgb(51,51,51)\"}, \"geo\": {\"bgcolor\": \"white\", \"lakecolor\": \"white\", \"landcolor\": \"rgb(237,237,237)\", \"showlakes\": true, \"showland\": true, \"subunitcolor\": \"white\"}, \"hoverlabel\": {\"align\": \"left\"}, \"hovermode\": \"closest\", \"paper_bgcolor\": \"white\", \"plot_bgcolor\": \"rgb(237,237,237)\", \"polar\": {\"angularaxis\": {\"gridcolor\": \"white\", \"linecolor\": \"white\", \"showgrid\": true, \"tickcolor\": \"rgb(51,51,51)\", \"ticks\": \"outside\"}, \"bgcolor\": \"rgb(237,237,237)\", \"radialaxis\": {\"gridcolor\": \"white\", \"linecolor\": \"white\", \"showgrid\": true, \"tickcolor\": \"rgb(51,51,51)\", \"ticks\": \"outside\"}}, \"scene\": {\"xaxis\": {\"backgroundcolor\": \"rgb(237,237,237)\", \"gridcolor\": \"white\", \"gridwidth\": 2, \"linecolor\": \"white\", \"showbackground\": true, \"showgrid\": true, \"tickcolor\": \"rgb(51,51,51)\", \"ticks\": \"outside\", \"zerolinecolor\": \"white\"}, \"yaxis\": {\"backgroundcolor\": \"rgb(237,237,237)\", \"gridcolor\": \"white\", \"gridwidth\": 2, \"linecolor\": \"white\", \"showbackground\": true, \"showgrid\": true, \"tickcolor\": \"rgb(51,51,51)\", \"ticks\": \"outside\", \"zerolinecolor\": \"white\"}, \"zaxis\": {\"backgroundcolor\": \"rgb(237,237,237)\", \"gridcolor\": \"white\", \"gridwidth\": 2, \"linecolor\": \"white\", \"showbackground\": true, \"showgrid\": true, \"tickcolor\": \"rgb(51,51,51)\", \"ticks\": \"outside\", \"zerolinecolor\": \"white\"}}, \"shapedefaults\": {\"fillcolor\": \"black\", \"line\": {\"width\": 0}, \"opacity\": 0.3}, \"ternary\": {\"aaxis\": {\"gridcolor\": \"white\", \"linecolor\": \"white\", \"showgrid\": true, \"tickcolor\": \"rgb(51,51,51)\", \"ticks\": \"outside\"}, \"baxis\": {\"gridcolor\": \"white\", \"linecolor\": \"white\", \"showgrid\": true, \"tickcolor\": \"rgb(51,51,51)\", \"ticks\": \"outside\"}, \"bgcolor\": \"rgb(237,237,237)\", \"caxis\": {\"gridcolor\": \"white\", \"linecolor\": \"white\", \"showgrid\": true, \"tickcolor\": \"rgb(51,51,51)\", \"ticks\": \"outside\"}}, \"xaxis\": {\"automargin\": true, \"gridcolor\": \"white\", \"linecolor\": \"white\", \"showgrid\": true, \"tickcolor\": \"rgb(51,51,51)\", \"ticks\": \"outside\", \"title\": {\"standoff\": 15}, \"zerolinecolor\": \"white\"}, \"yaxis\": {\"automargin\": true, \"gridcolor\": \"white\", \"linecolor\": \"white\", \"showgrid\": true, \"tickcolor\": \"rgb(51,51,51)\", \"ticks\": \"outside\", \"title\": {\"standoff\": 15}, \"zerolinecolor\": \"white\"}}}, \"xaxis\": {\"anchor\": \"y\", \"domain\": [0.0, 1.0], \"title\": {\"text\": \"Features\"}}, \"yaxis\": {\"anchor\": \"x\", \"domain\": [0.0, 1.0], \"title\": {\"text\": \"Correlation\"}}},                        {\"responsive\": true}                    ).then(function(){\n",
       "                            \n",
       "var gd = document.getElementById('45609e50-4d03-4c2c-8bfe-2f4d43107819');\n",
       "var x = new MutationObserver(function (mutations, observer) {{\n",
       "        var display = window.getComputedStyle(gd).display;\n",
       "        if (!display || display === 'none') {{\n",
       "            console.log([gd, 'removed!']);\n",
       "            Plotly.purge(gd);\n",
       "            observer.disconnect();\n",
       "        }}\n",
       "}});\n",
       "\n",
       "// Listen for the removal of the full notebook cells\n",
       "var notebookContainer = gd.closest('#notebook-container');\n",
       "if (notebookContainer) {{\n",
       "    x.observe(notebookContainer, {childList: true});\n",
       "}}\n",
       "\n",
       "// Listen for the clearing of the current output cell\n",
       "var outputEl = gd.closest('.output');\n",
       "if (outputEl) {{\n",
       "    x.observe(outputEl, {childList: true});\n",
       "}}\n",
       "\n",
       "                        })                };                });            </script>        </div>"
      ]
     },
     "metadata": {},
     "output_type": "display_data"
    }
   ],
   "source": [
    "colors = ['orange','skyblue']\n",
    "churn_corr_barchart=px.bar(churn_corr_df,x='Features',y='Correlation',color='Correlation Type',text='Correlation',color_discrete_sequence=colors)\n",
    "churn_corr_barchart.update_layout(legend=dict(yanchor=\"top\",y=0.95,xanchor=\"left\",x=0.50),autosize=True,margin=dict(t=0,b=0,l=0,r=0))"
   ]
  },
  {
   "cell_type": "code",
   "execution_count": 54,
   "metadata": {
    "scrolled": true
   },
   "outputs": [
    {
     "data": {
      "text/html": [
       "<div>\n",
       "<style scoped>\n",
       "    .dataframe tbody tr th:only-of-type {\n",
       "        vertical-align: middle;\n",
       "    }\n",
       "\n",
       "    .dataframe tbody tr th {\n",
       "        vertical-align: top;\n",
       "    }\n",
       "\n",
       "    .dataframe thead th {\n",
       "        text-align: right;\n",
       "    }\n",
       "</style>\n",
       "<table border=\"1\" class=\"dataframe\">\n",
       "  <thead>\n",
       "    <tr style=\"text-align: right;\">\n",
       "      <th></th>\n",
       "      <th>customerID</th>\n",
       "      <th>tenure</th>\n",
       "      <th>MonthlyCharges</th>\n",
       "      <th>TotalCharges</th>\n",
       "      <th>Churn</th>\n",
       "      <th>gender_Female</th>\n",
       "      <th>gender_Male</th>\n",
       "      <th>Partner_No</th>\n",
       "      <th>Partner_Yes</th>\n",
       "      <th>Dependents_No</th>\n",
       "      <th>...</th>\n",
       "      <th>Contract_One year</th>\n",
       "      <th>Contract_Two year</th>\n",
       "      <th>PaperlessBilling_No</th>\n",
       "      <th>PaperlessBilling_Yes</th>\n",
       "      <th>PaymentMethod_Bank transfer (automatic)</th>\n",
       "      <th>PaymentMethod_Credit card (automatic)</th>\n",
       "      <th>PaymentMethod_Electronic check</th>\n",
       "      <th>PaymentMethod_Mailed check</th>\n",
       "      <th>SeniorCitizen_0.0</th>\n",
       "      <th>SeniorCitizen_1.0</th>\n",
       "    </tr>\n",
       "  </thead>\n",
       "  <tbody>\n",
       "    <tr>\n",
       "      <th>0</th>\n",
       "      <td>7590-VHVEG</td>\n",
       "      <td>1.0</td>\n",
       "      <td>29.85</td>\n",
       "      <td>29.85</td>\n",
       "      <td>0</td>\n",
       "      <td>1</td>\n",
       "      <td>0</td>\n",
       "      <td>0</td>\n",
       "      <td>1</td>\n",
       "      <td>1</td>\n",
       "      <td>...</td>\n",
       "      <td>0</td>\n",
       "      <td>0</td>\n",
       "      <td>0</td>\n",
       "      <td>1</td>\n",
       "      <td>0</td>\n",
       "      <td>0</td>\n",
       "      <td>1</td>\n",
       "      <td>0</td>\n",
       "      <td>1</td>\n",
       "      <td>0</td>\n",
       "    </tr>\n",
       "    <tr>\n",
       "      <th>1</th>\n",
       "      <td>5575-GNVDE</td>\n",
       "      <td>34.0</td>\n",
       "      <td>56.95</td>\n",
       "      <td>1889.50</td>\n",
       "      <td>0</td>\n",
       "      <td>0</td>\n",
       "      <td>1</td>\n",
       "      <td>1</td>\n",
       "      <td>0</td>\n",
       "      <td>1</td>\n",
       "      <td>...</td>\n",
       "      <td>1</td>\n",
       "      <td>0</td>\n",
       "      <td>1</td>\n",
       "      <td>0</td>\n",
       "      <td>0</td>\n",
       "      <td>0</td>\n",
       "      <td>0</td>\n",
       "      <td>1</td>\n",
       "      <td>1</td>\n",
       "      <td>0</td>\n",
       "    </tr>\n",
       "    <tr>\n",
       "      <th>2</th>\n",
       "      <td>3668-QPYBK</td>\n",
       "      <td>2.0</td>\n",
       "      <td>53.85</td>\n",
       "      <td>108.15</td>\n",
       "      <td>1</td>\n",
       "      <td>0</td>\n",
       "      <td>1</td>\n",
       "      <td>1</td>\n",
       "      <td>0</td>\n",
       "      <td>1</td>\n",
       "      <td>...</td>\n",
       "      <td>0</td>\n",
       "      <td>0</td>\n",
       "      <td>0</td>\n",
       "      <td>1</td>\n",
       "      <td>0</td>\n",
       "      <td>0</td>\n",
       "      <td>0</td>\n",
       "      <td>1</td>\n",
       "      <td>1</td>\n",
       "      <td>0</td>\n",
       "    </tr>\n",
       "    <tr>\n",
       "      <th>3</th>\n",
       "      <td>7795-CFOCW</td>\n",
       "      <td>45.0</td>\n",
       "      <td>42.30</td>\n",
       "      <td>1840.75</td>\n",
       "      <td>0</td>\n",
       "      <td>0</td>\n",
       "      <td>1</td>\n",
       "      <td>1</td>\n",
       "      <td>0</td>\n",
       "      <td>1</td>\n",
       "      <td>...</td>\n",
       "      <td>1</td>\n",
       "      <td>0</td>\n",
       "      <td>1</td>\n",
       "      <td>0</td>\n",
       "      <td>1</td>\n",
       "      <td>0</td>\n",
       "      <td>0</td>\n",
       "      <td>0</td>\n",
       "      <td>1</td>\n",
       "      <td>0</td>\n",
       "    </tr>\n",
       "    <tr>\n",
       "      <th>4</th>\n",
       "      <td>9237-HQITU</td>\n",
       "      <td>2.0</td>\n",
       "      <td>70.70</td>\n",
       "      <td>151.65</td>\n",
       "      <td>1</td>\n",
       "      <td>1</td>\n",
       "      <td>0</td>\n",
       "      <td>1</td>\n",
       "      <td>0</td>\n",
       "      <td>1</td>\n",
       "      <td>...</td>\n",
       "      <td>0</td>\n",
       "      <td>0</td>\n",
       "      <td>0</td>\n",
       "      <td>1</td>\n",
       "      <td>0</td>\n",
       "      <td>0</td>\n",
       "      <td>1</td>\n",
       "      <td>0</td>\n",
       "      <td>1</td>\n",
       "      <td>0</td>\n",
       "    </tr>\n",
       "  </tbody>\n",
       "</table>\n",
       "<p>5 rows × 48 columns</p>\n",
       "</div>"
      ],
      "text/plain": [
       "   customerID  tenure  MonthlyCharges  TotalCharges  Churn  gender_Female  \\\n",
       "0  7590-VHVEG     1.0           29.85         29.85      0              1   \n",
       "1  5575-GNVDE    34.0           56.95       1889.50      0              0   \n",
       "2  3668-QPYBK     2.0           53.85        108.15      1              0   \n",
       "3  7795-CFOCW    45.0           42.30       1840.75      0              0   \n",
       "4  9237-HQITU     2.0           70.70        151.65      1              1   \n",
       "\n",
       "   gender_Male  Partner_No  Partner_Yes  Dependents_No  ...  \\\n",
       "0            0           0            1              1  ...   \n",
       "1            1           1            0              1  ...   \n",
       "2            1           1            0              1  ...   \n",
       "3            1           1            0              1  ...   \n",
       "4            0           1            0              1  ...   \n",
       "\n",
       "   Contract_One year  Contract_Two year  PaperlessBilling_No  \\\n",
       "0                  0                  0                    0   \n",
       "1                  1                  0                    1   \n",
       "2                  0                  0                    0   \n",
       "3                  1                  0                    1   \n",
       "4                  0                  0                    0   \n",
       "\n",
       "   PaperlessBilling_Yes  PaymentMethod_Bank transfer (automatic)  \\\n",
       "0                     1                                        0   \n",
       "1                     0                                        0   \n",
       "2                     1                                        0   \n",
       "3                     0                                        1   \n",
       "4                     1                                        0   \n",
       "\n",
       "   PaymentMethod_Credit card (automatic)  PaymentMethod_Electronic check  \\\n",
       "0                                      0                               1   \n",
       "1                                      0                               0   \n",
       "2                                      0                               0   \n",
       "3                                      0                               0   \n",
       "4                                      0                               1   \n",
       "\n",
       "   PaymentMethod_Mailed check  SeniorCitizen_0.0  SeniorCitizen_1.0  \n",
       "0                           0                  1                  0  \n",
       "1                           1                  1                  0  \n",
       "2                           1                  1                  0  \n",
       "3                           0                  1                  0  \n",
       "4                           0                  1                  0  \n",
       "\n",
       "[5 rows x 48 columns]"
      ]
     },
     "execution_count": 54,
     "metadata": {},
     "output_type": "execute_result"
    }
   ],
   "source": [
    "df.head()"
   ]
  },
  {
   "cell_type": "markdown",
   "metadata": {},
   "source": [
    "Feature Rescaling with Min-Max-Scaling"
   ]
  },
  {
   "cell_type": "code",
   "execution_count": 55,
   "metadata": {},
   "outputs": [
    {
     "data": {
      "text/html": [
       "<div>\n",
       "<style scoped>\n",
       "    .dataframe tbody tr th:only-of-type {\n",
       "        vertical-align: middle;\n",
       "    }\n",
       "\n",
       "    .dataframe tbody tr th {\n",
       "        vertical-align: top;\n",
       "    }\n",
       "\n",
       "    .dataframe thead th {\n",
       "        text-align: right;\n",
       "    }\n",
       "</style>\n",
       "<table border=\"1\" class=\"dataframe\">\n",
       "  <thead>\n",
       "    <tr style=\"text-align: right;\">\n",
       "      <th></th>\n",
       "      <th>customerID</th>\n",
       "      <th>Churn</th>\n",
       "      <th>gender_Female</th>\n",
       "      <th>gender_Male</th>\n",
       "      <th>Partner_No</th>\n",
       "      <th>Partner_Yes</th>\n",
       "      <th>Dependents_No</th>\n",
       "      <th>Dependents_Yes</th>\n",
       "      <th>PhoneService_No</th>\n",
       "      <th>PhoneService_Yes</th>\n",
       "      <th>...</th>\n",
       "      <th>PaperlessBilling_Yes</th>\n",
       "      <th>PaymentMethod_Bank transfer (automatic)</th>\n",
       "      <th>PaymentMethod_Credit card (automatic)</th>\n",
       "      <th>PaymentMethod_Electronic check</th>\n",
       "      <th>PaymentMethod_Mailed check</th>\n",
       "      <th>SeniorCitizen_0.0</th>\n",
       "      <th>SeniorCitizen_1.0</th>\n",
       "      <th>tenure</th>\n",
       "      <th>MonthlyCharges</th>\n",
       "      <th>TotalCharges</th>\n",
       "    </tr>\n",
       "  </thead>\n",
       "  <tbody>\n",
       "    <tr>\n",
       "      <th>0</th>\n",
       "      <td>7590-VHVEG</td>\n",
       "      <td>0</td>\n",
       "      <td>1</td>\n",
       "      <td>0</td>\n",
       "      <td>0</td>\n",
       "      <td>1</td>\n",
       "      <td>1</td>\n",
       "      <td>0</td>\n",
       "      <td>1</td>\n",
       "      <td>0</td>\n",
       "      <td>...</td>\n",
       "      <td>1</td>\n",
       "      <td>0</td>\n",
       "      <td>0</td>\n",
       "      <td>1</td>\n",
       "      <td>0</td>\n",
       "      <td>1</td>\n",
       "      <td>0</td>\n",
       "      <td>0.013889</td>\n",
       "      <td>0.114214</td>\n",
       "      <td>0.001293</td>\n",
       "    </tr>\n",
       "    <tr>\n",
       "      <th>1</th>\n",
       "      <td>5575-GNVDE</td>\n",
       "      <td>0</td>\n",
       "      <td>0</td>\n",
       "      <td>1</td>\n",
       "      <td>1</td>\n",
       "      <td>0</td>\n",
       "      <td>1</td>\n",
       "      <td>0</td>\n",
       "      <td>0</td>\n",
       "      <td>1</td>\n",
       "      <td>...</td>\n",
       "      <td>0</td>\n",
       "      <td>0</td>\n",
       "      <td>0</td>\n",
       "      <td>0</td>\n",
       "      <td>1</td>\n",
       "      <td>1</td>\n",
       "      <td>0</td>\n",
       "      <td>0.472222</td>\n",
       "      <td>0.384539</td>\n",
       "      <td>0.218899</td>\n",
       "    </tr>\n",
       "    <tr>\n",
       "      <th>2</th>\n",
       "      <td>3668-QPYBK</td>\n",
       "      <td>1</td>\n",
       "      <td>0</td>\n",
       "      <td>1</td>\n",
       "      <td>1</td>\n",
       "      <td>0</td>\n",
       "      <td>1</td>\n",
       "      <td>0</td>\n",
       "      <td>0</td>\n",
       "      <td>1</td>\n",
       "      <td>...</td>\n",
       "      <td>1</td>\n",
       "      <td>0</td>\n",
       "      <td>0</td>\n",
       "      <td>0</td>\n",
       "      <td>1</td>\n",
       "      <td>1</td>\n",
       "      <td>0</td>\n",
       "      <td>0.027778</td>\n",
       "      <td>0.353616</td>\n",
       "      <td>0.010455</td>\n",
       "    </tr>\n",
       "    <tr>\n",
       "      <th>3</th>\n",
       "      <td>7795-CFOCW</td>\n",
       "      <td>0</td>\n",
       "      <td>0</td>\n",
       "      <td>1</td>\n",
       "      <td>1</td>\n",
       "      <td>0</td>\n",
       "      <td>1</td>\n",
       "      <td>0</td>\n",
       "      <td>1</td>\n",
       "      <td>0</td>\n",
       "      <td>...</td>\n",
       "      <td>0</td>\n",
       "      <td>1</td>\n",
       "      <td>0</td>\n",
       "      <td>0</td>\n",
       "      <td>0</td>\n",
       "      <td>1</td>\n",
       "      <td>0</td>\n",
       "      <td>0.625000</td>\n",
       "      <td>0.238404</td>\n",
       "      <td>0.213195</td>\n",
       "    </tr>\n",
       "    <tr>\n",
       "      <th>4</th>\n",
       "      <td>9237-HQITU</td>\n",
       "      <td>1</td>\n",
       "      <td>1</td>\n",
       "      <td>0</td>\n",
       "      <td>1</td>\n",
       "      <td>0</td>\n",
       "      <td>1</td>\n",
       "      <td>0</td>\n",
       "      <td>0</td>\n",
       "      <td>1</td>\n",
       "      <td>...</td>\n",
       "      <td>1</td>\n",
       "      <td>0</td>\n",
       "      <td>0</td>\n",
       "      <td>1</td>\n",
       "      <td>0</td>\n",
       "      <td>1</td>\n",
       "      <td>0</td>\n",
       "      <td>0.027778</td>\n",
       "      <td>0.521696</td>\n",
       "      <td>0.015545</td>\n",
       "    </tr>\n",
       "  </tbody>\n",
       "</table>\n",
       "<p>5 rows × 48 columns</p>\n",
       "</div>"
      ],
      "text/plain": [
       "   customerID  Churn  gender_Female  gender_Male  Partner_No  Partner_Yes  \\\n",
       "0  7590-VHVEG      0              1            0           0            1   \n",
       "1  5575-GNVDE      0              0            1           1            0   \n",
       "2  3668-QPYBK      1              0            1           1            0   \n",
       "3  7795-CFOCW      0              0            1           1            0   \n",
       "4  9237-HQITU      1              1            0           1            0   \n",
       "\n",
       "   Dependents_No  Dependents_Yes  PhoneService_No  PhoneService_Yes  ...  \\\n",
       "0              1               0                1                 0  ...   \n",
       "1              1               0                0                 1  ...   \n",
       "2              1               0                0                 1  ...   \n",
       "3              1               0                1                 0  ...   \n",
       "4              1               0                0                 1  ...   \n",
       "\n",
       "   PaperlessBilling_Yes  PaymentMethod_Bank transfer (automatic)  \\\n",
       "0                     1                                        0   \n",
       "1                     0                                        0   \n",
       "2                     1                                        0   \n",
       "3                     0                                        1   \n",
       "4                     1                                        0   \n",
       "\n",
       "   PaymentMethod_Credit card (automatic)  PaymentMethod_Electronic check  \\\n",
       "0                                      0                               1   \n",
       "1                                      0                               0   \n",
       "2                                      0                               0   \n",
       "3                                      0                               0   \n",
       "4                                      0                               1   \n",
       "\n",
       "   PaymentMethod_Mailed check  SeniorCitizen_0.0  SeniorCitizen_1.0    tenure  \\\n",
       "0                           0                  1                  0  0.013889   \n",
       "1                           1                  1                  0  0.472222   \n",
       "2                           1                  1                  0  0.027778   \n",
       "3                           0                  1                  0  0.625000   \n",
       "4                           0                  1                  0  0.027778   \n",
       "\n",
       "   MonthlyCharges  TotalCharges  \n",
       "0        0.114214      0.001293  \n",
       "1        0.384539      0.218899  \n",
       "2        0.353616      0.010455  \n",
       "3        0.238404      0.213195  \n",
       "4        0.521696      0.015545  \n",
       "\n",
       "[5 rows x 48 columns]"
      ]
     },
     "execution_count": 55,
     "metadata": {},
     "output_type": "execute_result"
    }
   ],
   "source": [
    "mms_columns=['tenure','MonthlyCharges','TotalCharges']\n",
    "mms_df=pd.DataFrame(df,columns=mms_columns)\n",
    "df=df.drop(columns=mms_columns)\n",
    "rescaled_features=MinMaxScaler().fit_transform(mms_df)\n",
    "rescaled_df=pd.DataFrame(rescaled_features,columns=mms_columns,index=df.index)\n",
    "df=pd.concat([df,rescaled_df],axis=1)\n",
    "df.head()"
   ]
  },
  {
   "cell_type": "markdown",
   "metadata": {},
   "source": [
    "Feature Importance with Random Forest"
   ]
  },
  {
   "cell_type": "code",
   "execution_count": 56,
   "metadata": {},
   "outputs": [],
   "source": [
    "X=df.iloc[:,2:]\n",
    "y=df['Churn']"
   ]
  },
  {
   "cell_type": "code",
   "execution_count": 57,
   "metadata": {},
   "outputs": [
    {
     "name": "stderr",
     "output_type": "stream",
     "text": [
      "C:\\Users\\soongaya\\Anaconda3\\lib\\site-packages\\sklearn\\ensemble\\forest.py:245: FutureWarning:\n",
      "\n",
      "The default value of n_estimators will change from 10 in version 0.20 to 100 in 0.22.\n",
      "\n"
     ]
    }
   ],
   "source": [
    "important_features=RandomForestClassifier()\n",
    "important_features.fit(X,y)\n",
    "\n",
    "importances=important_features.feature_importances_\n",
    "indices=np.argsort(importances)[::-1]\n",
    "features = [X.columns[i] for i in indices]\n",
    "\n",
    "feat_importance_df = pd.DataFrame(importances, index=features, columns=[\"Importance\"])\n",
    "feat_importance_df.reset_index(level=0, inplace=True)\n",
    "feat_importance_df.columns=['Features','Importance']\n",
    "feat_importance_df.to_csv('../datasets/feature-importance.csv') # save output to csv for faster retrieval"
   ]
  },
  {
   "cell_type": "code",
   "execution_count": 58,
   "metadata": {},
   "outputs": [
    {
     "data": {
      "text/html": [
       "<div>\n",
       "<style scoped>\n",
       "    .dataframe tbody tr th:only-of-type {\n",
       "        vertical-align: middle;\n",
       "    }\n",
       "\n",
       "    .dataframe tbody tr th {\n",
       "        vertical-align: top;\n",
       "    }\n",
       "\n",
       "    .dataframe thead th {\n",
       "        text-align: right;\n",
       "    }\n",
       "</style>\n",
       "<table border=\"1\" class=\"dataframe\">\n",
       "  <thead>\n",
       "    <tr style=\"text-align: right;\">\n",
       "      <th></th>\n",
       "      <th>Unnamed: 0</th>\n",
       "      <th>Features</th>\n",
       "      <th>Importance</th>\n",
       "    </tr>\n",
       "  </thead>\n",
       "  <tbody>\n",
       "    <tr>\n",
       "      <th>45</th>\n",
       "      <td>45</td>\n",
       "      <td>StreamingMovies_No internet service</td>\n",
       "      <td>0.147133</td>\n",
       "    </tr>\n",
       "    <tr>\n",
       "      <th>44</th>\n",
       "      <td>44</td>\n",
       "      <td>TechSupport_No internet service</td>\n",
       "      <td>0.119185</td>\n",
       "    </tr>\n",
       "    <tr>\n",
       "      <th>43</th>\n",
       "      <td>43</td>\n",
       "      <td>PhoneService_Yes</td>\n",
       "      <td>0.117918</td>\n",
       "    </tr>\n",
       "    <tr>\n",
       "      <th>32</th>\n",
       "      <td>32</td>\n",
       "      <td>PaymentMethod_Mailed check</td>\n",
       "      <td>0.098043</td>\n",
       "    </tr>\n",
       "    <tr>\n",
       "      <th>34</th>\n",
       "      <td>34</td>\n",
       "      <td>DeviceProtection_No internet service</td>\n",
       "      <td>0.041778</td>\n",
       "    </tr>\n",
       "  </tbody>\n",
       "</table>\n",
       "</div>"
      ],
      "text/plain": [
       "    Unnamed: 0                              Features  Importance\n",
       "45          45   StreamingMovies_No internet service    0.147133\n",
       "44          44       TechSupport_No internet service    0.119185\n",
       "43          43                      PhoneService_Yes    0.117918\n",
       "32          32            PaymentMethod_Mailed check    0.098043\n",
       "34          34  DeviceProtection_No internet service    0.041778"
      ]
     },
     "execution_count": 58,
     "metadata": {},
     "output_type": "execute_result"
    }
   ],
   "source": [
    "feat_importance_df=pd.read_csv('../datasets/feature-importance.csv')\n",
    "feat_importance_df=feat_importance_df.sort_values(by=['Importance'],ascending=False)\n",
    "feat_importance_df.head()"
   ]
  },
  {
   "cell_type": "code",
   "execution_count": 104,
   "metadata": {},
   "outputs": [
    {
     "data": {
      "application/vnd.plotly.v1+json": {
       "config": {
        "plotlyServerURL": "https://plot.ly"
       },
       "data": [
        {
         "alignmentgroup": "True",
         "hovertemplate": "Features=%{x}<br>Importance=%{marker.color}<extra></extra>",
         "legendgroup": "",
         "marker": {
          "color": [
           0.14713268785674175,
           0.1191846721956878,
           0.11791824676606805,
           0.09804324988007664,
           0.04177811756280245,
           0.02579141988672896,
           0.02336562640984213,
           0.020833745408406143,
           0.020739639814946764,
           0.020669571285474357,
           0.018960642155272524,
           0.016932868440142888,
           0.015635729236991604,
           0.014947932731976412,
           0.014727708771751762
          ],
          "coloraxis": "coloraxis"
         },
         "name": "",
         "offsetgroup": "",
         "orientation": "v",
         "showlegend": false,
         "text": [
          0.14713268785674175,
          0.1191846721956878,
          0.11791824676606805,
          0.09804324988007664,
          0.04177811756280245,
          0.02579141988672896,
          0.02336562640984213,
          0.020833745408406143,
          0.020739639814946764,
          0.020669571285474357,
          0.018960642155272524,
          0.016932868440142888,
          0.015635729236991604,
          0.014947932731976412,
          0.014727708771751762
         ],
         "textposition": "auto",
         "type": "bar",
         "x": [
          "StreamingMovies_No internet service",
          "TechSupport_No internet service",
          "PhoneService_Yes",
          "PaymentMethod_Mailed check",
          "DeviceProtection_No internet service",
          "PhoneService_No",
          "TechSupport_No",
          "TotalCharges",
          "MonthlyCharges",
          "PaperlessBilling_Yes",
          "StreamingTV_Yes",
          "PaperlessBilling_No",
          "DeviceProtection_Yes",
          "Contract_Month-to-month",
          "StreamingMovies_Yes"
         ],
         "xaxis": "x",
         "y": [
          0.14713268785674175,
          0.1191846721956878,
          0.11791824676606805,
          0.09804324988007664,
          0.04177811756280245,
          0.02579141988672896,
          0.02336562640984213,
          0.020833745408406143,
          0.020739639814946764,
          0.020669571285474357,
          0.018960642155272524,
          0.016932868440142888,
          0.015635729236991604,
          0.014947932731976412,
          0.014727708771751762
         ],
         "yaxis": "y"
        }
       ],
       "layout": {
        "autosize": true,
        "barmode": "relative",
        "coloraxis": {
         "colorbar": {
          "title": {
           "text": "Importance"
          }
         },
         "colorscale": [
          [
           0,
           "rgb(20,44,66)"
          ],
          [
           1,
           "rgb(90,179,244)"
          ]
         ]
        },
        "height": 650,
        "legend": {
         "tracegroupgap": 0,
         "x": 0.01,
         "xanchor": "left",
         "y": 0.99,
         "yanchor": "top"
        },
        "margin": {
         "b": 0,
         "l": 0,
         "r": 0,
         "t": 30
        },
        "template": {
         "data": {
          "bar": [
           {
            "error_x": {
             "color": "rgb(51,51,51)"
            },
            "error_y": {
             "color": "rgb(51,51,51)"
            },
            "marker": {
             "line": {
              "color": "rgb(237,237,237)",
              "width": 0.5
             }
            },
            "type": "bar"
           }
          ],
          "barpolar": [
           {
            "marker": {
             "line": {
              "color": "rgb(237,237,237)",
              "width": 0.5
             }
            },
            "type": "barpolar"
           }
          ],
          "carpet": [
           {
            "aaxis": {
             "endlinecolor": "rgb(51,51,51)",
             "gridcolor": "white",
             "linecolor": "white",
             "minorgridcolor": "white",
             "startlinecolor": "rgb(51,51,51)"
            },
            "baxis": {
             "endlinecolor": "rgb(51,51,51)",
             "gridcolor": "white",
             "linecolor": "white",
             "minorgridcolor": "white",
             "startlinecolor": "rgb(51,51,51)"
            },
            "type": "carpet"
           }
          ],
          "choropleth": [
           {
            "colorbar": {
             "outlinewidth": 0,
             "tickcolor": "rgb(237,237,237)",
             "ticklen": 6,
             "ticks": "inside"
            },
            "type": "choropleth"
           }
          ],
          "contour": [
           {
            "colorbar": {
             "outlinewidth": 0,
             "tickcolor": "rgb(237,237,237)",
             "ticklen": 6,
             "ticks": "inside"
            },
            "colorscale": [
             [
              0,
              "rgb(20,44,66)"
             ],
             [
              1,
              "rgb(90,179,244)"
             ]
            ],
            "type": "contour"
           }
          ],
          "contourcarpet": [
           {
            "colorbar": {
             "outlinewidth": 0,
             "tickcolor": "rgb(237,237,237)",
             "ticklen": 6,
             "ticks": "inside"
            },
            "type": "contourcarpet"
           }
          ],
          "heatmap": [
           {
            "colorbar": {
             "outlinewidth": 0,
             "tickcolor": "rgb(237,237,237)",
             "ticklen": 6,
             "ticks": "inside"
            },
            "colorscale": [
             [
              0,
              "rgb(20,44,66)"
             ],
             [
              1,
              "rgb(90,179,244)"
             ]
            ],
            "type": "heatmap"
           }
          ],
          "heatmapgl": [
           {
            "colorbar": {
             "outlinewidth": 0,
             "tickcolor": "rgb(237,237,237)",
             "ticklen": 6,
             "ticks": "inside"
            },
            "colorscale": [
             [
              0,
              "rgb(20,44,66)"
             ],
             [
              1,
              "rgb(90,179,244)"
             ]
            ],
            "type": "heatmapgl"
           }
          ],
          "histogram": [
           {
            "marker": {
             "colorbar": {
              "outlinewidth": 0,
              "tickcolor": "rgb(237,237,237)",
              "ticklen": 6,
              "ticks": "inside"
             }
            },
            "type": "histogram"
           }
          ],
          "histogram2d": [
           {
            "colorbar": {
             "outlinewidth": 0,
             "tickcolor": "rgb(237,237,237)",
             "ticklen": 6,
             "ticks": "inside"
            },
            "colorscale": [
             [
              0,
              "rgb(20,44,66)"
             ],
             [
              1,
              "rgb(90,179,244)"
             ]
            ],
            "type": "histogram2d"
           }
          ],
          "histogram2dcontour": [
           {
            "colorbar": {
             "outlinewidth": 0,
             "tickcolor": "rgb(237,237,237)",
             "ticklen": 6,
             "ticks": "inside"
            },
            "colorscale": [
             [
              0,
              "rgb(20,44,66)"
             ],
             [
              1,
              "rgb(90,179,244)"
             ]
            ],
            "type": "histogram2dcontour"
           }
          ],
          "mesh3d": [
           {
            "colorbar": {
             "outlinewidth": 0,
             "tickcolor": "rgb(237,237,237)",
             "ticklen": 6,
             "ticks": "inside"
            },
            "type": "mesh3d"
           }
          ],
          "parcoords": [
           {
            "line": {
             "colorbar": {
              "outlinewidth": 0,
              "tickcolor": "rgb(237,237,237)",
              "ticklen": 6,
              "ticks": "inside"
             }
            },
            "type": "parcoords"
           }
          ],
          "pie": [
           {
            "automargin": true,
            "type": "pie"
           }
          ],
          "scatter": [
           {
            "marker": {
             "colorbar": {
              "outlinewidth": 0,
              "tickcolor": "rgb(237,237,237)",
              "ticklen": 6,
              "ticks": "inside"
             }
            },
            "type": "scatter"
           }
          ],
          "scatter3d": [
           {
            "line": {
             "colorbar": {
              "outlinewidth": 0,
              "tickcolor": "rgb(237,237,237)",
              "ticklen": 6,
              "ticks": "inside"
             }
            },
            "marker": {
             "colorbar": {
              "outlinewidth": 0,
              "tickcolor": "rgb(237,237,237)",
              "ticklen": 6,
              "ticks": "inside"
             }
            },
            "type": "scatter3d"
           }
          ],
          "scattercarpet": [
           {
            "marker": {
             "colorbar": {
              "outlinewidth": 0,
              "tickcolor": "rgb(237,237,237)",
              "ticklen": 6,
              "ticks": "inside"
             }
            },
            "type": "scattercarpet"
           }
          ],
          "scattergeo": [
           {
            "marker": {
             "colorbar": {
              "outlinewidth": 0,
              "tickcolor": "rgb(237,237,237)",
              "ticklen": 6,
              "ticks": "inside"
             }
            },
            "type": "scattergeo"
           }
          ],
          "scattergl": [
           {
            "marker": {
             "colorbar": {
              "outlinewidth": 0,
              "tickcolor": "rgb(237,237,237)",
              "ticklen": 6,
              "ticks": "inside"
             }
            },
            "type": "scattergl"
           }
          ],
          "scattermapbox": [
           {
            "marker": {
             "colorbar": {
              "outlinewidth": 0,
              "tickcolor": "rgb(237,237,237)",
              "ticklen": 6,
              "ticks": "inside"
             }
            },
            "type": "scattermapbox"
           }
          ],
          "scatterpolar": [
           {
            "marker": {
             "colorbar": {
              "outlinewidth": 0,
              "tickcolor": "rgb(237,237,237)",
              "ticklen": 6,
              "ticks": "inside"
             }
            },
            "type": "scatterpolar"
           }
          ],
          "scatterpolargl": [
           {
            "marker": {
             "colorbar": {
              "outlinewidth": 0,
              "tickcolor": "rgb(237,237,237)",
              "ticklen": 6,
              "ticks": "inside"
             }
            },
            "type": "scatterpolargl"
           }
          ],
          "scatterternary": [
           {
            "marker": {
             "colorbar": {
              "outlinewidth": 0,
              "tickcolor": "rgb(237,237,237)",
              "ticklen": 6,
              "ticks": "inside"
             }
            },
            "type": "scatterternary"
           }
          ],
          "surface": [
           {
            "colorbar": {
             "outlinewidth": 0,
             "tickcolor": "rgb(237,237,237)",
             "ticklen": 6,
             "ticks": "inside"
            },
            "colorscale": [
             [
              0,
              "rgb(20,44,66)"
             ],
             [
              1,
              "rgb(90,179,244)"
             ]
            ],
            "type": "surface"
           }
          ],
          "table": [
           {
            "cells": {
             "fill": {
              "color": "rgb(237,237,237)"
             },
             "line": {
              "color": "white"
             }
            },
            "header": {
             "fill": {
              "color": "rgb(217,217,217)"
             },
             "line": {
              "color": "white"
             }
            },
            "type": "table"
           }
          ]
         },
         "layout": {
          "annotationdefaults": {
           "arrowhead": 0,
           "arrowwidth": 1
          },
          "autotypenumbers": "strict",
          "coloraxis": {
           "colorbar": {
            "outlinewidth": 0,
            "tickcolor": "rgb(237,237,237)",
            "ticklen": 6,
            "ticks": "inside"
           }
          },
          "colorscale": {
           "sequential": [
            [
             0,
             "rgb(20,44,66)"
            ],
            [
             1,
             "rgb(90,179,244)"
            ]
           ],
           "sequentialminus": [
            [
             0,
             "rgb(20,44,66)"
            ],
            [
             1,
             "rgb(90,179,244)"
            ]
           ]
          },
          "colorway": [
           "#F8766D",
           "#A3A500",
           "#00BF7D",
           "#00B0F6",
           "#E76BF3"
          ],
          "font": {
           "color": "rgb(51,51,51)"
          },
          "geo": {
           "bgcolor": "white",
           "lakecolor": "white",
           "landcolor": "rgb(237,237,237)",
           "showlakes": true,
           "showland": true,
           "subunitcolor": "white"
          },
          "hoverlabel": {
           "align": "left"
          },
          "hovermode": "closest",
          "paper_bgcolor": "white",
          "plot_bgcolor": "rgb(237,237,237)",
          "polar": {
           "angularaxis": {
            "gridcolor": "white",
            "linecolor": "white",
            "showgrid": true,
            "tickcolor": "rgb(51,51,51)",
            "ticks": "outside"
           },
           "bgcolor": "rgb(237,237,237)",
           "radialaxis": {
            "gridcolor": "white",
            "linecolor": "white",
            "showgrid": true,
            "tickcolor": "rgb(51,51,51)",
            "ticks": "outside"
           }
          },
          "scene": {
           "xaxis": {
            "backgroundcolor": "rgb(237,237,237)",
            "gridcolor": "white",
            "gridwidth": 2,
            "linecolor": "white",
            "showbackground": true,
            "showgrid": true,
            "tickcolor": "rgb(51,51,51)",
            "ticks": "outside",
            "zerolinecolor": "white"
           },
           "yaxis": {
            "backgroundcolor": "rgb(237,237,237)",
            "gridcolor": "white",
            "gridwidth": 2,
            "linecolor": "white",
            "showbackground": true,
            "showgrid": true,
            "tickcolor": "rgb(51,51,51)",
            "ticks": "outside",
            "zerolinecolor": "white"
           },
           "zaxis": {
            "backgroundcolor": "rgb(237,237,237)",
            "gridcolor": "white",
            "gridwidth": 2,
            "linecolor": "white",
            "showbackground": true,
            "showgrid": true,
            "tickcolor": "rgb(51,51,51)",
            "ticks": "outside",
            "zerolinecolor": "white"
           }
          },
          "shapedefaults": {
           "fillcolor": "black",
           "line": {
            "width": 0
           },
           "opacity": 0.3
          },
          "ternary": {
           "aaxis": {
            "gridcolor": "white",
            "linecolor": "white",
            "showgrid": true,
            "tickcolor": "rgb(51,51,51)",
            "ticks": "outside"
           },
           "baxis": {
            "gridcolor": "white",
            "linecolor": "white",
            "showgrid": true,
            "tickcolor": "rgb(51,51,51)",
            "ticks": "outside"
           },
           "bgcolor": "rgb(237,237,237)",
           "caxis": {
            "gridcolor": "white",
            "linecolor": "white",
            "showgrid": true,
            "tickcolor": "rgb(51,51,51)",
            "ticks": "outside"
           }
          },
          "xaxis": {
           "automargin": true,
           "gridcolor": "white",
           "linecolor": "white",
           "showgrid": true,
           "tickcolor": "rgb(51,51,51)",
           "ticks": "outside",
           "title": {
            "standoff": 15
           },
           "zerolinecolor": "white"
          },
          "yaxis": {
           "automargin": true,
           "gridcolor": "white",
           "linecolor": "white",
           "showgrid": true,
           "tickcolor": "rgb(51,51,51)",
           "ticks": "outside",
           "title": {
            "standoff": 15
           },
           "zerolinecolor": "white"
          }
         }
        },
        "title": {
         "text": "Random Feature Importance"
        },
        "xaxis": {
         "anchor": "y",
         "domain": [
          0,
          1
         ],
         "title": {
          "text": "Features"
         }
        },
        "yaxis": {
         "anchor": "x",
         "domain": [
          0,
          1
         ],
         "title": {
          "text": "Importance"
         }
        }
       }
      },
      "text/html": [
       "<div>                            <div id=\"7167869c-d874-4c10-99ba-65475d30ed0f\" class=\"plotly-graph-div\" style=\"height:650px; width:100%;\"></div>            <script type=\"text/javascript\">                require([\"plotly\"], function(Plotly) {                    window.PLOTLYENV=window.PLOTLYENV || {};                                    if (document.getElementById(\"7167869c-d874-4c10-99ba-65475d30ed0f\")) {                    Plotly.newPlot(                        \"7167869c-d874-4c10-99ba-65475d30ed0f\",                        [{\"alignmentgroup\": \"True\", \"hovertemplate\": \"Features=%{x}<br>Importance=%{marker.color}<extra></extra>\", \"legendgroup\": \"\", \"marker\": {\"color\": [0.14713268785674175, 0.1191846721956878, 0.11791824676606805, 0.09804324988007664, 0.04177811756280245, 0.02579141988672896, 0.02336562640984213, 0.020833745408406143, 0.020739639814946764, 0.020669571285474357, 0.018960642155272524, 0.016932868440142888, 0.015635729236991604, 0.014947932731976412, 0.014727708771751762], \"coloraxis\": \"coloraxis\"}, \"name\": \"\", \"offsetgroup\": \"\", \"orientation\": \"v\", \"showlegend\": false, \"text\": [0.14713268785674175, 0.1191846721956878, 0.11791824676606805, 0.09804324988007664, 0.04177811756280245, 0.02579141988672896, 0.02336562640984213, 0.020833745408406143, 0.020739639814946764, 0.020669571285474357, 0.018960642155272524, 0.016932868440142888, 0.015635729236991604, 0.014947932731976412, 0.014727708771751762], \"textposition\": \"auto\", \"type\": \"bar\", \"x\": [\"StreamingMovies_No internet service\", \"TechSupport_No internet service\", \"PhoneService_Yes\", \"PaymentMethod_Mailed check\", \"DeviceProtection_No internet service\", \"PhoneService_No\", \"TechSupport_No\", \"TotalCharges\", \"MonthlyCharges\", \"PaperlessBilling_Yes\", \"StreamingTV_Yes\", \"PaperlessBilling_No\", \"DeviceProtection_Yes\", \"Contract_Month-to-month\", \"StreamingMovies_Yes\"], \"xaxis\": \"x\", \"y\": [0.14713268785674175, 0.1191846721956878, 0.11791824676606805, 0.09804324988007664, 0.04177811756280245, 0.02579141988672896, 0.02336562640984213, 0.020833745408406143, 0.020739639814946764, 0.020669571285474357, 0.018960642155272524, 0.016932868440142888, 0.015635729236991604, 0.014947932731976412, 0.014727708771751762], \"yaxis\": \"y\"}],                        {\"autosize\": true, \"barmode\": \"relative\", \"coloraxis\": {\"colorbar\": {\"title\": {\"text\": \"Importance\"}}, \"colorscale\": [[0.0, \"rgb(20,44,66)\"], [1.0, \"rgb(90,179,244)\"]]}, \"height\": 650, \"legend\": {\"tracegroupgap\": 0, \"x\": 0.01, \"xanchor\": \"left\", \"y\": 0.99, \"yanchor\": \"top\"}, \"margin\": {\"b\": 0, \"l\": 0, \"r\": 0, \"t\": 30}, \"template\": {\"data\": {\"bar\": [{\"error_x\": {\"color\": \"rgb(51,51,51)\"}, \"error_y\": {\"color\": \"rgb(51,51,51)\"}, \"marker\": {\"line\": {\"color\": \"rgb(237,237,237)\", \"width\": 0.5}}, \"type\": \"bar\"}], \"barpolar\": [{\"marker\": {\"line\": {\"color\": \"rgb(237,237,237)\", \"width\": 0.5}}, \"type\": \"barpolar\"}], \"carpet\": [{\"aaxis\": {\"endlinecolor\": \"rgb(51,51,51)\", \"gridcolor\": \"white\", \"linecolor\": \"white\", \"minorgridcolor\": \"white\", \"startlinecolor\": \"rgb(51,51,51)\"}, \"baxis\": {\"endlinecolor\": \"rgb(51,51,51)\", \"gridcolor\": \"white\", \"linecolor\": \"white\", \"minorgridcolor\": \"white\", \"startlinecolor\": \"rgb(51,51,51)\"}, \"type\": \"carpet\"}], \"choropleth\": [{\"colorbar\": {\"outlinewidth\": 0, \"tickcolor\": \"rgb(237,237,237)\", \"ticklen\": 6, \"ticks\": \"inside\"}, \"type\": \"choropleth\"}], \"contour\": [{\"colorbar\": {\"outlinewidth\": 0, \"tickcolor\": \"rgb(237,237,237)\", \"ticklen\": 6, \"ticks\": \"inside\"}, \"colorscale\": [[0, \"rgb(20,44,66)\"], [1, \"rgb(90,179,244)\"]], \"type\": \"contour\"}], \"contourcarpet\": [{\"colorbar\": {\"outlinewidth\": 0, \"tickcolor\": \"rgb(237,237,237)\", \"ticklen\": 6, \"ticks\": \"inside\"}, \"type\": \"contourcarpet\"}], \"heatmap\": [{\"colorbar\": {\"outlinewidth\": 0, \"tickcolor\": \"rgb(237,237,237)\", \"ticklen\": 6, \"ticks\": \"inside\"}, \"colorscale\": [[0, \"rgb(20,44,66)\"], [1, \"rgb(90,179,244)\"]], \"type\": \"heatmap\"}], \"heatmapgl\": [{\"colorbar\": {\"outlinewidth\": 0, \"tickcolor\": \"rgb(237,237,237)\", \"ticklen\": 6, \"ticks\": \"inside\"}, \"colorscale\": [[0, \"rgb(20,44,66)\"], [1, \"rgb(90,179,244)\"]], \"type\": \"heatmapgl\"}], \"histogram\": [{\"marker\": {\"colorbar\": {\"outlinewidth\": 0, \"tickcolor\": \"rgb(237,237,237)\", \"ticklen\": 6, \"ticks\": \"inside\"}}, \"type\": \"histogram\"}], \"histogram2d\": [{\"colorbar\": {\"outlinewidth\": 0, \"tickcolor\": \"rgb(237,237,237)\", \"ticklen\": 6, \"ticks\": \"inside\"}, \"colorscale\": [[0, \"rgb(20,44,66)\"], [1, \"rgb(90,179,244)\"]], \"type\": \"histogram2d\"}], \"histogram2dcontour\": [{\"colorbar\": {\"outlinewidth\": 0, \"tickcolor\": \"rgb(237,237,237)\", \"ticklen\": 6, \"ticks\": \"inside\"}, \"colorscale\": [[0, \"rgb(20,44,66)\"], [1, \"rgb(90,179,244)\"]], \"type\": \"histogram2dcontour\"}], \"mesh3d\": [{\"colorbar\": {\"outlinewidth\": 0, \"tickcolor\": \"rgb(237,237,237)\", \"ticklen\": 6, \"ticks\": \"inside\"}, \"type\": \"mesh3d\"}], \"parcoords\": [{\"line\": {\"colorbar\": {\"outlinewidth\": 0, \"tickcolor\": \"rgb(237,237,237)\", \"ticklen\": 6, \"ticks\": \"inside\"}}, \"type\": \"parcoords\"}], \"pie\": [{\"automargin\": true, \"type\": \"pie\"}], \"scatter\": [{\"marker\": {\"colorbar\": {\"outlinewidth\": 0, \"tickcolor\": \"rgb(237,237,237)\", \"ticklen\": 6, \"ticks\": \"inside\"}}, \"type\": \"scatter\"}], \"scatter3d\": [{\"line\": {\"colorbar\": {\"outlinewidth\": 0, \"tickcolor\": \"rgb(237,237,237)\", \"ticklen\": 6, \"ticks\": \"inside\"}}, \"marker\": {\"colorbar\": {\"outlinewidth\": 0, \"tickcolor\": \"rgb(237,237,237)\", \"ticklen\": 6, \"ticks\": \"inside\"}}, \"type\": \"scatter3d\"}], \"scattercarpet\": [{\"marker\": {\"colorbar\": {\"outlinewidth\": 0, \"tickcolor\": \"rgb(237,237,237)\", \"ticklen\": 6, \"ticks\": \"inside\"}}, \"type\": \"scattercarpet\"}], \"scattergeo\": [{\"marker\": {\"colorbar\": {\"outlinewidth\": 0, \"tickcolor\": \"rgb(237,237,237)\", \"ticklen\": 6, \"ticks\": \"inside\"}}, \"type\": \"scattergeo\"}], \"scattergl\": [{\"marker\": {\"colorbar\": {\"outlinewidth\": 0, \"tickcolor\": \"rgb(237,237,237)\", \"ticklen\": 6, \"ticks\": \"inside\"}}, \"type\": \"scattergl\"}], \"scattermapbox\": [{\"marker\": {\"colorbar\": {\"outlinewidth\": 0, \"tickcolor\": \"rgb(237,237,237)\", \"ticklen\": 6, \"ticks\": \"inside\"}}, \"type\": \"scattermapbox\"}], \"scatterpolar\": [{\"marker\": {\"colorbar\": {\"outlinewidth\": 0, \"tickcolor\": \"rgb(237,237,237)\", \"ticklen\": 6, \"ticks\": \"inside\"}}, \"type\": \"scatterpolar\"}], \"scatterpolargl\": [{\"marker\": {\"colorbar\": {\"outlinewidth\": 0, \"tickcolor\": \"rgb(237,237,237)\", \"ticklen\": 6, \"ticks\": \"inside\"}}, \"type\": \"scatterpolargl\"}], \"scatterternary\": [{\"marker\": {\"colorbar\": {\"outlinewidth\": 0, \"tickcolor\": \"rgb(237,237,237)\", \"ticklen\": 6, \"ticks\": \"inside\"}}, \"type\": \"scatterternary\"}], \"surface\": [{\"colorbar\": {\"outlinewidth\": 0, \"tickcolor\": \"rgb(237,237,237)\", \"ticklen\": 6, \"ticks\": \"inside\"}, \"colorscale\": [[0, \"rgb(20,44,66)\"], [1, \"rgb(90,179,244)\"]], \"type\": \"surface\"}], \"table\": [{\"cells\": {\"fill\": {\"color\": \"rgb(237,237,237)\"}, \"line\": {\"color\": \"white\"}}, \"header\": {\"fill\": {\"color\": \"rgb(217,217,217)\"}, \"line\": {\"color\": \"white\"}}, \"type\": \"table\"}]}, \"layout\": {\"annotationdefaults\": {\"arrowhead\": 0, \"arrowwidth\": 1}, \"autotypenumbers\": \"strict\", \"coloraxis\": {\"colorbar\": {\"outlinewidth\": 0, \"tickcolor\": \"rgb(237,237,237)\", \"ticklen\": 6, \"ticks\": \"inside\"}}, \"colorscale\": {\"sequential\": [[0, \"rgb(20,44,66)\"], [1, \"rgb(90,179,244)\"]], \"sequentialminus\": [[0, \"rgb(20,44,66)\"], [1, \"rgb(90,179,244)\"]]}, \"colorway\": [\"#F8766D\", \"#A3A500\", \"#00BF7D\", \"#00B0F6\", \"#E76BF3\"], \"font\": {\"color\": \"rgb(51,51,51)\"}, \"geo\": {\"bgcolor\": \"white\", \"lakecolor\": \"white\", \"landcolor\": \"rgb(237,237,237)\", \"showlakes\": true, \"showland\": true, \"subunitcolor\": \"white\"}, \"hoverlabel\": {\"align\": \"left\"}, \"hovermode\": \"closest\", \"paper_bgcolor\": \"white\", \"plot_bgcolor\": \"rgb(237,237,237)\", \"polar\": {\"angularaxis\": {\"gridcolor\": \"white\", \"linecolor\": \"white\", \"showgrid\": true, \"tickcolor\": \"rgb(51,51,51)\", \"ticks\": \"outside\"}, \"bgcolor\": \"rgb(237,237,237)\", \"radialaxis\": {\"gridcolor\": \"white\", \"linecolor\": \"white\", \"showgrid\": true, \"tickcolor\": \"rgb(51,51,51)\", \"ticks\": \"outside\"}}, \"scene\": {\"xaxis\": {\"backgroundcolor\": \"rgb(237,237,237)\", \"gridcolor\": \"white\", \"gridwidth\": 2, \"linecolor\": \"white\", \"showbackground\": true, \"showgrid\": true, \"tickcolor\": \"rgb(51,51,51)\", \"ticks\": \"outside\", \"zerolinecolor\": \"white\"}, \"yaxis\": {\"backgroundcolor\": \"rgb(237,237,237)\", \"gridcolor\": \"white\", \"gridwidth\": 2, \"linecolor\": \"white\", \"showbackground\": true, \"showgrid\": true, \"tickcolor\": \"rgb(51,51,51)\", \"ticks\": \"outside\", \"zerolinecolor\": \"white\"}, \"zaxis\": {\"backgroundcolor\": \"rgb(237,237,237)\", \"gridcolor\": \"white\", \"gridwidth\": 2, \"linecolor\": \"white\", \"showbackground\": true, \"showgrid\": true, \"tickcolor\": \"rgb(51,51,51)\", \"ticks\": \"outside\", \"zerolinecolor\": \"white\"}}, \"shapedefaults\": {\"fillcolor\": \"black\", \"line\": {\"width\": 0}, \"opacity\": 0.3}, \"ternary\": {\"aaxis\": {\"gridcolor\": \"white\", \"linecolor\": \"white\", \"showgrid\": true, \"tickcolor\": \"rgb(51,51,51)\", \"ticks\": \"outside\"}, \"baxis\": {\"gridcolor\": \"white\", \"linecolor\": \"white\", \"showgrid\": true, \"tickcolor\": \"rgb(51,51,51)\", \"ticks\": \"outside\"}, \"bgcolor\": \"rgb(237,237,237)\", \"caxis\": {\"gridcolor\": \"white\", \"linecolor\": \"white\", \"showgrid\": true, \"tickcolor\": \"rgb(51,51,51)\", \"ticks\": \"outside\"}}, \"xaxis\": {\"automargin\": true, \"gridcolor\": \"white\", \"linecolor\": \"white\", \"showgrid\": true, \"tickcolor\": \"rgb(51,51,51)\", \"ticks\": \"outside\", \"title\": {\"standoff\": 15}, \"zerolinecolor\": \"white\"}, \"yaxis\": {\"automargin\": true, \"gridcolor\": \"white\", \"linecolor\": \"white\", \"showgrid\": true, \"tickcolor\": \"rgb(51,51,51)\", \"ticks\": \"outside\", \"title\": {\"standoff\": 15}, \"zerolinecolor\": \"white\"}}}, \"title\": {\"text\": \"Random Feature Importance\"}, \"xaxis\": {\"anchor\": \"y\", \"domain\": [0.0, 1.0], \"title\": {\"text\": \"Features\"}}, \"yaxis\": {\"anchor\": \"x\", \"domain\": [0.0, 1.0], \"title\": {\"text\": \"Importance\"}}},                        {\"responsive\": true}                    ).then(function(){\n",
       "                            \n",
       "var gd = document.getElementById('7167869c-d874-4c10-99ba-65475d30ed0f');\n",
       "var x = new MutationObserver(function (mutations, observer) {{\n",
       "        var display = window.getComputedStyle(gd).display;\n",
       "        if (!display || display === 'none') {{\n",
       "            console.log([gd, 'removed!']);\n",
       "            Plotly.purge(gd);\n",
       "            observer.disconnect();\n",
       "        }}\n",
       "}});\n",
       "\n",
       "// Listen for the removal of the full notebook cells\n",
       "var notebookContainer = gd.closest('#notebook-container');\n",
       "if (notebookContainer) {{\n",
       "    x.observe(notebookContainer, {childList: true});\n",
       "}}\n",
       "\n",
       "// Listen for the clearing of the current output cell\n",
       "var outputEl = gd.closest('.output');\n",
       "if (outputEl) {{\n",
       "    x.observe(outputEl, {childList: true});\n",
       "}}\n",
       "\n",
       "                        })                };                });            </script>        </div>"
      ]
     },
     "metadata": {},
     "output_type": "display_data"
    }
   ],
   "source": [
    "feat_importance_barchart=px.bar(feat_importance_df.head(15),x='Features',y='Importance',text='Importance',color='Importance',height=650,title='Random Feature Importance')\n",
    "feat_importance_barchart.update_layout(legend=dict(yanchor=\"top\",y=0.99,xanchor=\"left\",x=0.01),autosize=True,margin=dict(t=30,b=0,l=0,r=0))"
   ]
  },
  {
   "cell_type": "markdown",
   "metadata": {},
   "source": [
    "Reorder Columns alphabetically"
   ]
  },
  {
   "cell_type": "code",
   "execution_count": 60,
   "metadata": {},
   "outputs": [],
   "source": [
    "X= X.sort_index(axis=1)"
   ]
  },
  {
   "cell_type": "markdown",
   "metadata": {},
   "source": [
    "Split data into Training and Validation sets"
   ]
  },
  {
   "cell_type": "code",
   "execution_count": 61,
   "metadata": {},
   "outputs": [],
   "source": [
    "X_train,X_test,y_train,y_test=train_test_split(X,y,test_size=0.3, random_state=0)"
   ]
  },
  {
   "cell_type": "code",
   "execution_count": 62,
   "metadata": {},
   "outputs": [
    {
     "data": {
      "text/plain": [
       "((1570, 46), (673, 46), (1570,), (673,))"
      ]
     },
     "execution_count": 62,
     "metadata": {},
     "output_type": "execute_result"
    }
   ],
   "source": [
    "X_train.shape, X_test.shape, y_train.shape,y_test.shape"
   ]
  },
  {
   "cell_type": "markdown",
   "metadata": {},
   "source": [
    "Handling Imbalanced Classes With Upsampling Using SMOTE"
   ]
  },
  {
   "cell_type": "code",
   "execution_count": 63,
   "metadata": {},
   "outputs": [],
   "source": [
    "smote=SMOTE(random_state=5)"
   ]
  },
  {
   "cell_type": "code",
   "execution_count": 64,
   "metadata": {},
   "outputs": [],
   "source": [
    "X_train_resampled,y_train_resampled=smote.fit_sample(X_train,y_train.ravel())"
   ]
  },
  {
   "cell_type": "code",
   "execution_count": 65,
   "metadata": {},
   "outputs": [
    {
     "data": {
      "text/plain": [
       "((2334, 46), (2334,))"
      ]
     },
     "execution_count": 65,
     "metadata": {},
     "output_type": "execute_result"
    }
   ],
   "source": [
    "X_train_resampled.shape, y_train_resampled.shape"
   ]
  },
  {
   "cell_type": "markdown",
   "metadata": {},
   "source": [
    "## ML Modeling"
   ]
  },
  {
   "cell_type": "markdown",
   "metadata": {},
   "source": [
    "Create Pipeline"
   ]
  },
  {
   "cell_type": "code",
   "execution_count": 66,
   "metadata": {},
   "outputs": [],
   "source": [
    "logistic_reg_pipeline=Pipeline([('clf',LogisticRegression(random_state=2))])\n",
    "random_forest_pipeline=Pipeline([('clf',RandomForestClassifier(random_state=2))])\n",
    "svm_pipeline=Pipeline([('clf',SVC(random_state=2,probability=True))])"
   ]
  },
  {
   "cell_type": "markdown",
   "metadata": {},
   "source": [
    "Set grid search params"
   ]
  },
  {
   "cell_type": "code",
   "execution_count": 67,
   "metadata": {},
   "outputs": [],
   "source": [
    "param_range=[1,2,3,4,5,6,7,8,9,10]\n",
    "param_range_float=[0.1,0.2,0.3,0.4,0.5,0.6,0.7,0.8,0.9,1.0]\n",
    "\n",
    "grid_params_lr = [{'clf__penalty': ['l1', 'l2'],\n",
    "                   'clf__C': param_range_float,\n",
    "                   'clf__solver': ['liblinear']}] \n",
    "\n",
    "grid_params_rf = [{'clf__criterion': ['gini', 'entropy'],\n",
    "                   'clf__min_samples_leaf': param_range,\n",
    "                   'clf__max_depth': param_range,\n",
    "                   'clf__min_samples_split': param_range[1:]}]\n",
    "\n",
    "grid_params_svm = [{'clf__kernel': ['linear', 'rbf'], \n",
    "                    'clf__C': param_range}]"
   ]
  },
  {
   "cell_type": "markdown",
   "metadata": {},
   "source": [
    "Create GridSearch"
   ]
  },
  {
   "cell_type": "code",
   "execution_count": 68,
   "metadata": {},
   "outputs": [],
   "source": [
    "jobs = -1\n",
    "\n",
    "grid_search_lr = GridSearchCV(estimator=logistic_reg_pipeline,\n",
    "                     param_grid=grid_params_lr,\n",
    "                     scoring='accuracy',\n",
    "                     cv=10) \n",
    "grid_search_rf = GridSearchCV(estimator=random_forest_pipeline,\n",
    "                     param_grid=grid_params_rf,\n",
    "                     scoring='accuracy',\n",
    "                     cv=10, \n",
    "                     n_jobs=jobs) \n",
    "grid_search_svm = GridSearchCV(estimator=svm_pipeline,\n",
    "                      param_grid=grid_params_svm,\n",
    "                      scoring='accuracy',\n",
    "                      cv=10,\n",
    "                      n_jobs=jobs)"
   ]
  },
  {
   "cell_type": "markdown",
   "metadata": {},
   "source": [
    "Organize pipeline"
   ]
  },
  {
   "cell_type": "code",
   "execution_count": 69,
   "metadata": {},
   "outputs": [],
   "source": [
    "grids = [grid_search_lr, grid_search_rf, grid_search_svm]\n",
    "grid_dict = {0: 'Logistic Regression',1: 'Random Forest', 2: 'Support Vector Machine'}"
   ]
  },
  {
   "cell_type": "markdown",
   "metadata": {},
   "source": [
    "Fit the grid search pipeline"
   ]
  },
  {
   "cell_type": "code",
   "execution_count": 70,
   "metadata": {},
   "outputs": [
    {
     "name": "stdout",
     "output_type": "stream",
     "text": [
      "Optimizing models....\n",
      "\n",
      "Estimator: Logistic Regression\n",
      "\n",
      "Logistic Regression grid search pipeline saved to file: Churn Models/Logistic Regression.pkl\n",
      "Best params: {'clf__C': 0.1, 'clf__penalty': 'l1', 'clf__solver': 'liblinear'}\n",
      "Best training accuracy: 0.813\n",
      "Test set accuracy score for best params: 0.801 \n",
      "\n",
      "Estimator: Random Forest\n"
     ]
    },
    {
     "name": "stderr",
     "output_type": "stream",
     "text": [
      "C:\\Users\\soongaya\\Anaconda3\\lib\\site-packages\\sklearn\\ensemble\\forest.py:245: FutureWarning:\n",
      "\n",
      "The default value of n_estimators will change from 10 in version 0.20 to 100 in 0.22.\n",
      "\n"
     ]
    },
    {
     "name": "stdout",
     "output_type": "stream",
     "text": [
      "\n",
      "Random Forest grid search pipeline saved to file: Churn Models/Random Forest.pkl\n",
      "Best params: {'clf__criterion': 'gini', 'clf__max_depth': 7, 'clf__min_samples_leaf': 8, 'clf__min_samples_split': 2}\n",
      "Best training accuracy: 0.818\n",
      "Test set accuracy score for best params: 0.798 \n",
      "\n",
      "Estimator: Support Vector Machine\n",
      "\n",
      "Support Vector Machine grid search pipeline saved to file: Churn Models/Support Vector Machine.pkl\n",
      "Best params: {'clf__C': 6, 'clf__kernel': 'linear'}\n",
      "Best training accuracy: 0.811\n",
      "Test set accuracy score for best params: 0.793 \n",
      "\n",
      "Classifier with best test set accuracy: Logistic Regression\n",
      "{'Type': ['Confusion_Matrix', 'Confusion_Matrix', 'Confusion_Matrix'], 'Model': ['Logistic Regression', 'Random Forest', 'Support Vector Machine'], 'Accuracy': [nan, nan, nan], 'Precision': [nan, nan, nan], 'Recall': [nan, nan, nan], 'F_1_Score': [nan, nan, nan], 'Confusion_Matrix_ROC': [array([[444,  43],\n",
      "       [ 91,  95]], dtype=int64), array([[445,  42],\n",
      "       [ 94,  92]], dtype=int64), array([[433,  54],\n",
      "       [ 85, 101]], dtype=int64)], 'AUC_Score': [nan, nan, nan]}\n"
     ]
    }
   ],
   "source": [
    "print('Optimizing models....')\n",
    "best_accuracy = 0.0\n",
    "best_estimator = 0\n",
    "best_gridsearch = ''\n",
    "model_metrics = {\"Type\":[],\"Model\":[],\"Accuracy\":[],\"Precision\":[],\"Recall\":[],\"F_1_Score\":[],\"Confusion_Matrix_ROC\":[],'AUC_Score':[]};\n",
    "con_matrix={\"Type\":[],\"Model\":[],\"Accuracy\":[],\"Precision\":[],\"Recall\":[],\"F_1_Score\":[],\"Confusion_Matrix_ROC\":[],'AUC_Score':[]}\n",
    "uac_roc_fpr={\"FPR Model\":[],\"FPR\":[],'AUC_Score':[]}\n",
    "uac_roc_tpr={\"TPR Model\":[],\"TPR\":[],'AUC_Score':[]}\n",
    "\n",
    "# Create a directory where to save our models\n",
    "model_save_directory='Churn Models'\n",
    "if not os.path.exists(model_save_directory):\n",
    "    os.makedirs(model_save_directory)\n",
    "    \n",
    "for idx, gs in enumerate(grids):\n",
    "    print('\\nEstimator: %s' % grid_dict[idx])\n",
    "    # Fit grid search\n",
    "    gs.fit(X_train, y_train)\n",
    "    # save model for later use\n",
    "    model_pipeline=model_save_directory+'/'+grid_dict[idx]+'.pkl'\n",
    "    joblib.dump(gs,model_pipeline , compress=1)\n",
    "    print('\\n%s grid search pipeline saved to file: %s' % (grid_dict[idx], model_pipeline))\n",
    "    # Best params\n",
    "    print('Best params: %s' % gs.best_params_)\n",
    "    # Best training data accuracy\n",
    "    print('Best training accuracy: %.3f' % gs.best_score_)\n",
    "    # Predict on test data with best params\n",
    "    y_pred = gs.predict(X_test)\n",
    "    pred_prob = gs.predict_proba(X_test) # predict probabilities\n",
    "    fpr, tpr, thresh = roc_curve(y_test, pred_prob[:,1], pos_label=1) # roc curve for models\n",
    "    auc_score = roc_auc_score(y_test, pred_prob[:,1]) # auc score\n",
    "    # Test data accuracy of model with best params\n",
    "    # Evaluate models and store metrics in a dataframe\n",
    "    print('Test set accuracy score for best params: %.3f ' % accuracy_score(y_test, y_pred))\n",
    "            # Append metrics ,accuracy_score(y_test, y_pred\n",
    "    model_metrics[\"Type\"].append('Metric')\n",
    "    model_metrics[\"Model\"].append(grid_dict[idx])\n",
    "    model_metrics[\"Accuracy\"].append(accuracy_score(y_test, y_pred)*100)\n",
    "    model_metrics[\"Precision\"].append(precision_score(y_test, y_pred)*100)\n",
    "    model_metrics[\"Recall\"].append(recall_score(y_test, y_pred)*100)\n",
    "    model_metrics[\"F_1_Score\"].append(f1_score(y_test, y_pred)*100)\n",
    "    model_metrics[\"Confusion_Matrix_ROC\"].append(np.nan)\n",
    "    model_metrics[\"AUC_Score\"].append(auc_score)\n",
    "     \n",
    "        # confusion matrix\n",
    "    con_matrix[\"Type\"].append('Confusion_Matrix')\n",
    "    con_matrix[\"Model\"].append(grid_dict[idx])  \n",
    "    con_matrix[\"Accuracy\"].append(np.nan)\n",
    "    con_matrix[\"Precision\"].append(np.nan)\n",
    "    con_matrix[\"Recall\"].append(np.nan)\n",
    "    con_matrix[\"F_1_Score\"].append(np.nan)\n",
    "    con_matrix[\"AUC_Score\"].append(np.nan)\n",
    "    con_matrix[\"Confusion_Matrix_ROC\"].append(confusion_matrix(y_test, y_pred))\n",
    "\n",
    "    #UAC ROC\n",
    "    uac_roc_fpr['FPR Model'].append(grid_dict[idx]) \n",
    "    uac_roc_fpr['FPR'].append(fpr)\n",
    "    uac_roc_fpr['AUC_Score'].append(auc_score) \n",
    "    \n",
    "    uac_roc_tpr['TPR Model'].append(grid_dict[idx]) \n",
    "    uac_roc_tpr['TPR'].append(tpr)\n",
    "    uac_roc_tpr['AUC_Score'].append(auc_score) \n",
    "    # Track best (highest test accuracy) model\n",
    "    if accuracy_score(y_test, y_pred) > best_accuracy:\n",
    "        best_accuracy = accuracy_score(y_test, y_pred)\n",
    "        best_gridsearch = gs\n",
    "        best_estimator = idx\n",
    "print('\\nClassifier with best test set accuracy: %s' % grid_dict[best_estimator])\n",
    "\n",
    "# print(model_metrics)\n",
    "print(con_matrix)"
   ]
  },
  {
   "cell_type": "code",
   "execution_count": 71,
   "metadata": {},
   "outputs": [
    {
     "name": "stdout",
     "output_type": "stream",
     "text": [
      "\n",
      "Saved Logistic Regression grid search model pipeline to : Churn Models/best_gridsearch_model_pipeline.pkl\n"
     ]
    }
   ],
   "source": [
    "# Save best grid search pipeline to file\n",
    "dump_file =model_save_directory+'/best_gridsearch_model_pipeline.pkl'\n",
    "joblib.dump(best_gridsearch, dump_file, compress=1)\n",
    "print('\\nSaved %s grid search model pipeline to : %s' % (grid_dict[best_estimator], dump_file))"
   ]
  },
  {
   "cell_type": "markdown",
   "metadata": {},
   "source": [
    "## Evaluate Models"
   ]
  },
  {
   "cell_type": "markdown",
   "metadata": {},
   "source": [
    "Compute Metrics"
   ]
  },
  {
   "cell_type": "code",
   "execution_count": 72,
   "metadata": {},
   "outputs": [
    {
     "data": {
      "text/html": [
       "<div>\n",
       "<style scoped>\n",
       "    .dataframe tbody tr th:only-of-type {\n",
       "        vertical-align: middle;\n",
       "    }\n",
       "\n",
       "    .dataframe tbody tr th {\n",
       "        vertical-align: top;\n",
       "    }\n",
       "\n",
       "    .dataframe thead th {\n",
       "        text-align: right;\n",
       "    }\n",
       "</style>\n",
       "<table border=\"1\" class=\"dataframe\">\n",
       "  <thead>\n",
       "    <tr style=\"text-align: right;\">\n",
       "      <th></th>\n",
       "      <th>Type</th>\n",
       "      <th>Model</th>\n",
       "      <th>Accuracy</th>\n",
       "      <th>Precision</th>\n",
       "      <th>Recall</th>\n",
       "      <th>F_1_Score</th>\n",
       "      <th>Confusion_Matrix_ROC</th>\n",
       "      <th>AUC_Score</th>\n",
       "    </tr>\n",
       "  </thead>\n",
       "  <tbody>\n",
       "    <tr>\n",
       "      <th>0</th>\n",
       "      <td>Metric</td>\n",
       "      <td>Logistic Regression</td>\n",
       "      <td>80.089153</td>\n",
       "      <td>68.840580</td>\n",
       "      <td>51.075269</td>\n",
       "      <td>58.641975</td>\n",
       "      <td>NaN</td>\n",
       "      <td>0.846951</td>\n",
       "    </tr>\n",
       "    <tr>\n",
       "      <th>1</th>\n",
       "      <td>Metric</td>\n",
       "      <td>Random Forest</td>\n",
       "      <td>79.791976</td>\n",
       "      <td>68.656716</td>\n",
       "      <td>49.462366</td>\n",
       "      <td>57.500000</td>\n",
       "      <td>NaN</td>\n",
       "      <td>0.849098</td>\n",
       "    </tr>\n",
       "    <tr>\n",
       "      <th>2</th>\n",
       "      <td>Metric</td>\n",
       "      <td>Support Vector Machine</td>\n",
       "      <td>79.346211</td>\n",
       "      <td>65.161290</td>\n",
       "      <td>54.301075</td>\n",
       "      <td>59.237537</td>\n",
       "      <td>NaN</td>\n",
       "      <td>0.832472</td>\n",
       "    </tr>\n",
       "  </tbody>\n",
       "</table>\n",
       "</div>"
      ],
      "text/plain": [
       "     Type                   Model   Accuracy  Precision     Recall  F_1_Score  \\\n",
       "0  Metric     Logistic Regression  80.089153  68.840580  51.075269  58.641975   \n",
       "1  Metric           Random Forest  79.791976  68.656716  49.462366  57.500000   \n",
       "2  Metric  Support Vector Machine  79.346211  65.161290  54.301075  59.237537   \n",
       "\n",
       "   Confusion_Matrix_ROC  AUC_Score  \n",
       "0                   NaN   0.846951  \n",
       "1                   NaN   0.849098  \n",
       "2                   NaN   0.832472  "
      ]
     },
     "execution_count": 72,
     "metadata": {},
     "output_type": "execute_result"
    }
   ],
   "source": [
    "model_accuracy_df=pd.DataFrame(model_metrics,columns=['Type','Model','Accuracy','Precision','Recall','F_1_Score','Confusion_Matrix_ROC','AUC_Score'])\n",
    "model_accuracy_df"
   ]
  },
  {
   "cell_type": "code",
   "execution_count": 73,
   "metadata": {},
   "outputs": [
    {
     "data": {
      "text/html": [
       "<div>\n",
       "<style scoped>\n",
       "    .dataframe tbody tr th:only-of-type {\n",
       "        vertical-align: middle;\n",
       "    }\n",
       "\n",
       "    .dataframe tbody tr th {\n",
       "        vertical-align: top;\n",
       "    }\n",
       "\n",
       "    .dataframe thead th {\n",
       "        text-align: right;\n",
       "    }\n",
       "</style>\n",
       "<table border=\"1\" class=\"dataframe\">\n",
       "  <thead>\n",
       "    <tr style=\"text-align: right;\">\n",
       "      <th></th>\n",
       "      <th>Type</th>\n",
       "      <th>Model</th>\n",
       "      <th>Accuracy</th>\n",
       "      <th>Precision</th>\n",
       "      <th>Recall</th>\n",
       "      <th>F_1_Score</th>\n",
       "      <th>Confusion_Matrix_ROC</th>\n",
       "      <th>AUC_Score</th>\n",
       "    </tr>\n",
       "  </thead>\n",
       "  <tbody>\n",
       "    <tr>\n",
       "      <th>0</th>\n",
       "      <td>Confusion_Matrix</td>\n",
       "      <td>Logistic Regression</td>\n",
       "      <td>NaN</td>\n",
       "      <td>NaN</td>\n",
       "      <td>NaN</td>\n",
       "      <td>NaN</td>\n",
       "      <td>[[444, 43], [91, 95]]</td>\n",
       "      <td>NaN</td>\n",
       "    </tr>\n",
       "    <tr>\n",
       "      <th>1</th>\n",
       "      <td>Confusion_Matrix</td>\n",
       "      <td>Random Forest</td>\n",
       "      <td>NaN</td>\n",
       "      <td>NaN</td>\n",
       "      <td>NaN</td>\n",
       "      <td>NaN</td>\n",
       "      <td>[[445, 42], [94, 92]]</td>\n",
       "      <td>NaN</td>\n",
       "    </tr>\n",
       "    <tr>\n",
       "      <th>2</th>\n",
       "      <td>Confusion_Matrix</td>\n",
       "      <td>Support Vector Machine</td>\n",
       "      <td>NaN</td>\n",
       "      <td>NaN</td>\n",
       "      <td>NaN</td>\n",
       "      <td>NaN</td>\n",
       "      <td>[[433, 54], [85, 101]]</td>\n",
       "      <td>NaN</td>\n",
       "    </tr>\n",
       "  </tbody>\n",
       "</table>\n",
       "</div>"
      ],
      "text/plain": [
       "               Type                   Model  Accuracy  Precision  Recall  \\\n",
       "0  Confusion_Matrix     Logistic Regression       NaN        NaN     NaN   \n",
       "1  Confusion_Matrix           Random Forest       NaN        NaN     NaN   \n",
       "2  Confusion_Matrix  Support Vector Machine       NaN        NaN     NaN   \n",
       "\n",
       "   F_1_Score    Confusion_Matrix_ROC  AUC_Score  \n",
       "0        NaN   [[444, 43], [91, 95]]        NaN  \n",
       "1        NaN   [[445, 42], [94, 92]]        NaN  \n",
       "2        NaN  [[433, 54], [85, 101]]        NaN  "
      ]
     },
     "execution_count": 73,
     "metadata": {},
     "output_type": "execute_result"
    }
   ],
   "source": [
    "con_matrix_df=pd.DataFrame(con_matrix,columns=['Type','Model','Accuracy','Precision','Recall','F_1_Score','Confusion_Matrix_ROC','AUC_Score'])\n",
    "con_matrix_df"
   ]
  },
  {
   "cell_type": "code",
   "execution_count": 74,
   "metadata": {},
   "outputs": [
    {
     "data": {
      "text/html": [
       "<div>\n",
       "<style scoped>\n",
       "    .dataframe tbody tr th:only-of-type {\n",
       "        vertical-align: middle;\n",
       "    }\n",
       "\n",
       "    .dataframe tbody tr th {\n",
       "        vertical-align: top;\n",
       "    }\n",
       "\n",
       "    .dataframe thead th {\n",
       "        text-align: right;\n",
       "    }\n",
       "</style>\n",
       "<table border=\"1\" class=\"dataframe\">\n",
       "  <thead>\n",
       "    <tr style=\"text-align: right;\">\n",
       "      <th></th>\n",
       "      <th>Type</th>\n",
       "      <th>Model</th>\n",
       "      <th>Accuracy</th>\n",
       "      <th>Precision</th>\n",
       "      <th>Recall</th>\n",
       "      <th>F_1_Score</th>\n",
       "      <th>Confusion_Matrix_ROC</th>\n",
       "      <th>AUC_Score</th>\n",
       "    </tr>\n",
       "  </thead>\n",
       "  <tbody>\n",
       "    <tr>\n",
       "      <th>0</th>\n",
       "      <td>ROC</td>\n",
       "      <td>Logistic Regression FPR</td>\n",
       "      <td>NaN</td>\n",
       "      <td>NaN</td>\n",
       "      <td>NaN</td>\n",
       "      <td>NaN</td>\n",
       "      <td>[0.0, 0.0, 0.0, 0.002053388090349076, 0.002053...</td>\n",
       "      <td>0.846951</td>\n",
       "    </tr>\n",
       "    <tr>\n",
       "      <th>1</th>\n",
       "      <td>ROC</td>\n",
       "      <td>Random Forest FPR</td>\n",
       "      <td>NaN</td>\n",
       "      <td>NaN</td>\n",
       "      <td>NaN</td>\n",
       "      <td>NaN</td>\n",
       "      <td>[0.0, 0.0, 0.0, 0.0, 0.0, 0.002053388090349076...</td>\n",
       "      <td>0.849098</td>\n",
       "    </tr>\n",
       "    <tr>\n",
       "      <th>2</th>\n",
       "      <td>ROC</td>\n",
       "      <td>Support Vector Machine FPR</td>\n",
       "      <td>NaN</td>\n",
       "      <td>NaN</td>\n",
       "      <td>NaN</td>\n",
       "      <td>NaN</td>\n",
       "      <td>[0.0, 0.0, 0.0, 0.002053388090349076, 0.002053...</td>\n",
       "      <td>0.832472</td>\n",
       "    </tr>\n",
       "    <tr>\n",
       "      <th>3</th>\n",
       "      <td>ROC</td>\n",
       "      <td>Logistic Regression TPR</td>\n",
       "      <td>NaN</td>\n",
       "      <td>NaN</td>\n",
       "      <td>NaN</td>\n",
       "      <td>NaN</td>\n",
       "      <td>[0.0, 0.005376344086021506, 0.0376344086021505...</td>\n",
       "      <td>0.846951</td>\n",
       "    </tr>\n",
       "    <tr>\n",
       "      <th>4</th>\n",
       "      <td>ROC</td>\n",
       "      <td>Random Forest TPR</td>\n",
       "      <td>NaN</td>\n",
       "      <td>NaN</td>\n",
       "      <td>NaN</td>\n",
       "      <td>NaN</td>\n",
       "      <td>[0.0, 0.005376344086021506, 0.0161290322580645...</td>\n",
       "      <td>0.849098</td>\n",
       "    </tr>\n",
       "    <tr>\n",
       "      <th>5</th>\n",
       "      <td>ROC</td>\n",
       "      <td>Support Vector Machine TPR</td>\n",
       "      <td>NaN</td>\n",
       "      <td>NaN</td>\n",
       "      <td>NaN</td>\n",
       "      <td>NaN</td>\n",
       "      <td>[0.0, 0.005376344086021506, 0.0376344086021505...</td>\n",
       "      <td>0.832472</td>\n",
       "    </tr>\n",
       "  </tbody>\n",
       "</table>\n",
       "</div>"
      ],
      "text/plain": [
       "  Type                       Model  Accuracy  Precision  Recall  F_1_Score  \\\n",
       "0  ROC     Logistic Regression FPR       NaN        NaN     NaN        NaN   \n",
       "1  ROC           Random Forest FPR       NaN        NaN     NaN        NaN   \n",
       "2  ROC  Support Vector Machine FPR       NaN        NaN     NaN        NaN   \n",
       "3  ROC     Logistic Regression TPR       NaN        NaN     NaN        NaN   \n",
       "4  ROC           Random Forest TPR       NaN        NaN     NaN        NaN   \n",
       "5  ROC  Support Vector Machine TPR       NaN        NaN     NaN        NaN   \n",
       "\n",
       "                                Confusion_Matrix_ROC  AUC_Score  \n",
       "0  [0.0, 0.0, 0.0, 0.002053388090349076, 0.002053...   0.846951  \n",
       "1  [0.0, 0.0, 0.0, 0.0, 0.0, 0.002053388090349076...   0.849098  \n",
       "2  [0.0, 0.0, 0.0, 0.002053388090349076, 0.002053...   0.832472  \n",
       "3  [0.0, 0.005376344086021506, 0.0376344086021505...   0.846951  \n",
       "4  [0.0, 0.005376344086021506, 0.0161290322580645...   0.849098  \n",
       "5  [0.0, 0.005376344086021506, 0.0376344086021505...   0.832472  "
      ]
     },
     "execution_count": 74,
     "metadata": {},
     "output_type": "execute_result"
    }
   ],
   "source": [
    "uac_roc_fpr_df=pd.DataFrame(uac_roc_fpr,columns=['FPR Model','FPR','AUC_Score'])\n",
    "uac_roc_fpr_df['Model']=uac_roc_fpr_df['FPR Model']+' FPR'\n",
    "uac_roc_fpr_df.columns=['FPR Model','Confusion_Matrix_ROC','AUC_Score','Model']\n",
    "uac_roc_tpr_df=pd.DataFrame(uac_roc_tpr,columns=['TPR Model','TPR','AUC_Score'])\n",
    "uac_roc_tpr_df['Model']=uac_roc_tpr_df['TPR Model']+' TPR'\n",
    "uac_roc_tpr_df.columns=['TPR Model','Confusion_Matrix_ROC','AUC_Score','Model']\n",
    "\n",
    "uac_roc_fpr_df[['Model','Confusion_Matrix_ROC','AUC_Score']]\n",
    "uac_roc_tpr_df[['Model','Confusion_Matrix_ROC','AUC_Score']]\n",
    "uac_roc_df=uac_roc_fpr_df[['Model','Confusion_Matrix_ROC','AUC_Score']].append(uac_roc_tpr_df[['Model','Confusion_Matrix_ROC','AUC_Score']], ignore_index = True)\n",
    "uac_roc_df['Type']='ROC'\n",
    "uac_roc_df[['Accuracy','Precision','Recall','F_1_Score']]=np.nan\n",
    "uac_roc_df=uac_roc_df[['Type','Model','Accuracy','Precision','Recall','F_1_Score','Confusion_Matrix_ROC','AUC_Score']]\n",
    "uac_roc_df"
   ]
  },
  {
   "cell_type": "code",
   "execution_count": 75,
   "metadata": {},
   "outputs": [],
   "source": [
    "model_evaluation_df=model_accuracy_df.append(con_matrix_df, ignore_index = True) "
   ]
  },
  {
   "cell_type": "code",
   "execution_count": 76,
   "metadata": {},
   "outputs": [],
   "source": [
    "model_evaluation_df=model_evaluation_df.append(uac_roc_df, ignore_index = True) "
   ]
  },
  {
   "cell_type": "code",
   "execution_count": 77,
   "metadata": {},
   "outputs": [
    {
     "data": {
      "text/html": [
       "<div>\n",
       "<style scoped>\n",
       "    .dataframe tbody tr th:only-of-type {\n",
       "        vertical-align: middle;\n",
       "    }\n",
       "\n",
       "    .dataframe tbody tr th {\n",
       "        vertical-align: top;\n",
       "    }\n",
       "\n",
       "    .dataframe thead th {\n",
       "        text-align: right;\n",
       "    }\n",
       "</style>\n",
       "<table border=\"1\" class=\"dataframe\">\n",
       "  <thead>\n",
       "    <tr style=\"text-align: right;\">\n",
       "      <th></th>\n",
       "      <th>Type</th>\n",
       "      <th>Model</th>\n",
       "      <th>Accuracy</th>\n",
       "      <th>Precision</th>\n",
       "      <th>Recall</th>\n",
       "      <th>F_1_Score</th>\n",
       "      <th>Confusion_Matrix_ROC</th>\n",
       "      <th>AUC_Score</th>\n",
       "    </tr>\n",
       "  </thead>\n",
       "  <tbody>\n",
       "    <tr>\n",
       "      <th>0</th>\n",
       "      <td>Metric</td>\n",
       "      <td>Logistic Regression</td>\n",
       "      <td>80.089153</td>\n",
       "      <td>68.840580</td>\n",
       "      <td>51.075269</td>\n",
       "      <td>58.641975</td>\n",
       "      <td>NaN</td>\n",
       "      <td>84.695083</td>\n",
       "    </tr>\n",
       "    <tr>\n",
       "      <th>1</th>\n",
       "      <td>Metric</td>\n",
       "      <td>Random Forest</td>\n",
       "      <td>79.791976</td>\n",
       "      <td>68.656716</td>\n",
       "      <td>49.462366</td>\n",
       "      <td>57.500000</td>\n",
       "      <td>NaN</td>\n",
       "      <td>84.909805</td>\n",
       "    </tr>\n",
       "    <tr>\n",
       "      <th>2</th>\n",
       "      <td>Metric</td>\n",
       "      <td>Support Vector Machine</td>\n",
       "      <td>79.346211</td>\n",
       "      <td>65.161290</td>\n",
       "      <td>54.301075</td>\n",
       "      <td>59.237537</td>\n",
       "      <td>NaN</td>\n",
       "      <td>83.247224</td>\n",
       "    </tr>\n",
       "    <tr>\n",
       "      <th>3</th>\n",
       "      <td>Confusion_Matrix</td>\n",
       "      <td>Logistic Regression</td>\n",
       "      <td>NaN</td>\n",
       "      <td>NaN</td>\n",
       "      <td>NaN</td>\n",
       "      <td>NaN</td>\n",
       "      <td>[[444, 43], [91, 95]]</td>\n",
       "      <td>NaN</td>\n",
       "    </tr>\n",
       "    <tr>\n",
       "      <th>4</th>\n",
       "      <td>Confusion_Matrix</td>\n",
       "      <td>Random Forest</td>\n",
       "      <td>NaN</td>\n",
       "      <td>NaN</td>\n",
       "      <td>NaN</td>\n",
       "      <td>NaN</td>\n",
       "      <td>[[445, 42], [94, 92]]</td>\n",
       "      <td>NaN</td>\n",
       "    </tr>\n",
       "    <tr>\n",
       "      <th>5</th>\n",
       "      <td>Confusion_Matrix</td>\n",
       "      <td>Support Vector Machine</td>\n",
       "      <td>NaN</td>\n",
       "      <td>NaN</td>\n",
       "      <td>NaN</td>\n",
       "      <td>NaN</td>\n",
       "      <td>[[433, 54], [85, 101]]</td>\n",
       "      <td>NaN</td>\n",
       "    </tr>\n",
       "    <tr>\n",
       "      <th>6</th>\n",
       "      <td>ROC</td>\n",
       "      <td>Logistic Regression FPR</td>\n",
       "      <td>NaN</td>\n",
       "      <td>NaN</td>\n",
       "      <td>NaN</td>\n",
       "      <td>NaN</td>\n",
       "      <td>[0.0, 0.0, 0.0, 0.002053388090349076, 0.002053...</td>\n",
       "      <td>84.695083</td>\n",
       "    </tr>\n",
       "    <tr>\n",
       "      <th>7</th>\n",
       "      <td>ROC</td>\n",
       "      <td>Random Forest FPR</td>\n",
       "      <td>NaN</td>\n",
       "      <td>NaN</td>\n",
       "      <td>NaN</td>\n",
       "      <td>NaN</td>\n",
       "      <td>[0.0, 0.0, 0.0, 0.0, 0.0, 0.002053388090349076...</td>\n",
       "      <td>84.909805</td>\n",
       "    </tr>\n",
       "    <tr>\n",
       "      <th>8</th>\n",
       "      <td>ROC</td>\n",
       "      <td>Support Vector Machine FPR</td>\n",
       "      <td>NaN</td>\n",
       "      <td>NaN</td>\n",
       "      <td>NaN</td>\n",
       "      <td>NaN</td>\n",
       "      <td>[0.0, 0.0, 0.0, 0.002053388090349076, 0.002053...</td>\n",
       "      <td>83.247224</td>\n",
       "    </tr>\n",
       "    <tr>\n",
       "      <th>9</th>\n",
       "      <td>ROC</td>\n",
       "      <td>Logistic Regression TPR</td>\n",
       "      <td>NaN</td>\n",
       "      <td>NaN</td>\n",
       "      <td>NaN</td>\n",
       "      <td>NaN</td>\n",
       "      <td>[0.0, 0.005376344086021506, 0.0376344086021505...</td>\n",
       "      <td>84.695083</td>\n",
       "    </tr>\n",
       "    <tr>\n",
       "      <th>10</th>\n",
       "      <td>ROC</td>\n",
       "      <td>Random Forest TPR</td>\n",
       "      <td>NaN</td>\n",
       "      <td>NaN</td>\n",
       "      <td>NaN</td>\n",
       "      <td>NaN</td>\n",
       "      <td>[0.0, 0.005376344086021506, 0.0161290322580645...</td>\n",
       "      <td>84.909805</td>\n",
       "    </tr>\n",
       "    <tr>\n",
       "      <th>11</th>\n",
       "      <td>ROC</td>\n",
       "      <td>Support Vector Machine TPR</td>\n",
       "      <td>NaN</td>\n",
       "      <td>NaN</td>\n",
       "      <td>NaN</td>\n",
       "      <td>NaN</td>\n",
       "      <td>[0.0, 0.005376344086021506, 0.0376344086021505...</td>\n",
       "      <td>83.247224</td>\n",
       "    </tr>\n",
       "  </tbody>\n",
       "</table>\n",
       "</div>"
      ],
      "text/plain": [
       "                Type                       Model   Accuracy  Precision  \\\n",
       "0             Metric         Logistic Regression  80.089153  68.840580   \n",
       "1             Metric               Random Forest  79.791976  68.656716   \n",
       "2             Metric      Support Vector Machine  79.346211  65.161290   \n",
       "3   Confusion_Matrix         Logistic Regression        NaN        NaN   \n",
       "4   Confusion_Matrix               Random Forest        NaN        NaN   \n",
       "5   Confusion_Matrix      Support Vector Machine        NaN        NaN   \n",
       "6                ROC     Logistic Regression FPR        NaN        NaN   \n",
       "7                ROC           Random Forest FPR        NaN        NaN   \n",
       "8                ROC  Support Vector Machine FPR        NaN        NaN   \n",
       "9                ROC     Logistic Regression TPR        NaN        NaN   \n",
       "10               ROC           Random Forest TPR        NaN        NaN   \n",
       "11               ROC  Support Vector Machine TPR        NaN        NaN   \n",
       "\n",
       "       Recall  F_1_Score                               Confusion_Matrix_ROC  \\\n",
       "0   51.075269  58.641975                                                NaN   \n",
       "1   49.462366  57.500000                                                NaN   \n",
       "2   54.301075  59.237537                                                NaN   \n",
       "3         NaN        NaN                              [[444, 43], [91, 95]]   \n",
       "4         NaN        NaN                              [[445, 42], [94, 92]]   \n",
       "5         NaN        NaN                             [[433, 54], [85, 101]]   \n",
       "6         NaN        NaN  [0.0, 0.0, 0.0, 0.002053388090349076, 0.002053...   \n",
       "7         NaN        NaN  [0.0, 0.0, 0.0, 0.0, 0.0, 0.002053388090349076...   \n",
       "8         NaN        NaN  [0.0, 0.0, 0.0, 0.002053388090349076, 0.002053...   \n",
       "9         NaN        NaN  [0.0, 0.005376344086021506, 0.0376344086021505...   \n",
       "10        NaN        NaN  [0.0, 0.005376344086021506, 0.0161290322580645...   \n",
       "11        NaN        NaN  [0.0, 0.005376344086021506, 0.0376344086021505...   \n",
       "\n",
       "    AUC_Score  \n",
       "0   84.695083  \n",
       "1   84.909805  \n",
       "2   83.247224  \n",
       "3         NaN  \n",
       "4         NaN  \n",
       "5         NaN  \n",
       "6   84.695083  \n",
       "7   84.909805  \n",
       "8   83.247224  \n",
       "9   84.695083  \n",
       "10  84.909805  \n",
       "11  83.247224  "
      ]
     },
     "execution_count": 77,
     "metadata": {},
     "output_type": "execute_result"
    }
   ],
   "source": [
    "model_evaluation_df['AUC_Score']=model_evaluation_df['AUC_Score']*100\n",
    "model_evaluation_df"
   ]
  },
  {
   "cell_type": "markdown",
   "metadata": {},
   "source": [
    "Save Model Evaluation data to a json"
   ]
  },
  {
   "cell_type": "code",
   "execution_count": 78,
   "metadata": {},
   "outputs": [],
   "source": [
    "model_evaluation_df.to_json(model_save_directory+'/model_metrics.json', orient = 'split', compression = 'infer', index = 'true') "
   ]
  },
  {
   "cell_type": "markdown",
   "metadata": {},
   "source": [
    "Load the json data"
   ]
  },
  {
   "cell_type": "code",
   "execution_count": 79,
   "metadata": {},
   "outputs": [
    {
     "data": {
      "text/html": [
       "<div>\n",
       "<style scoped>\n",
       "    .dataframe tbody tr th:only-of-type {\n",
       "        vertical-align: middle;\n",
       "    }\n",
       "\n",
       "    .dataframe tbody tr th {\n",
       "        vertical-align: top;\n",
       "    }\n",
       "\n",
       "    .dataframe thead th {\n",
       "        text-align: right;\n",
       "    }\n",
       "</style>\n",
       "<table border=\"1\" class=\"dataframe\">\n",
       "  <thead>\n",
       "    <tr style=\"text-align: right;\">\n",
       "      <th></th>\n",
       "      <th>Type</th>\n",
       "      <th>Model</th>\n",
       "      <th>Accuracy</th>\n",
       "      <th>Precision</th>\n",
       "      <th>Recall</th>\n",
       "      <th>F_1_Score</th>\n",
       "      <th>Confusion_Matrix_ROC</th>\n",
       "      <th>AUC_Score</th>\n",
       "    </tr>\n",
       "  </thead>\n",
       "  <tbody>\n",
       "    <tr>\n",
       "      <th>0</th>\n",
       "      <td>Metric</td>\n",
       "      <td>Logistic Regression</td>\n",
       "      <td>80.089153</td>\n",
       "      <td>68.840580</td>\n",
       "      <td>51.075269</td>\n",
       "      <td>58.641975</td>\n",
       "      <td>None</td>\n",
       "      <td>84.695083</td>\n",
       "    </tr>\n",
       "    <tr>\n",
       "      <th>1</th>\n",
       "      <td>Metric</td>\n",
       "      <td>Random Forest</td>\n",
       "      <td>79.791976</td>\n",
       "      <td>68.656716</td>\n",
       "      <td>49.462366</td>\n",
       "      <td>57.500000</td>\n",
       "      <td>None</td>\n",
       "      <td>84.909805</td>\n",
       "    </tr>\n",
       "    <tr>\n",
       "      <th>2</th>\n",
       "      <td>Metric</td>\n",
       "      <td>Support Vector Machine</td>\n",
       "      <td>79.346211</td>\n",
       "      <td>65.161290</td>\n",
       "      <td>54.301075</td>\n",
       "      <td>59.237537</td>\n",
       "      <td>None</td>\n",
       "      <td>83.247224</td>\n",
       "    </tr>\n",
       "    <tr>\n",
       "      <th>3</th>\n",
       "      <td>Confusion_Matrix</td>\n",
       "      <td>Logistic Regression</td>\n",
       "      <td>NaN</td>\n",
       "      <td>NaN</td>\n",
       "      <td>NaN</td>\n",
       "      <td>NaN</td>\n",
       "      <td>[[444, 43], [91, 95]]</td>\n",
       "      <td>NaN</td>\n",
       "    </tr>\n",
       "    <tr>\n",
       "      <th>4</th>\n",
       "      <td>Confusion_Matrix</td>\n",
       "      <td>Random Forest</td>\n",
       "      <td>NaN</td>\n",
       "      <td>NaN</td>\n",
       "      <td>NaN</td>\n",
       "      <td>NaN</td>\n",
       "      <td>[[445, 42], [94, 92]]</td>\n",
       "      <td>NaN</td>\n",
       "    </tr>\n",
       "    <tr>\n",
       "      <th>5</th>\n",
       "      <td>Confusion_Matrix</td>\n",
       "      <td>Support Vector Machine</td>\n",
       "      <td>NaN</td>\n",
       "      <td>NaN</td>\n",
       "      <td>NaN</td>\n",
       "      <td>NaN</td>\n",
       "      <td>[[433, 54], [85, 101]]</td>\n",
       "      <td>NaN</td>\n",
       "    </tr>\n",
       "    <tr>\n",
       "      <th>6</th>\n",
       "      <td>ROC</td>\n",
       "      <td>Logistic Regression FPR</td>\n",
       "      <td>NaN</td>\n",
       "      <td>NaN</td>\n",
       "      <td>NaN</td>\n",
       "      <td>NaN</td>\n",
       "      <td>[0.0, 0.0, 0.0, 0.0020533881, 0.0020533881, 0....</td>\n",
       "      <td>84.695083</td>\n",
       "    </tr>\n",
       "    <tr>\n",
       "      <th>7</th>\n",
       "      <td>ROC</td>\n",
       "      <td>Random Forest FPR</td>\n",
       "      <td>NaN</td>\n",
       "      <td>NaN</td>\n",
       "      <td>NaN</td>\n",
       "      <td>NaN</td>\n",
       "      <td>[0.0, 0.0, 0.0, 0.0, 0.0, 0.0020533881, 0.0020...</td>\n",
       "      <td>84.909805</td>\n",
       "    </tr>\n",
       "    <tr>\n",
       "      <th>8</th>\n",
       "      <td>ROC</td>\n",
       "      <td>Support Vector Machine FPR</td>\n",
       "      <td>NaN</td>\n",
       "      <td>NaN</td>\n",
       "      <td>NaN</td>\n",
       "      <td>NaN</td>\n",
       "      <td>[0.0, 0.0, 0.0, 0.0020533881, 0.0020533881, 0....</td>\n",
       "      <td>83.247224</td>\n",
       "    </tr>\n",
       "    <tr>\n",
       "      <th>9</th>\n",
       "      <td>ROC</td>\n",
       "      <td>Logistic Regression TPR</td>\n",
       "      <td>NaN</td>\n",
       "      <td>NaN</td>\n",
       "      <td>NaN</td>\n",
       "      <td>NaN</td>\n",
       "      <td>[0.0, 0.0053763441, 0.0376344086, 0.0430107527...</td>\n",
       "      <td>84.695083</td>\n",
       "    </tr>\n",
       "    <tr>\n",
       "      <th>10</th>\n",
       "      <td>ROC</td>\n",
       "      <td>Random Forest TPR</td>\n",
       "      <td>NaN</td>\n",
       "      <td>NaN</td>\n",
       "      <td>NaN</td>\n",
       "      <td>NaN</td>\n",
       "      <td>[0.0, 0.0053763441, 0.016129032300000002, 0.02...</td>\n",
       "      <td>84.909805</td>\n",
       "    </tr>\n",
       "    <tr>\n",
       "      <th>11</th>\n",
       "      <td>ROC</td>\n",
       "      <td>Support Vector Machine TPR</td>\n",
       "      <td>NaN</td>\n",
       "      <td>NaN</td>\n",
       "      <td>NaN</td>\n",
       "      <td>NaN</td>\n",
       "      <td>[0.0, 0.0053763441, 0.0376344086, 0.0376344086...</td>\n",
       "      <td>83.247224</td>\n",
       "    </tr>\n",
       "  </tbody>\n",
       "</table>\n",
       "</div>"
      ],
      "text/plain": [
       "                Type                       Model   Accuracy  Precision  \\\n",
       "0             Metric         Logistic Regression  80.089153  68.840580   \n",
       "1             Metric               Random Forest  79.791976  68.656716   \n",
       "2             Metric      Support Vector Machine  79.346211  65.161290   \n",
       "3   Confusion_Matrix         Logistic Regression        NaN        NaN   \n",
       "4   Confusion_Matrix               Random Forest        NaN        NaN   \n",
       "5   Confusion_Matrix      Support Vector Machine        NaN        NaN   \n",
       "6                ROC     Logistic Regression FPR        NaN        NaN   \n",
       "7                ROC           Random Forest FPR        NaN        NaN   \n",
       "8                ROC  Support Vector Machine FPR        NaN        NaN   \n",
       "9                ROC     Logistic Regression TPR        NaN        NaN   \n",
       "10               ROC           Random Forest TPR        NaN        NaN   \n",
       "11               ROC  Support Vector Machine TPR        NaN        NaN   \n",
       "\n",
       "       Recall  F_1_Score                               Confusion_Matrix_ROC  \\\n",
       "0   51.075269  58.641975                                               None   \n",
       "1   49.462366  57.500000                                               None   \n",
       "2   54.301075  59.237537                                               None   \n",
       "3         NaN        NaN                              [[444, 43], [91, 95]]   \n",
       "4         NaN        NaN                              [[445, 42], [94, 92]]   \n",
       "5         NaN        NaN                             [[433, 54], [85, 101]]   \n",
       "6         NaN        NaN  [0.0, 0.0, 0.0, 0.0020533881, 0.0020533881, 0....   \n",
       "7         NaN        NaN  [0.0, 0.0, 0.0, 0.0, 0.0, 0.0020533881, 0.0020...   \n",
       "8         NaN        NaN  [0.0, 0.0, 0.0, 0.0020533881, 0.0020533881, 0....   \n",
       "9         NaN        NaN  [0.0, 0.0053763441, 0.0376344086, 0.0430107527...   \n",
       "10        NaN        NaN  [0.0, 0.0053763441, 0.016129032300000002, 0.02...   \n",
       "11        NaN        NaN  [0.0, 0.0053763441, 0.0376344086, 0.0376344086...   \n",
       "\n",
       "    AUC_Score  \n",
       "0   84.695083  \n",
       "1   84.909805  \n",
       "2   83.247224  \n",
       "3         NaN  \n",
       "4         NaN  \n",
       "5         NaN  \n",
       "6   84.695083  \n",
       "7   84.909805  \n",
       "8   83.247224  \n",
       "9   84.695083  \n",
       "10  84.909805  \n",
       "11  83.247224  "
      ]
     },
     "execution_count": 79,
     "metadata": {},
     "output_type": "execute_result"
    }
   ],
   "source": [
    "# readind the JSON file \n",
    "model_evaluation_df = pd.read_json(model_save_directory+'/model_metrics.json', orient ='split', compression = 'infer') \n",
    "  \n",
    "# displaying the DataFrame \n",
    "model_evaluation_df"
   ]
  },
  {
   "cell_type": "code",
   "execution_count": 80,
   "metadata": {},
   "outputs": [
    {
     "data": {
      "text/html": [
       "<div>\n",
       "<style scoped>\n",
       "    .dataframe tbody tr th:only-of-type {\n",
       "        vertical-align: middle;\n",
       "    }\n",
       "\n",
       "    .dataframe tbody tr th {\n",
       "        vertical-align: top;\n",
       "    }\n",
       "\n",
       "    .dataframe thead th {\n",
       "        text-align: right;\n",
       "    }\n",
       "</style>\n",
       "<table border=\"1\" class=\"dataframe\">\n",
       "  <thead>\n",
       "    <tr style=\"text-align: right;\">\n",
       "      <th></th>\n",
       "      <th>Model</th>\n",
       "      <th>Metrics</th>\n",
       "      <th>Score</th>\n",
       "    </tr>\n",
       "  </thead>\n",
       "  <tbody>\n",
       "    <tr>\n",
       "      <th>7</th>\n",
       "      <td>Random Forest</td>\n",
       "      <td>Recall</td>\n",
       "      <td>49.462366</td>\n",
       "    </tr>\n",
       "    <tr>\n",
       "      <th>6</th>\n",
       "      <td>Logistic Regression</td>\n",
       "      <td>Recall</td>\n",
       "      <td>51.075269</td>\n",
       "    </tr>\n",
       "    <tr>\n",
       "      <th>8</th>\n",
       "      <td>Support Vector Machine</td>\n",
       "      <td>Recall</td>\n",
       "      <td>54.301075</td>\n",
       "    </tr>\n",
       "    <tr>\n",
       "      <th>10</th>\n",
       "      <td>Random Forest</td>\n",
       "      <td>F_1_Score</td>\n",
       "      <td>57.500000</td>\n",
       "    </tr>\n",
       "    <tr>\n",
       "      <th>9</th>\n",
       "      <td>Logistic Regression</td>\n",
       "      <td>F_1_Score</td>\n",
       "      <td>58.641975</td>\n",
       "    </tr>\n",
       "    <tr>\n",
       "      <th>11</th>\n",
       "      <td>Support Vector Machine</td>\n",
       "      <td>F_1_Score</td>\n",
       "      <td>59.237537</td>\n",
       "    </tr>\n",
       "    <tr>\n",
       "      <th>5</th>\n",
       "      <td>Support Vector Machine</td>\n",
       "      <td>Precision</td>\n",
       "      <td>65.161290</td>\n",
       "    </tr>\n",
       "    <tr>\n",
       "      <th>4</th>\n",
       "      <td>Random Forest</td>\n",
       "      <td>Precision</td>\n",
       "      <td>68.656716</td>\n",
       "    </tr>\n",
       "    <tr>\n",
       "      <th>3</th>\n",
       "      <td>Logistic Regression</td>\n",
       "      <td>Precision</td>\n",
       "      <td>68.840580</td>\n",
       "    </tr>\n",
       "    <tr>\n",
       "      <th>2</th>\n",
       "      <td>Support Vector Machine</td>\n",
       "      <td>Accuracy</td>\n",
       "      <td>79.346211</td>\n",
       "    </tr>\n",
       "    <tr>\n",
       "      <th>1</th>\n",
       "      <td>Random Forest</td>\n",
       "      <td>Accuracy</td>\n",
       "      <td>79.791976</td>\n",
       "    </tr>\n",
       "    <tr>\n",
       "      <th>0</th>\n",
       "      <td>Logistic Regression</td>\n",
       "      <td>Accuracy</td>\n",
       "      <td>80.089153</td>\n",
       "    </tr>\n",
       "    <tr>\n",
       "      <th>14</th>\n",
       "      <td>Support Vector Machine</td>\n",
       "      <td>AUC_Score</td>\n",
       "      <td>83.247224</td>\n",
       "    </tr>\n",
       "    <tr>\n",
       "      <th>12</th>\n",
       "      <td>Logistic Regression</td>\n",
       "      <td>AUC_Score</td>\n",
       "      <td>84.695083</td>\n",
       "    </tr>\n",
       "    <tr>\n",
       "      <th>13</th>\n",
       "      <td>Random Forest</td>\n",
       "      <td>AUC_Score</td>\n",
       "      <td>84.909805</td>\n",
       "    </tr>\n",
       "  </tbody>\n",
       "</table>\n",
       "</div>"
      ],
      "text/plain": [
       "                     Model    Metrics      Score\n",
       "7            Random Forest     Recall  49.462366\n",
       "6      Logistic Regression     Recall  51.075269\n",
       "8   Support Vector Machine     Recall  54.301075\n",
       "10           Random Forest  F_1_Score  57.500000\n",
       "9      Logistic Regression  F_1_Score  58.641975\n",
       "11  Support Vector Machine  F_1_Score  59.237537\n",
       "5   Support Vector Machine  Precision  65.161290\n",
       "4            Random Forest  Precision  68.656716\n",
       "3      Logistic Regression  Precision  68.840580\n",
       "2   Support Vector Machine   Accuracy  79.346211\n",
       "1            Random Forest   Accuracy  79.791976\n",
       "0      Logistic Regression   Accuracy  80.089153\n",
       "14  Support Vector Machine  AUC_Score  83.247224\n",
       "12     Logistic Regression  AUC_Score  84.695083\n",
       "13           Random Forest  AUC_Score  84.909805"
      ]
     },
     "execution_count": 80,
     "metadata": {},
     "output_type": "execute_result"
    }
   ],
   "source": [
    "unpivoted_metric_df=model_evaluation_df[model_evaluation_df['Type']=='Metric'][['Model','Accuracy','Precision','Recall','F_1_Score','AUC_Score']]\n",
    "unpivoted_metric_df=unpivoted_metric_df.melt(id_vars=['Model'], var_name='Metrics', value_name='Score').sort_values(by=['Score'],ascending=True)\n",
    "unpivoted_metric_df"
   ]
  },
  {
   "cell_type": "code",
   "execution_count": 105,
   "metadata": {},
   "outputs": [
    {
     "data": {
      "application/vnd.plotly.v1+json": {
       "config": {
        "plotlyServerURL": "https://plot.ly"
       },
       "data": [
        {
         "alignmentgroup": "True",
         "hovertemplate": "Model=Random Forest<br>Metrics=%{x}<br>Score=%{text}<extra></extra>",
         "legendgroup": "Random Forest",
         "marker": {
          "color": "crimson"
         },
         "name": "Random Forest",
         "offsetgroup": "Random Forest",
         "orientation": "v",
         "showlegend": true,
         "text": [
          49.4623655914,
          57.5,
          68.6567164179,
          79.7919762259,
          84.9098054801
         ],
         "textposition": "auto",
         "type": "bar",
         "x": [
          "Recall",
          "F_1_Score",
          "Precision",
          "Accuracy",
          "AUC_Score"
         ],
         "xaxis": "x",
         "y": [
          49.4623655914,
          57.5,
          68.6567164179,
          79.7919762259,
          84.9098054801
         ],
         "yaxis": "y"
        },
        {
         "alignmentgroup": "True",
         "hovertemplate": "Model=Logistic Regression<br>Metrics=%{x}<br>Score=%{text}<extra></extra>",
         "legendgroup": "Logistic Regression",
         "marker": {
          "color": "skyblue"
         },
         "name": "Logistic Regression",
         "offsetgroup": "Logistic Regression",
         "orientation": "v",
         "showlegend": true,
         "text": [
          51.0752688172,
          58.6419753086,
          68.8405797101,
          80.0891530461,
          84.6950829083
         ],
         "textposition": "auto",
         "type": "bar",
         "x": [
          "Recall",
          "F_1_Score",
          "Precision",
          "Accuracy",
          "AUC_Score"
         ],
         "xaxis": "x",
         "y": [
          51.0752688172,
          58.6419753086,
          68.8405797101,
          80.0891530461,
          84.6950829083
         ],
         "yaxis": "y"
        },
        {
         "alignmentgroup": "True",
         "hovertemplate": "Model=Support Vector Machine<br>Metrics=%{x}<br>Score=%{text}<extra></extra>",
         "legendgroup": "Support Vector Machine",
         "marker": {
          "color": "teal"
         },
         "name": "Support Vector Machine",
         "offsetgroup": "Support Vector Machine",
         "orientation": "v",
         "showlegend": true,
         "text": [
          54.3010752688,
          59.2375366569,
          65.1612903226,
          79.3462109955,
          83.2472235102
         ],
         "textposition": "auto",
         "type": "bar",
         "x": [
          "Recall",
          "F_1_Score",
          "Precision",
          "Accuracy",
          "AUC_Score"
         ],
         "xaxis": "x",
         "y": [
          54.3010752688,
          59.2375366569,
          65.1612903226,
          79.3462109955,
          83.2472235102
         ],
         "yaxis": "y"
        }
       ],
       "layout": {
        "autosize": true,
        "barmode": "group",
        "legend": {
         "title": {
          "text": "Model"
         },
         "tracegroupgap": 0,
         "x": 0.01,
         "xanchor": "left",
         "y": 0.95,
         "yanchor": "top"
        },
        "margin": {
         "b": 0,
         "l": 0,
         "r": 0,
         "t": 30
        },
        "template": {
         "data": {
          "bar": [
           {
            "error_x": {
             "color": "rgb(51,51,51)"
            },
            "error_y": {
             "color": "rgb(51,51,51)"
            },
            "marker": {
             "line": {
              "color": "rgb(237,237,237)",
              "width": 0.5
             }
            },
            "type": "bar"
           }
          ],
          "barpolar": [
           {
            "marker": {
             "line": {
              "color": "rgb(237,237,237)",
              "width": 0.5
             }
            },
            "type": "barpolar"
           }
          ],
          "carpet": [
           {
            "aaxis": {
             "endlinecolor": "rgb(51,51,51)",
             "gridcolor": "white",
             "linecolor": "white",
             "minorgridcolor": "white",
             "startlinecolor": "rgb(51,51,51)"
            },
            "baxis": {
             "endlinecolor": "rgb(51,51,51)",
             "gridcolor": "white",
             "linecolor": "white",
             "minorgridcolor": "white",
             "startlinecolor": "rgb(51,51,51)"
            },
            "type": "carpet"
           }
          ],
          "choropleth": [
           {
            "colorbar": {
             "outlinewidth": 0,
             "tickcolor": "rgb(237,237,237)",
             "ticklen": 6,
             "ticks": "inside"
            },
            "type": "choropleth"
           }
          ],
          "contour": [
           {
            "colorbar": {
             "outlinewidth": 0,
             "tickcolor": "rgb(237,237,237)",
             "ticklen": 6,
             "ticks": "inside"
            },
            "colorscale": [
             [
              0,
              "rgb(20,44,66)"
             ],
             [
              1,
              "rgb(90,179,244)"
             ]
            ],
            "type": "contour"
           }
          ],
          "contourcarpet": [
           {
            "colorbar": {
             "outlinewidth": 0,
             "tickcolor": "rgb(237,237,237)",
             "ticklen": 6,
             "ticks": "inside"
            },
            "type": "contourcarpet"
           }
          ],
          "heatmap": [
           {
            "colorbar": {
             "outlinewidth": 0,
             "tickcolor": "rgb(237,237,237)",
             "ticklen": 6,
             "ticks": "inside"
            },
            "colorscale": [
             [
              0,
              "rgb(20,44,66)"
             ],
             [
              1,
              "rgb(90,179,244)"
             ]
            ],
            "type": "heatmap"
           }
          ],
          "heatmapgl": [
           {
            "colorbar": {
             "outlinewidth": 0,
             "tickcolor": "rgb(237,237,237)",
             "ticklen": 6,
             "ticks": "inside"
            },
            "colorscale": [
             [
              0,
              "rgb(20,44,66)"
             ],
             [
              1,
              "rgb(90,179,244)"
             ]
            ],
            "type": "heatmapgl"
           }
          ],
          "histogram": [
           {
            "marker": {
             "colorbar": {
              "outlinewidth": 0,
              "tickcolor": "rgb(237,237,237)",
              "ticklen": 6,
              "ticks": "inside"
             }
            },
            "type": "histogram"
           }
          ],
          "histogram2d": [
           {
            "colorbar": {
             "outlinewidth": 0,
             "tickcolor": "rgb(237,237,237)",
             "ticklen": 6,
             "ticks": "inside"
            },
            "colorscale": [
             [
              0,
              "rgb(20,44,66)"
             ],
             [
              1,
              "rgb(90,179,244)"
             ]
            ],
            "type": "histogram2d"
           }
          ],
          "histogram2dcontour": [
           {
            "colorbar": {
             "outlinewidth": 0,
             "tickcolor": "rgb(237,237,237)",
             "ticklen": 6,
             "ticks": "inside"
            },
            "colorscale": [
             [
              0,
              "rgb(20,44,66)"
             ],
             [
              1,
              "rgb(90,179,244)"
             ]
            ],
            "type": "histogram2dcontour"
           }
          ],
          "mesh3d": [
           {
            "colorbar": {
             "outlinewidth": 0,
             "tickcolor": "rgb(237,237,237)",
             "ticklen": 6,
             "ticks": "inside"
            },
            "type": "mesh3d"
           }
          ],
          "parcoords": [
           {
            "line": {
             "colorbar": {
              "outlinewidth": 0,
              "tickcolor": "rgb(237,237,237)",
              "ticklen": 6,
              "ticks": "inside"
             }
            },
            "type": "parcoords"
           }
          ],
          "pie": [
           {
            "automargin": true,
            "type": "pie"
           }
          ],
          "scatter": [
           {
            "marker": {
             "colorbar": {
              "outlinewidth": 0,
              "tickcolor": "rgb(237,237,237)",
              "ticklen": 6,
              "ticks": "inside"
             }
            },
            "type": "scatter"
           }
          ],
          "scatter3d": [
           {
            "line": {
             "colorbar": {
              "outlinewidth": 0,
              "tickcolor": "rgb(237,237,237)",
              "ticklen": 6,
              "ticks": "inside"
             }
            },
            "marker": {
             "colorbar": {
              "outlinewidth": 0,
              "tickcolor": "rgb(237,237,237)",
              "ticklen": 6,
              "ticks": "inside"
             }
            },
            "type": "scatter3d"
           }
          ],
          "scattercarpet": [
           {
            "marker": {
             "colorbar": {
              "outlinewidth": 0,
              "tickcolor": "rgb(237,237,237)",
              "ticklen": 6,
              "ticks": "inside"
             }
            },
            "type": "scattercarpet"
           }
          ],
          "scattergeo": [
           {
            "marker": {
             "colorbar": {
              "outlinewidth": 0,
              "tickcolor": "rgb(237,237,237)",
              "ticklen": 6,
              "ticks": "inside"
             }
            },
            "type": "scattergeo"
           }
          ],
          "scattergl": [
           {
            "marker": {
             "colorbar": {
              "outlinewidth": 0,
              "tickcolor": "rgb(237,237,237)",
              "ticklen": 6,
              "ticks": "inside"
             }
            },
            "type": "scattergl"
           }
          ],
          "scattermapbox": [
           {
            "marker": {
             "colorbar": {
              "outlinewidth": 0,
              "tickcolor": "rgb(237,237,237)",
              "ticklen": 6,
              "ticks": "inside"
             }
            },
            "type": "scattermapbox"
           }
          ],
          "scatterpolar": [
           {
            "marker": {
             "colorbar": {
              "outlinewidth": 0,
              "tickcolor": "rgb(237,237,237)",
              "ticklen": 6,
              "ticks": "inside"
             }
            },
            "type": "scatterpolar"
           }
          ],
          "scatterpolargl": [
           {
            "marker": {
             "colorbar": {
              "outlinewidth": 0,
              "tickcolor": "rgb(237,237,237)",
              "ticklen": 6,
              "ticks": "inside"
             }
            },
            "type": "scatterpolargl"
           }
          ],
          "scatterternary": [
           {
            "marker": {
             "colorbar": {
              "outlinewidth": 0,
              "tickcolor": "rgb(237,237,237)",
              "ticklen": 6,
              "ticks": "inside"
             }
            },
            "type": "scatterternary"
           }
          ],
          "surface": [
           {
            "colorbar": {
             "outlinewidth": 0,
             "tickcolor": "rgb(237,237,237)",
             "ticklen": 6,
             "ticks": "inside"
            },
            "colorscale": [
             [
              0,
              "rgb(20,44,66)"
             ],
             [
              1,
              "rgb(90,179,244)"
             ]
            ],
            "type": "surface"
           }
          ],
          "table": [
           {
            "cells": {
             "fill": {
              "color": "rgb(237,237,237)"
             },
             "line": {
              "color": "white"
             }
            },
            "header": {
             "fill": {
              "color": "rgb(217,217,217)"
             },
             "line": {
              "color": "white"
             }
            },
            "type": "table"
           }
          ]
         },
         "layout": {
          "annotationdefaults": {
           "arrowhead": 0,
           "arrowwidth": 1
          },
          "autotypenumbers": "strict",
          "coloraxis": {
           "colorbar": {
            "outlinewidth": 0,
            "tickcolor": "rgb(237,237,237)",
            "ticklen": 6,
            "ticks": "inside"
           }
          },
          "colorscale": {
           "sequential": [
            [
             0,
             "rgb(20,44,66)"
            ],
            [
             1,
             "rgb(90,179,244)"
            ]
           ],
           "sequentialminus": [
            [
             0,
             "rgb(20,44,66)"
            ],
            [
             1,
             "rgb(90,179,244)"
            ]
           ]
          },
          "colorway": [
           "#F8766D",
           "#A3A500",
           "#00BF7D",
           "#00B0F6",
           "#E76BF3"
          ],
          "font": {
           "color": "rgb(51,51,51)"
          },
          "geo": {
           "bgcolor": "white",
           "lakecolor": "white",
           "landcolor": "rgb(237,237,237)",
           "showlakes": true,
           "showland": true,
           "subunitcolor": "white"
          },
          "hoverlabel": {
           "align": "left"
          },
          "hovermode": "closest",
          "paper_bgcolor": "white",
          "plot_bgcolor": "rgb(237,237,237)",
          "polar": {
           "angularaxis": {
            "gridcolor": "white",
            "linecolor": "white",
            "showgrid": true,
            "tickcolor": "rgb(51,51,51)",
            "ticks": "outside"
           },
           "bgcolor": "rgb(237,237,237)",
           "radialaxis": {
            "gridcolor": "white",
            "linecolor": "white",
            "showgrid": true,
            "tickcolor": "rgb(51,51,51)",
            "ticks": "outside"
           }
          },
          "scene": {
           "xaxis": {
            "backgroundcolor": "rgb(237,237,237)",
            "gridcolor": "white",
            "gridwidth": 2,
            "linecolor": "white",
            "showbackground": true,
            "showgrid": true,
            "tickcolor": "rgb(51,51,51)",
            "ticks": "outside",
            "zerolinecolor": "white"
           },
           "yaxis": {
            "backgroundcolor": "rgb(237,237,237)",
            "gridcolor": "white",
            "gridwidth": 2,
            "linecolor": "white",
            "showbackground": true,
            "showgrid": true,
            "tickcolor": "rgb(51,51,51)",
            "ticks": "outside",
            "zerolinecolor": "white"
           },
           "zaxis": {
            "backgroundcolor": "rgb(237,237,237)",
            "gridcolor": "white",
            "gridwidth": 2,
            "linecolor": "white",
            "showbackground": true,
            "showgrid": true,
            "tickcolor": "rgb(51,51,51)",
            "ticks": "outside",
            "zerolinecolor": "white"
           }
          },
          "shapedefaults": {
           "fillcolor": "black",
           "line": {
            "width": 0
           },
           "opacity": 0.3
          },
          "ternary": {
           "aaxis": {
            "gridcolor": "white",
            "linecolor": "white",
            "showgrid": true,
            "tickcolor": "rgb(51,51,51)",
            "ticks": "outside"
           },
           "baxis": {
            "gridcolor": "white",
            "linecolor": "white",
            "showgrid": true,
            "tickcolor": "rgb(51,51,51)",
            "ticks": "outside"
           },
           "bgcolor": "rgb(237,237,237)",
           "caxis": {
            "gridcolor": "white",
            "linecolor": "white",
            "showgrid": true,
            "tickcolor": "rgb(51,51,51)",
            "ticks": "outside"
           }
          },
          "xaxis": {
           "automargin": true,
           "gridcolor": "white",
           "linecolor": "white",
           "showgrid": true,
           "tickcolor": "rgb(51,51,51)",
           "ticks": "outside",
           "title": {
            "standoff": 15
           },
           "zerolinecolor": "white"
          },
          "yaxis": {
           "automargin": true,
           "gridcolor": "white",
           "linecolor": "white",
           "showgrid": true,
           "tickcolor": "rgb(51,51,51)",
           "ticks": "outside",
           "title": {
            "standoff": 15
           },
           "zerolinecolor": "white"
          }
         }
        },
        "title": {
         "text": "Model Perforance Metrics"
        },
        "xaxis": {
         "anchor": "y",
         "domain": [
          0,
          1
         ],
         "title": {
          "text": "Metrics"
         }
        },
        "yaxis": {
         "anchor": "x",
         "domain": [
          0,
          1
         ],
         "title": {
          "text": "Score"
         }
        }
       }
      },
      "text/html": [
       "<div>                            <div id=\"be112f02-b51d-4e5f-962c-65e167dcf4c4\" class=\"plotly-graph-div\" style=\"height:525px; width:100%;\"></div>            <script type=\"text/javascript\">                require([\"plotly\"], function(Plotly) {                    window.PLOTLYENV=window.PLOTLYENV || {};                                    if (document.getElementById(\"be112f02-b51d-4e5f-962c-65e167dcf4c4\")) {                    Plotly.newPlot(                        \"be112f02-b51d-4e5f-962c-65e167dcf4c4\",                        [{\"alignmentgroup\": \"True\", \"hovertemplate\": \"Model=Random Forest<br>Metrics=%{x}<br>Score=%{text}<extra></extra>\", \"legendgroup\": \"Random Forest\", \"marker\": {\"color\": \"crimson\"}, \"name\": \"Random Forest\", \"offsetgroup\": \"Random Forest\", \"orientation\": \"v\", \"showlegend\": true, \"text\": [49.4623655914, 57.5, 68.6567164179, 79.7919762259, 84.9098054801], \"textposition\": \"auto\", \"type\": \"bar\", \"x\": [\"Recall\", \"F_1_Score\", \"Precision\", \"Accuracy\", \"AUC_Score\"], \"xaxis\": \"x\", \"y\": [49.4623655914, 57.5, 68.6567164179, 79.7919762259, 84.9098054801], \"yaxis\": \"y\"}, {\"alignmentgroup\": \"True\", \"hovertemplate\": \"Model=Logistic Regression<br>Metrics=%{x}<br>Score=%{text}<extra></extra>\", \"legendgroup\": \"Logistic Regression\", \"marker\": {\"color\": \"skyblue\"}, \"name\": \"Logistic Regression\", \"offsetgroup\": \"Logistic Regression\", \"orientation\": \"v\", \"showlegend\": true, \"text\": [51.0752688172, 58.6419753086, 68.8405797101, 80.0891530461, 84.6950829083], \"textposition\": \"auto\", \"type\": \"bar\", \"x\": [\"Recall\", \"F_1_Score\", \"Precision\", \"Accuracy\", \"AUC_Score\"], \"xaxis\": \"x\", \"y\": [51.0752688172, 58.6419753086, 68.8405797101, 80.0891530461, 84.6950829083], \"yaxis\": \"y\"}, {\"alignmentgroup\": \"True\", \"hovertemplate\": \"Model=Support Vector Machine<br>Metrics=%{x}<br>Score=%{text}<extra></extra>\", \"legendgroup\": \"Support Vector Machine\", \"marker\": {\"color\": \"teal\"}, \"name\": \"Support Vector Machine\", \"offsetgroup\": \"Support Vector Machine\", \"orientation\": \"v\", \"showlegend\": true, \"text\": [54.3010752688, 59.2375366569, 65.1612903226, 79.3462109955, 83.2472235102], \"textposition\": \"auto\", \"type\": \"bar\", \"x\": [\"Recall\", \"F_1_Score\", \"Precision\", \"Accuracy\", \"AUC_Score\"], \"xaxis\": \"x\", \"y\": [54.3010752688, 59.2375366569, 65.1612903226, 79.3462109955, 83.2472235102], \"yaxis\": \"y\"}],                        {\"autosize\": true, \"barmode\": \"group\", \"legend\": {\"title\": {\"text\": \"Model\"}, \"tracegroupgap\": 0, \"x\": 0.01, \"xanchor\": \"left\", \"y\": 0.95, \"yanchor\": \"top\"}, \"margin\": {\"b\": 0, \"l\": 0, \"r\": 0, \"t\": 30}, \"template\": {\"data\": {\"bar\": [{\"error_x\": {\"color\": \"rgb(51,51,51)\"}, \"error_y\": {\"color\": \"rgb(51,51,51)\"}, \"marker\": {\"line\": {\"color\": \"rgb(237,237,237)\", \"width\": 0.5}}, \"type\": \"bar\"}], \"barpolar\": [{\"marker\": {\"line\": {\"color\": \"rgb(237,237,237)\", \"width\": 0.5}}, \"type\": \"barpolar\"}], \"carpet\": [{\"aaxis\": {\"endlinecolor\": \"rgb(51,51,51)\", \"gridcolor\": \"white\", \"linecolor\": \"white\", \"minorgridcolor\": \"white\", \"startlinecolor\": \"rgb(51,51,51)\"}, \"baxis\": {\"endlinecolor\": \"rgb(51,51,51)\", \"gridcolor\": \"white\", \"linecolor\": \"white\", \"minorgridcolor\": \"white\", \"startlinecolor\": \"rgb(51,51,51)\"}, \"type\": \"carpet\"}], \"choropleth\": [{\"colorbar\": {\"outlinewidth\": 0, \"tickcolor\": \"rgb(237,237,237)\", \"ticklen\": 6, \"ticks\": \"inside\"}, \"type\": \"choropleth\"}], \"contour\": [{\"colorbar\": {\"outlinewidth\": 0, \"tickcolor\": \"rgb(237,237,237)\", \"ticklen\": 6, \"ticks\": \"inside\"}, \"colorscale\": [[0, \"rgb(20,44,66)\"], [1, \"rgb(90,179,244)\"]], \"type\": \"contour\"}], \"contourcarpet\": [{\"colorbar\": {\"outlinewidth\": 0, \"tickcolor\": \"rgb(237,237,237)\", \"ticklen\": 6, \"ticks\": \"inside\"}, \"type\": \"contourcarpet\"}], \"heatmap\": [{\"colorbar\": {\"outlinewidth\": 0, \"tickcolor\": \"rgb(237,237,237)\", \"ticklen\": 6, \"ticks\": \"inside\"}, \"colorscale\": [[0, \"rgb(20,44,66)\"], [1, \"rgb(90,179,244)\"]], \"type\": \"heatmap\"}], \"heatmapgl\": [{\"colorbar\": {\"outlinewidth\": 0, \"tickcolor\": \"rgb(237,237,237)\", \"ticklen\": 6, \"ticks\": \"inside\"}, \"colorscale\": [[0, \"rgb(20,44,66)\"], [1, \"rgb(90,179,244)\"]], \"type\": \"heatmapgl\"}], \"histogram\": [{\"marker\": {\"colorbar\": {\"outlinewidth\": 0, \"tickcolor\": \"rgb(237,237,237)\", \"ticklen\": 6, \"ticks\": \"inside\"}}, \"type\": \"histogram\"}], \"histogram2d\": [{\"colorbar\": {\"outlinewidth\": 0, \"tickcolor\": \"rgb(237,237,237)\", \"ticklen\": 6, \"ticks\": \"inside\"}, \"colorscale\": [[0, \"rgb(20,44,66)\"], [1, \"rgb(90,179,244)\"]], \"type\": \"histogram2d\"}], \"histogram2dcontour\": [{\"colorbar\": {\"outlinewidth\": 0, \"tickcolor\": \"rgb(237,237,237)\", \"ticklen\": 6, \"ticks\": \"inside\"}, \"colorscale\": [[0, \"rgb(20,44,66)\"], [1, \"rgb(90,179,244)\"]], \"type\": \"histogram2dcontour\"}], \"mesh3d\": [{\"colorbar\": {\"outlinewidth\": 0, \"tickcolor\": \"rgb(237,237,237)\", \"ticklen\": 6, \"ticks\": \"inside\"}, \"type\": \"mesh3d\"}], \"parcoords\": [{\"line\": {\"colorbar\": {\"outlinewidth\": 0, \"tickcolor\": \"rgb(237,237,237)\", \"ticklen\": 6, \"ticks\": \"inside\"}}, \"type\": \"parcoords\"}], \"pie\": [{\"automargin\": true, \"type\": \"pie\"}], \"scatter\": [{\"marker\": {\"colorbar\": {\"outlinewidth\": 0, \"tickcolor\": \"rgb(237,237,237)\", \"ticklen\": 6, \"ticks\": \"inside\"}}, \"type\": \"scatter\"}], \"scatter3d\": [{\"line\": {\"colorbar\": {\"outlinewidth\": 0, \"tickcolor\": \"rgb(237,237,237)\", \"ticklen\": 6, \"ticks\": \"inside\"}}, \"marker\": {\"colorbar\": {\"outlinewidth\": 0, \"tickcolor\": \"rgb(237,237,237)\", \"ticklen\": 6, \"ticks\": \"inside\"}}, \"type\": \"scatter3d\"}], \"scattercarpet\": [{\"marker\": {\"colorbar\": {\"outlinewidth\": 0, \"tickcolor\": \"rgb(237,237,237)\", \"ticklen\": 6, \"ticks\": \"inside\"}}, \"type\": \"scattercarpet\"}], \"scattergeo\": [{\"marker\": {\"colorbar\": {\"outlinewidth\": 0, \"tickcolor\": \"rgb(237,237,237)\", \"ticklen\": 6, \"ticks\": \"inside\"}}, \"type\": \"scattergeo\"}], \"scattergl\": [{\"marker\": {\"colorbar\": {\"outlinewidth\": 0, \"tickcolor\": \"rgb(237,237,237)\", \"ticklen\": 6, \"ticks\": \"inside\"}}, \"type\": \"scattergl\"}], \"scattermapbox\": [{\"marker\": {\"colorbar\": {\"outlinewidth\": 0, \"tickcolor\": \"rgb(237,237,237)\", \"ticklen\": 6, \"ticks\": \"inside\"}}, \"type\": \"scattermapbox\"}], \"scatterpolar\": [{\"marker\": {\"colorbar\": {\"outlinewidth\": 0, \"tickcolor\": \"rgb(237,237,237)\", \"ticklen\": 6, \"ticks\": \"inside\"}}, \"type\": \"scatterpolar\"}], \"scatterpolargl\": [{\"marker\": {\"colorbar\": {\"outlinewidth\": 0, \"tickcolor\": \"rgb(237,237,237)\", \"ticklen\": 6, \"ticks\": \"inside\"}}, \"type\": \"scatterpolargl\"}], \"scatterternary\": [{\"marker\": {\"colorbar\": {\"outlinewidth\": 0, \"tickcolor\": \"rgb(237,237,237)\", \"ticklen\": 6, \"ticks\": \"inside\"}}, \"type\": \"scatterternary\"}], \"surface\": [{\"colorbar\": {\"outlinewidth\": 0, \"tickcolor\": \"rgb(237,237,237)\", \"ticklen\": 6, \"ticks\": \"inside\"}, \"colorscale\": [[0, \"rgb(20,44,66)\"], [1, \"rgb(90,179,244)\"]], \"type\": \"surface\"}], \"table\": [{\"cells\": {\"fill\": {\"color\": \"rgb(237,237,237)\"}, \"line\": {\"color\": \"white\"}}, \"header\": {\"fill\": {\"color\": \"rgb(217,217,217)\"}, \"line\": {\"color\": \"white\"}}, \"type\": \"table\"}]}, \"layout\": {\"annotationdefaults\": {\"arrowhead\": 0, \"arrowwidth\": 1}, \"autotypenumbers\": \"strict\", \"coloraxis\": {\"colorbar\": {\"outlinewidth\": 0, \"tickcolor\": \"rgb(237,237,237)\", \"ticklen\": 6, \"ticks\": \"inside\"}}, \"colorscale\": {\"sequential\": [[0, \"rgb(20,44,66)\"], [1, \"rgb(90,179,244)\"]], \"sequentialminus\": [[0, \"rgb(20,44,66)\"], [1, \"rgb(90,179,244)\"]]}, \"colorway\": [\"#F8766D\", \"#A3A500\", \"#00BF7D\", \"#00B0F6\", \"#E76BF3\"], \"font\": {\"color\": \"rgb(51,51,51)\"}, \"geo\": {\"bgcolor\": \"white\", \"lakecolor\": \"white\", \"landcolor\": \"rgb(237,237,237)\", \"showlakes\": true, \"showland\": true, \"subunitcolor\": \"white\"}, \"hoverlabel\": {\"align\": \"left\"}, \"hovermode\": \"closest\", \"paper_bgcolor\": \"white\", \"plot_bgcolor\": \"rgb(237,237,237)\", \"polar\": {\"angularaxis\": {\"gridcolor\": \"white\", \"linecolor\": \"white\", \"showgrid\": true, \"tickcolor\": \"rgb(51,51,51)\", \"ticks\": \"outside\"}, \"bgcolor\": \"rgb(237,237,237)\", \"radialaxis\": {\"gridcolor\": \"white\", \"linecolor\": \"white\", \"showgrid\": true, \"tickcolor\": \"rgb(51,51,51)\", \"ticks\": \"outside\"}}, \"scene\": {\"xaxis\": {\"backgroundcolor\": \"rgb(237,237,237)\", \"gridcolor\": \"white\", \"gridwidth\": 2, \"linecolor\": \"white\", \"showbackground\": true, \"showgrid\": true, \"tickcolor\": \"rgb(51,51,51)\", \"ticks\": \"outside\", \"zerolinecolor\": \"white\"}, \"yaxis\": {\"backgroundcolor\": \"rgb(237,237,237)\", \"gridcolor\": \"white\", \"gridwidth\": 2, \"linecolor\": \"white\", \"showbackground\": true, \"showgrid\": true, \"tickcolor\": \"rgb(51,51,51)\", \"ticks\": \"outside\", \"zerolinecolor\": \"white\"}, \"zaxis\": {\"backgroundcolor\": \"rgb(237,237,237)\", \"gridcolor\": \"white\", \"gridwidth\": 2, \"linecolor\": \"white\", \"showbackground\": true, \"showgrid\": true, \"tickcolor\": \"rgb(51,51,51)\", \"ticks\": \"outside\", \"zerolinecolor\": \"white\"}}, \"shapedefaults\": {\"fillcolor\": \"black\", \"line\": {\"width\": 0}, \"opacity\": 0.3}, \"ternary\": {\"aaxis\": {\"gridcolor\": \"white\", \"linecolor\": \"white\", \"showgrid\": true, \"tickcolor\": \"rgb(51,51,51)\", \"ticks\": \"outside\"}, \"baxis\": {\"gridcolor\": \"white\", \"linecolor\": \"white\", \"showgrid\": true, \"tickcolor\": \"rgb(51,51,51)\", \"ticks\": \"outside\"}, \"bgcolor\": \"rgb(237,237,237)\", \"caxis\": {\"gridcolor\": \"white\", \"linecolor\": \"white\", \"showgrid\": true, \"tickcolor\": \"rgb(51,51,51)\", \"ticks\": \"outside\"}}, \"xaxis\": {\"automargin\": true, \"gridcolor\": \"white\", \"linecolor\": \"white\", \"showgrid\": true, \"tickcolor\": \"rgb(51,51,51)\", \"ticks\": \"outside\", \"title\": {\"standoff\": 15}, \"zerolinecolor\": \"white\"}, \"yaxis\": {\"automargin\": true, \"gridcolor\": \"white\", \"linecolor\": \"white\", \"showgrid\": true, \"tickcolor\": \"rgb(51,51,51)\", \"ticks\": \"outside\", \"title\": {\"standoff\": 15}, \"zerolinecolor\": \"white\"}}}, \"title\": {\"text\": \"Model Perforance Metrics\"}, \"xaxis\": {\"anchor\": \"y\", \"domain\": [0.0, 1.0], \"title\": {\"text\": \"Metrics\"}}, \"yaxis\": {\"anchor\": \"x\", \"domain\": [0.0, 1.0], \"title\": {\"text\": \"Score\"}}},                        {\"responsive\": true}                    ).then(function(){\n",
       "                            \n",
       "var gd = document.getElementById('be112f02-b51d-4e5f-962c-65e167dcf4c4');\n",
       "var x = new MutationObserver(function (mutations, observer) {{\n",
       "        var display = window.getComputedStyle(gd).display;\n",
       "        if (!display || display === 'none') {{\n",
       "            console.log([gd, 'removed!']);\n",
       "            Plotly.purge(gd);\n",
       "            observer.disconnect();\n",
       "        }}\n",
       "}});\n",
       "\n",
       "// Listen for the removal of the full notebook cells\n",
       "var notebookContainer = gd.closest('#notebook-container');\n",
       "if (notebookContainer) {{\n",
       "    x.observe(notebookContainer, {childList: true});\n",
       "}}\n",
       "\n",
       "// Listen for the clearing of the current output cell\n",
       "var outputEl = gd.closest('.output');\n",
       "if (outputEl) {{\n",
       "    x.observe(outputEl, {childList: true});\n",
       "}}\n",
       "\n",
       "                        })                };                });            </script>        </div>"
      ]
     },
     "metadata": {},
     "output_type": "display_data"
    }
   ],
   "source": [
    "colors = ['crimson','skyblue','teal','orange']\n",
    "model_accuracy_barchart=px.bar(unpivoted_metric_df,x='Metrics',y='Score',color='Model',text='Score',color_discrete_sequence=colors,barmode=\"group\",title='Model Perforance Metrics')\n",
    "model_accuracy_barchart.update_layout(legend=dict(yanchor=\"top\",y=0.95,xanchor=\"left\",x=0.01),autosize=True,margin=dict(t=30,b=0,l=0,r=0)) #use barmode='stack' when stacking,"
   ]
  },
  {
   "cell_type": "markdown",
   "metadata": {},
   "source": [
    "Confusion Matrix"
   ]
  },
  {
   "cell_type": "code",
   "execution_count": 82,
   "metadata": {},
   "outputs": [
    {
     "data": {
      "text/html": [
       "<div>\n",
       "<style scoped>\n",
       "    .dataframe tbody tr th:only-of-type {\n",
       "        vertical-align: middle;\n",
       "    }\n",
       "\n",
       "    .dataframe tbody tr th {\n",
       "        vertical-align: top;\n",
       "    }\n",
       "\n",
       "    .dataframe thead th {\n",
       "        text-align: right;\n",
       "    }\n",
       "</style>\n",
       "<table border=\"1\" class=\"dataframe\">\n",
       "  <thead>\n",
       "    <tr style=\"text-align: right;\">\n",
       "      <th></th>\n",
       "      <th>index</th>\n",
       "      <th>Model</th>\n",
       "      <th>Confusion_Matrix_ROC</th>\n",
       "    </tr>\n",
       "  </thead>\n",
       "  <tbody>\n",
       "    <tr>\n",
       "      <th>0</th>\n",
       "      <td>3</td>\n",
       "      <td>Logistic Regression</td>\n",
       "      <td>[[444, 43], [91, 95]]</td>\n",
       "    </tr>\n",
       "    <tr>\n",
       "      <th>1</th>\n",
       "      <td>4</td>\n",
       "      <td>Random Forest</td>\n",
       "      <td>[[445, 42], [94, 92]]</td>\n",
       "    </tr>\n",
       "    <tr>\n",
       "      <th>2</th>\n",
       "      <td>5</td>\n",
       "      <td>Support Vector Machine</td>\n",
       "      <td>[[433, 54], [85, 101]]</td>\n",
       "    </tr>\n",
       "  </tbody>\n",
       "</table>\n",
       "</div>"
      ],
      "text/plain": [
       "   index                   Model    Confusion_Matrix_ROC\n",
       "0      3     Logistic Regression   [[444, 43], [91, 95]]\n",
       "1      4           Random Forest   [[445, 42], [94, 92]]\n",
       "2      5  Support Vector Machine  [[433, 54], [85, 101]]"
      ]
     },
     "execution_count": 82,
     "metadata": {},
     "output_type": "execute_result"
    }
   ],
   "source": [
    "con_matrix_df=model_evaluation_df[model_evaluation_df['Type']=='Confusion_Matrix'][['Model','Confusion_Matrix_ROC']]\n",
    "con_matrix_df.reset_index(level=0, inplace=True)\n",
    "con_matrix_df"
   ]
  },
  {
   "cell_type": "code",
   "execution_count": 83,
   "metadata": {},
   "outputs": [
    {
     "data": {
      "application/vnd.plotly.v1+json": {
       "config": {
        "plotlyServerURL": "https://plot.ly"
       },
       "data": [
        {
         "colorscale": [
          [
           0,
           "orange"
          ],
          [
           1,
           "teal"
          ]
         ],
         "hoverinfo": "z",
         "reversescale": false,
         "showscale": false,
         "type": "heatmap",
         "x": [
          "TP",
          "FP"
         ],
         "y": [
          "FP",
          "TP"
         ],
         "z": [
          [
           94,
           92
          ],
          [
           445,
           42
          ]
         ]
        }
       ],
       "layout": {
        "annotations": [
         {
          "font": {
           "color": "#000000"
          },
          "showarrow": false,
          "text": "94",
          "x": "TP",
          "xref": "x",
          "y": "FP",
          "yref": "y"
         },
         {
          "font": {
           "color": "#000000"
          },
          "showarrow": false,
          "text": "92",
          "x": "FP",
          "xref": "x",
          "y": "FP",
          "yref": "y"
         },
         {
          "font": {
           "color": "#000000"
          },
          "showarrow": false,
          "text": "445",
          "x": "TP",
          "xref": "x",
          "y": "TP",
          "yref": "y"
         },
         {
          "font": {
           "color": "#000000"
          },
          "showarrow": false,
          "text": "42",
          "x": "FP",
          "xref": "x",
          "y": "TP",
          "yref": "y"
         }
        ],
        "autosize": true,
        "margin": {
         "b": 0,
         "l": 0,
         "r": 0,
         "t": 30
        },
        "template": {
         "data": {
          "bar": [
           {
            "error_x": {
             "color": "#2a3f5f"
            },
            "error_y": {
             "color": "#2a3f5f"
            },
            "marker": {
             "line": {
              "color": "#E5ECF6",
              "width": 0.5
             }
            },
            "type": "bar"
           }
          ],
          "barpolar": [
           {
            "marker": {
             "line": {
              "color": "#E5ECF6",
              "width": 0.5
             }
            },
            "type": "barpolar"
           }
          ],
          "carpet": [
           {
            "aaxis": {
             "endlinecolor": "#2a3f5f",
             "gridcolor": "white",
             "linecolor": "white",
             "minorgridcolor": "white",
             "startlinecolor": "#2a3f5f"
            },
            "baxis": {
             "endlinecolor": "#2a3f5f",
             "gridcolor": "white",
             "linecolor": "white",
             "minorgridcolor": "white",
             "startlinecolor": "#2a3f5f"
            },
            "type": "carpet"
           }
          ],
          "choropleth": [
           {
            "colorbar": {
             "outlinewidth": 0,
             "ticks": ""
            },
            "type": "choropleth"
           }
          ],
          "contour": [
           {
            "colorbar": {
             "outlinewidth": 0,
             "ticks": ""
            },
            "colorscale": [
             [
              0,
              "#0d0887"
             ],
             [
              0.1111111111111111,
              "#46039f"
             ],
             [
              0.2222222222222222,
              "#7201a8"
             ],
             [
              0.3333333333333333,
              "#9c179e"
             ],
             [
              0.4444444444444444,
              "#bd3786"
             ],
             [
              0.5555555555555556,
              "#d8576b"
             ],
             [
              0.6666666666666666,
              "#ed7953"
             ],
             [
              0.7777777777777778,
              "#fb9f3a"
             ],
             [
              0.8888888888888888,
              "#fdca26"
             ],
             [
              1,
              "#f0f921"
             ]
            ],
            "type": "contour"
           }
          ],
          "contourcarpet": [
           {
            "colorbar": {
             "outlinewidth": 0,
             "ticks": ""
            },
            "type": "contourcarpet"
           }
          ],
          "heatmap": [
           {
            "colorbar": {
             "outlinewidth": 0,
             "ticks": ""
            },
            "colorscale": [
             [
              0,
              "#0d0887"
             ],
             [
              0.1111111111111111,
              "#46039f"
             ],
             [
              0.2222222222222222,
              "#7201a8"
             ],
             [
              0.3333333333333333,
              "#9c179e"
             ],
             [
              0.4444444444444444,
              "#bd3786"
             ],
             [
              0.5555555555555556,
              "#d8576b"
             ],
             [
              0.6666666666666666,
              "#ed7953"
             ],
             [
              0.7777777777777778,
              "#fb9f3a"
             ],
             [
              0.8888888888888888,
              "#fdca26"
             ],
             [
              1,
              "#f0f921"
             ]
            ],
            "type": "heatmap"
           }
          ],
          "heatmapgl": [
           {
            "colorbar": {
             "outlinewidth": 0,
             "ticks": ""
            },
            "colorscale": [
             [
              0,
              "#0d0887"
             ],
             [
              0.1111111111111111,
              "#46039f"
             ],
             [
              0.2222222222222222,
              "#7201a8"
             ],
             [
              0.3333333333333333,
              "#9c179e"
             ],
             [
              0.4444444444444444,
              "#bd3786"
             ],
             [
              0.5555555555555556,
              "#d8576b"
             ],
             [
              0.6666666666666666,
              "#ed7953"
             ],
             [
              0.7777777777777778,
              "#fb9f3a"
             ],
             [
              0.8888888888888888,
              "#fdca26"
             ],
             [
              1,
              "#f0f921"
             ]
            ],
            "type": "heatmapgl"
           }
          ],
          "histogram": [
           {
            "marker": {
             "colorbar": {
              "outlinewidth": 0,
              "ticks": ""
             }
            },
            "type": "histogram"
           }
          ],
          "histogram2d": [
           {
            "colorbar": {
             "outlinewidth": 0,
             "ticks": ""
            },
            "colorscale": [
             [
              0,
              "#0d0887"
             ],
             [
              0.1111111111111111,
              "#46039f"
             ],
             [
              0.2222222222222222,
              "#7201a8"
             ],
             [
              0.3333333333333333,
              "#9c179e"
             ],
             [
              0.4444444444444444,
              "#bd3786"
             ],
             [
              0.5555555555555556,
              "#d8576b"
             ],
             [
              0.6666666666666666,
              "#ed7953"
             ],
             [
              0.7777777777777778,
              "#fb9f3a"
             ],
             [
              0.8888888888888888,
              "#fdca26"
             ],
             [
              1,
              "#f0f921"
             ]
            ],
            "type": "histogram2d"
           }
          ],
          "histogram2dcontour": [
           {
            "colorbar": {
             "outlinewidth": 0,
             "ticks": ""
            },
            "colorscale": [
             [
              0,
              "#0d0887"
             ],
             [
              0.1111111111111111,
              "#46039f"
             ],
             [
              0.2222222222222222,
              "#7201a8"
             ],
             [
              0.3333333333333333,
              "#9c179e"
             ],
             [
              0.4444444444444444,
              "#bd3786"
             ],
             [
              0.5555555555555556,
              "#d8576b"
             ],
             [
              0.6666666666666666,
              "#ed7953"
             ],
             [
              0.7777777777777778,
              "#fb9f3a"
             ],
             [
              0.8888888888888888,
              "#fdca26"
             ],
             [
              1,
              "#f0f921"
             ]
            ],
            "type": "histogram2dcontour"
           }
          ],
          "mesh3d": [
           {
            "colorbar": {
             "outlinewidth": 0,
             "ticks": ""
            },
            "type": "mesh3d"
           }
          ],
          "parcoords": [
           {
            "line": {
             "colorbar": {
              "outlinewidth": 0,
              "ticks": ""
             }
            },
            "type": "parcoords"
           }
          ],
          "pie": [
           {
            "automargin": true,
            "type": "pie"
           }
          ],
          "scatter": [
           {
            "marker": {
             "colorbar": {
              "outlinewidth": 0,
              "ticks": ""
             }
            },
            "type": "scatter"
           }
          ],
          "scatter3d": [
           {
            "line": {
             "colorbar": {
              "outlinewidth": 0,
              "ticks": ""
             }
            },
            "marker": {
             "colorbar": {
              "outlinewidth": 0,
              "ticks": ""
             }
            },
            "type": "scatter3d"
           }
          ],
          "scattercarpet": [
           {
            "marker": {
             "colorbar": {
              "outlinewidth": 0,
              "ticks": ""
             }
            },
            "type": "scattercarpet"
           }
          ],
          "scattergeo": [
           {
            "marker": {
             "colorbar": {
              "outlinewidth": 0,
              "ticks": ""
             }
            },
            "type": "scattergeo"
           }
          ],
          "scattergl": [
           {
            "marker": {
             "colorbar": {
              "outlinewidth": 0,
              "ticks": ""
             }
            },
            "type": "scattergl"
           }
          ],
          "scattermapbox": [
           {
            "marker": {
             "colorbar": {
              "outlinewidth": 0,
              "ticks": ""
             }
            },
            "type": "scattermapbox"
           }
          ],
          "scatterpolar": [
           {
            "marker": {
             "colorbar": {
              "outlinewidth": 0,
              "ticks": ""
             }
            },
            "type": "scatterpolar"
           }
          ],
          "scatterpolargl": [
           {
            "marker": {
             "colorbar": {
              "outlinewidth": 0,
              "ticks": ""
             }
            },
            "type": "scatterpolargl"
           }
          ],
          "scatterternary": [
           {
            "marker": {
             "colorbar": {
              "outlinewidth": 0,
              "ticks": ""
             }
            },
            "type": "scatterternary"
           }
          ],
          "surface": [
           {
            "colorbar": {
             "outlinewidth": 0,
             "ticks": ""
            },
            "colorscale": [
             [
              0,
              "#0d0887"
             ],
             [
              0.1111111111111111,
              "#46039f"
             ],
             [
              0.2222222222222222,
              "#7201a8"
             ],
             [
              0.3333333333333333,
              "#9c179e"
             ],
             [
              0.4444444444444444,
              "#bd3786"
             ],
             [
              0.5555555555555556,
              "#d8576b"
             ],
             [
              0.6666666666666666,
              "#ed7953"
             ],
             [
              0.7777777777777778,
              "#fb9f3a"
             ],
             [
              0.8888888888888888,
              "#fdca26"
             ],
             [
              1,
              "#f0f921"
             ]
            ],
            "type": "surface"
           }
          ],
          "table": [
           {
            "cells": {
             "fill": {
              "color": "#EBF0F8"
             },
             "line": {
              "color": "white"
             }
            },
            "header": {
             "fill": {
              "color": "#C8D4E3"
             },
             "line": {
              "color": "white"
             }
            },
            "type": "table"
           }
          ]
         },
         "layout": {
          "annotationdefaults": {
           "arrowcolor": "#2a3f5f",
           "arrowhead": 0,
           "arrowwidth": 1
          },
          "autotypenumbers": "strict",
          "coloraxis": {
           "colorbar": {
            "outlinewidth": 0,
            "ticks": ""
           }
          },
          "colorscale": {
           "diverging": [
            [
             0,
             "#8e0152"
            ],
            [
             0.1,
             "#c51b7d"
            ],
            [
             0.2,
             "#de77ae"
            ],
            [
             0.3,
             "#f1b6da"
            ],
            [
             0.4,
             "#fde0ef"
            ],
            [
             0.5,
             "#f7f7f7"
            ],
            [
             0.6,
             "#e6f5d0"
            ],
            [
             0.7,
             "#b8e186"
            ],
            [
             0.8,
             "#7fbc41"
            ],
            [
             0.9,
             "#4d9221"
            ],
            [
             1,
             "#276419"
            ]
           ],
           "sequential": [
            [
             0,
             "#0d0887"
            ],
            [
             0.1111111111111111,
             "#46039f"
            ],
            [
             0.2222222222222222,
             "#7201a8"
            ],
            [
             0.3333333333333333,
             "#9c179e"
            ],
            [
             0.4444444444444444,
             "#bd3786"
            ],
            [
             0.5555555555555556,
             "#d8576b"
            ],
            [
             0.6666666666666666,
             "#ed7953"
            ],
            [
             0.7777777777777778,
             "#fb9f3a"
            ],
            [
             0.8888888888888888,
             "#fdca26"
            ],
            [
             1,
             "#f0f921"
            ]
           ],
           "sequentialminus": [
            [
             0,
             "#0d0887"
            ],
            [
             0.1111111111111111,
             "#46039f"
            ],
            [
             0.2222222222222222,
             "#7201a8"
            ],
            [
             0.3333333333333333,
             "#9c179e"
            ],
            [
             0.4444444444444444,
             "#bd3786"
            ],
            [
             0.5555555555555556,
             "#d8576b"
            ],
            [
             0.6666666666666666,
             "#ed7953"
            ],
            [
             0.7777777777777778,
             "#fb9f3a"
            ],
            [
             0.8888888888888888,
             "#fdca26"
            ],
            [
             1,
             "#f0f921"
            ]
           ]
          },
          "colorway": [
           "#636efa",
           "#EF553B",
           "#00cc96",
           "#ab63fa",
           "#FFA15A",
           "#19d3f3",
           "#FF6692",
           "#B6E880",
           "#FF97FF",
           "#FECB52"
          ],
          "font": {
           "color": "#2a3f5f"
          },
          "geo": {
           "bgcolor": "white",
           "lakecolor": "white",
           "landcolor": "#E5ECF6",
           "showlakes": true,
           "showland": true,
           "subunitcolor": "white"
          },
          "hoverlabel": {
           "align": "left"
          },
          "hovermode": "closest",
          "mapbox": {
           "style": "light"
          },
          "paper_bgcolor": "white",
          "plot_bgcolor": "#E5ECF6",
          "polar": {
           "angularaxis": {
            "gridcolor": "white",
            "linecolor": "white",
            "ticks": ""
           },
           "bgcolor": "#E5ECF6",
           "radialaxis": {
            "gridcolor": "white",
            "linecolor": "white",
            "ticks": ""
           }
          },
          "scene": {
           "xaxis": {
            "backgroundcolor": "#E5ECF6",
            "gridcolor": "white",
            "gridwidth": 2,
            "linecolor": "white",
            "showbackground": true,
            "ticks": "",
            "zerolinecolor": "white"
           },
           "yaxis": {
            "backgroundcolor": "#E5ECF6",
            "gridcolor": "white",
            "gridwidth": 2,
            "linecolor": "white",
            "showbackground": true,
            "ticks": "",
            "zerolinecolor": "white"
           },
           "zaxis": {
            "backgroundcolor": "#E5ECF6",
            "gridcolor": "white",
            "gridwidth": 2,
            "linecolor": "white",
            "showbackground": true,
            "ticks": "",
            "zerolinecolor": "white"
           }
          },
          "shapedefaults": {
           "line": {
            "color": "#2a3f5f"
           }
          },
          "ternary": {
           "aaxis": {
            "gridcolor": "white",
            "linecolor": "white",
            "ticks": ""
           },
           "baxis": {
            "gridcolor": "white",
            "linecolor": "white",
            "ticks": ""
           },
           "bgcolor": "#E5ECF6",
           "caxis": {
            "gridcolor": "white",
            "linecolor": "white",
            "ticks": ""
           }
          },
          "title": {
           "x": 0.05
          },
          "xaxis": {
           "automargin": true,
           "gridcolor": "white",
           "linecolor": "white",
           "ticks": "",
           "title": {
            "standoff": 15
           },
           "zerolinecolor": "white",
           "zerolinewidth": 2
          },
          "yaxis": {
           "automargin": true,
           "gridcolor": "white",
           "linecolor": "white",
           "ticks": "",
           "title": {
            "standoff": 15
           },
           "zerolinecolor": "white",
           "zerolinewidth": 2
          }
         }
        },
        "title": {
         "text": "Random Forest"
        },
        "xaxis": {
         "dtick": 1,
         "gridcolor": "rgb(0, 0, 0)",
         "side": "top",
         "ticks": ""
        },
        "yaxis": {
         "dtick": 1,
         "ticks": "",
         "ticksuffix": "  "
        }
       }
      },
      "text/html": [
       "<div>                            <div id=\"86304eef-bc3b-4c05-b56f-8fba4aaedff3\" class=\"plotly-graph-div\" style=\"height:525px; width:100%;\"></div>            <script type=\"text/javascript\">                require([\"plotly\"], function(Plotly) {                    window.PLOTLYENV=window.PLOTLYENV || {};                                    if (document.getElementById(\"86304eef-bc3b-4c05-b56f-8fba4aaedff3\")) {                    Plotly.newPlot(                        \"86304eef-bc3b-4c05-b56f-8fba4aaedff3\",                        [{\"colorscale\": [[0, \"orange\"], [1, \"teal\"]], \"hoverinfo\": \"z\", \"reversescale\": false, \"showscale\": false, \"type\": \"heatmap\", \"x\": [\"TP\", \"FP\"], \"y\": [\"FP\", \"TP\"], \"z\": [[94, 92], [445, 42]]}],                        {\"annotations\": [{\"font\": {\"color\": \"#000000\"}, \"showarrow\": false, \"text\": \"94\", \"x\": \"TP\", \"xref\": \"x\", \"y\": \"FP\", \"yref\": \"y\"}, {\"font\": {\"color\": \"#000000\"}, \"showarrow\": false, \"text\": \"92\", \"x\": \"FP\", \"xref\": \"x\", \"y\": \"FP\", \"yref\": \"y\"}, {\"font\": {\"color\": \"#000000\"}, \"showarrow\": false, \"text\": \"445\", \"x\": \"TP\", \"xref\": \"x\", \"y\": \"TP\", \"yref\": \"y\"}, {\"font\": {\"color\": \"#000000\"}, \"showarrow\": false, \"text\": \"42\", \"x\": \"FP\", \"xref\": \"x\", \"y\": \"TP\", \"yref\": \"y\"}], \"autosize\": true, \"margin\": {\"b\": 0, \"l\": 0, \"r\": 0, \"t\": 30}, \"template\": {\"data\": {\"bar\": [{\"error_x\": {\"color\": \"#2a3f5f\"}, \"error_y\": {\"color\": \"#2a3f5f\"}, \"marker\": {\"line\": {\"color\": \"#E5ECF6\", \"width\": 0.5}}, \"type\": \"bar\"}], \"barpolar\": [{\"marker\": {\"line\": {\"color\": \"#E5ECF6\", \"width\": 0.5}}, \"type\": \"barpolar\"}], \"carpet\": [{\"aaxis\": {\"endlinecolor\": \"#2a3f5f\", \"gridcolor\": \"white\", \"linecolor\": \"white\", \"minorgridcolor\": \"white\", \"startlinecolor\": \"#2a3f5f\"}, \"baxis\": {\"endlinecolor\": \"#2a3f5f\", \"gridcolor\": \"white\", \"linecolor\": \"white\", \"minorgridcolor\": \"white\", \"startlinecolor\": \"#2a3f5f\"}, \"type\": \"carpet\"}], \"choropleth\": [{\"colorbar\": {\"outlinewidth\": 0, \"ticks\": \"\"}, \"type\": \"choropleth\"}], \"contour\": [{\"colorbar\": {\"outlinewidth\": 0, \"ticks\": \"\"}, \"colorscale\": [[0.0, \"#0d0887\"], [0.1111111111111111, \"#46039f\"], [0.2222222222222222, \"#7201a8\"], [0.3333333333333333, \"#9c179e\"], [0.4444444444444444, \"#bd3786\"], [0.5555555555555556, \"#d8576b\"], [0.6666666666666666, \"#ed7953\"], [0.7777777777777778, \"#fb9f3a\"], [0.8888888888888888, \"#fdca26\"], [1.0, \"#f0f921\"]], \"type\": \"contour\"}], \"contourcarpet\": [{\"colorbar\": {\"outlinewidth\": 0, \"ticks\": \"\"}, \"type\": \"contourcarpet\"}], \"heatmap\": [{\"colorbar\": {\"outlinewidth\": 0, \"ticks\": \"\"}, \"colorscale\": [[0.0, \"#0d0887\"], [0.1111111111111111, \"#46039f\"], [0.2222222222222222, \"#7201a8\"], [0.3333333333333333, \"#9c179e\"], [0.4444444444444444, \"#bd3786\"], [0.5555555555555556, \"#d8576b\"], [0.6666666666666666, \"#ed7953\"], [0.7777777777777778, \"#fb9f3a\"], [0.8888888888888888, \"#fdca26\"], [1.0, \"#f0f921\"]], \"type\": \"heatmap\"}], \"heatmapgl\": [{\"colorbar\": {\"outlinewidth\": 0, \"ticks\": \"\"}, \"colorscale\": [[0.0, \"#0d0887\"], [0.1111111111111111, \"#46039f\"], [0.2222222222222222, \"#7201a8\"], [0.3333333333333333, \"#9c179e\"], [0.4444444444444444, \"#bd3786\"], [0.5555555555555556, \"#d8576b\"], [0.6666666666666666, \"#ed7953\"], [0.7777777777777778, \"#fb9f3a\"], [0.8888888888888888, \"#fdca26\"], [1.0, \"#f0f921\"]], \"type\": \"heatmapgl\"}], \"histogram\": [{\"marker\": {\"colorbar\": {\"outlinewidth\": 0, \"ticks\": \"\"}}, \"type\": \"histogram\"}], \"histogram2d\": [{\"colorbar\": {\"outlinewidth\": 0, \"ticks\": \"\"}, \"colorscale\": [[0.0, \"#0d0887\"], [0.1111111111111111, \"#46039f\"], [0.2222222222222222, \"#7201a8\"], [0.3333333333333333, \"#9c179e\"], [0.4444444444444444, \"#bd3786\"], [0.5555555555555556, \"#d8576b\"], [0.6666666666666666, \"#ed7953\"], [0.7777777777777778, \"#fb9f3a\"], [0.8888888888888888, \"#fdca26\"], [1.0, \"#f0f921\"]], \"type\": \"histogram2d\"}], \"histogram2dcontour\": [{\"colorbar\": {\"outlinewidth\": 0, \"ticks\": \"\"}, \"colorscale\": [[0.0, \"#0d0887\"], [0.1111111111111111, \"#46039f\"], [0.2222222222222222, \"#7201a8\"], [0.3333333333333333, \"#9c179e\"], [0.4444444444444444, \"#bd3786\"], [0.5555555555555556, \"#d8576b\"], [0.6666666666666666, \"#ed7953\"], [0.7777777777777778, \"#fb9f3a\"], [0.8888888888888888, \"#fdca26\"], [1.0, \"#f0f921\"]], \"type\": \"histogram2dcontour\"}], \"mesh3d\": [{\"colorbar\": {\"outlinewidth\": 0, \"ticks\": \"\"}, \"type\": \"mesh3d\"}], \"parcoords\": [{\"line\": {\"colorbar\": {\"outlinewidth\": 0, \"ticks\": \"\"}}, \"type\": \"parcoords\"}], \"pie\": [{\"automargin\": true, \"type\": \"pie\"}], \"scatter\": [{\"marker\": {\"colorbar\": {\"outlinewidth\": 0, \"ticks\": \"\"}}, \"type\": \"scatter\"}], \"scatter3d\": [{\"line\": {\"colorbar\": {\"outlinewidth\": 0, \"ticks\": \"\"}}, \"marker\": {\"colorbar\": {\"outlinewidth\": 0, \"ticks\": \"\"}}, \"type\": \"scatter3d\"}], \"scattercarpet\": [{\"marker\": {\"colorbar\": {\"outlinewidth\": 0, \"ticks\": \"\"}}, \"type\": \"scattercarpet\"}], \"scattergeo\": [{\"marker\": {\"colorbar\": {\"outlinewidth\": 0, \"ticks\": \"\"}}, \"type\": \"scattergeo\"}], \"scattergl\": [{\"marker\": {\"colorbar\": {\"outlinewidth\": 0, \"ticks\": \"\"}}, \"type\": \"scattergl\"}], \"scattermapbox\": [{\"marker\": {\"colorbar\": {\"outlinewidth\": 0, \"ticks\": \"\"}}, \"type\": \"scattermapbox\"}], \"scatterpolar\": [{\"marker\": {\"colorbar\": {\"outlinewidth\": 0, \"ticks\": \"\"}}, \"type\": \"scatterpolar\"}], \"scatterpolargl\": [{\"marker\": {\"colorbar\": {\"outlinewidth\": 0, \"ticks\": \"\"}}, \"type\": \"scatterpolargl\"}], \"scatterternary\": [{\"marker\": {\"colorbar\": {\"outlinewidth\": 0, \"ticks\": \"\"}}, \"type\": \"scatterternary\"}], \"surface\": [{\"colorbar\": {\"outlinewidth\": 0, \"ticks\": \"\"}, \"colorscale\": [[0.0, \"#0d0887\"], [0.1111111111111111, \"#46039f\"], [0.2222222222222222, \"#7201a8\"], [0.3333333333333333, \"#9c179e\"], [0.4444444444444444, \"#bd3786\"], [0.5555555555555556, \"#d8576b\"], [0.6666666666666666, \"#ed7953\"], [0.7777777777777778, \"#fb9f3a\"], [0.8888888888888888, \"#fdca26\"], [1.0, \"#f0f921\"]], \"type\": \"surface\"}], \"table\": [{\"cells\": {\"fill\": {\"color\": \"#EBF0F8\"}, \"line\": {\"color\": \"white\"}}, \"header\": {\"fill\": {\"color\": \"#C8D4E3\"}, \"line\": {\"color\": \"white\"}}, \"type\": \"table\"}]}, \"layout\": {\"annotationdefaults\": {\"arrowcolor\": \"#2a3f5f\", \"arrowhead\": 0, \"arrowwidth\": 1}, \"autotypenumbers\": \"strict\", \"coloraxis\": {\"colorbar\": {\"outlinewidth\": 0, \"ticks\": \"\"}}, \"colorscale\": {\"diverging\": [[0, \"#8e0152\"], [0.1, \"#c51b7d\"], [0.2, \"#de77ae\"], [0.3, \"#f1b6da\"], [0.4, \"#fde0ef\"], [0.5, \"#f7f7f7\"], [0.6, \"#e6f5d0\"], [0.7, \"#b8e186\"], [0.8, \"#7fbc41\"], [0.9, \"#4d9221\"], [1, \"#276419\"]], \"sequential\": [[0.0, \"#0d0887\"], [0.1111111111111111, \"#46039f\"], [0.2222222222222222, \"#7201a8\"], [0.3333333333333333, \"#9c179e\"], [0.4444444444444444, \"#bd3786\"], [0.5555555555555556, \"#d8576b\"], [0.6666666666666666, \"#ed7953\"], [0.7777777777777778, \"#fb9f3a\"], [0.8888888888888888, \"#fdca26\"], [1.0, \"#f0f921\"]], \"sequentialminus\": [[0.0, \"#0d0887\"], [0.1111111111111111, \"#46039f\"], [0.2222222222222222, \"#7201a8\"], [0.3333333333333333, \"#9c179e\"], [0.4444444444444444, \"#bd3786\"], [0.5555555555555556, \"#d8576b\"], [0.6666666666666666, \"#ed7953\"], [0.7777777777777778, \"#fb9f3a\"], [0.8888888888888888, \"#fdca26\"], [1.0, \"#f0f921\"]]}, \"colorway\": [\"#636efa\", \"#EF553B\", \"#00cc96\", \"#ab63fa\", \"#FFA15A\", \"#19d3f3\", \"#FF6692\", \"#B6E880\", \"#FF97FF\", \"#FECB52\"], \"font\": {\"color\": \"#2a3f5f\"}, \"geo\": {\"bgcolor\": \"white\", \"lakecolor\": \"white\", \"landcolor\": \"#E5ECF6\", \"showlakes\": true, \"showland\": true, \"subunitcolor\": \"white\"}, \"hoverlabel\": {\"align\": \"left\"}, \"hovermode\": \"closest\", \"mapbox\": {\"style\": \"light\"}, \"paper_bgcolor\": \"white\", \"plot_bgcolor\": \"#E5ECF6\", \"polar\": {\"angularaxis\": {\"gridcolor\": \"white\", \"linecolor\": \"white\", \"ticks\": \"\"}, \"bgcolor\": \"#E5ECF6\", \"radialaxis\": {\"gridcolor\": \"white\", \"linecolor\": \"white\", \"ticks\": \"\"}}, \"scene\": {\"xaxis\": {\"backgroundcolor\": \"#E5ECF6\", \"gridcolor\": \"white\", \"gridwidth\": 2, \"linecolor\": \"white\", \"showbackground\": true, \"ticks\": \"\", \"zerolinecolor\": \"white\"}, \"yaxis\": {\"backgroundcolor\": \"#E5ECF6\", \"gridcolor\": \"white\", \"gridwidth\": 2, \"linecolor\": \"white\", \"showbackground\": true, \"ticks\": \"\", \"zerolinecolor\": \"white\"}, \"zaxis\": {\"backgroundcolor\": \"#E5ECF6\", \"gridcolor\": \"white\", \"gridwidth\": 2, \"linecolor\": \"white\", \"showbackground\": true, \"ticks\": \"\", \"zerolinecolor\": \"white\"}}, \"shapedefaults\": {\"line\": {\"color\": \"#2a3f5f\"}}, \"ternary\": {\"aaxis\": {\"gridcolor\": \"white\", \"linecolor\": \"white\", \"ticks\": \"\"}, \"baxis\": {\"gridcolor\": \"white\", \"linecolor\": \"white\", \"ticks\": \"\"}, \"bgcolor\": \"#E5ECF6\", \"caxis\": {\"gridcolor\": \"white\", \"linecolor\": \"white\", \"ticks\": \"\"}}, \"title\": {\"x\": 0.05}, \"xaxis\": {\"automargin\": true, \"gridcolor\": \"white\", \"linecolor\": \"white\", \"ticks\": \"\", \"title\": {\"standoff\": 15}, \"zerolinecolor\": \"white\", \"zerolinewidth\": 2}, \"yaxis\": {\"automargin\": true, \"gridcolor\": \"white\", \"linecolor\": \"white\", \"ticks\": \"\", \"title\": {\"standoff\": 15}, \"zerolinecolor\": \"white\", \"zerolinewidth\": 2}}}, \"title\": {\"text\": \"Random Forest\"}, \"xaxis\": {\"dtick\": 1, \"gridcolor\": \"rgb(0, 0, 0)\", \"side\": \"top\", \"ticks\": \"\"}, \"yaxis\": {\"dtick\": 1, \"ticks\": \"\", \"ticksuffix\": \"  \"}},                        {\"responsive\": true}                    ).then(function(){\n",
       "                            \n",
       "var gd = document.getElementById('86304eef-bc3b-4c05-b56f-8fba4aaedff3');\n",
       "var x = new MutationObserver(function (mutations, observer) {{\n",
       "        var display = window.getComputedStyle(gd).display;\n",
       "        if (!display || display === 'none') {{\n",
       "            console.log([gd, 'removed!']);\n",
       "            Plotly.purge(gd);\n",
       "            observer.disconnect();\n",
       "        }}\n",
       "}});\n",
       "\n",
       "// Listen for the removal of the full notebook cells\n",
       "var notebookContainer = gd.closest('#notebook-container');\n",
       "if (notebookContainer) {{\n",
       "    x.observe(notebookContainer, {childList: true});\n",
       "}}\n",
       "\n",
       "// Listen for the clearing of the current output cell\n",
       "var outputEl = gd.closest('.output');\n",
       "if (outputEl) {{\n",
       "    x.observe(outputEl, {childList: true});\n",
       "}}\n",
       "\n",
       "                        })                };                });            </script>        </div>"
      ]
     },
     "metadata": {},
     "output_type": "display_data"
    }
   ],
   "source": [
    "random_f_z=con_matrix_df['Confusion_Matrix_ROC'][1]\n",
    "random_f_z= random_f_z[::-1]\n",
    "x=['TP','FP']\n",
    "\n",
    "y =  x[::-1].copy()\n",
    "# change each element of z to type string for annotations\n",
    "random_f_z_text = [[str(y) for y in x] for x in random_f_z]\n",
    "colorscale = [[0, 'orange'], [1, 'teal']]\n",
    "font_colors = ['white', 'black']\n",
    "\n",
    "fig = ff.create_annotated_heatmap(random_f_z,x=x, y=y, annotation_text=random_f_z_text,  hoverinfo='z',colorscale=colorscale)\n",
    "fig.update_layout(title_text='Random Forest',autosize=True,margin=dict(t=30,b=0,l=0,r=0))"
   ]
  },
  {
   "cell_type": "code",
   "execution_count": 84,
   "metadata": {},
   "outputs": [
    {
     "data": {
      "application/vnd.plotly.v1+json": {
       "config": {
        "plotlyServerURL": "https://plot.ly"
       },
       "data": [
        {
         "colorscale": [
          [
           0,
           "skyblue"
          ],
          [
           1,
           "green"
          ]
         ],
         "hoverinfo": "z",
         "reversescale": false,
         "showscale": false,
         "type": "heatmap",
         "x": [
          "TP",
          "FP"
         ],
         "y": [
          "FP",
          "TP"
         ],
         "z": [
          [
           91,
           95
          ],
          [
           444,
           43
          ]
         ]
        }
       ],
       "layout": {
        "annotations": [
         {
          "font": {
           "color": "#000000"
          },
          "showarrow": false,
          "text": "91",
          "x": "TP",
          "xref": "x",
          "y": "FP",
          "yref": "y"
         },
         {
          "font": {
           "color": "#000000"
          },
          "showarrow": false,
          "text": "95",
          "x": "FP",
          "xref": "x",
          "y": "FP",
          "yref": "y"
         },
         {
          "font": {
           "color": "#000000"
          },
          "showarrow": false,
          "text": "444",
          "x": "TP",
          "xref": "x",
          "y": "TP",
          "yref": "y"
         },
         {
          "font": {
           "color": "#000000"
          },
          "showarrow": false,
          "text": "43",
          "x": "FP",
          "xref": "x",
          "y": "TP",
          "yref": "y"
         }
        ],
        "autosize": true,
        "margin": {
         "b": 0,
         "l": 0,
         "r": 0,
         "t": 30
        },
        "template": {
         "data": {
          "bar": [
           {
            "error_x": {
             "color": "#2a3f5f"
            },
            "error_y": {
             "color": "#2a3f5f"
            },
            "marker": {
             "line": {
              "color": "#E5ECF6",
              "width": 0.5
             }
            },
            "type": "bar"
           }
          ],
          "barpolar": [
           {
            "marker": {
             "line": {
              "color": "#E5ECF6",
              "width": 0.5
             }
            },
            "type": "barpolar"
           }
          ],
          "carpet": [
           {
            "aaxis": {
             "endlinecolor": "#2a3f5f",
             "gridcolor": "white",
             "linecolor": "white",
             "minorgridcolor": "white",
             "startlinecolor": "#2a3f5f"
            },
            "baxis": {
             "endlinecolor": "#2a3f5f",
             "gridcolor": "white",
             "linecolor": "white",
             "minorgridcolor": "white",
             "startlinecolor": "#2a3f5f"
            },
            "type": "carpet"
           }
          ],
          "choropleth": [
           {
            "colorbar": {
             "outlinewidth": 0,
             "ticks": ""
            },
            "type": "choropleth"
           }
          ],
          "contour": [
           {
            "colorbar": {
             "outlinewidth": 0,
             "ticks": ""
            },
            "colorscale": [
             [
              0,
              "#0d0887"
             ],
             [
              0.1111111111111111,
              "#46039f"
             ],
             [
              0.2222222222222222,
              "#7201a8"
             ],
             [
              0.3333333333333333,
              "#9c179e"
             ],
             [
              0.4444444444444444,
              "#bd3786"
             ],
             [
              0.5555555555555556,
              "#d8576b"
             ],
             [
              0.6666666666666666,
              "#ed7953"
             ],
             [
              0.7777777777777778,
              "#fb9f3a"
             ],
             [
              0.8888888888888888,
              "#fdca26"
             ],
             [
              1,
              "#f0f921"
             ]
            ],
            "type": "contour"
           }
          ],
          "contourcarpet": [
           {
            "colorbar": {
             "outlinewidth": 0,
             "ticks": ""
            },
            "type": "contourcarpet"
           }
          ],
          "heatmap": [
           {
            "colorbar": {
             "outlinewidth": 0,
             "ticks": ""
            },
            "colorscale": [
             [
              0,
              "#0d0887"
             ],
             [
              0.1111111111111111,
              "#46039f"
             ],
             [
              0.2222222222222222,
              "#7201a8"
             ],
             [
              0.3333333333333333,
              "#9c179e"
             ],
             [
              0.4444444444444444,
              "#bd3786"
             ],
             [
              0.5555555555555556,
              "#d8576b"
             ],
             [
              0.6666666666666666,
              "#ed7953"
             ],
             [
              0.7777777777777778,
              "#fb9f3a"
             ],
             [
              0.8888888888888888,
              "#fdca26"
             ],
             [
              1,
              "#f0f921"
             ]
            ],
            "type": "heatmap"
           }
          ],
          "heatmapgl": [
           {
            "colorbar": {
             "outlinewidth": 0,
             "ticks": ""
            },
            "colorscale": [
             [
              0,
              "#0d0887"
             ],
             [
              0.1111111111111111,
              "#46039f"
             ],
             [
              0.2222222222222222,
              "#7201a8"
             ],
             [
              0.3333333333333333,
              "#9c179e"
             ],
             [
              0.4444444444444444,
              "#bd3786"
             ],
             [
              0.5555555555555556,
              "#d8576b"
             ],
             [
              0.6666666666666666,
              "#ed7953"
             ],
             [
              0.7777777777777778,
              "#fb9f3a"
             ],
             [
              0.8888888888888888,
              "#fdca26"
             ],
             [
              1,
              "#f0f921"
             ]
            ],
            "type": "heatmapgl"
           }
          ],
          "histogram": [
           {
            "marker": {
             "colorbar": {
              "outlinewidth": 0,
              "ticks": ""
             }
            },
            "type": "histogram"
           }
          ],
          "histogram2d": [
           {
            "colorbar": {
             "outlinewidth": 0,
             "ticks": ""
            },
            "colorscale": [
             [
              0,
              "#0d0887"
             ],
             [
              0.1111111111111111,
              "#46039f"
             ],
             [
              0.2222222222222222,
              "#7201a8"
             ],
             [
              0.3333333333333333,
              "#9c179e"
             ],
             [
              0.4444444444444444,
              "#bd3786"
             ],
             [
              0.5555555555555556,
              "#d8576b"
             ],
             [
              0.6666666666666666,
              "#ed7953"
             ],
             [
              0.7777777777777778,
              "#fb9f3a"
             ],
             [
              0.8888888888888888,
              "#fdca26"
             ],
             [
              1,
              "#f0f921"
             ]
            ],
            "type": "histogram2d"
           }
          ],
          "histogram2dcontour": [
           {
            "colorbar": {
             "outlinewidth": 0,
             "ticks": ""
            },
            "colorscale": [
             [
              0,
              "#0d0887"
             ],
             [
              0.1111111111111111,
              "#46039f"
             ],
             [
              0.2222222222222222,
              "#7201a8"
             ],
             [
              0.3333333333333333,
              "#9c179e"
             ],
             [
              0.4444444444444444,
              "#bd3786"
             ],
             [
              0.5555555555555556,
              "#d8576b"
             ],
             [
              0.6666666666666666,
              "#ed7953"
             ],
             [
              0.7777777777777778,
              "#fb9f3a"
             ],
             [
              0.8888888888888888,
              "#fdca26"
             ],
             [
              1,
              "#f0f921"
             ]
            ],
            "type": "histogram2dcontour"
           }
          ],
          "mesh3d": [
           {
            "colorbar": {
             "outlinewidth": 0,
             "ticks": ""
            },
            "type": "mesh3d"
           }
          ],
          "parcoords": [
           {
            "line": {
             "colorbar": {
              "outlinewidth": 0,
              "ticks": ""
             }
            },
            "type": "parcoords"
           }
          ],
          "pie": [
           {
            "automargin": true,
            "type": "pie"
           }
          ],
          "scatter": [
           {
            "marker": {
             "colorbar": {
              "outlinewidth": 0,
              "ticks": ""
             }
            },
            "type": "scatter"
           }
          ],
          "scatter3d": [
           {
            "line": {
             "colorbar": {
              "outlinewidth": 0,
              "ticks": ""
             }
            },
            "marker": {
             "colorbar": {
              "outlinewidth": 0,
              "ticks": ""
             }
            },
            "type": "scatter3d"
           }
          ],
          "scattercarpet": [
           {
            "marker": {
             "colorbar": {
              "outlinewidth": 0,
              "ticks": ""
             }
            },
            "type": "scattercarpet"
           }
          ],
          "scattergeo": [
           {
            "marker": {
             "colorbar": {
              "outlinewidth": 0,
              "ticks": ""
             }
            },
            "type": "scattergeo"
           }
          ],
          "scattergl": [
           {
            "marker": {
             "colorbar": {
              "outlinewidth": 0,
              "ticks": ""
             }
            },
            "type": "scattergl"
           }
          ],
          "scattermapbox": [
           {
            "marker": {
             "colorbar": {
              "outlinewidth": 0,
              "ticks": ""
             }
            },
            "type": "scattermapbox"
           }
          ],
          "scatterpolar": [
           {
            "marker": {
             "colorbar": {
              "outlinewidth": 0,
              "ticks": ""
             }
            },
            "type": "scatterpolar"
           }
          ],
          "scatterpolargl": [
           {
            "marker": {
             "colorbar": {
              "outlinewidth": 0,
              "ticks": ""
             }
            },
            "type": "scatterpolargl"
           }
          ],
          "scatterternary": [
           {
            "marker": {
             "colorbar": {
              "outlinewidth": 0,
              "ticks": ""
             }
            },
            "type": "scatterternary"
           }
          ],
          "surface": [
           {
            "colorbar": {
             "outlinewidth": 0,
             "ticks": ""
            },
            "colorscale": [
             [
              0,
              "#0d0887"
             ],
             [
              0.1111111111111111,
              "#46039f"
             ],
             [
              0.2222222222222222,
              "#7201a8"
             ],
             [
              0.3333333333333333,
              "#9c179e"
             ],
             [
              0.4444444444444444,
              "#bd3786"
             ],
             [
              0.5555555555555556,
              "#d8576b"
             ],
             [
              0.6666666666666666,
              "#ed7953"
             ],
             [
              0.7777777777777778,
              "#fb9f3a"
             ],
             [
              0.8888888888888888,
              "#fdca26"
             ],
             [
              1,
              "#f0f921"
             ]
            ],
            "type": "surface"
           }
          ],
          "table": [
           {
            "cells": {
             "fill": {
              "color": "#EBF0F8"
             },
             "line": {
              "color": "white"
             }
            },
            "header": {
             "fill": {
              "color": "#C8D4E3"
             },
             "line": {
              "color": "white"
             }
            },
            "type": "table"
           }
          ]
         },
         "layout": {
          "annotationdefaults": {
           "arrowcolor": "#2a3f5f",
           "arrowhead": 0,
           "arrowwidth": 1
          },
          "autotypenumbers": "strict",
          "coloraxis": {
           "colorbar": {
            "outlinewidth": 0,
            "ticks": ""
           }
          },
          "colorscale": {
           "diverging": [
            [
             0,
             "#8e0152"
            ],
            [
             0.1,
             "#c51b7d"
            ],
            [
             0.2,
             "#de77ae"
            ],
            [
             0.3,
             "#f1b6da"
            ],
            [
             0.4,
             "#fde0ef"
            ],
            [
             0.5,
             "#f7f7f7"
            ],
            [
             0.6,
             "#e6f5d0"
            ],
            [
             0.7,
             "#b8e186"
            ],
            [
             0.8,
             "#7fbc41"
            ],
            [
             0.9,
             "#4d9221"
            ],
            [
             1,
             "#276419"
            ]
           ],
           "sequential": [
            [
             0,
             "#0d0887"
            ],
            [
             0.1111111111111111,
             "#46039f"
            ],
            [
             0.2222222222222222,
             "#7201a8"
            ],
            [
             0.3333333333333333,
             "#9c179e"
            ],
            [
             0.4444444444444444,
             "#bd3786"
            ],
            [
             0.5555555555555556,
             "#d8576b"
            ],
            [
             0.6666666666666666,
             "#ed7953"
            ],
            [
             0.7777777777777778,
             "#fb9f3a"
            ],
            [
             0.8888888888888888,
             "#fdca26"
            ],
            [
             1,
             "#f0f921"
            ]
           ],
           "sequentialminus": [
            [
             0,
             "#0d0887"
            ],
            [
             0.1111111111111111,
             "#46039f"
            ],
            [
             0.2222222222222222,
             "#7201a8"
            ],
            [
             0.3333333333333333,
             "#9c179e"
            ],
            [
             0.4444444444444444,
             "#bd3786"
            ],
            [
             0.5555555555555556,
             "#d8576b"
            ],
            [
             0.6666666666666666,
             "#ed7953"
            ],
            [
             0.7777777777777778,
             "#fb9f3a"
            ],
            [
             0.8888888888888888,
             "#fdca26"
            ],
            [
             1,
             "#f0f921"
            ]
           ]
          },
          "colorway": [
           "#636efa",
           "#EF553B",
           "#00cc96",
           "#ab63fa",
           "#FFA15A",
           "#19d3f3",
           "#FF6692",
           "#B6E880",
           "#FF97FF",
           "#FECB52"
          ],
          "font": {
           "color": "#2a3f5f"
          },
          "geo": {
           "bgcolor": "white",
           "lakecolor": "white",
           "landcolor": "#E5ECF6",
           "showlakes": true,
           "showland": true,
           "subunitcolor": "white"
          },
          "hoverlabel": {
           "align": "left"
          },
          "hovermode": "closest",
          "mapbox": {
           "style": "light"
          },
          "paper_bgcolor": "white",
          "plot_bgcolor": "#E5ECF6",
          "polar": {
           "angularaxis": {
            "gridcolor": "white",
            "linecolor": "white",
            "ticks": ""
           },
           "bgcolor": "#E5ECF6",
           "radialaxis": {
            "gridcolor": "white",
            "linecolor": "white",
            "ticks": ""
           }
          },
          "scene": {
           "xaxis": {
            "backgroundcolor": "#E5ECF6",
            "gridcolor": "white",
            "gridwidth": 2,
            "linecolor": "white",
            "showbackground": true,
            "ticks": "",
            "zerolinecolor": "white"
           },
           "yaxis": {
            "backgroundcolor": "#E5ECF6",
            "gridcolor": "white",
            "gridwidth": 2,
            "linecolor": "white",
            "showbackground": true,
            "ticks": "",
            "zerolinecolor": "white"
           },
           "zaxis": {
            "backgroundcolor": "#E5ECF6",
            "gridcolor": "white",
            "gridwidth": 2,
            "linecolor": "white",
            "showbackground": true,
            "ticks": "",
            "zerolinecolor": "white"
           }
          },
          "shapedefaults": {
           "line": {
            "color": "#2a3f5f"
           }
          },
          "ternary": {
           "aaxis": {
            "gridcolor": "white",
            "linecolor": "white",
            "ticks": ""
           },
           "baxis": {
            "gridcolor": "white",
            "linecolor": "white",
            "ticks": ""
           },
           "bgcolor": "#E5ECF6",
           "caxis": {
            "gridcolor": "white",
            "linecolor": "white",
            "ticks": ""
           }
          },
          "title": {
           "x": 0.05
          },
          "xaxis": {
           "automargin": true,
           "gridcolor": "white",
           "linecolor": "white",
           "ticks": "",
           "title": {
            "standoff": 15
           },
           "zerolinecolor": "white",
           "zerolinewidth": 2
          },
          "yaxis": {
           "automargin": true,
           "gridcolor": "white",
           "linecolor": "white",
           "ticks": "",
           "title": {
            "standoff": 15
           },
           "zerolinecolor": "white",
           "zerolinewidth": 2
          }
         }
        },
        "title": {
         "text": "Logistic Regression"
        },
        "xaxis": {
         "dtick": 1,
         "gridcolor": "rgb(0, 0, 0)",
         "side": "top",
         "ticks": ""
        },
        "yaxis": {
         "dtick": 1,
         "ticks": "",
         "ticksuffix": "  "
        }
       }
      },
      "text/html": [
       "<div>                            <div id=\"f5e2ab6d-e0c3-4003-b9ad-89253e17e10e\" class=\"plotly-graph-div\" style=\"height:525px; width:100%;\"></div>            <script type=\"text/javascript\">                require([\"plotly\"], function(Plotly) {                    window.PLOTLYENV=window.PLOTLYENV || {};                                    if (document.getElementById(\"f5e2ab6d-e0c3-4003-b9ad-89253e17e10e\")) {                    Plotly.newPlot(                        \"f5e2ab6d-e0c3-4003-b9ad-89253e17e10e\",                        [{\"colorscale\": [[0, \"skyblue\"], [1, \"green\"]], \"hoverinfo\": \"z\", \"reversescale\": false, \"showscale\": false, \"type\": \"heatmap\", \"x\": [\"TP\", \"FP\"], \"y\": [\"FP\", \"TP\"], \"z\": [[91, 95], [444, 43]]}],                        {\"annotations\": [{\"font\": {\"color\": \"#000000\"}, \"showarrow\": false, \"text\": \"91\", \"x\": \"TP\", \"xref\": \"x\", \"y\": \"FP\", \"yref\": \"y\"}, {\"font\": {\"color\": \"#000000\"}, \"showarrow\": false, \"text\": \"95\", \"x\": \"FP\", \"xref\": \"x\", \"y\": \"FP\", \"yref\": \"y\"}, {\"font\": {\"color\": \"#000000\"}, \"showarrow\": false, \"text\": \"444\", \"x\": \"TP\", \"xref\": \"x\", \"y\": \"TP\", \"yref\": \"y\"}, {\"font\": {\"color\": \"#000000\"}, \"showarrow\": false, \"text\": \"43\", \"x\": \"FP\", \"xref\": \"x\", \"y\": \"TP\", \"yref\": \"y\"}], \"autosize\": true, \"margin\": {\"b\": 0, \"l\": 0, \"r\": 0, \"t\": 30}, \"template\": {\"data\": {\"bar\": [{\"error_x\": {\"color\": \"#2a3f5f\"}, \"error_y\": {\"color\": \"#2a3f5f\"}, \"marker\": {\"line\": {\"color\": \"#E5ECF6\", \"width\": 0.5}}, \"type\": \"bar\"}], \"barpolar\": [{\"marker\": {\"line\": {\"color\": \"#E5ECF6\", \"width\": 0.5}}, \"type\": \"barpolar\"}], \"carpet\": [{\"aaxis\": {\"endlinecolor\": \"#2a3f5f\", \"gridcolor\": \"white\", \"linecolor\": \"white\", \"minorgridcolor\": \"white\", \"startlinecolor\": \"#2a3f5f\"}, \"baxis\": {\"endlinecolor\": \"#2a3f5f\", \"gridcolor\": \"white\", \"linecolor\": \"white\", \"minorgridcolor\": \"white\", \"startlinecolor\": \"#2a3f5f\"}, \"type\": \"carpet\"}], \"choropleth\": [{\"colorbar\": {\"outlinewidth\": 0, \"ticks\": \"\"}, \"type\": \"choropleth\"}], \"contour\": [{\"colorbar\": {\"outlinewidth\": 0, \"ticks\": \"\"}, \"colorscale\": [[0.0, \"#0d0887\"], [0.1111111111111111, \"#46039f\"], [0.2222222222222222, \"#7201a8\"], [0.3333333333333333, \"#9c179e\"], [0.4444444444444444, \"#bd3786\"], [0.5555555555555556, \"#d8576b\"], [0.6666666666666666, \"#ed7953\"], [0.7777777777777778, \"#fb9f3a\"], [0.8888888888888888, \"#fdca26\"], [1.0, \"#f0f921\"]], \"type\": \"contour\"}], \"contourcarpet\": [{\"colorbar\": {\"outlinewidth\": 0, \"ticks\": \"\"}, \"type\": \"contourcarpet\"}], \"heatmap\": [{\"colorbar\": {\"outlinewidth\": 0, \"ticks\": \"\"}, \"colorscale\": [[0.0, \"#0d0887\"], [0.1111111111111111, \"#46039f\"], [0.2222222222222222, \"#7201a8\"], [0.3333333333333333, \"#9c179e\"], [0.4444444444444444, \"#bd3786\"], [0.5555555555555556, \"#d8576b\"], [0.6666666666666666, \"#ed7953\"], [0.7777777777777778, \"#fb9f3a\"], [0.8888888888888888, \"#fdca26\"], [1.0, \"#f0f921\"]], \"type\": \"heatmap\"}], \"heatmapgl\": [{\"colorbar\": {\"outlinewidth\": 0, \"ticks\": \"\"}, \"colorscale\": [[0.0, \"#0d0887\"], [0.1111111111111111, \"#46039f\"], [0.2222222222222222, \"#7201a8\"], [0.3333333333333333, \"#9c179e\"], [0.4444444444444444, \"#bd3786\"], [0.5555555555555556, \"#d8576b\"], [0.6666666666666666, \"#ed7953\"], [0.7777777777777778, \"#fb9f3a\"], [0.8888888888888888, \"#fdca26\"], [1.0, \"#f0f921\"]], \"type\": \"heatmapgl\"}], \"histogram\": [{\"marker\": {\"colorbar\": {\"outlinewidth\": 0, \"ticks\": \"\"}}, \"type\": \"histogram\"}], \"histogram2d\": [{\"colorbar\": {\"outlinewidth\": 0, \"ticks\": \"\"}, \"colorscale\": [[0.0, \"#0d0887\"], [0.1111111111111111, \"#46039f\"], [0.2222222222222222, \"#7201a8\"], [0.3333333333333333, \"#9c179e\"], [0.4444444444444444, \"#bd3786\"], [0.5555555555555556, \"#d8576b\"], [0.6666666666666666, \"#ed7953\"], [0.7777777777777778, \"#fb9f3a\"], [0.8888888888888888, \"#fdca26\"], [1.0, \"#f0f921\"]], \"type\": \"histogram2d\"}], \"histogram2dcontour\": [{\"colorbar\": {\"outlinewidth\": 0, \"ticks\": \"\"}, \"colorscale\": [[0.0, \"#0d0887\"], [0.1111111111111111, \"#46039f\"], [0.2222222222222222, \"#7201a8\"], [0.3333333333333333, \"#9c179e\"], [0.4444444444444444, \"#bd3786\"], [0.5555555555555556, \"#d8576b\"], [0.6666666666666666, \"#ed7953\"], [0.7777777777777778, \"#fb9f3a\"], [0.8888888888888888, \"#fdca26\"], [1.0, \"#f0f921\"]], \"type\": \"histogram2dcontour\"}], \"mesh3d\": [{\"colorbar\": {\"outlinewidth\": 0, \"ticks\": \"\"}, \"type\": \"mesh3d\"}], \"parcoords\": [{\"line\": {\"colorbar\": {\"outlinewidth\": 0, \"ticks\": \"\"}}, \"type\": \"parcoords\"}], \"pie\": [{\"automargin\": true, \"type\": \"pie\"}], \"scatter\": [{\"marker\": {\"colorbar\": {\"outlinewidth\": 0, \"ticks\": \"\"}}, \"type\": \"scatter\"}], \"scatter3d\": [{\"line\": {\"colorbar\": {\"outlinewidth\": 0, \"ticks\": \"\"}}, \"marker\": {\"colorbar\": {\"outlinewidth\": 0, \"ticks\": \"\"}}, \"type\": \"scatter3d\"}], \"scattercarpet\": [{\"marker\": {\"colorbar\": {\"outlinewidth\": 0, \"ticks\": \"\"}}, \"type\": \"scattercarpet\"}], \"scattergeo\": [{\"marker\": {\"colorbar\": {\"outlinewidth\": 0, \"ticks\": \"\"}}, \"type\": \"scattergeo\"}], \"scattergl\": [{\"marker\": {\"colorbar\": {\"outlinewidth\": 0, \"ticks\": \"\"}}, \"type\": \"scattergl\"}], \"scattermapbox\": [{\"marker\": {\"colorbar\": {\"outlinewidth\": 0, \"ticks\": \"\"}}, \"type\": \"scattermapbox\"}], \"scatterpolar\": [{\"marker\": {\"colorbar\": {\"outlinewidth\": 0, \"ticks\": \"\"}}, \"type\": \"scatterpolar\"}], \"scatterpolargl\": [{\"marker\": {\"colorbar\": {\"outlinewidth\": 0, \"ticks\": \"\"}}, \"type\": \"scatterpolargl\"}], \"scatterternary\": [{\"marker\": {\"colorbar\": {\"outlinewidth\": 0, \"ticks\": \"\"}}, \"type\": \"scatterternary\"}], \"surface\": [{\"colorbar\": {\"outlinewidth\": 0, \"ticks\": \"\"}, \"colorscale\": [[0.0, \"#0d0887\"], [0.1111111111111111, \"#46039f\"], [0.2222222222222222, \"#7201a8\"], [0.3333333333333333, \"#9c179e\"], [0.4444444444444444, \"#bd3786\"], [0.5555555555555556, \"#d8576b\"], [0.6666666666666666, \"#ed7953\"], [0.7777777777777778, \"#fb9f3a\"], [0.8888888888888888, \"#fdca26\"], [1.0, \"#f0f921\"]], \"type\": \"surface\"}], \"table\": [{\"cells\": {\"fill\": {\"color\": \"#EBF0F8\"}, \"line\": {\"color\": \"white\"}}, \"header\": {\"fill\": {\"color\": \"#C8D4E3\"}, \"line\": {\"color\": \"white\"}}, \"type\": \"table\"}]}, \"layout\": {\"annotationdefaults\": {\"arrowcolor\": \"#2a3f5f\", \"arrowhead\": 0, \"arrowwidth\": 1}, \"autotypenumbers\": \"strict\", \"coloraxis\": {\"colorbar\": {\"outlinewidth\": 0, \"ticks\": \"\"}}, \"colorscale\": {\"diverging\": [[0, \"#8e0152\"], [0.1, \"#c51b7d\"], [0.2, \"#de77ae\"], [0.3, \"#f1b6da\"], [0.4, \"#fde0ef\"], [0.5, \"#f7f7f7\"], [0.6, \"#e6f5d0\"], [0.7, \"#b8e186\"], [0.8, \"#7fbc41\"], [0.9, \"#4d9221\"], [1, \"#276419\"]], \"sequential\": [[0.0, \"#0d0887\"], [0.1111111111111111, \"#46039f\"], [0.2222222222222222, \"#7201a8\"], [0.3333333333333333, \"#9c179e\"], [0.4444444444444444, \"#bd3786\"], [0.5555555555555556, \"#d8576b\"], [0.6666666666666666, \"#ed7953\"], [0.7777777777777778, \"#fb9f3a\"], [0.8888888888888888, \"#fdca26\"], [1.0, \"#f0f921\"]], \"sequentialminus\": [[0.0, \"#0d0887\"], [0.1111111111111111, \"#46039f\"], [0.2222222222222222, \"#7201a8\"], [0.3333333333333333, \"#9c179e\"], [0.4444444444444444, \"#bd3786\"], [0.5555555555555556, \"#d8576b\"], [0.6666666666666666, \"#ed7953\"], [0.7777777777777778, \"#fb9f3a\"], [0.8888888888888888, \"#fdca26\"], [1.0, \"#f0f921\"]]}, \"colorway\": [\"#636efa\", \"#EF553B\", \"#00cc96\", \"#ab63fa\", \"#FFA15A\", \"#19d3f3\", \"#FF6692\", \"#B6E880\", \"#FF97FF\", \"#FECB52\"], \"font\": {\"color\": \"#2a3f5f\"}, \"geo\": {\"bgcolor\": \"white\", \"lakecolor\": \"white\", \"landcolor\": \"#E5ECF6\", \"showlakes\": true, \"showland\": true, \"subunitcolor\": \"white\"}, \"hoverlabel\": {\"align\": \"left\"}, \"hovermode\": \"closest\", \"mapbox\": {\"style\": \"light\"}, \"paper_bgcolor\": \"white\", \"plot_bgcolor\": \"#E5ECF6\", \"polar\": {\"angularaxis\": {\"gridcolor\": \"white\", \"linecolor\": \"white\", \"ticks\": \"\"}, \"bgcolor\": \"#E5ECF6\", \"radialaxis\": {\"gridcolor\": \"white\", \"linecolor\": \"white\", \"ticks\": \"\"}}, \"scene\": {\"xaxis\": {\"backgroundcolor\": \"#E5ECF6\", \"gridcolor\": \"white\", \"gridwidth\": 2, \"linecolor\": \"white\", \"showbackground\": true, \"ticks\": \"\", \"zerolinecolor\": \"white\"}, \"yaxis\": {\"backgroundcolor\": \"#E5ECF6\", \"gridcolor\": \"white\", \"gridwidth\": 2, \"linecolor\": \"white\", \"showbackground\": true, \"ticks\": \"\", \"zerolinecolor\": \"white\"}, \"zaxis\": {\"backgroundcolor\": \"#E5ECF6\", \"gridcolor\": \"white\", \"gridwidth\": 2, \"linecolor\": \"white\", \"showbackground\": true, \"ticks\": \"\", \"zerolinecolor\": \"white\"}}, \"shapedefaults\": {\"line\": {\"color\": \"#2a3f5f\"}}, \"ternary\": {\"aaxis\": {\"gridcolor\": \"white\", \"linecolor\": \"white\", \"ticks\": \"\"}, \"baxis\": {\"gridcolor\": \"white\", \"linecolor\": \"white\", \"ticks\": \"\"}, \"bgcolor\": \"#E5ECF6\", \"caxis\": {\"gridcolor\": \"white\", \"linecolor\": \"white\", \"ticks\": \"\"}}, \"title\": {\"x\": 0.05}, \"xaxis\": {\"automargin\": true, \"gridcolor\": \"white\", \"linecolor\": \"white\", \"ticks\": \"\", \"title\": {\"standoff\": 15}, \"zerolinecolor\": \"white\", \"zerolinewidth\": 2}, \"yaxis\": {\"automargin\": true, \"gridcolor\": \"white\", \"linecolor\": \"white\", \"ticks\": \"\", \"title\": {\"standoff\": 15}, \"zerolinecolor\": \"white\", \"zerolinewidth\": 2}}}, \"title\": {\"text\": \"Logistic Regression\"}, \"xaxis\": {\"dtick\": 1, \"gridcolor\": \"rgb(0, 0, 0)\", \"side\": \"top\", \"ticks\": \"\"}, \"yaxis\": {\"dtick\": 1, \"ticks\": \"\", \"ticksuffix\": \"  \"}},                        {\"responsive\": true}                    ).then(function(){\n",
       "                            \n",
       "var gd = document.getElementById('f5e2ab6d-e0c3-4003-b9ad-89253e17e10e');\n",
       "var x = new MutationObserver(function (mutations, observer) {{\n",
       "        var display = window.getComputedStyle(gd).display;\n",
       "        if (!display || display === 'none') {{\n",
       "            console.log([gd, 'removed!']);\n",
       "            Plotly.purge(gd);\n",
       "            observer.disconnect();\n",
       "        }}\n",
       "}});\n",
       "\n",
       "// Listen for the removal of the full notebook cells\n",
       "var notebookContainer = gd.closest('#notebook-container');\n",
       "if (notebookContainer) {{\n",
       "    x.observe(notebookContainer, {childList: true});\n",
       "}}\n",
       "\n",
       "// Listen for the clearing of the current output cell\n",
       "var outputEl = gd.closest('.output');\n",
       "if (outputEl) {{\n",
       "    x.observe(outputEl, {childList: true});\n",
       "}}\n",
       "\n",
       "                        })                };                });            </script>        </div>"
      ]
     },
     "metadata": {},
     "output_type": "display_data"
    }
   ],
   "source": [
    "logistic_z=con_matrix_df['Confusion_Matrix_ROC'][0]\n",
    "logistic_z= logistic_z[::-1]\n",
    "x=['TP','FP']\n",
    "\n",
    "y =  x[::-1].copy()\n",
    "# change each element of z to type string for annotations\n",
    "logistic_z_text = [[str(y) for y in x] for x in logistic_z]\n",
    "colorscale = [[0, 'skyblue'], [1, 'green']]\n",
    "\n",
    "fig = ff.create_annotated_heatmap(logistic_z,x=x, y=y, annotation_text=logistic_z_text,  hoverinfo='z',colorscale=colorscale)\n",
    "fig.update_layout(title_text='Logistic Regression',autosize=True,margin=dict(t=30,b=0,l=0,r=0))"
   ]
  },
  {
   "cell_type": "code",
   "execution_count": 85,
   "metadata": {},
   "outputs": [
    {
     "data": {
      "application/vnd.plotly.v1+json": {
       "config": {
        "plotlyServerURL": "https://plot.ly"
       },
       "data": [
        {
         "colorscale": [
          [
           0,
           "rgb(150,0,90)"
          ],
          [
           0.125,
           "rgb(0,0,200)"
          ],
          [
           0.25,
           "rgb(0,25,255)"
          ],
          [
           0.375,
           "rgb(0,152,255)"
          ],
          [
           0.5,
           "rgb(44,255,150)"
          ],
          [
           0.625,
           "rgb(151,255,0)"
          ],
          [
           0.75,
           "rgb(255,234,0)"
          ],
          [
           0.875,
           "rgb(255,111,0)"
          ],
          [
           1,
           "rgb(255,0,0)"
          ]
         ],
         "hoverinfo": "z",
         "reversescale": false,
         "showscale": false,
         "type": "heatmap",
         "x": [
          "TP",
          "FP"
         ],
         "y": [
          "FP",
          "TP"
         ],
         "z": [
          [
           85,
           101
          ],
          [
           433,
           54
          ]
         ]
        }
       ],
       "layout": {
        "annotations": [
         {
          "font": {
           "color": "#FFFFFF"
          },
          "showarrow": false,
          "text": "85",
          "x": "TP",
          "xref": "x",
          "y": "FP",
          "yref": "y"
         },
         {
          "font": {
           "color": "#FFFFFF"
          },
          "showarrow": false,
          "text": "101",
          "x": "FP",
          "xref": "x",
          "y": "FP",
          "yref": "y"
         },
         {
          "font": {
           "color": "#FFFFFF"
          },
          "showarrow": false,
          "text": "433",
          "x": "TP",
          "xref": "x",
          "y": "TP",
          "yref": "y"
         },
         {
          "font": {
           "color": "#FFFFFF"
          },
          "showarrow": false,
          "text": "54",
          "x": "FP",
          "xref": "x",
          "y": "TP",
          "yref": "y"
         }
        ],
        "autosize": true,
        "margin": {
         "b": 0,
         "l": 0,
         "r": 0,
         "t": 30
        },
        "template": {
         "data": {
          "bar": [
           {
            "error_x": {
             "color": "#2a3f5f"
            },
            "error_y": {
             "color": "#2a3f5f"
            },
            "marker": {
             "line": {
              "color": "#E5ECF6",
              "width": 0.5
             }
            },
            "type": "bar"
           }
          ],
          "barpolar": [
           {
            "marker": {
             "line": {
              "color": "#E5ECF6",
              "width": 0.5
             }
            },
            "type": "barpolar"
           }
          ],
          "carpet": [
           {
            "aaxis": {
             "endlinecolor": "#2a3f5f",
             "gridcolor": "white",
             "linecolor": "white",
             "minorgridcolor": "white",
             "startlinecolor": "#2a3f5f"
            },
            "baxis": {
             "endlinecolor": "#2a3f5f",
             "gridcolor": "white",
             "linecolor": "white",
             "minorgridcolor": "white",
             "startlinecolor": "#2a3f5f"
            },
            "type": "carpet"
           }
          ],
          "choropleth": [
           {
            "colorbar": {
             "outlinewidth": 0,
             "ticks": ""
            },
            "type": "choropleth"
           }
          ],
          "contour": [
           {
            "colorbar": {
             "outlinewidth": 0,
             "ticks": ""
            },
            "colorscale": [
             [
              0,
              "#0d0887"
             ],
             [
              0.1111111111111111,
              "#46039f"
             ],
             [
              0.2222222222222222,
              "#7201a8"
             ],
             [
              0.3333333333333333,
              "#9c179e"
             ],
             [
              0.4444444444444444,
              "#bd3786"
             ],
             [
              0.5555555555555556,
              "#d8576b"
             ],
             [
              0.6666666666666666,
              "#ed7953"
             ],
             [
              0.7777777777777778,
              "#fb9f3a"
             ],
             [
              0.8888888888888888,
              "#fdca26"
             ],
             [
              1,
              "#f0f921"
             ]
            ],
            "type": "contour"
           }
          ],
          "contourcarpet": [
           {
            "colorbar": {
             "outlinewidth": 0,
             "ticks": ""
            },
            "type": "contourcarpet"
           }
          ],
          "heatmap": [
           {
            "colorbar": {
             "outlinewidth": 0,
             "ticks": ""
            },
            "colorscale": [
             [
              0,
              "#0d0887"
             ],
             [
              0.1111111111111111,
              "#46039f"
             ],
             [
              0.2222222222222222,
              "#7201a8"
             ],
             [
              0.3333333333333333,
              "#9c179e"
             ],
             [
              0.4444444444444444,
              "#bd3786"
             ],
             [
              0.5555555555555556,
              "#d8576b"
             ],
             [
              0.6666666666666666,
              "#ed7953"
             ],
             [
              0.7777777777777778,
              "#fb9f3a"
             ],
             [
              0.8888888888888888,
              "#fdca26"
             ],
             [
              1,
              "#f0f921"
             ]
            ],
            "type": "heatmap"
           }
          ],
          "heatmapgl": [
           {
            "colorbar": {
             "outlinewidth": 0,
             "ticks": ""
            },
            "colorscale": [
             [
              0,
              "#0d0887"
             ],
             [
              0.1111111111111111,
              "#46039f"
             ],
             [
              0.2222222222222222,
              "#7201a8"
             ],
             [
              0.3333333333333333,
              "#9c179e"
             ],
             [
              0.4444444444444444,
              "#bd3786"
             ],
             [
              0.5555555555555556,
              "#d8576b"
             ],
             [
              0.6666666666666666,
              "#ed7953"
             ],
             [
              0.7777777777777778,
              "#fb9f3a"
             ],
             [
              0.8888888888888888,
              "#fdca26"
             ],
             [
              1,
              "#f0f921"
             ]
            ],
            "type": "heatmapgl"
           }
          ],
          "histogram": [
           {
            "marker": {
             "colorbar": {
              "outlinewidth": 0,
              "ticks": ""
             }
            },
            "type": "histogram"
           }
          ],
          "histogram2d": [
           {
            "colorbar": {
             "outlinewidth": 0,
             "ticks": ""
            },
            "colorscale": [
             [
              0,
              "#0d0887"
             ],
             [
              0.1111111111111111,
              "#46039f"
             ],
             [
              0.2222222222222222,
              "#7201a8"
             ],
             [
              0.3333333333333333,
              "#9c179e"
             ],
             [
              0.4444444444444444,
              "#bd3786"
             ],
             [
              0.5555555555555556,
              "#d8576b"
             ],
             [
              0.6666666666666666,
              "#ed7953"
             ],
             [
              0.7777777777777778,
              "#fb9f3a"
             ],
             [
              0.8888888888888888,
              "#fdca26"
             ],
             [
              1,
              "#f0f921"
             ]
            ],
            "type": "histogram2d"
           }
          ],
          "histogram2dcontour": [
           {
            "colorbar": {
             "outlinewidth": 0,
             "ticks": ""
            },
            "colorscale": [
             [
              0,
              "#0d0887"
             ],
             [
              0.1111111111111111,
              "#46039f"
             ],
             [
              0.2222222222222222,
              "#7201a8"
             ],
             [
              0.3333333333333333,
              "#9c179e"
             ],
             [
              0.4444444444444444,
              "#bd3786"
             ],
             [
              0.5555555555555556,
              "#d8576b"
             ],
             [
              0.6666666666666666,
              "#ed7953"
             ],
             [
              0.7777777777777778,
              "#fb9f3a"
             ],
             [
              0.8888888888888888,
              "#fdca26"
             ],
             [
              1,
              "#f0f921"
             ]
            ],
            "type": "histogram2dcontour"
           }
          ],
          "mesh3d": [
           {
            "colorbar": {
             "outlinewidth": 0,
             "ticks": ""
            },
            "type": "mesh3d"
           }
          ],
          "parcoords": [
           {
            "line": {
             "colorbar": {
              "outlinewidth": 0,
              "ticks": ""
             }
            },
            "type": "parcoords"
           }
          ],
          "pie": [
           {
            "automargin": true,
            "type": "pie"
           }
          ],
          "scatter": [
           {
            "marker": {
             "colorbar": {
              "outlinewidth": 0,
              "ticks": ""
             }
            },
            "type": "scatter"
           }
          ],
          "scatter3d": [
           {
            "line": {
             "colorbar": {
              "outlinewidth": 0,
              "ticks": ""
             }
            },
            "marker": {
             "colorbar": {
              "outlinewidth": 0,
              "ticks": ""
             }
            },
            "type": "scatter3d"
           }
          ],
          "scattercarpet": [
           {
            "marker": {
             "colorbar": {
              "outlinewidth": 0,
              "ticks": ""
             }
            },
            "type": "scattercarpet"
           }
          ],
          "scattergeo": [
           {
            "marker": {
             "colorbar": {
              "outlinewidth": 0,
              "ticks": ""
             }
            },
            "type": "scattergeo"
           }
          ],
          "scattergl": [
           {
            "marker": {
             "colorbar": {
              "outlinewidth": 0,
              "ticks": ""
             }
            },
            "type": "scattergl"
           }
          ],
          "scattermapbox": [
           {
            "marker": {
             "colorbar": {
              "outlinewidth": 0,
              "ticks": ""
             }
            },
            "type": "scattermapbox"
           }
          ],
          "scatterpolar": [
           {
            "marker": {
             "colorbar": {
              "outlinewidth": 0,
              "ticks": ""
             }
            },
            "type": "scatterpolar"
           }
          ],
          "scatterpolargl": [
           {
            "marker": {
             "colorbar": {
              "outlinewidth": 0,
              "ticks": ""
             }
            },
            "type": "scatterpolargl"
           }
          ],
          "scatterternary": [
           {
            "marker": {
             "colorbar": {
              "outlinewidth": 0,
              "ticks": ""
             }
            },
            "type": "scatterternary"
           }
          ],
          "surface": [
           {
            "colorbar": {
             "outlinewidth": 0,
             "ticks": ""
            },
            "colorscale": [
             [
              0,
              "#0d0887"
             ],
             [
              0.1111111111111111,
              "#46039f"
             ],
             [
              0.2222222222222222,
              "#7201a8"
             ],
             [
              0.3333333333333333,
              "#9c179e"
             ],
             [
              0.4444444444444444,
              "#bd3786"
             ],
             [
              0.5555555555555556,
              "#d8576b"
             ],
             [
              0.6666666666666666,
              "#ed7953"
             ],
             [
              0.7777777777777778,
              "#fb9f3a"
             ],
             [
              0.8888888888888888,
              "#fdca26"
             ],
             [
              1,
              "#f0f921"
             ]
            ],
            "type": "surface"
           }
          ],
          "table": [
           {
            "cells": {
             "fill": {
              "color": "#EBF0F8"
             },
             "line": {
              "color": "white"
             }
            },
            "header": {
             "fill": {
              "color": "#C8D4E3"
             },
             "line": {
              "color": "white"
             }
            },
            "type": "table"
           }
          ]
         },
         "layout": {
          "annotationdefaults": {
           "arrowcolor": "#2a3f5f",
           "arrowhead": 0,
           "arrowwidth": 1
          },
          "autotypenumbers": "strict",
          "coloraxis": {
           "colorbar": {
            "outlinewidth": 0,
            "ticks": ""
           }
          },
          "colorscale": {
           "diverging": [
            [
             0,
             "#8e0152"
            ],
            [
             0.1,
             "#c51b7d"
            ],
            [
             0.2,
             "#de77ae"
            ],
            [
             0.3,
             "#f1b6da"
            ],
            [
             0.4,
             "#fde0ef"
            ],
            [
             0.5,
             "#f7f7f7"
            ],
            [
             0.6,
             "#e6f5d0"
            ],
            [
             0.7,
             "#b8e186"
            ],
            [
             0.8,
             "#7fbc41"
            ],
            [
             0.9,
             "#4d9221"
            ],
            [
             1,
             "#276419"
            ]
           ],
           "sequential": [
            [
             0,
             "#0d0887"
            ],
            [
             0.1111111111111111,
             "#46039f"
            ],
            [
             0.2222222222222222,
             "#7201a8"
            ],
            [
             0.3333333333333333,
             "#9c179e"
            ],
            [
             0.4444444444444444,
             "#bd3786"
            ],
            [
             0.5555555555555556,
             "#d8576b"
            ],
            [
             0.6666666666666666,
             "#ed7953"
            ],
            [
             0.7777777777777778,
             "#fb9f3a"
            ],
            [
             0.8888888888888888,
             "#fdca26"
            ],
            [
             1,
             "#f0f921"
            ]
           ],
           "sequentialminus": [
            [
             0,
             "#0d0887"
            ],
            [
             0.1111111111111111,
             "#46039f"
            ],
            [
             0.2222222222222222,
             "#7201a8"
            ],
            [
             0.3333333333333333,
             "#9c179e"
            ],
            [
             0.4444444444444444,
             "#bd3786"
            ],
            [
             0.5555555555555556,
             "#d8576b"
            ],
            [
             0.6666666666666666,
             "#ed7953"
            ],
            [
             0.7777777777777778,
             "#fb9f3a"
            ],
            [
             0.8888888888888888,
             "#fdca26"
            ],
            [
             1,
             "#f0f921"
            ]
           ]
          },
          "colorway": [
           "#636efa",
           "#EF553B",
           "#00cc96",
           "#ab63fa",
           "#FFA15A",
           "#19d3f3",
           "#FF6692",
           "#B6E880",
           "#FF97FF",
           "#FECB52"
          ],
          "font": {
           "color": "#2a3f5f"
          },
          "geo": {
           "bgcolor": "white",
           "lakecolor": "white",
           "landcolor": "#E5ECF6",
           "showlakes": true,
           "showland": true,
           "subunitcolor": "white"
          },
          "hoverlabel": {
           "align": "left"
          },
          "hovermode": "closest",
          "mapbox": {
           "style": "light"
          },
          "paper_bgcolor": "white",
          "plot_bgcolor": "#E5ECF6",
          "polar": {
           "angularaxis": {
            "gridcolor": "white",
            "linecolor": "white",
            "ticks": ""
           },
           "bgcolor": "#E5ECF6",
           "radialaxis": {
            "gridcolor": "white",
            "linecolor": "white",
            "ticks": ""
           }
          },
          "scene": {
           "xaxis": {
            "backgroundcolor": "#E5ECF6",
            "gridcolor": "white",
            "gridwidth": 2,
            "linecolor": "white",
            "showbackground": true,
            "ticks": "",
            "zerolinecolor": "white"
           },
           "yaxis": {
            "backgroundcolor": "#E5ECF6",
            "gridcolor": "white",
            "gridwidth": 2,
            "linecolor": "white",
            "showbackground": true,
            "ticks": "",
            "zerolinecolor": "white"
           },
           "zaxis": {
            "backgroundcolor": "#E5ECF6",
            "gridcolor": "white",
            "gridwidth": 2,
            "linecolor": "white",
            "showbackground": true,
            "ticks": "",
            "zerolinecolor": "white"
           }
          },
          "shapedefaults": {
           "line": {
            "color": "#2a3f5f"
           }
          },
          "ternary": {
           "aaxis": {
            "gridcolor": "white",
            "linecolor": "white",
            "ticks": ""
           },
           "baxis": {
            "gridcolor": "white",
            "linecolor": "white",
            "ticks": ""
           },
           "bgcolor": "#E5ECF6",
           "caxis": {
            "gridcolor": "white",
            "linecolor": "white",
            "ticks": ""
           }
          },
          "title": {
           "x": 0.05
          },
          "xaxis": {
           "automargin": true,
           "gridcolor": "white",
           "linecolor": "white",
           "ticks": "",
           "title": {
            "standoff": 15
           },
           "zerolinecolor": "white",
           "zerolinewidth": 2
          },
          "yaxis": {
           "automargin": true,
           "gridcolor": "white",
           "linecolor": "white",
           "ticks": "",
           "title": {
            "standoff": 15
           },
           "zerolinecolor": "white",
           "zerolinewidth": 2
          }
         }
        },
        "title": {
         "text": "Support Vector Machine"
        },
        "xaxis": {
         "dtick": 1,
         "gridcolor": "rgb(0, 0, 0)",
         "side": "top",
         "ticks": ""
        },
        "yaxis": {
         "dtick": 1,
         "ticks": "",
         "ticksuffix": "  "
        }
       }
      },
      "text/html": [
       "<div>                            <div id=\"0509eeb2-ce6d-4c36-93dd-9b3a18df3058\" class=\"plotly-graph-div\" style=\"height:525px; width:100%;\"></div>            <script type=\"text/javascript\">                require([\"plotly\"], function(Plotly) {                    window.PLOTLYENV=window.PLOTLYENV || {};                                    if (document.getElementById(\"0509eeb2-ce6d-4c36-93dd-9b3a18df3058\")) {                    Plotly.newPlot(                        \"0509eeb2-ce6d-4c36-93dd-9b3a18df3058\",                        [{\"colorscale\": [[0.0, \"rgb(150,0,90)\"], [0.125, \"rgb(0,0,200)\"], [0.25, \"rgb(0,25,255)\"], [0.375, \"rgb(0,152,255)\"], [0.5, \"rgb(44,255,150)\"], [0.625, \"rgb(151,255,0)\"], [0.75, \"rgb(255,234,0)\"], [0.875, \"rgb(255,111,0)\"], [1.0, \"rgb(255,0,0)\"]], \"hoverinfo\": \"z\", \"reversescale\": false, \"showscale\": false, \"type\": \"heatmap\", \"x\": [\"TP\", \"FP\"], \"y\": [\"FP\", \"TP\"], \"z\": [[85, 101], [433, 54]]}],                        {\"annotations\": [{\"font\": {\"color\": \"#FFFFFF\"}, \"showarrow\": false, \"text\": \"85\", \"x\": \"TP\", \"xref\": \"x\", \"y\": \"FP\", \"yref\": \"y\"}, {\"font\": {\"color\": \"#FFFFFF\"}, \"showarrow\": false, \"text\": \"101\", \"x\": \"FP\", \"xref\": \"x\", \"y\": \"FP\", \"yref\": \"y\"}, {\"font\": {\"color\": \"#FFFFFF\"}, \"showarrow\": false, \"text\": \"433\", \"x\": \"TP\", \"xref\": \"x\", \"y\": \"TP\", \"yref\": \"y\"}, {\"font\": {\"color\": \"#FFFFFF\"}, \"showarrow\": false, \"text\": \"54\", \"x\": \"FP\", \"xref\": \"x\", \"y\": \"TP\", \"yref\": \"y\"}], \"autosize\": true, \"margin\": {\"b\": 0, \"l\": 0, \"r\": 0, \"t\": 30}, \"template\": {\"data\": {\"bar\": [{\"error_x\": {\"color\": \"#2a3f5f\"}, \"error_y\": {\"color\": \"#2a3f5f\"}, \"marker\": {\"line\": {\"color\": \"#E5ECF6\", \"width\": 0.5}}, \"type\": \"bar\"}], \"barpolar\": [{\"marker\": {\"line\": {\"color\": \"#E5ECF6\", \"width\": 0.5}}, \"type\": \"barpolar\"}], \"carpet\": [{\"aaxis\": {\"endlinecolor\": \"#2a3f5f\", \"gridcolor\": \"white\", \"linecolor\": \"white\", \"minorgridcolor\": \"white\", \"startlinecolor\": \"#2a3f5f\"}, \"baxis\": {\"endlinecolor\": \"#2a3f5f\", \"gridcolor\": \"white\", \"linecolor\": \"white\", \"minorgridcolor\": \"white\", \"startlinecolor\": \"#2a3f5f\"}, \"type\": \"carpet\"}], \"choropleth\": [{\"colorbar\": {\"outlinewidth\": 0, \"ticks\": \"\"}, \"type\": \"choropleth\"}], \"contour\": [{\"colorbar\": {\"outlinewidth\": 0, \"ticks\": \"\"}, \"colorscale\": [[0.0, \"#0d0887\"], [0.1111111111111111, \"#46039f\"], [0.2222222222222222, \"#7201a8\"], [0.3333333333333333, \"#9c179e\"], [0.4444444444444444, \"#bd3786\"], [0.5555555555555556, \"#d8576b\"], [0.6666666666666666, \"#ed7953\"], [0.7777777777777778, \"#fb9f3a\"], [0.8888888888888888, \"#fdca26\"], [1.0, \"#f0f921\"]], \"type\": \"contour\"}], \"contourcarpet\": [{\"colorbar\": {\"outlinewidth\": 0, \"ticks\": \"\"}, \"type\": \"contourcarpet\"}], \"heatmap\": [{\"colorbar\": {\"outlinewidth\": 0, \"ticks\": \"\"}, \"colorscale\": [[0.0, \"#0d0887\"], [0.1111111111111111, \"#46039f\"], [0.2222222222222222, \"#7201a8\"], [0.3333333333333333, \"#9c179e\"], [0.4444444444444444, \"#bd3786\"], [0.5555555555555556, \"#d8576b\"], [0.6666666666666666, \"#ed7953\"], [0.7777777777777778, \"#fb9f3a\"], [0.8888888888888888, \"#fdca26\"], [1.0, \"#f0f921\"]], \"type\": \"heatmap\"}], \"heatmapgl\": [{\"colorbar\": {\"outlinewidth\": 0, \"ticks\": \"\"}, \"colorscale\": [[0.0, \"#0d0887\"], [0.1111111111111111, \"#46039f\"], [0.2222222222222222, \"#7201a8\"], [0.3333333333333333, \"#9c179e\"], [0.4444444444444444, \"#bd3786\"], [0.5555555555555556, \"#d8576b\"], [0.6666666666666666, \"#ed7953\"], [0.7777777777777778, \"#fb9f3a\"], [0.8888888888888888, \"#fdca26\"], [1.0, \"#f0f921\"]], \"type\": \"heatmapgl\"}], \"histogram\": [{\"marker\": {\"colorbar\": {\"outlinewidth\": 0, \"ticks\": \"\"}}, \"type\": \"histogram\"}], \"histogram2d\": [{\"colorbar\": {\"outlinewidth\": 0, \"ticks\": \"\"}, \"colorscale\": [[0.0, \"#0d0887\"], [0.1111111111111111, \"#46039f\"], [0.2222222222222222, \"#7201a8\"], [0.3333333333333333, \"#9c179e\"], [0.4444444444444444, \"#bd3786\"], [0.5555555555555556, \"#d8576b\"], [0.6666666666666666, \"#ed7953\"], [0.7777777777777778, \"#fb9f3a\"], [0.8888888888888888, \"#fdca26\"], [1.0, \"#f0f921\"]], \"type\": \"histogram2d\"}], \"histogram2dcontour\": [{\"colorbar\": {\"outlinewidth\": 0, \"ticks\": \"\"}, \"colorscale\": [[0.0, \"#0d0887\"], [0.1111111111111111, \"#46039f\"], [0.2222222222222222, \"#7201a8\"], [0.3333333333333333, \"#9c179e\"], [0.4444444444444444, \"#bd3786\"], [0.5555555555555556, \"#d8576b\"], [0.6666666666666666, \"#ed7953\"], [0.7777777777777778, \"#fb9f3a\"], [0.8888888888888888, \"#fdca26\"], [1.0, \"#f0f921\"]], \"type\": \"histogram2dcontour\"}], \"mesh3d\": [{\"colorbar\": {\"outlinewidth\": 0, \"ticks\": \"\"}, \"type\": \"mesh3d\"}], \"parcoords\": [{\"line\": {\"colorbar\": {\"outlinewidth\": 0, \"ticks\": \"\"}}, \"type\": \"parcoords\"}], \"pie\": [{\"automargin\": true, \"type\": \"pie\"}], \"scatter\": [{\"marker\": {\"colorbar\": {\"outlinewidth\": 0, \"ticks\": \"\"}}, \"type\": \"scatter\"}], \"scatter3d\": [{\"line\": {\"colorbar\": {\"outlinewidth\": 0, \"ticks\": \"\"}}, \"marker\": {\"colorbar\": {\"outlinewidth\": 0, \"ticks\": \"\"}}, \"type\": \"scatter3d\"}], \"scattercarpet\": [{\"marker\": {\"colorbar\": {\"outlinewidth\": 0, \"ticks\": \"\"}}, \"type\": \"scattercarpet\"}], \"scattergeo\": [{\"marker\": {\"colorbar\": {\"outlinewidth\": 0, \"ticks\": \"\"}}, \"type\": \"scattergeo\"}], \"scattergl\": [{\"marker\": {\"colorbar\": {\"outlinewidth\": 0, \"ticks\": \"\"}}, \"type\": \"scattergl\"}], \"scattermapbox\": [{\"marker\": {\"colorbar\": {\"outlinewidth\": 0, \"ticks\": \"\"}}, \"type\": \"scattermapbox\"}], \"scatterpolar\": [{\"marker\": {\"colorbar\": {\"outlinewidth\": 0, \"ticks\": \"\"}}, \"type\": \"scatterpolar\"}], \"scatterpolargl\": [{\"marker\": {\"colorbar\": {\"outlinewidth\": 0, \"ticks\": \"\"}}, \"type\": \"scatterpolargl\"}], \"scatterternary\": [{\"marker\": {\"colorbar\": {\"outlinewidth\": 0, \"ticks\": \"\"}}, \"type\": \"scatterternary\"}], \"surface\": [{\"colorbar\": {\"outlinewidth\": 0, \"ticks\": \"\"}, \"colorscale\": [[0.0, \"#0d0887\"], [0.1111111111111111, \"#46039f\"], [0.2222222222222222, \"#7201a8\"], [0.3333333333333333, \"#9c179e\"], [0.4444444444444444, \"#bd3786\"], [0.5555555555555556, \"#d8576b\"], [0.6666666666666666, \"#ed7953\"], [0.7777777777777778, \"#fb9f3a\"], [0.8888888888888888, \"#fdca26\"], [1.0, \"#f0f921\"]], \"type\": \"surface\"}], \"table\": [{\"cells\": {\"fill\": {\"color\": \"#EBF0F8\"}, \"line\": {\"color\": \"white\"}}, \"header\": {\"fill\": {\"color\": \"#C8D4E3\"}, \"line\": {\"color\": \"white\"}}, \"type\": \"table\"}]}, \"layout\": {\"annotationdefaults\": {\"arrowcolor\": \"#2a3f5f\", \"arrowhead\": 0, \"arrowwidth\": 1}, \"autotypenumbers\": \"strict\", \"coloraxis\": {\"colorbar\": {\"outlinewidth\": 0, \"ticks\": \"\"}}, \"colorscale\": {\"diverging\": [[0, \"#8e0152\"], [0.1, \"#c51b7d\"], [0.2, \"#de77ae\"], [0.3, \"#f1b6da\"], [0.4, \"#fde0ef\"], [0.5, \"#f7f7f7\"], [0.6, \"#e6f5d0\"], [0.7, \"#b8e186\"], [0.8, \"#7fbc41\"], [0.9, \"#4d9221\"], [1, \"#276419\"]], \"sequential\": [[0.0, \"#0d0887\"], [0.1111111111111111, \"#46039f\"], [0.2222222222222222, \"#7201a8\"], [0.3333333333333333, \"#9c179e\"], [0.4444444444444444, \"#bd3786\"], [0.5555555555555556, \"#d8576b\"], [0.6666666666666666, \"#ed7953\"], [0.7777777777777778, \"#fb9f3a\"], [0.8888888888888888, \"#fdca26\"], [1.0, \"#f0f921\"]], \"sequentialminus\": [[0.0, \"#0d0887\"], [0.1111111111111111, \"#46039f\"], [0.2222222222222222, \"#7201a8\"], [0.3333333333333333, \"#9c179e\"], [0.4444444444444444, \"#bd3786\"], [0.5555555555555556, \"#d8576b\"], [0.6666666666666666, \"#ed7953\"], [0.7777777777777778, \"#fb9f3a\"], [0.8888888888888888, \"#fdca26\"], [1.0, \"#f0f921\"]]}, \"colorway\": [\"#636efa\", \"#EF553B\", \"#00cc96\", \"#ab63fa\", \"#FFA15A\", \"#19d3f3\", \"#FF6692\", \"#B6E880\", \"#FF97FF\", \"#FECB52\"], \"font\": {\"color\": \"#2a3f5f\"}, \"geo\": {\"bgcolor\": \"white\", \"lakecolor\": \"white\", \"landcolor\": \"#E5ECF6\", \"showlakes\": true, \"showland\": true, \"subunitcolor\": \"white\"}, \"hoverlabel\": {\"align\": \"left\"}, \"hovermode\": \"closest\", \"mapbox\": {\"style\": \"light\"}, \"paper_bgcolor\": \"white\", \"plot_bgcolor\": \"#E5ECF6\", \"polar\": {\"angularaxis\": {\"gridcolor\": \"white\", \"linecolor\": \"white\", \"ticks\": \"\"}, \"bgcolor\": \"#E5ECF6\", \"radialaxis\": {\"gridcolor\": \"white\", \"linecolor\": \"white\", \"ticks\": \"\"}}, \"scene\": {\"xaxis\": {\"backgroundcolor\": \"#E5ECF6\", \"gridcolor\": \"white\", \"gridwidth\": 2, \"linecolor\": \"white\", \"showbackground\": true, \"ticks\": \"\", \"zerolinecolor\": \"white\"}, \"yaxis\": {\"backgroundcolor\": \"#E5ECF6\", \"gridcolor\": \"white\", \"gridwidth\": 2, \"linecolor\": \"white\", \"showbackground\": true, \"ticks\": \"\", \"zerolinecolor\": \"white\"}, \"zaxis\": {\"backgroundcolor\": \"#E5ECF6\", \"gridcolor\": \"white\", \"gridwidth\": 2, \"linecolor\": \"white\", \"showbackground\": true, \"ticks\": \"\", \"zerolinecolor\": \"white\"}}, \"shapedefaults\": {\"line\": {\"color\": \"#2a3f5f\"}}, \"ternary\": {\"aaxis\": {\"gridcolor\": \"white\", \"linecolor\": \"white\", \"ticks\": \"\"}, \"baxis\": {\"gridcolor\": \"white\", \"linecolor\": \"white\", \"ticks\": \"\"}, \"bgcolor\": \"#E5ECF6\", \"caxis\": {\"gridcolor\": \"white\", \"linecolor\": \"white\", \"ticks\": \"\"}}, \"title\": {\"x\": 0.05}, \"xaxis\": {\"automargin\": true, \"gridcolor\": \"white\", \"linecolor\": \"white\", \"ticks\": \"\", \"title\": {\"standoff\": 15}, \"zerolinecolor\": \"white\", \"zerolinewidth\": 2}, \"yaxis\": {\"automargin\": true, \"gridcolor\": \"white\", \"linecolor\": \"white\", \"ticks\": \"\", \"title\": {\"standoff\": 15}, \"zerolinecolor\": \"white\", \"zerolinewidth\": 2}}}, \"title\": {\"text\": \"Support Vector Machine\"}, \"xaxis\": {\"dtick\": 1, \"gridcolor\": \"rgb(0, 0, 0)\", \"side\": \"top\", \"ticks\": \"\"}, \"yaxis\": {\"dtick\": 1, \"ticks\": \"\", \"ticksuffix\": \"  \"}},                        {\"responsive\": true}                    ).then(function(){\n",
       "                            \n",
       "var gd = document.getElementById('0509eeb2-ce6d-4c36-93dd-9b3a18df3058');\n",
       "var x = new MutationObserver(function (mutations, observer) {{\n",
       "        var display = window.getComputedStyle(gd).display;\n",
       "        if (!display || display === 'none') {{\n",
       "            console.log([gd, 'removed!']);\n",
       "            Plotly.purge(gd);\n",
       "            observer.disconnect();\n",
       "        }}\n",
       "}});\n",
       "\n",
       "// Listen for the removal of the full notebook cells\n",
       "var notebookContainer = gd.closest('#notebook-container');\n",
       "if (notebookContainer) {{\n",
       "    x.observe(notebookContainer, {childList: true});\n",
       "}}\n",
       "\n",
       "// Listen for the clearing of the current output cell\n",
       "var outputEl = gd.closest('.output');\n",
       "if (outputEl) {{\n",
       "    x.observe(outputEl, {childList: true});\n",
       "}}\n",
       "\n",
       "                        })                };                });            </script>        </div>"
      ]
     },
     "metadata": {},
     "output_type": "display_data"
    }
   ],
   "source": [
    "svm_z=con_matrix_df['Confusion_Matrix_ROC'][2]\n",
    "svm_z= svm_z[::-1]\n",
    "x=['TP','FP']\n",
    "\n",
    "y =  x[::-1].copy()\n",
    "# change each element of z to type string for annotations\n",
    "svm_z_text = [[str(y) for y in x] for x in svm_z]\n",
    "colorscale = [[0, 'crimson'], [1, 'green']]\n",
    "\n",
    "fig = ff.create_annotated_heatmap(svm_z,x=x, y=y, annotation_text=svm_z_text,  hoverinfo='z',colorscale='rainbow')\n",
    "fig.update_layout(title_text='Support Vector Machine',autosize=True,margin=dict(t=30,b=0,l=0,r=0))"
   ]
  },
  {
   "cell_type": "markdown",
   "metadata": {},
   "source": [
    "UAC ROC"
   ]
  },
  {
   "cell_type": "code",
   "execution_count": 86,
   "metadata": {},
   "outputs": [],
   "source": [
    "uac_roc_df=model_evaluation_df[model_evaluation_df['Type']=='ROC'][['Model','Confusion_Matrix_ROC']]"
   ]
  },
  {
   "cell_type": "code",
   "execution_count": 87,
   "metadata": {},
   "outputs": [
    {
     "data": {
      "text/html": [
       "<div>\n",
       "<style scoped>\n",
       "    .dataframe tbody tr th:only-of-type {\n",
       "        vertical-align: middle;\n",
       "    }\n",
       "\n",
       "    .dataframe tbody tr th {\n",
       "        vertical-align: top;\n",
       "    }\n",
       "\n",
       "    .dataframe thead th {\n",
       "        text-align: right;\n",
       "    }\n",
       "</style>\n",
       "<table border=\"1\" class=\"dataframe\">\n",
       "  <thead>\n",
       "    <tr style=\"text-align: right;\">\n",
       "      <th>Model</th>\n",
       "      <th>Logistic Regression FPR</th>\n",
       "      <th>Logistic Regression TPR</th>\n",
       "      <th>Random Forest FPR</th>\n",
       "      <th>Random Forest TPR</th>\n",
       "      <th>Support Vector Machine FPR</th>\n",
       "      <th>Support Vector Machine TPR</th>\n",
       "    </tr>\n",
       "  </thead>\n",
       "  <tbody>\n",
       "    <tr>\n",
       "      <th>Confusion_Matrix_ROC</th>\n",
       "      <td>[0.0, 0.0, 0.0, 0.0020533881, 0.0020533881, 0....</td>\n",
       "      <td>[0.0, 0.0053763441, 0.0376344086, 0.0430107527...</td>\n",
       "      <td>[0.0, 0.0, 0.0, 0.0, 0.0, 0.0020533881, 0.0020...</td>\n",
       "      <td>[0.0, 0.0053763441, 0.016129032300000002, 0.02...</td>\n",
       "      <td>[0.0, 0.0, 0.0, 0.0020533881, 0.0020533881, 0....</td>\n",
       "      <td>[0.0, 0.0053763441, 0.0376344086, 0.0376344086...</td>\n",
       "    </tr>\n",
       "  </tbody>\n",
       "</table>\n",
       "</div>"
      ],
      "text/plain": [
       "Model                                           Logistic Regression FPR  \\\n",
       "Confusion_Matrix_ROC  [0.0, 0.0, 0.0, 0.0020533881, 0.0020533881, 0....   \n",
       "\n",
       "Model                                           Logistic Regression TPR  \\\n",
       "Confusion_Matrix_ROC  [0.0, 0.0053763441, 0.0376344086, 0.0430107527...   \n",
       "\n",
       "Model                                                 Random Forest FPR  \\\n",
       "Confusion_Matrix_ROC  [0.0, 0.0, 0.0, 0.0, 0.0, 0.0020533881, 0.0020...   \n",
       "\n",
       "Model                                                 Random Forest TPR  \\\n",
       "Confusion_Matrix_ROC  [0.0, 0.0053763441, 0.016129032300000002, 0.02...   \n",
       "\n",
       "Model                                        Support Vector Machine FPR  \\\n",
       "Confusion_Matrix_ROC  [0.0, 0.0, 0.0, 0.0020533881, 0.0020533881, 0....   \n",
       "\n",
       "Model                                        Support Vector Machine TPR  \n",
       "Confusion_Matrix_ROC  [0.0, 0.0053763441, 0.0376344086, 0.0376344086...  "
      ]
     },
     "execution_count": 87,
     "metadata": {},
     "output_type": "execute_result"
    }
   ],
   "source": [
    "uac_roc_df=uac_roc_df.sort_values(by=['Model'],ascending=True)\n",
    "uac_roc_df=uac_roc_df.set_index('Model').transpose()\n",
    "uac_roc_df"
   ]
  },
  {
   "cell_type": "code",
   "execution_count": 106,
   "metadata": {},
   "outputs": [
    {
     "data": {
      "application/vnd.plotly.v1+json": {
       "config": {
        "plotlyServerURL": "https://plot.ly"
       },
       "data": [
        {
         "line": {
          "color": "teal",
          "shape": "spline",
          "width": 2
         },
         "name": "Logistic Regression",
         "type": "scatter",
         "x": [
          0,
          0,
          0,
          0.0020533881,
          0.0020533881,
          0.0041067762,
          0.0041067762,
          0.006160164300000001,
          0.006160164300000001,
          0.0082135524,
          0.0082135524,
          0.0102669405,
          0.0102669405,
          0.0123203285,
          0.0123203285,
          0.014373716600000001,
          0.014373716600000001,
          0.0184804928,
          0.0184804928,
          0.0184804928,
          0.0184804928,
          0.0246406571,
          0.0246406571,
          0.0287474333,
          0.0287474333,
          0.0308008214,
          0.0308008214,
          0.0328542094,
          0.0328542094,
          0.0349075975,
          0.0349075975,
          0.0369609856,
          0.0369609856,
          0.0390143737,
          0.0390143737,
          0.0431211499,
          0.0431211499,
          0.045174538,
          0.045174538,
          0.047227926100000005,
          0.047227926100000005,
          0.0492813142,
          0.0492813142,
          0.0513347023,
          0.0513347023,
          0.0533880903,
          0.0533880903,
          0.0554414784,
          0.0554414784,
          0.0616016427,
          0.0616016427,
          0.0636550308,
          0.0636550308,
          0.0698151951,
          0.0698151951,
          0.0739219713,
          0.0739219713,
          0.0780287474,
          0.0780287474,
          0.0821355236,
          0.0821355236,
          0.0862422998,
          0.0862422998,
          0.0924024641,
          0.0924024641,
          0.09445585220000001,
          0.09445585220000001,
          0.0965092402,
          0.0965092402,
          0.10061601640000001,
          0.10061601640000001,
          0.1047227926,
          0.1047227926,
          0.1067761807,
          0.1067761807,
          0.11704312110000001,
          0.11704312110000001,
          0.1190965092,
          0.1190965092,
          0.1232032854,
          0.1232032854,
          0.1416837782,
          0.1416837782,
          0.1457905544,
          0.1457905544,
          0.15195071870000001,
          0.15195071870000001,
          0.1540041068,
          0.1540041068,
          0.1560574949,
          0.1560574949,
          0.16837782340000002,
          0.16837782340000002,
          0.16837782340000002,
          0.1724845996,
          0.1786447639,
          0.1786447639,
          0.18275154,
          0.18275154,
          0.1868583162,
          0.1868583162,
          0.1950718686,
          0.1950718686,
          0.1971252567,
          0.1971252567,
          0.2012320329,
          0.2012320329,
          0.2094455852,
          0.2094455852,
          0.2258726899,
          0.2258726899,
          0.227926078,
          0.227926078,
          0.2320328542,
          0.2320328542,
          0.2340862423,
          0.23613963040000002,
          0.23613963040000002,
          0.2443531828,
          0.2443531828,
          0.2566735113,
          0.2566735113,
          0.2587268994,
          0.2587268994,
          0.2607802875,
          0.2607802875,
          0.2628336756,
          0.2628336756,
          0.26488706370000004,
          0.26488706370000004,
          0.2669404517,
          0.2669404517,
          0.273100616,
          0.273100616,
          0.2772073922,
          0.2772073922,
          0.2813141684,
          0.2813141684,
          0.2833675565,
          0.2833675565,
          0.2895277207,
          0.2895277207,
          0.2915811088,
          0.2915811088,
          0.2936344969,
          0.2936344969,
          0.29568788500000004,
          0.29568788500000004,
          0.3080082136,
          0.3080082136,
          0.3162217659,
          0.3162217659,
          0.3203285421,
          0.3223819302,
          0.3285420945,
          0.33059548250000004,
          0.33059548250000004,
          0.3572895277,
          0.3572895277,
          0.36344969200000005,
          0.3655030801,
          0.37166324440000004,
          0.37166324440000004,
          0.386036961,
          0.386036961,
          0.3880903491,
          0.3880903491,
          0.4229979466,
          0.4229979466,
          0.4250513347,
          0.4250513347,
          0.4825462012,
          0.4825462012,
          0.4948665298,
          0.4948665298,
          0.5112936345,
          0.5112936345,
          0.5215605749000001,
          0.5215605749000001,
          0.5236139630000001,
          0.5236139630000001,
          0.5995893224000001,
          0.5995893224000001,
          0.6529774127,
          0.6570841889,
          0.704312115,
          0.704312115,
          0.7392197125000001,
          0.7392197125000001,
          0.7474332649000001,
          0.7535934292,
          0.7782340862,
          0.7782340862,
          0.7905544148,
          0.7905544148,
          0.7987679671,
          0.7987679671,
          0.8008213552000001,
          0.8008213552000001,
          0.9425051335,
          0.9486652977000001,
          0.9856262834,
          0.9897330595,
          1
         ],
         "y": [
          0,
          0.0053763441,
          0.0376344086,
          0.0430107527,
          0.064516129,
          0.064516129,
          0.0752688172,
          0.0752688172,
          0.09677419350000001,
          0.09677419350000001,
          0.10215053760000001,
          0.10215053760000001,
          0.1290322581,
          0.1290322581,
          0.1344086022,
          0.1344086022,
          0.1505376344,
          0.1505376344,
          0.1774193548,
          0.188172043,
          0.2043010753,
          0.2043010753,
          0.21505376340000001,
          0.21505376340000001,
          0.2419354839,
          0.2419354839,
          0.27956989250000003,
          0.27956989250000003,
          0.29569892470000003,
          0.29569892470000003,
          0.3010752688,
          0.3010752688,
          0.3494623656,
          0.3494623656,
          0.35483870970000003,
          0.35483870970000003,
          0.3602150538,
          0.3602150538,
          0.3655913978,
          0.3655913978,
          0.3817204301,
          0.3817204301,
          0.3978494624,
          0.3978494624,
          0.4032258065,
          0.4032258065,
          0.4139784946,
          0.4139784946,
          0.4408602151,
          0.4408602151,
          0.4516129032,
          0.4569892473,
          0.4623655914,
          0.4623655914,
          0.46774193550000004,
          0.46774193550000004,
          0.4731182796,
          0.4731182796,
          0.4784946237,
          0.4784946237,
          0.48924731180000003,
          0.48924731180000003,
          0.5107526882,
          0.5107526882,
          0.5483870968,
          0.5483870968,
          0.5537634409000001,
          0.5537634409000001,
          0.5591397849,
          0.5591397849,
          0.564516129,
          0.564516129,
          0.5698924731,
          0.5698924731,
          0.5752688172,
          0.5752688172,
          0.5806451613,
          0.5806451613,
          0.5860215054,
          0.5860215054,
          0.5913978495000001,
          0.5913978495000001,
          0.6021505376,
          0.6021505376,
          0.6075268817,
          0.6075268817,
          0.6129032258,
          0.6129032258,
          0.6236559140000001,
          0.6236559140000001,
          0.6290322581000001,
          0.6290322581000001,
          0.6397849462,
          0.6559139785,
          0.6559139785,
          0.6559139785,
          0.6612903226,
          0.6612903226,
          0.6666666667000001,
          0.6666666667000001,
          0.6720430108000001,
          0.6720430108000001,
          0.6774193548,
          0.6774193548,
          0.6827956989,
          0.6827956989,
          0.7043010753000001,
          0.7043010753000001,
          0.7150537634,
          0.7150537634,
          0.7258064516,
          0.7258064516,
          0.7473118280000001,
          0.7473118280000001,
          0.752688172,
          0.752688172,
          0.7580645161,
          0.7634408602,
          0.7634408602,
          0.7741935484,
          0.7741935484,
          0.7795698925000001,
          0.7795698925000001,
          0.7903225806,
          0.7903225806,
          0.7956989247,
          0.7956989247,
          0.8010752688,
          0.8010752688,
          0.8064516129,
          0.8064516129,
          0.8118279570000001,
          0.8118279570000001,
          0.8172043011,
          0.8172043011,
          0.8279569892,
          0.8279569892,
          0.8333333333,
          0.8333333333,
          0.8387096774,
          0.8387096774,
          0.8494623656,
          0.8494623656,
          0.8548387097,
          0.8548387097,
          0.8602150538000001,
          0.8602150538000001,
          0.8655913978,
          0.8655913978,
          0.8709677419,
          0.8709677419,
          0.876344086,
          0.876344086,
          0.8817204301,
          0.8817204301,
          0.8817204301,
          0.8870967742,
          0.8870967742,
          0.8924731183,
          0.8924731183,
          0.8978494624000001,
          0.8978494624000001,
          0.9032258065000001,
          0.9032258065000001,
          0.9086021505,
          0.9086021505,
          0.9193548387,
          0.9193548387,
          0.9247311828,
          0.9247311828,
          0.9301075269,
          0.9301075269,
          0.9354838710000001,
          0.9354838710000001,
          0.9462365591,
          0.9462365591,
          0.9516129032,
          0.9516129032,
          0.9569892473,
          0.9569892473,
          0.9623655914,
          0.9623655914,
          0.9677419355,
          0.9677419355,
          0.9677419355,
          0.9677419355,
          0.9731182796000001,
          0.9731182796000001,
          0.9784946237000001,
          0.9784946237000001,
          0.9784946237000001,
          0.9784946237000001,
          0.9838709677,
          0.9838709677,
          0.9892473118,
          0.9892473118,
          0.9946236559,
          0.9946236559,
          1,
          1,
          1,
          1,
          1,
          1
         ]
        },
        {
         "line": {
          "color": "royalblue",
          "shape": "spline",
          "width": 2
         },
         "name": "Random Forest",
         "type": "scatter",
         "x": [
          0,
          0,
          0,
          0,
          0,
          0.0020533881,
          0.0020533881,
          0.0041067762,
          0.0041067762,
          0.006160164300000001,
          0.006160164300000001,
          0.0082135524,
          0.0082135524,
          0.0102669405,
          0.0102669405,
          0.0123203285,
          0.0123203285,
          0.014373716600000001,
          0.014373716600000001,
          0.0164271047,
          0.0164271047,
          0.022587269,
          0.022587269,
          0.0246406571,
          0.0246406571,
          0.026694045200000002,
          0.026694045200000002,
          0.0287474333,
          0.0308008214,
          0.0328542094,
          0.0328542094,
          0.0349075975,
          0.0349075975,
          0.0369609856,
          0.0369609856,
          0.0410677618,
          0.0410677618,
          0.045174538,
          0.045174538,
          0.047227926100000005,
          0.047227926100000005,
          0.0492813142,
          0.0492813142,
          0.0513347023,
          0.0513347023,
          0.0554414784,
          0.0554414784,
          0.057494866500000005,
          0.0616016427,
          0.0616016427,
          0.0657084189,
          0.0657084189,
          0.06776180700000001,
          0.06776180700000001,
          0.0739219713,
          0.0739219713,
          0.0759753593,
          0.0759753593,
          0.0780287474,
          0.0780287474,
          0.0800821355,
          0.0800821355,
          0.0821355236,
          0.0821355236,
          0.08418891170000001,
          0.08418891170000001,
          0.0862422998,
          0.0862422998,
          0.090349076,
          0.090349076,
          0.09445585220000001,
          0.09445585220000001,
          0.09445585220000001,
          0.10061601640000001,
          0.10061601640000001,
          0.1026694045,
          0.1026694045,
          0.1067761807,
          0.1067761807,
          0.11704312110000001,
          0.11704312110000001,
          0.1190965092,
          0.1211498973,
          0.1314168378,
          0.1314168378,
          0.1396303901,
          0.1396303901,
          0.1478439425,
          0.1478439425,
          0.1540041068,
          0.1540041068,
          0.160164271,
          0.160164271,
          0.1765913758,
          0.1765913758,
          0.18480492810000002,
          0.18480492810000002,
          0.1868583162,
          0.1868583162,
          0.1909650924,
          0.1909650924,
          0.1930184805,
          0.1930184805,
          0.2032854209,
          0.2032854209,
          0.205338809,
          0.205338809,
          0.2094455852,
          0.2094455852,
          0.2135523614,
          0.2135523614,
          0.2156057495,
          0.2156057495,
          0.2176591376,
          0.2176591376,
          0.22176591380000002,
          0.22176591380000002,
          0.227926078,
          0.227926078,
          0.2340862423,
          0.2340862423,
          0.24024640660000002,
          0.2443531828,
          0.250513347,
          0.250513347,
          0.2525667351,
          0.2525667351,
          0.2628336756,
          0.2628336756,
          0.2710472279,
          0.2710472279,
          0.2710472279,
          0.273100616,
          0.273100616,
          0.2792607803,
          0.2792607803,
          0.2874743326,
          0.2874743326,
          0.2895277207,
          0.2895277207,
          0.2936344969,
          0.2936344969,
          0.30390143740000003,
          0.3080082136,
          0.318275154,
          0.318275154,
          0.3203285421,
          0.3203285421,
          0.3223819302,
          0.3223819302,
          0.33675564680000003,
          0.33675564680000003,
          0.3449691992,
          0.3449691992,
          0.3470225873,
          0.3470225873,
          0.3798767967,
          0.3798767967,
          0.3819301848,
          0.3819301848,
          0.40657084190000004,
          0.40657084190000004,
          0.4168377823,
          0.4168377823,
          0.4291581109,
          0.4291581109,
          0.4353182752,
          0.4353182752,
          0.4620123203,
          0.4620123203,
          0.4661190965,
          0.4661190965,
          0.4681724846,
          0.4681724846,
          0.47843942510000004,
          0.47843942510000004,
          0.4887063655,
          0.4887063655,
          0.5051334702,
          0.5051334702,
          0.5852156057,
          0.5852156057,
          0.5893223819,
          0.5893223819,
          0.6016427105000001,
          0.6016427105000001,
          0.6488706366,
          0.6488706366,
          0.6899383984,
          0.6899383984,
          0.7227926078,
          0.7268993840000001,
          0.7330595483,
          0.7371663244000001,
          0.7412731006000001,
          0.7453798768000001,
          0.7515400411000001,
          0.7556468172,
          0.772073922,
          0.7761806982,
          0.7843942505,
          0.8049281314000001,
          0.8069815195000001,
          0.8069815195000001,
          0.8090349076000001,
          0.8151950719000001,
          0.8275154004,
          0.8316221766,
          0.8439425051,
          0.8480492813,
          0.8542094456,
          0.8583162218,
          0.8665297741,
          0.8726899384000001,
          0.8747433265000001,
          0.8788501027000001,
          0.8788501027000001,
          0.8850102669000001,
          0.8932238193,
          0.8952772074,
          0.8993839836,
          0.9014373717,
          0.9158110883,
          0.9178644764,
          0.9219712526,
          0.9240246407,
          1
         ],
         "y": [
          0,
          0.0053763441,
          0.016129032300000002,
          0.0268817204,
          0.0322580645,
          0.0322580645,
          0.0430107527,
          0.0430107527,
          0.0483870968,
          0.0483870968,
          0.0913978495,
          0.0913978495,
          0.09677419350000001,
          0.09677419350000001,
          0.1182795699,
          0.1182795699,
          0.1505376344,
          0.1505376344,
          0.1720430108,
          0.1720430108,
          0.1827956989,
          0.1827956989,
          0.188172043,
          0.188172043,
          0.2043010753,
          0.2043010753,
          0.2096774194,
          0.2096774194,
          0.21505376340000001,
          0.21505376340000001,
          0.2634408602,
          0.2688172043,
          0.2849462366,
          0.2903225806,
          0.29569892470000003,
          0.29569892470000003,
          0.31720430110000003,
          0.31720430110000003,
          0.33333333330000003,
          0.33333333330000003,
          0.3387096774,
          0.3387096774,
          0.35483870970000003,
          0.35483870970000003,
          0.3602150538,
          0.3602150538,
          0.3655913978,
          0.37096774190000004,
          0.37096774190000004,
          0.3978494624,
          0.3978494624,
          0.4032258065,
          0.4032258065,
          0.4193548387,
          0.4193548387,
          0.4247311828,
          0.4247311828,
          0.44623655910000004,
          0.44623655910000004,
          0.4569892473,
          0.4569892473,
          0.48387096770000004,
          0.48387096770000004,
          0.48924731180000003,
          0.48924731180000003,
          0.4946236559,
          0.4946236559,
          0.5376344086,
          0.5376344086,
          0.5430107527,
          0.5430107527,
          0.564516129,
          0.5698924731,
          0.5698924731,
          0.5860215054,
          0.5860215054,
          0.6021505376,
          0.6021505376,
          0.6129032258,
          0.6129032258,
          0.6182795699,
          0.6182795699,
          0.6236559140000001,
          0.6236559140000001,
          0.6344086022000001,
          0.6344086022000001,
          0.6451612903,
          0.6451612903,
          0.6505376344,
          0.6505376344,
          0.6559139785,
          0.6559139785,
          0.6666666667000001,
          0.6666666667000001,
          0.6827956989,
          0.6827956989,
          0.6935483871,
          0.6935483871,
          0.7043010753000001,
          0.7043010753000001,
          0.7096774194000001,
          0.7096774194000001,
          0.7204301075,
          0.7204301075,
          0.7258064516,
          0.7258064516,
          0.7311827957,
          0.7311827957,
          0.7419354839000001,
          0.7419354839000001,
          0.7473118280000001,
          0.7473118280000001,
          0.752688172,
          0.752688172,
          0.7580645161,
          0.7580645161,
          0.7634408602,
          0.7634408602,
          0.7688172043,
          0.7688172043,
          0.7741935484,
          0.7741935484,
          0.7741935484,
          0.7741935484,
          0.7795698925000001,
          0.7795698925000001,
          0.7903225806,
          0.7903225806,
          0.7956989247,
          0.7956989247,
          0.8010752688,
          0.8118279570000001,
          0.8118279570000001,
          0.8172043011,
          0.8172043011,
          0.8225806452000001,
          0.8225806452000001,
          0.8279569892,
          0.8279569892,
          0.8333333333,
          0.8333333333,
          0.8387096774,
          0.8387096774,
          0.8387096774,
          0.8387096774,
          0.8494623656,
          0.8548387097,
          0.8602150538000001,
          0.8602150538000001,
          0.8655913978,
          0.8655913978,
          0.8709677419,
          0.8709677419,
          0.876344086,
          0.876344086,
          0.8817204301,
          0.8817204301,
          0.8870967742,
          0.8870967742,
          0.8924731183,
          0.8924731183,
          0.8978494624000001,
          0.8978494624000001,
          0.9086021505,
          0.9086021505,
          0.9139784946,
          0.9139784946,
          0.9247311828,
          0.9247311828,
          0.9354838710000001,
          0.9354838710000001,
          0.9408602151000001,
          0.9408602151000001,
          0.9462365591,
          0.9462365591,
          0.9516129032,
          0.9516129032,
          0.9569892473,
          0.9569892473,
          0.9623655914,
          0.9623655914,
          0.9677419355,
          0.9677419355,
          0.9731182796000001,
          0.9731182796000001,
          0.9784946237000001,
          0.9784946237000001,
          0.9838709677,
          0.9838709677,
          0.9892473118,
          0.9892473118,
          0.9892473118,
          0.9892473118,
          0.9892473118,
          0.9892473118,
          0.9892473118,
          0.9892473118,
          0.9892473118,
          0.9892473118,
          0.9892473118,
          0.9892473118,
          0.9892473118,
          0.9892473118,
          0.9946236559,
          0.9946236559,
          0.9946236559,
          0.9946236559,
          0.9946236559,
          0.9946236559,
          0.9946236559,
          0.9946236559,
          0.9946236559,
          0.9946236559,
          0.9946236559,
          0.9946236559,
          0.9946236559,
          1,
          1,
          1,
          1,
          1,
          1,
          1,
          1,
          1,
          1,
          1
         ]
        },
        {
         "line": {
          "color": "orange",
          "shape": "spline",
          "width": 2
         },
         "name": "Support Vector Machine",
         "type": "scatter",
         "x": [
          0,
          0,
          0,
          0.0020533881,
          0.0020533881,
          0.0041067762,
          0.0041067762,
          0.0123203285,
          0.0123203285,
          0.014373716600000001,
          0.014373716600000001,
          0.0164271047,
          0.0164271047,
          0.0184804928,
          0.0184804928,
          0.0205338809,
          0.0205338809,
          0.022587269,
          0.022587269,
          0.0246406571,
          0.0246406571,
          0.0328542094,
          0.0328542094,
          0.0369609856,
          0.0369609856,
          0.0390143737,
          0.0390143737,
          0.0410677618,
          0.0410677618,
          0.045174538,
          0.045174538,
          0.0492813142,
          0.0492813142,
          0.0513347023,
          0.0513347023,
          0.0533880903,
          0.0533880903,
          0.0554414784,
          0.0554414784,
          0.0595482546,
          0.0595482546,
          0.0616016427,
          0.0616016427,
          0.0636550308,
          0.0636550308,
          0.0657084189,
          0.0657084189,
          0.06776180700000001,
          0.06776180700000001,
          0.0739219713,
          0.0739219713,
          0.0759753593,
          0.0759753593,
          0.0780287474,
          0.0780287474,
          0.0862422998,
          0.0862422998,
          0.0882956879,
          0.0882956879,
          0.09445585220000001,
          0.09856262830000001,
          0.1047227926,
          0.1047227926,
          0.1067761807,
          0.1067761807,
          0.1088295688,
          0.1088295688,
          0.1149897331,
          0.1149897331,
          0.1211498973,
          0.1211498973,
          0.1252566735,
          0.1252566735,
          0.1273100616,
          0.1273100616,
          0.1314168378,
          0.1314168378,
          0.13552361400000001,
          0.13552361400000001,
          0.1396303901,
          0.1396303901,
          0.1540041068,
          0.1540041068,
          0.160164271,
          0.160164271,
          0.16632443530000002,
          0.16632443530000002,
          0.16837782340000002,
          0.16837782340000002,
          0.1745379877,
          0.1745379877,
          0.1765913758,
          0.1765913758,
          0.1786447639,
          0.1786447639,
          0.1868583162,
          0.1868583162,
          0.1889117043,
          0.1889117043,
          0.1909650924,
          0.1909650924,
          0.1950718686,
          0.1950718686,
          0.2094455852,
          0.2094455852,
          0.2176591376,
          0.2176591376,
          0.2197125257,
          0.2197125257,
          0.22176591380000002,
          0.22176591380000002,
          0.2238193018,
          0.2238193018,
          0.2258726899,
          0.2258726899,
          0.2258726899,
          0.2258726899,
          0.227926078,
          0.227926078,
          0.2299794661,
          0.2299794661,
          0.23613963040000002,
          0.23613963040000002,
          0.24229979470000002,
          0.24229979470000002,
          0.2464065708,
          0.2464065708,
          0.26488706370000004,
          0.26488706370000004,
          0.2669404517,
          0.2669404517,
          0.2689938398,
          0.2689938398,
          0.2772073922,
          0.2772073922,
          0.2792607803,
          0.2792607803,
          0.2854209446,
          0.2854209446,
          0.2895277207,
          0.2895277207,
          0.2915811088,
          0.2915811088,
          0.3080082136,
          0.3080082136,
          0.3264887064,
          0.3264887064,
          0.3285420945,
          0.3285420945,
          0.3613963039,
          0.3613963039,
          0.36344969200000005,
          0.36344969200000005,
          0.36960985630000004,
          0.36960985630000004,
          0.3757700205,
          0.3757700205,
          0.40246406570000004,
          0.40246406570000004,
          0.40451745380000004,
          0.40451745380000004,
          0.4250513347,
          0.4250513347,
          0.4291581109,
          0.4291581109,
          0.44147843940000003,
          0.44147843940000003,
          0.47227926080000004,
          0.47227926080000004,
          0.4825462012,
          0.4825462012,
          0.5256673511000001,
          0.5256673511000001,
          0.5379876797,
          0.5379876797,
          0.546201232,
          0.546201232,
          0.59137577,
          0.59137577,
          0.6078028747,
          0.6078028747,
          0.6119096509,
          0.6119096509,
          0.6570841889,
          0.6570841889,
          0.6899383984,
          0.6899383984,
          0.8069815195000001,
          0.8069815195000001,
          0.8870636550000001,
          0.8870636550000001,
          0.8891170431000001,
          0.8891170431000001,
          0.9014373717,
          0.9014373717,
          1
         ],
         "y": [
          0,
          0.0053763441,
          0.0376344086,
          0.0376344086,
          0.0698924731,
          0.0698924731,
          0.10215053760000001,
          0.10215053760000001,
          0.1129032258,
          0.1129032258,
          0.123655914,
          0.123655914,
          0.1451612903,
          0.1451612903,
          0.1666666667,
          0.1666666667,
          0.1827956989,
          0.1827956989,
          0.2258064516,
          0.2258064516,
          0.2634408602,
          0.2634408602,
          0.27956989250000003,
          0.27956989250000003,
          0.2849462366,
          0.2849462366,
          0.31182795700000004,
          0.31182795700000004,
          0.31720430110000003,
          0.31720430110000003,
          0.33333333330000003,
          0.33333333330000003,
          0.3387096774,
          0.3387096774,
          0.3602150538,
          0.3602150538,
          0.3655913978,
          0.3655913978,
          0.4032258065,
          0.4032258065,
          0.4193548387,
          0.4193548387,
          0.43010752690000004,
          0.43010752690000004,
          0.435483871,
          0.435483871,
          0.4408602151,
          0.4408602151,
          0.4516129032,
          0.4516129032,
          0.4569892473,
          0.4569892473,
          0.46774193550000004,
          0.46774193550000004,
          0.4784946237,
          0.4784946237,
          0.48387096770000004,
          0.48387096770000004,
          0.4946236559,
          0.4946236559,
          0.5161290323000001,
          0.5161290323000001,
          0.5215053763,
          0.5215053763,
          0.5376344086,
          0.5376344086,
          0.5430107527,
          0.5430107527,
          0.5483870968,
          0.5483870968,
          0.5537634409000001,
          0.5537634409000001,
          0.5591397849,
          0.5591397849,
          0.5752688172,
          0.5752688172,
          0.5806451613,
          0.5806451613,
          0.5860215054,
          0.5860215054,
          0.5913978495000001,
          0.5913978495000001,
          0.5967741935,
          0.5967741935,
          0.6021505376,
          0.6021505376,
          0.6075268817,
          0.6075268817,
          0.6129032258,
          0.6129032258,
          0.6182795699,
          0.6182795699,
          0.6236559140000001,
          0.6236559140000001,
          0.6290322581000001,
          0.6290322581000001,
          0.6344086022000001,
          0.6344086022000001,
          0.6397849462,
          0.6397849462,
          0.6451612903,
          0.6451612903,
          0.6612903226,
          0.6612903226,
          0.6666666667000001,
          0.6666666667000001,
          0.6720430108000001,
          0.6720430108000001,
          0.6774193548,
          0.6774193548,
          0.688172043,
          0.688172043,
          0.6935483871,
          0.6935483871,
          0.6989247312,
          0.7096774194000001,
          0.7258064516,
          0.7258064516,
          0.7473118280000001,
          0.7473118280000001,
          0.7580645161,
          0.7580645161,
          0.7634408602,
          0.7634408602,
          0.7741935484,
          0.7741935484,
          0.7795698925000001,
          0.7795698925000001,
          0.7849462366000001,
          0.7849462366000001,
          0.7903225806,
          0.7903225806,
          0.7956989247,
          0.7956989247,
          0.8064516129,
          0.8064516129,
          0.8225806452000001,
          0.8225806452000001,
          0.8279569892,
          0.8279569892,
          0.8333333333,
          0.8333333333,
          0.8387096774,
          0.8387096774,
          0.8440860215,
          0.8440860215,
          0.8548387097,
          0.8548387097,
          0.8602150538000001,
          0.8602150538000001,
          0.8655913978,
          0.8655913978,
          0.876344086,
          0.876344086,
          0.8817204301,
          0.8817204301,
          0.8870967742,
          0.8870967742,
          0.8924731183,
          0.8924731183,
          0.8978494624000001,
          0.8978494624000001,
          0.9032258065000001,
          0.9032258065000001,
          0.9086021505,
          0.9086021505,
          0.9139784946,
          0.9139784946,
          0.9193548387,
          0.9193548387,
          0.9247311828,
          0.9247311828,
          0.9301075269,
          0.9301075269,
          0.9354838710000001,
          0.9354838710000001,
          0.9408602151000001,
          0.9408602151000001,
          0.9516129032,
          0.9516129032,
          0.9623655914,
          0.9623655914,
          0.9677419355,
          0.9677419355,
          0.9731182796000001,
          0.9731182796000001,
          0.9784946237000001,
          0.9784946237000001,
          0.9838709677,
          0.9838709677,
          0.9892473118,
          0.9892473118,
          0.9946236559,
          0.9946236559,
          1,
          1
         ]
        },
        {
         "line": {
          "color": "firebrick",
          "dash": "dash",
          "width": 4
         },
         "name": "Random Gues",
         "type": "scatter",
         "x": [
          0,
          1
         ],
         "y": [
          0,
          1
         ]
        }
       ],
       "layout": {
        "autosize": true,
        "legend": {
         "x": 0.95,
         "xanchor": "right",
         "y": 0.05,
         "yanchor": "bottom"
        },
        "margin": {
         "b": 0,
         "l": 0,
         "r": 0,
         "t": 70
        },
        "template": {
         "data": {
          "bar": [
           {
            "error_x": {
             "color": "#2a3f5f"
            },
            "error_y": {
             "color": "#2a3f5f"
            },
            "marker": {
             "line": {
              "color": "#E5ECF6",
              "width": 0.5
             }
            },
            "type": "bar"
           }
          ],
          "barpolar": [
           {
            "marker": {
             "line": {
              "color": "#E5ECF6",
              "width": 0.5
             }
            },
            "type": "barpolar"
           }
          ],
          "carpet": [
           {
            "aaxis": {
             "endlinecolor": "#2a3f5f",
             "gridcolor": "white",
             "linecolor": "white",
             "minorgridcolor": "white",
             "startlinecolor": "#2a3f5f"
            },
            "baxis": {
             "endlinecolor": "#2a3f5f",
             "gridcolor": "white",
             "linecolor": "white",
             "minorgridcolor": "white",
             "startlinecolor": "#2a3f5f"
            },
            "type": "carpet"
           }
          ],
          "choropleth": [
           {
            "colorbar": {
             "outlinewidth": 0,
             "ticks": ""
            },
            "type": "choropleth"
           }
          ],
          "contour": [
           {
            "colorbar": {
             "outlinewidth": 0,
             "ticks": ""
            },
            "colorscale": [
             [
              0,
              "#0d0887"
             ],
             [
              0.1111111111111111,
              "#46039f"
             ],
             [
              0.2222222222222222,
              "#7201a8"
             ],
             [
              0.3333333333333333,
              "#9c179e"
             ],
             [
              0.4444444444444444,
              "#bd3786"
             ],
             [
              0.5555555555555556,
              "#d8576b"
             ],
             [
              0.6666666666666666,
              "#ed7953"
             ],
             [
              0.7777777777777778,
              "#fb9f3a"
             ],
             [
              0.8888888888888888,
              "#fdca26"
             ],
             [
              1,
              "#f0f921"
             ]
            ],
            "type": "contour"
           }
          ],
          "contourcarpet": [
           {
            "colorbar": {
             "outlinewidth": 0,
             "ticks": ""
            },
            "type": "contourcarpet"
           }
          ],
          "heatmap": [
           {
            "colorbar": {
             "outlinewidth": 0,
             "ticks": ""
            },
            "colorscale": [
             [
              0,
              "#0d0887"
             ],
             [
              0.1111111111111111,
              "#46039f"
             ],
             [
              0.2222222222222222,
              "#7201a8"
             ],
             [
              0.3333333333333333,
              "#9c179e"
             ],
             [
              0.4444444444444444,
              "#bd3786"
             ],
             [
              0.5555555555555556,
              "#d8576b"
             ],
             [
              0.6666666666666666,
              "#ed7953"
             ],
             [
              0.7777777777777778,
              "#fb9f3a"
             ],
             [
              0.8888888888888888,
              "#fdca26"
             ],
             [
              1,
              "#f0f921"
             ]
            ],
            "type": "heatmap"
           }
          ],
          "heatmapgl": [
           {
            "colorbar": {
             "outlinewidth": 0,
             "ticks": ""
            },
            "colorscale": [
             [
              0,
              "#0d0887"
             ],
             [
              0.1111111111111111,
              "#46039f"
             ],
             [
              0.2222222222222222,
              "#7201a8"
             ],
             [
              0.3333333333333333,
              "#9c179e"
             ],
             [
              0.4444444444444444,
              "#bd3786"
             ],
             [
              0.5555555555555556,
              "#d8576b"
             ],
             [
              0.6666666666666666,
              "#ed7953"
             ],
             [
              0.7777777777777778,
              "#fb9f3a"
             ],
             [
              0.8888888888888888,
              "#fdca26"
             ],
             [
              1,
              "#f0f921"
             ]
            ],
            "type": "heatmapgl"
           }
          ],
          "histogram": [
           {
            "marker": {
             "colorbar": {
              "outlinewidth": 0,
              "ticks": ""
             }
            },
            "type": "histogram"
           }
          ],
          "histogram2d": [
           {
            "colorbar": {
             "outlinewidth": 0,
             "ticks": ""
            },
            "colorscale": [
             [
              0,
              "#0d0887"
             ],
             [
              0.1111111111111111,
              "#46039f"
             ],
             [
              0.2222222222222222,
              "#7201a8"
             ],
             [
              0.3333333333333333,
              "#9c179e"
             ],
             [
              0.4444444444444444,
              "#bd3786"
             ],
             [
              0.5555555555555556,
              "#d8576b"
             ],
             [
              0.6666666666666666,
              "#ed7953"
             ],
             [
              0.7777777777777778,
              "#fb9f3a"
             ],
             [
              0.8888888888888888,
              "#fdca26"
             ],
             [
              1,
              "#f0f921"
             ]
            ],
            "type": "histogram2d"
           }
          ],
          "histogram2dcontour": [
           {
            "colorbar": {
             "outlinewidth": 0,
             "ticks": ""
            },
            "colorscale": [
             [
              0,
              "#0d0887"
             ],
             [
              0.1111111111111111,
              "#46039f"
             ],
             [
              0.2222222222222222,
              "#7201a8"
             ],
             [
              0.3333333333333333,
              "#9c179e"
             ],
             [
              0.4444444444444444,
              "#bd3786"
             ],
             [
              0.5555555555555556,
              "#d8576b"
             ],
             [
              0.6666666666666666,
              "#ed7953"
             ],
             [
              0.7777777777777778,
              "#fb9f3a"
             ],
             [
              0.8888888888888888,
              "#fdca26"
             ],
             [
              1,
              "#f0f921"
             ]
            ],
            "type": "histogram2dcontour"
           }
          ],
          "mesh3d": [
           {
            "colorbar": {
             "outlinewidth": 0,
             "ticks": ""
            },
            "type": "mesh3d"
           }
          ],
          "parcoords": [
           {
            "line": {
             "colorbar": {
              "outlinewidth": 0,
              "ticks": ""
             }
            },
            "type": "parcoords"
           }
          ],
          "pie": [
           {
            "automargin": true,
            "type": "pie"
           }
          ],
          "scatter": [
           {
            "marker": {
             "colorbar": {
              "outlinewidth": 0,
              "ticks": ""
             }
            },
            "type": "scatter"
           }
          ],
          "scatter3d": [
           {
            "line": {
             "colorbar": {
              "outlinewidth": 0,
              "ticks": ""
             }
            },
            "marker": {
             "colorbar": {
              "outlinewidth": 0,
              "ticks": ""
             }
            },
            "type": "scatter3d"
           }
          ],
          "scattercarpet": [
           {
            "marker": {
             "colorbar": {
              "outlinewidth": 0,
              "ticks": ""
             }
            },
            "type": "scattercarpet"
           }
          ],
          "scattergeo": [
           {
            "marker": {
             "colorbar": {
              "outlinewidth": 0,
              "ticks": ""
             }
            },
            "type": "scattergeo"
           }
          ],
          "scattergl": [
           {
            "marker": {
             "colorbar": {
              "outlinewidth": 0,
              "ticks": ""
             }
            },
            "type": "scattergl"
           }
          ],
          "scattermapbox": [
           {
            "marker": {
             "colorbar": {
              "outlinewidth": 0,
              "ticks": ""
             }
            },
            "type": "scattermapbox"
           }
          ],
          "scatterpolar": [
           {
            "marker": {
             "colorbar": {
              "outlinewidth": 0,
              "ticks": ""
             }
            },
            "type": "scatterpolar"
           }
          ],
          "scatterpolargl": [
           {
            "marker": {
             "colorbar": {
              "outlinewidth": 0,
              "ticks": ""
             }
            },
            "type": "scatterpolargl"
           }
          ],
          "scatterternary": [
           {
            "marker": {
             "colorbar": {
              "outlinewidth": 0,
              "ticks": ""
             }
            },
            "type": "scatterternary"
           }
          ],
          "surface": [
           {
            "colorbar": {
             "outlinewidth": 0,
             "ticks": ""
            },
            "colorscale": [
             [
              0,
              "#0d0887"
             ],
             [
              0.1111111111111111,
              "#46039f"
             ],
             [
              0.2222222222222222,
              "#7201a8"
             ],
             [
              0.3333333333333333,
              "#9c179e"
             ],
             [
              0.4444444444444444,
              "#bd3786"
             ],
             [
              0.5555555555555556,
              "#d8576b"
             ],
             [
              0.6666666666666666,
              "#ed7953"
             ],
             [
              0.7777777777777778,
              "#fb9f3a"
             ],
             [
              0.8888888888888888,
              "#fdca26"
             ],
             [
              1,
              "#f0f921"
             ]
            ],
            "type": "surface"
           }
          ],
          "table": [
           {
            "cells": {
             "fill": {
              "color": "#EBF0F8"
             },
             "line": {
              "color": "white"
             }
            },
            "header": {
             "fill": {
              "color": "#C8D4E3"
             },
             "line": {
              "color": "white"
             }
            },
            "type": "table"
           }
          ]
         },
         "layout": {
          "annotationdefaults": {
           "arrowcolor": "#2a3f5f",
           "arrowhead": 0,
           "arrowwidth": 1
          },
          "autotypenumbers": "strict",
          "coloraxis": {
           "colorbar": {
            "outlinewidth": 0,
            "ticks": ""
           }
          },
          "colorscale": {
           "diverging": [
            [
             0,
             "#8e0152"
            ],
            [
             0.1,
             "#c51b7d"
            ],
            [
             0.2,
             "#de77ae"
            ],
            [
             0.3,
             "#f1b6da"
            ],
            [
             0.4,
             "#fde0ef"
            ],
            [
             0.5,
             "#f7f7f7"
            ],
            [
             0.6,
             "#e6f5d0"
            ],
            [
             0.7,
             "#b8e186"
            ],
            [
             0.8,
             "#7fbc41"
            ],
            [
             0.9,
             "#4d9221"
            ],
            [
             1,
             "#276419"
            ]
           ],
           "sequential": [
            [
             0,
             "#0d0887"
            ],
            [
             0.1111111111111111,
             "#46039f"
            ],
            [
             0.2222222222222222,
             "#7201a8"
            ],
            [
             0.3333333333333333,
             "#9c179e"
            ],
            [
             0.4444444444444444,
             "#bd3786"
            ],
            [
             0.5555555555555556,
             "#d8576b"
            ],
            [
             0.6666666666666666,
             "#ed7953"
            ],
            [
             0.7777777777777778,
             "#fb9f3a"
            ],
            [
             0.8888888888888888,
             "#fdca26"
            ],
            [
             1,
             "#f0f921"
            ]
           ],
           "sequentialminus": [
            [
             0,
             "#0d0887"
            ],
            [
             0.1111111111111111,
             "#46039f"
            ],
            [
             0.2222222222222222,
             "#7201a8"
            ],
            [
             0.3333333333333333,
             "#9c179e"
            ],
            [
             0.4444444444444444,
             "#bd3786"
            ],
            [
             0.5555555555555556,
             "#d8576b"
            ],
            [
             0.6666666666666666,
             "#ed7953"
            ],
            [
             0.7777777777777778,
             "#fb9f3a"
            ],
            [
             0.8888888888888888,
             "#fdca26"
            ],
            [
             1,
             "#f0f921"
            ]
           ]
          },
          "colorway": [
           "#636efa",
           "#EF553B",
           "#00cc96",
           "#ab63fa",
           "#FFA15A",
           "#19d3f3",
           "#FF6692",
           "#B6E880",
           "#FF97FF",
           "#FECB52"
          ],
          "font": {
           "color": "#2a3f5f"
          },
          "geo": {
           "bgcolor": "white",
           "lakecolor": "white",
           "landcolor": "#E5ECF6",
           "showlakes": true,
           "showland": true,
           "subunitcolor": "white"
          },
          "hoverlabel": {
           "align": "left"
          },
          "hovermode": "closest",
          "mapbox": {
           "style": "light"
          },
          "paper_bgcolor": "white",
          "plot_bgcolor": "#E5ECF6",
          "polar": {
           "angularaxis": {
            "gridcolor": "white",
            "linecolor": "white",
            "ticks": ""
           },
           "bgcolor": "#E5ECF6",
           "radialaxis": {
            "gridcolor": "white",
            "linecolor": "white",
            "ticks": ""
           }
          },
          "scene": {
           "xaxis": {
            "backgroundcolor": "#E5ECF6",
            "gridcolor": "white",
            "gridwidth": 2,
            "linecolor": "white",
            "showbackground": true,
            "ticks": "",
            "zerolinecolor": "white"
           },
           "yaxis": {
            "backgroundcolor": "#E5ECF6",
            "gridcolor": "white",
            "gridwidth": 2,
            "linecolor": "white",
            "showbackground": true,
            "ticks": "",
            "zerolinecolor": "white"
           },
           "zaxis": {
            "backgroundcolor": "#E5ECF6",
            "gridcolor": "white",
            "gridwidth": 2,
            "linecolor": "white",
            "showbackground": true,
            "ticks": "",
            "zerolinecolor": "white"
           }
          },
          "shapedefaults": {
           "line": {
            "color": "#2a3f5f"
           }
          },
          "ternary": {
           "aaxis": {
            "gridcolor": "white",
            "linecolor": "white",
            "ticks": ""
           },
           "baxis": {
            "gridcolor": "white",
            "linecolor": "white",
            "ticks": ""
           },
           "bgcolor": "#E5ECF6",
           "caxis": {
            "gridcolor": "white",
            "linecolor": "white",
            "ticks": ""
           }
          },
          "title": {
           "x": 0.05
          },
          "xaxis": {
           "automargin": true,
           "gridcolor": "white",
           "linecolor": "white",
           "ticks": "",
           "title": {
            "standoff": 15
           },
           "zerolinecolor": "white",
           "zerolinewidth": 2
          },
          "yaxis": {
           "automargin": true,
           "gridcolor": "white",
           "linecolor": "white",
           "ticks": "",
           "title": {
            "standoff": 15
           },
           "zerolinecolor": "white",
           "zerolinewidth": 2
          }
         }
        },
        "title": {
         "text": "AUC-ROC Model Evaluation",
         "x": 0.5,
         "xanchor": "center",
         "y": 0.9,
         "yanchor": "top"
        }
       }
      },
      "text/html": [
       "<div>                            <div id=\"551c48ba-1b51-4484-a267-ee7c41f814c2\" class=\"plotly-graph-div\" style=\"height:525px; width:100%;\"></div>            <script type=\"text/javascript\">                require([\"plotly\"], function(Plotly) {                    window.PLOTLYENV=window.PLOTLYENV || {};                                    if (document.getElementById(\"551c48ba-1b51-4484-a267-ee7c41f814c2\")) {                    Plotly.newPlot(                        \"551c48ba-1b51-4484-a267-ee7c41f814c2\",                        [{\"line\": {\"color\": \"teal\", \"shape\": \"spline\", \"width\": 2}, \"name\": \"Logistic Regression\", \"type\": \"scatter\", \"x\": [0.0, 0.0, 0.0, 0.0020533881, 0.0020533881, 0.0041067762, 0.0041067762, 0.006160164300000001, 0.006160164300000001, 0.0082135524, 0.0082135524, 0.0102669405, 0.0102669405, 0.0123203285, 0.0123203285, 0.014373716600000001, 0.014373716600000001, 0.0184804928, 0.0184804928, 0.0184804928, 0.0184804928, 0.0246406571, 0.0246406571, 0.0287474333, 0.0287474333, 0.0308008214, 0.0308008214, 0.0328542094, 0.0328542094, 0.0349075975, 0.0349075975, 0.0369609856, 0.0369609856, 0.0390143737, 0.0390143737, 0.0431211499, 0.0431211499, 0.045174538, 0.045174538, 0.047227926100000005, 0.047227926100000005, 0.0492813142, 0.0492813142, 0.0513347023, 0.0513347023, 0.0533880903, 0.0533880903, 0.0554414784, 0.0554414784, 0.0616016427, 0.0616016427, 0.0636550308, 0.0636550308, 0.0698151951, 0.0698151951, 0.0739219713, 0.0739219713, 0.0780287474, 0.0780287474, 0.0821355236, 0.0821355236, 0.0862422998, 0.0862422998, 0.0924024641, 0.0924024641, 0.09445585220000001, 0.09445585220000001, 0.0965092402, 0.0965092402, 0.10061601640000001, 0.10061601640000001, 0.1047227926, 0.1047227926, 0.1067761807, 0.1067761807, 0.11704312110000001, 0.11704312110000001, 0.1190965092, 0.1190965092, 0.1232032854, 0.1232032854, 0.1416837782, 0.1416837782, 0.1457905544, 0.1457905544, 0.15195071870000001, 0.15195071870000001, 0.1540041068, 0.1540041068, 0.1560574949, 0.1560574949, 0.16837782340000002, 0.16837782340000002, 0.16837782340000002, 0.1724845996, 0.1786447639, 0.1786447639, 0.18275154, 0.18275154, 0.1868583162, 0.1868583162, 0.1950718686, 0.1950718686, 0.1971252567, 0.1971252567, 0.2012320329, 0.2012320329, 0.2094455852, 0.2094455852, 0.2258726899, 0.2258726899, 0.227926078, 0.227926078, 0.2320328542, 0.2320328542, 0.2340862423, 0.23613963040000002, 0.23613963040000002, 0.2443531828, 0.2443531828, 0.2566735113, 0.2566735113, 0.2587268994, 0.2587268994, 0.2607802875, 0.2607802875, 0.2628336756, 0.2628336756, 0.26488706370000004, 0.26488706370000004, 0.2669404517, 0.2669404517, 0.273100616, 0.273100616, 0.2772073922, 0.2772073922, 0.2813141684, 0.2813141684, 0.2833675565, 0.2833675565, 0.2895277207, 0.2895277207, 0.2915811088, 0.2915811088, 0.2936344969, 0.2936344969, 0.29568788500000004, 0.29568788500000004, 0.3080082136, 0.3080082136, 0.3162217659, 0.3162217659, 0.3203285421, 0.3223819302, 0.3285420945, 0.33059548250000004, 0.33059548250000004, 0.3572895277, 0.3572895277, 0.36344969200000005, 0.3655030801, 0.37166324440000004, 0.37166324440000004, 0.386036961, 0.386036961, 0.3880903491, 0.3880903491, 0.4229979466, 0.4229979466, 0.4250513347, 0.4250513347, 0.4825462012, 0.4825462012, 0.4948665298, 0.4948665298, 0.5112936345, 0.5112936345, 0.5215605749000001, 0.5215605749000001, 0.5236139630000001, 0.5236139630000001, 0.5995893224000001, 0.5995893224000001, 0.6529774127, 0.6570841889, 0.704312115, 0.704312115, 0.7392197125000001, 0.7392197125000001, 0.7474332649000001, 0.7535934292, 0.7782340862, 0.7782340862, 0.7905544148, 0.7905544148, 0.7987679671, 0.7987679671, 0.8008213552000001, 0.8008213552000001, 0.9425051335, 0.9486652977000001, 0.9856262834, 0.9897330595, 1.0], \"y\": [0.0, 0.0053763441, 0.0376344086, 0.0430107527, 0.064516129, 0.064516129, 0.0752688172, 0.0752688172, 0.09677419350000001, 0.09677419350000001, 0.10215053760000001, 0.10215053760000001, 0.1290322581, 0.1290322581, 0.1344086022, 0.1344086022, 0.1505376344, 0.1505376344, 0.1774193548, 0.188172043, 0.2043010753, 0.2043010753, 0.21505376340000001, 0.21505376340000001, 0.2419354839, 0.2419354839, 0.27956989250000003, 0.27956989250000003, 0.29569892470000003, 0.29569892470000003, 0.3010752688, 0.3010752688, 0.3494623656, 0.3494623656, 0.35483870970000003, 0.35483870970000003, 0.3602150538, 0.3602150538, 0.3655913978, 0.3655913978, 0.3817204301, 0.3817204301, 0.3978494624, 0.3978494624, 0.4032258065, 0.4032258065, 0.4139784946, 0.4139784946, 0.4408602151, 0.4408602151, 0.4516129032, 0.4569892473, 0.4623655914, 0.4623655914, 0.46774193550000004, 0.46774193550000004, 0.4731182796, 0.4731182796, 0.4784946237, 0.4784946237, 0.48924731180000003, 0.48924731180000003, 0.5107526882, 0.5107526882, 0.5483870968, 0.5483870968, 0.5537634409000001, 0.5537634409000001, 0.5591397849, 0.5591397849, 0.564516129, 0.564516129, 0.5698924731, 0.5698924731, 0.5752688172, 0.5752688172, 0.5806451613, 0.5806451613, 0.5860215054, 0.5860215054, 0.5913978495000001, 0.5913978495000001, 0.6021505376, 0.6021505376, 0.6075268817, 0.6075268817, 0.6129032258, 0.6129032258, 0.6236559140000001, 0.6236559140000001, 0.6290322581000001, 0.6290322581000001, 0.6397849462, 0.6559139785, 0.6559139785, 0.6559139785, 0.6612903226, 0.6612903226, 0.6666666667000001, 0.6666666667000001, 0.6720430108000001, 0.6720430108000001, 0.6774193548, 0.6774193548, 0.6827956989, 0.6827956989, 0.7043010753000001, 0.7043010753000001, 0.7150537634, 0.7150537634, 0.7258064516, 0.7258064516, 0.7473118280000001, 0.7473118280000001, 0.752688172, 0.752688172, 0.7580645161, 0.7634408602, 0.7634408602, 0.7741935484, 0.7741935484, 0.7795698925000001, 0.7795698925000001, 0.7903225806, 0.7903225806, 0.7956989247, 0.7956989247, 0.8010752688, 0.8010752688, 0.8064516129, 0.8064516129, 0.8118279570000001, 0.8118279570000001, 0.8172043011, 0.8172043011, 0.8279569892, 0.8279569892, 0.8333333333, 0.8333333333, 0.8387096774, 0.8387096774, 0.8494623656, 0.8494623656, 0.8548387097, 0.8548387097, 0.8602150538000001, 0.8602150538000001, 0.8655913978, 0.8655913978, 0.8709677419, 0.8709677419, 0.876344086, 0.876344086, 0.8817204301, 0.8817204301, 0.8817204301, 0.8870967742, 0.8870967742, 0.8924731183, 0.8924731183, 0.8978494624000001, 0.8978494624000001, 0.9032258065000001, 0.9032258065000001, 0.9086021505, 0.9086021505, 0.9193548387, 0.9193548387, 0.9247311828, 0.9247311828, 0.9301075269, 0.9301075269, 0.9354838710000001, 0.9354838710000001, 0.9462365591, 0.9462365591, 0.9516129032, 0.9516129032, 0.9569892473, 0.9569892473, 0.9623655914, 0.9623655914, 0.9677419355, 0.9677419355, 0.9677419355, 0.9677419355, 0.9731182796000001, 0.9731182796000001, 0.9784946237000001, 0.9784946237000001, 0.9784946237000001, 0.9784946237000001, 0.9838709677, 0.9838709677, 0.9892473118, 0.9892473118, 0.9946236559, 0.9946236559, 1.0, 1.0, 1.0, 1.0, 1.0, 1.0]}, {\"line\": {\"color\": \"royalblue\", \"shape\": \"spline\", \"width\": 2}, \"name\": \"Random Forest\", \"type\": \"scatter\", \"x\": [0.0, 0.0, 0.0, 0.0, 0.0, 0.0020533881, 0.0020533881, 0.0041067762, 0.0041067762, 0.006160164300000001, 0.006160164300000001, 0.0082135524, 0.0082135524, 0.0102669405, 0.0102669405, 0.0123203285, 0.0123203285, 0.014373716600000001, 0.014373716600000001, 0.0164271047, 0.0164271047, 0.022587269, 0.022587269, 0.0246406571, 0.0246406571, 0.026694045200000002, 0.026694045200000002, 0.0287474333, 0.0308008214, 0.0328542094, 0.0328542094, 0.0349075975, 0.0349075975, 0.0369609856, 0.0369609856, 0.0410677618, 0.0410677618, 0.045174538, 0.045174538, 0.047227926100000005, 0.047227926100000005, 0.0492813142, 0.0492813142, 0.0513347023, 0.0513347023, 0.0554414784, 0.0554414784, 0.057494866500000005, 0.0616016427, 0.0616016427, 0.0657084189, 0.0657084189, 0.06776180700000001, 0.06776180700000001, 0.0739219713, 0.0739219713, 0.0759753593, 0.0759753593, 0.0780287474, 0.0780287474, 0.0800821355, 0.0800821355, 0.0821355236, 0.0821355236, 0.08418891170000001, 0.08418891170000001, 0.0862422998, 0.0862422998, 0.090349076, 0.090349076, 0.09445585220000001, 0.09445585220000001, 0.09445585220000001, 0.10061601640000001, 0.10061601640000001, 0.1026694045, 0.1026694045, 0.1067761807, 0.1067761807, 0.11704312110000001, 0.11704312110000001, 0.1190965092, 0.1211498973, 0.1314168378, 0.1314168378, 0.1396303901, 0.1396303901, 0.1478439425, 0.1478439425, 0.1540041068, 0.1540041068, 0.160164271, 0.160164271, 0.1765913758, 0.1765913758, 0.18480492810000002, 0.18480492810000002, 0.1868583162, 0.1868583162, 0.1909650924, 0.1909650924, 0.1930184805, 0.1930184805, 0.2032854209, 0.2032854209, 0.205338809, 0.205338809, 0.2094455852, 0.2094455852, 0.2135523614, 0.2135523614, 0.2156057495, 0.2156057495, 0.2176591376, 0.2176591376, 0.22176591380000002, 0.22176591380000002, 0.227926078, 0.227926078, 0.2340862423, 0.2340862423, 0.24024640660000002, 0.2443531828, 0.250513347, 0.250513347, 0.2525667351, 0.2525667351, 0.2628336756, 0.2628336756, 0.2710472279, 0.2710472279, 0.2710472279, 0.273100616, 0.273100616, 0.2792607803, 0.2792607803, 0.2874743326, 0.2874743326, 0.2895277207, 0.2895277207, 0.2936344969, 0.2936344969, 0.30390143740000003, 0.3080082136, 0.318275154, 0.318275154, 0.3203285421, 0.3203285421, 0.3223819302, 0.3223819302, 0.33675564680000003, 0.33675564680000003, 0.3449691992, 0.3449691992, 0.3470225873, 0.3470225873, 0.3798767967, 0.3798767967, 0.3819301848, 0.3819301848, 0.40657084190000004, 0.40657084190000004, 0.4168377823, 0.4168377823, 0.4291581109, 0.4291581109, 0.4353182752, 0.4353182752, 0.4620123203, 0.4620123203, 0.4661190965, 0.4661190965, 0.4681724846, 0.4681724846, 0.47843942510000004, 0.47843942510000004, 0.4887063655, 0.4887063655, 0.5051334702, 0.5051334702, 0.5852156057, 0.5852156057, 0.5893223819, 0.5893223819, 0.6016427105000001, 0.6016427105000001, 0.6488706366, 0.6488706366, 0.6899383984, 0.6899383984, 0.7227926078, 0.7268993840000001, 0.7330595483, 0.7371663244000001, 0.7412731006000001, 0.7453798768000001, 0.7515400411000001, 0.7556468172, 0.772073922, 0.7761806982, 0.7843942505, 0.8049281314000001, 0.8069815195000001, 0.8069815195000001, 0.8090349076000001, 0.8151950719000001, 0.8275154004, 0.8316221766, 0.8439425051, 0.8480492813, 0.8542094456, 0.8583162218, 0.8665297741, 0.8726899384000001, 0.8747433265000001, 0.8788501027000001, 0.8788501027000001, 0.8850102669000001, 0.8932238193, 0.8952772074, 0.8993839836, 0.9014373717, 0.9158110883, 0.9178644764, 0.9219712526, 0.9240246407, 1.0], \"y\": [0.0, 0.0053763441, 0.016129032300000002, 0.0268817204, 0.0322580645, 0.0322580645, 0.0430107527, 0.0430107527, 0.0483870968, 0.0483870968, 0.0913978495, 0.0913978495, 0.09677419350000001, 0.09677419350000001, 0.1182795699, 0.1182795699, 0.1505376344, 0.1505376344, 0.1720430108, 0.1720430108, 0.1827956989, 0.1827956989, 0.188172043, 0.188172043, 0.2043010753, 0.2043010753, 0.2096774194, 0.2096774194, 0.21505376340000001, 0.21505376340000001, 0.2634408602, 0.2688172043, 0.2849462366, 0.2903225806, 0.29569892470000003, 0.29569892470000003, 0.31720430110000003, 0.31720430110000003, 0.33333333330000003, 0.33333333330000003, 0.3387096774, 0.3387096774, 0.35483870970000003, 0.35483870970000003, 0.3602150538, 0.3602150538, 0.3655913978, 0.37096774190000004, 0.37096774190000004, 0.3978494624, 0.3978494624, 0.4032258065, 0.4032258065, 0.4193548387, 0.4193548387, 0.4247311828, 0.4247311828, 0.44623655910000004, 0.44623655910000004, 0.4569892473, 0.4569892473, 0.48387096770000004, 0.48387096770000004, 0.48924731180000003, 0.48924731180000003, 0.4946236559, 0.4946236559, 0.5376344086, 0.5376344086, 0.5430107527, 0.5430107527, 0.564516129, 0.5698924731, 0.5698924731, 0.5860215054, 0.5860215054, 0.6021505376, 0.6021505376, 0.6129032258, 0.6129032258, 0.6182795699, 0.6182795699, 0.6236559140000001, 0.6236559140000001, 0.6344086022000001, 0.6344086022000001, 0.6451612903, 0.6451612903, 0.6505376344, 0.6505376344, 0.6559139785, 0.6559139785, 0.6666666667000001, 0.6666666667000001, 0.6827956989, 0.6827956989, 0.6935483871, 0.6935483871, 0.7043010753000001, 0.7043010753000001, 0.7096774194000001, 0.7096774194000001, 0.7204301075, 0.7204301075, 0.7258064516, 0.7258064516, 0.7311827957, 0.7311827957, 0.7419354839000001, 0.7419354839000001, 0.7473118280000001, 0.7473118280000001, 0.752688172, 0.752688172, 0.7580645161, 0.7580645161, 0.7634408602, 0.7634408602, 0.7688172043, 0.7688172043, 0.7741935484, 0.7741935484, 0.7741935484, 0.7741935484, 0.7795698925000001, 0.7795698925000001, 0.7903225806, 0.7903225806, 0.7956989247, 0.7956989247, 0.8010752688, 0.8118279570000001, 0.8118279570000001, 0.8172043011, 0.8172043011, 0.8225806452000001, 0.8225806452000001, 0.8279569892, 0.8279569892, 0.8333333333, 0.8333333333, 0.8387096774, 0.8387096774, 0.8387096774, 0.8387096774, 0.8494623656, 0.8548387097, 0.8602150538000001, 0.8602150538000001, 0.8655913978, 0.8655913978, 0.8709677419, 0.8709677419, 0.876344086, 0.876344086, 0.8817204301, 0.8817204301, 0.8870967742, 0.8870967742, 0.8924731183, 0.8924731183, 0.8978494624000001, 0.8978494624000001, 0.9086021505, 0.9086021505, 0.9139784946, 0.9139784946, 0.9247311828, 0.9247311828, 0.9354838710000001, 0.9354838710000001, 0.9408602151000001, 0.9408602151000001, 0.9462365591, 0.9462365591, 0.9516129032, 0.9516129032, 0.9569892473, 0.9569892473, 0.9623655914, 0.9623655914, 0.9677419355, 0.9677419355, 0.9731182796000001, 0.9731182796000001, 0.9784946237000001, 0.9784946237000001, 0.9838709677, 0.9838709677, 0.9892473118, 0.9892473118, 0.9892473118, 0.9892473118, 0.9892473118, 0.9892473118, 0.9892473118, 0.9892473118, 0.9892473118, 0.9892473118, 0.9892473118, 0.9892473118, 0.9892473118, 0.9892473118, 0.9946236559, 0.9946236559, 0.9946236559, 0.9946236559, 0.9946236559, 0.9946236559, 0.9946236559, 0.9946236559, 0.9946236559, 0.9946236559, 0.9946236559, 0.9946236559, 0.9946236559, 1.0, 1.0, 1.0, 1.0, 1.0, 1.0, 1.0, 1.0, 1.0, 1.0, 1.0]}, {\"line\": {\"color\": \"orange\", \"shape\": \"spline\", \"width\": 2}, \"name\": \"Support Vector Machine\", \"type\": \"scatter\", \"x\": [0.0, 0.0, 0.0, 0.0020533881, 0.0020533881, 0.0041067762, 0.0041067762, 0.0123203285, 0.0123203285, 0.014373716600000001, 0.014373716600000001, 0.0164271047, 0.0164271047, 0.0184804928, 0.0184804928, 0.0205338809, 0.0205338809, 0.022587269, 0.022587269, 0.0246406571, 0.0246406571, 0.0328542094, 0.0328542094, 0.0369609856, 0.0369609856, 0.0390143737, 0.0390143737, 0.0410677618, 0.0410677618, 0.045174538, 0.045174538, 0.0492813142, 0.0492813142, 0.0513347023, 0.0513347023, 0.0533880903, 0.0533880903, 0.0554414784, 0.0554414784, 0.0595482546, 0.0595482546, 0.0616016427, 0.0616016427, 0.0636550308, 0.0636550308, 0.0657084189, 0.0657084189, 0.06776180700000001, 0.06776180700000001, 0.0739219713, 0.0739219713, 0.0759753593, 0.0759753593, 0.0780287474, 0.0780287474, 0.0862422998, 0.0862422998, 0.0882956879, 0.0882956879, 0.09445585220000001, 0.09856262830000001, 0.1047227926, 0.1047227926, 0.1067761807, 0.1067761807, 0.1088295688, 0.1088295688, 0.1149897331, 0.1149897331, 0.1211498973, 0.1211498973, 0.1252566735, 0.1252566735, 0.1273100616, 0.1273100616, 0.1314168378, 0.1314168378, 0.13552361400000001, 0.13552361400000001, 0.1396303901, 0.1396303901, 0.1540041068, 0.1540041068, 0.160164271, 0.160164271, 0.16632443530000002, 0.16632443530000002, 0.16837782340000002, 0.16837782340000002, 0.1745379877, 0.1745379877, 0.1765913758, 0.1765913758, 0.1786447639, 0.1786447639, 0.1868583162, 0.1868583162, 0.1889117043, 0.1889117043, 0.1909650924, 0.1909650924, 0.1950718686, 0.1950718686, 0.2094455852, 0.2094455852, 0.2176591376, 0.2176591376, 0.2197125257, 0.2197125257, 0.22176591380000002, 0.22176591380000002, 0.2238193018, 0.2238193018, 0.2258726899, 0.2258726899, 0.2258726899, 0.2258726899, 0.227926078, 0.227926078, 0.2299794661, 0.2299794661, 0.23613963040000002, 0.23613963040000002, 0.24229979470000002, 0.24229979470000002, 0.2464065708, 0.2464065708, 0.26488706370000004, 0.26488706370000004, 0.2669404517, 0.2669404517, 0.2689938398, 0.2689938398, 0.2772073922, 0.2772073922, 0.2792607803, 0.2792607803, 0.2854209446, 0.2854209446, 0.2895277207, 0.2895277207, 0.2915811088, 0.2915811088, 0.3080082136, 0.3080082136, 0.3264887064, 0.3264887064, 0.3285420945, 0.3285420945, 0.3613963039, 0.3613963039, 0.36344969200000005, 0.36344969200000005, 0.36960985630000004, 0.36960985630000004, 0.3757700205, 0.3757700205, 0.40246406570000004, 0.40246406570000004, 0.40451745380000004, 0.40451745380000004, 0.4250513347, 0.4250513347, 0.4291581109, 0.4291581109, 0.44147843940000003, 0.44147843940000003, 0.47227926080000004, 0.47227926080000004, 0.4825462012, 0.4825462012, 0.5256673511000001, 0.5256673511000001, 0.5379876797, 0.5379876797, 0.546201232, 0.546201232, 0.59137577, 0.59137577, 0.6078028747, 0.6078028747, 0.6119096509, 0.6119096509, 0.6570841889, 0.6570841889, 0.6899383984, 0.6899383984, 0.8069815195000001, 0.8069815195000001, 0.8870636550000001, 0.8870636550000001, 0.8891170431000001, 0.8891170431000001, 0.9014373717, 0.9014373717, 1.0], \"y\": [0.0, 0.0053763441, 0.0376344086, 0.0376344086, 0.0698924731, 0.0698924731, 0.10215053760000001, 0.10215053760000001, 0.1129032258, 0.1129032258, 0.123655914, 0.123655914, 0.1451612903, 0.1451612903, 0.1666666667, 0.1666666667, 0.1827956989, 0.1827956989, 0.2258064516, 0.2258064516, 0.2634408602, 0.2634408602, 0.27956989250000003, 0.27956989250000003, 0.2849462366, 0.2849462366, 0.31182795700000004, 0.31182795700000004, 0.31720430110000003, 0.31720430110000003, 0.33333333330000003, 0.33333333330000003, 0.3387096774, 0.3387096774, 0.3602150538, 0.3602150538, 0.3655913978, 0.3655913978, 0.4032258065, 0.4032258065, 0.4193548387, 0.4193548387, 0.43010752690000004, 0.43010752690000004, 0.435483871, 0.435483871, 0.4408602151, 0.4408602151, 0.4516129032, 0.4516129032, 0.4569892473, 0.4569892473, 0.46774193550000004, 0.46774193550000004, 0.4784946237, 0.4784946237, 0.48387096770000004, 0.48387096770000004, 0.4946236559, 0.4946236559, 0.5161290323000001, 0.5161290323000001, 0.5215053763, 0.5215053763, 0.5376344086, 0.5376344086, 0.5430107527, 0.5430107527, 0.5483870968, 0.5483870968, 0.5537634409000001, 0.5537634409000001, 0.5591397849, 0.5591397849, 0.5752688172, 0.5752688172, 0.5806451613, 0.5806451613, 0.5860215054, 0.5860215054, 0.5913978495000001, 0.5913978495000001, 0.5967741935, 0.5967741935, 0.6021505376, 0.6021505376, 0.6075268817, 0.6075268817, 0.6129032258, 0.6129032258, 0.6182795699, 0.6182795699, 0.6236559140000001, 0.6236559140000001, 0.6290322581000001, 0.6290322581000001, 0.6344086022000001, 0.6344086022000001, 0.6397849462, 0.6397849462, 0.6451612903, 0.6451612903, 0.6612903226, 0.6612903226, 0.6666666667000001, 0.6666666667000001, 0.6720430108000001, 0.6720430108000001, 0.6774193548, 0.6774193548, 0.688172043, 0.688172043, 0.6935483871, 0.6935483871, 0.6989247312, 0.7096774194000001, 0.7258064516, 0.7258064516, 0.7473118280000001, 0.7473118280000001, 0.7580645161, 0.7580645161, 0.7634408602, 0.7634408602, 0.7741935484, 0.7741935484, 0.7795698925000001, 0.7795698925000001, 0.7849462366000001, 0.7849462366000001, 0.7903225806, 0.7903225806, 0.7956989247, 0.7956989247, 0.8064516129, 0.8064516129, 0.8225806452000001, 0.8225806452000001, 0.8279569892, 0.8279569892, 0.8333333333, 0.8333333333, 0.8387096774, 0.8387096774, 0.8440860215, 0.8440860215, 0.8548387097, 0.8548387097, 0.8602150538000001, 0.8602150538000001, 0.8655913978, 0.8655913978, 0.876344086, 0.876344086, 0.8817204301, 0.8817204301, 0.8870967742, 0.8870967742, 0.8924731183, 0.8924731183, 0.8978494624000001, 0.8978494624000001, 0.9032258065000001, 0.9032258065000001, 0.9086021505, 0.9086021505, 0.9139784946, 0.9139784946, 0.9193548387, 0.9193548387, 0.9247311828, 0.9247311828, 0.9301075269, 0.9301075269, 0.9354838710000001, 0.9354838710000001, 0.9408602151000001, 0.9408602151000001, 0.9516129032, 0.9516129032, 0.9623655914, 0.9623655914, 0.9677419355, 0.9677419355, 0.9731182796000001, 0.9731182796000001, 0.9784946237000001, 0.9784946237000001, 0.9838709677, 0.9838709677, 0.9892473118, 0.9892473118, 0.9946236559, 0.9946236559, 1.0, 1.0]}, {\"line\": {\"color\": \"firebrick\", \"dash\": \"dash\", \"width\": 4}, \"name\": \"Random Gues\", \"type\": \"scatter\", \"x\": [0.0, 1.0], \"y\": [0.0, 1.0]}],                        {\"autosize\": true, \"legend\": {\"x\": 0.95, \"xanchor\": \"right\", \"y\": 0.05, \"yanchor\": \"bottom\"}, \"margin\": {\"b\": 0, \"l\": 0, \"r\": 0, \"t\": 70}, \"template\": {\"data\": {\"bar\": [{\"error_x\": {\"color\": \"#2a3f5f\"}, \"error_y\": {\"color\": \"#2a3f5f\"}, \"marker\": {\"line\": {\"color\": \"#E5ECF6\", \"width\": 0.5}}, \"type\": \"bar\"}], \"barpolar\": [{\"marker\": {\"line\": {\"color\": \"#E5ECF6\", \"width\": 0.5}}, \"type\": \"barpolar\"}], \"carpet\": [{\"aaxis\": {\"endlinecolor\": \"#2a3f5f\", \"gridcolor\": \"white\", \"linecolor\": \"white\", \"minorgridcolor\": \"white\", \"startlinecolor\": \"#2a3f5f\"}, \"baxis\": {\"endlinecolor\": \"#2a3f5f\", \"gridcolor\": \"white\", \"linecolor\": \"white\", \"minorgridcolor\": \"white\", \"startlinecolor\": \"#2a3f5f\"}, \"type\": \"carpet\"}], \"choropleth\": [{\"colorbar\": {\"outlinewidth\": 0, \"ticks\": \"\"}, \"type\": \"choropleth\"}], \"contour\": [{\"colorbar\": {\"outlinewidth\": 0, \"ticks\": \"\"}, \"colorscale\": [[0.0, \"#0d0887\"], [0.1111111111111111, \"#46039f\"], [0.2222222222222222, \"#7201a8\"], [0.3333333333333333, \"#9c179e\"], [0.4444444444444444, \"#bd3786\"], [0.5555555555555556, \"#d8576b\"], [0.6666666666666666, \"#ed7953\"], [0.7777777777777778, \"#fb9f3a\"], [0.8888888888888888, \"#fdca26\"], [1.0, \"#f0f921\"]], \"type\": \"contour\"}], \"contourcarpet\": [{\"colorbar\": {\"outlinewidth\": 0, \"ticks\": \"\"}, \"type\": \"contourcarpet\"}], \"heatmap\": [{\"colorbar\": {\"outlinewidth\": 0, \"ticks\": \"\"}, \"colorscale\": [[0.0, \"#0d0887\"], [0.1111111111111111, \"#46039f\"], [0.2222222222222222, \"#7201a8\"], [0.3333333333333333, \"#9c179e\"], [0.4444444444444444, \"#bd3786\"], [0.5555555555555556, \"#d8576b\"], [0.6666666666666666, \"#ed7953\"], [0.7777777777777778, \"#fb9f3a\"], [0.8888888888888888, \"#fdca26\"], [1.0, \"#f0f921\"]], \"type\": \"heatmap\"}], \"heatmapgl\": [{\"colorbar\": {\"outlinewidth\": 0, \"ticks\": \"\"}, \"colorscale\": [[0.0, \"#0d0887\"], [0.1111111111111111, \"#46039f\"], [0.2222222222222222, \"#7201a8\"], [0.3333333333333333, \"#9c179e\"], [0.4444444444444444, \"#bd3786\"], [0.5555555555555556, \"#d8576b\"], [0.6666666666666666, \"#ed7953\"], [0.7777777777777778, \"#fb9f3a\"], [0.8888888888888888, \"#fdca26\"], [1.0, \"#f0f921\"]], \"type\": \"heatmapgl\"}], \"histogram\": [{\"marker\": {\"colorbar\": {\"outlinewidth\": 0, \"ticks\": \"\"}}, \"type\": \"histogram\"}], \"histogram2d\": [{\"colorbar\": {\"outlinewidth\": 0, \"ticks\": \"\"}, \"colorscale\": [[0.0, \"#0d0887\"], [0.1111111111111111, \"#46039f\"], [0.2222222222222222, \"#7201a8\"], [0.3333333333333333, \"#9c179e\"], [0.4444444444444444, \"#bd3786\"], [0.5555555555555556, \"#d8576b\"], [0.6666666666666666, \"#ed7953\"], [0.7777777777777778, \"#fb9f3a\"], [0.8888888888888888, \"#fdca26\"], [1.0, \"#f0f921\"]], \"type\": \"histogram2d\"}], \"histogram2dcontour\": [{\"colorbar\": {\"outlinewidth\": 0, \"ticks\": \"\"}, \"colorscale\": [[0.0, \"#0d0887\"], [0.1111111111111111, \"#46039f\"], [0.2222222222222222, \"#7201a8\"], [0.3333333333333333, \"#9c179e\"], [0.4444444444444444, \"#bd3786\"], [0.5555555555555556, \"#d8576b\"], [0.6666666666666666, \"#ed7953\"], [0.7777777777777778, \"#fb9f3a\"], [0.8888888888888888, \"#fdca26\"], [1.0, \"#f0f921\"]], \"type\": \"histogram2dcontour\"}], \"mesh3d\": [{\"colorbar\": {\"outlinewidth\": 0, \"ticks\": \"\"}, \"type\": \"mesh3d\"}], \"parcoords\": [{\"line\": {\"colorbar\": {\"outlinewidth\": 0, \"ticks\": \"\"}}, \"type\": \"parcoords\"}], \"pie\": [{\"automargin\": true, \"type\": \"pie\"}], \"scatter\": [{\"marker\": {\"colorbar\": {\"outlinewidth\": 0, \"ticks\": \"\"}}, \"type\": \"scatter\"}], \"scatter3d\": [{\"line\": {\"colorbar\": {\"outlinewidth\": 0, \"ticks\": \"\"}}, \"marker\": {\"colorbar\": {\"outlinewidth\": 0, \"ticks\": \"\"}}, \"type\": \"scatter3d\"}], \"scattercarpet\": [{\"marker\": {\"colorbar\": {\"outlinewidth\": 0, \"ticks\": \"\"}}, \"type\": \"scattercarpet\"}], \"scattergeo\": [{\"marker\": {\"colorbar\": {\"outlinewidth\": 0, \"ticks\": \"\"}}, \"type\": \"scattergeo\"}], \"scattergl\": [{\"marker\": {\"colorbar\": {\"outlinewidth\": 0, \"ticks\": \"\"}}, \"type\": \"scattergl\"}], \"scattermapbox\": [{\"marker\": {\"colorbar\": {\"outlinewidth\": 0, \"ticks\": \"\"}}, \"type\": \"scattermapbox\"}], \"scatterpolar\": [{\"marker\": {\"colorbar\": {\"outlinewidth\": 0, \"ticks\": \"\"}}, \"type\": \"scatterpolar\"}], \"scatterpolargl\": [{\"marker\": {\"colorbar\": {\"outlinewidth\": 0, \"ticks\": \"\"}}, \"type\": \"scatterpolargl\"}], \"scatterternary\": [{\"marker\": {\"colorbar\": {\"outlinewidth\": 0, \"ticks\": \"\"}}, \"type\": \"scatterternary\"}], \"surface\": [{\"colorbar\": {\"outlinewidth\": 0, \"ticks\": \"\"}, \"colorscale\": [[0.0, \"#0d0887\"], [0.1111111111111111, \"#46039f\"], [0.2222222222222222, \"#7201a8\"], [0.3333333333333333, \"#9c179e\"], [0.4444444444444444, \"#bd3786\"], [0.5555555555555556, \"#d8576b\"], [0.6666666666666666, \"#ed7953\"], [0.7777777777777778, \"#fb9f3a\"], [0.8888888888888888, \"#fdca26\"], [1.0, \"#f0f921\"]], \"type\": \"surface\"}], \"table\": [{\"cells\": {\"fill\": {\"color\": \"#EBF0F8\"}, \"line\": {\"color\": \"white\"}}, \"header\": {\"fill\": {\"color\": \"#C8D4E3\"}, \"line\": {\"color\": \"white\"}}, \"type\": \"table\"}]}, \"layout\": {\"annotationdefaults\": {\"arrowcolor\": \"#2a3f5f\", \"arrowhead\": 0, \"arrowwidth\": 1}, \"autotypenumbers\": \"strict\", \"coloraxis\": {\"colorbar\": {\"outlinewidth\": 0, \"ticks\": \"\"}}, \"colorscale\": {\"diverging\": [[0, \"#8e0152\"], [0.1, \"#c51b7d\"], [0.2, \"#de77ae\"], [0.3, \"#f1b6da\"], [0.4, \"#fde0ef\"], [0.5, \"#f7f7f7\"], [0.6, \"#e6f5d0\"], [0.7, \"#b8e186\"], [0.8, \"#7fbc41\"], [0.9, \"#4d9221\"], [1, \"#276419\"]], \"sequential\": [[0.0, \"#0d0887\"], [0.1111111111111111, \"#46039f\"], [0.2222222222222222, \"#7201a8\"], [0.3333333333333333, \"#9c179e\"], [0.4444444444444444, \"#bd3786\"], [0.5555555555555556, \"#d8576b\"], [0.6666666666666666, \"#ed7953\"], [0.7777777777777778, \"#fb9f3a\"], [0.8888888888888888, \"#fdca26\"], [1.0, \"#f0f921\"]], \"sequentialminus\": [[0.0, \"#0d0887\"], [0.1111111111111111, \"#46039f\"], [0.2222222222222222, \"#7201a8\"], [0.3333333333333333, \"#9c179e\"], [0.4444444444444444, \"#bd3786\"], [0.5555555555555556, \"#d8576b\"], [0.6666666666666666, \"#ed7953\"], [0.7777777777777778, \"#fb9f3a\"], [0.8888888888888888, \"#fdca26\"], [1.0, \"#f0f921\"]]}, \"colorway\": [\"#636efa\", \"#EF553B\", \"#00cc96\", \"#ab63fa\", \"#FFA15A\", \"#19d3f3\", \"#FF6692\", \"#B6E880\", \"#FF97FF\", \"#FECB52\"], \"font\": {\"color\": \"#2a3f5f\"}, \"geo\": {\"bgcolor\": \"white\", \"lakecolor\": \"white\", \"landcolor\": \"#E5ECF6\", \"showlakes\": true, \"showland\": true, \"subunitcolor\": \"white\"}, \"hoverlabel\": {\"align\": \"left\"}, \"hovermode\": \"closest\", \"mapbox\": {\"style\": \"light\"}, \"paper_bgcolor\": \"white\", \"plot_bgcolor\": \"#E5ECF6\", \"polar\": {\"angularaxis\": {\"gridcolor\": \"white\", \"linecolor\": \"white\", \"ticks\": \"\"}, \"bgcolor\": \"#E5ECF6\", \"radialaxis\": {\"gridcolor\": \"white\", \"linecolor\": \"white\", \"ticks\": \"\"}}, \"scene\": {\"xaxis\": {\"backgroundcolor\": \"#E5ECF6\", \"gridcolor\": \"white\", \"gridwidth\": 2, \"linecolor\": \"white\", \"showbackground\": true, \"ticks\": \"\", \"zerolinecolor\": \"white\"}, \"yaxis\": {\"backgroundcolor\": \"#E5ECF6\", \"gridcolor\": \"white\", \"gridwidth\": 2, \"linecolor\": \"white\", \"showbackground\": true, \"ticks\": \"\", \"zerolinecolor\": \"white\"}, \"zaxis\": {\"backgroundcolor\": \"#E5ECF6\", \"gridcolor\": \"white\", \"gridwidth\": 2, \"linecolor\": \"white\", \"showbackground\": true, \"ticks\": \"\", \"zerolinecolor\": \"white\"}}, \"shapedefaults\": {\"line\": {\"color\": \"#2a3f5f\"}}, \"ternary\": {\"aaxis\": {\"gridcolor\": \"white\", \"linecolor\": \"white\", \"ticks\": \"\"}, \"baxis\": {\"gridcolor\": \"white\", \"linecolor\": \"white\", \"ticks\": \"\"}, \"bgcolor\": \"#E5ECF6\", \"caxis\": {\"gridcolor\": \"white\", \"linecolor\": \"white\", \"ticks\": \"\"}}, \"title\": {\"x\": 0.05}, \"xaxis\": {\"automargin\": true, \"gridcolor\": \"white\", \"linecolor\": \"white\", \"ticks\": \"\", \"title\": {\"standoff\": 15}, \"zerolinecolor\": \"white\", \"zerolinewidth\": 2}, \"yaxis\": {\"automargin\": true, \"gridcolor\": \"white\", \"linecolor\": \"white\", \"ticks\": \"\", \"title\": {\"standoff\": 15}, \"zerolinecolor\": \"white\", \"zerolinewidth\": 2}}}, \"title\": {\"text\": \"AUC-ROC Model Evaluation\", \"x\": 0.5, \"xanchor\": \"center\", \"y\": 0.9, \"yanchor\": \"top\"}},                        {\"responsive\": true}                    ).then(function(){\n",
       "                            \n",
       "var gd = document.getElementById('551c48ba-1b51-4484-a267-ee7c41f814c2');\n",
       "var x = new MutationObserver(function (mutations, observer) {{\n",
       "        var display = window.getComputedStyle(gd).display;\n",
       "        if (!display || display === 'none') {{\n",
       "            console.log([gd, 'removed!']);\n",
       "            Plotly.purge(gd);\n",
       "            observer.disconnect();\n",
       "        }}\n",
       "}});\n",
       "\n",
       "// Listen for the removal of the full notebook cells\n",
       "var notebookContainer = gd.closest('#notebook-container');\n",
       "if (notebookContainer) {{\n",
       "    x.observe(notebookContainer, {childList: true});\n",
       "}}\n",
       "\n",
       "// Listen for the clearing of the current output cell\n",
       "var outputEl = gd.closest('.output');\n",
       "if (outputEl) {{\n",
       "    x.observe(outputEl, {childList: true});\n",
       "}}\n",
       "\n",
       "                        })                };                });            </script>        </div>"
      ]
     },
     "metadata": {},
     "output_type": "display_data"
    }
   ],
   "source": [
    "uac_roc_fig = go.Figure()\n",
    "uac_roc_fig.add_trace(go.Scatter(x=uac_roc_df['Logistic Regression FPR'][0], y=uac_roc_df['Logistic Regression TPR'][0],name='Logistic Regression',\n",
    "                                line = dict(color='teal', width=2),line_shape='spline'))\n",
    "uac_roc_fig.add_trace(go.Scatter(x=uac_roc_df['Random Forest FPR'][0], y=uac_roc_df['Random Forest TPR'][0],name='Random Forest',\n",
    "                                line = dict(color='royalblue', width=2),line_shape='spline'))\n",
    "uac_roc_fig.add_trace(go.Scatter(x=uac_roc_df['Support Vector Machine FPR'][0], y=uac_roc_df['Support Vector Machine TPR'][0],name='Support Vector Machine',\n",
    "                                line = dict(color='orange', width=2),line_shape='spline'))\n",
    "uac_roc_fig.add_trace(go.Scatter(x=np.array([0., 1.]), y=np.array([0., 1.]),name='Random Gues',\n",
    "                                line = dict(color='firebrick', width=4, dash='dash')))\n",
    "uac_roc_fig.update_layout(title={'text': 'AUC-ROC Model Evaluation','y':0.9,'x':0.5, 'xanchor': 'center','yanchor': 'top'},\n",
    "                          legend=dict(yanchor=\"bottom\",y=0.05,xanchor=\"right\",x=0.95),autosize=True,margin=dict(t=70,b=0,l=0,r=0))\n",
    "uac_roc_fig.show()"
   ]
  },
  {
   "cell_type": "markdown",
   "metadata": {},
   "source": [
    "## Model Prediction"
   ]
  },
  {
   "cell_type": "code",
   "execution_count": 89,
   "metadata": {},
   "outputs": [
    {
     "data": {
      "text/plain": [
       "Index(['Contract_Month-to-month', 'Contract_One year', 'Contract_Two year',\n",
       "       'Dependents_No', 'Dependents_Yes', 'DeviceProtection_No',\n",
       "       'DeviceProtection_No internet service', 'DeviceProtection_Yes',\n",
       "       'InternetService_DSL', 'InternetService_Fiber optic',\n",
       "       'InternetService_No', 'MonthlyCharges', 'MultipleLines_No',\n",
       "       'MultipleLines_No phone service', 'MultipleLines_Yes',\n",
       "       'OnlineBackup_No', 'OnlineBackup_No internet service',\n",
       "       'OnlineBackup_Yes', 'OnlineSecurity_No',\n",
       "       'OnlineSecurity_No internet service', 'OnlineSecurity_Yes',\n",
       "       'PaperlessBilling_No', 'PaperlessBilling_Yes', 'Partner_No',\n",
       "       'Partner_Yes', 'PaymentMethod_Bank transfer (automatic)',\n",
       "       'PaymentMethod_Credit card (automatic)',\n",
       "       'PaymentMethod_Electronic check', 'PaymentMethod_Mailed check',\n",
       "       'PhoneService_No', 'PhoneService_Yes', 'SeniorCitizen_0.0',\n",
       "       'SeniorCitizen_1.0', 'StreamingMovies_No',\n",
       "       'StreamingMovies_No internet service', 'StreamingMovies_Yes',\n",
       "       'StreamingTV_No', 'StreamingTV_No internet service', 'StreamingTV_Yes',\n",
       "       'TechSupport_No', 'TechSupport_No internet service', 'TechSupport_Yes',\n",
       "       'TotalCharges', 'gender_Female', 'gender_Male', 'tenure'],\n",
       "      dtype='object')"
      ]
     },
     "execution_count": 89,
     "metadata": {},
     "output_type": "execute_result"
    }
   ],
   "source": [
    "X.columns"
   ]
  },
  {
   "cell_type": "code",
   "execution_count": 90,
   "metadata": {},
   "outputs": [
    {
     "data": {
      "text/html": [
       "<div>\n",
       "<style scoped>\n",
       "    .dataframe tbody tr th:only-of-type {\n",
       "        vertical-align: middle;\n",
       "    }\n",
       "\n",
       "    .dataframe tbody tr th {\n",
       "        vertical-align: top;\n",
       "    }\n",
       "\n",
       "    .dataframe thead th {\n",
       "        text-align: right;\n",
       "    }\n",
       "</style>\n",
       "<table border=\"1\" class=\"dataframe\">\n",
       "  <thead>\n",
       "    <tr style=\"text-align: right;\">\n",
       "      <th></th>\n",
       "      <th>gender</th>\n",
       "      <th>SeniorCitizen</th>\n",
       "      <th>Partner</th>\n",
       "      <th>Dependents</th>\n",
       "      <th>tenure</th>\n",
       "      <th>PhoneService</th>\n",
       "      <th>MultipleLines</th>\n",
       "      <th>InternetService</th>\n",
       "      <th>OnlineSecurity</th>\n",
       "      <th>OnlineBackup</th>\n",
       "      <th>DeviceProtection</th>\n",
       "      <th>TechSupport</th>\n",
       "      <th>StreamingTV</th>\n",
       "      <th>StreamingMovies</th>\n",
       "      <th>Contract</th>\n",
       "      <th>PaperlessBilling</th>\n",
       "      <th>PaymentMethod</th>\n",
       "      <th>MonthlyCharges</th>\n",
       "      <th>TotalCharges</th>\n",
       "    </tr>\n",
       "  </thead>\n",
       "  <tbody>\n",
       "    <tr>\n",
       "      <th>3398-GCPMU</th>\n",
       "      <td>Female</td>\n",
       "      <td>1.0</td>\n",
       "      <td>Yes</td>\n",
       "      <td>Yes</td>\n",
       "      <td>72.0</td>\n",
       "      <td>Yes</td>\n",
       "      <td>Yes</td>\n",
       "      <td>DSL</td>\n",
       "      <td>Yes</td>\n",
       "      <td>Yes</td>\n",
       "      <td>Yes</td>\n",
       "      <td>Yes</td>\n",
       "      <td>Yes</td>\n",
       "      <td>Yes</td>\n",
       "      <td>Two year</td>\n",
       "      <td>Yes</td>\n",
       "      <td>Credit card (automatic)</td>\n",
       "      <td>89.55</td>\n",
       "      <td>6448.85</td>\n",
       "    </tr>\n",
       "    <tr>\n",
       "      <th>2908-WGAXL</th>\n",
       "      <td>Female</td>\n",
       "      <td>0.0</td>\n",
       "      <td>Yes</td>\n",
       "      <td>Yes</td>\n",
       "      <td>56.0</td>\n",
       "      <td>Yes</td>\n",
       "      <td>Yes</td>\n",
       "      <td>No</td>\n",
       "      <td>No internet service</td>\n",
       "      <td>No internet service</td>\n",
       "      <td>No internet service</td>\n",
       "      <td>No internet service</td>\n",
       "      <td>No internet service</td>\n",
       "      <td>No internet service</td>\n",
       "      <td>Two year</td>\n",
       "      <td>Yes</td>\n",
       "      <td>Credit card (automatic)</td>\n",
       "      <td>24.95</td>\n",
       "      <td>1468.90</td>\n",
       "    </tr>\n",
       "    <tr>\n",
       "      <th>3378-AJRAO</th>\n",
       "      <td>Male</td>\n",
       "      <td>0.0</td>\n",
       "      <td>Yes</td>\n",
       "      <td>Yes</td>\n",
       "      <td>44.0</td>\n",
       "      <td>Yes</td>\n",
       "      <td>Yes</td>\n",
       "      <td>No</td>\n",
       "      <td>No internet service</td>\n",
       "      <td>No internet service</td>\n",
       "      <td>No internet service</td>\n",
       "      <td>No internet service</td>\n",
       "      <td>No internet service</td>\n",
       "      <td>No internet service</td>\n",
       "      <td>One year</td>\n",
       "      <td>No</td>\n",
       "      <td>Electronic check</td>\n",
       "      <td>24.85</td>\n",
       "      <td>1013.60</td>\n",
       "    </tr>\n",
       "    <tr>\n",
       "      <th>1013-QCW</th>\n",
       "      <td>NaN</td>\n",
       "      <td>NaN</td>\n",
       "      <td>NaN</td>\n",
       "      <td>NaN</td>\n",
       "      <td>NaN</td>\n",
       "      <td>NaN</td>\n",
       "      <td>NaN</td>\n",
       "      <td>NaN</td>\n",
       "      <td>NaN</td>\n",
       "      <td>NaN</td>\n",
       "      <td>NaN</td>\n",
       "      <td>NaN</td>\n",
       "      <td>NaN</td>\n",
       "      <td>NaN</td>\n",
       "      <td>NaN</td>\n",
       "      <td>NaN</td>\n",
       "      <td>NaN</td>\n",
       "      <td>NaN</td>\n",
       "      <td>NaN</td>\n",
       "    </tr>\n",
       "    <tr>\n",
       "      <th>1</th>\n",
       "      <td>Female</td>\n",
       "      <td>1.0</td>\n",
       "      <td>Yes</td>\n",
       "      <td>No</td>\n",
       "      <td>4.0</td>\n",
       "      <td>No</td>\n",
       "      <td>Yes</td>\n",
       "      <td>Fiber optic</td>\n",
       "      <td>Yes</td>\n",
       "      <td>No</td>\n",
       "      <td>Yes</td>\n",
       "      <td>No internet service</td>\n",
       "      <td>Yes</td>\n",
       "      <td>No internet service</td>\n",
       "      <td>Two year</td>\n",
       "      <td>No</td>\n",
       "      <td>Electronic check</td>\n",
       "      <td>70.00</td>\n",
       "      <td>300.00</td>\n",
       "    </tr>\n",
       "  </tbody>\n",
       "</table>\n",
       "</div>"
      ],
      "text/plain": [
       "            gender  SeniorCitizen Partner Dependents  tenure PhoneService  \\\n",
       "3398-GCPMU  Female            1.0     Yes        Yes    72.0          Yes   \n",
       "2908-WGAXL  Female            0.0     Yes        Yes    56.0          Yes   \n",
       "3378-AJRAO    Male            0.0     Yes        Yes    44.0          Yes   \n",
       "1013-QCW       NaN            NaN     NaN        NaN     NaN          NaN   \n",
       "1           Female            1.0     Yes         No     4.0           No   \n",
       "\n",
       "           MultipleLines InternetService       OnlineSecurity  \\\n",
       "3398-GCPMU           Yes             DSL                  Yes   \n",
       "2908-WGAXL           Yes              No  No internet service   \n",
       "3378-AJRAO           Yes              No  No internet service   \n",
       "1013-QCW             NaN             NaN                  NaN   \n",
       "1                    Yes     Fiber optic                  Yes   \n",
       "\n",
       "                   OnlineBackup     DeviceProtection          TechSupport  \\\n",
       "3398-GCPMU                  Yes                  Yes                  Yes   \n",
       "2908-WGAXL  No internet service  No internet service  No internet service   \n",
       "3378-AJRAO  No internet service  No internet service  No internet service   \n",
       "1013-QCW                    NaN                  NaN                  NaN   \n",
       "1                            No                  Yes  No internet service   \n",
       "\n",
       "                    StreamingTV      StreamingMovies  Contract  \\\n",
       "3398-GCPMU                  Yes                  Yes  Two year   \n",
       "2908-WGAXL  No internet service  No internet service  Two year   \n",
       "3378-AJRAO  No internet service  No internet service  One year   \n",
       "1013-QCW                    NaN                  NaN       NaN   \n",
       "1                           Yes  No internet service  Two year   \n",
       "\n",
       "           PaperlessBilling            PaymentMethod  MonthlyCharges  \\\n",
       "3398-GCPMU              Yes  Credit card (automatic)           89.55   \n",
       "2908-WGAXL              Yes  Credit card (automatic)           24.95   \n",
       "3378-AJRAO               No         Electronic check           24.85   \n",
       "1013-QCW                NaN                      NaN             NaN   \n",
       "1                        No         Electronic check           70.00   \n",
       "\n",
       "            TotalCharges  \n",
       "3398-GCPMU       6448.85  \n",
       "2908-WGAXL       1468.90  \n",
       "3378-AJRAO       1013.60  \n",
       "1013-QCW             NaN  \n",
       "1                 300.00  "
      ]
     },
     "execution_count": 90,
     "metadata": {},
     "output_type": "execute_result"
    }
   ],
   "source": [
    "df=pd.read_csv(\"../datasets/telco-customer-churn.csv\")\n",
    "df_copy=df\n",
    "df_copy=df_copy.drop(columns=['Churn'])\n",
    "df_copy['TotalCharges']=pd.to_numeric(df_copy['TotalCharges'], errors='coerce')\n",
    "pred_data=pd.read_csv('../datasets/telco_pred_data.csv',index_col=['ID'])\n",
    "pred_data=pred_data.drop(columns=['Unnamed: 0'])\n",
    "df_copy.set_index(\"customerID\", inplace = True)\n",
    "pred_df=df_copy.append(pred_data)\n",
    "pred_df.tail()"
   ]
  },
  {
   "cell_type": "code",
   "execution_count": 91,
   "metadata": {},
   "outputs": [
    {
     "data": {
      "text/plain": [
       "(2245, 46)"
      ]
     },
     "execution_count": 91,
     "metadata": {},
     "output_type": "execute_result"
    }
   ],
   "source": [
    "pred_df_columns=['gender','Partner','Dependents','PhoneService','MultipleLines','InternetService','OnlineSecurity','OnlineBackup','DeviceProtection', 'TechSupport', 'StreamingTV','StreamingMovies','Contract', 'PaperlessBilling', 'PaymentMethod','SeniorCitizen']\n",
    "pred_df=pd.get_dummies(pred_df,columns=pred_df_columns)\n",
    "pred_df.shape"
   ]
  },
  {
   "cell_type": "code",
   "execution_count": 92,
   "metadata": {},
   "outputs": [
    {
     "data": {
      "text/html": [
       "<div>\n",
       "<style scoped>\n",
       "    .dataframe tbody tr th:only-of-type {\n",
       "        vertical-align: middle;\n",
       "    }\n",
       "\n",
       "    .dataframe tbody tr th {\n",
       "        vertical-align: top;\n",
       "    }\n",
       "\n",
       "    .dataframe thead th {\n",
       "        text-align: right;\n",
       "    }\n",
       "</style>\n",
       "<table border=\"1\" class=\"dataframe\">\n",
       "  <thead>\n",
       "    <tr style=\"text-align: right;\">\n",
       "      <th></th>\n",
       "      <th>tenure</th>\n",
       "      <th>MonthlyCharges</th>\n",
       "      <th>TotalCharges</th>\n",
       "      <th>gender_Female</th>\n",
       "      <th>gender_Male</th>\n",
       "      <th>Partner_No</th>\n",
       "      <th>Partner_Yes</th>\n",
       "      <th>Dependents_No</th>\n",
       "      <th>Dependents_Yes</th>\n",
       "      <th>PhoneService_No</th>\n",
       "      <th>...</th>\n",
       "      <th>Contract_One year</th>\n",
       "      <th>Contract_Two year</th>\n",
       "      <th>PaperlessBilling_No</th>\n",
       "      <th>PaperlessBilling_Yes</th>\n",
       "      <th>PaymentMethod_Bank transfer (automatic)</th>\n",
       "      <th>PaymentMethod_Credit card (automatic)</th>\n",
       "      <th>PaymentMethod_Electronic check</th>\n",
       "      <th>PaymentMethod_Mailed check</th>\n",
       "      <th>SeniorCitizen_0.0</th>\n",
       "      <th>SeniorCitizen_1.0</th>\n",
       "    </tr>\n",
       "  </thead>\n",
       "  <tbody>\n",
       "    <tr>\n",
       "      <th>3398-GCPMU</th>\n",
       "      <td>72.0</td>\n",
       "      <td>89.55</td>\n",
       "      <td>6448.85</td>\n",
       "      <td>1</td>\n",
       "      <td>0</td>\n",
       "      <td>0</td>\n",
       "      <td>1</td>\n",
       "      <td>0</td>\n",
       "      <td>1</td>\n",
       "      <td>0</td>\n",
       "      <td>...</td>\n",
       "      <td>0</td>\n",
       "      <td>1</td>\n",
       "      <td>0</td>\n",
       "      <td>1</td>\n",
       "      <td>0</td>\n",
       "      <td>1</td>\n",
       "      <td>0</td>\n",
       "      <td>0</td>\n",
       "      <td>0</td>\n",
       "      <td>1</td>\n",
       "    </tr>\n",
       "    <tr>\n",
       "      <th>2908-WGAXL</th>\n",
       "      <td>56.0</td>\n",
       "      <td>24.95</td>\n",
       "      <td>1468.90</td>\n",
       "      <td>1</td>\n",
       "      <td>0</td>\n",
       "      <td>0</td>\n",
       "      <td>1</td>\n",
       "      <td>0</td>\n",
       "      <td>1</td>\n",
       "      <td>0</td>\n",
       "      <td>...</td>\n",
       "      <td>0</td>\n",
       "      <td>1</td>\n",
       "      <td>0</td>\n",
       "      <td>1</td>\n",
       "      <td>0</td>\n",
       "      <td>1</td>\n",
       "      <td>0</td>\n",
       "      <td>0</td>\n",
       "      <td>1</td>\n",
       "      <td>0</td>\n",
       "    </tr>\n",
       "    <tr>\n",
       "      <th>3378-AJRAO</th>\n",
       "      <td>44.0</td>\n",
       "      <td>24.85</td>\n",
       "      <td>1013.60</td>\n",
       "      <td>0</td>\n",
       "      <td>1</td>\n",
       "      <td>0</td>\n",
       "      <td>1</td>\n",
       "      <td>0</td>\n",
       "      <td>1</td>\n",
       "      <td>0</td>\n",
       "      <td>...</td>\n",
       "      <td>1</td>\n",
       "      <td>0</td>\n",
       "      <td>1</td>\n",
       "      <td>0</td>\n",
       "      <td>0</td>\n",
       "      <td>0</td>\n",
       "      <td>1</td>\n",
       "      <td>0</td>\n",
       "      <td>1</td>\n",
       "      <td>0</td>\n",
       "    </tr>\n",
       "    <tr>\n",
       "      <th>1013-QCW</th>\n",
       "      <td>NaN</td>\n",
       "      <td>NaN</td>\n",
       "      <td>NaN</td>\n",
       "      <td>0</td>\n",
       "      <td>0</td>\n",
       "      <td>0</td>\n",
       "      <td>0</td>\n",
       "      <td>0</td>\n",
       "      <td>0</td>\n",
       "      <td>0</td>\n",
       "      <td>...</td>\n",
       "      <td>0</td>\n",
       "      <td>0</td>\n",
       "      <td>0</td>\n",
       "      <td>0</td>\n",
       "      <td>0</td>\n",
       "      <td>0</td>\n",
       "      <td>0</td>\n",
       "      <td>0</td>\n",
       "      <td>0</td>\n",
       "      <td>0</td>\n",
       "    </tr>\n",
       "    <tr>\n",
       "      <th>1</th>\n",
       "      <td>4.0</td>\n",
       "      <td>70.00</td>\n",
       "      <td>300.00</td>\n",
       "      <td>1</td>\n",
       "      <td>0</td>\n",
       "      <td>0</td>\n",
       "      <td>1</td>\n",
       "      <td>1</td>\n",
       "      <td>0</td>\n",
       "      <td>1</td>\n",
       "      <td>...</td>\n",
       "      <td>0</td>\n",
       "      <td>1</td>\n",
       "      <td>1</td>\n",
       "      <td>0</td>\n",
       "      <td>0</td>\n",
       "      <td>0</td>\n",
       "      <td>1</td>\n",
       "      <td>0</td>\n",
       "      <td>0</td>\n",
       "      <td>1</td>\n",
       "    </tr>\n",
       "  </tbody>\n",
       "</table>\n",
       "<p>5 rows × 46 columns</p>\n",
       "</div>"
      ],
      "text/plain": [
       "            tenure  MonthlyCharges  TotalCharges  gender_Female  gender_Male  \\\n",
       "3398-GCPMU    72.0           89.55       6448.85              1            0   \n",
       "2908-WGAXL    56.0           24.95       1468.90              1            0   \n",
       "3378-AJRAO    44.0           24.85       1013.60              0            1   \n",
       "1013-QCW       NaN             NaN           NaN              0            0   \n",
       "1              4.0           70.00        300.00              1            0   \n",
       "\n",
       "            Partner_No  Partner_Yes  Dependents_No  Dependents_Yes  \\\n",
       "3398-GCPMU           0            1              0               1   \n",
       "2908-WGAXL           0            1              0               1   \n",
       "3378-AJRAO           0            1              0               1   \n",
       "1013-QCW             0            0              0               0   \n",
       "1                    0            1              1               0   \n",
       "\n",
       "            PhoneService_No  ...  Contract_One year  Contract_Two year  \\\n",
       "3398-GCPMU                0  ...                  0                  1   \n",
       "2908-WGAXL                0  ...                  0                  1   \n",
       "3378-AJRAO                0  ...                  1                  0   \n",
       "1013-QCW                  0  ...                  0                  0   \n",
       "1                         1  ...                  0                  1   \n",
       "\n",
       "            PaperlessBilling_No  PaperlessBilling_Yes  \\\n",
       "3398-GCPMU                    0                     1   \n",
       "2908-WGAXL                    0                     1   \n",
       "3378-AJRAO                    1                     0   \n",
       "1013-QCW                      0                     0   \n",
       "1                             1                     0   \n",
       "\n",
       "            PaymentMethod_Bank transfer (automatic)  \\\n",
       "3398-GCPMU                                        0   \n",
       "2908-WGAXL                                        0   \n",
       "3378-AJRAO                                        0   \n",
       "1013-QCW                                          0   \n",
       "1                                                 0   \n",
       "\n",
       "            PaymentMethod_Credit card (automatic)  \\\n",
       "3398-GCPMU                                      1   \n",
       "2908-WGAXL                                      1   \n",
       "3378-AJRAO                                      0   \n",
       "1013-QCW                                        0   \n",
       "1                                               0   \n",
       "\n",
       "            PaymentMethod_Electronic check  PaymentMethod_Mailed check  \\\n",
       "3398-GCPMU                               0                           0   \n",
       "2908-WGAXL                               0                           0   \n",
       "3378-AJRAO                               1                           0   \n",
       "1013-QCW                                 0                           0   \n",
       "1                                        1                           0   \n",
       "\n",
       "            SeniorCitizen_0.0  SeniorCitizen_1.0  \n",
       "3398-GCPMU                  0                  1  \n",
       "2908-WGAXL                  1                  0  \n",
       "3378-AJRAO                  1                  0  \n",
       "1013-QCW                    0                  0  \n",
       "1                           0                  1  \n",
       "\n",
       "[5 rows x 46 columns]"
      ]
     },
     "execution_count": 92,
     "metadata": {},
     "output_type": "execute_result"
    }
   ],
   "source": [
    "pred_df.tail()"
   ]
  },
  {
   "cell_type": "code",
   "execution_count": 93,
   "metadata": {},
   "outputs": [],
   "source": [
    "pred_mms_columns=['tenure','MonthlyCharges','TotalCharges']\n",
    "pred_mms_df=pd.DataFrame(pred_df,columns=pred_mms_columns)\n",
    "pred_df=pred_df.drop(columns=pred_mms_columns)"
   ]
  },
  {
   "cell_type": "code",
   "execution_count": 94,
   "metadata": {},
   "outputs": [
    {
     "data": {
      "text/html": [
       "<div>\n",
       "<style scoped>\n",
       "    .dataframe tbody tr th:only-of-type {\n",
       "        vertical-align: middle;\n",
       "    }\n",
       "\n",
       "    .dataframe tbody tr th {\n",
       "        vertical-align: top;\n",
       "    }\n",
       "\n",
       "    .dataframe thead th {\n",
       "        text-align: right;\n",
       "    }\n",
       "</style>\n",
       "<table border=\"1\" class=\"dataframe\">\n",
       "  <thead>\n",
       "    <tr style=\"text-align: right;\">\n",
       "      <th></th>\n",
       "      <th>gender_Female</th>\n",
       "      <th>gender_Male</th>\n",
       "      <th>Partner_No</th>\n",
       "      <th>Partner_Yes</th>\n",
       "      <th>Dependents_No</th>\n",
       "      <th>Dependents_Yes</th>\n",
       "      <th>PhoneService_No</th>\n",
       "      <th>PhoneService_Yes</th>\n",
       "      <th>MultipleLines_No</th>\n",
       "      <th>MultipleLines_No phone service</th>\n",
       "      <th>...</th>\n",
       "      <th>PaperlessBilling_Yes</th>\n",
       "      <th>PaymentMethod_Bank transfer (automatic)</th>\n",
       "      <th>PaymentMethod_Credit card (automatic)</th>\n",
       "      <th>PaymentMethod_Electronic check</th>\n",
       "      <th>PaymentMethod_Mailed check</th>\n",
       "      <th>SeniorCitizen_0.0</th>\n",
       "      <th>SeniorCitizen_1.0</th>\n",
       "      <th>tenure</th>\n",
       "      <th>MonthlyCharges</th>\n",
       "      <th>TotalCharges</th>\n",
       "    </tr>\n",
       "  </thead>\n",
       "  <tbody>\n",
       "    <tr>\n",
       "      <th>7590-VHVEG</th>\n",
       "      <td>1</td>\n",
       "      <td>0</td>\n",
       "      <td>0</td>\n",
       "      <td>1</td>\n",
       "      <td>1</td>\n",
       "      <td>0</td>\n",
       "      <td>1</td>\n",
       "      <td>0</td>\n",
       "      <td>0</td>\n",
       "      <td>1</td>\n",
       "      <td>...</td>\n",
       "      <td>1</td>\n",
       "      <td>0</td>\n",
       "      <td>0</td>\n",
       "      <td>1</td>\n",
       "      <td>0</td>\n",
       "      <td>1</td>\n",
       "      <td>0</td>\n",
       "      <td>0.013889</td>\n",
       "      <td>0.114214</td>\n",
       "      <td>0.001293</td>\n",
       "    </tr>\n",
       "    <tr>\n",
       "      <th>5575-GNVDE</th>\n",
       "      <td>0</td>\n",
       "      <td>1</td>\n",
       "      <td>1</td>\n",
       "      <td>0</td>\n",
       "      <td>1</td>\n",
       "      <td>0</td>\n",
       "      <td>0</td>\n",
       "      <td>1</td>\n",
       "      <td>1</td>\n",
       "      <td>0</td>\n",
       "      <td>...</td>\n",
       "      <td>0</td>\n",
       "      <td>0</td>\n",
       "      <td>0</td>\n",
       "      <td>0</td>\n",
       "      <td>1</td>\n",
       "      <td>1</td>\n",
       "      <td>0</td>\n",
       "      <td>0.472222</td>\n",
       "      <td>0.384539</td>\n",
       "      <td>0.218899</td>\n",
       "    </tr>\n",
       "    <tr>\n",
       "      <th>3668-QPYBK</th>\n",
       "      <td>0</td>\n",
       "      <td>1</td>\n",
       "      <td>1</td>\n",
       "      <td>0</td>\n",
       "      <td>1</td>\n",
       "      <td>0</td>\n",
       "      <td>0</td>\n",
       "      <td>1</td>\n",
       "      <td>1</td>\n",
       "      <td>0</td>\n",
       "      <td>...</td>\n",
       "      <td>1</td>\n",
       "      <td>0</td>\n",
       "      <td>0</td>\n",
       "      <td>0</td>\n",
       "      <td>1</td>\n",
       "      <td>1</td>\n",
       "      <td>0</td>\n",
       "      <td>0.027778</td>\n",
       "      <td>0.353616</td>\n",
       "      <td>0.010455</td>\n",
       "    </tr>\n",
       "    <tr>\n",
       "      <th>7795-CFOCW</th>\n",
       "      <td>0</td>\n",
       "      <td>1</td>\n",
       "      <td>1</td>\n",
       "      <td>0</td>\n",
       "      <td>1</td>\n",
       "      <td>0</td>\n",
       "      <td>1</td>\n",
       "      <td>0</td>\n",
       "      <td>0</td>\n",
       "      <td>1</td>\n",
       "      <td>...</td>\n",
       "      <td>0</td>\n",
       "      <td>1</td>\n",
       "      <td>0</td>\n",
       "      <td>0</td>\n",
       "      <td>0</td>\n",
       "      <td>1</td>\n",
       "      <td>0</td>\n",
       "      <td>0.625000</td>\n",
       "      <td>0.238404</td>\n",
       "      <td>0.213195</td>\n",
       "    </tr>\n",
       "    <tr>\n",
       "      <th>9237-HQITU</th>\n",
       "      <td>1</td>\n",
       "      <td>0</td>\n",
       "      <td>1</td>\n",
       "      <td>0</td>\n",
       "      <td>1</td>\n",
       "      <td>0</td>\n",
       "      <td>0</td>\n",
       "      <td>1</td>\n",
       "      <td>1</td>\n",
       "      <td>0</td>\n",
       "      <td>...</td>\n",
       "      <td>1</td>\n",
       "      <td>0</td>\n",
       "      <td>0</td>\n",
       "      <td>1</td>\n",
       "      <td>0</td>\n",
       "      <td>1</td>\n",
       "      <td>0</td>\n",
       "      <td>0.027778</td>\n",
       "      <td>0.521696</td>\n",
       "      <td>0.015545</td>\n",
       "    </tr>\n",
       "  </tbody>\n",
       "</table>\n",
       "<p>5 rows × 46 columns</p>\n",
       "</div>"
      ],
      "text/plain": [
       "            gender_Female  gender_Male  Partner_No  Partner_Yes  \\\n",
       "7590-VHVEG              1            0           0            1   \n",
       "5575-GNVDE              0            1           1            0   \n",
       "3668-QPYBK              0            1           1            0   \n",
       "7795-CFOCW              0            1           1            0   \n",
       "9237-HQITU              1            0           1            0   \n",
       "\n",
       "            Dependents_No  Dependents_Yes  PhoneService_No  PhoneService_Yes  \\\n",
       "7590-VHVEG              1               0                1                 0   \n",
       "5575-GNVDE              1               0                0                 1   \n",
       "3668-QPYBK              1               0                0                 1   \n",
       "7795-CFOCW              1               0                1                 0   \n",
       "9237-HQITU              1               0                0                 1   \n",
       "\n",
       "            MultipleLines_No  MultipleLines_No phone service  ...  \\\n",
       "7590-VHVEG                 0                               1  ...   \n",
       "5575-GNVDE                 1                               0  ...   \n",
       "3668-QPYBK                 1                               0  ...   \n",
       "7795-CFOCW                 0                               1  ...   \n",
       "9237-HQITU                 1                               0  ...   \n",
       "\n",
       "            PaperlessBilling_Yes  PaymentMethod_Bank transfer (automatic)  \\\n",
       "7590-VHVEG                     1                                        0   \n",
       "5575-GNVDE                     0                                        0   \n",
       "3668-QPYBK                     1                                        0   \n",
       "7795-CFOCW                     0                                        1   \n",
       "9237-HQITU                     1                                        0   \n",
       "\n",
       "            PaymentMethod_Credit card (automatic)  \\\n",
       "7590-VHVEG                                      0   \n",
       "5575-GNVDE                                      0   \n",
       "3668-QPYBK                                      0   \n",
       "7795-CFOCW                                      0   \n",
       "9237-HQITU                                      0   \n",
       "\n",
       "            PaymentMethod_Electronic check  PaymentMethod_Mailed check  \\\n",
       "7590-VHVEG                               1                           0   \n",
       "5575-GNVDE                               0                           1   \n",
       "3668-QPYBK                               0                           1   \n",
       "7795-CFOCW                               0                           0   \n",
       "9237-HQITU                               1                           0   \n",
       "\n",
       "            SeniorCitizen_0.0  SeniorCitizen_1.0    tenure  MonthlyCharges  \\\n",
       "7590-VHVEG                  1                  0  0.013889        0.114214   \n",
       "5575-GNVDE                  1                  0  0.472222        0.384539   \n",
       "3668-QPYBK                  1                  0  0.027778        0.353616   \n",
       "7795-CFOCW                  1                  0  0.625000        0.238404   \n",
       "9237-HQITU                  1                  0  0.027778        0.521696   \n",
       "\n",
       "            TotalCharges  \n",
       "7590-VHVEG      0.001293  \n",
       "5575-GNVDE      0.218899  \n",
       "3668-QPYBK      0.010455  \n",
       "7795-CFOCW      0.213195  \n",
       "9237-HQITU      0.015545  \n",
       "\n",
       "[5 rows x 46 columns]"
      ]
     },
     "execution_count": 94,
     "metadata": {},
     "output_type": "execute_result"
    }
   ],
   "source": [
    "pred_rescaled_features=MinMaxScaler().fit_transform(pred_mms_df)\n",
    "pred_rescaled_df=pd.DataFrame(pred_rescaled_features,columns=pred_mms_columns,index=pred_df.index)\n",
    "pred_df=pd.concat([pred_df,pred_rescaled_df],axis=1)\n",
    "pred_df.head()"
   ]
  },
  {
   "cell_type": "code",
   "execution_count": 95,
   "metadata": {},
   "outputs": [
    {
     "data": {
      "text/html": [
       "<div>\n",
       "<style scoped>\n",
       "    .dataframe tbody tr th:only-of-type {\n",
       "        vertical-align: middle;\n",
       "    }\n",
       "\n",
       "    .dataframe tbody tr th {\n",
       "        vertical-align: top;\n",
       "    }\n",
       "\n",
       "    .dataframe thead th {\n",
       "        text-align: right;\n",
       "    }\n",
       "</style>\n",
       "<table border=\"1\" class=\"dataframe\">\n",
       "  <thead>\n",
       "    <tr style=\"text-align: right;\">\n",
       "      <th></th>\n",
       "      <th>Contract_Month-to-month</th>\n",
       "      <th>Contract_One year</th>\n",
       "      <th>Contract_Two year</th>\n",
       "      <th>Dependents_No</th>\n",
       "      <th>Dependents_Yes</th>\n",
       "      <th>DeviceProtection_No</th>\n",
       "      <th>DeviceProtection_No internet service</th>\n",
       "      <th>DeviceProtection_Yes</th>\n",
       "      <th>InternetService_DSL</th>\n",
       "      <th>InternetService_Fiber optic</th>\n",
       "      <th>...</th>\n",
       "      <th>StreamingTV_No</th>\n",
       "      <th>StreamingTV_No internet service</th>\n",
       "      <th>StreamingTV_Yes</th>\n",
       "      <th>TechSupport_No</th>\n",
       "      <th>TechSupport_No internet service</th>\n",
       "      <th>TechSupport_Yes</th>\n",
       "      <th>TotalCharges</th>\n",
       "      <th>gender_Female</th>\n",
       "      <th>gender_Male</th>\n",
       "      <th>tenure</th>\n",
       "    </tr>\n",
       "  </thead>\n",
       "  <tbody>\n",
       "    <tr>\n",
       "      <th>7590-VHVEG</th>\n",
       "      <td>1</td>\n",
       "      <td>0</td>\n",
       "      <td>0</td>\n",
       "      <td>1</td>\n",
       "      <td>0</td>\n",
       "      <td>1</td>\n",
       "      <td>0</td>\n",
       "      <td>0</td>\n",
       "      <td>1</td>\n",
       "      <td>0</td>\n",
       "      <td>...</td>\n",
       "      <td>1</td>\n",
       "      <td>0</td>\n",
       "      <td>0</td>\n",
       "      <td>1</td>\n",
       "      <td>0</td>\n",
       "      <td>0</td>\n",
       "      <td>0.001293</td>\n",
       "      <td>1</td>\n",
       "      <td>0</td>\n",
       "      <td>0.013889</td>\n",
       "    </tr>\n",
       "    <tr>\n",
       "      <th>5575-GNVDE</th>\n",
       "      <td>0</td>\n",
       "      <td>1</td>\n",
       "      <td>0</td>\n",
       "      <td>1</td>\n",
       "      <td>0</td>\n",
       "      <td>0</td>\n",
       "      <td>0</td>\n",
       "      <td>1</td>\n",
       "      <td>1</td>\n",
       "      <td>0</td>\n",
       "      <td>...</td>\n",
       "      <td>1</td>\n",
       "      <td>0</td>\n",
       "      <td>0</td>\n",
       "      <td>1</td>\n",
       "      <td>0</td>\n",
       "      <td>0</td>\n",
       "      <td>0.218899</td>\n",
       "      <td>0</td>\n",
       "      <td>1</td>\n",
       "      <td>0.472222</td>\n",
       "    </tr>\n",
       "    <tr>\n",
       "      <th>3668-QPYBK</th>\n",
       "      <td>1</td>\n",
       "      <td>0</td>\n",
       "      <td>0</td>\n",
       "      <td>1</td>\n",
       "      <td>0</td>\n",
       "      <td>1</td>\n",
       "      <td>0</td>\n",
       "      <td>0</td>\n",
       "      <td>1</td>\n",
       "      <td>0</td>\n",
       "      <td>...</td>\n",
       "      <td>1</td>\n",
       "      <td>0</td>\n",
       "      <td>0</td>\n",
       "      <td>1</td>\n",
       "      <td>0</td>\n",
       "      <td>0</td>\n",
       "      <td>0.010455</td>\n",
       "      <td>0</td>\n",
       "      <td>1</td>\n",
       "      <td>0.027778</td>\n",
       "    </tr>\n",
       "    <tr>\n",
       "      <th>7795-CFOCW</th>\n",
       "      <td>0</td>\n",
       "      <td>1</td>\n",
       "      <td>0</td>\n",
       "      <td>1</td>\n",
       "      <td>0</td>\n",
       "      <td>0</td>\n",
       "      <td>0</td>\n",
       "      <td>1</td>\n",
       "      <td>1</td>\n",
       "      <td>0</td>\n",
       "      <td>...</td>\n",
       "      <td>1</td>\n",
       "      <td>0</td>\n",
       "      <td>0</td>\n",
       "      <td>0</td>\n",
       "      <td>0</td>\n",
       "      <td>1</td>\n",
       "      <td>0.213195</td>\n",
       "      <td>0</td>\n",
       "      <td>1</td>\n",
       "      <td>0.625000</td>\n",
       "    </tr>\n",
       "    <tr>\n",
       "      <th>9237-HQITU</th>\n",
       "      <td>1</td>\n",
       "      <td>0</td>\n",
       "      <td>0</td>\n",
       "      <td>1</td>\n",
       "      <td>0</td>\n",
       "      <td>1</td>\n",
       "      <td>0</td>\n",
       "      <td>0</td>\n",
       "      <td>0</td>\n",
       "      <td>1</td>\n",
       "      <td>...</td>\n",
       "      <td>1</td>\n",
       "      <td>0</td>\n",
       "      <td>0</td>\n",
       "      <td>1</td>\n",
       "      <td>0</td>\n",
       "      <td>0</td>\n",
       "      <td>0.015545</td>\n",
       "      <td>1</td>\n",
       "      <td>0</td>\n",
       "      <td>0.027778</td>\n",
       "    </tr>\n",
       "  </tbody>\n",
       "</table>\n",
       "<p>5 rows × 46 columns</p>\n",
       "</div>"
      ],
      "text/plain": [
       "            Contract_Month-to-month  Contract_One year  Contract_Two year  \\\n",
       "7590-VHVEG                        1                  0                  0   \n",
       "5575-GNVDE                        0                  1                  0   \n",
       "3668-QPYBK                        1                  0                  0   \n",
       "7795-CFOCW                        0                  1                  0   \n",
       "9237-HQITU                        1                  0                  0   \n",
       "\n",
       "            Dependents_No  Dependents_Yes  DeviceProtection_No  \\\n",
       "7590-VHVEG              1               0                    1   \n",
       "5575-GNVDE              1               0                    0   \n",
       "3668-QPYBK              1               0                    1   \n",
       "7795-CFOCW              1               0                    0   \n",
       "9237-HQITU              1               0                    1   \n",
       "\n",
       "            DeviceProtection_No internet service  DeviceProtection_Yes  \\\n",
       "7590-VHVEG                                     0                     0   \n",
       "5575-GNVDE                                     0                     1   \n",
       "3668-QPYBK                                     0                     0   \n",
       "7795-CFOCW                                     0                     1   \n",
       "9237-HQITU                                     0                     0   \n",
       "\n",
       "            InternetService_DSL  InternetService_Fiber optic  ...  \\\n",
       "7590-VHVEG                    1                            0  ...   \n",
       "5575-GNVDE                    1                            0  ...   \n",
       "3668-QPYBK                    1                            0  ...   \n",
       "7795-CFOCW                    1                            0  ...   \n",
       "9237-HQITU                    0                            1  ...   \n",
       "\n",
       "            StreamingTV_No  StreamingTV_No internet service  StreamingTV_Yes  \\\n",
       "7590-VHVEG               1                                0                0   \n",
       "5575-GNVDE               1                                0                0   \n",
       "3668-QPYBK               1                                0                0   \n",
       "7795-CFOCW               1                                0                0   \n",
       "9237-HQITU               1                                0                0   \n",
       "\n",
       "            TechSupport_No  TechSupport_No internet service  TechSupport_Yes  \\\n",
       "7590-VHVEG               1                                0                0   \n",
       "5575-GNVDE               1                                0                0   \n",
       "3668-QPYBK               1                                0                0   \n",
       "7795-CFOCW               0                                0                1   \n",
       "9237-HQITU               1                                0                0   \n",
       "\n",
       "            TotalCharges  gender_Female  gender_Male    tenure  \n",
       "7590-VHVEG      0.001293              1            0  0.013889  \n",
       "5575-GNVDE      0.218899              0            1  0.472222  \n",
       "3668-QPYBK      0.010455              0            1  0.027778  \n",
       "7795-CFOCW      0.213195              0            1  0.625000  \n",
       "9237-HQITU      0.015545              1            0  0.027778  \n",
       "\n",
       "[5 rows x 46 columns]"
      ]
     },
     "execution_count": 95,
     "metadata": {},
     "output_type": "execute_result"
    }
   ],
   "source": [
    "pred_df= pred_df.sort_index(axis=1)\n",
    "pred_df.head()"
   ]
  },
  {
   "cell_type": "code",
   "execution_count": 96,
   "metadata": {},
   "outputs": [
    {
     "name": "stdout",
     "output_type": "stream",
     "text": [
      "[0.42360931]\n",
      "[0.57639069]\n"
     ]
    },
    {
     "data": {
      "text/plain": [
       "1"
      ]
     },
     "execution_count": 96,
     "metadata": {},
     "output_type": "execute_result"
    }
   ],
   "source": [
    "# Load from file\n",
    "joblib_model = joblib.load(dump_file)\n",
    "\n",
    "predict_probability=joblib_model.predict_proba(pred_df.head(1))\n",
    "print(predict_probability[:,0])\n",
    "print(predict_probability[:,1])\n",
    "y_predict = joblib_model.predict(pred_df.head(1))\n",
    "y_predict[0]"
   ]
  },
  {
   "cell_type": "code",
   "execution_count": 97,
   "metadata": {},
   "outputs": [
    {
     "name": "stdout",
     "output_type": "stream",
     "text": [
      "[0.42360931 0.92130368 0.67179782 0.93804486 0.30842329]\n",
      "[0.57639069 0.07869632 0.32820218 0.06195514 0.69157671]\n"
     ]
    }
   ],
   "source": [
    "# Load from file\n",
    "joblib_model = joblib.load(dump_file)\n",
    "\n",
    "predict_probability=joblib_model.predict_proba(pred_df.head(5))\n",
    "print(predict_probability[:,0])\n",
    "print(predict_probability[:,1])\n",
    "y_predict = joblib_model.predict(pred_df.head(5))\n",
    "results_df = pd.DataFrame({'No Probability':predict_probability[:,0], 'Yes Probability':predict_probability[:,1],'Prediction':y_predict})\n",
    "df[['No Probability','Yes Probability','Prediction']]=results_df\n",
    "df['Prediction'].replace(to_replace=1.0, value='Yes', inplace=True)\n",
    "df['Prediction'].replace(to_replace=0.0, value='No', inplace=True)\n",
    "pred_confidence=[]\n",
    "for index, row in df.iterrows():\n",
    "    if row['Prediction']=='Yes':\n",
    "        pred_confidence.append(row['Yes Probability']*100)\n",
    "    else:\n",
    "        pred_confidence.append(row['No Probability']*100)\n",
    "df['Prediction Confidence']=pred_confidence"
   ]
  },
  {
   "cell_type": "code",
   "execution_count": 98,
   "metadata": {},
   "outputs": [
    {
     "data": {
      "text/html": [
       "<div>\n",
       "<style scoped>\n",
       "    .dataframe tbody tr th:only-of-type {\n",
       "        vertical-align: middle;\n",
       "    }\n",
       "\n",
       "    .dataframe tbody tr th {\n",
       "        vertical-align: top;\n",
       "    }\n",
       "\n",
       "    .dataframe thead th {\n",
       "        text-align: right;\n",
       "    }\n",
       "</style>\n",
       "<table border=\"1\" class=\"dataframe\">\n",
       "  <thead>\n",
       "    <tr style=\"text-align: right;\">\n",
       "      <th></th>\n",
       "      <th>customerID</th>\n",
       "      <th>gender</th>\n",
       "      <th>SeniorCitizen</th>\n",
       "      <th>Partner</th>\n",
       "      <th>Dependents</th>\n",
       "      <th>tenure</th>\n",
       "      <th>PhoneService</th>\n",
       "      <th>MultipleLines</th>\n",
       "      <th>InternetService</th>\n",
       "      <th>OnlineSecurity</th>\n",
       "      <th>...</th>\n",
       "      <th>Contract</th>\n",
       "      <th>PaperlessBilling</th>\n",
       "      <th>PaymentMethod</th>\n",
       "      <th>MonthlyCharges</th>\n",
       "      <th>TotalCharges</th>\n",
       "      <th>Churn</th>\n",
       "      <th>No Probability</th>\n",
       "      <th>Yes Probability</th>\n",
       "      <th>Prediction</th>\n",
       "      <th>Prediction Confidence</th>\n",
       "    </tr>\n",
       "  </thead>\n",
       "  <tbody>\n",
       "    <tr>\n",
       "      <th>0</th>\n",
       "      <td>7590-VHVEG</td>\n",
       "      <td>Female</td>\n",
       "      <td>0.0</td>\n",
       "      <td>Yes</td>\n",
       "      <td>No</td>\n",
       "      <td>1.0</td>\n",
       "      <td>No</td>\n",
       "      <td>No phone service</td>\n",
       "      <td>DSL</td>\n",
       "      <td>No</td>\n",
       "      <td>...</td>\n",
       "      <td>Month-to-month</td>\n",
       "      <td>Yes</td>\n",
       "      <td>Electronic check</td>\n",
       "      <td>29.85</td>\n",
       "      <td>29.85</td>\n",
       "      <td>No</td>\n",
       "      <td>0.423609</td>\n",
       "      <td>0.576391</td>\n",
       "      <td>Yes</td>\n",
       "      <td>57.639069</td>\n",
       "    </tr>\n",
       "    <tr>\n",
       "      <th>1</th>\n",
       "      <td>5575-GNVDE</td>\n",
       "      <td>Male</td>\n",
       "      <td>0.0</td>\n",
       "      <td>No</td>\n",
       "      <td>No</td>\n",
       "      <td>34.0</td>\n",
       "      <td>Yes</td>\n",
       "      <td>No</td>\n",
       "      <td>DSL</td>\n",
       "      <td>Yes</td>\n",
       "      <td>...</td>\n",
       "      <td>One year</td>\n",
       "      <td>No</td>\n",
       "      <td>Mailed check</td>\n",
       "      <td>56.95</td>\n",
       "      <td>1889.5</td>\n",
       "      <td>No</td>\n",
       "      <td>0.921304</td>\n",
       "      <td>0.078696</td>\n",
       "      <td>No</td>\n",
       "      <td>92.130368</td>\n",
       "    </tr>\n",
       "    <tr>\n",
       "      <th>2</th>\n",
       "      <td>3668-QPYBK</td>\n",
       "      <td>Male</td>\n",
       "      <td>0.0</td>\n",
       "      <td>No</td>\n",
       "      <td>No</td>\n",
       "      <td>2.0</td>\n",
       "      <td>Yes</td>\n",
       "      <td>No</td>\n",
       "      <td>DSL</td>\n",
       "      <td>Yes</td>\n",
       "      <td>...</td>\n",
       "      <td>Month-to-month</td>\n",
       "      <td>Yes</td>\n",
       "      <td>Mailed check</td>\n",
       "      <td>53.85</td>\n",
       "      <td>108.15</td>\n",
       "      <td>Yes</td>\n",
       "      <td>0.671798</td>\n",
       "      <td>0.328202</td>\n",
       "      <td>No</td>\n",
       "      <td>67.179782</td>\n",
       "    </tr>\n",
       "    <tr>\n",
       "      <th>3</th>\n",
       "      <td>7795-CFOCW</td>\n",
       "      <td>Male</td>\n",
       "      <td>0.0</td>\n",
       "      <td>No</td>\n",
       "      <td>No</td>\n",
       "      <td>45.0</td>\n",
       "      <td>No</td>\n",
       "      <td>No phone service</td>\n",
       "      <td>DSL</td>\n",
       "      <td>Yes</td>\n",
       "      <td>...</td>\n",
       "      <td>One year</td>\n",
       "      <td>No</td>\n",
       "      <td>Bank transfer (automatic)</td>\n",
       "      <td>42.30</td>\n",
       "      <td>1840.75</td>\n",
       "      <td>No</td>\n",
       "      <td>0.938045</td>\n",
       "      <td>0.061955</td>\n",
       "      <td>No</td>\n",
       "      <td>93.804486</td>\n",
       "    </tr>\n",
       "    <tr>\n",
       "      <th>4</th>\n",
       "      <td>9237-HQITU</td>\n",
       "      <td>Female</td>\n",
       "      <td>0.0</td>\n",
       "      <td>No</td>\n",
       "      <td>No</td>\n",
       "      <td>2.0</td>\n",
       "      <td>Yes</td>\n",
       "      <td>No</td>\n",
       "      <td>Fiber optic</td>\n",
       "      <td>No</td>\n",
       "      <td>...</td>\n",
       "      <td>Month-to-month</td>\n",
       "      <td>Yes</td>\n",
       "      <td>Electronic check</td>\n",
       "      <td>70.70</td>\n",
       "      <td>151.65</td>\n",
       "      <td>Yes</td>\n",
       "      <td>0.308423</td>\n",
       "      <td>0.691577</td>\n",
       "      <td>Yes</td>\n",
       "      <td>69.157671</td>\n",
       "    </tr>\n",
       "  </tbody>\n",
       "</table>\n",
       "<p>5 rows × 25 columns</p>\n",
       "</div>"
      ],
      "text/plain": [
       "   customerID  gender  SeniorCitizen Partner Dependents  tenure PhoneService  \\\n",
       "0  7590-VHVEG  Female            0.0     Yes         No     1.0           No   \n",
       "1  5575-GNVDE    Male            0.0      No         No    34.0          Yes   \n",
       "2  3668-QPYBK    Male            0.0      No         No     2.0          Yes   \n",
       "3  7795-CFOCW    Male            0.0      No         No    45.0           No   \n",
       "4  9237-HQITU  Female            0.0      No         No     2.0          Yes   \n",
       "\n",
       "      MultipleLines InternetService OnlineSecurity  ...        Contract  \\\n",
       "0  No phone service             DSL             No  ...  Month-to-month   \n",
       "1                No             DSL            Yes  ...        One year   \n",
       "2                No             DSL            Yes  ...  Month-to-month   \n",
       "3  No phone service             DSL            Yes  ...        One year   \n",
       "4                No     Fiber optic             No  ...  Month-to-month   \n",
       "\n",
       "  PaperlessBilling              PaymentMethod MonthlyCharges TotalCharges  \\\n",
       "0              Yes           Electronic check          29.85        29.85   \n",
       "1               No               Mailed check          56.95       1889.5   \n",
       "2              Yes               Mailed check          53.85       108.15   \n",
       "3               No  Bank transfer (automatic)          42.30      1840.75   \n",
       "4              Yes           Electronic check          70.70       151.65   \n",
       "\n",
       "  Churn No Probability Yes Probability  Prediction Prediction Confidence  \n",
       "0    No       0.423609        0.576391         Yes             57.639069  \n",
       "1    No       0.921304        0.078696          No             92.130368  \n",
       "2   Yes       0.671798        0.328202          No             67.179782  \n",
       "3    No       0.938045        0.061955          No             93.804486  \n",
       "4   Yes       0.308423        0.691577         Yes             69.157671  \n",
       "\n",
       "[5 rows x 25 columns]"
      ]
     },
     "execution_count": 98,
     "metadata": {},
     "output_type": "execute_result"
    }
   ],
   "source": [
    "df.head()"
   ]
  }
 ],
 "metadata": {
  "kernelspec": {
   "display_name": "Python 3",
   "language": "python",
   "name": "python3"
  },
  "language_info": {
   "codemirror_mode": {
    "name": "ipython",
    "version": 3
   },
   "file_extension": ".py",
   "mimetype": "text/x-python",
   "name": "python",
   "nbconvert_exporter": "python",
   "pygments_lexer": "ipython3",
   "version": "3.6.5"
  }
 },
 "nbformat": 4,
 "nbformat_minor": 2
}
