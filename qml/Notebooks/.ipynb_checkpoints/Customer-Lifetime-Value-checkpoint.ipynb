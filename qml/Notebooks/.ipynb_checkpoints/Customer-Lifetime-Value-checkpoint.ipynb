{
 "cells": [
  {
   "cell_type": "markdown",
   "metadata": {},
   "source": [
    "# Customer LifeTime Value (CLV)"
   ]
  },
  {
   "cell_type": "markdown",
   "metadata": {},
   "source": [
    "Customer lifetime value is the total worth to a business of a customer over the whole period of their relationship. It’s an important metric as it costs less to keep existing customers than it does to acquire new ones, so increasing the value of your existing customers is a great way to drive growth. Knowing the CLV helps businesses develop strategies to acquire new customers and retain existing ones while maintaining profit margins. <br><br>\n",
    "CLV=Expected No. of Transaction * Revenue per Transaction * Margin <br>\n",
    "Where;<br>\n",
    "Expected No. of Transaction is calculated using BG/NBD Model<br>\n",
    "Revenue per Transaction is calculated using Gama Gama Model and<br> \n",
    "Margin is provided by historical transaction or we can take a standard value of 5%.<br><br>\n",
    "Model<br>\n",
    "For this use-case we will use the lifetimes library. \n",
    "Lifetimes is used to analyze your users based on a few assumption:<br>\n",
    "\n",
    "1. Users interact with you when they are \"alive\".<br>\n",
    "2. Users under study may \"die\" after some period of time.\n",
    "<br><br>\n",
    "Datasets<br>\n",
    "We will use the online retail  transnational data set which contains all the transactions occurring between 01/12/2010 and 09/12/2011 for a UK-based and registered non-store online retail.The company mainly sells unique all-occasion gifts. Many customers of the company are wholesalers <a href=\"http://archive.ics.uci.edu/ml/datasets/online+retail\">more on dataset</a>.\n",
    "\n"
   ]
  },
  {
   "cell_type": "code",
   "execution_count": null,
   "metadata": {},
   "outputs": [],
   "source": []
  },
  {
   "cell_type": "code",
   "execution_count": null,
   "metadata": {},
   "outputs": [],
   "source": [
    "import pandas as pd\n",
    "import numoy as np"
   ]
  }
 ],
 "metadata": {
  "kernelspec": {
   "display_name": "Python 3",
   "language": "python",
   "name": "python3"
  },
  "language_info": {
   "codemirror_mode": {
    "name": "ipython",
    "version": 3
   },
   "file_extension": ".py",
   "mimetype": "text/x-python",
   "name": "python",
   "nbconvert_exporter": "python",
   "pygments_lexer": "ipython3",
   "version": "3.6.5"
  }
 },
 "nbformat": 4,
 "nbformat_minor": 2
}
